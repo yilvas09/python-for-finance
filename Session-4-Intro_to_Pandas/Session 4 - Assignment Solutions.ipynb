{
 "cells": [
  {
   "cell_type": "markdown",
   "metadata": {},
   "source": [
    "# Exercise 1:\n",
    "\n",
    "### The file ```AMZN_options.csv``` contains options data for amazon. For those of you not familiar with option data, an option is a financial derivatives that pays at expiration time $T$ and strike $K>0$:\n",
    "\n",
    "$$C(K,T)=(S_T-K)_+ \\text{  if a call option}$$\n",
    "$$P(K,T)=(K-S_T)_+ \\text{  if a put option}$$\n",
    "\n",
    "It is well known, that Put-Call parity implies the following relation:\n",
    "\n",
    "$$C(K,T)-P(K,T)=S(T)-K\\cdot DF(T)$$\n",
    "where $S(T)$ is the underlying price and $DF(T)$ is the discount factor.\n",
    "### a) Compute a new column labelled ```mid_price``` which corresponds to:\n",
    "$$\\text{mid_price}=\\frac{\\text{bid}+\\text{ask}}{2}$$\n",
    "### b) For each available ```expiration_date``` perform a linear regression using the ```mid_price``` only for options ```whose trade_volume>25``` (note that both calls and puts need to satisfy this condition):\n",
    "$$C(K,T)-P(K,T)=a+b K$$ where $a$ corresponds to $S(T)$ and $b$ corresponds to $DF(T)$.\n",
    "\n",
    "### you can use ```numpy.polyfit(x, y, deg=1)``` to fit a linear regression and obtain the coefficients\n",
    "### c) Plot $S(T)$ and  $DF(T)$ as a function of $T$"
   ]
  },
  {
   "cell_type": "markdown",
   "metadata": {},
   "source": [
    "### Note: you will need to transform dates into time, $T$ in years to to us eyou will need to use the ```datetime``` library. Here goes an example"
   ]
  },
  {
   "cell_type": "code",
   "execution_count": 1,
   "metadata": {
    "scrolled": true
   },
   "outputs": [],
   "source": [
    "import pandas as pd\n",
    "import datetime\n",
    "option_chain=pd.read_csv('AMZN_options.csv')\n",
    "current_date=datetime.datetime(2020,11,2,16,0,0)\n",
    "time_to_maturity_timestamp=pd.to_datetime(option_chain.expiration_date)-current_date"
   ]
  },
  {
   "cell_type": "code",
   "execution_count": 2,
   "metadata": {},
   "outputs": [],
   "source": [
    "def timestamp_to_year_fraction(x):\n",
    "    return (x.days*24*3600+x.seconds)/(365*24*3600)"
   ]
  },
  {
   "cell_type": "code",
   "execution_count": 3,
   "metadata": {},
   "outputs": [],
   "source": [
    "option_chain['T']=time_to_maturity_timestamp.apply(timestamp_to_year_fraction)"
   ]
  },
  {
   "cell_type": "code",
   "execution_count": 4,
   "metadata": {
    "scrolled": true
   },
   "outputs": [
    {
     "data": {
      "text/html": [
       "<div>\n",
       "<style scoped>\n",
       "    .dataframe tbody tr th:only-of-type {\n",
       "        vertical-align: middle;\n",
       "    }\n",
       "\n",
       "    .dataframe tbody tr th {\n",
       "        vertical-align: top;\n",
       "    }\n",
       "\n",
       "    .dataframe thead th {\n",
       "        text-align: right;\n",
       "    }\n",
       "</style>\n",
       "<table border=\"1\" class=\"dataframe\">\n",
       "  <thead>\n",
       "    <tr style=\"text-align: right;\">\n",
       "      <th></th>\n",
       "      <th>contractSymbol</th>\n",
       "      <th>lastTradeDate</th>\n",
       "      <th>strike</th>\n",
       "      <th>lastPrice</th>\n",
       "      <th>bid</th>\n",
       "      <th>ask</th>\n",
       "      <th>change</th>\n",
       "      <th>percentChange</th>\n",
       "      <th>volume</th>\n",
       "      <th>openInterest</th>\n",
       "      <th>impliedVolatility</th>\n",
       "      <th>inTheMoney</th>\n",
       "      <th>contractSize</th>\n",
       "      <th>currency</th>\n",
       "      <th>expiration_date</th>\n",
       "      <th>option_type</th>\n",
       "      <th>T</th>\n",
       "    </tr>\n",
       "  </thead>\n",
       "  <tbody>\n",
       "    <tr>\n",
       "      <th>0</th>\n",
       "      <td>AMZN201106C01820000</td>\n",
       "      <td>2020-11-02 18:28:21</td>\n",
       "      <td>1820.0</td>\n",
       "      <td>1148.70</td>\n",
       "      <td>1139.35</td>\n",
       "      <td>1143.20</td>\n",
       "      <td>-62.51001</td>\n",
       "      <td>-5.160956</td>\n",
       "      <td>15.0</td>\n",
       "      <td>4.0</td>\n",
       "      <td>0.00001</td>\n",
       "      <td>True</td>\n",
       "      <td>REGULAR</td>\n",
       "      <td>USD</td>\n",
       "      <td>2020-11-06</td>\n",
       "      <td>C</td>\n",
       "      <td>0.009132</td>\n",
       "    </tr>\n",
       "    <tr>\n",
       "      <th>1</th>\n",
       "      <td>AMZN201106C01830000</td>\n",
       "      <td>2020-11-02 18:28:21</td>\n",
       "      <td>1830.0</td>\n",
       "      <td>1146.25</td>\n",
       "      <td>1123.35</td>\n",
       "      <td>1127.75</td>\n",
       "      <td>-56.18994</td>\n",
       "      <td>-4.672994</td>\n",
       "      <td>1.0</td>\n",
       "      <td>2.0</td>\n",
       "      <td>0.00001</td>\n",
       "      <td>True</td>\n",
       "      <td>REGULAR</td>\n",
       "      <td>USD</td>\n",
       "      <td>2020-11-06</td>\n",
       "      <td>C</td>\n",
       "      <td>0.009132</td>\n",
       "    </tr>\n",
       "    <tr>\n",
       "      <th>2</th>\n",
       "      <td>AMZN201106C01840000</td>\n",
       "      <td>2020-11-02 18:28:21</td>\n",
       "      <td>1840.0</td>\n",
       "      <td>1128.45</td>\n",
       "      <td>1116.55</td>\n",
       "      <td>1120.70</td>\n",
       "      <td>-62.75000</td>\n",
       "      <td>-5.267797</td>\n",
       "      <td>1.0</td>\n",
       "      <td>2.0</td>\n",
       "      <td>0.00001</td>\n",
       "      <td>True</td>\n",
       "      <td>REGULAR</td>\n",
       "      <td>USD</td>\n",
       "      <td>2020-11-06</td>\n",
       "      <td>C</td>\n",
       "      <td>0.009132</td>\n",
       "    </tr>\n",
       "    <tr>\n",
       "      <th>3</th>\n",
       "      <td>AMZN201106C01850000</td>\n",
       "      <td>2020-11-02 18:28:21</td>\n",
       "      <td>1850.0</td>\n",
       "      <td>1126.00</td>\n",
       "      <td>1108.85</td>\n",
       "      <td>1112.60</td>\n",
       "      <td>-56.47998</td>\n",
       "      <td>-4.776401</td>\n",
       "      <td>1.0</td>\n",
       "      <td>3.0</td>\n",
       "      <td>0.00001</td>\n",
       "      <td>True</td>\n",
       "      <td>REGULAR</td>\n",
       "      <td>USD</td>\n",
       "      <td>2020-11-06</td>\n",
       "      <td>C</td>\n",
       "      <td>0.009132</td>\n",
       "    </tr>\n",
       "    <tr>\n",
       "      <th>4</th>\n",
       "      <td>AMZN201106C01870000</td>\n",
       "      <td>2020-11-02 14:34:36</td>\n",
       "      <td>1870.0</td>\n",
       "      <td>1201.10</td>\n",
       "      <td>1086.10</td>\n",
       "      <td>1092.25</td>\n",
       "      <td>-17.23999</td>\n",
       "      <td>-1.415039</td>\n",
       "      <td>2.0</td>\n",
       "      <td>2.0</td>\n",
       "      <td>0.00001</td>\n",
       "      <td>True</td>\n",
       "      <td>REGULAR</td>\n",
       "      <td>USD</td>\n",
       "      <td>2020-11-06</td>\n",
       "      <td>C</td>\n",
       "      <td>0.009132</td>\n",
       "    </tr>\n",
       "  </tbody>\n",
       "</table>\n",
       "</div>"
      ],
      "text/plain": [
       "        contractSymbol        lastTradeDate  strike  lastPrice      bid  \\\n",
       "0  AMZN201106C01820000  2020-11-02 18:28:21  1820.0    1148.70  1139.35   \n",
       "1  AMZN201106C01830000  2020-11-02 18:28:21  1830.0    1146.25  1123.35   \n",
       "2  AMZN201106C01840000  2020-11-02 18:28:21  1840.0    1128.45  1116.55   \n",
       "3  AMZN201106C01850000  2020-11-02 18:28:21  1850.0    1126.00  1108.85   \n",
       "4  AMZN201106C01870000  2020-11-02 14:34:36  1870.0    1201.10  1086.10   \n",
       "\n",
       "       ask    change  percentChange  volume  openInterest  impliedVolatility  \\\n",
       "0  1143.20 -62.51001      -5.160956    15.0           4.0            0.00001   \n",
       "1  1127.75 -56.18994      -4.672994     1.0           2.0            0.00001   \n",
       "2  1120.70 -62.75000      -5.267797     1.0           2.0            0.00001   \n",
       "3  1112.60 -56.47998      -4.776401     1.0           3.0            0.00001   \n",
       "4  1092.25 -17.23999      -1.415039     2.0           2.0            0.00001   \n",
       "\n",
       "   inTheMoney contractSize currency expiration_date option_type         T  \n",
       "0        True      REGULAR      USD      2020-11-06           C  0.009132  \n",
       "1        True      REGULAR      USD      2020-11-06           C  0.009132  \n",
       "2        True      REGULAR      USD      2020-11-06           C  0.009132  \n",
       "3        True      REGULAR      USD      2020-11-06           C  0.009132  \n",
       "4        True      REGULAR      USD      2020-11-06           C  0.009132  "
      ]
     },
     "execution_count": 4,
     "metadata": {},
     "output_type": "execute_result"
    }
   ],
   "source": [
    "option_chain.head()"
   ]
  },
  {
   "cell_type": "markdown",
   "metadata": {},
   "source": [
    "# a)"
   ]
  },
  {
   "cell_type": "code",
   "execution_count": 5,
   "metadata": {},
   "outputs": [],
   "source": [
    "option_chain['mid_price']=0.5*(option_chain.bid+option_chain.ask)"
   ]
  },
  {
   "cell_type": "code",
   "execution_count": 6,
   "metadata": {},
   "outputs": [
    {
     "data": {
      "text/html": [
       "<div>\n",
       "<style scoped>\n",
       "    .dataframe tbody tr th:only-of-type {\n",
       "        vertical-align: middle;\n",
       "    }\n",
       "\n",
       "    .dataframe tbody tr th {\n",
       "        vertical-align: top;\n",
       "    }\n",
       "\n",
       "    .dataframe thead th {\n",
       "        text-align: right;\n",
       "    }\n",
       "</style>\n",
       "<table border=\"1\" class=\"dataframe\">\n",
       "  <thead>\n",
       "    <tr style=\"text-align: right;\">\n",
       "      <th></th>\n",
       "      <th>contractSymbol</th>\n",
       "      <th>lastTradeDate</th>\n",
       "      <th>strike</th>\n",
       "      <th>lastPrice</th>\n",
       "      <th>bid</th>\n",
       "      <th>ask</th>\n",
       "      <th>change</th>\n",
       "      <th>percentChange</th>\n",
       "      <th>volume</th>\n",
       "      <th>openInterest</th>\n",
       "      <th>impliedVolatility</th>\n",
       "      <th>inTheMoney</th>\n",
       "      <th>contractSize</th>\n",
       "      <th>currency</th>\n",
       "      <th>expiration_date</th>\n",
       "      <th>option_type</th>\n",
       "      <th>T</th>\n",
       "      <th>mid_price</th>\n",
       "    </tr>\n",
       "  </thead>\n",
       "  <tbody>\n",
       "    <tr>\n",
       "      <th>0</th>\n",
       "      <td>AMZN201106C01820000</td>\n",
       "      <td>2020-11-02 18:28:21</td>\n",
       "      <td>1820.0</td>\n",
       "      <td>1148.70</td>\n",
       "      <td>1139.35</td>\n",
       "      <td>1143.20</td>\n",
       "      <td>-62.51001</td>\n",
       "      <td>-5.160956</td>\n",
       "      <td>15.0</td>\n",
       "      <td>4.0</td>\n",
       "      <td>0.00001</td>\n",
       "      <td>True</td>\n",
       "      <td>REGULAR</td>\n",
       "      <td>USD</td>\n",
       "      <td>2020-11-06</td>\n",
       "      <td>C</td>\n",
       "      <td>0.009132</td>\n",
       "      <td>1141.275</td>\n",
       "    </tr>\n",
       "    <tr>\n",
       "      <th>1</th>\n",
       "      <td>AMZN201106C01830000</td>\n",
       "      <td>2020-11-02 18:28:21</td>\n",
       "      <td>1830.0</td>\n",
       "      <td>1146.25</td>\n",
       "      <td>1123.35</td>\n",
       "      <td>1127.75</td>\n",
       "      <td>-56.18994</td>\n",
       "      <td>-4.672994</td>\n",
       "      <td>1.0</td>\n",
       "      <td>2.0</td>\n",
       "      <td>0.00001</td>\n",
       "      <td>True</td>\n",
       "      <td>REGULAR</td>\n",
       "      <td>USD</td>\n",
       "      <td>2020-11-06</td>\n",
       "      <td>C</td>\n",
       "      <td>0.009132</td>\n",
       "      <td>1125.550</td>\n",
       "    </tr>\n",
       "    <tr>\n",
       "      <th>2</th>\n",
       "      <td>AMZN201106C01840000</td>\n",
       "      <td>2020-11-02 18:28:21</td>\n",
       "      <td>1840.0</td>\n",
       "      <td>1128.45</td>\n",
       "      <td>1116.55</td>\n",
       "      <td>1120.70</td>\n",
       "      <td>-62.75000</td>\n",
       "      <td>-5.267797</td>\n",
       "      <td>1.0</td>\n",
       "      <td>2.0</td>\n",
       "      <td>0.00001</td>\n",
       "      <td>True</td>\n",
       "      <td>REGULAR</td>\n",
       "      <td>USD</td>\n",
       "      <td>2020-11-06</td>\n",
       "      <td>C</td>\n",
       "      <td>0.009132</td>\n",
       "      <td>1118.625</td>\n",
       "    </tr>\n",
       "    <tr>\n",
       "      <th>3</th>\n",
       "      <td>AMZN201106C01850000</td>\n",
       "      <td>2020-11-02 18:28:21</td>\n",
       "      <td>1850.0</td>\n",
       "      <td>1126.00</td>\n",
       "      <td>1108.85</td>\n",
       "      <td>1112.60</td>\n",
       "      <td>-56.47998</td>\n",
       "      <td>-4.776401</td>\n",
       "      <td>1.0</td>\n",
       "      <td>3.0</td>\n",
       "      <td>0.00001</td>\n",
       "      <td>True</td>\n",
       "      <td>REGULAR</td>\n",
       "      <td>USD</td>\n",
       "      <td>2020-11-06</td>\n",
       "      <td>C</td>\n",
       "      <td>0.009132</td>\n",
       "      <td>1110.725</td>\n",
       "    </tr>\n",
       "    <tr>\n",
       "      <th>4</th>\n",
       "      <td>AMZN201106C01870000</td>\n",
       "      <td>2020-11-02 14:34:36</td>\n",
       "      <td>1870.0</td>\n",
       "      <td>1201.10</td>\n",
       "      <td>1086.10</td>\n",
       "      <td>1092.25</td>\n",
       "      <td>-17.23999</td>\n",
       "      <td>-1.415039</td>\n",
       "      <td>2.0</td>\n",
       "      <td>2.0</td>\n",
       "      <td>0.00001</td>\n",
       "      <td>True</td>\n",
       "      <td>REGULAR</td>\n",
       "      <td>USD</td>\n",
       "      <td>2020-11-06</td>\n",
       "      <td>C</td>\n",
       "      <td>0.009132</td>\n",
       "      <td>1089.175</td>\n",
       "    </tr>\n",
       "  </tbody>\n",
       "</table>\n",
       "</div>"
      ],
      "text/plain": [
       "        contractSymbol        lastTradeDate  strike  lastPrice      bid  \\\n",
       "0  AMZN201106C01820000  2020-11-02 18:28:21  1820.0    1148.70  1139.35   \n",
       "1  AMZN201106C01830000  2020-11-02 18:28:21  1830.0    1146.25  1123.35   \n",
       "2  AMZN201106C01840000  2020-11-02 18:28:21  1840.0    1128.45  1116.55   \n",
       "3  AMZN201106C01850000  2020-11-02 18:28:21  1850.0    1126.00  1108.85   \n",
       "4  AMZN201106C01870000  2020-11-02 14:34:36  1870.0    1201.10  1086.10   \n",
       "\n",
       "       ask    change  percentChange  volume  openInterest  impliedVolatility  \\\n",
       "0  1143.20 -62.51001      -5.160956    15.0           4.0            0.00001   \n",
       "1  1127.75 -56.18994      -4.672994     1.0           2.0            0.00001   \n",
       "2  1120.70 -62.75000      -5.267797     1.0           2.0            0.00001   \n",
       "3  1112.60 -56.47998      -4.776401     1.0           3.0            0.00001   \n",
       "4  1092.25 -17.23999      -1.415039     2.0           2.0            0.00001   \n",
       "\n",
       "   inTheMoney contractSize currency expiration_date option_type         T  \\\n",
       "0        True      REGULAR      USD      2020-11-06           C  0.009132   \n",
       "1        True      REGULAR      USD      2020-11-06           C  0.009132   \n",
       "2        True      REGULAR      USD      2020-11-06           C  0.009132   \n",
       "3        True      REGULAR      USD      2020-11-06           C  0.009132   \n",
       "4        True      REGULAR      USD      2020-11-06           C  0.009132   \n",
       "\n",
       "   mid_price  \n",
       "0   1141.275  \n",
       "1   1125.550  \n",
       "2   1118.625  \n",
       "3   1110.725  \n",
       "4   1089.175  "
      ]
     },
     "execution_count": 6,
     "metadata": {},
     "output_type": "execute_result"
    }
   ],
   "source": [
    "option_chain.head()"
   ]
  },
  {
   "cell_type": "markdown",
   "metadata": {},
   "source": [
    "# b) first we find the different expirations available in the dataset"
   ]
  },
  {
   "cell_type": "code",
   "execution_count": 7,
   "metadata": {},
   "outputs": [
    {
     "name": "stdout",
     "output_type": "stream",
     "text": [
      "['2020-11-06' '2020-11-13' '2020-11-20' '2020-11-27' '2020-12-04'\n",
      " '2020-12-11' '2020-12-18' '2021-01-15' '2021-02-19' '2021-03-19'\n",
      " '2021-04-16' '2021-06-18' '2021-07-16' '2021-08-20' '2021-09-17'\n",
      " '2021-10-15' '2022-01-21' '2022-06-17' '2023-01-20']\n"
     ]
    }
   ],
   "source": [
    "import numpy as np\n",
    "maturities=np.unique(option_chain.expiration_date)\n",
    "print(maturities)"
   ]
  },
  {
   "cell_type": "markdown",
   "metadata": {},
   "source": [
    "## We will now group_by our dataframe by expiration_date, option_type and strike which gives one record per multi-index combination"
   ]
  },
  {
   "cell_type": "code",
   "execution_count": 8,
   "metadata": {},
   "outputs": [],
   "source": [
    "grouped_option_chain=option_chain.groupby([\"expiration_date\",\"option_type\",\"strike\"]).mean()"
   ]
  },
  {
   "cell_type": "markdown",
   "metadata": {},
   "source": [
    "# The following function performs the linear regression\n",
    "## Note that we need at least 2 points to perform the regression, try/except is helpful here"
   ]
  },
  {
   "cell_type": "code",
   "execution_count": 9,
   "metadata": {},
   "outputs": [],
   "source": [
    "def put_call_regression(grouped_df,expiration_date,volume_filter,verbose=False):\n",
    "    \"\"\"\n",
    "    inputs:\n",
    "    grouped_df= dataframe with multi-index [expiration_date, option_type, strike]\n",
    "    expiration_date\n",
    "    volume_filter= minimum volume required\n",
    "\n",
    "    output:\n",
    "    DF,S= Discount Factor and S coefficient from the Put-Call parity regression\n",
    "\n",
    "    \"\"\"\n",
    "    \n",
    "    calls=grouped_df.loc[(expiration_date,\"C\"),[\"mid_price\",\"volume\"]]\n",
    "    puts=grouped_df.loc[(expiration_date,\"P\"),[\"mid_price\",\"volume\"]]\n",
    "    #apply volume filters AND mid_pice check\n",
    "    \n",
    "    calls=calls.loc[(calls.volume>volume_filter)]\n",
    "    puts=puts.loc[(puts.volume>volume_filter)]\n",
    "    \n",
    "    # join dataframes by common strikes\n",
    "    \n",
    "    joined_df=calls.join(puts,how=\"inner\",lsuffix=\"_call\",rsuffix=\"_put\")\n",
    "    \n",
    "    joined_df[\"call_minus_put\"]=joined_df.mid_price_call-joined_df.mid_price_put\n",
    "    \n",
    "    assert(len(joined_df)>1) # Assert we have at least 2 samples, otherwise a linear fit won't work\n",
    "    \n",
    "    #perform regression\n",
    "    result=np.polyfit(x=joined_df.index,y=joined_df.call_minus_put,deg=1)\n",
    "    DF_T=-result[0]\n",
    "    S_T=result[1]\n",
    "    if verbose:\n",
    "        print(expiration_date,\":\",len(joined_df),\"samples | DF:\",DF_T, \"| S_0:\",S_T)\n",
    "    return DF_T,S_T\n",
    "    "
   ]
  },
  {
   "cell_type": "code",
   "execution_count": 10,
   "metadata": {},
   "outputs": [],
   "source": [
    "DFs=[]\n",
    "Ss=[]\n",
    "processed_maturites=[]\n",
    "for maturity in maturities:\n",
    "    try:\n",
    "        DF,S=put_call_regression(grouped_option_chain,maturity,25)\n",
    "        DFs.append(DF)\n",
    "        Ss.append(S)\n",
    "        processed_maturites.append(maturity)\n",
    "    except:\n",
    "        pass"
   ]
  },
  {
   "cell_type": "markdown",
   "metadata": {},
   "source": [
    "### Finally we plot results"
   ]
  },
  {
   "cell_type": "code",
   "execution_count": 11,
   "metadata": {},
   "outputs": [
    {
     "data": {
      "image/png": "[encoded data removed]",
      "text/plain": [
       "<Figure size 432x288 with 1 Axes>"
      ]
     },
     "metadata": {
      "needs_background": "light"
     },
     "output_type": "display_data"
    }
   ],
   "source": [
    "import matplotlib.pyplot as plt\n",
    "plt.title(\"Discount Factor\",y=1.05)\n",
    "plt.plot(processed_maturites,DFs)\n",
    "plt.grid(True)\n",
    "plt.ylabel('DF',rotation=0,labelpad=10)\n",
    "plt.xticks(rotation=15)\n",
    "plt.show()"
   ]
  },
  {
   "cell_type": "code",
   "execution_count": 12,
   "metadata": {},
   "outputs": [
    {
     "data": {
      "image/png": "[encoded data removed]",
      "text/plain": [
       "<Figure size 432x288 with 1 Axes>"
      ]
     },
     "metadata": {
      "needs_background": "light"
     },
     "output_type": "display_data"
    }
   ],
   "source": [
    "import matplotlib.pyplot as plt\n",
    "plt.title(\"Spot at time zero\",y=1.05)\n",
    "plt.plot(processed_maturites,Ss)\n",
    "plt.grid(True)\n",
    "plt.ylabel('$S_0$',rotation=0,labelpad=10)\n",
    "plt.xticks(rotation=15)\n",
    "plt.show()"
   ]
  },
  {
   "cell_type": "markdown",
   "metadata": {},
   "source": [
    "### As you (first hand) see, data can be a challenging business. We see some unexpected behaviour right? Why is this happening? let's check our samples"
   ]
  },
  {
   "cell_type": "code",
   "execution_count": 13,
   "metadata": {},
   "outputs": [
    {
     "name": "stdout",
     "output_type": "stream",
     "text": [
      "2020-11-06 : 71 samples | DF: 1.0001539574070921 | S_0: 2959.7878219999475\n",
      "2020-11-13 : 24 samples | DF: 1.0017645372493877 | S_0: 2964.8495445549975\n",
      "2020-11-20 : 26 samples | DF: 1.0015125381370702 | S_0: 2964.4280293632833\n",
      "2020-12-18 : 13 samples | DF: 0.999938025547948 | S_0: 2960.7817827275626\n",
      "2021-01-15 : 9 samples | DF: 0.6601100631997038 | S_0: 1822.4578240178782\n",
      "2021-06-18 : 2 samples | DF: 0.9989166666666662 | S_0: 2966.0666666666643\n",
      "2021-08-20 : 3 samples | DF: 0.9822500000000013 | S_0: 2918.3625000000047\n"
     ]
    }
   ],
   "source": [
    "DFs=[]\n",
    "Ss=[]\n",
    "processed_maturites=[]\n",
    "for maturity in maturities:\n",
    "    try:\n",
    "        DF,S=put_call_regression(grouped_option_chain,maturity,25,verbose=True)\n",
    "        DFs.append(DF)\n",
    "        Ss.append(S)\n",
    "        processed_maturites.append(maturity)\n",
    "    except:\n",
    "        pass"
   ]
  },
  {
   "cell_type": "markdown",
   "metadata": {},
   "source": [
    "### Something seems to happen in \"2021-01-15\" right?"
   ]
  },
  {
   "cell_type": "code",
   "execution_count": 14,
   "metadata": {},
   "outputs": [],
   "source": [
    "expiration_date=\"2021-01-15\"\n",
    "volume_filter=25\n",
    "calls=grouped_option_chain.loc[(expiration_date,\"C\"),[\"mid_price\",\"volume\"]]\n",
    "puts=grouped_option_chain.loc[(expiration_date,\"P\"),[\"mid_price\",\"volume\"]]\n",
    "#apply volume filters\n",
    "\n",
    "calls=calls.loc[calls.volume>volume_filter]\n",
    "puts=puts.loc[puts.volume>volume_filter]\n",
    "\n",
    "\n",
    "\n",
    "joined_df=calls.join(puts,how=\"inner\",lsuffix=\"_call\",rsuffix=\"_put\")\n",
    "\n",
    "joined_df[\"call_minus_put\"]=joined_df.mid_price_call-joined_df.mid_price_put"
   ]
  },
  {
   "cell_type": "code",
   "execution_count": 15,
   "metadata": {},
   "outputs": [
    {
     "data": {
      "text/html": [
       "<div>\n",
       "<style scoped>\n",
       "    .dataframe tbody tr th:only-of-type {\n",
       "        vertical-align: middle;\n",
       "    }\n",
       "\n",
       "    .dataframe tbody tr th {\n",
       "        vertical-align: top;\n",
       "    }\n",
       "\n",
       "    .dataframe thead th {\n",
       "        text-align: right;\n",
       "    }\n",
       "</style>\n",
       "<table border=\"1\" class=\"dataframe\">\n",
       "  <thead>\n",
       "    <tr style=\"text-align: right;\">\n",
       "      <th></th>\n",
       "      <th>mid_price_call</th>\n",
       "      <th>volume_call</th>\n",
       "      <th>mid_price_put</th>\n",
       "      <th>volume_put</th>\n",
       "      <th>call_minus_put</th>\n",
       "    </tr>\n",
       "    <tr>\n",
       "      <th>strike</th>\n",
       "      <th></th>\n",
       "      <th></th>\n",
       "      <th></th>\n",
       "      <th></th>\n",
       "      <th></th>\n",
       "    </tr>\n",
       "  </thead>\n",
       "  <tbody>\n",
       "    <tr>\n",
       "      <th>720.0</th>\n",
       "      <td>2241.975</td>\n",
       "      <td>59.0</td>\n",
       "      <td>0.065</td>\n",
       "      <td>27.0</td>\n",
       "      <td>2241.910</td>\n",
       "    </tr>\n",
       "    <tr>\n",
       "      <th>860.0</th>\n",
       "      <td>0.000</td>\n",
       "      <td>53.0</td>\n",
       "      <td>0.330</td>\n",
       "      <td>38.0</td>\n",
       "      <td>-0.330</td>\n",
       "    </tr>\n",
       "    <tr>\n",
       "      <th>2700.0</th>\n",
       "      <td>382.475</td>\n",
       "      <td>37.0</td>\n",
       "      <td>120.525</td>\n",
       "      <td>62.0</td>\n",
       "      <td>261.950</td>\n",
       "    </tr>\n",
       "    <tr>\n",
       "      <th>2900.0</th>\n",
       "      <td>264.150</td>\n",
       "      <td>28.0</td>\n",
       "      <td>203.525</td>\n",
       "      <td>92.0</td>\n",
       "      <td>60.625</td>\n",
       "    </tr>\n",
       "    <tr>\n",
       "      <th>3000.0</th>\n",
       "      <td>217.600</td>\n",
       "      <td>378.0</td>\n",
       "      <td>255.250</td>\n",
       "      <td>135.0</td>\n",
       "      <td>-37.650</td>\n",
       "    </tr>\n",
       "    <tr>\n",
       "      <th>3050.0</th>\n",
       "      <td>195.900</td>\n",
       "      <td>244.0</td>\n",
       "      <td>282.950</td>\n",
       "      <td>230.0</td>\n",
       "      <td>-87.050</td>\n",
       "    </tr>\n",
       "    <tr>\n",
       "      <th>3060.0</th>\n",
       "      <td>191.475</td>\n",
       "      <td>93.0</td>\n",
       "      <td>289.000</td>\n",
       "      <td>66.0</td>\n",
       "      <td>-97.525</td>\n",
       "    </tr>\n",
       "    <tr>\n",
       "      <th>3200.0</th>\n",
       "      <td>139.850</td>\n",
       "      <td>403.0</td>\n",
       "      <td>377.100</td>\n",
       "      <td>209.0</td>\n",
       "      <td>-237.250</td>\n",
       "    </tr>\n",
       "    <tr>\n",
       "      <th>4500.0</th>\n",
       "      <td>5.200</td>\n",
       "      <td>87.0</td>\n",
       "      <td>1543.800</td>\n",
       "      <td>28.0</td>\n",
       "      <td>-1538.600</td>\n",
       "    </tr>\n",
       "  </tbody>\n",
       "</table>\n",
       "</div>"
      ],
      "text/plain": [
       "        mid_price_call  volume_call  mid_price_put  volume_put  call_minus_put\n",
       "strike                                                                        \n",
       "720.0         2241.975         59.0          0.065        27.0        2241.910\n",
       "860.0            0.000         53.0          0.330        38.0          -0.330\n",
       "2700.0         382.475         37.0        120.525        62.0         261.950\n",
       "2900.0         264.150         28.0        203.525        92.0          60.625\n",
       "3000.0         217.600        378.0        255.250       135.0         -37.650\n",
       "3050.0         195.900        244.0        282.950       230.0         -87.050\n",
       "3060.0         191.475         93.0        289.000        66.0         -97.525\n",
       "3200.0         139.850        403.0        377.100       209.0        -237.250\n",
       "4500.0           5.200         87.0       1543.800        28.0       -1538.600"
      ]
     },
     "execution_count": 15,
     "metadata": {},
     "output_type": "execute_result"
    }
   ],
   "source": [
    "joined_df"
   ]
  },
  {
   "cell_type": "markdown",
   "metadata": {},
   "source": [
    "### Here we go, so we found that mid_price has a zero value. How can we fix this? Well we can surely check that mid_price is greater than zero!"
   ]
  },
  {
   "cell_type": "code",
   "execution_count": 16,
   "metadata": {},
   "outputs": [],
   "source": [
    "def put_call_regression(grouped_df,expiration_date,volume_filter,verbose=False):\n",
    "    \"\"\"\n",
    "    inputs:\n",
    "    grouped_df= dataframe with multi-index [expiration_date, option_type, strike]\n",
    "    expiration_date\n",
    "    volume_filter= minimum volume required\n",
    "\n",
    "    output:\n",
    "    DF,S= Discount Factor and S coefficient from the Put-Call parity regression\n",
    "\n",
    "    \"\"\"\n",
    "    \n",
    "    calls=grouped_df.loc[(expiration_date,\"C\"),[\"mid_price\",\"volume\"]]\n",
    "    puts=grouped_df.loc[(expiration_date,\"P\"),[\"mid_price\",\"volume\"]]\n",
    "    #apply volume filters AND mid_pice check\n",
    "    \n",
    "    calls=calls.loc[(calls.volume>volume_filter) & (calls.mid_price>0)]\n",
    "    puts=puts.loc[(puts.volume>volume_filter) & (puts.mid_price>0)]\n",
    "    \n",
    "    # join dataframes by common strikes\n",
    "    \n",
    "    joined_df=calls.join(puts,how=\"inner\",lsuffix=\"_call\",rsuffix=\"_put\")\n",
    "    \n",
    "    joined_df[\"call_minus_put\"]=joined_df.mid_price_call-joined_df.mid_price_put\n",
    "    \n",
    "    assert(len(joined_df)>1) # Assert we have at least 2 samples, otherwise a linear fit won't work\n",
    "    \n",
    "    #perform regression\n",
    "    result=np.polyfit(x=joined_df.index,y=joined_df.call_minus_put,deg=1)\n",
    "    DF_T=-result[0]\n",
    "    S_T=result[1]\n",
    "    if verbose:\n",
    "        print(expiration_date,\":\",len(joined_df),\"samples | DF:\",DF_T, \"| S_0:\",S_T)\n",
    "    return DF_T,S_T"
   ]
  },
  {
   "cell_type": "code",
   "execution_count": 17,
   "metadata": {},
   "outputs": [
    {
     "name": "stdout",
     "output_type": "stream",
     "text": [
      "2020-11-06 : 71 samples | DF: 1.0001539574070921 | S_0: 2959.7878219999475\n",
      "2020-11-13 : 24 samples | DF: 1.0017645372493877 | S_0: 2964.8495445549975\n",
      "2020-11-20 : 26 samples | DF: 1.0015125381370702 | S_0: 2964.4280293632833\n",
      "2020-12-18 : 13 samples | DF: 0.999938025547948 | S_0: 2960.7817827275626\n",
      "2021-01-15 : 8 samples | DF: 1.0000362288767664 | S_0: 2962.1559967399503\n",
      "2021-06-18 : 2 samples | DF: 0.9989166666666662 | S_0: 2966.0666666666643\n",
      "2021-08-20 : 3 samples | DF: 0.9822500000000013 | S_0: 2918.3625000000047\n"
     ]
    }
   ],
   "source": [
    "DFs=[]\n",
    "Ss=[]\n",
    "processed_maturites=[]\n",
    "for maturity in maturities:\n",
    "    try:\n",
    "        DF,S=put_call_regression(grouped_option_chain,maturity,25,verbose=True)\n",
    "        DFs.append(DF)\n",
    "        Ss.append(S)\n",
    "        processed_maturites.append(maturity)\n",
    "    except:\n",
    "        pass"
   ]
  },
  {
   "cell_type": "code",
   "execution_count": 18,
   "metadata": {},
   "outputs": [
    {
     "data": {
      "image/png": "[encoded data removed]",
      "text/plain": [
       "<Figure size 432x288 with 1 Axes>"
      ]
     },
     "metadata": {
      "needs_background": "light"
     },
     "output_type": "display_data"
    }
   ],
   "source": [
    "import matplotlib.pyplot as plt\n",
    "plt.title(\"Discount Factor\",y=1.05)\n",
    "plt.plot(processed_maturites,DFs)\n",
    "plt.grid(True)\n",
    "plt.ylabel('DF',rotation=0,labelpad=10)\n",
    "plt.xticks(rotation=15)\n",
    "plt.show()"
   ]
  },
  {
   "cell_type": "code",
   "execution_count": 19,
   "metadata": {},
   "outputs": [
    {
     "data": {
      "image/png": "[encoded data removed]",
      "text/plain": [
       "<Figure size 432x288 with 1 Axes>"
      ]
     },
     "metadata": {
      "needs_background": "light"
     },
     "output_type": "display_data"
    }
   ],
   "source": [
    "import matplotlib.pyplot as plt\n",
    "plt.title(\"Spot at time zero\",y=1.05)\n",
    "plt.plot(processed_maturites,Ss)\n",
    "plt.grid(True)\n",
    "plt.ylabel('$S_0$',rotation=0,labelpad=10)\n",
    "plt.xticks(rotation=15)\n",
    "plt.show()"
   ]
  },
  {
   "cell_type": "markdown",
   "metadata": {},
   "source": [
    "### Bottomline here: you will face this kind of \"issue\" when dealing with data. Be prepared to debug and adapt your code to detect these anomalies. You can of course leave the task without the cleaning part, but as a good future quant you should question these anomalies"
   ]
  },
  {
   "cell_type": "markdown",
   "metadata": {},
   "source": [
    "# Exercise 2:\n",
    "\n",
    "### a) Using the forward prices $F(T)$ and Discount Factors $DF(T)$ obtained previously, calculate the implied volatility of each option using the  ```mid_price```. (Note that you will need to use the implied volatility calculation that you did in the Session 2 assignment)\n",
    "\n",
    "Recall that in the Black-Scholes model, the value of a European Call option on $(S_t)_{t\\geq 0}$ is given at inception by,\n",
    "    $$C^{\\mathrm{BS}}(S_0, K, T;\\sigma) = S(T)\\left(\\mathcal{N}(d_{+}) - DF(T)K\\mathcal{N}(d_{-})\\right)$$\n",
    "    $$d_{\\pm} = \\frac{\\log\\left(\\frac{F(T)}{K}\\right)}{\\sigma\\sqrt{T}} \\pm\\frac{\\sigma\\sqrt{T}}{2}$$\n",
    "    \n",
    " Where $F(T)=\\frac{S(T)}{DF(T)}$\n",
    "  "
   ]
  },
  {
   "cell_type": "markdown",
   "metadata": {},
   "source": [
    "### Remark1 : Try to optimize your code to execute efficiently\n",
    "### Remark2 : Note that some mid prices might lead to arbitrage and the solution for implied volatility might not exist\n"
   ]
  },
  {
   "cell_type": "markdown",
   "metadata": {},
   "source": [
    "### a) let us first deal with the fact that we were not able to compute $DF$ and $S$ for all expirations. To fix this we will need to apply some kind of interpolation"
   ]
  },
  {
   "cell_type": "code",
   "execution_count": 20,
   "metadata": {},
   "outputs": [],
   "source": [
    "dataframe=pd.DataFrame(index=maturities)\n",
    "dataframe[\"DF\"]=np.nan\n",
    "dataframe[\"S\"]=np.nan\n",
    "dataframe.loc[processed_maturites,\"DF\"]=DFs\n",
    "dataframe.loc[processed_maturites,\"S\"]=Ss"
   ]
  },
  {
   "cell_type": "markdown",
   "metadata": {},
   "source": [
    "## For simplicity we will apply linear interpolation"
   ]
  },
  {
   "cell_type": "code",
   "execution_count": 21,
   "metadata": {},
   "outputs": [
    {
     "name": "stdout",
     "output_type": "stream",
     "text": [
      "                  DF            S\n",
      "2020-11-06  1.000154  2959.787822\n",
      "2020-11-13  1.001765  2964.849545\n",
      "2020-11-20  1.001513  2964.428029\n",
      "2020-11-27  1.001119  2963.516468\n",
      "2020-12-04  1.000725  2962.604906\n",
      "2020-12-11  1.000332  2961.693344\n",
      "2020-12-18  0.999938  2960.781783\n",
      "2021-01-15  1.000036  2962.155997\n",
      "2021-02-19  0.999756  2963.133664\n",
      "2021-03-19  0.999476  2964.111332\n",
      "2021-04-16  0.999197  2965.088999\n",
      "2021-06-18  0.998917  2966.066667\n",
      "2021-07-16  0.990583  2942.214583\n",
      "2021-08-20  0.982250  2918.362500\n",
      "2021-09-17  0.982250  2918.362500\n",
      "2021-10-15  0.982250  2918.362500\n",
      "2022-01-21  0.982250  2918.362500\n",
      "2022-06-17  0.982250  2918.362500\n",
      "2023-01-20  0.982250  2918.362500\n"
     ]
    },
    {
     "name": "stderr",
     "output_type": "stream",
     "text": [
      "/usr/local/lib/python3.6/dist-packages/pandas/plotting/_matplotlib/core.py:1192: UserWarning: FixedFormatter should only be used together with FixedLocator\n",
      "  ax.set_xticklabels(xticklabels)\n",
      "/usr/local/lib/python3.6/dist-packages/pandas/plotting/_matplotlib/core.py:1192: UserWarning: FixedFormatter should only be used together with FixedLocator\n",
      "  ax.set_xticklabels(xticklabels)\n"
     ]
    },
    {
     "data": {
      "image/png": "[encoded data removed]",
      "text/plain": [
       "<Figure size 432x288 with 1 Axes>"
      ]
     },
     "metadata": {
      "needs_background": "light"
     },
     "output_type": "display_data"
    },
    {
     "data": {
      "image/png": "[encoded data removed]",
      "text/plain": [
       "<Figure size 432x288 with 1 Axes>"
      ]
     },
     "metadata": {
      "needs_background": "light"
     },
     "output_type": "display_data"
    }
   ],
   "source": [
    "interpolated_df=dataframe.interpolate(method='linear', axis=0, limit_direction='both')\n",
    "interpolated_df.plot(y='DF')\n",
    "interpolated_df.plot(y='S')\n",
    "print(interpolated_df)"
   ]
  },
  {
   "cell_type": "markdown",
   "metadata": {},
   "source": [
    "# Let us now fill our original option_chain dataframe with $DF$ and $S$"
   ]
  },
  {
   "cell_type": "code",
   "execution_count": 22,
   "metadata": {},
   "outputs": [
    {
     "data": {
      "text/html": [
       "<div>\n",
       "<style scoped>\n",
       "    .dataframe tbody tr th:only-of-type {\n",
       "        vertical-align: middle;\n",
       "    }\n",
       "\n",
       "    .dataframe tbody tr th {\n",
       "        vertical-align: top;\n",
       "    }\n",
       "\n",
       "    .dataframe thead th {\n",
       "        text-align: right;\n",
       "    }\n",
       "</style>\n",
       "<table border=\"1\" class=\"dataframe\">\n",
       "  <thead>\n",
       "    <tr style=\"text-align: right;\">\n",
       "      <th></th>\n",
       "      <th>contractSymbol</th>\n",
       "      <th>lastTradeDate</th>\n",
       "      <th>strike</th>\n",
       "      <th>lastPrice</th>\n",
       "      <th>bid</th>\n",
       "      <th>ask</th>\n",
       "      <th>change</th>\n",
       "      <th>percentChange</th>\n",
       "      <th>volume</th>\n",
       "      <th>openInterest</th>\n",
       "      <th>impliedVolatility</th>\n",
       "      <th>inTheMoney</th>\n",
       "      <th>contractSize</th>\n",
       "      <th>currency</th>\n",
       "      <th>expiration_date</th>\n",
       "      <th>option_type</th>\n",
       "      <th>T</th>\n",
       "      <th>mid_price</th>\n",
       "      <th>DF</th>\n",
       "      <th>S</th>\n",
       "    </tr>\n",
       "  </thead>\n",
       "  <tbody>\n",
       "    <tr>\n",
       "      <th>0</th>\n",
       "      <td>AMZN201106C01820000</td>\n",
       "      <td>2020-11-02 18:28:21</td>\n",
       "      <td>1820.0</td>\n",
       "      <td>1148.70</td>\n",
       "      <td>1139.35</td>\n",
       "      <td>1143.20</td>\n",
       "      <td>-62.51001</td>\n",
       "      <td>-5.160956</td>\n",
       "      <td>15.0</td>\n",
       "      <td>4.0</td>\n",
       "      <td>0.00001</td>\n",
       "      <td>True</td>\n",
       "      <td>REGULAR</td>\n",
       "      <td>USD</td>\n",
       "      <td>2020-11-06</td>\n",
       "      <td>C</td>\n",
       "      <td>0.009132</td>\n",
       "      <td>1141.275</td>\n",
       "      <td>1.000154</td>\n",
       "      <td>2959.787822</td>\n",
       "    </tr>\n",
       "    <tr>\n",
       "      <th>1</th>\n",
       "      <td>AMZN201106C01830000</td>\n",
       "      <td>2020-11-02 18:28:21</td>\n",
       "      <td>1830.0</td>\n",
       "      <td>1146.25</td>\n",
       "      <td>1123.35</td>\n",
       "      <td>1127.75</td>\n",
       "      <td>-56.18994</td>\n",
       "      <td>-4.672994</td>\n",
       "      <td>1.0</td>\n",
       "      <td>2.0</td>\n",
       "      <td>0.00001</td>\n",
       "      <td>True</td>\n",
       "      <td>REGULAR</td>\n",
       "      <td>USD</td>\n",
       "      <td>2020-11-06</td>\n",
       "      <td>C</td>\n",
       "      <td>0.009132</td>\n",
       "      <td>1125.550</td>\n",
       "      <td>1.000154</td>\n",
       "      <td>2959.787822</td>\n",
       "    </tr>\n",
       "    <tr>\n",
       "      <th>2</th>\n",
       "      <td>AMZN201106C01840000</td>\n",
       "      <td>2020-11-02 18:28:21</td>\n",
       "      <td>1840.0</td>\n",
       "      <td>1128.45</td>\n",
       "      <td>1116.55</td>\n",
       "      <td>1120.70</td>\n",
       "      <td>-62.75000</td>\n",
       "      <td>-5.267797</td>\n",
       "      <td>1.0</td>\n",
       "      <td>2.0</td>\n",
       "      <td>0.00001</td>\n",
       "      <td>True</td>\n",
       "      <td>REGULAR</td>\n",
       "      <td>USD</td>\n",
       "      <td>2020-11-06</td>\n",
       "      <td>C</td>\n",
       "      <td>0.009132</td>\n",
       "      <td>1118.625</td>\n",
       "      <td>1.000154</td>\n",
       "      <td>2959.787822</td>\n",
       "    </tr>\n",
       "    <tr>\n",
       "      <th>3</th>\n",
       "      <td>AMZN201106C01850000</td>\n",
       "      <td>2020-11-02 18:28:21</td>\n",
       "      <td>1850.0</td>\n",
       "      <td>1126.00</td>\n",
       "      <td>1108.85</td>\n",
       "      <td>1112.60</td>\n",
       "      <td>-56.47998</td>\n",
       "      <td>-4.776401</td>\n",
       "      <td>1.0</td>\n",
       "      <td>3.0</td>\n",
       "      <td>0.00001</td>\n",
       "      <td>True</td>\n",
       "      <td>REGULAR</td>\n",
       "      <td>USD</td>\n",
       "      <td>2020-11-06</td>\n",
       "      <td>C</td>\n",
       "      <td>0.009132</td>\n",
       "      <td>1110.725</td>\n",
       "      <td>1.000154</td>\n",
       "      <td>2959.787822</td>\n",
       "    </tr>\n",
       "    <tr>\n",
       "      <th>4</th>\n",
       "      <td>AMZN201106C01870000</td>\n",
       "      <td>2020-11-02 14:34:36</td>\n",
       "      <td>1870.0</td>\n",
       "      <td>1201.10</td>\n",
       "      <td>1086.10</td>\n",
       "      <td>1092.25</td>\n",
       "      <td>-17.23999</td>\n",
       "      <td>-1.415039</td>\n",
       "      <td>2.0</td>\n",
       "      <td>2.0</td>\n",
       "      <td>0.00001</td>\n",
       "      <td>True</td>\n",
       "      <td>REGULAR</td>\n",
       "      <td>USD</td>\n",
       "      <td>2020-11-06</td>\n",
       "      <td>C</td>\n",
       "      <td>0.009132</td>\n",
       "      <td>1089.175</td>\n",
       "      <td>1.000154</td>\n",
       "      <td>2959.787822</td>\n",
       "    </tr>\n",
       "  </tbody>\n",
       "</table>\n",
       "</div>"
      ],
      "text/plain": [
       "        contractSymbol        lastTradeDate  strike  lastPrice      bid  \\\n",
       "0  AMZN201106C01820000  2020-11-02 18:28:21  1820.0    1148.70  1139.35   \n",
       "1  AMZN201106C01830000  2020-11-02 18:28:21  1830.0    1146.25  1123.35   \n",
       "2  AMZN201106C01840000  2020-11-02 18:28:21  1840.0    1128.45  1116.55   \n",
       "3  AMZN201106C01850000  2020-11-02 18:28:21  1850.0    1126.00  1108.85   \n",
       "4  AMZN201106C01870000  2020-11-02 14:34:36  1870.0    1201.10  1086.10   \n",
       "\n",
       "       ask    change  percentChange  volume  openInterest  impliedVolatility  \\\n",
       "0  1143.20 -62.51001      -5.160956    15.0           4.0            0.00001   \n",
       "1  1127.75 -56.18994      -4.672994     1.0           2.0            0.00001   \n",
       "2  1120.70 -62.75000      -5.267797     1.0           2.0            0.00001   \n",
       "3  1112.60 -56.47998      -4.776401     1.0           3.0            0.00001   \n",
       "4  1092.25 -17.23999      -1.415039     2.0           2.0            0.00001   \n",
       "\n",
       "   inTheMoney contractSize currency expiration_date option_type         T  \\\n",
       "0        True      REGULAR      USD      2020-11-06           C  0.009132   \n",
       "1        True      REGULAR      USD      2020-11-06           C  0.009132   \n",
       "2        True      REGULAR      USD      2020-11-06           C  0.009132   \n",
       "3        True      REGULAR      USD      2020-11-06           C  0.009132   \n",
       "4        True      REGULAR      USD      2020-11-06           C  0.009132   \n",
       "\n",
       "   mid_price        DF            S  \n",
       "0   1141.275  1.000154  2959.787822  \n",
       "1   1125.550  1.000154  2959.787822  \n",
       "2   1118.625  1.000154  2959.787822  \n",
       "3   1110.725  1.000154  2959.787822  \n",
       "4   1089.175  1.000154  2959.787822  "
      ]
     },
     "execution_count": 22,
     "metadata": {},
     "output_type": "execute_result"
    }
   ],
   "source": [
    "option_chain['DF']=interpolated_df.loc[option_chain.expiration_date,\"DF\"].values\n",
    "option_chain['S']=interpolated_df.loc[option_chain.expiration_date,\"S\"].values\n",
    "option_chain.head()"
   ]
  },
  {
   "cell_type": "markdown",
   "metadata": {},
   "source": [
    "### We will create a smaller dataframe with the columns we need to perform Black-Scholes to Implied Volatility trasform"
   ]
  },
  {
   "cell_type": "code",
   "execution_count": 23,
   "metadata": {},
   "outputs": [
    {
     "data": {
      "text/html": [
       "<div>\n",
       "<style scoped>\n",
       "    .dataframe tbody tr th:only-of-type {\n",
       "        vertical-align: middle;\n",
       "    }\n",
       "\n",
       "    .dataframe tbody tr th {\n",
       "        vertical-align: top;\n",
       "    }\n",
       "\n",
       "    .dataframe thead th {\n",
       "        text-align: right;\n",
       "    }\n",
       "</style>\n",
       "<table border=\"1\" class=\"dataframe\">\n",
       "  <thead>\n",
       "    <tr style=\"text-align: right;\">\n",
       "      <th></th>\n",
       "      <th>S</th>\n",
       "      <th>strike</th>\n",
       "      <th>T</th>\n",
       "      <th>option_type</th>\n",
       "      <th>mid_price</th>\n",
       "      <th>DF</th>\n",
       "    </tr>\n",
       "  </thead>\n",
       "  <tbody>\n",
       "    <tr>\n",
       "      <th>0</th>\n",
       "      <td>2959.787822</td>\n",
       "      <td>1820.0</td>\n",
       "      <td>0.009132</td>\n",
       "      <td>C</td>\n",
       "      <td>1141.275</td>\n",
       "      <td>1.000154</td>\n",
       "    </tr>\n",
       "    <tr>\n",
       "      <th>1</th>\n",
       "      <td>2959.787822</td>\n",
       "      <td>1830.0</td>\n",
       "      <td>0.009132</td>\n",
       "      <td>C</td>\n",
       "      <td>1125.550</td>\n",
       "      <td>1.000154</td>\n",
       "    </tr>\n",
       "    <tr>\n",
       "      <th>2</th>\n",
       "      <td>2959.787822</td>\n",
       "      <td>1840.0</td>\n",
       "      <td>0.009132</td>\n",
       "      <td>C</td>\n",
       "      <td>1118.625</td>\n",
       "      <td>1.000154</td>\n",
       "    </tr>\n",
       "    <tr>\n",
       "      <th>3</th>\n",
       "      <td>2959.787822</td>\n",
       "      <td>1850.0</td>\n",
       "      <td>0.009132</td>\n",
       "      <td>C</td>\n",
       "      <td>1110.725</td>\n",
       "      <td>1.000154</td>\n",
       "    </tr>\n",
       "    <tr>\n",
       "      <th>4</th>\n",
       "      <td>2959.787822</td>\n",
       "      <td>1870.0</td>\n",
       "      <td>0.009132</td>\n",
       "      <td>C</td>\n",
       "      <td>1089.175</td>\n",
       "      <td>1.000154</td>\n",
       "    </tr>\n",
       "  </tbody>\n",
       "</table>\n",
       "</div>"
      ],
      "text/plain": [
       "             S  strike         T option_type  mid_price        DF\n",
       "0  2959.787822  1820.0  0.009132           C   1141.275  1.000154\n",
       "1  2959.787822  1830.0  0.009132           C   1125.550  1.000154\n",
       "2  2959.787822  1840.0  0.009132           C   1118.625  1.000154\n",
       "3  2959.787822  1850.0  0.009132           C   1110.725  1.000154\n",
       "4  2959.787822  1870.0  0.009132           C   1089.175  1.000154"
      ]
     },
     "execution_count": 23,
     "metadata": {},
     "output_type": "execute_result"
    }
   ],
   "source": [
    "option_chain_reduced=option_chain.loc[:,[\"S\",\"strike\",\"T\",\"option_type\",\"mid_price\",\"DF\",]]\n",
    "option_chain_reduced.head()"
   ]
  },
  {
   "cell_type": "code",
   "execution_count": 24,
   "metadata": {},
   "outputs": [],
   "source": [
    "### Let us now use apply function\n",
    "\n",
    "from scipy.optimize import fsolve, root, minimize,brentq\n",
    "from scipy.stats import norm\n",
    "\n",
    "def BS_european_option(S0, K,sigma, CP, T,DF):\n",
    "        \"\"\"\n",
    "        inputs:\n",
    "        S0= underlying price\n",
    "        K=strike\n",
    "        sigma= implied volatility\n",
    "        CP= 1 for call -1 fr put\n",
    "        DF= Discount Factor\n",
    "        \n",
    "        output:\n",
    "        Black-Scholes option price\n",
    "        \n",
    "        \"\"\"\n",
    "        \n",
    "        q=1 if CP==\"C\" else -1\n",
    "        sigmtau = sigma*np.sqrt(T)\n",
    "        k = np.log(K*DF/S0)\n",
    "        dp = -k / sigmtau + 0.5*sigmtau\n",
    "        dm = dp - sigmtau\n",
    "        return S0*(q*norm.cdf(q*dp) - q*DF*np.exp(k)*norm.cdf(q*dm))\n",
    "\n",
    "def f(sigma, *args):\n",
    "    S0, K, T, CP,optionPrice,DF = args ## optional arguments, where optionPrice is the Call option price to match\n",
    "    return (BS_european_option(S0, K, sigma,CP, T,DF)-optionPrice) ## define the objective equation to solve \n",
    "def apply_func(x):\n",
    "     return fsolve(f, x0=0.3, args=((x[0], x[1], x[2], x[3],x[4],x[5] )))[0]\n",
    "       \n",
    "    "
   ]
  },
  {
   "cell_type": "code",
   "execution_count": 25,
   "metadata": {},
   "outputs": [
    {
     "name": "stderr",
     "output_type": "stream",
     "text": [
      "/home/mugu/.local/lib/python3.6/site-packages/scipy/optimize/minpack.py:162: RuntimeWarning: The iteration is not making good progress, as measured by the \n",
      "  improvement from the last ten iterations.\n",
      "  warnings.warn(msg, RuntimeWarning)\n",
      "/home/mugu/.local/lib/python3.6/site-packages/scipy/optimize/minpack.py:162: RuntimeWarning: The number of calls to function has reached maxfev = 400.\n",
      "  warnings.warn(msg, RuntimeWarning)\n"
     ]
    },
    {
     "name": "stdout",
     "output_type": "stream",
     "text": [
      "IV computation took 25.460460424423218 seconds\n"
     ]
    }
   ],
   "source": [
    "import time\n",
    "start_time=time.time()\n",
    "option_chain['IV']=option_chain_reduced.apply(apply_func,axis=1,raw=True)\n",
    "print(\"IV computation took\", time.time()-start_time,\"seconds\")"
   ]
  },
  {
   "cell_type": "markdown",
   "metadata": {},
   "source": [
    "### And we are done! 20-ish seconds might seem quick to some, but is fact rather slow. In future sessions we will see how to speed up this"
   ]
  }
 ],
 "metadata": {
  "kernelspec": {
   "display_name": "Python 3",
   "language": "python",
   "name": "python3"
  },
  "language_info": {
   "codemirror_mode": {
    "name": "ipython",
    "version": 3
   },
   "file_extension": ".py",
   "mimetype": "text/x-python",
   "name": "python",
   "nbconvert_exporter": "python",
   "pygments_lexer": "ipython3",
   "version": "3.6.9"
  }
 },
 "nbformat": 4,
 "nbformat_minor": 4
}
