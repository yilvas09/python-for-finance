{
 "cells": [
  {
   "cell_type": "markdown",
   "metadata": {},
   "source": [
    "# **An introduction to Functional Programming**\n",
    "---\n",
    "<img src=\"http://www.doc.ic.ac.uk/~afd/images/logo_imperial_college_london.png\" align = \"left\" width=200>\n",
    " <br><br><br><br>\n",
    " \n",
    "- Copyright (c) Antoine Jacquier, 2021. All rights reserved\n",
    "\n",
    "- Author: Antoine Jacquier <a.jacquier@imperial.ac.uk>\n",
    "\n",
    "- Platform: Tested on Windows 10 with Python 3.7"
   ]
  },
  {
   "cell_type": "code",
   "execution_count": 2,
   "metadata": {},
   "outputs": [],
   "source": [
    "import numpy as np\n",
    "import matplotlib.pylab as plt\n",
    "plt.style.use('dark_background')\n",
    "from PIL import Image\n",
    "import matplotlib.pyplot as plt"
   ]
  },
  {
   "cell_type": "markdown",
   "metadata": {},
   "source": [
    "Imperative Programming is \"traditional programming\", that is the style of programming used in C, C++, Java, C#...\n",
    "There, the programmer tells the computer what to do, and the structure is dictated by control statements, looping constructs and assignments. Functional Programming however, **aims to describe the solution of the program, rather than the way it should be done**.\n",
    "\n",
    "FP is also easier to debug, as each function can be thought as an independent debug unit."
   ]
  },
  {
   "cell_type": "code",
   "execution_count": 3,
   "metadata": {},
   "outputs": [
    {
     "ename": "FileNotFoundError",
     "evalue": "[Errno 2] No such file or directory: 'Paradigms.jpeg'",
     "output_type": "error",
     "traceback": [
      "\u001b[0;31m---------------------------------------------------------------------------\u001b[0m",
      "\u001b[0;31mFileNotFoundError\u001b[0m                         Traceback (most recent call last)",
      "Cell \u001b[0;32mIn [3], line 1\u001b[0m\n\u001b[0;32m----> 1\u001b[0m img \u001b[39m=\u001b[39m Image\u001b[39m.\u001b[39mopen(\u001b[39mr\u001b[39m\u001b[39m\"\u001b[39m\u001b[39mParadigms.jpeg\u001b[39m\u001b[39m\"\u001b[39m)  \n\u001b[1;32m      2\u001b[0m plt\u001b[39m.\u001b[39mfigure(figsize\u001b[39m=\u001b[39m(\u001b[39m16\u001b[39m, \u001b[39m8\u001b[39m))\n\u001b[1;32m      3\u001b[0m plt\u001b[39m.\u001b[39mimshow(img)\n",
      "File \u001b[0;32m/opt/homebrew/lib/python3.9/site-packages/PIL/Image.py:2968\u001b[0m, in \u001b[0;36mopen\u001b[0;34m(fp, mode, formats)\u001b[0m\n\u001b[1;32m   2965\u001b[0m     filename \u001b[39m=\u001b[39m fp\n\u001b[1;32m   2967\u001b[0m \u001b[39mif\u001b[39;00m filename:\n\u001b[0;32m-> 2968\u001b[0m     fp \u001b[39m=\u001b[39m builtins\u001b[39m.\u001b[39;49mopen(filename, \u001b[39m\"\u001b[39;49m\u001b[39mrb\u001b[39;49m\u001b[39m\"\u001b[39;49m)\n\u001b[1;32m   2969\u001b[0m     exclusive_fp \u001b[39m=\u001b[39m \u001b[39mTrue\u001b[39;00m\n\u001b[1;32m   2971\u001b[0m \u001b[39mtry\u001b[39;00m:\n",
      "\u001b[0;31mFileNotFoundError\u001b[0m: [Errno 2] No such file or directory: 'Paradigms.jpeg'"
     ]
    }
   ],
   "source": [
    "img = Image.open(r\"Paradigms.jpeg\")  \n",
    "plt.figure(figsize=(16, 8))\n",
    "plt.imshow(img)\n",
    "print(\"Source: , https://www.jobsity.com/blog/5-programming-paradigms-you-should-know-about\")"
   ]
  },
  {
   "cell_type": "markdown",
   "metadata": {},
   "source": [
    "# Introduction: Characterisation of Python functions"
   ]
  },
  {
   "cell_type": "markdown",
   "metadata": {},
   "source": [
    "## Referentially Transparency"
   ]
  },
  {
   "cell_type": "markdown",
   "metadata": {},
   "source": [
    "An operation is said to be Referentially Transparent (RT) if it can be replaced with its\n",
    "corresponding value, without changing the program's behaviour, for a given set of\n",
    "parameters. The function `incrementRT` below is RT as it always returns the same values for the same input:"
   ]
  },
  {
   "cell_type": "code",
   "execution_count": null,
   "metadata": {},
   "outputs": [
    {
     "name": "stdout",
     "output_type": "stream",
     "text": [
      "Output:  6\n",
      "Output:  6\n"
     ]
    }
   ],
   "source": [
    "def incrementRT(num):\n",
    "    return num + 1\n",
    "\n",
    "print(\"Output: \", incrementRT(5))\n",
    "print(\"Output: \", incrementRT(5))"
   ]
  },
  {
   "cell_type": "markdown",
   "metadata": {},
   "source": [
    "The following function, `incrementNotRT`, however, is not, as the output changes because of the global variable:"
   ]
  },
  {
   "cell_type": "code",
   "execution_count": null,
   "metadata": {},
   "outputs": [
    {
     "name": "stdout",
     "output_type": "stream",
     "text": [
      "Output:  6\n",
      "Output:  7\n"
     ]
    }
   ],
   "source": [
    "amount = 1\n",
    "def incrementNotRT(num):\n",
    "    return num + amount\n",
    "\n",
    "print(\"Output: \", incrementNotRT(5))\n",
    "amount = 2\n",
    "print(\"Output: \", incrementNotRT(5))"
   ]
  },
  {
   "cell_type": "markdown",
   "metadata": {},
   "source": [
    "A function that returns the current time is clearly not Referentially Transparent."
   ]
  },
  {
   "cell_type": "markdown",
   "metadata": {},
   "source": [
    "### Side effects"
   ]
  },
  {
   "cell_type": "markdown",
   "metadata": {},
   "source": [
    "A function should not have any side effects, i.e. should  base its operations purely on the values it receives and its only impact should be the result returned. Any hidden side effects make software harder to maintain. Many functions, however, do have side effects, for example when it updates a database.\n",
    "We call a function **PURE** if it does not have side effects."
   ]
  },
  {
   "cell_type": "markdown",
   "metadata": {},
   "source": [
    "#### Immutability"
   ]
  },
  {
   "cell_type": "markdown",
   "metadata": {},
   "source": [
    "Python offers immutable data types, in particular \"Tuple\", to be contrasted with standard lists."
   ]
  },
  {
   "cell_type": "code",
   "execution_count": null,
   "metadata": {},
   "outputs": [
    {
     "name": "stdout",
     "output_type": "stream",
     "text": [
      "mutable is of type  <class 'list'> [4, 5]\n",
      "immutable is of type  <class 'tuple'> [4, 5]\n"
     ]
    }
   ],
   "source": [
    "mutable = ['Jack', 10, [4, 5]]\n",
    "immutable = ('Jack', 10, [4, 5])\n",
    "\n",
    "# Reading from data types are essentially the same:\n",
    "print(\"mutable is of type \", type(mutable), mutable[2])    # [4, 5]\n",
    "print(\"immutable is of type \", type(immutable), immutable[2])  # [4, 5]"
   ]
  },
  {
   "cell_type": "code",
   "execution_count": null,
   "metadata": {},
   "outputs": [],
   "source": [
    "# Tuple items cannot be modified\n",
    "mutable[1] = 15"
   ]
  },
  {
   "cell_type": "code",
   "execution_count": null,
   "metadata": {},
   "outputs": [
    {
     "ename": "TypeError",
     "evalue": "'tuple' object does not support item assignment",
     "output_type": "error",
     "traceback": [
      "\u001b[0;31m---------------------------------------------------------------------------\u001b[0m",
      "\u001b[0;31mTypeError\u001b[0m                                 Traceback (most recent call last)",
      "Cell \u001b[0;32mIn [3], line 1\u001b[0m\n\u001b[0;32m----> 1\u001b[0m immutable[\u001b[39m2\u001b[39m] \u001b[39m=\u001b[39m [\u001b[39m4\u001b[39m, \u001b[39m5\u001b[39m, \u001b[39m3\u001b[39m]\n",
      "\u001b[0;31mTypeError\u001b[0m: 'tuple' object does not support item assignment"
     ]
    }
   ],
   "source": [
    "immutable[2] = [4, 5, 3]"
   ]
  },
  {
   "cell_type": "code",
   "execution_count": null,
   "metadata": {},
   "outputs": [
    {
     "name": "stdout",
     "output_type": "stream",
     "text": [
      "<class 'list'>\n",
      "('Jack', 10, [4, 5, 3])\n"
     ]
    }
   ],
   "source": [
    "### Note that immutable[2] is a List, and not a Tuple, and therefore can be modified, for example:\n",
    "print(type(immutable[2]))\n",
    "immutable[2].append(3)\n",
    "print(immutable)"
   ]
  },
  {
   "cell_type": "markdown",
   "metadata": {},
   "source": [
    "**But a tuple can contain a list! and you can change the elements in the list!**"
   ]
  },
  {
   "cell_type": "code",
   "execution_count": null,
   "metadata": {},
   "outputs": [],
   "source": [
    "tup = ('Hello', 3, list([2,3,4]))"
   ]
  },
  {
   "cell_type": "code",
   "execution_count": null,
   "metadata": {},
   "outputs": [
    {
     "data": {
      "text/plain": [
       "[2, 3, 4, 2, 2]"
      ]
     },
     "execution_count": 8,
     "metadata": {},
     "output_type": "execute_result"
    }
   ],
   "source": [
    "tup[2].append(2)\n",
    "tup[2]"
   ]
  },
  {
   "cell_type": "markdown",
   "metadata": {},
   "source": [
    "**Exercise**\n",
    "\n",
    "Suppose you are a bank, and you need to construct a database for all the accounts. How would you write (as a list or a tuple) it, given that an account has the following attributes (for each attribute, indicate its type):\n",
    "**Each account should be a tuple.**\n",
    "- Bank account number: **`int`**\n",
    "- Bank account holder's name: **`string`**\n",
    "- Transactions (with the corresponding date): **`panda.dataframe`**\n",
    "\n"
   ]
  },
  {
   "cell_type": "markdown",
   "metadata": {},
   "source": [
    "# Higher-order functions"
   ]
  },
  {
   "cell_type": "markdown",
   "metadata": {},
   "source": [
    "A higher-order function is a function that takes other functions (or actions) as arguments. One may think of it as a convolution function.\n"
   ]
  },
  {
   "cell_type": "code",
   "execution_count": null,
   "metadata": {},
   "outputs": [],
   "source": [
    "def hof_write_repeat(message, n, action):\n",
    "    for i in range(n):\n",
    "        action(message)"
   ]
  },
  {
   "cell_type": "code",
   "execution_count": null,
   "metadata": {},
   "outputs": [
    {
     "name": "stdout",
     "output_type": "stream",
     "text": [
      "Hello\n",
      "Hello\n",
      "Hello\n"
     ]
    }
   ],
   "source": [
    "hof_write_repeat('Hello', 3, print)"
   ]
  },
  {
   "cell_type": "code",
   "execution_count": null,
   "metadata": {},
   "outputs": [
    {
     "name": "stderr",
     "output_type": "stream",
     "text": [
      "ERROR:root:Hello\n",
      "ERROR:root:Hello\n",
      "ERROR:root:Hello\n"
     ]
    }
   ],
   "source": [
    "import logging\n",
    "## Logging allows you to track events occurring when something is running\n",
    "# Log the output as an error instead\n",
    "hof_write_repeat('Hello', 3, logging.error)"
   ]
  },
  {
   "cell_type": "code",
   "execution_count": null,
   "metadata": {},
   "outputs": [
    {
     "data": {
      "text/plain": [
       "<function logging.error(msg, *args, **kwargs)>"
      ]
     },
     "execution_count": 17,
     "metadata": {},
     "output_type": "execute_result"
    }
   ],
   "source": [
    "logging.error"
   ]
  },
  {
   "cell_type": "code",
   "execution_count": null,
   "metadata": {},
   "outputs": [],
   "source": [
    "def hof_add(increment):\n",
    "    # Create a function that loops and adds the increment\n",
    "    def add_increment(listOfNumbers):\n",
    "        return [l + increment for l in listOfNumbers]\n",
    "    return add_increment"
   ]
  },
  {
   "cell_type": "code",
   "execution_count": null,
   "metadata": {},
   "outputs": [
    {
     "name": "stdout",
     "output_type": "stream",
     "text": [
      "add5 has type  <class 'function'>\n",
      "[28, 93]\n",
      "[33, 98]\n"
     ]
    }
   ],
   "source": [
    "add5 = hof_add(5)\n",
    "\n",
    "print(\"add5 has type \", type(add5))\n",
    "print(add5([23, 88]))\n",
    "\n",
    "add10 = hof_add(10)\n",
    "print(add10([23, 88]))"
   ]
  },
  {
   "cell_type": "markdown",
   "metadata": {},
   "source": [
    "**Both arguments and outputs can be functions.**"
   ]
  },
  {
   "cell_type": "markdown",
   "metadata": {},
   "source": [
    "# lambda functions "
   ]
  },
  {
   "cell_type": "markdown",
   "metadata": {},
   "source": [
    "A `lambda` function is an anonymous function. \n",
    "They act like standard functions, but are created withouth the `def` keyword and without a name.\n",
    "Their key attributes are \n",
    "\n",
    "- they can take any number of arguments;\n",
    "- they can return function objects;\n",
    "- they only contain one single expression.\n",
    "\n",
    "**Recall function handles in `MATLAB`.**"
   ]
  },
  {
   "cell_type": "markdown",
   "metadata": {},
   "source": [
    "*Classical definition of a function*"
   ]
  },
  {
   "cell_type": "code",
   "execution_count": null,
   "metadata": {},
   "outputs": [],
   "source": [
    "def prod(x,y):\n",
    "    return x*y"
   ]
  },
  {
   "cell_type": "markdown",
   "metadata": {},
   "source": [
    "*Its `lambda` version*"
   ]
  },
  {
   "cell_type": "code",
   "execution_count": null,
   "metadata": {},
   "outputs": [
    {
     "data": {
      "text/plain": [
       "6"
      ]
     },
     "execution_count": 1,
     "metadata": {},
     "output_type": "execute_result"
    }
   ],
   "source": [
    "product = lambda x, y : x * y\n",
    "product(2, 3)"
   ]
  },
  {
   "cell_type": "markdown",
   "metadata": {},
   "source": [
    "We can write a multiplication table, similarly to above, using lambda functions:"
   ]
  },
  {
   "cell_type": "code",
   "execution_count": null,
   "metadata": {},
   "outputs": [
    {
     "data": {
      "text/plain": [
       "[0, 2, 4, 6, 8, 10, 12, 14, 16, 18]"
      ]
     },
     "execution_count": 2,
     "metadata": {},
     "output_type": "execute_result"
    }
   ],
   "source": [
    "def hof_product(multiplier):\n",
    "    return lambda x: x * multiplier\n",
    "\n",
    "multTable = hof_product(2)\n",
    "[multTable(i) for i in range(10)]"
   ]
  },
  {
   "cell_type": "markdown",
   "metadata": {},
   "source": [
    "We can as usual apply the function directly to many values at the same time"
   ]
  },
  {
   "cell_type": "code",
   "execution_count": null,
   "metadata": {},
   "outputs": [
    {
     "data": {
      "text/plain": [
       "array([ 0,  2,  4,  6,  8, 10, 12, 14, 16, 18])"
      ]
     },
     "execution_count": 4,
     "metadata": {},
     "output_type": "execute_result"
    }
   ],
   "source": [
    "import numpy as np\n",
    "multTable(np.arange(10))"
   ]
  },
  {
   "cell_type": "markdown",
   "metadata": {},
   "source": [
    "**WARNING: READABILITY, CLARITY, SIMPLICITY**"
   ]
  },
  {
   "cell_type": "markdown",
   "metadata": {},
   "source": [
    "**Exercise**\n",
    "\n",
    "Rewrite the higher-order function `hof_add` above using `lambda` functions"
   ]
  },
  {
   "cell_type": "code",
   "execution_count": null,
   "metadata": {},
   "outputs": [
    {
     "name": "stdout",
     "output_type": "stream",
     "text": [
      "add5 has type  <class 'function'>\n",
      "[28 93]\n",
      "[33 98]\n"
     ]
    }
   ],
   "source": [
    "# def hof_add(increment):\n",
    "#     # Create a function that loops and adds the increment\n",
    "#     def add_increment(listOfNumbers):\n",
    "#         return [l + increment for l in listOfNumbers]\n",
    "#     return add_increment\n",
    "\n",
    "hof_add = lambda x: (lambda y: y+x)\n",
    "\n",
    "add5 = hof_add(5)\n",
    "\n",
    "print(\"add5 has type \", type(add5))\n",
    "print(hof_add(5)(np.array([23, 88])))\n",
    "\n",
    "add10 = hof_add(10)\n",
    "print(add10(np.array([23, 88])))"
   ]
  },
  {
   "cell_type": "markdown",
   "metadata": {},
   "source": [
    "**You can even replace the function name `add5` with `hof_add(5)`!**"
   ]
  },
  {
   "cell_type": "markdown",
   "metadata": {},
   "source": [
    "# Built-in higher-order functions"
   ]
  },
  {
   "cell_type": "markdown",
   "metadata": {},
   "source": [
    "Python has several higher-order functions already built in. Note that they always return an iterator."
   ]
  },
  {
   "cell_type": "markdown",
   "metadata": {},
   "source": [
    "## The `map` function"
   ]
  },
  {
   "cell_type": "markdown",
   "metadata": {},
   "source": [
    "It allows us to apply a function to every element in an iterable object."
   ]
  },
  {
   "cell_type": "code",
   "execution_count": null,
   "metadata": {},
   "outputs": [
    {
     "data": {
      "text/plain": [
       "['Hello George',\n",
       " 'Hello Yuvraj',\n",
       " 'Hello Benjamin',\n",
       " 'Hello Thomas',\n",
       " 'Hello Mario',\n",
       " 'Hello Shikang',\n",
       " 'Hello Konstantinos',\n",
       " 'Hello Yufan']"
      ]
     },
     "execution_count": 42,
     "metadata": {},
     "output_type": "execute_result"
    }
   ],
   "source": [
    "names = ['George', 'Yuvraj', 'Benjamin', 'Thomas', 'Mario', 'Shikang', 'Konstantinos', 'Yufan']\n",
    "\n",
    "greetingPhrase = \"Hello\"\n",
    "[greetingPhrase + \" \"  + n for n in names]\n"
   ]
  },
  {
   "cell_type": "code",
   "execution_count": null,
   "metadata": {},
   "outputs": [
    {
     "name": "stdout",
     "output_type": "stream",
     "text": [
      "<map object at 0x000001706422AC40>\n"
     ]
    }
   ],
   "source": [
    "greeted_names = map(lambda x: greetingPhrase + \" \" + x, names)\n",
    "\n",
    "print(greeted_names)"
   ]
  },
  {
   "cell_type": "markdown",
   "metadata": {},
   "source": [
    "How to retrieve elements from there?"
   ]
  },
  {
   "cell_type": "markdown",
   "metadata": {},
   "source": [
    "Tuples, as presented above, are **also iterable**, so `map` can be applied to them as well:"
   ]
  },
  {
   "cell_type": "code",
   "execution_count": null,
   "metadata": {},
   "outputs": [
    {
     "name": "stdout",
     "output_type": "stream",
     "text": [
      "Hello George\n",
      "Hello Yuvraj\n",
      "Hello Benjamin\n",
      "Hello Thomas\n",
      "Hello Mario\n",
      "Hello Shikang\n",
      "Hello Konstantinos\n",
      "Hello Yufan\n"
     ]
    }
   ],
   "source": [
    "namesTuple = tuple(names)\n",
    "greeted_names_tuple = map(lambda x: greetingPhrase + \" \" + x, namesTuple)\n",
    "\n",
    "for sentence in greeted_names_tuple:\n",
    "    print(sentence)"
   ]
  },
  {
   "cell_type": "markdown",
   "metadata": {},
   "source": [
    "**Exercise**\n",
    "\n",
    "Rewrite the multiplication table above using `map` and `lambda` functions."
   ]
  },
  {
   "cell_type": "code",
   "execution_count": null,
   "metadata": {},
   "outputs": [
    {
     "name": "stdout",
     "output_type": "stream",
     "text": [
      "0\n",
      "2\n",
      "4\n",
      "6\n",
      "8\n",
      "10\n",
      "12\n",
      "14\n",
      "16\n",
      "18\n"
     ]
    }
   ],
   "source": [
    "def hof_product(multiplier):\n",
    "    return lambda x: x * multiplier\n",
    "\n",
    "\n",
    "Table = map(lambda x: x*2, np.arange(10))\n",
    "for i in Table:\n",
    "    print(i)\n",
    "# multTable = hof_product(2)\n",
    "# [multTable(i) for i in range(10)]\n",
    "\n",
    "# import numpy as np\n",
    "# multTable(np.arange(10))"
   ]
  },
  {
   "cell_type": "markdown",
   "metadata": {},
   "source": [
    "## The `filter` function."
   ]
  },
  {
   "cell_type": "markdown",
   "metadata": {},
   "source": [
    " It tests every element in an iterable object with a function that returns True or False, **keeping the former (the true ones) only**.\n",
    "\n",
    " **Both `filter` and `map` returns an iterable object.**\n",
    "\n",
    " **`filter` keeps the original input, while `map` keeps the output of `lambda` functions.**"
   ]
  },
  {
   "cell_type": "code",
   "execution_count": 23,
   "metadata": {},
   "outputs": [
    {
     "data": {
      "text/plain": [
       "[False, True, False, False, True]"
      ]
     },
     "execution_count": 23,
     "metadata": {},
     "output_type": "execute_result"
    }
   ],
   "source": [
    "numbers = [13, 10, 11, 17, 85]\n",
    "\n",
    "div_by_5 = filter(lambda num: num % 5 == 0, numbers)\n",
    "div_by_5_map = map(lambda num: num % 5 == 0, numbers)\n",
    "[i for i in div_by_5_map]"
   ]
  },
  {
   "cell_type": "code",
   "execution_count": 16,
   "metadata": {},
   "outputs": [
    {
     "data": {
      "text/plain": [
       "[]"
      ]
     },
     "execution_count": 16,
     "metadata": {},
     "output_type": "execute_result"
    }
   ],
   "source": [
    "list(div_by_5_map)"
   ]
  },
  {
   "cell_type": "code",
   "execution_count": 17,
   "metadata": {},
   "outputs": [],
   "source": [
    "for d in div_by_5_map:\n",
    "    print(d)"
   ]
  },
  {
   "cell_type": "markdown",
   "metadata": {},
   "source": [
    "Note that `div_by_5_map` is an iterator, meaning that after having gone through it, it returns an empty result\n",
    "\n",
    "**There is something similar to a pointer inside. When you first create it, the pointer is at the beginning, so when you call it you will get all the objects. But once you have used it, the pointer is at the end, and you can't move the pointer to the next position, therefore you can only have empty objects.**"
   ]
  },
  {
   "cell_type": "markdown",
   "metadata": {},
   "source": [
    "Note that you  can convert the iterator into a `list`"
   ]
  },
  {
   "cell_type": "code",
   "execution_count": 25,
   "metadata": {},
   "outputs": [
    {
     "name": "stdout",
     "output_type": "stream",
     "text": [
      "[]\n"
     ]
    }
   ],
   "source": [
    "print(list(div_by_5))"
   ]
  },
  {
   "cell_type": "markdown",
   "metadata": {},
   "source": [
    "**Question:** What would be the output of above cell if we were to replace `filter` by `map`?"
   ]
  },
  {
   "cell_type": "code",
   "execution_count": 18,
   "metadata": {},
   "outputs": [
    {
     "name": "stdout",
     "output_type": "stream",
     "text": [
      "[]\n"
     ]
    },
    {
     "data": {
      "text/plain": [
       "[]"
      ]
     },
     "execution_count": 18,
     "metadata": {},
     "output_type": "execute_result"
    }
   ],
   "source": [
    "print(list(div_by_5_map))\n",
    "# [i for i in div_by_5_map]\n",
    "list(div_by_5_map)\n",
    "# print(list([i for i in div_by_5_map]))"
   ]
  },
  {
   "cell_type": "markdown",
   "metadata": {},
   "source": [
    "**Exercise**\n",
    "\n",
    "Rewrite the `div_by_5` function using `map`"
   ]
  },
  {
   "cell_type": "code",
   "execution_count": 54,
   "metadata": {},
   "outputs": [
    {
     "data": {
      "text/plain": [
       "[None, 10, None, None, 85]"
      ]
     },
     "execution_count": 54,
     "metadata": {},
     "output_type": "execute_result"
    }
   ],
   "source": [
    "div_by_5 = map(lambda x: x if x%5==0 else None, numbers)\n",
    "[i for i in div_by_5]"
   ]
  },
  {
   "cell_type": "markdown",
   "metadata": {},
   "source": [
    "## `functools` functions"
   ]
  },
  {
   "cell_type": "markdown",
   "metadata": {},
   "source": [
    "### `reduce`"
   ]
  },
  {
   "cell_type": "markdown",
   "metadata": {},
   "source": [
    "reduces the iterable to a single value. Contrary to `filter` and `map`, it takes two input values."
   ]
  },
  {
   "cell_type": "code",
   "execution_count": 55,
   "metadata": {},
   "outputs": [
    {
     "name": "stdout",
     "output_type": "stream",
     "text": [
      "The sum is equal to 45\n",
      "The maximum is equal to 9\n"
     ]
    }
   ],
   "source": [
    "import functools \n",
    "  \n",
    "myList = range(10)\n",
    "  \n",
    "mySum = functools.reduce(lambda a,b : a+b, myList)\n",
    "print(\"The sum is equal to\", mySum) \n",
    "  \n",
    "myMax = functools.reduce(lambda a,b : a if a > b else b,myList)\n",
    "print(\"The maximum is equal to\", myMax) "
   ]
  },
  {
   "cell_type": "markdown",
   "metadata": {},
   "source": [
    "Quote by Guido van Rossum (creator of `Python`):\n",
    "\"*Use functools.reduce if you really need it; however, 99% of the time an explicit for loop is more readable.*\""
   ]
  },
  {
   "cell_type": "markdown",
   "metadata": {},
   "source": [
    "### The `partial` module"
   ]
  },
  {
   "cell_type": "markdown",
   "metadata": {},
   "source": [
    "One may want to use the behaviour of a function, but freezing some of its arguments.\n",
    "For example"
   ]
  },
  {
   "cell_type": "code",
   "execution_count": 58,
   "metadata": {},
   "outputs": [],
   "source": [
    "from functools import partial\n",
    "\n",
    "def add(b, a):\n",
    "    return a + np.sum(b)"
   ]
  },
  {
   "cell_type": "code",
   "execution_count": 59,
   "metadata": {},
   "outputs": [
    {
     "data": {
      "text/plain": [
       "11"
      ]
     },
     "execution_count": 59,
     "metadata": {},
     "output_type": "execute_result"
    }
   ],
   "source": [
    "add([1, 2, 3], 5)"
   ]
  },
  {
   "cell_type": "code",
   "execution_count": 60,
   "metadata": {},
   "outputs": [
    {
     "name": "stdout",
     "output_type": "stream",
     "text": [
      "21\n"
     ]
    }
   ],
   "source": [
    "add_new = partial(add, [2, 3, 5, 7])\n",
    "add_new\n",
    "\n",
    "print(add_new(4))"
   ]
  },
  {
   "cell_type": "markdown",
   "metadata": {},
   "source": [
    "*Example: When using the Black-Scholes pricing function, we may want to impose a specified interest rate, that the user cannot modify.* \n",
    "\n",
    "$$\n",
    "BS(r, S_0, K, T, \\sigma)\n",
    "$$"
   ]
  },
  {
   "cell_type": "markdown",
   "metadata": {},
   "source": [
    "BS_user = partial(BS, fixedRate)"
   ]
  },
  {
   "cell_type": "markdown",
   "metadata": {},
   "source": [
    "**Exercise**\n",
    "\n",
    "Rewrite the above two operations (sum and max) using `numpy` packages (not with `functools`)"
   ]
  },
  {
   "cell_type": "markdown",
   "metadata": {},
   "source": [
    "**Exercise\n",
    "\n",
    "Write the following command using `map` and `filter`:\n",
    "\n",
    "`arbitrary_numbers = [num ** 3 for num in range(1, 21) if num % 3 == 0]`\n",
    "\n",
    "Test on the list `numbers = [13, 10, 11, 18, 35]`"
   ]
  },
  {
   "cell_type": "code",
   "execution_count": 61,
   "metadata": {},
   "outputs": [],
   "source": [
    "## Solution:\n",
    "arbitrary_numbersFilter = map(lambda num: num ** 3, filter(lambda num: num % 3 == 0, range(1, 21)))"
   ]
  },
  {
   "cell_type": "markdown",
   "metadata": {},
   "source": [
    "# Iterators and Generators"
   ]
  },
  {
   "cell_type": "markdown",
   "metadata": {},
   "source": [
    "An iterator is an object representing a stream of data. It must support a method called `__next__()` that takes no argument and returns the next element of the stream. At the end of the stream, `__next__()` raises the `StopIteration` exception. Iterators (the data) can be of finite or infinite length."
   ]
  },
  {
   "cell_type": "markdown",
   "metadata": {},
   "source": [
    "Standard objects to iterate over (called iterable objects) are lists, tuples, arrays, dictionaries."
   ]
  },
  {
   "cell_type": "code",
   "execution_count": 62,
   "metadata": {},
   "outputs": [
    {
     "name": "stdout",
     "output_type": "stream",
     "text": [
      "[ 1.    3.25  5.5   7.75 10.  ] <class 'numpy.ndarray'>\n"
     ]
    }
   ],
   "source": [
    "## Example\n",
    "xx = np.linspace(1., 10., 5)\n",
    "print(xx, type(xx))"
   ]
  },
  {
   "cell_type": "code",
   "execution_count": 63,
   "metadata": {},
   "outputs": [
    {
     "name": "stdout",
     "output_type": "stream",
     "text": [
      "it:  <iterator object at 0x0000017064002220> <class 'iterator'>\n"
     ]
    }
   ],
   "source": [
    "it = iter(xx)\n",
    "print(\"it: \", it, type(it))"
   ]
  },
  {
   "cell_type": "code",
   "execution_count": 64,
   "metadata": {},
   "outputs": [
    {
     "name": "stdout",
     "output_type": "stream",
     "text": [
      "1.0\n"
     ]
    }
   ],
   "source": [
    "print(next(it))"
   ]
  },
  {
   "cell_type": "code",
   "execution_count": 65,
   "metadata": {},
   "outputs": [
    {
     "name": "stdout",
     "output_type": "stream",
     "text": [
      "3.25\n"
     ]
    }
   ],
   "source": [
    "print(next(it))"
   ]
  },
  {
   "cell_type": "markdown",
   "metadata": {},
   "source": [
    "The functions min(), max(), in are built-in functions operating on iterators:"
   ]
  },
  {
   "cell_type": "code",
   "execution_count": 66,
   "metadata": {},
   "outputs": [
    {
     "name": "stdout",
     "output_type": "stream",
     "text": [
      "10.0\n",
      "1.0\n"
     ]
    }
   ],
   "source": [
    "print(max(iter(xx)))\n",
    "print(min(iter(xx)))"
   ]
  },
  {
   "cell_type": "code",
   "execution_count": 67,
   "metadata": {},
   "outputs": [
    {
     "name": "stdout",
     "output_type": "stream",
     "text": [
      "True\n",
      "False\n"
     ]
    }
   ],
   "source": [
    "print(xx[1] in iter(xx))\n",
    "print(1.2 in iter(xx))"
   ]
  },
  {
   "cell_type": "markdown",
   "metadata": {},
   "source": [
    "### Iterators for dictionaries"
   ]
  },
  {
   "cell_type": "markdown",
   "metadata": {},
   "source": [
    "Since dictionaries are iterable objects, we can also construct iterators on them."
   ]
  },
  {
   "cell_type": "markdown",
   "metadata": {},
   "source": [
    "Let us illustrate this on financial data.\n",
    "We first import options data on the S&P 500 from Yahoo Finance, and create a dictionary from this `pandas` dataframe."
   ]
  },
  {
   "cell_type": "code",
   "execution_count": 68,
   "metadata": {},
   "outputs": [],
   "source": [
    "from yahoo_fin import options\n",
    "\n",
    "chain = options.get_options_chain(\"spy\")\n",
    "calls = chain[\"calls\"]"
   ]
  },
  {
   "cell_type": "code",
   "execution_count": 69,
   "metadata": {},
   "outputs": [
    {
     "data": {
      "text/html": [
       "<div>\n",
       "<style scoped>\n",
       "    .dataframe tbody tr th:only-of-type {\n",
       "        vertical-align: middle;\n",
       "    }\n",
       "\n",
       "    .dataframe tbody tr th {\n",
       "        vertical-align: top;\n",
       "    }\n",
       "\n",
       "    .dataframe thead th {\n",
       "        text-align: right;\n",
       "    }\n",
       "</style>\n",
       "<table border=\"1\" class=\"dataframe\">\n",
       "  <thead>\n",
       "    <tr style=\"text-align: right;\">\n",
       "      <th></th>\n",
       "      <th>Contract Name</th>\n",
       "      <th>Last Trade Date</th>\n",
       "      <th>Strike</th>\n",
       "      <th>Last Price</th>\n",
       "      <th>Bid</th>\n",
       "      <th>Ask</th>\n",
       "      <th>Change</th>\n",
       "      <th>% Change</th>\n",
       "      <th>Volume</th>\n",
       "      <th>Open Interest</th>\n",
       "      <th>Implied Volatility</th>\n",
       "    </tr>\n",
       "  </thead>\n",
       "  <tbody>\n",
       "    <tr>\n",
       "      <th>0</th>\n",
       "      <td>SPY211126C00310000</td>\n",
       "      <td>2021-10-18 1:42PM EST</td>\n",
       "      <td>310.0</td>\n",
       "      <td>136.92</td>\n",
       "      <td>158.80</td>\n",
       "      <td>159.24</td>\n",
       "      <td>0.00</td>\n",
       "      <td>-</td>\n",
       "      <td>-</td>\n",
       "      <td>4</td>\n",
       "      <td>0.00%</td>\n",
       "    </tr>\n",
       "    <tr>\n",
       "      <th>1</th>\n",
       "      <td>SPY211126C00320000</td>\n",
       "      <td>2021-10-18 1:28PM EST</td>\n",
       "      <td>320.0</td>\n",
       "      <td>126.84</td>\n",
       "      <td>148.81</td>\n",
       "      <td>149.24</td>\n",
       "      <td>0.00</td>\n",
       "      <td>-</td>\n",
       "      <td>-</td>\n",
       "      <td>10</td>\n",
       "      <td>0.00%</td>\n",
       "    </tr>\n",
       "    <tr>\n",
       "      <th>2</th>\n",
       "      <td>SPY211126C00325000</td>\n",
       "      <td>2021-10-18 1:22PM EST</td>\n",
       "      <td>325.0</td>\n",
       "      <td>121.84</td>\n",
       "      <td>143.81</td>\n",
       "      <td>144.25</td>\n",
       "      <td>0.00</td>\n",
       "      <td>-</td>\n",
       "      <td>-</td>\n",
       "      <td>11</td>\n",
       "      <td>0.00%</td>\n",
       "    </tr>\n",
       "    <tr>\n",
       "      <th>3</th>\n",
       "      <td>SPY211126C00330000</td>\n",
       "      <td>2021-11-24 10:11AM EST</td>\n",
       "      <td>330.0</td>\n",
       "      <td>136.40</td>\n",
       "      <td>139.46</td>\n",
       "      <td>139.57</td>\n",
       "      <td>-1.37</td>\n",
       "      <td>-0.99%</td>\n",
       "      <td>4</td>\n",
       "      <td>24</td>\n",
       "      <td>257.81%</td>\n",
       "    </tr>\n",
       "    <tr>\n",
       "      <th>4</th>\n",
       "      <td>SPY211126C00335000</td>\n",
       "      <td>2021-11-18 12:54PM EST</td>\n",
       "      <td>335.0</td>\n",
       "      <td>133.96</td>\n",
       "      <td>134.46</td>\n",
       "      <td>134.57</td>\n",
       "      <td>0.00</td>\n",
       "      <td>-</td>\n",
       "      <td>20</td>\n",
       "      <td>20</td>\n",
       "      <td>247.66%</td>\n",
       "    </tr>\n",
       "  </tbody>\n",
       "</table>\n",
       "</div>"
      ],
      "text/plain": [
       "        Contract Name         Last Trade Date  Strike  Last Price     Bid  \\\n",
       "0  SPY211126C00310000   2021-10-18 1:42PM EST   310.0      136.92  158.80   \n",
       "1  SPY211126C00320000   2021-10-18 1:28PM EST   320.0      126.84  148.81   \n",
       "2  SPY211126C00325000   2021-10-18 1:22PM EST   325.0      121.84  143.81   \n",
       "3  SPY211126C00330000  2021-11-24 10:11AM EST   330.0      136.40  139.46   \n",
       "4  SPY211126C00335000  2021-11-18 12:54PM EST   335.0      133.96  134.46   \n",
       "\n",
       "      Ask  Change % Change Volume Open Interest Implied Volatility  \n",
       "0  159.24    0.00        -      -             4              0.00%  \n",
       "1  149.24    0.00        -      -            10              0.00%  \n",
       "2  144.25    0.00        -      -            11              0.00%  \n",
       "3  139.57   -1.37   -0.99%      4            24            257.81%  \n",
       "4  134.57    0.00        -     20            20            247.66%  "
      ]
     },
     "execution_count": 69,
     "metadata": {},
     "output_type": "execute_result"
    }
   ],
   "source": [
    "calls.head()"
   ]
  },
  {
   "cell_type": "code",
   "execution_count": 70,
   "metadata": {},
   "outputs": [
    {
     "name": "stdout",
     "output_type": "stream",
     "text": [
      "<class 'pandas.core.frame.DataFrame'>\n",
      "RangeIndex: 133 entries, 0 to 132\n",
      "Data columns (total 11 columns):\n",
      " #   Column              Non-Null Count  Dtype  \n",
      "---  ------              --------------  -----  \n",
      " 0   Contract Name       133 non-null    object \n",
      " 1   Last Trade Date     133 non-null    object \n",
      " 2   Strike              133 non-null    float64\n",
      " 3   Last Price          133 non-null    float64\n",
      " 4   Bid                 133 non-null    float64\n",
      " 5   Ask                 133 non-null    float64\n",
      " 6   Change              133 non-null    float64\n",
      " 7   % Change            133 non-null    object \n",
      " 8   Volume              133 non-null    object \n",
      " 9   Open Interest       133 non-null    object \n",
      " 10  Implied Volatility  133 non-null    object \n",
      "dtypes: float64(5), object(6)\n",
      "memory usage: 11.6+ KB\n"
     ]
    }
   ],
   "source": [
    "calls.info()"
   ]
  },
  {
   "cell_type": "code",
   "execution_count": 72,
   "metadata": {},
   "outputs": [
    {
     "name": "stdout",
     "output_type": "stream",
     "text": [
      "['Contract Name', 'Last Trade Date', 'Strike', 'Last Price', 'Bid', 'Ask', 'Change', '% Change', 'Volume', 'Open Interest', 'Implied Volatility']\n"
     ]
    }
   ],
   "source": [
    "someIndex = 3#len(calls) // 2\n",
    "keys = list(calls.keys())\n",
    "print(keys)\n",
    "## Same as keys = calls.columns.values\n",
    "\n",
    "values = [calls[k][someIndex] for k in keys]\n",
    "\n",
    "dictio = {k : v for (k,v) in zip(keys, values)}"
   ]
  },
  {
   "cell_type": "code",
   "execution_count": 73,
   "metadata": {},
   "outputs": [
    {
     "data": {
      "text/plain": [
       "['SPY211126C00330000',\n",
       " '2021-11-24 10:11AM EST',\n",
       " 330.0,\n",
       " 136.4,\n",
       " 139.46,\n",
       " 139.57,\n",
       " -1.37,\n",
       " '-0.99%',\n",
       " '4',\n",
       " '24',\n",
       " '257.81%']"
      ]
     },
     "execution_count": 73,
     "metadata": {},
     "output_type": "execute_result"
    }
   ],
   "source": [
    "values"
   ]
  },
  {
   "cell_type": "code",
   "execution_count": 74,
   "metadata": {},
   "outputs": [
    {
     "data": {
      "text/plain": [
       "dict_keys(['Contract Name', 'Last Trade Date', 'Strike', 'Last Price', 'Bid', 'Ask', 'Change', '% Change', 'Volume', 'Open Interest', 'Implied Volatility'])"
      ]
     },
     "execution_count": 74,
     "metadata": {},
     "output_type": "execute_result"
    }
   ],
   "source": [
    "dictio.keys()"
   ]
  },
  {
   "cell_type": "code",
   "execution_count": 75,
   "metadata": {},
   "outputs": [
    {
     "name": "stdout",
     "output_type": "stream",
     "text": [
      "Contract Name :  SPY211126C00330000\n",
      "Last Trade Date :  2021-11-24 10:11AM EST\n",
      "Strike :  330.0\n",
      "Last Price :  136.4\n",
      "Bid :  139.46\n",
      "Ask :  139.57\n",
      "Change :  -1.37\n",
      "% Change :  -0.99%\n",
      "Volume :  4\n",
      "Open Interest :  24\n",
      "Implied Volatility :  257.81%\n"
     ]
    }
   ],
   "source": [
    "for k in dictio.keys():\n",
    "    print(k, \": \", dictio[k])"
   ]
  },
  {
   "cell_type": "code",
   "execution_count": 79,
   "metadata": {},
   "outputs": [],
   "source": [
    "## The iterator loops over the keys of the dictionary\n",
    "it = iter(dictio)"
   ]
  },
  {
   "cell_type": "code",
   "execution_count": 91,
   "metadata": {},
   "outputs": [
    {
     "ename": "StopIteration",
     "evalue": "",
     "output_type": "error",
     "traceback": [
      "\u001b[1;31m---------------------------------------------------------------------------\u001b[0m",
      "\u001b[1;31mStopIteration\u001b[0m                             Traceback (most recent call last)",
      "\u001b[1;32m~\\AppData\\Local\\Temp/ipykernel_18104/2349864655.py\u001b[0m in \u001b[0;36m<module>\u001b[1;34m\u001b[0m\n\u001b[1;32m----> 1\u001b[1;33m \u001b[0mke\u001b[0m \u001b[1;33m=\u001b[0m \u001b[0mnext\u001b[0m\u001b[1;33m(\u001b[0m\u001b[0mit\u001b[0m\u001b[1;33m)\u001b[0m\u001b[1;33m\u001b[0m\u001b[1;33m\u001b[0m\u001b[0m\n\u001b[0m\u001b[0;32m      2\u001b[0m \u001b[0mprint\u001b[0m\u001b[1;33m(\u001b[0m\u001b[0mke\u001b[0m\u001b[1;33m,\u001b[0m \u001b[1;34m\": \"\u001b[0m\u001b[1;33m,\u001b[0m \u001b[0mdictio\u001b[0m\u001b[1;33m[\u001b[0m\u001b[0mke\u001b[0m\u001b[1;33m]\u001b[0m\u001b[1;33m)\u001b[0m\u001b[1;33m\u001b[0m\u001b[1;33m\u001b[0m\u001b[0m\n",
      "\u001b[1;31mStopIteration\u001b[0m: "
     ]
    }
   ],
   "source": [
    "ke = next(it)\n",
    "print(ke, \": \", dictio[ke])"
   ]
  },
  {
   "cell_type": "markdown",
   "metadata": {},
   "source": [
    "### Generators"
   ]
  },
  {
   "cell_type": "markdown",
   "metadata": {},
   "source": [
    "Generators are similar to functions, but do not destroy the local environment within a Python function once the function has been evaluated."
   ]
  },
  {
   "cell_type": "code",
   "execution_count": 121,
   "metadata": {},
   "outputs": [
    {
     "name": "stdout",
     "output_type": "stream",
     "text": [
      "'it' is of type  <class 'generator'>\n"
     ]
    }
   ],
   "source": [
    "def generate_ints(N):\n",
    "    for i in range(N):\n",
    "        yield i\n",
    "## there is no `return' command for generators\n",
    "\n",
    "it = generate_ints(20)\n",
    "print(\"'it' is of type \", type(it))"
   ]
  },
  {
   "cell_type": "code",
   "execution_count": 122,
   "metadata": {},
   "outputs": [
    {
     "name": "stdout",
     "output_type": "stream",
     "text": [
      "0\n",
      "1\n",
      "2\n"
     ]
    }
   ],
   "source": [
    "print(next(it))\n",
    "print(next(it))\n",
    "print(next(it))"
   ]
  },
  {
   "cell_type": "markdown",
   "metadata": {},
   "source": [
    "You can also modify the value of an internal counter within a generator, using the send() method."
   ]
  },
  {
   "cell_type": "code",
   "execution_count": 125,
   "metadata": {},
   "outputs": [],
   "source": [
    "def counter(maxValue):\n",
    "    i = 0\n",
    "    while i < maxValue:\n",
    "        val = yield i\n",
    "        # If a value is provided, we change the counter\n",
    "        if val is not None:\n",
    "            i = val\n",
    "        else:\n",
    "            i += 1"
   ]
  },
  {
   "cell_type": "code",
   "execution_count": 126,
   "metadata": {},
   "outputs": [
    {
     "name": "stdout",
     "output_type": "stream",
     "text": [
      "0\n",
      "1\n"
     ]
    }
   ],
   "source": [
    "it = counter(10)\n",
    "print(next(it))\n",
    "print(next(it))"
   ]
  },
  {
   "cell_type": "code",
   "execution_count": 127,
   "metadata": {},
   "outputs": [
    {
     "name": "stdout",
     "output_type": "stream",
     "text": [
      "8\n",
      "9\n"
     ]
    }
   ],
   "source": [
    "it.send(7)\n",
    "print(next(it))\n",
    "print(next(it))"
   ]
  },
  {
   "cell_type": "markdown",
   "metadata": {},
   "source": [
    "The other useful methods on generators are\n",
    "- throw() to raise an exception\n",
    "- close() to terminate the iteration within the generator"
   ]
  },
  {
   "cell_type": "markdown",
   "metadata": {},
   "source": [
    "### Built-in functions for iterators"
   ]
  },
  {
   "cell_type": "code",
   "execution_count": 128,
   "metadata": {},
   "outputs": [
    {
     "data": {
      "text/plain": [
       "'BNP'"
      ]
     },
     "execution_count": 128,
     "metadata": {},
     "output_type": "execute_result"
    }
   ],
   "source": [
    "## the map() function returns an iterator over a sequence\n",
    "def upper(word):\n",
    "    return word.upper()\n",
    "\n",
    "listNames = ['bnp', 'python', 'equities', 'rates', 'commodities']\n",
    "m = map(upper, listNames)\n",
    "next(m)"
   ]
  },
  {
   "cell_type": "code",
   "execution_count": 129,
   "metadata": {},
   "outputs": [
    {
     "data": {
      "text/plain": [
       "'PYTHON'"
      ]
     },
     "execution_count": 129,
     "metadata": {},
     "output_type": "execute_result"
    }
   ],
   "source": [
    "next(m)"
   ]
  },
  {
   "cell_type": "markdown",
   "metadata": {},
   "source": [
    "#### `enumerate()`"
   ]
  },
  {
   "cell_type": "code",
   "execution_count": 130,
   "metadata": {},
   "outputs": [
    {
     "name": "stdout",
     "output_type": "stream",
     "text": [
      "0 bnp\n",
      "1 python\n",
      "2 equities\n",
      "3 rates\n",
      "4 commodities\n"
     ]
    }
   ],
   "source": [
    "for i in range(len(listNames)):\n",
    "    print(i, listNames[i])"
   ]
  },
  {
   "cell_type": "code",
   "execution_count": 132,
   "metadata": {},
   "outputs": [
    {
     "name": "stdout",
     "output_type": "stream",
     "text": [
      "0 bnp\n",
      "1 python\n",
      "2 equities\n",
      "3 rates\n",
      "4 commodities\n"
     ]
    }
   ],
   "source": [
    "## enumerate() returns 2-tuples containing counts and elements:\n",
    "for (name_id, name) in enumerate(listNames):\n",
    "    print(name_id, name)"
   ]
  },
  {
   "cell_type": "markdown",
   "metadata": {},
   "source": [
    "#### `sorted()` and `sort()`"
   ]
  },
  {
   "cell_type": "code",
   "execution_count": 133,
   "metadata": {},
   "outputs": [
    {
     "data": {
      "text/plain": [
       "[('c', 1), ('a', 2), ('d', 4)]"
      ]
     },
     "execution_count": 133,
     "metadata": {},
     "output_type": "execute_result"
    }
   ],
   "source": [
    "unsortedList = [(\"a\", 2), (\"c\", 1), (\"d\", 4)]\n",
    "unsortedList.sort(key=lambda x: x[1])\n",
    "unsortedList"
   ]
  },
  {
   "cell_type": "markdown",
   "metadata": {},
   "source": [
    "**Problem:** The original list has been modified."
   ]
  },
  {
   "cell_type": "code",
   "execution_count": 134,
   "metadata": {},
   "outputs": [
    {
     "data": {
      "text/plain": [
       "[('c', 1), ('a', 2), ('d', 4)]"
      ]
     },
     "execution_count": 134,
     "metadata": {},
     "output_type": "execute_result"
    }
   ],
   "source": [
    "unsortedList = [(\"a\", 2), (\"c\", 1), (\"d\", 4)]\n",
    "sorted(unsortedList, key=lambda x: x[1])"
   ]
  },
  {
   "cell_type": "code",
   "execution_count": 135,
   "metadata": {},
   "outputs": [
    {
     "data": {
      "text/plain": [
       "[('a', 2), ('c', 1), ('d', 4)]"
      ]
     },
     "execution_count": 135,
     "metadata": {},
     "output_type": "execute_result"
    }
   ],
   "source": [
    "unsortedList"
   ]
  },
  {
   "cell_type": "markdown",
   "metadata": {},
   "source": [
    "The main difference is that the original list is unchanged when using `sorted()`."
   ]
  },
  {
   "cell_type": "markdown",
   "metadata": {},
   "source": [
    "#### `zip()`"
   ]
  },
  {
   "cell_type": "markdown",
   "metadata": {},
   "source": [
    "`zip` converts multiple sequences and combines them into tuple. Here is an example creating a dictionary counting the letters in names:"
   ]
  },
  {
   "cell_type": "code",
   "execution_count": 136,
   "metadata": {},
   "outputs": [
    {
     "data": {
      "text/plain": [
       "{'Tao': 3,\n",
       " 'Mirko': 5,\n",
       " 'Arvid': 5,\n",
       " 'Gabriele': 8,\n",
       " 'Hendrik': 7,\n",
       " 'Camille': 7,\n",
       " 'Dimosthenis': 11}"
      ]
     },
     "execution_count": 136,
     "metadata": {},
     "output_type": "execute_result"
    }
   ],
   "source": [
    "names = ['Tao', 'Mirko', 'Arvid', 'Gabriele', 'Hendrik', 'Camille', 'Dimosthenis']\n",
    "ll = map(len, names)\n",
    "dict(zip(names, ll))"
   ]
  },
  {
   "cell_type": "markdown",
   "metadata": {},
   "source": [
    "*Example: iterating over maturities and strikes*"
   ]
  },
  {
   "cell_type": "markdown",
   "metadata": {},
   "source": [
    "### A Finance example"
   ]
  },
  {
   "cell_type": "code",
   "execution_count": 137,
   "metadata": {},
   "outputs": [],
   "source": [
    "## We define the implied volatility by bisection\n",
    "from scipy.stats import norm\n",
    "from scipy.optimize import bisect\n",
    "import matplotlib.pyplot as plt\n",
    "\n",
    "def BlackScholesCallPrice(S, K, T, sigma, r):\n",
    "    \"\"\"European Call option price in the Black-Scholes model\n",
    "    S: initial value for the stock price\n",
    "    K: strike\n",
    "    T: maturity\n",
    "    r: constant risk-free rate\n",
    "    \"\"\"\n",
    "    d1 = (np.log(S/K) + (r+.5*sigma**2)*T) / (sigma * np.sqrt(T))\n",
    "    d2 = d1 - sigma * np.sqrt(T)\n",
    "    return S*norm.cdf(d1) - K*np.exp (-r*T) * norm.cdf (d2)\n",
    "\n",
    "def impliedVol(S, K, T, r, price):\n",
    "    \"\"\"Computes the implied volatility given a Call option price\n",
    "    S: initial value for the stock price\n",
    "    K: strike\n",
    "    T: maturity\n",
    "    r: constant risk-free rate\n",
    "    price: observed price to match\n",
    "    \"\"\"\n",
    "    def smileMin(vol, *args):\n",
    "        S, K, T, r, price = args\n",
    "        return price - BlackScholesCallPrice(S, K, T, vol, r)\n",
    "    vMin = 0.0001\n",
    "    vMax = 3.\n",
    "    return bisect(smileMin, vMin, vMax, args=(S, K, T, r, price), rtol=1e-15, full_output=False, disp=True)"
   ]
  },
  {
   "cell_type": "code",
   "execution_count": 138,
   "metadata": {},
   "outputs": [
    {
     "name": "stdout",
     "output_type": "stream",
     "text": [
      "The implied volatility is equal to 1.4% for a Call option worth 0.1\n"
     ]
    }
   ],
   "source": [
    "## Example:\n",
    "S, K, T, r, callput = 1., 0.9,  1., 0., 1\n",
    "price = 0.1\n",
    "print(\"The implied volatility is equal to \" + str(np.round(100*impliedVol(S, K, T, r, price), 2)) + \"% for a Call option worth \" + str(np.round(price, 2)))"
   ]
  },
  {
   "cell_type": "markdown",
   "metadata": {},
   "source": [
    "Example of generated option prices and implied volatilities"
   ]
  },
  {
   "cell_type": "code",
   "execution_count": 140,
   "metadata": {},
   "outputs": [
    {
     "data": {
      "image/png": "[encoded data removed]",
      "text/plain": [
       "<Figure size 1008x432 with 2 Axes>"
      ]
     },
     "metadata": {},
     "output_type": "display_data"
    }
   ],
   "source": [
    "S, T, r, callput = 1., 1., 0., 1\n",
    "nbStrikes = 10\n",
    "KK = np.linspace(0.7, 1.3, nbStrikes)\n",
    "prices = [0.5*np.minimum(1./(2.*K), 1)*(S+ np.maximum(S-K, 0.)) for K in KK]\n",
    "ivs = [impliedVol(S, K, T, r, p) for (K,p) in zip(KK, prices)]\n",
    "\n",
    "plt.figure(figsize=(14, 6))\n",
    "plt.subplot(221)\n",
    "plt.plot(KK, [S for _ in KK], 'k--', label=\"Upper bound\")\n",
    "plt.plot(KK, [np.maximum(S-K,0.) for K in KK], 'c--', label=\"Lower bound\")\n",
    "plt.plot(KK, prices, 'b+', label=\"Prices\")\n",
    "plt.legend(loc=\"best\")\n",
    "plt.xlabel(\"Strike\")\n",
    "plt.title(\"Call option prices\")\n",
    "\n",
    "plt.subplot(222)\n",
    "plt.plot(KK, ivs, 'b+')\n",
    "plt.title(\"Implied volatilities\")\n",
    "plt.xlabel(\"Strike\")\n",
    "plt.show()"
   ]
  },
  {
   "cell_type": "markdown",
   "metadata": {},
   "source": [
    "Suppose now we want to be able to run the impliedVol() function for a whole range of strikes and option prices at the same time."
   ]
  },
  {
   "cell_type": "code",
   "execution_count": 141,
   "metadata": {},
   "outputs": [],
   "source": [
    "impliedVols = map(lambda K, p: impliedVol(S, K, T, r, p), KK, prices)"
   ]
  },
  {
   "cell_type": "code",
   "execution_count": 142,
   "metadata": {},
   "outputs": [
    {
     "data": {
      "text/plain": [
       "map"
      ]
     },
     "execution_count": 142,
     "metadata": {},
     "output_type": "execute_result"
    }
   ],
   "source": [
    "type(impliedVols)"
   ]
  },
  {
   "cell_type": "code",
   "execution_count": 143,
   "metadata": {},
   "outputs": [
    {
     "data": {
      "text/plain": [
       "array([0.89, 0.79, 0.72, 0.68, 0.65, 0.65, 0.67, 0.69, 0.7 , 0.72])"
      ]
     },
     "execution_count": 143,
     "metadata": {},
     "output_type": "execute_result"
    }
   ],
   "source": [
    "ivs = list(impliedVols)\n",
    "np.round(ivs, 2)"
   ]
  },
  {
   "cell_type": "code",
   "execution_count": 144,
   "metadata": {},
   "outputs": [],
   "source": [
    "## Note that we could have written this as a list comprehension as well:\n",
    "ivs = [impliedVol(S, K, T, r, p) for (K,p) in zip(KK, prices)]"
   ]
  },
  {
   "cell_type": "markdown",
   "metadata": {},
   "source": [
    "**Exercise**\n",
    "\n",
    "Only returns the implied volatilities above a certain threshold."
   ]
  },
  {
   "cell_type": "code",
   "execution_count": 145,
   "metadata": {},
   "outputs": [],
   "source": [
    "threshold = .68\n",
    "\n",
    "ivs_filtered = list(filter(lambda x: x>threshold, ivs))\n",
    "TrueFalse = list(map(lambda x: x>threshold, ivs))\n",
    "KK_filtered = [K for (i,K) in enumerate(KK) if TrueFalse[i]] ## select the corresdonding strikes"
   ]
  },
  {
   "cell_type": "code",
   "execution_count": 146,
   "metadata": {},
   "outputs": [
    {
     "data": {
      "image/png": "[encoded data removed]",
      "text/plain": [
       "<Figure size 576x288 with 1 Axes>"
      ]
     },
     "metadata": {},
     "output_type": "display_data"
    }
   ],
   "source": [
    "plt.figure(figsize=(8,4))\n",
    "plt.plot(KK, ivs, 'b+', markersize=12, label=\"Before filter\")\n",
    "plt.plot(KK_filtered, ivs_filtered, 'ko', mfc='None', markersize=12, label=\"After filter\")\n",
    "plt.legend(loc=\"best\")\n",
    "plt.title(\"Implied volatilities\")\n",
    "plt.xlabel(\"Strike\")\n",
    "plt.show()"
   ]
  },
  {
   "cell_type": "markdown",
   "metadata": {},
   "source": [
    "# The itertools module\n",
    "The itertools module contains a number of commonly-used iterators as well as functions for combining several iterators.\n",
    "We only show some basic and useful examples."
   ]
  },
  {
   "cell_type": "code",
   "execution_count": 147,
   "metadata": {},
   "outputs": [],
   "source": [
    "import itertools"
   ]
  },
  {
   "cell_type": "code",
   "execution_count": 153,
   "metadata": {},
   "outputs": [
    {
     "data": {
      "text/plain": [
       "repeat('abc', 5)"
      ]
     },
     "execution_count": 153,
     "metadata": {},
     "output_type": "execute_result"
    }
   ],
   "source": [
    "itertools.repeat('abc', 5)"
   ]
  },
  {
   "cell_type": "code",
   "execution_count": 154,
   "metadata": {},
   "outputs": [
    {
     "data": {
      "text/plain": [
       "itertools.repeat"
      ]
     },
     "execution_count": 154,
     "metadata": {},
     "output_type": "execute_result"
    }
   ],
   "source": [
    "type(itertools.repeat('abc', 5))"
   ]
  },
  {
   "cell_type": "code",
   "execution_count": 155,
   "metadata": {},
   "outputs": [
    {
     "data": {
      "text/plain": [
       "['abc', 'abc', 'abc', 'abc', 'abc']"
      ]
     },
     "execution_count": 155,
     "metadata": {},
     "output_type": "execute_result"
    }
   ],
   "source": [
    "list(itertools.repeat('abc', 5))"
   ]
  },
  {
   "cell_type": "code",
   "execution_count": 156,
   "metadata": {},
   "outputs": [
    {
     "data": {
      "text/plain": [
       "['a', 'b', 'c', 1, 2, 3]"
      ]
     },
     "execution_count": 156,
     "metadata": {},
     "output_type": "execute_result"
    }
   ],
   "source": [
    "list(itertools.chain(['a', 'b', 'c'], (1, 2, 3)))"
   ]
  },
  {
   "cell_type": "code",
   "execution_count": 157,
   "metadata": {},
   "outputs": [
    {
     "name": "stdout",
     "output_type": "stream",
     "text": [
      "[(1, 2), (1, 3), (1, 4), (1, 5), (2, 3), (2, 4), (2, 5), (3, 4), (3, 5), (4, 5)]\n",
      "Number of elements:  10\n"
     ]
    }
   ],
   "source": [
    "## Combinatorics\n",
    "comb = itertools.combinations([1, 2, 3, 4, 5], 2)\n",
    "combL = list(comb)\n",
    "print(combL)\n",
    "print(\"Number of elements: \", len(combL))"
   ]
  },
  {
   "cell_type": "markdown",
   "metadata": {},
   "source": [
    "Note that the elements within each output tuple are in the same order as the original iterable input"
   ]
  },
  {
   "cell_type": "code",
   "execution_count": 158,
   "metadata": {},
   "outputs": [
    {
     "name": "stdout",
     "output_type": "stream",
     "text": [
      "[(1, 2), (1, 3), (1, 4), (1, 5), (2, 1), (2, 3), (2, 4), (2, 5), (3, 1), (3, 2), (3, 4), (3, 5), (4, 1), (4, 2), (4, 3), (4, 5), (5, 1), (5, 2), (5, 3), (5, 4)]\n",
      "Number of elements:  20\n"
     ]
    }
   ],
   "source": [
    "perm = itertools.permutations([1, 2, 3, 4, 5], 2)\n",
    "permL = list(perm)\n",
    "print(permL)\n",
    "print(\"Number of elements: \", len(permL))"
   ]
  },
  {
   "cell_type": "markdown",
   "metadata": {},
   "source": [
    "`itertools.groupby`"
   ]
  },
  {
   "cell_type": "markdown",
   "metadata": {},
   "source": [
    "`groupby()` collects all the consecutive elements from the underlying iterable that have the same key value, and returns a stream of 2-tuples containing a key value and an iterator for the elements with that key."
   ]
  },
  {
   "cell_type": "code",
   "execution_count": 159,
   "metadata": {},
   "outputs": [
    {
     "name": "stdout",
     "output_type": "stream",
     "text": [
      "Country:  England\n",
      "London\n",
      "Liverpool\n",
      "York\n",
      "Bath\n",
      "*******\n",
      "Country:  Ireland\n",
      "Dublin\n",
      "Cork\n",
      "Galway\n",
      "*******\n",
      "Country:  Northern Ireland\n",
      "Belfast\n",
      "Londonderry\n",
      "*******\n",
      "Country:  Scotland\n",
      "Edinburg\n",
      "Glasgow\n",
      "Perth\n",
      "*******\n",
      "Country:  Wales\n",
      "Cardiff\n",
      "Swansea\n",
      "*******\n"
     ]
    }
   ],
   "source": [
    "ukCities = [('Edinburg', 'Scotland'), ('London', 'England'), ('Cardiff', 'Wales'),\n",
    "             ('Dublin', 'Ireland'), ('Belfast', 'Northern Ireland'), ('Glasgow', 'Scotland'), \n",
    "              ('Perth', 'Scotland'), ('Liverpool', 'England'), ('York', 'England'), ('Bath', 'England'), \n",
    "              ('Swansea', 'Wales'), ('Cork', 'Ireland'), ('Galway', 'Ireland'), ('Londonderry', 'Northern Ireland')]\n",
    "\n",
    "def get_country(myList):\n",
    "    return myList[1]\n",
    "\n",
    "data = sorted(ukCities, key=lambda x: x[1])\n",
    "itg = itertools.groupby(data, get_country)\n",
    "for i in itg:\n",
    "    print(\"Country: \", i[0])\n",
    "    for j in i[1]:\n",
    "        print(j[0])\n",
    "    print(\"*******\")"
   ]
  },
  {
   "cell_type": "markdown",
   "metadata": {},
   "source": [
    "# Decorators"
   ]
  },
  {
   "cell_type": "markdown",
   "metadata": {},
   "source": [
    "We have seen how to define functions on functions. We now move on, for the final part of this session,  how to modify (or  `decorate`) functions."
   ]
  },
  {
   "cell_type": "code",
   "execution_count": 161,
   "metadata": {},
   "outputs": [
    {
     "name": "stdout",
     "output_type": "stream",
     "text": [
      "<function myComment at 0x0000017066987820>\n"
     ]
    }
   ],
   "source": [
    "def decorate(f):\n",
    "    def wrapper():\n",
    "        print(\"***Something to do before the function is called***\")\n",
    "        f()\n",
    "        print(\"***Something to do after the function is called***\")\n",
    "    return wrapper\n",
    "\n",
    "def myComment():\n",
    "    print(\"My lecturer is amazing\")\n",
    "\n",
    "print(myComment)\n",
    "myComment = decorate(myComment)"
   ]
  },
  {
   "cell_type": "code",
   "execution_count": 162,
   "metadata": {},
   "outputs": [
    {
     "name": "stdout",
     "output_type": "stream",
     "text": [
      "***Something to do before the function is called***\n",
      "My lecturer is amazing\n",
      "***Something to do after the function is called***\n"
     ]
    }
   ],
   "source": [
    "myComment()"
   ]
  },
  {
   "cell_type": "markdown",
   "metadata": {},
   "source": [
    "The function `myComment` now refers to the decorator instead of the function itself, indeed:"
   ]
  },
  {
   "cell_type": "code",
   "execution_count": 163,
   "metadata": {},
   "outputs": [
    {
     "data": {
      "text/plain": [
       "<function __main__.decorate.<locals>.wrapper()>"
      ]
     },
     "execution_count": 163,
     "metadata": {},
     "output_type": "execute_result"
    }
   ],
   "source": [
    "myComment"
   ]
  },
  {
   "cell_type": "markdown",
   "metadata": {},
   "source": [
    "## The `pie` syntax"
   ]
  },
  {
   "cell_type": "markdown",
   "metadata": {},
   "source": [
    "How to avoid repeating the function name too many times."
   ]
  },
  {
   "cell_type": "code",
   "execution_count": 171,
   "metadata": {},
   "outputs": [],
   "source": [
    "def decorate(f):\n",
    "    def wrapper():\n",
    "        print(\"***Something to do before the function is called***\")\n",
    "        f()\n",
    "        print(\"***Something to do after the function is called***\")\n",
    "    return wrapper\n",
    "\n",
    "@decorate\n",
    "def myComment():\n",
    "    print(\"My lecturer is amazing\")"
   ]
  },
  {
   "cell_type": "code",
   "execution_count": 173,
   "metadata": {},
   "outputs": [
    {
     "data": {
      "text/plain": [
       "<function __main__.decorate.<locals>.wrapper()>"
      ]
     },
     "execution_count": 173,
     "metadata": {},
     "output_type": "execute_result"
    }
   ],
   "source": [
    "myComment"
   ]
  },
  {
   "cell_type": "code",
   "execution_count": 174,
   "metadata": {},
   "outputs": [
    {
     "name": "stdout",
     "output_type": "stream",
     "text": [
      "***Something to do before the function is called***\n",
      "My lecturer is amazing\n",
      "***Something to do after the function is called***\n"
     ]
    }
   ],
   "source": [
    "myComment()"
   ]
  },
  {
   "cell_type": "markdown",
   "metadata": {},
   "source": [
    "## Decorating functions with arguments"
   ]
  },
  {
   "cell_type": "code",
   "execution_count": 175,
   "metadata": {},
   "outputs": [
    {
     "ename": "TypeError",
     "evalue": "wrapper() takes 0 positional arguments but 2 were given",
     "output_type": "error",
     "traceback": [
      "\u001b[1;31m---------------------------------------------------------------------------\u001b[0m",
      "\u001b[1;31mTypeError\u001b[0m                                 Traceback (most recent call last)",
      "\u001b[1;32m~\\AppData\\Local\\Temp/ipykernel_18104/3245286599.py\u001b[0m in \u001b[0;36m<module>\u001b[1;34m\u001b[0m\n\u001b[0;32m     18\u001b[0m     \u001b[1;32mreturn\u001b[0m \u001b[0mpayoff\u001b[0m\u001b[1;33m\u001b[0m\u001b[1;33m\u001b[0m\u001b[0m\n\u001b[0;32m     19\u001b[0m \u001b[1;33m\u001b[0m\u001b[0m\n\u001b[1;32m---> 20\u001b[1;33m \u001b[0mcallOptionType\u001b[0m\u001b[1;33m(\u001b[0m\u001b[1;36m100\u001b[0m\u001b[1;33m,\u001b[0m \u001b[1;36m90\u001b[0m\u001b[1;33m)\u001b[0m\u001b[1;33m\u001b[0m\u001b[1;33m\u001b[0m\u001b[0m\n\u001b[0m",
      "\u001b[1;31mTypeError\u001b[0m: wrapper() takes 0 positional arguments but 2 were given"
     ]
    }
   ],
   "source": [
    "def decorate(f):\n",
    "    def wrapper():\n",
    "        print(\"***Something to do before the function is called***\")\n",
    "        f()\n",
    "        print(\"***Something to do after the function is called***\")\n",
    "    return wrapper\n",
    "\n",
    "@decorate\n",
    "def callOptionType(S, K):\n",
    "    if S<K:\n",
    "        msg = \"The Call option is out of the money\"\n",
    "    elif S>K:\n",
    "        msg = \"The Call option is in the money\"\n",
    "    else:\n",
    "        msg = \"The Call option is at the money\"\n",
    "    print(msg)\n",
    "    payoff = np.maximum(S-K, 0.)\n",
    "    return payoff\n",
    "        \n",
    "callOptionType(100, 90)"
   ]
  },
  {
   "cell_type": "code",
   "execution_count": 176,
   "metadata": {},
   "outputs": [
    {
     "name": "stdout",
     "output_type": "stream",
     "text": [
      "***Something to do before the function is called***\n",
      "The Call option is in the money\n",
      "***Something to do after the function is called***\n"
     ]
    }
   ],
   "source": [
    "def decorate(f):\n",
    "    def wrapper(*args):\n",
    "        print(\"***Something to do before the function is called***\")\n",
    "        f(*args)\n",
    "        print(\"***Something to do after the function is called***\")\n",
    "    return wrapper\n",
    "\n",
    "@decorate\n",
    "def callOptionType(S, K):\n",
    "    if S<K:\n",
    "        msg = \"The Call option is out of the money\"\n",
    "    elif S>K:\n",
    "        msg = \"The Call option is in the money\"\n",
    "    else:\n",
    "        msg = \"The Call option is at the money\"\n",
    "        \n",
    "    print(msg)\n",
    "    payoff = np.maximum(S-K, 0.)\n",
    "    return payoff\n",
    "        \n",
    "callOptionType(100., 90.)"
   ]
  },
  {
   "cell_type": "markdown",
   "metadata": {},
   "source": [
    "Note however that the wrapper inside the decorator does not return anything. \n",
    "The decorator did not return the value of the `callOptionType` function. We need to make sure the wrapper function returns the value of the decorated function."
   ]
  },
  {
   "cell_type": "code",
   "execution_count": 179,
   "metadata": {},
   "outputs": [
    {
     "name": "stdout",
     "output_type": "stream",
     "text": [
      "***Something to do before the function is called***\n",
      "The Call option is in the money\n",
      "***Something to do after the function is called***\n",
      "The Call option is in the money\n"
     ]
    },
    {
     "data": {
      "text/plain": [
       "10.0"
      ]
     },
     "execution_count": 179,
     "metadata": {},
     "output_type": "execute_result"
    }
   ],
   "source": [
    "def decorate(f):\n",
    "    def wrapper(*args):\n",
    "        print(\"***Something to do before the function is called***\")\n",
    "        f(*args)\n",
    "        print(\"***Something to do after the function is called***\")\n",
    "        return f(*args)\n",
    "    return wrapper\n",
    "\n",
    "@decorate\n",
    "def callOptionType(S, K):\n",
    "    if S<K:\n",
    "        msg = \"The Call option is out of the money\"\n",
    "    elif S>K:\n",
    "        msg = \"The Call option is in the money\"\n",
    "    else:\n",
    "        msg = \"The Call option is at the money\"\n",
    "        \n",
    "    print(msg)\n",
    "    payoff = np.maximum(S-K, 0.)\n",
    "    return payoff\n",
    "        \n",
    "callOptionType(100, 90)"
   ]
  },
  {
   "cell_type": "markdown",
   "metadata": {},
   "source": [
    "## Introspection?"
   ]
  },
  {
   "cell_type": "markdown",
   "metadata": {},
   "source": [
    "What is `callOptionType`?"
   ]
  },
  {
   "cell_type": "code",
   "execution_count": 180,
   "metadata": {},
   "outputs": [
    {
     "data": {
      "text/plain": [
       "<function __main__.decorate.<locals>.wrapper(*args)>"
      ]
     },
     "execution_count": 180,
     "metadata": {},
     "output_type": "execute_result"
    }
   ],
   "source": [
    "callOptionType"
   ]
  },
  {
   "cell_type": "code",
   "execution_count": 181,
   "metadata": {},
   "outputs": [
    {
     "data": {
      "text/plain": [
       "'wrapper'"
      ]
     },
     "execution_count": 181,
     "metadata": {},
     "output_type": "execute_result"
    }
   ],
   "source": [
    "callOptionType.__name__"
   ]
  },
  {
   "cell_type": "code",
   "execution_count": 182,
   "metadata": {},
   "outputs": [
    {
     "name": "stdout",
     "output_type": "stream",
     "text": [
      "Help on function wrapper in module __main__:\n",
      "\n",
      "wrapper(*args)\n",
      "\n"
     ]
    }
   ],
   "source": [
    "help(callOptionType)"
   ]
  },
  {
   "cell_type": "code",
   "execution_count": 189,
   "metadata": {},
   "outputs": [
    {
     "name": "stdout",
     "output_type": "stream",
     "text": [
      "***Something to do before the function is called***\n",
      "The Call option is in the money\n",
      "***Something to do after the function is called***\n",
      "The Call option is in the money\n"
     ]
    },
    {
     "data": {
      "text/plain": [
       "10.0"
      ]
     },
     "execution_count": 189,
     "metadata": {},
     "output_type": "execute_result"
    }
   ],
   "source": [
    "import functools\n",
    "\n",
    "def decorate(f):\n",
    "    @functools.wraps(f)\n",
    "    def wrapper(*args):\n",
    "        print(\"***Something to do before the function is called***\")\n",
    "        f(*args)\n",
    "        print(\"***Something to do after the function is called***\")\n",
    "        return f(*args)\n",
    "    return wrapper\n",
    "\n",
    "@decorate\n",
    "def callOptionType(S, K):\n",
    "    if S<K:\n",
    "        msg = \"The Call option is out of the money\"\n",
    "    elif S>K:\n",
    "        msg = \"The Call option is in the money\"\n",
    "    else:\n",
    "        msg = \"The Call option is at the money\"\n",
    "    print(msg)\n",
    "    payoff = np.maximum(S-K, 0.)\n",
    "    return payoff\n",
    "        \n",
    "callOptionType(100, 90)"
   ]
  },
  {
   "cell_type": "code",
   "execution_count": 190,
   "metadata": {},
   "outputs": [
    {
     "data": {
      "text/plain": [
       "<function __main__.callOptionType(S, K)>"
      ]
     },
     "execution_count": 190,
     "metadata": {},
     "output_type": "execute_result"
    }
   ],
   "source": [
    "callOptionType"
   ]
  },
  {
   "cell_type": "code",
   "execution_count": 185,
   "metadata": {},
   "outputs": [
    {
     "data": {
      "text/plain": [
       "'callOptionType'"
      ]
     },
     "execution_count": 185,
     "metadata": {},
     "output_type": "execute_result"
    }
   ],
   "source": [
    "callOptionType.__name__"
   ]
  },
  {
   "cell_type": "code",
   "execution_count": 186,
   "metadata": {},
   "outputs": [
    {
     "name": "stdout",
     "output_type": "stream",
     "text": [
      "Help on function callOptionType in module __main__:\n",
      "\n",
      "callOptionType(S, K)\n",
      "\n"
     ]
    }
   ],
   "source": [
    "help(callOptionType)"
   ]
  },
  {
   "cell_type": "markdown",
   "metadata": {},
   "source": [
    "# Conclusion"
   ]
  },
  {
   "cell_type": "markdown",
   "metadata": {},
   "source": [
    "Functional Programming can be very useful, but Python is not a pure FP programming language (like Haskell). It is in fact a multi-paradigm language, and FP should be used with parsimony, not religiously."
   ]
  }
 ],
 "metadata": {
  "kernelspec": {
   "display_name": "Python 3.9.6 64-bit",
   "language": "python",
   "name": "python3"
  },
  "language_info": {
   "codemirror_mode": {
    "name": "ipython",
    "version": 3
   },
   "file_extension": ".py",
   "mimetype": "text/x-python",
   "name": "python",
   "nbconvert_exporter": "python",
   "pygments_lexer": "ipython3",
   "version": "3.9.6"
  },
  "latex_envs": {
   "LaTeX_envs_menu_present": true,
   "autoclose": false,
   "autocomplete": true,
   "bibliofile": "biblio.bib",
   "cite_by": "apalike",
   "current_citInitial": 1,
   "eqLabelWithNumbers": true,
   "eqNumInitial": 1,
   "hotkeys": {
    "equation": "Ctrl-E",
    "itemize": "Ctrl-I"
   },
   "labels_anchors": false,
   "latex_user_defs": false,
   "report_style_numbering": false,
   "user_envs_cfg": false
  },
  "toc": {
   "base_numbering": 1,
   "nav_menu": {
    "height": "358px",
    "width": "666px"
   },
   "number_sections": true,
   "sideBar": true,
   "skip_h1_title": false,
   "title_cell": "Table of Contents",
   "title_sidebar": "Contents",
   "toc_cell": false,
   "toc_position": {},
   "toc_section_display": true,
   "toc_window_display": false
  },
  "vscode": {
   "interpreter": {
    "hash": "b0fa6594d8f4cbf19f97940f81e996739fb7646882a419484c72d19e05852a7e"
   }
  }
 },
 "nbformat": 4,
 "nbformat_minor": 4
}
