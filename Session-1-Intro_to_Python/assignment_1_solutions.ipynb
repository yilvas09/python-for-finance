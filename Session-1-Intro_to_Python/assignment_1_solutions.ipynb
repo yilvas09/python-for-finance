{
 "cells": [
  {
   "cell_type": "markdown",
   "metadata": {},
   "source": [
    "# 1. Exercise:\n",
    "Let’s say I give you a list saved in a variable: a = [1, 4, 9, 16, 25, 36, 49, 64, 81, 100]. Write a Python function that takes this list a and makes a new list that has only the even elements of this list in it.\n",
    "\n"
   ]
  },
  {
   "cell_type": "code",
   "execution_count": 1,
   "metadata": {},
   "outputs": [],
   "source": [
    "def even_only(input_list):\n",
    "    \"\"\"\n",
    "    input: list of integers\n",
    "    \n",
    "    \n",
    "    output: list of even ibntegers\n",
    "    \n",
    "    \"\"\"\n",
    "    \n",
    "    ### % performs the modulo operation\n",
    "    return [element for element in input_list if element%2==0]\n",
    "#Alternative\n",
    "def even_only2(input_list):\n",
    "    \"\"\"\n",
    "    input: list of integers\n",
    "    \n",
    "    \n",
    "    output: list of even ibntegers\n",
    "    \n",
    "    \"\"\"\n",
    "    ### Same code using a for loop\n",
    "    return_list=[]\n",
    "    for element in input_list:\n",
    "        if element%2==0:\n",
    "            return_list.append(element)\n",
    "            \n",
    "    \n",
    "    return return_list"
   ]
  },
  {
   "cell_type": "code",
   "execution_count": 2,
   "metadata": {},
   "outputs": [
    {
     "name": "stdout",
     "output_type": "stream",
     "text": [
      "[2, 4, 6, 8]\n",
      "[2, 4, 6, 8]\n"
     ]
    }
   ],
   "source": [
    "example_list=[1,2,3,4,5,6,7,8,9]\n",
    "print(even_only(example_list))\n",
    "print(even_only2(example_list))"
   ]
  },
  {
   "cell_type": "markdown",
   "metadata": {},
   "source": [
    "# 2. Exercise\n",
    "\n",
    "Create a function that finds the integer divisors of an input integer. A list of all the divisors of that number is the expected output. (If you don’t know what a divisor is, it is a number that divides evenly into another number. For example, 13 is a divisor of 26 because 26 / 13 has no remainder.)\n",
    "\n"
   ]
  },
  {
   "cell_type": "code",
   "execution_count": 3,
   "metadata": {},
   "outputs": [],
   "source": [
    "def find_divisors(input_integer):\n",
    "    \"\"\"\n",
    "    input: input integer\n",
    "    \n",
    "    \n",
    "    output: list of divisors\n",
    "    \n",
    "    \"\"\"\n",
    "    #Check that modulo is zero to decide whether a number is a divisor or not\n",
    "    divisor_list=[]\n",
    "    for i in range(1,int(input_integer/2)+1):\n",
    "        if input_integer%i==0:\n",
    "            divisor_list.append(i)\n",
    "    \n",
    "   \n",
    "    return divisor_list"
   ]
  },
  {
   "cell_type": "code",
   "execution_count": 4,
   "metadata": {},
   "outputs": [
    {
     "data": {
      "text/plain": [
       "[1, 5, 25]"
      ]
     },
     "execution_count": 4,
     "metadata": {},
     "output_type": "execute_result"
    }
   ],
   "source": [
    "find_divisors(125)"
   ]
  },
  {
   "cell_type": "markdown",
   "metadata": {},
   "source": [
    "# 3. Exercise\n",
    "Create a function to determine whether a number is prime or not. (For those who have forgotten, a prime number is a number that has no divisors.). You can (and should!) use your answer to Exercise 2 to help you. \n",
    "\n"
   ]
  },
  {
   "cell_type": "code",
   "execution_count": 5,
   "metadata": {},
   "outputs": [],
   "source": [
    "def check_prime(input_integer):\n",
    "    \"\"\"\n",
    "    input: input integer\n",
    "    \n",
    "    \n",
    "    output: boolean true or false\n",
    "    \n",
    "    \"\"\"\n",
    "   \n",
    "    \n",
    "    ### If the only divisor is 1, then the number is prime\n",
    "    return True if len(find_divisors(input_integer))==1 else False"
   ]
  },
  {
   "cell_type": "code",
   "execution_count": 6,
   "metadata": {},
   "outputs": [
    {
     "data": {
      "text/plain": [
       "True"
      ]
     },
     "execution_count": 6,
     "metadata": {},
     "output_type": "execute_result"
    }
   ],
   "source": [
    "check_prime(7)"
   ]
  },
  {
   "cell_type": "code",
   "execution_count": 7,
   "metadata": {},
   "outputs": [
    {
     "data": {
      "text/plain": [
       "False"
      ]
     },
     "execution_count": 7,
     "metadata": {},
     "output_type": "execute_result"
    }
   ],
   "source": [
    "check_prime(8)"
   ]
  },
  {
   "cell_type": "markdown",
   "metadata": {},
   "source": [
    "# 4. Exercise \n",
    "\n",
    "Write a function that asks the user how many Fibonnaci numbers to generate and then generates them. Take this opportunity to think about how you can use functions. Make sure to ask the user to enter the number of numbers in the sequence to generate.(Hint: The Fibonnaci seqence is a sequence of numbers where the next number in the sequence is the sum of the previous two numbers in the sequence. The sequence looks like this: 1, 1, 2, 3, 5, 8, 13, …)\n",
    "\n"
   ]
  },
  {
   "cell_type": "code",
   "execution_count": 8,
   "metadata": {},
   "outputs": [],
   "source": [
    "def fibonnaci_generator(input_integer):\n",
    "    \"\"\"\n",
    "    input: # of fibonacci numbers to generate \n",
    "    \n",
    "    \n",
    "    output: list of fibonacci numbers\n",
    "    \n",
    "    \"\"\"\n",
    "    if input_integer==1:\n",
    "        return [1]\n",
    "    elif input_integer==2:\n",
    "        return [1,1]\n",
    "    else:\n",
    "        fibonnacci_list=[1,1]\n",
    "        fibo_n_minus_1=1\n",
    "        fibo_n_minus_2=1\n",
    "        for i in range(2,input_integer):\n",
    "            fibo_n=fibo_n_minus_1+fibo_n_minus_2\n",
    "            fibonnacci_list.append(fibo_n)\n",
    "            fibo_n_minus_2=fibo_n_minus_1\n",
    "            fibo_n_minus_1=fibo_n\n",
    "            \n",
    "        \n",
    "    \n",
    "    ### Your code goes here\n",
    "    return fibonnacci_list"
   ]
  },
  {
   "cell_type": "code",
   "execution_count": 9,
   "metadata": {},
   "outputs": [
    {
     "data": {
      "text/plain": [
       "[1, 1, 2, 3, 5, 8, 13, 21, 34, 55]"
      ]
     },
     "execution_count": 9,
     "metadata": {},
     "output_type": "execute_result"
    }
   ],
   "source": [
    "fibonnaci_generator(10)"
   ]
  },
  {
   "cell_type": "markdown",
   "metadata": {},
   "source": [
    "# 5. Exercise\n",
    "Take two lists, say for example these two:\n",
    "\n",
    "  a = [1, 1, 2, 3, 5, 8, 13, 21, 34, 55, 89]\n",
    "  \n",
    "  b = [1, 2, 3, 4, 5, 6, 7, 8, 9, 10, 11, 12, 13]\n",
    "  \n",
    "and write a program that returns a list that contains only the elements that are common between the lists (without duplicates). Make sure your program works on two lists of different sizes.\n",
    "\n"
   ]
  },
  {
   "cell_type": "code",
   "execution_count": 10,
   "metadata": {},
   "outputs": [],
   "source": [
    "def intersection(list_a,list_b):\n",
    "    \"\"\"\n",
    "    input: two integer lists\n",
    "    \n",
    "    \n",
    "    output: intersection of lists\n",
    "    \n",
    "    \"\"\"\n",
    "    \n",
    "    ### the nest line finds common numbers\n",
    "    common_numbers=[x for x in list_a if x in list_b]\n",
    "    # In the output we remove duplicates using the function set()\n",
    "    return list(set(common_numbers))"
   ]
  },
  {
   "cell_type": "code",
   "execution_count": 11,
   "metadata": {},
   "outputs": [
    {
     "data": {
      "text/plain": [
       "[1, 2, 3, 5, 8, 13]"
      ]
     },
     "execution_count": 11,
     "metadata": {},
     "output_type": "execute_result"
    }
   ],
   "source": [
    "a = [1, 1, 2, 3, 5, 8, 13, 21, 34, 55, 89]\n",
    "b = [1, 2, 3, 4, 5, 6, 7, 8, 9, 10, 11, 12, 13]\n",
    "intersection(a,b)"
   ]
  },
  {
   "cell_type": "code",
   "execution_count": null,
   "metadata": {},
   "outputs": [],
   "source": []
  }
 ],
 "metadata": {
  "kernelspec": {
   "display_name": "Python 3",
   "language": "python",
   "name": "python3"
  },
  "language_info": {
   "codemirror_mode": {
    "name": "ipython",
    "version": 3
   },
   "file_extension": ".py",
   "mimetype": "text/x-python",
   "name": "python",
   "nbconvert_exporter": "python",
   "pygments_lexer": "ipython3",
   "version": "3.6.9"
  }
 },
 "nbformat": 4,
 "nbformat_minor": 4
}
