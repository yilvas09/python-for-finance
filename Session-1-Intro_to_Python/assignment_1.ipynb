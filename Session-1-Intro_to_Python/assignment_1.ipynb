{
 "cells": [
  {
   "cell_type": "markdown",
   "metadata": {},
   "source": [
    "# 1. Exercise:\n",
    "Let’s say I give you a list saved in a variable: a = [1, 4, 9, 16, 25, 36, 49, 64, 81, 100]. Write a Python function that takes this list a and makes a new list that has **only the even elements** of this list in it.\n",
    "\n"
   ]
  },
  {
   "cell_type": "code",
   "execution_count": 13,
   "metadata": {},
   "outputs": [],
   "source": [
    "def even_only(input_list):\n",
    "    \"\"\"\n",
    "    input:\n",
    "    input_list: list of integers\n",
    "    \n",
    "    \n",
    "    output:\n",
    "    even_list: list of even integers\n",
    "    \n",
    "    \"\"\"\n",
    "    \n",
    "    even_list = list()\n",
    "    for i in range(0,len(input_list)):\n",
    "        if(i % 2 == 1):\n",
    "            even_list.append(input_list[i])\n",
    "    return even_list"
   ]
  },
  {
   "cell_type": "code",
   "execution_count": 14,
   "metadata": {},
   "outputs": [
    {
     "name": "stdout",
     "output_type": "stream",
     "text": [
      "[4, 16, 36, 64, 100]\n"
     ]
    }
   ],
   "source": [
    "# Testing\n",
    "a = [1, 4, 9, 16, 25, 36, 49, 64, 81, 100]\n",
    "print(even_only(a))"
   ]
  },
  {
   "cell_type": "markdown",
   "metadata": {},
   "source": [
    "# 2. Exercise\n",
    "\n",
    "Create a function that finds the integer divisors or an input integer. A list of all the divisors of that number is the expected output. (If you don’t know what a divisor is, it is a number that divides evenly into another number. For example, 13 is a divisor of 26 because 26 / 13 has no remainder.)\n",
    "\n"
   ]
  },
  {
   "cell_type": "code",
   "execution_count": 15,
   "metadata": {},
   "outputs": [],
   "source": [
    "import math as mt\n",
    "\n",
    "def find_divisors(n):\n",
    "    \"\"\"\n",
    "    input:\n",
    "    n: integer inputed\n",
    "    \n",
    "    \n",
    "    output: \n",
    "    divisor_list: list of divisors\n",
    "    \n",
    "    \"\"\"\n",
    "    \n",
    "    divisor_list = list()\n",
    "    for i in range(1,mt.floor(n/2)):\n",
    "        if(n % i == 0):\n",
    "            divisor_list.append(i)\n",
    "            divisor_list.append(n/i)\n",
    "    return divisor_list"
   ]
  },
  {
   "cell_type": "code",
   "execution_count": 16,
   "metadata": {},
   "outputs": [
    {
     "name": "stdout",
     "output_type": "stream",
     "text": [
      "[1, 26.0, 2, 13.0]\n"
     ]
    }
   ],
   "source": [
    "# Testing\n",
    "print(find_divisors(26))"
   ]
  },
  {
   "cell_type": "markdown",
   "metadata": {},
   "source": [
    "# 3. Exercise\n",
    "Create a function to determine whether a number is prime or not. (For those who have forgotten, a prime number is a number that has no divisors.). You can (and should!) use your answer to Exercise 2 to help you. \n",
    "\n"
   ]
  },
  {
   "cell_type": "code",
   "execution_count": 17,
   "metadata": {},
   "outputs": [],
   "source": [
    "def check_prime(input_integer):\n",
    "    \"\"\"\n",
    "    input: input integer\n",
    "    \n",
    "    \n",
    "    output: boolean true or false\n",
    "    \n",
    "    \"\"\"\n",
    "    \n",
    "    if(len(find_divisors(input_integer)) == 2):\n",
    "        is_prime = True\n",
    "    else:\n",
    "        is_prime = False\n",
    "    return is_prime"
   ]
  },
  {
   "cell_type": "code",
   "execution_count": 18,
   "metadata": {},
   "outputs": [
    {
     "name": "stdout",
     "output_type": "stream",
     "text": [
      "False\n",
      "True\n"
     ]
    }
   ],
   "source": [
    "# Testing\n",
    "print(check_prime(26))\n",
    "print(check_prime(23))"
   ]
  },
  {
   "cell_type": "markdown",
   "metadata": {},
   "source": [
    "# 4. Exercise \n",
    "\n",
    "Write a function that asks the user how many Fibonnaci numbers to generate and then generates them. Take this opportunity to think about how you can use functions. Make sure to ask the user to enter the number of numbers in the sequence to generate.(Hint: The Fibonnaci seqence is a sequence of numbers where the next number in the sequence is the sum of the previous two numbers in the sequence. The sequence looks like this: 1, 1, 2, 3, 5, 8, 13, …)\n",
    "\n"
   ]
  },
  {
   "cell_type": "code",
   "execution_count": 19,
   "metadata": {},
   "outputs": [],
   "source": [
    "def fibonnaci_generator(n):\n",
    "    \"\"\"\n",
    "    input:\n",
    "    n: # of fibonacci numbers to generate \n",
    "    \n",
    "    \n",
    "    output: list of fibonacci numbers\n",
    "    \n",
    "    \"\"\"\n",
    "    fibonnacci_list = list()\n",
    "    if(n == 1):\n",
    "        fibonnacci_list.append(1)\n",
    "    else:\n",
    "        # initialise the first 2 terms\n",
    "        fibonnacci_list.append(1)\n",
    "        fibonnacci_list.append(1)\n",
    "        # sum over the last 2 term\n",
    "        for i in range(2,n):\n",
    "            fibonnacci_list.append(fibonnacci_list[i-1]+fibonnacci_list[i-2])\n",
    "    return fibonnacci_list"
   ]
  },
  {
   "cell_type": "code",
   "execution_count": 20,
   "metadata": {},
   "outputs": [
    {
     "name": "stdout",
     "output_type": "stream",
     "text": [
      "[1, 1, 2, 3, 5, 8, 13]\n"
     ]
    }
   ],
   "source": [
    "# Testing\n",
    "print(fibonnaci_generator(7))"
   ]
  },
  {
   "cell_type": "markdown",
   "metadata": {},
   "source": [
    "# 5. Exercise\n",
    "Take two lists, say for example these two:\n",
    "\n",
    "  a = [1, 1, 2, 3, 5, 8, 13, 21, 34, 55, 89]\n",
    "  \n",
    "  b = [1, 2, 3, 4, 5, 6, 7, 8, 9, 10, 11, 12, 13]\n",
    "  \n",
    "and write a program that returns a list that contains only the elements that are common between the lists **(without duplicates)**. Make sure your program **works on two lists of different sizes**.\n",
    "\n"
   ]
  },
  {
   "cell_type": "code",
   "execution_count": 23,
   "metadata": {},
   "outputs": [],
   "source": [
    "import copy\n",
    "\n",
    "# from numpy import append\n",
    "\n",
    "def intersection(list_a,list_b):\n",
    "    \"\"\"\n",
    "    input: two integer lists\n",
    "    \n",
    "    \n",
    "    output: intersection of lists\n",
    "    \n",
    "    \"\"\"\n",
    "    \n",
    "    if(len(list_a)>len(list_b)):\n",
    "        temp = copy.deepcopy(list_a)\n",
    "        list_a = copy.deepcopy(list_b)\n",
    "        list_b = copy.deepcopy(temp)\n",
    "    list_a.sort()\n",
    "    list_b.sort()\n",
    "    len_a = len(list_a)\n",
    "    len_b = len(list_b)\n",
    "    i,j = 0,0\n",
    "    pre_val = 0\n",
    "    intersec_list = list()\n",
    "    while(i<len_a and j<len_b):\n",
    "        if((list_a[i]==list_b[j]) and not (list_a[i]==pre_val)):\n",
    "            intersec_list.append(list_a[i])\n",
    "            pre_val = list_a[i]\n",
    "            i = i + 1\n",
    "            j = j + 1\n",
    "        elif(list_a[i]>list_b[j]):\n",
    "            j = j + 1\n",
    "        else:\n",
    "            i = i + 1\n",
    "    \n",
    "    return intersec_list"
   ]
  },
  {
   "cell_type": "code",
   "execution_count": 26,
   "metadata": {},
   "outputs": [
    {
     "name": "stdout",
     "output_type": "stream",
     "text": [
      "[1, 2, 3, 5, 8, 13]\n"
     ]
    }
   ],
   "source": [
    "# Testing\n",
    "a = [1, 1, 2, 3, 5, 8, 13, 21, 34, 55, 89]\n",
    "b = [1, 2, 3, 4, 5, 6, 7, 8, 9, 10, 11, 12, 13]\n",
    "print(intersection(a,b))"
   ]
  }
 ],
 "metadata": {
  "kernelspec": {
   "display_name": "Python 3.9.6 64-bit",
   "language": "python",
   "name": "python3"
  },
  "language_info": {
   "codemirror_mode": {
    "name": "ipython",
    "version": 3
   },
   "file_extension": ".py",
   "mimetype": "text/x-python",
   "name": "python",
   "nbconvert_exporter": "python",
   "pygments_lexer": "ipython3",
   "version": "3.9.6"
  },
  "vscode": {
   "interpreter": {
    "hash": "b0fa6594d8f4cbf19f97940f81e996739fb7646882a419484c72d19e05852a7e"
   }
  }
 },
 "nbformat": 4,
 "nbformat_minor": 4
}
