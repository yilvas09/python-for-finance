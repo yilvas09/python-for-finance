{
 "cells": [
  {
   "cell_type": "markdown",
   "id": "57a92fec-5b12-4da6-833f-a02680858cdb",
   "metadata": {},
   "source": [
    "Python for Finance --- Exam template\n",
    "----\n",
    "***\n"
   ]
  },
  {
   "cell_type": "markdown",
   "id": "6e85bae0-d299-4fb8-9c9e-791ac67f378c",
   "metadata": {},
   "source": [
    "## GENERAL INSTRUCTIONS\n",
    "\n",
    "\n",
    "- For each question, you are asked to create a function with specific inputs and outputs.\n",
    "\n",
    "- You should copy / paste all your functions, one after the others, in a single file named `CID.py`\n",
    "\n",
    "- You may only use the following libraries (and none other)\n",
    "\n",
    "- Grading details:\n",
    "    + Clarity of the code (name of temporary variables, comments)\n",
    "    + Efficiency of the code (speed)"
   ]
  },
  {
   "cell_type": "markdown",
   "id": "dd41fd9d-d211-4f66-b127-9db377bb93a3",
   "metadata": {},
   "source": [
    "---"
   ]
  },
  {
   "cell_type": "code",
   "execution_count": null,
   "id": "40f81878",
   "metadata": {},
   "outputs": [],
   "source": [
    "import platform\n",
    "print(platform.python_version())"
   ]
  },
  {
   "cell_type": "code",
   "execution_count": null,
   "id": "5c2dc786-84d8-477a-8b95-978b40156e1e",
   "metadata": {},
   "outputs": [],
   "source": [
    "import numpy as np\n",
    "from abc import ABC,abstractmethod"
   ]
  },
  {
   "cell_type": "markdown",
   "id": "5261bf3a-4a68-4147-a3aa-b89b0a2acf7f",
   "metadata": {},
   "source": [
    "# Problem : OOP and Monte Carlo\n",
    "\n",
    "### Consider the following 2 models\n",
    "\n",
    "\\begin{align} S_T &=S_0\\exp\\left(-\\frac{1}{2}\\sigma^2 T +\\sigma W_T\\right),\\quad &\\text{(Model 1: Black-Scholes)} \\\\\n",
    "S_T &=S_0+ \\sigma W_T ,\\quad &\\text{(Model 2: Bachelier)}\\end{align}\n",
    "\n",
    "### where $W_T\\sim \\mathcal{N}(0,T)$ for $T\\geq 0$ is a standard Brownian Motion. You may use `np.random.normal(mean,std)` to simulate a normal random variable"
   ]
  },
  {
   "cell_type": "markdown",
   "id": "8c816518",
   "metadata": {},
   "source": [
    "### We will implement a MonteCarloEngine base class that computes the price of an european option using Monte Carlo methods. The base class will derive in two subclassess 1) Black-Scholes and 2) Bachelier"
   ]
  },
  {
   "cell_type": "markdown",
   "id": "303c48ab",
   "metadata": {},
   "source": [
    "# Question 1:\n",
    "\n",
    "Implement `simulate_one_path(self,T:float)` method for each model following the equations described above for $S_T$ and the class template given below\n",
    "Input:\n",
    "- T: float time to maturity\n",
    "\n",
    "Output:\n",
    "- a sample $(S_T)$ from the corresponding model\n",
    "\n",
    "You may use `np.random.normal(mean,std)` to simulate a normal random variable"
   ]
  },
  {
   "cell_type": "code",
   "execution_count": null,
   "id": "eab51299",
   "metadata": {},
   "outputs": [],
   "source": [
    "class MonteCarloEngine(ABC):\n",
    "    def __init__(self, S0,sigma):\n",
    "        self.S0=S0\n",
    "        self.sigma=sigma\n",
    "    \n",
    "    def price_european_option(self, K:float, T:float,CP:bool,M:int)->float:\n",
    "        '''\n",
    "        #Inputs:\n",
    "        S0: initial stock price\n",
    "        K: strike\n",
    "        T: time to maturity\n",
    "        CP: True for call, False for put\n",
    "        '''\n",
    "        pass\n",
    "        \n",
    "    def simulate_multiple_paths(self,T:float,M:int)->np.array:\n",
    "        '''\n",
    "        #Inputs:\n",
    "        T: time to maturity\n",
    "        #Outputs:\n",
    "        an array of terminal values of S_T\n",
    "        '''\n",
    "        pass\n",
    "    @abstractmethod\n",
    "    def simulate_one_path(self,T:float)->float:\n",
    "        '''\n",
    "        #Inputs:\n",
    "        T: time to maturity\n",
    "        #Outputs:\n",
    "        Simulated terminal value of S_T\n",
    "        '''\n",
    "        pass\n",
    "    \n",
    "        \n",
    "class Black_Scholes(MonteCarloEngine): \n",
    "    def __init__(self, S0,sigma):\n",
    "        super().__init__(S0,sigma)\n",
    "    def simulate_one_path(self ,T:float)->float:\n",
    "        pass\n",
    "    \n",
    "class Bachelier(MonteCarloEngine):\n",
    "    def __init__(self, S0,sigma):\n",
    "        super().__init__(S0,sigma)\n",
    "    def simulate_one_path(self ,T:float)->float:\n",
    "        pass\n",
    "        "
   ]
  },
  {
   "cell_type": "markdown",
   "id": "91aa66ed",
   "metadata": {},
   "source": [
    "\n",
    "### You may also use the following script to verify your results:"
   ]
  },
  {
   "cell_type": "code",
   "execution_count": null,
   "id": "6e7c4a38",
   "metadata": {},
   "outputs": [],
   "source": [
    "def test_function_problem1_Bachelier(S0:float,sigma:float,T:float):\n",
    "    np.random.seed(0)\n",
    "    engine=Bachelier(S0,sigma)\n",
    "    return engine.simulate_one_path(T)"
   ]
  },
  {
   "cell_type": "code",
   "execution_count": null,
   "id": "fb27f167",
   "metadata": {},
   "outputs": [],
   "source": [
    "def test_function_problem1_Black_Scholes(S0:float,sigma:float,T:float):\n",
    "    np.random.seed(0)\n",
    "    engine=Black_Scholes(S0,sigma)\n",
    "    return engine.simulate_one_path(T)"
   ]
  },
  {
   "cell_type": "markdown",
   "id": "f6adffff",
   "metadata": {},
   "source": [
    "### `test_function_problem1_Bachelier(1,0.2,1)` should return `1.3528104691935328`"
   ]
  },
  {
   "cell_type": "markdown",
   "id": "70054c97",
   "metadata": {},
   "source": [
    "### `test_function_problem1_Black_Scholes(1,0.2,1)` should return `1.3948829001337903`"
   ]
  },
  {
   "cell_type": "code",
   "execution_count": null,
   "id": "b6bdc26c",
   "metadata": {
    "scrolled": true
   },
   "outputs": [],
   "source": [
    "test_function_problem1_Bachelier(1,0.2,1)"
   ]
  },
  {
   "cell_type": "code",
   "execution_count": null,
   "id": "c9ac2e50",
   "metadata": {},
   "outputs": [],
   "source": [
    "test_function_problem1_Black_Scholes(1,0.2,1)"
   ]
  },
  {
   "cell_type": "markdown",
   "id": "8a41e87c-e090-4f08-868f-6d8de2c99ad2",
   "metadata": {},
   "source": [
    "# Question 2:\n",
    "\n",
    "Write a `simulate_multiple_paths(self,T:float)` base class method with the folowing specifications\n",
    "\n",
    "Input:\n",
    "- T: float time to maturity\n",
    "- M: integer number of samples\n",
    "\n",
    "Output:\n",
    "- a sample $(S_T^j)_{j=1,\\ldots, m}$, represented as a np.array() of dimension M.\n",
    "\n",
    "\n",
    "You may also use the following script to check your results:"
   ]
  },
  {
   "cell_type": "code",
   "execution_count": null,
   "id": "4add5e3b-4c24-4d15-a399-77db93736b50",
   "metadata": {},
   "outputs": [],
   "source": [
    "def test_function_problem2_Bachelier(S0:float,sigma:float,T:float,M:int):\n",
    "    np.random.seed(0)\n",
    "    engine=Bachelier(S0,sigma)\n",
    "    return engine.simulate_multiple_paths(T,M)"
   ]
  },
  {
   "cell_type": "code",
   "execution_count": null,
   "id": "731f7ae6",
   "metadata": {},
   "outputs": [],
   "source": [
    "def test_function_problem2_Black_Scholes(S0:float,sigma:float,T:float,M:int):\n",
    "    np.random.seed(0)\n",
    "    engine=Black_Scholes(S0,sigma)\n",
    "    return engine.simulate_multiple_paths(T,M)"
   ]
  },
  {
   "cell_type": "markdown",
   "id": "850a281a",
   "metadata": {},
   "source": [
    "`test_function_problem2_Bachelier(1,0.2,1,10)` should return `array([1.35281047, 1.08003144, 1.1957476 , 1.44817864, 1.3735116 ,0.80454442, 1.19001768, 0.96972856, 0.97935623, 1.0821197 ])`"
   ]
  },
  {
   "cell_type": "markdown",
   "id": "1e4692ea",
   "metadata": {},
   "source": [
    "`test_function_problem2_Black_Scholes(1,0.2,1,10)` should return `array([1.3948829 , 1.06186993, 1.19213712, 1.53446017, 1.4240595 ,0.80617408, 1.18532581, 0.95097126, 0.96017111, 1.06408971])`"
   ]
  },
  {
   "cell_type": "code",
   "execution_count": null,
   "id": "2694bd48",
   "metadata": {},
   "outputs": [],
   "source": [
    "test_function_problem2_Bachelier(1,0.2,1,10)"
   ]
  },
  {
   "cell_type": "code",
   "execution_count": null,
   "id": "8975dce2",
   "metadata": {},
   "outputs": [],
   "source": [
    "test_function_problem2_Black_Scholes(1,0.2,1,10)"
   ]
  },
  {
   "cell_type": "markdown",
   "id": "6f61a339",
   "metadata": {},
   "source": [
    "# Question 3:\n",
    "\n",
    "Write a `price_european_option(self, K:float, T:float,CP:bool)->float:` base class method with the following specifications\n",
    "\n",
    "Input:\n",
    "- K: float Strike\n",
    "- T: float time to maturity\n",
    "- CP: bool, True for call, False for pur\n",
    "- M: integer number of samples\n",
    "\n",
    "Output:\n",
    "- The monte carlo estimate of the euroean options price e.g.  $\\frac{1}{M}\\sum_{j=1}^M(S_T^j-K)^+$ for call and $\\frac{1}{M}\\sum_{j=1}^M(K-S_T^j)^+$ for puts.\n",
    "\n",
    "\n",
    "You may also use the following script to check your results:"
   ]
  },
  {
   "cell_type": "code",
   "execution_count": null,
   "id": "aab86a24",
   "metadata": {},
   "outputs": [],
   "source": [
    "def test_function_problem3_Bachelier(S0:float,sigma:float,K:float,T:float,CP: bool, M:int):\n",
    "    np.random.seed(0)\n",
    "    engine=Bachelier(S0,sigma)\n",
    "    return engine.price_european_option(K,T,CP,M)"
   ]
  },
  {
   "cell_type": "code",
   "execution_count": null,
   "id": "9bf4e3aa",
   "metadata": {},
   "outputs": [],
   "source": [
    "def test_function_problem3_Black_Scholes(S0:float,sigma:float,K:float,T:float,CP: bool, M:int):\n",
    "    np.random.seed(0)\n",
    "    engine=Black_Scholes(S0,sigma)\n",
    "    return engine.price_european_option(K,T,CP,M)"
   ]
  },
  {
   "cell_type": "markdown",
   "id": "f56314ce",
   "metadata": {},
   "source": [
    "`test_function_problem3_Bachelier(1,0.2,1.0,1.0,True,10)` should return `0.1722417129451203`"
   ]
  },
  {
   "cell_type": "markdown",
   "id": "8672dc68",
   "metadata": {},
   "source": [
    "`test_function_problem3_Black_Scholes(1,0.2,1.0,1.0,True,10)` should return `0.18568251508478412`"
   ]
  },
  {
   "cell_type": "code",
   "execution_count": null,
   "id": "301abbd8",
   "metadata": {},
   "outputs": [],
   "source": [
    "test_function_problem3_Bachelier(1,0.2,1.0,1.0,True,10)"
   ]
  },
  {
   "cell_type": "code",
   "execution_count": null,
   "id": "b268a6fb",
   "metadata": {},
   "outputs": [],
   "source": [
    "test_function_problem3_Black_Scholes(1,0.2,1.0,1.0,True,10)"
   ]
  }
 ],
 "metadata": {
  "kernelspec": {
   "display_name": "Python 3 (ipykernel)",
   "language": "python",
   "name": "python3"
  },
  "language_info": {
   "codemirror_mode": {
    "name": "ipython",
    "version": 3
   },
   "file_extension": ".py",
   "mimetype": "text/x-python",
   "name": "python",
   "nbconvert_exporter": "python",
   "pygments_lexer": "ipython3",
   "version": "3.8.10"
  }
 },
 "nbformat": 4,
 "nbformat_minor": 5
}