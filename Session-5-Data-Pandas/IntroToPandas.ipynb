{
 "cells": [
  {
   "cell_type": "markdown",
   "metadata": {
    "jp-MarkdownHeadingCollapsed": true,
    "tags": [],
    "zanadu": {}
   },
   "source": [
    "# **INTRODUCTION TO PANDAS**\n",
    "---\n",
    "<img src=\"http://www.doc.ic.ac.uk/~afd/images/logo_imperial_college_london.png\" align = \"left\" width=200>\n",
    " <br><br><br><br>\n",
    " \n",
    "- Copyright (c) Antoine Jacquier, 2022. All rights reserved\n",
    "\n",
    "- Author: Jack Jacquier <a.jacquier@imperial.ac.uk>\n",
    "\n",
    "- Platform: Tested on Windows 10 with Python 3.9"
   ]
  },
  {
   "cell_type": "markdown",
   "metadata": {},
   "source": [
    " **Origins**\n",
    " \n",
    " `pandas` was originally developed by [Wes McKinney](https://wesmckinney.com) while at AQR Capital in 2007-2010."
   ]
  },
  {
   "cell_type": "markdown",
   "metadata": {
    "zanadu": {}
   },
   "source": [
    "# Introduction to DataFrames"
   ]
  },
  {
   "cell_type": "code",
   "execution_count": 2,
   "metadata": {
    "zanadu": {
     "code_type": ""
    }
   },
   "outputs": [],
   "source": [
    "import numpy as np\n",
    "import pandas as pd\n",
    "import matplotlib.pylab as plt\n",
    "%matplotlib inline"
   ]
  },
  {
   "cell_type": "markdown",
   "metadata": {
    "zanadu": {}
   },
   "source": [
    "## Create a Dataframe with dates"
   ]
  },
  {
   "cell_type": "markdown",
   "metadata": {
    "zanadu": {}
   },
   "source": [
    "We start by creating series of Gaussian distributed values."
   ]
  },
  {
   "cell_type": "code",
   "execution_count": 3,
   "metadata": {},
   "outputs": [],
   "source": [
    "N = 10000 ## size of the dataframe"
   ]
  },
  {
   "cell_type": "code",
   "execution_count": 4,
   "metadata": {
    "zanadu": {
     "code_type": ""
    }
   },
   "outputs": [],
   "source": [
    "xx = np.random.standard_normal((N, 5))\n",
    "df = pd.DataFrame(xx)"
   ]
  },
  {
   "cell_type": "code",
   "execution_count": 5,
   "metadata": {},
   "outputs": [
    {
     "data": {
      "text/plain": [
       "pandas.core.frame.DataFrame"
      ]
     },
     "execution_count": 5,
     "metadata": {},
     "output_type": "execute_result"
    }
   ],
   "source": [
    "type(df)"
   ]
  },
  {
   "cell_type": "code",
   "execution_count": 6,
   "metadata": {
    "tags": []
   },
   "outputs": [
    {
     "data": {
      "text/html": [
       "<div>\n",
       "<style scoped>\n",
       "    .dataframe tbody tr th:only-of-type {\n",
       "        vertical-align: middle;\n",
       "    }\n",
       "\n",
       "    .dataframe tbody tr th {\n",
       "        vertical-align: top;\n",
       "    }\n",
       "\n",
       "    .dataframe thead th {\n",
       "        text-align: right;\n",
       "    }\n",
       "</style>\n",
       "<table border=\"1\" class=\"dataframe\">\n",
       "  <thead>\n",
       "    <tr style=\"text-align: right;\">\n",
       "      <th></th>\n",
       "      <th>0</th>\n",
       "      <th>1</th>\n",
       "      <th>2</th>\n",
       "      <th>3</th>\n",
       "      <th>4</th>\n",
       "    </tr>\n",
       "  </thead>\n",
       "  <tbody>\n",
       "    <tr>\n",
       "      <th>0</th>\n",
       "      <td>-1.185225</td>\n",
       "      <td>-0.432459</td>\n",
       "      <td>-0.930772</td>\n",
       "      <td>-0.444236</td>\n",
       "      <td>2.715638</td>\n",
       "    </tr>\n",
       "    <tr>\n",
       "      <th>1</th>\n",
       "      <td>0.074596</td>\n",
       "      <td>0.737836</td>\n",
       "      <td>-0.042033</td>\n",
       "      <td>0.615378</td>\n",
       "      <td>1.041118</td>\n",
       "    </tr>\n",
       "    <tr>\n",
       "      <th>2</th>\n",
       "      <td>1.820451</td>\n",
       "      <td>-0.829519</td>\n",
       "      <td>-0.533592</td>\n",
       "      <td>0.079130</td>\n",
       "      <td>-0.338118</td>\n",
       "    </tr>\n",
       "    <tr>\n",
       "      <th>3</th>\n",
       "      <td>0.402523</td>\n",
       "      <td>-3.431308</td>\n",
       "      <td>-0.234431</td>\n",
       "      <td>0.269451</td>\n",
       "      <td>-0.707448</td>\n",
       "    </tr>\n",
       "    <tr>\n",
       "      <th>4</th>\n",
       "      <td>-0.578479</td>\n",
       "      <td>-0.454762</td>\n",
       "      <td>2.765510</td>\n",
       "      <td>-0.959842</td>\n",
       "      <td>-1.192877</td>\n",
       "    </tr>\n",
       "  </tbody>\n",
       "</table>\n",
       "</div>"
      ],
      "text/plain": [
       "          0         1         2         3         4\n",
       "0 -1.185225 -0.432459 -0.930772 -0.444236  2.715638\n",
       "1  0.074596  0.737836 -0.042033  0.615378  1.041118\n",
       "2  1.820451 -0.829519 -0.533592  0.079130 -0.338118\n",
       "3  0.402523 -3.431308 -0.234431  0.269451 -0.707448\n",
       "4 -0.578479 -0.454762  2.765510 -0.959842 -1.192877"
      ]
     },
     "execution_count": 6,
     "metadata": {},
     "output_type": "execute_result"
    }
   ],
   "source": [
    "df.head() ## Print the top five rows"
   ]
  },
  {
   "cell_type": "code",
   "execution_count": 7,
   "metadata": {
    "zanadu": {
     "code_type": ""
    }
   },
   "outputs": [
    {
     "data": {
      "text/html": [
       "<div>\n",
       "<style scoped>\n",
       "    .dataframe tbody tr th:only-of-type {\n",
       "        vertical-align: middle;\n",
       "    }\n",
       "\n",
       "    .dataframe tbody tr th {\n",
       "        vertical-align: top;\n",
       "    }\n",
       "\n",
       "    .dataframe thead th {\n",
       "        text-align: right;\n",
       "    }\n",
       "</style>\n",
       "<table border=\"1\" class=\"dataframe\">\n",
       "  <thead>\n",
       "    <tr style=\"text-align: right;\">\n",
       "      <th></th>\n",
       "      <th>0</th>\n",
       "      <th>1</th>\n",
       "      <th>2</th>\n",
       "      <th>3</th>\n",
       "      <th>4</th>\n",
       "    </tr>\n",
       "  </thead>\n",
       "  <tbody>\n",
       "    <tr>\n",
       "      <th>9995</th>\n",
       "      <td>-0.924375</td>\n",
       "      <td>-0.279393</td>\n",
       "      <td>-2.578315</td>\n",
       "      <td>1.251906</td>\n",
       "      <td>1.504079</td>\n",
       "    </tr>\n",
       "    <tr>\n",
       "      <th>9996</th>\n",
       "      <td>0.091271</td>\n",
       "      <td>-0.174160</td>\n",
       "      <td>-0.311585</td>\n",
       "      <td>-0.381083</td>\n",
       "      <td>1.241198</td>\n",
       "    </tr>\n",
       "    <tr>\n",
       "      <th>9997</th>\n",
       "      <td>-0.401979</td>\n",
       "      <td>0.237689</td>\n",
       "      <td>2.053521</td>\n",
       "      <td>-1.970838</td>\n",
       "      <td>-0.842021</td>\n",
       "    </tr>\n",
       "    <tr>\n",
       "      <th>9998</th>\n",
       "      <td>-0.525454</td>\n",
       "      <td>-1.354948</td>\n",
       "      <td>-0.432670</td>\n",
       "      <td>-0.901390</td>\n",
       "      <td>-0.277830</td>\n",
       "    </tr>\n",
       "    <tr>\n",
       "      <th>9999</th>\n",
       "      <td>-1.582074</td>\n",
       "      <td>0.559540</td>\n",
       "      <td>-0.523086</td>\n",
       "      <td>0.053440</td>\n",
       "      <td>-0.113646</td>\n",
       "    </tr>\n",
       "  </tbody>\n",
       "</table>\n",
       "</div>"
      ],
      "text/plain": [
       "             0         1         2         3         4\n",
       "9995 -0.924375 -0.279393 -2.578315  1.251906  1.504079\n",
       "9996  0.091271 -0.174160 -0.311585 -0.381083  1.241198\n",
       "9997 -0.401979  0.237689  2.053521 -1.970838 -0.842021\n",
       "9998 -0.525454 -1.354948 -0.432670 -0.901390 -0.277830\n",
       "9999 -1.582074  0.559540 -0.523086  0.053440 -0.113646"
      ]
     },
     "execution_count": 7,
     "metadata": {},
     "output_type": "execute_result"
    }
   ],
   "source": [
    "df.tail() ## Print the bottom five rows"
   ]
  },
  {
   "cell_type": "code",
   "execution_count": 8,
   "metadata": {},
   "outputs": [
    {
     "data": {
      "text/html": [
       "<div>\n",
       "<style scoped>\n",
       "    .dataframe tbody tr th:only-of-type {\n",
       "        vertical-align: middle;\n",
       "    }\n",
       "\n",
       "    .dataframe tbody tr th {\n",
       "        vertical-align: top;\n",
       "    }\n",
       "\n",
       "    .dataframe thead th {\n",
       "        text-align: right;\n",
       "    }\n",
       "</style>\n",
       "<table border=\"1\" class=\"dataframe\">\n",
       "  <thead>\n",
       "    <tr style=\"text-align: right;\">\n",
       "      <th></th>\n",
       "      <th>Series 1</th>\n",
       "      <th>Series 2</th>\n",
       "      <th>Series 3</th>\n",
       "      <th>Series 4</th>\n",
       "      <th>Series 5</th>\n",
       "    </tr>\n",
       "  </thead>\n",
       "  <tbody>\n",
       "    <tr>\n",
       "      <th>0</th>\n",
       "      <td>-1.185225</td>\n",
       "      <td>-0.432459</td>\n",
       "      <td>-0.930772</td>\n",
       "      <td>-0.444236</td>\n",
       "      <td>2.715638</td>\n",
       "    </tr>\n",
       "    <tr>\n",
       "      <th>1</th>\n",
       "      <td>0.074596</td>\n",
       "      <td>0.737836</td>\n",
       "      <td>-0.042033</td>\n",
       "      <td>0.615378</td>\n",
       "      <td>1.041118</td>\n",
       "    </tr>\n",
       "    <tr>\n",
       "      <th>2</th>\n",
       "      <td>1.820451</td>\n",
       "      <td>-0.829519</td>\n",
       "      <td>-0.533592</td>\n",
       "      <td>0.079130</td>\n",
       "      <td>-0.338118</td>\n",
       "    </tr>\n",
       "    <tr>\n",
       "      <th>3</th>\n",
       "      <td>0.402523</td>\n",
       "      <td>-3.431308</td>\n",
       "      <td>-0.234431</td>\n",
       "      <td>0.269451</td>\n",
       "      <td>-0.707448</td>\n",
       "    </tr>\n",
       "    <tr>\n",
       "      <th>4</th>\n",
       "      <td>-0.578479</td>\n",
       "      <td>-0.454762</td>\n",
       "      <td>2.765510</td>\n",
       "      <td>-0.959842</td>\n",
       "      <td>-1.192877</td>\n",
       "    </tr>\n",
       "  </tbody>\n",
       "</table>\n",
       "</div>"
      ],
      "text/plain": [
       "   Series 1  Series 2  Series 3  Series 4  Series 5\n",
       "0 -1.185225 -0.432459 -0.930772 -0.444236  2.715638\n",
       "1  0.074596  0.737836 -0.042033  0.615378  1.041118\n",
       "2  1.820451 -0.829519 -0.533592  0.079130 -0.338118\n",
       "3  0.402523 -3.431308 -0.234431  0.269451 -0.707448\n",
       "4 -0.578479 -0.454762  2.765510 -0.959842 -1.192877"
      ]
     },
     "execution_count": 8,
     "metadata": {},
     "output_type": "execute_result"
    }
   ],
   "source": [
    "df.columns = [\"Series 1\", \"Series 2\", \"Series 3\", \"Series 4\", \"Series 5\"]\n",
    "## Or more concisely:\n",
    "#df.columns = [\"Series %s\" % i  for i in range(1,6)]\n",
    "df.head()"
   ]
  },
  {
   "cell_type": "markdown",
   "metadata": {
    "zanadu": {}
   },
   "source": [
    "Note that the index (first column on the left) has no real meaning here. \n",
    "However, in practice, thinking or each other column as time series, it may represent dates. \n",
    "We re-index the whole dataframe with this in mind."
   ]
  },
  {
   "cell_type": "markdown",
   "metadata": {},
   "source": [
    "#### Specifying a start date\n",
    "\n",
    "Use the `date` type instead of strings."
   ]
  },
  {
   "cell_type": "code",
   "execution_count": 9,
   "metadata": {
    "zanadu": {
     "code_type": ""
    }
   },
   "outputs": [
    {
     "name": "stdout",
     "output_type": "stream",
     "text": [
      "Start date:  2018-01-01\n"
     ]
    }
   ],
   "source": [
    "startYear = '2018'\n",
    "startMonth = '01'\n",
    "startDay = '01'\n",
    "startDate = startYear + \"-\" + startMonth + \"-\" + startDay ## string concatenation\n",
    "print(\"Start date: \", startDate)"
   ]
  },
  {
   "cell_type": "code",
   "execution_count": 10,
   "metadata": {},
   "outputs": [
    {
     "data": {
      "text/html": [
       "<div>\n",
       "<style scoped>\n",
       "    .dataframe tbody tr th:only-of-type {\n",
       "        vertical-align: middle;\n",
       "    }\n",
       "\n",
       "    .dataframe tbody tr th {\n",
       "        vertical-align: top;\n",
       "    }\n",
       "\n",
       "    .dataframe thead th {\n",
       "        text-align: right;\n",
       "    }\n",
       "</style>\n",
       "<table border=\"1\" class=\"dataframe\">\n",
       "  <thead>\n",
       "    <tr style=\"text-align: right;\">\n",
       "      <th></th>\n",
       "      <th>Series 1</th>\n",
       "      <th>Series 2</th>\n",
       "      <th>Series 3</th>\n",
       "      <th>Series 4</th>\n",
       "      <th>Series 5</th>\n",
       "    </tr>\n",
       "    <tr>\n",
       "      <th>Date</th>\n",
       "      <th></th>\n",
       "      <th></th>\n",
       "      <th></th>\n",
       "      <th></th>\n",
       "      <th></th>\n",
       "    </tr>\n",
       "  </thead>\n",
       "  <tbody>\n",
       "    <tr>\n",
       "      <th>2018-01-01</th>\n",
       "      <td>-1.185225</td>\n",
       "      <td>-0.432459</td>\n",
       "      <td>-0.930772</td>\n",
       "      <td>-0.444236</td>\n",
       "      <td>2.715638</td>\n",
       "    </tr>\n",
       "    <tr>\n",
       "      <th>2018-01-02</th>\n",
       "      <td>0.074596</td>\n",
       "      <td>0.737836</td>\n",
       "      <td>-0.042033</td>\n",
       "      <td>0.615378</td>\n",
       "      <td>1.041118</td>\n",
       "    </tr>\n",
       "    <tr>\n",
       "      <th>2018-01-03</th>\n",
       "      <td>1.820451</td>\n",
       "      <td>-0.829519</td>\n",
       "      <td>-0.533592</td>\n",
       "      <td>0.079130</td>\n",
       "      <td>-0.338118</td>\n",
       "    </tr>\n",
       "    <tr>\n",
       "      <th>2018-01-04</th>\n",
       "      <td>0.402523</td>\n",
       "      <td>-3.431308</td>\n",
       "      <td>-0.234431</td>\n",
       "      <td>0.269451</td>\n",
       "      <td>-0.707448</td>\n",
       "    </tr>\n",
       "    <tr>\n",
       "      <th>2018-01-05</th>\n",
       "      <td>-0.578479</td>\n",
       "      <td>-0.454762</td>\n",
       "      <td>2.765510</td>\n",
       "      <td>-0.959842</td>\n",
       "      <td>-1.192877</td>\n",
       "    </tr>\n",
       "  </tbody>\n",
       "</table>\n",
       "</div>"
      ],
      "text/plain": [
       "            Series 1  Series 2  Series 3  Series 4  Series 5\n",
       "Date                                                        \n",
       "2018-01-01 -1.185225 -0.432459 -0.930772 -0.444236  2.715638\n",
       "2018-01-02  0.074596  0.737836 -0.042033  0.615378  1.041118\n",
       "2018-01-03  1.820451 -0.829519 -0.533592  0.079130 -0.338118\n",
       "2018-01-04  0.402523 -3.431308 -0.234431  0.269451 -0.707448\n",
       "2018-01-05 -0.578479 -0.454762  2.765510 -0.959842 -1.192877"
      ]
     },
     "execution_count": 10,
     "metadata": {},
     "output_type": "execute_result"
    }
   ],
   "source": [
    "dates = pd.date_range(startDate, periods=N, freq=\"D\")\n",
    "df.index = dates\n",
    "df.index.name = 'Date'\n",
    "df.head()"
   ]
  },
  {
   "cell_type": "markdown",
   "metadata": {
    "zanadu": {}
   },
   "source": [
    "## Basic dataframe manipulations"
   ]
  },
  {
   "cell_type": "code",
   "execution_count": 11,
   "metadata": {},
   "outputs": [
    {
     "data": {
      "text/plain": [
       "Index(['Series 1', 'Series 2', 'Series 3', 'Series 4', 'Series 5'], dtype='object')"
      ]
     },
     "execution_count": 11,
     "metadata": {},
     "output_type": "execute_result"
    }
   ],
   "source": [
    "df.keys()"
   ]
  },
  {
   "cell_type": "markdown",
   "metadata": {},
   "source": [
    "An Index is a `pandas` class for an immutable sequence, which is the basis for axes."
   ]
  },
  {
   "cell_type": "code",
   "execution_count": 12,
   "metadata": {
    "zanadu": {
     "code_type": ""
    }
   },
   "outputs": [
    {
     "name": "stdout",
     "output_type": "stream",
     "text": [
      "Names of columns: ['Series 1', 'Series 2', 'Series 3', 'Series 4', 'Series 5']\n"
     ]
    }
   ],
   "source": [
    "print('Names of columns:', [d for d in df.keys().values])\n",
    "## similarly df.columns"
   ]
  },
  {
   "cell_type": "markdown",
   "metadata": {},
   "source": [
    "Overview of the data:\n",
    "\n",
    "**Convenient for checking existence of nulls!**"
   ]
  },
  {
   "cell_type": "code",
   "execution_count": 13,
   "metadata": {},
   "outputs": [
    {
     "name": "stdout",
     "output_type": "stream",
     "text": [
      "<class 'pandas.core.frame.DataFrame'>\n",
      "DatetimeIndex: 10000 entries, 2018-01-01 to 2045-05-18\n",
      "Freq: D\n",
      "Data columns (total 5 columns):\n",
      " #   Column    Non-Null Count  Dtype  \n",
      "---  ------    --------------  -----  \n",
      " 0   Series 1  10000 non-null  float64\n",
      " 1   Series 2  10000 non-null  float64\n",
      " 2   Series 3  10000 non-null  float64\n",
      " 3   Series 4  10000 non-null  float64\n",
      " 4   Series 5  10000 non-null  float64\n",
      "dtypes: float64(5)\n",
      "memory usage: 468.8 KB\n"
     ]
    }
   ],
   "source": [
    "df.info()"
   ]
  },
  {
   "cell_type": "markdown",
   "metadata": {},
   "source": [
    "Basic statistics"
   ]
  },
  {
   "cell_type": "code",
   "execution_count": 14,
   "metadata": {},
   "outputs": [
    {
     "data": {
      "text/html": [
       "<div>\n",
       "<style scoped>\n",
       "    .dataframe tbody tr th:only-of-type {\n",
       "        vertical-align: middle;\n",
       "    }\n",
       "\n",
       "    .dataframe tbody tr th {\n",
       "        vertical-align: top;\n",
       "    }\n",
       "\n",
       "    .dataframe thead th {\n",
       "        text-align: right;\n",
       "    }\n",
       "</style>\n",
       "<table border=\"1\" class=\"dataframe\">\n",
       "  <thead>\n",
       "    <tr style=\"text-align: right;\">\n",
       "      <th></th>\n",
       "      <th>Series 1</th>\n",
       "      <th>Series 2</th>\n",
       "      <th>Series 3</th>\n",
       "      <th>Series 4</th>\n",
       "      <th>Series 5</th>\n",
       "    </tr>\n",
       "  </thead>\n",
       "  <tbody>\n",
       "    <tr>\n",
       "      <th>count</th>\n",
       "      <td>10000.000000</td>\n",
       "      <td>10000.000000</td>\n",
       "      <td>10000.000000</td>\n",
       "      <td>10000.000000</td>\n",
       "      <td>10000.000000</td>\n",
       "    </tr>\n",
       "    <tr>\n",
       "      <th>mean</th>\n",
       "      <td>-0.000816</td>\n",
       "      <td>-0.006140</td>\n",
       "      <td>-0.008694</td>\n",
       "      <td>0.014223</td>\n",
       "      <td>0.007999</td>\n",
       "    </tr>\n",
       "    <tr>\n",
       "      <th>std</th>\n",
       "      <td>1.001650</td>\n",
       "      <td>1.007617</td>\n",
       "      <td>0.998871</td>\n",
       "      <td>0.994533</td>\n",
       "      <td>0.998398</td>\n",
       "    </tr>\n",
       "    <tr>\n",
       "      <th>min</th>\n",
       "      <td>-3.695271</td>\n",
       "      <td>-3.999401</td>\n",
       "      <td>-3.903763</td>\n",
       "      <td>-3.384530</td>\n",
       "      <td>-4.008932</td>\n",
       "    </tr>\n",
       "    <tr>\n",
       "      <th>25%</th>\n",
       "      <td>-0.679359</td>\n",
       "      <td>-0.674069</td>\n",
       "      <td>-0.683945</td>\n",
       "      <td>-0.667621</td>\n",
       "      <td>-0.673879</td>\n",
       "    </tr>\n",
       "    <tr>\n",
       "      <th>50%</th>\n",
       "      <td>-0.011574</td>\n",
       "      <td>0.005124</td>\n",
       "      <td>-0.005549</td>\n",
       "      <td>0.018704</td>\n",
       "      <td>0.015266</td>\n",
       "    </tr>\n",
       "    <tr>\n",
       "      <th>75%</th>\n",
       "      <td>0.670705</td>\n",
       "      <td>0.669739</td>\n",
       "      <td>0.667059</td>\n",
       "      <td>0.703666</td>\n",
       "      <td>0.685215</td>\n",
       "    </tr>\n",
       "    <tr>\n",
       "      <th>max</th>\n",
       "      <td>4.419912</td>\n",
       "      <td>3.605134</td>\n",
       "      <td>3.549990</td>\n",
       "      <td>3.876187</td>\n",
       "      <td>3.873119</td>\n",
       "    </tr>\n",
       "  </tbody>\n",
       "</table>\n",
       "</div>"
      ],
      "text/plain": [
       "           Series 1      Series 2      Series 3      Series 4      Series 5\n",
       "count  10000.000000  10000.000000  10000.000000  10000.000000  10000.000000\n",
       "mean      -0.000816     -0.006140     -0.008694      0.014223      0.007999\n",
       "std        1.001650      1.007617      0.998871      0.994533      0.998398\n",
       "min       -3.695271     -3.999401     -3.903763     -3.384530     -4.008932\n",
       "25%       -0.679359     -0.674069     -0.683945     -0.667621     -0.673879\n",
       "50%       -0.011574      0.005124     -0.005549      0.018704      0.015266\n",
       "75%        0.670705      0.669739      0.667059      0.703666      0.685215\n",
       "max        4.419912      3.605134      3.549990      3.876187      3.873119"
      ]
     },
     "execution_count": 14,
     "metadata": {},
     "output_type": "execute_result"
    }
   ],
   "source": [
    "df.describe()"
   ]
  },
  {
   "cell_type": "markdown",
   "metadata": {
    "tags": []
   },
   "source": [
    "## Accessing elements from a dataframe\n",
    "\n",
    "A  DataFrame may be indexed like an array, specifying the row and column number using .iloc (index location).\n",
    "\n",
    "The location can be called either by the **index number (`iloc`)** or **by its name (`loc`)**."
   ]
  },
  {
   "cell_type": "code",
   "execution_count": 15,
   "metadata": {
    "zanadu": {
     "code_type": ""
    }
   },
   "outputs": [
    {
     "data": {
      "text/html": [
       "<div>\n",
       "<style scoped>\n",
       "    .dataframe tbody tr th:only-of-type {\n",
       "        vertical-align: middle;\n",
       "    }\n",
       "\n",
       "    .dataframe tbody tr th {\n",
       "        vertical-align: top;\n",
       "    }\n",
       "\n",
       "    .dataframe thead th {\n",
       "        text-align: right;\n",
       "    }\n",
       "</style>\n",
       "<table border=\"1\" class=\"dataframe\">\n",
       "  <thead>\n",
       "    <tr style=\"text-align: right;\">\n",
       "      <th></th>\n",
       "      <th>Series 1</th>\n",
       "      <th>Series 2</th>\n",
       "      <th>Series 3</th>\n",
       "      <th>Series 4</th>\n",
       "      <th>Series 5</th>\n",
       "    </tr>\n",
       "    <tr>\n",
       "      <th>Date</th>\n",
       "      <th></th>\n",
       "      <th></th>\n",
       "      <th></th>\n",
       "      <th></th>\n",
       "      <th></th>\n",
       "    </tr>\n",
       "  </thead>\n",
       "  <tbody>\n",
       "    <tr>\n",
       "      <th>2018-01-01</th>\n",
       "      <td>-1.185225</td>\n",
       "      <td>-0.432459</td>\n",
       "      <td>-0.930772</td>\n",
       "      <td>-0.444236</td>\n",
       "      <td>2.715638</td>\n",
       "    </tr>\n",
       "    <tr>\n",
       "      <th>2018-01-02</th>\n",
       "      <td>0.074596</td>\n",
       "      <td>0.737836</td>\n",
       "      <td>-0.042033</td>\n",
       "      <td>0.615378</td>\n",
       "      <td>1.041118</td>\n",
       "    </tr>\n",
       "    <tr>\n",
       "      <th>2018-01-03</th>\n",
       "      <td>1.820451</td>\n",
       "      <td>-0.829519</td>\n",
       "      <td>-0.533592</td>\n",
       "      <td>0.079130</td>\n",
       "      <td>-0.338118</td>\n",
       "    </tr>\n",
       "    <tr>\n",
       "      <th>2018-01-04</th>\n",
       "      <td>0.402523</td>\n",
       "      <td>-3.431308</td>\n",
       "      <td>-0.234431</td>\n",
       "      <td>0.269451</td>\n",
       "      <td>-0.707448</td>\n",
       "    </tr>\n",
       "    <tr>\n",
       "      <th>2018-01-05</th>\n",
       "      <td>-0.578479</td>\n",
       "      <td>-0.454762</td>\n",
       "      <td>2.765510</td>\n",
       "      <td>-0.959842</td>\n",
       "      <td>-1.192877</td>\n",
       "    </tr>\n",
       "  </tbody>\n",
       "</table>\n",
       "</div>"
      ],
      "text/plain": [
       "            Series 1  Series 2  Series 3  Series 4  Series 5\n",
       "Date                                                        \n",
       "2018-01-01 -1.185225 -0.432459 -0.930772 -0.444236  2.715638\n",
       "2018-01-02  0.074596  0.737836 -0.042033  0.615378  1.041118\n",
       "2018-01-03  1.820451 -0.829519 -0.533592  0.079130 -0.338118\n",
       "2018-01-04  0.402523 -3.431308 -0.234431  0.269451 -0.707448\n",
       "2018-01-05 -0.578479 -0.454762  2.765510 -0.959842 -1.192877"
      ]
     },
     "execution_count": 15,
     "metadata": {},
     "output_type": "execute_result"
    }
   ],
   "source": [
    "df.head()"
   ]
  },
  {
   "cell_type": "code",
   "execution_count": 16,
   "metadata": {
    "zanadu": {
     "code_type": ""
    }
   },
   "outputs": [
    {
     "name": "stdout",
     "output_type": "stream",
     "text": [
      "First row, second column:  -0.4324588312673506  or  -0.4324588312673506\n"
     ]
    }
   ],
   "source": [
    "print(\"First row, second column: \", df.iloc[0, 1], \" or \", df.loc[startDate, 'Series 2'])"
   ]
  },
  {
   "cell_type": "code",
   "execution_count": 17,
   "metadata": {},
   "outputs": [
    {
     "name": "stdout",
     "output_type": "stream",
     "text": [
      "Series 1    1.820451\n",
      "Series 2   -0.829519\n",
      "Series 3   -0.533592\n",
      "Series 4    0.079130\n",
      "Series 5   -0.338118\n",
      "Name: 2018-01-03 00:00:00, dtype: float64\n",
      "Type:  <class 'pandas.core.series.Series'>\n"
     ]
    }
   ],
   "source": [
    "myRow = df.iloc[2,:]\n",
    "print(myRow)\n",
    "print(\"Type: \", type(myRow))"
   ]
  },
  {
   "cell_type": "markdown",
   "metadata": {},
   "source": [
    "Equivalently:"
   ]
  },
  {
   "cell_type": "code",
   "execution_count": 18,
   "metadata": {},
   "outputs": [
    {
     "name": "stdout",
     "output_type": "stream",
     "text": [
      "Series 1    1.820451\n",
      "Series 2   -0.829519\n",
      "Series 3   -0.533592\n",
      "Series 4    0.079130\n",
      "Series 5   -0.338118\n",
      "Name: 2018-01-03 00:00:00, dtype: float64 <class 'pandas.core.series.Series'>\n"
     ]
    }
   ],
   "source": [
    "myRow = df.loc['2018-01-03']\n",
    "print(myRow, type(myRow))"
   ]
  },
  {
   "cell_type": "code",
   "execution_count": 19,
   "metadata": {},
   "outputs": [
    {
     "name": "stdout",
     "output_type": "stream",
     "text": [
      "Accessing elements by slicing over columns: \n",
      "Series 2   -0.432459\n",
      "Series 3   -0.930772\n",
      "Name: 2018-01-01 00:00:00, dtype: float64\n",
      "<class 'pandas.core.series.Series'>\n"
     ]
    }
   ],
   "source": [
    "print(\"Accessing elements by slicing over columns: \")\n",
    "print(df.iloc[0, 1:3])\n",
    "print(type(df.iloc[0, 1:3]))"
   ]
  },
  {
   "cell_type": "code",
   "execution_count": 20,
   "metadata": {},
   "outputs": [
    {
     "name": "stdout",
     "output_type": "stream",
     "text": [
      "Accessing elements by slicing over rows: \n",
      "Date\n",
      "2018-01-11    1.974810\n",
      "2018-01-12   -0.483024\n",
      "2018-01-13    1.294731\n",
      "2018-01-14    1.338764\n",
      "Freq: D, Name: Series 2, dtype: float64\n",
      "<class 'pandas.core.series.Series'>\n"
     ]
    }
   ],
   "source": [
    "print(\"Accessing elements by slicing over rows: \")\n",
    "print(df.iloc[10:14, 1])\n",
    "print(type(df.iloc[10:14, 1]))"
   ]
  },
  {
   "cell_type": "code",
   "execution_count": 21,
   "metadata": {},
   "outputs": [
    {
     "name": "stdout",
     "output_type": "stream",
     "text": [
      "Accessing elements by slicing over boths: \n",
      "            Series 2  Series 3\n",
      "Date                          \n",
      "2018-01-11  1.974810  2.482120\n",
      "2018-01-12 -0.483024  0.133788\n",
      "2018-01-13  1.294731  0.990732\n",
      "2018-01-14  1.338764 -0.566346\n",
      "<class 'pandas.core.frame.DataFrame'>\n"
     ]
    }
   ],
   "source": [
    "print(\"Accessing elements by slicing over boths: \")\n",
    "print(df.iloc[10:14, 1:3])\n",
    "print(type(df.iloc[10:14, 1:3]))"
   ]
  },
  {
   "cell_type": "markdown",
   "metadata": {},
   "source": [
    "Question: What are the types of the following objects:\n",
    "- df.iloc[2]\n",
    "- df.iloc[2].values\n",
    "- [d for d in df.iloc[2]]"
   ]
  },
  {
   "cell_type": "code",
   "execution_count": 22,
   "metadata": {},
   "outputs": [
    {
     "name": "stdout",
     "output_type": "stream",
     "text": [
      "<class 'pandas.core.series.Series'>\n",
      "<class 'numpy.ndarray'>\n",
      "<class 'list'>\n"
     ]
    }
   ],
   "source": [
    "print(type(df.iloc[2]))\n",
    "print(type(df.iloc[2].values))\n",
    "print(type([d for d in df.iloc[2]]))"
   ]
  },
  {
   "cell_type": "markdown",
   "metadata": {},
   "source": [
    "### `.at` and `.iat`\n",
    "\n",
    "These two commands are very similar to `.loc` and `.iloc`, and are actually **faster, but slicing is not permitted.**"
   ]
  },
  {
   "cell_type": "code",
   "execution_count": 23,
   "metadata": {},
   "outputs": [
    {
     "name": "stdout",
     "output_type": "stream",
     "text": [
      "9.25 µs ± 29.5 ns per loop (mean ± std. dev. of 7 runs, 100,000 loops each)\n",
      "7.44 µs ± 11.5 ns per loop (mean ± std. dev. of 7 runs, 100,000 loops each)\n"
     ]
    }
   ],
   "source": [
    "%timeit df.iloc[10, 2]\n",
    "%timeit df.iat[10, 2]"
   ]
  },
  {
   "cell_type": "code",
   "execution_count": 24,
   "metadata": {},
   "outputs": [
    {
     "ename": "ValueError",
     "evalue": "iAt based indexing can only have integer indexers",
     "output_type": "error",
     "traceback": [
      "\u001b[0;31m---------------------------------------------------------------------------\u001b[0m",
      "\u001b[0;31mValueError\u001b[0m                                Traceback (most recent call last)",
      "Cell \u001b[0;32mIn [24], line 1\u001b[0m\n\u001b[0;32m----> 1\u001b[0m df\u001b[39m.\u001b[39miat[\u001b[39m10\u001b[39m, \u001b[39m2\u001b[39m:\u001b[39m4\u001b[39m]\n",
      "File \u001b[0;32m/opt/homebrew/lib/python3.9/site-packages/pandas/core/indexing.py:2221\u001b[0m, in \u001b[0;36m_ScalarAccessIndexer.__getitem__\u001b[0;34m(self, key)\u001b[0m\n\u001b[1;32m   2218\u001b[0m     \u001b[39melse\u001b[39;00m:\n\u001b[1;32m   2219\u001b[0m         \u001b[39mraise\u001b[39;00m \u001b[39mValueError\u001b[39;00m(\u001b[39m\"\u001b[39m\u001b[39mInvalid call for scalar access (getting)!\u001b[39m\u001b[39m\"\u001b[39m)\n\u001b[0;32m-> 2221\u001b[0m key \u001b[39m=\u001b[39m \u001b[39mself\u001b[39;49m\u001b[39m.\u001b[39;49m_convert_key(key)\n\u001b[1;32m   2222\u001b[0m \u001b[39mreturn\u001b[39;00m \u001b[39mself\u001b[39m\u001b[39m.\u001b[39mobj\u001b[39m.\u001b[39m_get_value(\u001b[39m*\u001b[39mkey, takeable\u001b[39m=\u001b[39m\u001b[39mself\u001b[39m\u001b[39m.\u001b[39m_takeable)\n",
      "File \u001b[0;32m/opt/homebrew/lib/python3.9/site-packages/pandas/core/indexing.py:2299\u001b[0m, in \u001b[0;36m_iAtIndexer._convert_key\u001b[0;34m(self, key, is_setter)\u001b[0m\n\u001b[1;32m   2297\u001b[0m \u001b[39mfor\u001b[39;00m i \u001b[39min\u001b[39;00m key:\n\u001b[1;32m   2298\u001b[0m     \u001b[39mif\u001b[39;00m \u001b[39mnot\u001b[39;00m is_integer(i):\n\u001b[0;32m-> 2299\u001b[0m         \u001b[39mraise\u001b[39;00m \u001b[39mValueError\u001b[39;00m(\u001b[39m\"\u001b[39m\u001b[39miAt based indexing can only have integer indexers\u001b[39m\u001b[39m\"\u001b[39m)\n\u001b[1;32m   2300\u001b[0m \u001b[39mreturn\u001b[39;00m key\n",
      "\u001b[0;31mValueError\u001b[0m: iAt based indexing can only have integer indexers"
     ]
    }
   ],
   "source": [
    "df.iat[10, 2:4]"
   ]
  },
  {
   "cell_type": "markdown",
   "metadata": {},
   "source": [
    "### Extract elements with conditions"
   ]
  },
  {
   "cell_type": "code",
   "execution_count": 26,
   "metadata": {
    "zanadu": {
     "code_type": ""
    }
   },
   "outputs": [
    {
     "data": {
      "text/html": [
       "<div>\n",
       "<style scoped>\n",
       "    .dataframe tbody tr th:only-of-type {\n",
       "        vertical-align: middle;\n",
       "    }\n",
       "\n",
       "    .dataframe tbody tr th {\n",
       "        vertical-align: top;\n",
       "    }\n",
       "\n",
       "    .dataframe thead th {\n",
       "        text-align: right;\n",
       "    }\n",
       "</style>\n",
       "<table border=\"1\" class=\"dataframe\">\n",
       "  <thead>\n",
       "    <tr style=\"text-align: right;\">\n",
       "      <th></th>\n",
       "      <th>Series 1</th>\n",
       "      <th>Series 2</th>\n",
       "      <th>Series 3</th>\n",
       "      <th>Series 4</th>\n",
       "      <th>Series 5</th>\n",
       "    </tr>\n",
       "    <tr>\n",
       "      <th>Date</th>\n",
       "      <th></th>\n",
       "      <th></th>\n",
       "      <th></th>\n",
       "      <th></th>\n",
       "      <th></th>\n",
       "    </tr>\n",
       "  </thead>\n",
       "  <tbody>\n",
       "    <tr>\n",
       "      <th>2037-08-27</th>\n",
       "      <td>-0.568096</td>\n",
       "      <td>3.405488</td>\n",
       "      <td>0.517297</td>\n",
       "      <td>0.684395</td>\n",
       "      <td>-0.683123</td>\n",
       "    </tr>\n",
       "    <tr>\n",
       "      <th>2042-08-03</th>\n",
       "      <td>-1.045534</td>\n",
       "      <td>3.605134</td>\n",
       "      <td>-1.096578</td>\n",
       "      <td>-0.326590</td>\n",
       "      <td>-1.305871</td>\n",
       "    </tr>\n",
       "  </tbody>\n",
       "</table>\n",
       "</div>"
      ],
      "text/plain": [
       "            Series 1  Series 2  Series 3  Series 4  Series 5\n",
       "Date                                                        \n",
       "2037-08-27 -0.568096  3.405488  0.517297  0.684395 -0.683123\n",
       "2042-08-03 -1.045534  3.605134 -1.096578 -0.326590 -1.305871"
      ]
     },
     "execution_count": 26,
     "metadata": {},
     "output_type": "execute_result"
    }
   ],
   "source": [
    "mySeriesName = \"Series 2\"\n",
    "df[df[mySeriesName] > 3.4]"
   ]
  },
  {
   "cell_type": "markdown",
   "metadata": {},
   "source": [
    "Note that the series `df` has not been modified. Only a copy has been printed!!"
   ]
  },
  {
   "cell_type": "code",
   "execution_count": 27,
   "metadata": {
    "zanadu": {
     "code_type": ""
    }
   },
   "outputs": [
    {
     "data": {
      "text/plain": [
       "Date\n",
       "2037-08-27    3.405488\n",
       "2042-08-03    3.605134\n",
       "Name: Series 2, dtype: float64"
      ]
     },
     "execution_count": 27,
     "metadata": {},
     "output_type": "execute_result"
    }
   ],
   "source": [
    "mySeries =  df[mySeriesName][df[mySeriesName] > 3.4]\n",
    "mySeries"
   ]
  },
  {
   "cell_type": "markdown",
   "metadata": {
    "zanadu": {}
   },
   "source": [
    "We can return the series only as a list:"
   ]
  },
  {
   "cell_type": "code",
   "execution_count": 28,
   "metadata": {},
   "outputs": [
    {
     "name": "stdout",
     "output_type": "stream",
     "text": [
      "[3.40548752 3.60513447]\n"
     ]
    }
   ],
   "source": [
    "print(mySeries.values)"
   ]
  },
  {
   "cell_type": "markdown",
   "metadata": {},
   "source": [
    "### User-defined functions"
   ]
  },
  {
   "cell_type": "code",
   "execution_count": 29,
   "metadata": {},
   "outputs": [
    {
     "data": {
      "text/html": [
       "<div>\n",
       "<style scoped>\n",
       "    .dataframe tbody tr th:only-of-type {\n",
       "        vertical-align: middle;\n",
       "    }\n",
       "\n",
       "    .dataframe tbody tr th {\n",
       "        vertical-align: top;\n",
       "    }\n",
       "\n",
       "    .dataframe thead th {\n",
       "        text-align: right;\n",
       "    }\n",
       "</style>\n",
       "<table border=\"1\" class=\"dataframe\">\n",
       "  <thead>\n",
       "    <tr style=\"text-align: right;\">\n",
       "      <th></th>\n",
       "      <th>Series 1</th>\n",
       "      <th>Series 2</th>\n",
       "      <th>Series 3</th>\n",
       "      <th>Series 4</th>\n",
       "      <th>Series 5</th>\n",
       "    </tr>\n",
       "    <tr>\n",
       "      <th>Date</th>\n",
       "      <th></th>\n",
       "      <th></th>\n",
       "      <th></th>\n",
       "      <th></th>\n",
       "      <th></th>\n",
       "    </tr>\n",
       "  </thead>\n",
       "  <tbody>\n",
       "    <tr>\n",
       "      <th>2018-01-01</th>\n",
       "      <td>-2.370450</td>\n",
       "      <td>-0.864918</td>\n",
       "      <td>-1.861544</td>\n",
       "      <td>-0.888472</td>\n",
       "      <td>5.431275</td>\n",
       "    </tr>\n",
       "    <tr>\n",
       "      <th>2018-01-02</th>\n",
       "      <td>0.149192</td>\n",
       "      <td>1.475671</td>\n",
       "      <td>-0.084066</td>\n",
       "      <td>1.230755</td>\n",
       "      <td>2.082235</td>\n",
       "    </tr>\n",
       "    <tr>\n",
       "      <th>2018-01-03</th>\n",
       "      <td>3.640903</td>\n",
       "      <td>-1.659039</td>\n",
       "      <td>-1.067184</td>\n",
       "      <td>0.158260</td>\n",
       "      <td>-0.676236</td>\n",
       "    </tr>\n",
       "    <tr>\n",
       "      <th>2018-01-04</th>\n",
       "      <td>0.805045</td>\n",
       "      <td>-6.862616</td>\n",
       "      <td>-0.468861</td>\n",
       "      <td>0.538903</td>\n",
       "      <td>-1.414896</td>\n",
       "    </tr>\n",
       "    <tr>\n",
       "      <th>2018-01-05</th>\n",
       "      <td>-1.156959</td>\n",
       "      <td>-0.909525</td>\n",
       "      <td>5.531020</td>\n",
       "      <td>-1.919684</td>\n",
       "      <td>-2.385755</td>\n",
       "    </tr>\n",
       "  </tbody>\n",
       "</table>\n",
       "</div>"
      ],
      "text/plain": [
       "            Series 1  Series 2  Series 3  Series 4  Series 5\n",
       "Date                                                        \n",
       "2018-01-01 -2.370450 -0.864918 -1.861544 -0.888472  5.431275\n",
       "2018-01-02  0.149192  1.475671 -0.084066  1.230755  2.082235\n",
       "2018-01-03  3.640903 -1.659039 -1.067184  0.158260 -0.676236\n",
       "2018-01-04  0.805045 -6.862616 -0.468861  0.538903 -1.414896\n",
       "2018-01-05 -1.156959 -0.909525  5.531020 -1.919684 -2.385755"
      ]
     },
     "execution_count": 29,
     "metadata": {},
     "output_type": "execute_result"
    }
   ],
   "source": [
    "df = 2.*df\n",
    "df.head()"
   ]
  },
  {
   "cell_type": "markdown",
   "metadata": {},
   "source": [
    "Here, the original dataframe has been modified!"
   ]
  },
  {
   "cell_type": "code",
   "execution_count": 30,
   "metadata": {},
   "outputs": [
    {
     "data": {
      "text/html": [
       "<div>\n",
       "<style scoped>\n",
       "    .dataframe tbody tr th:only-of-type {\n",
       "        vertical-align: middle;\n",
       "    }\n",
       "\n",
       "    .dataframe tbody tr th {\n",
       "        vertical-align: top;\n",
       "    }\n",
       "\n",
       "    .dataframe thead th {\n",
       "        text-align: right;\n",
       "    }\n",
       "</style>\n",
       "<table border=\"1\" class=\"dataframe\">\n",
       "  <thead>\n",
       "    <tr style=\"text-align: right;\">\n",
       "      <th></th>\n",
       "      <th>Series 1</th>\n",
       "      <th>Series 2</th>\n",
       "      <th>Series 3</th>\n",
       "      <th>Series 4</th>\n",
       "      <th>Series 5</th>\n",
       "    </tr>\n",
       "    <tr>\n",
       "      <th>Date</th>\n",
       "      <th></th>\n",
       "      <th></th>\n",
       "      <th></th>\n",
       "      <th></th>\n",
       "      <th></th>\n",
       "    </tr>\n",
       "  </thead>\n",
       "  <tbody>\n",
       "    <tr>\n",
       "      <th>2018-01-01</th>\n",
       "      <td>-2.370450</td>\n",
       "      <td>19.135082</td>\n",
       "      <td>-1.861544</td>\n",
       "      <td>-0.888472</td>\n",
       "      <td>5.431275</td>\n",
       "    </tr>\n",
       "    <tr>\n",
       "      <th>2018-01-02</th>\n",
       "      <td>0.149192</td>\n",
       "      <td>21.475671</td>\n",
       "      <td>-0.084066</td>\n",
       "      <td>1.230755</td>\n",
       "      <td>2.082235</td>\n",
       "    </tr>\n",
       "    <tr>\n",
       "      <th>2018-01-03</th>\n",
       "      <td>3.640903</td>\n",
       "      <td>18.340961</td>\n",
       "      <td>-1.067184</td>\n",
       "      <td>0.158260</td>\n",
       "      <td>-0.676236</td>\n",
       "    </tr>\n",
       "    <tr>\n",
       "      <th>2018-01-04</th>\n",
       "      <td>0.805045</td>\n",
       "      <td>13.137384</td>\n",
       "      <td>-0.468861</td>\n",
       "      <td>0.538903</td>\n",
       "      <td>-1.414896</td>\n",
       "    </tr>\n",
       "    <tr>\n",
       "      <th>2018-01-05</th>\n",
       "      <td>-1.156959</td>\n",
       "      <td>19.090475</td>\n",
       "      <td>5.531020</td>\n",
       "      <td>-1.919684</td>\n",
       "      <td>-2.385755</td>\n",
       "    </tr>\n",
       "  </tbody>\n",
       "</table>\n",
       "</div>"
      ],
      "text/plain": [
       "            Series 1   Series 2  Series 3  Series 4  Series 5\n",
       "Date                                                         \n",
       "2018-01-01 -2.370450  19.135082 -1.861544 -0.888472  5.431275\n",
       "2018-01-02  0.149192  21.475671 -0.084066  1.230755  2.082235\n",
       "2018-01-03  3.640903  18.340961 -1.067184  0.158260 -0.676236\n",
       "2018-01-04  0.805045  13.137384 -0.468861  0.538903 -1.414896\n",
       "2018-01-05 -1.156959  19.090475  5.531020 -1.919684 -2.385755"
      ]
     },
     "execution_count": 30,
     "metadata": {},
     "output_type": "execute_result"
    }
   ],
   "source": [
    "def myFunction(x, params):\n",
    "    return x + params[0] * params[1]\n",
    "\n",
    "p = [10,2]\n",
    "df[mySeriesName] = df[mySeriesName].apply(myFunction, args=(p,))\n",
    "df.head()"
   ]
  },
  {
   "cell_type": "markdown",
   "metadata": {},
   "source": [
    "#### **What if there are two parameters?!**"
   ]
  },
  {
   "cell_type": "markdown",
   "metadata": {
    "zanadu": {}
   },
   "source": [
    "## Numpy on dataframe"
   ]
  },
  {
   "cell_type": "markdown",
   "metadata": {
    "zanadu": {}
   },
   "source": [
    "This is where the power of the DataFrame comes into the picture, namely that operations need to be performed element by element, \n",
    "but apply to a whole series (column) at once."
   ]
  },
  {
   "cell_type": "code",
   "execution_count": 31,
   "metadata": {},
   "outputs": [],
   "source": [
    "myIndex = input(\"Series index\")"
   ]
  },
  {
   "cell_type": "code",
   "execution_count": 32,
   "metadata": {
    "zanadu": {
     "code_type": ""
    }
   },
   "outputs": [
    {
     "name": "stdout",
     "output_type": "stream",
     "text": [
      "Maximum on the first Series: 7.099980762746178\n",
      "Date (index) where this maximum is attained: 1897\n",
      "Date where this maximum is attained: 2023-03-13 00:00:00 2023-03-13 00:00:00\n",
      "Mean of the first series: -0.017387661993972542\n"
     ]
    }
   ],
   "source": [
    "ser = 'Series ' + myIndex\n",
    "print('Maximum on the first Series:', df[ser].max())\n",
    "print('Date (index) where this maximum is attained:', df[ser].argmax()) ## deprecated\n",
    "print('Date where this maximum is attained:', df[ser].idxmax(), df.index[df[ser].argmax()])\n",
    "print('Mean of the first series:', df[ser].mean())"
   ]
  },
  {
   "cell_type": "markdown",
   "metadata": {
    "zanadu": {}
   },
   "source": [
    "We can also obtain general results about the whole dataframe / each series in the dataframe:"
   ]
  },
  {
   "cell_type": "code",
   "execution_count": 33,
   "metadata": {
    "zanadu": {
     "code_type": ""
    }
   },
   "outputs": [
    {
     "data": {
      "text/plain": [
       "Series 1    -0.001633\n",
       "Series 2    19.987720\n",
       "Series 3    -0.017388\n",
       "Series 4     0.028445\n",
       "Series 5     0.015997\n",
       "dtype: float64"
      ]
     },
     "execution_count": 33,
     "metadata": {},
     "output_type": "execute_result"
    }
   ],
   "source": [
    "df.mean()"
   ]
  },
  {
   "cell_type": "markdown",
   "metadata": {
    "zanadu": {}
   },
   "source": [
    "## Plotting Dataframes"
   ]
  },
  {
   "cell_type": "markdown",
   "metadata": {
    "zanadu": {}
   },
   "source": [
    "##### Plot all the time series"
   ]
  },
  {
   "cell_type": "code",
   "execution_count": 34,
   "metadata": {
    "zanadu": {
     "code_type": ""
    }
   },
   "outputs": [
    {
     "data": {
      "image/png": "[encoded data removed]",
      "text/plain": [
       "<Figure size 640x480 with 1 Axes>"
      ]
     },
     "metadata": {},
     "output_type": "display_data"
    }
   ],
   "source": [
    "df.plot();"
   ]
  },
  {
   "cell_type": "markdown",
   "metadata": {},
   "source": [
    "**WHAT IS WRONG ABOUT THE PLOT?**"
   ]
  },
  {
   "cell_type": "markdown",
   "metadata": {
    "zanadu": {}
   },
   "source": [
    "##### Plot one column at a time"
   ]
  },
  {
   "cell_type": "code",
   "execution_count": 35,
   "metadata": {
    "zanadu": {
     "code_type": ""
    }
   },
   "outputs": [
    {
     "data": {
      "image/png": "[encoded data removed]",
      "text/plain": [
       "<Figure size 640x480 with 1 Axes>"
      ]
     },
     "metadata": {},
     "output_type": "display_data"
    }
   ],
   "source": [
    "df[ser].plot(legend=ser);"
   ]
  },
  {
   "cell_type": "markdown",
   "metadata": {
    "zanadu": {}
   },
   "source": [
    "##### Changing the type of plots"
   ]
  },
  {
   "cell_type": "code",
   "execution_count": 36,
   "metadata": {
    "zanadu": {
     "code_type": ""
    }
   },
   "outputs": [
    {
     "data": {
      "image/png": "[encoded data removed]",
      "text/plain": [
       "<Figure size 640x480 with 1 Axes>"
      ]
     },
     "metadata": {},
     "output_type": "display_data"
    }
   ],
   "source": [
    "datePlot = '2018-01-03'\n",
    "df.loc[datePlot].plot(kind='bar', title=datePlot); ## for one particular day"
   ]
  },
  {
   "cell_type": "markdown",
   "metadata": {
    "zanadu": {}
   },
   "source": [
    "## Sorting DataFrames"
   ]
  },
  {
   "cell_type": "code",
   "execution_count": 37,
   "metadata": {
    "zanadu": {
     "code_type": ""
    }
   },
   "outputs": [
    {
     "name": "stdout",
     "output_type": "stream",
     "text": [
      "Data sorted by Series 3\n"
     ]
    },
    {
     "data": {
      "text/html": [
       "<div>\n",
       "<style scoped>\n",
       "    .dataframe tbody tr th:only-of-type {\n",
       "        vertical-align: middle;\n",
       "    }\n",
       "\n",
       "    .dataframe tbody tr th {\n",
       "        vertical-align: top;\n",
       "    }\n",
       "\n",
       "    .dataframe thead th {\n",
       "        text-align: right;\n",
       "    }\n",
       "</style>\n",
       "<table border=\"1\" class=\"dataframe\">\n",
       "  <thead>\n",
       "    <tr style=\"text-align: right;\">\n",
       "      <th></th>\n",
       "      <th>Series 1</th>\n",
       "      <th>Series 2</th>\n",
       "      <th>Series 3</th>\n",
       "      <th>Series 4</th>\n",
       "      <th>Series 5</th>\n",
       "    </tr>\n",
       "    <tr>\n",
       "      <th>Date</th>\n",
       "      <th></th>\n",
       "      <th></th>\n",
       "      <th></th>\n",
       "      <th></th>\n",
       "      <th></th>\n",
       "    </tr>\n",
       "  </thead>\n",
       "  <tbody>\n",
       "    <tr>\n",
       "      <th>2031-10-16</th>\n",
       "      <td>0.054086</td>\n",
       "      <td>18.234798</td>\n",
       "      <td>-7.807525</td>\n",
       "      <td>-2.715617</td>\n",
       "      <td>2.114992</td>\n",
       "    </tr>\n",
       "    <tr>\n",
       "      <th>2032-07-04</th>\n",
       "      <td>-0.643199</td>\n",
       "      <td>17.104207</td>\n",
       "      <td>-7.540605</td>\n",
       "      <td>2.482089</td>\n",
       "      <td>-2.033103</td>\n",
       "    </tr>\n",
       "    <tr>\n",
       "      <th>2029-05-26</th>\n",
       "      <td>0.702738</td>\n",
       "      <td>24.695309</td>\n",
       "      <td>-7.453327</td>\n",
       "      <td>4.362634</td>\n",
       "      <td>-1.690040</td>\n",
       "    </tr>\n",
       "    <tr>\n",
       "      <th>2025-09-19</th>\n",
       "      <td>-3.915989</td>\n",
       "      <td>22.772638</td>\n",
       "      <td>-7.244689</td>\n",
       "      <td>1.081674</td>\n",
       "      <td>-1.632520</td>\n",
       "    </tr>\n",
       "    <tr>\n",
       "      <th>2042-10-21</th>\n",
       "      <td>-0.638521</td>\n",
       "      <td>17.141440</td>\n",
       "      <td>-7.199476</td>\n",
       "      <td>0.685407</td>\n",
       "      <td>-3.987174</td>\n",
       "    </tr>\n",
       "  </tbody>\n",
       "</table>\n",
       "</div>"
      ],
      "text/plain": [
       "            Series 1   Series 2  Series 3  Series 4  Series 5\n",
       "Date                                                         \n",
       "2031-10-16  0.054086  18.234798 -7.807525 -2.715617  2.114992\n",
       "2032-07-04 -0.643199  17.104207 -7.540605  2.482089 -2.033103\n",
       "2029-05-26  0.702738  24.695309 -7.453327  4.362634 -1.690040\n",
       "2025-09-19 -3.915989  22.772638 -7.244689  1.081674 -1.632520\n",
       "2042-10-21 -0.638521  17.141440 -7.199476  0.685407 -3.987174"
      ]
     },
     "execution_count": 37,
     "metadata": {},
     "output_type": "execute_result"
    }
   ],
   "source": [
    "print('Data sorted by ' + ser)\n",
    "df.sort_values(by=ser).head()"
   ]
  },
  {
   "cell_type": "markdown",
   "metadata": {},
   "source": [
    "*WARNING: the dataframe df itself has remained unchanged though...*"
   ]
  },
  {
   "cell_type": "code",
   "execution_count": 38,
   "metadata": {},
   "outputs": [
    {
     "data": {
      "text/html": [
       "<div>\n",
       "<style scoped>\n",
       "    .dataframe tbody tr th:only-of-type {\n",
       "        vertical-align: middle;\n",
       "    }\n",
       "\n",
       "    .dataframe tbody tr th {\n",
       "        vertical-align: top;\n",
       "    }\n",
       "\n",
       "    .dataframe thead th {\n",
       "        text-align: right;\n",
       "    }\n",
       "</style>\n",
       "<table border=\"1\" class=\"dataframe\">\n",
       "  <thead>\n",
       "    <tr style=\"text-align: right;\">\n",
       "      <th></th>\n",
       "      <th>Series 1</th>\n",
       "      <th>Series 2</th>\n",
       "      <th>Series 3</th>\n",
       "      <th>Series 4</th>\n",
       "      <th>Series 5</th>\n",
       "    </tr>\n",
       "    <tr>\n",
       "      <th>Date</th>\n",
       "      <th></th>\n",
       "      <th></th>\n",
       "      <th></th>\n",
       "      <th></th>\n",
       "      <th></th>\n",
       "    </tr>\n",
       "  </thead>\n",
       "  <tbody>\n",
       "    <tr>\n",
       "      <th>2018-01-01</th>\n",
       "      <td>-2.370450</td>\n",
       "      <td>19.135082</td>\n",
       "      <td>-1.861544</td>\n",
       "      <td>-0.888472</td>\n",
       "      <td>5.431275</td>\n",
       "    </tr>\n",
       "    <tr>\n",
       "      <th>2018-01-02</th>\n",
       "      <td>0.149192</td>\n",
       "      <td>21.475671</td>\n",
       "      <td>-0.084066</td>\n",
       "      <td>1.230755</td>\n",
       "      <td>2.082235</td>\n",
       "    </tr>\n",
       "    <tr>\n",
       "      <th>2018-01-03</th>\n",
       "      <td>3.640903</td>\n",
       "      <td>18.340961</td>\n",
       "      <td>-1.067184</td>\n",
       "      <td>0.158260</td>\n",
       "      <td>-0.676236</td>\n",
       "    </tr>\n",
       "    <tr>\n",
       "      <th>2018-01-04</th>\n",
       "      <td>0.805045</td>\n",
       "      <td>13.137384</td>\n",
       "      <td>-0.468861</td>\n",
       "      <td>0.538903</td>\n",
       "      <td>-1.414896</td>\n",
       "    </tr>\n",
       "    <tr>\n",
       "      <th>2018-01-05</th>\n",
       "      <td>-1.156959</td>\n",
       "      <td>19.090475</td>\n",
       "      <td>5.531020</td>\n",
       "      <td>-1.919684</td>\n",
       "      <td>-2.385755</td>\n",
       "    </tr>\n",
       "  </tbody>\n",
       "</table>\n",
       "</div>"
      ],
      "text/plain": [
       "            Series 1   Series 2  Series 3  Series 4  Series 5\n",
       "Date                                                         \n",
       "2018-01-01 -2.370450  19.135082 -1.861544 -0.888472  5.431275\n",
       "2018-01-02  0.149192  21.475671 -0.084066  1.230755  2.082235\n",
       "2018-01-03  3.640903  18.340961 -1.067184  0.158260 -0.676236\n",
       "2018-01-04  0.805045  13.137384 -0.468861  0.538903 -1.414896\n",
       "2018-01-05 -1.156959  19.090475  5.531020 -1.919684 -2.385755"
      ]
     },
     "execution_count": 38,
     "metadata": {},
     "output_type": "execute_result"
    }
   ],
   "source": [
    "df.head()"
   ]
  },
  {
   "cell_type": "markdown",
   "metadata": {
    "zanadu": {}
   },
   "source": [
    "## Renaming columns"
   ]
  },
  {
   "cell_type": "code",
   "execution_count": 39,
   "metadata": {
    "zanadu": {
     "code_type": ""
    }
   },
   "outputs": [
    {
     "data": {
      "text/html": [
       "<div>\n",
       "<style scoped>\n",
       "    .dataframe tbody tr th:only-of-type {\n",
       "        vertical-align: middle;\n",
       "    }\n",
       "\n",
       "    .dataframe tbody tr th {\n",
       "        vertical-align: top;\n",
       "    }\n",
       "\n",
       "    .dataframe thead th {\n",
       "        text-align: right;\n",
       "    }\n",
       "</style>\n",
       "<table border=\"1\" class=\"dataframe\">\n",
       "  <thead>\n",
       "    <tr style=\"text-align: right;\">\n",
       "      <th></th>\n",
       "      <th>SPX</th>\n",
       "      <th>DAX</th>\n",
       "      <th>GOOGL</th>\n",
       "      <th>AAPL</th>\n",
       "      <th>VIX</th>\n",
       "    </tr>\n",
       "    <tr>\n",
       "      <th>Date</th>\n",
       "      <th></th>\n",
       "      <th></th>\n",
       "      <th></th>\n",
       "      <th></th>\n",
       "      <th></th>\n",
       "    </tr>\n",
       "  </thead>\n",
       "  <tbody>\n",
       "    <tr>\n",
       "      <th>2018-01-01</th>\n",
       "      <td>-2.370450</td>\n",
       "      <td>19.135082</td>\n",
       "      <td>-1.861544</td>\n",
       "      <td>-0.888472</td>\n",
       "      <td>5.431275</td>\n",
       "    </tr>\n",
       "    <tr>\n",
       "      <th>2018-01-02</th>\n",
       "      <td>0.149192</td>\n",
       "      <td>21.475671</td>\n",
       "      <td>-0.084066</td>\n",
       "      <td>1.230755</td>\n",
       "      <td>2.082235</td>\n",
       "    </tr>\n",
       "    <tr>\n",
       "      <th>2018-01-03</th>\n",
       "      <td>3.640903</td>\n",
       "      <td>18.340961</td>\n",
       "      <td>-1.067184</td>\n",
       "      <td>0.158260</td>\n",
       "      <td>-0.676236</td>\n",
       "    </tr>\n",
       "    <tr>\n",
       "      <th>2018-01-04</th>\n",
       "      <td>0.805045</td>\n",
       "      <td>13.137384</td>\n",
       "      <td>-0.468861</td>\n",
       "      <td>0.538903</td>\n",
       "      <td>-1.414896</td>\n",
       "    </tr>\n",
       "    <tr>\n",
       "      <th>2018-01-05</th>\n",
       "      <td>-1.156959</td>\n",
       "      <td>19.090475</td>\n",
       "      <td>5.531020</td>\n",
       "      <td>-1.919684</td>\n",
       "      <td>-2.385755</td>\n",
       "    </tr>\n",
       "  </tbody>\n",
       "</table>\n",
       "</div>"
      ],
      "text/plain": [
       "                 SPX        DAX     GOOGL      AAPL       VIX\n",
       "Date                                                         \n",
       "2018-01-01 -2.370450  19.135082 -1.861544 -0.888472  5.431275\n",
       "2018-01-02  0.149192  21.475671 -0.084066  1.230755  2.082235\n",
       "2018-01-03  3.640903  18.340961 -1.067184  0.158260 -0.676236\n",
       "2018-01-04  0.805045  13.137384 -0.468861  0.538903 -1.414896\n",
       "2018-01-05 -1.156959  19.090475  5.531020 -1.919684 -2.385755"
      ]
     },
     "execution_count": 39,
     "metadata": {},
     "output_type": "execute_result"
    }
   ],
   "source": [
    "# df.rename(columns={'Series 1': 'SPX', \n",
    "#                    'Series 2': 'DAX', \n",
    "#                    'Series 3': 'GOOGL', \n",
    "#                    'Series 4': 'AAPL', \n",
    "#                    'Series 5': 'VIX'}, inplace=True)\n",
    "df.columns = ['SPX', 'DAX', 'GOOGL', 'AAPL', 'VIX'] # same effect\n",
    "# df.rename(columns={'Col1': 'Col1_newname'},inplace=True) # but by using rename you can change only 1 column!\n",
    "df.head()"
   ]
  },
  {
   "cell_type": "markdown",
   "metadata": {
    "tags": []
   },
   "source": [
    "### A note on copies on slices...."
   ]
  },
  {
   "cell_type": "code",
   "execution_count": 40,
   "metadata": {},
   "outputs": [
    {
     "data": {
      "text/html": [
       "<div>\n",
       "<style scoped>\n",
       "    .dataframe tbody tr th:only-of-type {\n",
       "        vertical-align: middle;\n",
       "    }\n",
       "\n",
       "    .dataframe tbody tr th {\n",
       "        vertical-align: top;\n",
       "    }\n",
       "\n",
       "    .dataframe thead th {\n",
       "        text-align: right;\n",
       "    }\n",
       "</style>\n",
       "<table border=\"1\" class=\"dataframe\">\n",
       "  <thead>\n",
       "    <tr style=\"text-align: right;\">\n",
       "      <th></th>\n",
       "      <th>SPX</th>\n",
       "      <th>DAX</th>\n",
       "      <th>GOOGL</th>\n",
       "      <th>AAPL</th>\n",
       "      <th>VIX</th>\n",
       "    </tr>\n",
       "    <tr>\n",
       "      <th>Date</th>\n",
       "      <th></th>\n",
       "      <th></th>\n",
       "      <th></th>\n",
       "      <th></th>\n",
       "      <th></th>\n",
       "    </tr>\n",
       "  </thead>\n",
       "  <tbody>\n",
       "    <tr>\n",
       "      <th>2018-01-01</th>\n",
       "      <td>-2.370450</td>\n",
       "      <td>19.135082</td>\n",
       "      <td>-1.861544</td>\n",
       "      <td>-0.888472</td>\n",
       "      <td>5.431275</td>\n",
       "    </tr>\n",
       "    <tr>\n",
       "      <th>2018-01-02</th>\n",
       "      <td>0.149192</td>\n",
       "      <td>21.475671</td>\n",
       "      <td>-0.084066</td>\n",
       "      <td>1.230755</td>\n",
       "      <td>2.082235</td>\n",
       "    </tr>\n",
       "    <tr>\n",
       "      <th>2018-01-03</th>\n",
       "      <td>3.640903</td>\n",
       "      <td>18.340961</td>\n",
       "      <td>-1.067184</td>\n",
       "      <td>0.158260</td>\n",
       "      <td>-0.676236</td>\n",
       "    </tr>\n",
       "    <tr>\n",
       "      <th>2018-01-04</th>\n",
       "      <td>0.805045</td>\n",
       "      <td>13.137384</td>\n",
       "      <td>-0.468861</td>\n",
       "      <td>0.538903</td>\n",
       "      <td>-1.414896</td>\n",
       "    </tr>\n",
       "    <tr>\n",
       "      <th>2018-01-05</th>\n",
       "      <td>-1.156959</td>\n",
       "      <td>19.090475</td>\n",
       "      <td>5.531020</td>\n",
       "      <td>-1.919684</td>\n",
       "      <td>-2.385755</td>\n",
       "    </tr>\n",
       "  </tbody>\n",
       "</table>\n",
       "</div>"
      ],
      "text/plain": [
       "                 SPX        DAX     GOOGL      AAPL       VIX\n",
       "Date                                                         \n",
       "2018-01-01 -2.370450  19.135082 -1.861544 -0.888472  5.431275\n",
       "2018-01-02  0.149192  21.475671 -0.084066  1.230755  2.082235\n",
       "2018-01-03  3.640903  18.340961 -1.067184  0.158260 -0.676236\n",
       "2018-01-04  0.805045  13.137384 -0.468861  0.538903 -1.414896\n",
       "2018-01-05 -1.156959  19.090475  5.531020 -1.919684 -2.385755"
      ]
     },
     "execution_count": 40,
     "metadata": {},
     "output_type": "execute_result"
    }
   ],
   "source": [
    "df.head()"
   ]
  },
  {
   "cell_type": "code",
   "execution_count": 41,
   "metadata": {},
   "outputs": [
    {
     "data": {
      "text/plain": [
       "0.14919191129050471"
      ]
     },
     "execution_count": 41,
     "metadata": {},
     "output_type": "execute_result"
    }
   ],
   "source": [
    "val = df.iloc[1,0]\n",
    "val"
   ]
  },
  {
   "cell_type": "code",
   "execution_count": 42,
   "metadata": {},
   "outputs": [
    {
     "name": "stderr",
     "output_type": "stream",
     "text": [
      "/var/folders/zr/fgntnd8166vbjcz3v3pjw4cm0000gn/T/ipykernel_31082/3746132791.py:1: SettingWithCopyWarning: \n",
      "A value is trying to be set on a copy of a slice from a DataFrame.\n",
      "Try using .loc[row_indexer,col_indexer] = value instead\n",
      "\n",
      "See the caveats in the documentation: https://pandas.pydata.org/pandas-docs/stable/user_guide/indexing.html#returning-a-view-versus-a-copy\n",
      "  df[df[\"SPX\"] == val][\"DAX\"] = 0.\n"
     ]
    },
    {
     "data": {
      "text/html": [
       "<div>\n",
       "<style scoped>\n",
       "    .dataframe tbody tr th:only-of-type {\n",
       "        vertical-align: middle;\n",
       "    }\n",
       "\n",
       "    .dataframe tbody tr th {\n",
       "        vertical-align: top;\n",
       "    }\n",
       "\n",
       "    .dataframe thead th {\n",
       "        text-align: right;\n",
       "    }\n",
       "</style>\n",
       "<table border=\"1\" class=\"dataframe\">\n",
       "  <thead>\n",
       "    <tr style=\"text-align: right;\">\n",
       "      <th></th>\n",
       "      <th>SPX</th>\n",
       "      <th>DAX</th>\n",
       "      <th>GOOGL</th>\n",
       "      <th>AAPL</th>\n",
       "      <th>VIX</th>\n",
       "    </tr>\n",
       "    <tr>\n",
       "      <th>Date</th>\n",
       "      <th></th>\n",
       "      <th></th>\n",
       "      <th></th>\n",
       "      <th></th>\n",
       "      <th></th>\n",
       "    </tr>\n",
       "  </thead>\n",
       "  <tbody>\n",
       "    <tr>\n",
       "      <th>2018-01-01</th>\n",
       "      <td>-2.370450</td>\n",
       "      <td>19.135082</td>\n",
       "      <td>-1.861544</td>\n",
       "      <td>-0.888472</td>\n",
       "      <td>5.431275</td>\n",
       "    </tr>\n",
       "    <tr>\n",
       "      <th>2018-01-02</th>\n",
       "      <td>0.149192</td>\n",
       "      <td>21.475671</td>\n",
       "      <td>-0.084066</td>\n",
       "      <td>1.230755</td>\n",
       "      <td>2.082235</td>\n",
       "    </tr>\n",
       "    <tr>\n",
       "      <th>2018-01-03</th>\n",
       "      <td>3.640903</td>\n",
       "      <td>18.340961</td>\n",
       "      <td>-1.067184</td>\n",
       "      <td>0.158260</td>\n",
       "      <td>-0.676236</td>\n",
       "    </tr>\n",
       "    <tr>\n",
       "      <th>2018-01-04</th>\n",
       "      <td>0.805045</td>\n",
       "      <td>13.137384</td>\n",
       "      <td>-0.468861</td>\n",
       "      <td>0.538903</td>\n",
       "      <td>-1.414896</td>\n",
       "    </tr>\n",
       "    <tr>\n",
       "      <th>2018-01-05</th>\n",
       "      <td>-1.156959</td>\n",
       "      <td>19.090475</td>\n",
       "      <td>5.531020</td>\n",
       "      <td>-1.919684</td>\n",
       "      <td>-2.385755</td>\n",
       "    </tr>\n",
       "    <tr>\n",
       "      <th>...</th>\n",
       "      <td>...</td>\n",
       "      <td>...</td>\n",
       "      <td>...</td>\n",
       "      <td>...</td>\n",
       "      <td>...</td>\n",
       "    </tr>\n",
       "    <tr>\n",
       "      <th>2045-05-14</th>\n",
       "      <td>-1.848750</td>\n",
       "      <td>19.441214</td>\n",
       "      <td>-5.156629</td>\n",
       "      <td>2.503811</td>\n",
       "      <td>3.008159</td>\n",
       "    </tr>\n",
       "    <tr>\n",
       "      <th>2045-05-15</th>\n",
       "      <td>0.182542</td>\n",
       "      <td>19.651680</td>\n",
       "      <td>-0.623170</td>\n",
       "      <td>-0.762166</td>\n",
       "      <td>2.482396</td>\n",
       "    </tr>\n",
       "    <tr>\n",
       "      <th>2045-05-16</th>\n",
       "      <td>-0.803958</td>\n",
       "      <td>20.475379</td>\n",
       "      <td>4.107041</td>\n",
       "      <td>-3.941676</td>\n",
       "      <td>-1.684042</td>\n",
       "    </tr>\n",
       "    <tr>\n",
       "      <th>2045-05-17</th>\n",
       "      <td>-1.050907</td>\n",
       "      <td>17.290104</td>\n",
       "      <td>-0.865339</td>\n",
       "      <td>-1.802781</td>\n",
       "      <td>-0.555661</td>\n",
       "    </tr>\n",
       "    <tr>\n",
       "      <th>2045-05-18</th>\n",
       "      <td>-3.164147</td>\n",
       "      <td>21.119081</td>\n",
       "      <td>-1.046172</td>\n",
       "      <td>0.106879</td>\n",
       "      <td>-0.227292</td>\n",
       "    </tr>\n",
       "  </tbody>\n",
       "</table>\n",
       "<p>10000 rows × 5 columns</p>\n",
       "</div>"
      ],
      "text/plain": [
       "                 SPX        DAX     GOOGL      AAPL       VIX\n",
       "Date                                                         \n",
       "2018-01-01 -2.370450  19.135082 -1.861544 -0.888472  5.431275\n",
       "2018-01-02  0.149192  21.475671 -0.084066  1.230755  2.082235\n",
       "2018-01-03  3.640903  18.340961 -1.067184  0.158260 -0.676236\n",
       "2018-01-04  0.805045  13.137384 -0.468861  0.538903 -1.414896\n",
       "2018-01-05 -1.156959  19.090475  5.531020 -1.919684 -2.385755\n",
       "...              ...        ...       ...       ...       ...\n",
       "2045-05-14 -1.848750  19.441214 -5.156629  2.503811  3.008159\n",
       "2045-05-15  0.182542  19.651680 -0.623170 -0.762166  2.482396\n",
       "2045-05-16 -0.803958  20.475379  4.107041 -3.941676 -1.684042\n",
       "2045-05-17 -1.050907  17.290104 -0.865339 -1.802781 -0.555661\n",
       "2045-05-18 -3.164147  21.119081 -1.046172  0.106879 -0.227292\n",
       "\n",
       "[10000 rows x 5 columns]"
      ]
     },
     "execution_count": 42,
     "metadata": {},
     "output_type": "execute_result"
    }
   ],
   "source": [
    "df[df[\"SPX\"] == val][\"DAX\"] = 0.\n",
    "df"
   ]
  },
  {
   "cell_type": "code",
   "execution_count": 43,
   "metadata": {},
   "outputs": [
    {
     "data": {
      "text/html": [
       "<div>\n",
       "<style scoped>\n",
       "    .dataframe tbody tr th:only-of-type {\n",
       "        vertical-align: middle;\n",
       "    }\n",
       "\n",
       "    .dataframe tbody tr th {\n",
       "        vertical-align: top;\n",
       "    }\n",
       "\n",
       "    .dataframe thead th {\n",
       "        text-align: right;\n",
       "    }\n",
       "</style>\n",
       "<table border=\"1\" class=\"dataframe\">\n",
       "  <thead>\n",
       "    <tr style=\"text-align: right;\">\n",
       "      <th></th>\n",
       "      <th>SPX</th>\n",
       "      <th>DAX</th>\n",
       "      <th>GOOGL</th>\n",
       "      <th>AAPL</th>\n",
       "      <th>VIX</th>\n",
       "    </tr>\n",
       "    <tr>\n",
       "      <th>Date</th>\n",
       "      <th></th>\n",
       "      <th></th>\n",
       "      <th></th>\n",
       "      <th></th>\n",
       "      <th></th>\n",
       "    </tr>\n",
       "  </thead>\n",
       "  <tbody>\n",
       "    <tr>\n",
       "      <th>2018-01-01</th>\n",
       "      <td>-2.370450</td>\n",
       "      <td>19.135082</td>\n",
       "      <td>-1.861544</td>\n",
       "      <td>-0.888472</td>\n",
       "      <td>5.431275</td>\n",
       "    </tr>\n",
       "    <tr>\n",
       "      <th>2018-01-02</th>\n",
       "      <td>0.149192</td>\n",
       "      <td>0.000000</td>\n",
       "      <td>-0.084066</td>\n",
       "      <td>1.230755</td>\n",
       "      <td>2.082235</td>\n",
       "    </tr>\n",
       "    <tr>\n",
       "      <th>2018-01-03</th>\n",
       "      <td>3.640903</td>\n",
       "      <td>18.340961</td>\n",
       "      <td>-1.067184</td>\n",
       "      <td>0.158260</td>\n",
       "      <td>-0.676236</td>\n",
       "    </tr>\n",
       "    <tr>\n",
       "      <th>2018-01-04</th>\n",
       "      <td>0.805045</td>\n",
       "      <td>13.137384</td>\n",
       "      <td>-0.468861</td>\n",
       "      <td>0.538903</td>\n",
       "      <td>-1.414896</td>\n",
       "    </tr>\n",
       "    <tr>\n",
       "      <th>2018-01-05</th>\n",
       "      <td>-1.156959</td>\n",
       "      <td>19.090475</td>\n",
       "      <td>5.531020</td>\n",
       "      <td>-1.919684</td>\n",
       "      <td>-2.385755</td>\n",
       "    </tr>\n",
       "    <tr>\n",
       "      <th>...</th>\n",
       "      <td>...</td>\n",
       "      <td>...</td>\n",
       "      <td>...</td>\n",
       "      <td>...</td>\n",
       "      <td>...</td>\n",
       "    </tr>\n",
       "    <tr>\n",
       "      <th>2045-05-14</th>\n",
       "      <td>-1.848750</td>\n",
       "      <td>19.441214</td>\n",
       "      <td>-5.156629</td>\n",
       "      <td>2.503811</td>\n",
       "      <td>3.008159</td>\n",
       "    </tr>\n",
       "    <tr>\n",
       "      <th>2045-05-15</th>\n",
       "      <td>0.182542</td>\n",
       "      <td>19.651680</td>\n",
       "      <td>-0.623170</td>\n",
       "      <td>-0.762166</td>\n",
       "      <td>2.482396</td>\n",
       "    </tr>\n",
       "    <tr>\n",
       "      <th>2045-05-16</th>\n",
       "      <td>-0.803958</td>\n",
       "      <td>20.475379</td>\n",
       "      <td>4.107041</td>\n",
       "      <td>-3.941676</td>\n",
       "      <td>-1.684042</td>\n",
       "    </tr>\n",
       "    <tr>\n",
       "      <th>2045-05-17</th>\n",
       "      <td>-1.050907</td>\n",
       "      <td>17.290104</td>\n",
       "      <td>-0.865339</td>\n",
       "      <td>-1.802781</td>\n",
       "      <td>-0.555661</td>\n",
       "    </tr>\n",
       "    <tr>\n",
       "      <th>2045-05-18</th>\n",
       "      <td>-3.164147</td>\n",
       "      <td>21.119081</td>\n",
       "      <td>-1.046172</td>\n",
       "      <td>0.106879</td>\n",
       "      <td>-0.227292</td>\n",
       "    </tr>\n",
       "  </tbody>\n",
       "</table>\n",
       "<p>10000 rows × 5 columns</p>\n",
       "</div>"
      ],
      "text/plain": [
       "                 SPX        DAX     GOOGL      AAPL       VIX\n",
       "Date                                                         \n",
       "2018-01-01 -2.370450  19.135082 -1.861544 -0.888472  5.431275\n",
       "2018-01-02  0.149192   0.000000 -0.084066  1.230755  2.082235\n",
       "2018-01-03  3.640903  18.340961 -1.067184  0.158260 -0.676236\n",
       "2018-01-04  0.805045  13.137384 -0.468861  0.538903 -1.414896\n",
       "2018-01-05 -1.156959  19.090475  5.531020 -1.919684 -2.385755\n",
       "...              ...        ...       ...       ...       ...\n",
       "2045-05-14 -1.848750  19.441214 -5.156629  2.503811  3.008159\n",
       "2045-05-15  0.182542  19.651680 -0.623170 -0.762166  2.482396\n",
       "2045-05-16 -0.803958  20.475379  4.107041 -3.941676 -1.684042\n",
       "2045-05-17 -1.050907  17.290104 -0.865339 -1.802781 -0.555661\n",
       "2045-05-18 -3.164147  21.119081 -1.046172  0.106879 -0.227292\n",
       "\n",
       "[10000 rows x 5 columns]"
      ]
     },
     "execution_count": 43,
     "metadata": {},
     "output_type": "execute_result"
    }
   ],
   "source": [
    "df.loc[df[\"SPX\"] == val, \"DAX\"] = 0.\n",
    "df"
   ]
  },
  {
   "cell_type": "markdown",
   "metadata": {
    "zanadu": {}
   },
   "source": [
    "# Working with real data"
   ]
  },
  {
   "cell_type": "markdown",
   "metadata": {
    "zanadu": {}
   },
   "source": [
    "## Financial data from Yahoo Finance"
   ]
  },
  {
   "cell_type": "code",
   "execution_count": 44,
   "metadata": {
    "zanadu": {
     "code_type": ""
    }
   },
   "outputs": [],
   "source": [
    "# !pip install pandas_datareader\n",
    "import pandas as pd\n",
    "pd.core.common.is_list_like = pd.api.types.is_list_like\n",
    "import pandas_datareader as web\n",
    "from pandas_datareader import data as pdr\n",
    "from datetime import datetime"
   ]
  },
  {
   "cell_type": "markdown",
   "metadata": {},
   "source": [
    "`pandas_datareader` is something similar to yahoo-fin, but it can also read data from other sources (e.g. FRED)."
   ]
  },
  {
   "cell_type": "code",
   "execution_count": 45,
   "metadata": {},
   "outputs": [
    {
     "data": {
      "text/html": [
       "<div>\n",
       "<style scoped>\n",
       "    .dataframe tbody tr th:only-of-type {\n",
       "        vertical-align: middle;\n",
       "    }\n",
       "\n",
       "    .dataframe tbody tr th {\n",
       "        vertical-align: top;\n",
       "    }\n",
       "\n",
       "    .dataframe thead th {\n",
       "        text-align: right;\n",
       "    }\n",
       "</style>\n",
       "<table border=\"1\" class=\"dataframe\">\n",
       "  <thead>\n",
       "    <tr style=\"text-align: right;\">\n",
       "      <th></th>\n",
       "      <th>High</th>\n",
       "      <th>Low</th>\n",
       "      <th>Open</th>\n",
       "      <th>Close</th>\n",
       "      <th>Volume</th>\n",
       "      <th>Adj Close</th>\n",
       "    </tr>\n",
       "    <tr>\n",
       "      <th>Date</th>\n",
       "      <th></th>\n",
       "      <th></th>\n",
       "      <th></th>\n",
       "      <th></th>\n",
       "      <th></th>\n",
       "      <th></th>\n",
       "    </tr>\n",
       "  </thead>\n",
       "  <tbody>\n",
       "    <tr>\n",
       "      <th>1980-12-12</th>\n",
       "      <td>0.128906</td>\n",
       "      <td>0.128348</td>\n",
       "      <td>0.128348</td>\n",
       "      <td>0.128348</td>\n",
       "      <td>469033600.0</td>\n",
       "      <td>0.099874</td>\n",
       "    </tr>\n",
       "    <tr>\n",
       "      <th>1980-12-15</th>\n",
       "      <td>0.122210</td>\n",
       "      <td>0.121652</td>\n",
       "      <td>0.122210</td>\n",
       "      <td>0.121652</td>\n",
       "      <td>175884800.0</td>\n",
       "      <td>0.094663</td>\n",
       "    </tr>\n",
       "    <tr>\n",
       "      <th>1980-12-16</th>\n",
       "      <td>0.113281</td>\n",
       "      <td>0.112723</td>\n",
       "      <td>0.113281</td>\n",
       "      <td>0.112723</td>\n",
       "      <td>105728000.0</td>\n",
       "      <td>0.087715</td>\n",
       "    </tr>\n",
       "    <tr>\n",
       "      <th>1980-12-17</th>\n",
       "      <td>0.116071</td>\n",
       "      <td>0.115513</td>\n",
       "      <td>0.115513</td>\n",
       "      <td>0.115513</td>\n",
       "      <td>86441600.0</td>\n",
       "      <td>0.089886</td>\n",
       "    </tr>\n",
       "    <tr>\n",
       "      <th>1980-12-18</th>\n",
       "      <td>0.119420</td>\n",
       "      <td>0.118862</td>\n",
       "      <td>0.118862</td>\n",
       "      <td>0.118862</td>\n",
       "      <td>73449600.0</td>\n",
       "      <td>0.092492</td>\n",
       "    </tr>\n",
       "  </tbody>\n",
       "</table>\n",
       "</div>"
      ],
      "text/plain": [
       "                High       Low      Open     Close       Volume  Adj Close\n",
       "Date                                                                      \n",
       "1980-12-12  0.128906  0.128348  0.128348  0.128348  469033600.0   0.099874\n",
       "1980-12-15  0.122210  0.121652  0.122210  0.121652  175884800.0   0.094663\n",
       "1980-12-16  0.113281  0.112723  0.113281  0.112723  105728000.0   0.087715\n",
       "1980-12-17  0.116071  0.115513  0.115513  0.115513   86441600.0   0.089886\n",
       "1980-12-18  0.119420  0.118862  0.118862  0.118862   73449600.0   0.092492"
      ]
     },
     "execution_count": 45,
     "metadata": {},
     "output_type": "execute_result"
    }
   ],
   "source": [
    "ticker = \"AAPL\"\n",
    "aapl = pdr.DataReader(ticker, 'yahoo', '1980-01-01')\n",
    "aapl.head()"
   ]
  },
  {
   "cell_type": "code",
   "execution_count": 46,
   "metadata": {
    "zanadu": {
     "code_type": ""
    }
   },
   "outputs": [
    {
     "name": "stdout",
     "output_type": "stream",
     "text": [
      "<class 'pandas.core.frame.DataFrame'>\n",
      "DatetimeIndex: 10578 entries, 1980-12-12 to 2022-11-23\n",
      "Data columns (total 6 columns):\n",
      " #   Column     Non-Null Count  Dtype  \n",
      "---  ------     --------------  -----  \n",
      " 0   High       10578 non-null  float64\n",
      " 1   Low        10578 non-null  float64\n",
      " 2   Open       10578 non-null  float64\n",
      " 3   Close      10578 non-null  float64\n",
      " 4   Volume     10578 non-null  float64\n",
      " 5   Adj Close  10578 non-null  float64\n",
      "dtypes: float64(6)\n",
      "memory usage: 578.5 KB\n"
     ]
    }
   ],
   "source": [
    "aapl.info()"
   ]
  },
  {
   "cell_type": "code",
   "execution_count": 47,
   "metadata": {
    "zanadu": {
     "code_type": ""
    }
   },
   "outputs": [
    {
     "data": {
      "image/png": "[encoded data removed]",
      "text/plain": [
       "<Figure size 640x480 with 1 Axes>"
      ]
     },
     "metadata": {},
     "output_type": "display_data"
    }
   ],
   "source": [
    "#aapl[\"Open\"][1000:3000].plot(title=ticker)\n",
    "aapl[\"Close\"].plot(title=ticker)\n",
    "plt.show()"
   ]
  },
  {
   "cell_type": "markdown",
   "metadata": {
    "zanadu": {}
   },
   "source": [
    "## Economics Data from FRED"
   ]
  },
  {
   "cell_type": "code",
   "execution_count": 48,
   "metadata": {
    "zanadu": {
     "code_type": ""
    }
   },
   "outputs": [],
   "source": [
    "from datetime import date\n",
    "series_code = 'DGS10' # 10-year Treasury Rate\n",
    "data_source = 'fred' # FED Economic Data Service\n",
    "start = date(1962, 1, 1)\n",
    "myData = pdr.DataReader(series_code, data_source, start)"
   ]
  },
  {
   "cell_type": "code",
   "execution_count": 49,
   "metadata": {
    "zanadu": {
     "code_type": ""
    }
   },
   "outputs": [
    {
     "data": {
      "text/html": [
       "<div>\n",
       "<style scoped>\n",
       "    .dataframe tbody tr th:only-of-type {\n",
       "        vertical-align: middle;\n",
       "    }\n",
       "\n",
       "    .dataframe tbody tr th {\n",
       "        vertical-align: top;\n",
       "    }\n",
       "\n",
       "    .dataframe thead th {\n",
       "        text-align: right;\n",
       "    }\n",
       "</style>\n",
       "<table border=\"1\" class=\"dataframe\">\n",
       "  <thead>\n",
       "    <tr style=\"text-align: right;\">\n",
       "      <th></th>\n",
       "      <th>DGS10</th>\n",
       "    </tr>\n",
       "    <tr>\n",
       "      <th>DATE</th>\n",
       "      <th></th>\n",
       "    </tr>\n",
       "  </thead>\n",
       "  <tbody>\n",
       "    <tr>\n",
       "      <th>1962-01-02</th>\n",
       "      <td>4.06</td>\n",
       "    </tr>\n",
       "    <tr>\n",
       "      <th>1962-01-03</th>\n",
       "      <td>4.03</td>\n",
       "    </tr>\n",
       "    <tr>\n",
       "      <th>1962-01-04</th>\n",
       "      <td>3.99</td>\n",
       "    </tr>\n",
       "    <tr>\n",
       "      <th>1962-01-05</th>\n",
       "      <td>4.02</td>\n",
       "    </tr>\n",
       "    <tr>\n",
       "      <th>1962-01-08</th>\n",
       "      <td>4.03</td>\n",
       "    </tr>\n",
       "  </tbody>\n",
       "</table>\n",
       "</div>"
      ],
      "text/plain": [
       "            DGS10\n",
       "DATE             \n",
       "1962-01-02   4.06\n",
       "1962-01-03   4.03\n",
       "1962-01-04   3.99\n",
       "1962-01-05   4.02\n",
       "1962-01-08   4.03"
      ]
     },
     "execution_count": 49,
     "metadata": {},
     "output_type": "execute_result"
    }
   ],
   "source": [
    "myData.head()"
   ]
  },
  {
   "cell_type": "code",
   "execution_count": 50,
   "metadata": {
    "zanadu": {
     "code_type": ""
    }
   },
   "outputs": [
    {
     "data": {
      "image/png": "[encoded data removed]",
      "text/plain": [
       "<Figure size 640x480 with 1 Axes>"
      ]
     },
     "metadata": {},
     "output_type": "display_data"
    }
   ],
   "source": [
    "myData = myData / 100.\n",
    "series_name = '10-year Treasury'\n",
    "myData = myData.rename(columns={series_code: series_name})\n",
    "myData.plot(title=series_name)\n",
    "plt.show() "
   ]
  },
  {
   "cell_type": "markdown",
   "metadata": {
    "zanadu": {}
   },
   "source": [
    "## Analysing real data"
   ]
  },
  {
   "cell_type": "code",
   "execution_count": 51,
   "metadata": {
    "zanadu": {
     "code_type": ""
    }
   },
   "outputs": [
    {
     "name": "stdout",
     "output_type": "stream",
     "text": [
      "<class 'pandas.core.frame.DataFrame'>\n",
      "DatetimeIndex: 10818 entries, 1980-01-02 to 2022-11-23\n",
      "Data columns (total 6 columns):\n",
      " #   Column     Non-Null Count  Dtype  \n",
      "---  ------     --------------  -----  \n",
      " 0   High       10818 non-null  float64\n",
      " 1   Low        10818 non-null  float64\n",
      " 2   Open       10818 non-null  float64\n",
      " 3   Close      10818 non-null  float64\n",
      " 4   Volume     10818 non-null  int64  \n",
      " 5   Adj Close  10818 non-null  float64\n",
      "dtypes: float64(5), int64(1)\n",
      "memory usage: 591.6 KB\n"
     ]
    }
   ],
   "source": [
    "ticker = \"^GSPC\" ## S&P500 \n",
    "spx = pdr.DataReader(ticker, 'yahoo', '1980-01-01')\n",
    "spx.info()"
   ]
  },
  {
   "cell_type": "code",
   "execution_count": 52,
   "metadata": {
    "zanadu": {
     "code_type": ""
    }
   },
   "outputs": [
    {
     "data": {
      "text/html": [
       "<div>\n",
       "<style scoped>\n",
       "    .dataframe tbody tr th:only-of-type {\n",
       "        vertical-align: middle;\n",
       "    }\n",
       "\n",
       "    .dataframe tbody tr th {\n",
       "        vertical-align: top;\n",
       "    }\n",
       "\n",
       "    .dataframe thead th {\n",
       "        text-align: right;\n",
       "    }\n",
       "</style>\n",
       "<table border=\"1\" class=\"dataframe\">\n",
       "  <thead>\n",
       "    <tr style=\"text-align: right;\">\n",
       "      <th></th>\n",
       "      <th>High</th>\n",
       "      <th>Low</th>\n",
       "      <th>Open</th>\n",
       "      <th>Close</th>\n",
       "      <th>Volume</th>\n",
       "      <th>Adj Close</th>\n",
       "    </tr>\n",
       "    <tr>\n",
       "      <th>Date</th>\n",
       "      <th></th>\n",
       "      <th></th>\n",
       "      <th></th>\n",
       "      <th></th>\n",
       "      <th></th>\n",
       "      <th></th>\n",
       "    </tr>\n",
       "  </thead>\n",
       "  <tbody>\n",
       "    <tr>\n",
       "      <th>1980-01-02</th>\n",
       "      <td>108.430000</td>\n",
       "      <td>105.290001</td>\n",
       "      <td>0.0</td>\n",
       "      <td>105.760002</td>\n",
       "      <td>40610000</td>\n",
       "      <td>105.760002</td>\n",
       "    </tr>\n",
       "    <tr>\n",
       "      <th>1980-01-03</th>\n",
       "      <td>106.080002</td>\n",
       "      <td>103.260002</td>\n",
       "      <td>0.0</td>\n",
       "      <td>105.220001</td>\n",
       "      <td>50480000</td>\n",
       "      <td>105.220001</td>\n",
       "    </tr>\n",
       "    <tr>\n",
       "      <th>1980-01-04</th>\n",
       "      <td>107.080002</td>\n",
       "      <td>105.089996</td>\n",
       "      <td>0.0</td>\n",
       "      <td>106.519997</td>\n",
       "      <td>39130000</td>\n",
       "      <td>106.519997</td>\n",
       "    </tr>\n",
       "    <tr>\n",
       "      <th>1980-01-07</th>\n",
       "      <td>107.800003</td>\n",
       "      <td>105.800003</td>\n",
       "      <td>0.0</td>\n",
       "      <td>106.809998</td>\n",
       "      <td>44500000</td>\n",
       "      <td>106.809998</td>\n",
       "    </tr>\n",
       "    <tr>\n",
       "      <th>1980-01-08</th>\n",
       "      <td>109.290001</td>\n",
       "      <td>106.290001</td>\n",
       "      <td>0.0</td>\n",
       "      <td>108.949997</td>\n",
       "      <td>53390000</td>\n",
       "      <td>108.949997</td>\n",
       "    </tr>\n",
       "  </tbody>\n",
       "</table>\n",
       "</div>"
      ],
      "text/plain": [
       "                  High         Low  Open       Close    Volume   Adj Close\n",
       "Date                                                                      \n",
       "1980-01-02  108.430000  105.290001   0.0  105.760002  40610000  105.760002\n",
       "1980-01-03  106.080002  103.260002   0.0  105.220001  50480000  105.220001\n",
       "1980-01-04  107.080002  105.089996   0.0  106.519997  39130000  106.519997\n",
       "1980-01-07  107.800003  105.800003   0.0  106.809998  44500000  106.809998\n",
       "1980-01-08  109.290001  106.290001   0.0  108.949997  53390000  108.949997"
      ]
     },
     "execution_count": 52,
     "metadata": {},
     "output_type": "execute_result"
    }
   ],
   "source": [
    "spx.head()"
   ]
  },
  {
   "cell_type": "code",
   "execution_count": 53,
   "metadata": {
    "zanadu": {
     "code_type": ""
    }
   },
   "outputs": [
    {
     "data": {
      "image/png": "[encoded data removed]",
      "text/plain": [
       "<Figure size 800x500 with 1 Axes>"
      ]
     },
     "metadata": {},
     "output_type": "display_data"
    }
   ],
   "source": [
    "spx['Close'].plot(figsize=(8, 5), grid=True);"
   ]
  },
  {
   "cell_type": "markdown",
   "metadata": {},
   "source": [
    "This graph shows the leverage effect - volatility is larger when the return is negative."
   ]
  },
  {
   "cell_type": "markdown",
   "metadata": {
    "zanadu": {}
   },
   "source": [
    "### A quick note on computation time -- computing daily returns"
   ]
  },
  {
   "cell_type": "code",
   "execution_count": 54,
   "metadata": {},
   "outputs": [
    {
     "data": {
      "text/plain": [
       "10818"
      ]
     },
     "execution_count": 54,
     "metadata": {},
     "output_type": "execute_result"
    }
   ],
   "source": [
    "len(spx)"
   ]
  },
  {
   "cell_type": "code",
   "execution_count": 55,
   "metadata": {
    "zanadu": {
     "code_type": ""
    }
   },
   "outputs": [
    {
     "name": "stderr",
     "output_type": "stream",
     "text": [
      "<timed exec>:3: SettingWithCopyWarning: \n",
      "A value is trying to be set on a copy of a slice from a DataFrame\n",
      "\n",
      "See the caveats in the documentation: https://pandas.pydata.org/pandas-docs/stable/user_guide/indexing.html#returning-a-view-versus-a-copy\n"
     ]
    },
    {
     "name": "stdout",
     "output_type": "stream",
     "text": [
      "CPU times: user 647 ms, sys: 11.9 ms, total: 659 ms\n",
      "Wall time: 652 ms\n"
     ]
    }
   ],
   "source": [
    "%%time\n",
    "spx['ReturnsLoop'] = 0.\n",
    "for i in range(1, len(spx)):\n",
    "    spx['ReturnsLoop'][i] = np.log(spx['Close'][i] / spx['Close'][i - 1])"
   ]
  },
  {
   "cell_type": "code",
   "execution_count": 56,
   "metadata": {
    "zanadu": {
     "code_type": ""
    }
   },
   "outputs": [
    {
     "data": {
      "text/html": [
       "<div>\n",
       "<style scoped>\n",
       "    .dataframe tbody tr th:only-of-type {\n",
       "        vertical-align: middle;\n",
       "    }\n",
       "\n",
       "    .dataframe tbody tr th {\n",
       "        vertical-align: top;\n",
       "    }\n",
       "\n",
       "    .dataframe thead th {\n",
       "        text-align: right;\n",
       "    }\n",
       "</style>\n",
       "<table border=\"1\" class=\"dataframe\">\n",
       "  <thead>\n",
       "    <tr style=\"text-align: right;\">\n",
       "      <th></th>\n",
       "      <th>Close</th>\n",
       "      <th>ReturnsLoop</th>\n",
       "    </tr>\n",
       "    <tr>\n",
       "      <th>Date</th>\n",
       "      <th></th>\n",
       "      <th></th>\n",
       "    </tr>\n",
       "  </thead>\n",
       "  <tbody>\n",
       "    <tr>\n",
       "      <th>1980-01-02</th>\n",
       "      <td>105.760002</td>\n",
       "      <td>0.000000</td>\n",
       "    </tr>\n",
       "    <tr>\n",
       "      <th>1980-01-03</th>\n",
       "      <td>105.220001</td>\n",
       "      <td>-0.005119</td>\n",
       "    </tr>\n",
       "    <tr>\n",
       "      <th>1980-01-04</th>\n",
       "      <td>106.519997</td>\n",
       "      <td>0.012279</td>\n",
       "    </tr>\n",
       "    <tr>\n",
       "      <th>1980-01-07</th>\n",
       "      <td>106.809998</td>\n",
       "      <td>0.002719</td>\n",
       "    </tr>\n",
       "    <tr>\n",
       "      <th>1980-01-08</th>\n",
       "      <td>108.949997</td>\n",
       "      <td>0.019838</td>\n",
       "    </tr>\n",
       "  </tbody>\n",
       "</table>\n",
       "</div>"
      ],
      "text/plain": [
       "                 Close  ReturnsLoop\n",
       "Date                               \n",
       "1980-01-02  105.760002     0.000000\n",
       "1980-01-03  105.220001    -0.005119\n",
       "1980-01-04  106.519997     0.012279\n",
       "1980-01-07  106.809998     0.002719\n",
       "1980-01-08  108.949997     0.019838"
      ]
     },
     "execution_count": 56,
     "metadata": {},
     "output_type": "execute_result"
    }
   ],
   "source": [
    "spx[['Close', 'ReturnsLoop']].head()"
   ]
  },
  {
   "cell_type": "code",
   "execution_count": 57,
   "metadata": {
    "zanadu": {
     "code_type": ""
    }
   },
   "outputs": [
    {
     "name": "stdout",
     "output_type": "stream",
     "text": [
      "CPU times: user 948 µs, sys: 360 µs, total: 1.31 ms\n",
      "Wall time: 1.04 ms\n"
     ]
    },
    {
     "data": {
      "text/html": [
       "<div>\n",
       "<style scoped>\n",
       "    .dataframe tbody tr th:only-of-type {\n",
       "        vertical-align: middle;\n",
       "    }\n",
       "\n",
       "    .dataframe tbody tr th {\n",
       "        vertical-align: top;\n",
       "    }\n",
       "\n",
       "    .dataframe thead th {\n",
       "        text-align: right;\n",
       "    }\n",
       "</style>\n",
       "<table border=\"1\" class=\"dataframe\">\n",
       "  <thead>\n",
       "    <tr style=\"text-align: right;\">\n",
       "      <th></th>\n",
       "      <th>Close</th>\n",
       "      <th>Returns</th>\n",
       "    </tr>\n",
       "    <tr>\n",
       "      <th>Date</th>\n",
       "      <th></th>\n",
       "      <th></th>\n",
       "    </tr>\n",
       "  </thead>\n",
       "  <tbody>\n",
       "    <tr>\n",
       "      <th>1980-01-02</th>\n",
       "      <td>105.760002</td>\n",
       "      <td>NaN</td>\n",
       "    </tr>\n",
       "    <tr>\n",
       "      <th>1980-01-03</th>\n",
       "      <td>105.220001</td>\n",
       "      <td>-0.005119</td>\n",
       "    </tr>\n",
       "    <tr>\n",
       "      <th>1980-01-04</th>\n",
       "      <td>106.519997</td>\n",
       "      <td>0.012279</td>\n",
       "    </tr>\n",
       "    <tr>\n",
       "      <th>1980-01-07</th>\n",
       "      <td>106.809998</td>\n",
       "      <td>0.002719</td>\n",
       "    </tr>\n",
       "    <tr>\n",
       "      <th>1980-01-08</th>\n",
       "      <td>108.949997</td>\n",
       "      <td>0.019838</td>\n",
       "    </tr>\n",
       "  </tbody>\n",
       "</table>\n",
       "</div>"
      ],
      "text/plain": [
       "                 Close   Returns\n",
       "Date                            \n",
       "1980-01-02  105.760002       NaN\n",
       "1980-01-03  105.220001 -0.005119\n",
       "1980-01-04  106.519997  0.012279\n",
       "1980-01-07  106.809998  0.002719\n",
       "1980-01-08  108.949997  0.019838"
      ]
     },
     "execution_count": 57,
     "metadata": {},
     "output_type": "execute_result"
    }
   ],
   "source": [
    "%time spx['Returns'] = np.log(spx['Close'] / spx['Close'].shift(1))\n",
    "spx[['Close', 'Returns']].head()"
   ]
  },
  {
   "cell_type": "code",
   "execution_count": 58,
   "metadata": {
    "zanadu": {
     "code_type": ""
    }
   },
   "outputs": [],
   "source": [
    "del spx['ReturnsLoop']"
   ]
  },
  {
   "cell_type": "code",
   "execution_count": 59,
   "metadata": {},
   "outputs": [
    {
     "data": {
      "text/html": [
       "<div>\n",
       "<style scoped>\n",
       "    .dataframe tbody tr th:only-of-type {\n",
       "        vertical-align: middle;\n",
       "    }\n",
       "\n",
       "    .dataframe tbody tr th {\n",
       "        vertical-align: top;\n",
       "    }\n",
       "\n",
       "    .dataframe thead th {\n",
       "        text-align: right;\n",
       "    }\n",
       "</style>\n",
       "<table border=\"1\" class=\"dataframe\">\n",
       "  <thead>\n",
       "    <tr style=\"text-align: right;\">\n",
       "      <th></th>\n",
       "      <th>High</th>\n",
       "      <th>Low</th>\n",
       "      <th>Open</th>\n",
       "      <th>Close</th>\n",
       "      <th>Volume</th>\n",
       "      <th>Adj Close</th>\n",
       "      <th>Returns</th>\n",
       "    </tr>\n",
       "    <tr>\n",
       "      <th>Date</th>\n",
       "      <th></th>\n",
       "      <th></th>\n",
       "      <th></th>\n",
       "      <th></th>\n",
       "      <th></th>\n",
       "      <th></th>\n",
       "      <th></th>\n",
       "    </tr>\n",
       "  </thead>\n",
       "  <tbody>\n",
       "    <tr>\n",
       "      <th>1980-01-02</th>\n",
       "      <td>108.430000</td>\n",
       "      <td>105.290001</td>\n",
       "      <td>0.0</td>\n",
       "      <td>105.760002</td>\n",
       "      <td>40610000</td>\n",
       "      <td>105.760002</td>\n",
       "      <td>NaN</td>\n",
       "    </tr>\n",
       "    <tr>\n",
       "      <th>1980-01-03</th>\n",
       "      <td>106.080002</td>\n",
       "      <td>103.260002</td>\n",
       "      <td>0.0</td>\n",
       "      <td>105.220001</td>\n",
       "      <td>50480000</td>\n",
       "      <td>105.220001</td>\n",
       "      <td>-0.005119</td>\n",
       "    </tr>\n",
       "    <tr>\n",
       "      <th>1980-01-04</th>\n",
       "      <td>107.080002</td>\n",
       "      <td>105.089996</td>\n",
       "      <td>0.0</td>\n",
       "      <td>106.519997</td>\n",
       "      <td>39130000</td>\n",
       "      <td>106.519997</td>\n",
       "      <td>0.012279</td>\n",
       "    </tr>\n",
       "    <tr>\n",
       "      <th>1980-01-07</th>\n",
       "      <td>107.800003</td>\n",
       "      <td>105.800003</td>\n",
       "      <td>0.0</td>\n",
       "      <td>106.809998</td>\n",
       "      <td>44500000</td>\n",
       "      <td>106.809998</td>\n",
       "      <td>0.002719</td>\n",
       "    </tr>\n",
       "    <tr>\n",
       "      <th>1980-01-08</th>\n",
       "      <td>109.290001</td>\n",
       "      <td>106.290001</td>\n",
       "      <td>0.0</td>\n",
       "      <td>108.949997</td>\n",
       "      <td>53390000</td>\n",
       "      <td>108.949997</td>\n",
       "      <td>0.019838</td>\n",
       "    </tr>\n",
       "  </tbody>\n",
       "</table>\n",
       "</div>"
      ],
      "text/plain": [
       "                  High         Low  Open       Close    Volume   Adj Close  \\\n",
       "Date                                                                         \n",
       "1980-01-02  108.430000  105.290001   0.0  105.760002  40610000  105.760002   \n",
       "1980-01-03  106.080002  103.260002   0.0  105.220001  50480000  105.220001   \n",
       "1980-01-04  107.080002  105.089996   0.0  106.519997  39130000  106.519997   \n",
       "1980-01-07  107.800003  105.800003   0.0  106.809998  44500000  106.809998   \n",
       "1980-01-08  109.290001  106.290001   0.0  108.949997  53390000  108.949997   \n",
       "\n",
       "             Returns  \n",
       "Date                  \n",
       "1980-01-02       NaN  \n",
       "1980-01-03 -0.005119  \n",
       "1980-01-04  0.012279  \n",
       "1980-01-07  0.002719  \n",
       "1980-01-08  0.019838  "
      ]
     },
     "execution_count": 59,
     "metadata": {},
     "output_type": "execute_result"
    }
   ],
   "source": [
    "spx.dropna()\n",
    "spx.head()"
   ]
  },
  {
   "cell_type": "code",
   "execution_count": 60,
   "metadata": {},
   "outputs": [
    {
     "data": {
      "text/plain": [
       "-2.3704502615453364"
      ]
     },
     "execution_count": 60,
     "metadata": {},
     "output_type": "execute_result"
    }
   ],
   "source": [
    "val = df.iloc[0,0]\n",
    "val"
   ]
  },
  {
   "cell_type": "code",
   "execution_count": 61,
   "metadata": {},
   "outputs": [
    {
     "name": "stderr",
     "output_type": "stream",
     "text": [
      "/var/folders/zr/fgntnd8166vbjcz3v3pjw4cm0000gn/T/ipykernel_31082/277962909.py:1: SettingWithCopyWarning: \n",
      "A value is trying to be set on a copy of a slice from a DataFrame.\n",
      "Try using .loc[row_indexer,col_indexer] = value instead\n",
      "\n",
      "See the caveats in the documentation: https://pandas.pydata.org/pandas-docs/stable/user_guide/indexing.html#returning-a-view-versus-a-copy\n",
      "  df[df['SPX'] == val]['DAX'] = 0.\n"
     ]
    },
    {
     "data": {
      "text/html": [
       "<div>\n",
       "<style scoped>\n",
       "    .dataframe tbody tr th:only-of-type {\n",
       "        vertical-align: middle;\n",
       "    }\n",
       "\n",
       "    .dataframe tbody tr th {\n",
       "        vertical-align: top;\n",
       "    }\n",
       "\n",
       "    .dataframe thead th {\n",
       "        text-align: right;\n",
       "    }\n",
       "</style>\n",
       "<table border=\"1\" class=\"dataframe\">\n",
       "  <thead>\n",
       "    <tr style=\"text-align: right;\">\n",
       "      <th></th>\n",
       "      <th>SPX</th>\n",
       "      <th>DAX</th>\n",
       "      <th>GOOGL</th>\n",
       "      <th>AAPL</th>\n",
       "      <th>VIX</th>\n",
       "    </tr>\n",
       "    <tr>\n",
       "      <th>Date</th>\n",
       "      <th></th>\n",
       "      <th></th>\n",
       "      <th></th>\n",
       "      <th></th>\n",
       "      <th></th>\n",
       "    </tr>\n",
       "  </thead>\n",
       "  <tbody>\n",
       "    <tr>\n",
       "      <th>2018-01-01</th>\n",
       "      <td>-2.370450</td>\n",
       "      <td>19.135082</td>\n",
       "      <td>-1.861544</td>\n",
       "      <td>-0.888472</td>\n",
       "      <td>5.431275</td>\n",
       "    </tr>\n",
       "    <tr>\n",
       "      <th>2018-01-02</th>\n",
       "      <td>0.149192</td>\n",
       "      <td>0.000000</td>\n",
       "      <td>-0.084066</td>\n",
       "      <td>1.230755</td>\n",
       "      <td>2.082235</td>\n",
       "    </tr>\n",
       "    <tr>\n",
       "      <th>2018-01-03</th>\n",
       "      <td>3.640903</td>\n",
       "      <td>18.340961</td>\n",
       "      <td>-1.067184</td>\n",
       "      <td>0.158260</td>\n",
       "      <td>-0.676236</td>\n",
       "    </tr>\n",
       "    <tr>\n",
       "      <th>2018-01-04</th>\n",
       "      <td>0.805045</td>\n",
       "      <td>13.137384</td>\n",
       "      <td>-0.468861</td>\n",
       "      <td>0.538903</td>\n",
       "      <td>-1.414896</td>\n",
       "    </tr>\n",
       "    <tr>\n",
       "      <th>2018-01-05</th>\n",
       "      <td>-1.156959</td>\n",
       "      <td>19.090475</td>\n",
       "      <td>5.531020</td>\n",
       "      <td>-1.919684</td>\n",
       "      <td>-2.385755</td>\n",
       "    </tr>\n",
       "  </tbody>\n",
       "</table>\n",
       "</div>"
      ],
      "text/plain": [
       "                 SPX        DAX     GOOGL      AAPL       VIX\n",
       "Date                                                         \n",
       "2018-01-01 -2.370450  19.135082 -1.861544 -0.888472  5.431275\n",
       "2018-01-02  0.149192   0.000000 -0.084066  1.230755  2.082235\n",
       "2018-01-03  3.640903  18.340961 -1.067184  0.158260 -0.676236\n",
       "2018-01-04  0.805045  13.137384 -0.468861  0.538903 -1.414896\n",
       "2018-01-05 -1.156959  19.090475  5.531020 -1.919684 -2.385755"
      ]
     },
     "execution_count": 61,
     "metadata": {},
     "output_type": "execute_result"
    }
   ],
   "source": [
    "df[df['SPX'] == val]['DAX'] = 0.\n",
    "df.head()"
   ]
  },
  {
   "cell_type": "code",
   "execution_count": 62,
   "metadata": {},
   "outputs": [
    {
     "data": {
      "text/html": [
       "<div>\n",
       "<style scoped>\n",
       "    .dataframe tbody tr th:only-of-type {\n",
       "        vertical-align: middle;\n",
       "    }\n",
       "\n",
       "    .dataframe tbody tr th {\n",
       "        vertical-align: top;\n",
       "    }\n",
       "\n",
       "    .dataframe thead th {\n",
       "        text-align: right;\n",
       "    }\n",
       "</style>\n",
       "<table border=\"1\" class=\"dataframe\">\n",
       "  <thead>\n",
       "    <tr style=\"text-align: right;\">\n",
       "      <th></th>\n",
       "      <th>SPX</th>\n",
       "      <th>DAX</th>\n",
       "      <th>GOOGL</th>\n",
       "      <th>AAPL</th>\n",
       "      <th>VIX</th>\n",
       "    </tr>\n",
       "    <tr>\n",
       "      <th>Date</th>\n",
       "      <th></th>\n",
       "      <th></th>\n",
       "      <th></th>\n",
       "      <th></th>\n",
       "      <th></th>\n",
       "    </tr>\n",
       "  </thead>\n",
       "  <tbody>\n",
       "    <tr>\n",
       "      <th>2018-01-01</th>\n",
       "      <td>-2.370450</td>\n",
       "      <td>0.000000</td>\n",
       "      <td>-1.861544</td>\n",
       "      <td>-0.888472</td>\n",
       "      <td>5.431275</td>\n",
       "    </tr>\n",
       "    <tr>\n",
       "      <th>2018-01-02</th>\n",
       "      <td>0.149192</td>\n",
       "      <td>0.000000</td>\n",
       "      <td>-0.084066</td>\n",
       "      <td>1.230755</td>\n",
       "      <td>2.082235</td>\n",
       "    </tr>\n",
       "    <tr>\n",
       "      <th>2018-01-03</th>\n",
       "      <td>3.640903</td>\n",
       "      <td>18.340961</td>\n",
       "      <td>-1.067184</td>\n",
       "      <td>0.158260</td>\n",
       "      <td>-0.676236</td>\n",
       "    </tr>\n",
       "    <tr>\n",
       "      <th>2018-01-04</th>\n",
       "      <td>0.805045</td>\n",
       "      <td>13.137384</td>\n",
       "      <td>-0.468861</td>\n",
       "      <td>0.538903</td>\n",
       "      <td>-1.414896</td>\n",
       "    </tr>\n",
       "    <tr>\n",
       "      <th>2018-01-05</th>\n",
       "      <td>-1.156959</td>\n",
       "      <td>19.090475</td>\n",
       "      <td>5.531020</td>\n",
       "      <td>-1.919684</td>\n",
       "      <td>-2.385755</td>\n",
       "    </tr>\n",
       "  </tbody>\n",
       "</table>\n",
       "</div>"
      ],
      "text/plain": [
       "                 SPX        DAX     GOOGL      AAPL       VIX\n",
       "Date                                                         \n",
       "2018-01-01 -2.370450   0.000000 -1.861544 -0.888472  5.431275\n",
       "2018-01-02  0.149192   0.000000 -0.084066  1.230755  2.082235\n",
       "2018-01-03  3.640903  18.340961 -1.067184  0.158260 -0.676236\n",
       "2018-01-04  0.805045  13.137384 -0.468861  0.538903 -1.414896\n",
       "2018-01-05 -1.156959  19.090475  5.531020 -1.919684 -2.385755"
      ]
     },
     "execution_count": 62,
     "metadata": {},
     "output_type": "execute_result"
    }
   ],
   "source": [
    "df.loc[df['SPX'] == val, 'DAX'] = 0.\n",
    "df.head()"
   ]
  },
  {
   "cell_type": "markdown",
   "metadata": {},
   "source": [
    "**WHAT IS THE PROBLEM?**"
   ]
  },
  {
   "cell_type": "markdown",
   "metadata": {
    "zanadu": {}
   },
   "source": [
    "### Data analysis"
   ]
  },
  {
   "cell_type": "code",
   "execution_count": 63,
   "metadata": {
    "zanadu": {
     "code_type": ""
    }
   },
   "outputs": [
    {
     "data": {
      "image/png": "[encoded data removed]",
      "text/plain": [
       "<Figure size 800x600 with 2 Axes>"
      ]
     },
     "metadata": {},
     "output_type": "display_data"
    }
   ],
   "source": [
    "spx[['Close', 'Returns']].plot(subplots=True, style='b',figsize=(8, 6));"
   ]
  },
  {
   "cell_type": "markdown",
   "metadata": {
    "zanadu": {}
   },
   "source": [
    "**Remarks:**\n",
    "- Volatility clustering\n",
    "- Leverage effect"
   ]
  },
  {
   "cell_type": "markdown",
   "metadata": {
    "zanadu": {}
   },
   "source": [
    "### Moving averages"
   ]
  },
  {
   "cell_type": "code",
   "execution_count": 64,
   "metadata": {
    "zanadu": {
     "code_type": ""
    }
   },
   "outputs": [
    {
     "data": {
      "text/html": [
       "<div>\n",
       "<style scoped>\n",
       "    .dataframe tbody tr th:only-of-type {\n",
       "        vertical-align: middle;\n",
       "    }\n",
       "\n",
       "    .dataframe tbody tr th {\n",
       "        vertical-align: top;\n",
       "    }\n",
       "\n",
       "    .dataframe thead th {\n",
       "        text-align: right;\n",
       "    }\n",
       "</style>\n",
       "<table border=\"1\" class=\"dataframe\">\n",
       "  <thead>\n",
       "    <tr style=\"text-align: right;\">\n",
       "      <th></th>\n",
       "      <th>High</th>\n",
       "      <th>Low</th>\n",
       "      <th>Open</th>\n",
       "      <th>Close</th>\n",
       "      <th>Volume</th>\n",
       "      <th>Adj Close</th>\n",
       "      <th>Returns</th>\n",
       "      <th>MA24d</th>\n",
       "      <th>MA252d</th>\n",
       "    </tr>\n",
       "    <tr>\n",
       "      <th>Date</th>\n",
       "      <th></th>\n",
       "      <th></th>\n",
       "      <th></th>\n",
       "      <th></th>\n",
       "      <th></th>\n",
       "      <th></th>\n",
       "      <th></th>\n",
       "      <th></th>\n",
       "      <th></th>\n",
       "    </tr>\n",
       "  </thead>\n",
       "  <tbody>\n",
       "    <tr>\n",
       "      <th>2022-11-17</th>\n",
       "      <td>3954.330078</td>\n",
       "      <td>3906.540039</td>\n",
       "      <td>3919.260010</td>\n",
       "      <td>3946.560059</td>\n",
       "      <td>4051780000</td>\n",
       "      <td>3946.560059</td>\n",
       "      <td>-0.003094</td>\n",
       "      <td>3828.014608</td>\n",
       "      <td>4185.447511</td>\n",
       "    </tr>\n",
       "    <tr>\n",
       "      <th>2022-11-18</th>\n",
       "      <td>3979.889893</td>\n",
       "      <td>3935.979980</td>\n",
       "      <td>3966.389893</td>\n",
       "      <td>3965.340088</td>\n",
       "      <td>4037360000</td>\n",
       "      <td>3965.340088</td>\n",
       "      <td>0.004747</td>\n",
       "      <td>3839.989197</td>\n",
       "      <td>4182.514178</td>\n",
       "    </tr>\n",
       "    <tr>\n",
       "      <th>2022-11-21</th>\n",
       "      <td>3962.000000</td>\n",
       "      <td>3933.340088</td>\n",
       "      <td>3956.229980</td>\n",
       "      <td>3949.939941</td>\n",
       "      <td>3850690000</td>\n",
       "      <td>3949.939941</td>\n",
       "      <td>-0.003891</td>\n",
       "      <td>3849.570862</td>\n",
       "      <td>4179.545844</td>\n",
       "    </tr>\n",
       "    <tr>\n",
       "      <th>2022-11-22</th>\n",
       "      <td>4005.879883</td>\n",
       "      <td>3956.879883</td>\n",
       "      <td>3965.510010</td>\n",
       "      <td>4003.580078</td>\n",
       "      <td>3887990000</td>\n",
       "      <td>4003.580078</td>\n",
       "      <td>0.013489</td>\n",
       "      <td>3862.421702</td>\n",
       "      <td>4176.849972</td>\n",
       "    </tr>\n",
       "    <tr>\n",
       "      <th>2022-11-23</th>\n",
       "      <td>4033.780029</td>\n",
       "      <td>3998.659912</td>\n",
       "      <td>4000.300049</td>\n",
       "      <td>4027.260010</td>\n",
       "      <td>3279720000</td>\n",
       "      <td>4027.260010</td>\n",
       "      <td>0.005897</td>\n",
       "      <td>3877.483368</td>\n",
       "      <td>4174.217273</td>\n",
       "    </tr>\n",
       "  </tbody>\n",
       "</table>\n",
       "</div>"
      ],
      "text/plain": [
       "                   High          Low         Open        Close      Volume  \\\n",
       "Date                                                                         \n",
       "2022-11-17  3954.330078  3906.540039  3919.260010  3946.560059  4051780000   \n",
       "2022-11-18  3979.889893  3935.979980  3966.389893  3965.340088  4037360000   \n",
       "2022-11-21  3962.000000  3933.340088  3956.229980  3949.939941  3850690000   \n",
       "2022-11-22  4005.879883  3956.879883  3965.510010  4003.580078  3887990000   \n",
       "2022-11-23  4033.780029  3998.659912  4000.300049  4027.260010  3279720000   \n",
       "\n",
       "              Adj Close   Returns        MA24d       MA252d  \n",
       "Date                                                         \n",
       "2022-11-17  3946.560059 -0.003094  3828.014608  4185.447511  \n",
       "2022-11-18  3965.340088  0.004747  3839.989197  4182.514178  \n",
       "2022-11-21  3949.939941 -0.003891  3849.570862  4179.545844  \n",
       "2022-11-22  4003.580078  0.013489  3862.421702  4176.849972  \n",
       "2022-11-23  4027.260010  0.005897  3877.483368  4174.217273  "
      ]
     },
     "execution_count": 64,
     "metadata": {},
     "output_type": "execute_result"
    }
   ],
   "source": [
    "n1, n2 = 24, 252\n",
    "MA1, MA2 = 'MA' + str(n1) + 'd', 'MA' + str(n2) + 'd'\n",
    "spx[MA1] = spx['Close'].rolling(window=n1, center = False).mean()\n",
    "spx[MA2] = spx['Close'].rolling(window=n2, center = False).mean()\n",
    "spx.tail()"
   ]
  },
  {
   "cell_type": "code",
   "execution_count": 65,
   "metadata": {
    "zanadu": {
     "code_type": ""
    }
   },
   "outputs": [
    {
     "data": {
      "image/png": "[encoded data removed]",
      "text/plain": [
       "<Figure size 800x500 with 1 Axes>"
      ]
     },
     "metadata": {},
     "output_type": "display_data"
    }
   ],
   "source": [
    "spx[['Close', MA1, MA2]].plot(figsize=(8, 5), grid=True);"
   ]
  },
  {
   "cell_type": "code",
   "execution_count": 66,
   "metadata": {
    "zanadu": {
     "code_type": ""
    }
   },
   "outputs": [],
   "source": [
    "spx['MovingReturnsVol'] = spx['Returns'].rolling(window=252).std() * np.sqrt(252.)"
   ]
  },
  {
   "cell_type": "code",
   "execution_count": 67,
   "metadata": {
    "zanadu": {
     "code_type": ""
    }
   },
   "outputs": [
    {
     "data": {
      "image/png": "[encoded data removed]",
      "text/plain": [
       "<Figure size 800x700 with 3 Axes>"
      ]
     },
     "metadata": {},
     "output_type": "display_data"
    }
   ],
   "source": [
    "spx[['Close', 'Returns', 'MovingReturnsVol']].plot(subplots=True, style='b',figsize=(8, 7), grid=True);"
   ]
  },
  {
   "cell_type": "markdown",
   "metadata": {},
   "source": [
    "# The `groupby` command"
   ]
  },
  {
   "cell_type": "code",
   "execution_count": 68,
   "metadata": {},
   "outputs": [
    {
     "data": {
      "text/html": [
       "<div>\n",
       "<style scoped>\n",
       "    .dataframe tbody tr th:only-of-type {\n",
       "        vertical-align: middle;\n",
       "    }\n",
       "\n",
       "    .dataframe tbody tr th {\n",
       "        vertical-align: top;\n",
       "    }\n",
       "\n",
       "    .dataframe thead th {\n",
       "        text-align: right;\n",
       "    }\n",
       "</style>\n",
       "<table border=\"1\" class=\"dataframe\">\n",
       "  <thead>\n",
       "    <tr style=\"text-align: right;\">\n",
       "      <th></th>\n",
       "      <th>CID</th>\n",
       "      <th>Prefix</th>\n",
       "      <th>Gender</th>\n",
       "      <th>Nationality</th>\n",
       "      <th>Grade</th>\n",
       "    </tr>\n",
       "  </thead>\n",
       "  <tbody>\n",
       "    <tr>\n",
       "      <th>0</th>\n",
       "      <td>278938960</td>\n",
       "      <td>Mr</td>\n",
       "      <td>Male</td>\n",
       "      <td>France</td>\n",
       "      <td>82</td>\n",
       "    </tr>\n",
       "    <tr>\n",
       "      <th>1</th>\n",
       "      <td>630642297</td>\n",
       "      <td>Mr</td>\n",
       "      <td>Male</td>\n",
       "      <td>France</td>\n",
       "      <td>51</td>\n",
       "    </tr>\n",
       "    <tr>\n",
       "      <th>2</th>\n",
       "      <td>388408196</td>\n",
       "      <td>Mr</td>\n",
       "      <td>Male</td>\n",
       "      <td>United Kingdom</td>\n",
       "      <td>86</td>\n",
       "    </tr>\n",
       "    <tr>\n",
       "      <th>3</th>\n",
       "      <td>22998</td>\n",
       "      <td>Mr</td>\n",
       "      <td>Male</td>\n",
       "      <td>France</td>\n",
       "      <td>57</td>\n",
       "    </tr>\n",
       "    <tr>\n",
       "      <th>4</th>\n",
       "      <td>315973934</td>\n",
       "      <td>Ms</td>\n",
       "      <td>Female</td>\n",
       "      <td>China</td>\n",
       "      <td>56</td>\n",
       "    </tr>\n",
       "  </tbody>\n",
       "</table>\n",
       "</div>"
      ],
      "text/plain": [
       "         CID Prefix  Gender     Nationality  Grade\n",
       "0  278938960     Mr    Male          France     82\n",
       "1  630642297     Mr    Male          France     51\n",
       "2  388408196     Mr    Male  United Kingdom     86\n",
       "3      22998     Mr    Male          France     57\n",
       "4  315973934     Ms  Female           China     56"
      ]
     },
     "execution_count": 68,
     "metadata": {},
     "output_type": "execute_result"
    }
   ],
   "source": [
    "import pandas as pd\n",
    "\n",
    "df = pd.read_excel('Class 2022-2023.xlsx')\n",
    "df.head()"
   ]
  },
  {
   "cell_type": "code",
   "execution_count": 69,
   "metadata": {},
   "outputs": [
    {
     "data": {
      "text/plain": [
       "70.61818181818182"
      ]
     },
     "execution_count": 69,
     "metadata": {},
     "output_type": "execute_result"
    }
   ],
   "source": [
    "df[\"Grade\"].mean()"
   ]
  },
  {
   "cell_type": "code",
   "execution_count": 70,
   "metadata": {},
   "outputs": [
    {
     "data": {
      "text/plain": [
       "3884"
      ]
     },
     "execution_count": 70,
     "metadata": {},
     "output_type": "execute_result"
    }
   ],
   "source": [
    "df[\"Grade\"].sum()# / len(df.index)"
   ]
  },
  {
   "cell_type": "code",
   "execution_count": 71,
   "metadata": {},
   "outputs": [
    {
     "data": {
      "text/html": [
       "<div>\n",
       "<style scoped>\n",
       "    .dataframe tbody tr th:only-of-type {\n",
       "        vertical-align: middle;\n",
       "    }\n",
       "\n",
       "    .dataframe tbody tr th {\n",
       "        vertical-align: top;\n",
       "    }\n",
       "\n",
       "    .dataframe thead th {\n",
       "        text-align: right;\n",
       "    }\n",
       "</style>\n",
       "<table border=\"1\" class=\"dataframe\">\n",
       "  <thead>\n",
       "    <tr style=\"text-align: right;\">\n",
       "      <th></th>\n",
       "      <th>Grade</th>\n",
       "    </tr>\n",
       "    <tr>\n",
       "      <th>Nationality</th>\n",
       "      <th></th>\n",
       "    </tr>\n",
       "  </thead>\n",
       "  <tbody>\n",
       "    <tr>\n",
       "      <th>Belgium</th>\n",
       "      <td>44.000000</td>\n",
       "    </tr>\n",
       "    <tr>\n",
       "      <th>China</th>\n",
       "      <td>68.384615</td>\n",
       "    </tr>\n",
       "    <tr>\n",
       "      <th>France</th>\n",
       "      <td>68.909091</td>\n",
       "    </tr>\n",
       "    <tr>\n",
       "      <th>Germany</th>\n",
       "      <td>93.000000</td>\n",
       "    </tr>\n",
       "    <tr>\n",
       "      <th>Hong Kong</th>\n",
       "      <td>95.000000</td>\n",
       "    </tr>\n",
       "    <tr>\n",
       "      <th>Hungary</th>\n",
       "      <td>43.000000</td>\n",
       "    </tr>\n",
       "    <tr>\n",
       "      <th>Iran</th>\n",
       "      <td>85.000000</td>\n",
       "    </tr>\n",
       "    <tr>\n",
       "      <th>Ireland</th>\n",
       "      <td>85.500000</td>\n",
       "    </tr>\n",
       "    <tr>\n",
       "      <th>Italy</th>\n",
       "      <td>70.000000</td>\n",
       "    </tr>\n",
       "    <tr>\n",
       "      <th>Russia</th>\n",
       "      <td>69.000000</td>\n",
       "    </tr>\n",
       "    <tr>\n",
       "      <th>Spain</th>\n",
       "      <td>78.000000</td>\n",
       "    </tr>\n",
       "    <tr>\n",
       "      <th>United Kingdom</th>\n",
       "      <td>76.600000</td>\n",
       "    </tr>\n",
       "  </tbody>\n",
       "</table>\n",
       "</div>"
      ],
      "text/plain": [
       "                    Grade\n",
       "Nationality              \n",
       "Belgium         44.000000\n",
       "China           68.384615\n",
       "France          68.909091\n",
       "Germany         93.000000\n",
       "Hong Kong       95.000000\n",
       "Hungary         43.000000\n",
       "Iran            85.000000\n",
       "Ireland         85.500000\n",
       "Italy           70.000000\n",
       "Russia          69.000000\n",
       "Spain           78.000000\n",
       "United Kingdom  76.600000"
      ]
     },
     "execution_count": 71,
     "metadata": {},
     "output_type": "execute_result"
    }
   ],
   "source": [
    "df.groupby(['Nationality']).agg({'Grade': 'mean'})"
   ]
  },
  {
   "cell_type": "code",
   "execution_count": 72,
   "metadata": {},
   "outputs": [
    {
     "data": {
      "text/html": [
       "<div>\n",
       "<style scoped>\n",
       "    .dataframe tbody tr th:only-of-type {\n",
       "        vertical-align: middle;\n",
       "    }\n",
       "\n",
       "    .dataframe tbody tr th {\n",
       "        vertical-align: top;\n",
       "    }\n",
       "\n",
       "    .dataframe thead th {\n",
       "        text-align: right;\n",
       "    }\n",
       "</style>\n",
       "<table border=\"1\" class=\"dataframe\">\n",
       "  <thead>\n",
       "    <tr style=\"text-align: right;\">\n",
       "      <th></th>\n",
       "      <th>Grade</th>\n",
       "    </tr>\n",
       "    <tr>\n",
       "      <th>Nationality</th>\n",
       "      <th></th>\n",
       "    </tr>\n",
       "  </thead>\n",
       "  <tbody>\n",
       "    <tr>\n",
       "      <th>Belgium</th>\n",
       "      <td>44</td>\n",
       "    </tr>\n",
       "    <tr>\n",
       "      <th>China</th>\n",
       "      <td>1778</td>\n",
       "    </tr>\n",
       "    <tr>\n",
       "      <th>France</th>\n",
       "      <td>758</td>\n",
       "    </tr>\n",
       "    <tr>\n",
       "      <th>Germany</th>\n",
       "      <td>93</td>\n",
       "    </tr>\n",
       "    <tr>\n",
       "      <th>Hong Kong</th>\n",
       "      <td>95</td>\n",
       "    </tr>\n",
       "    <tr>\n",
       "      <th>Hungary</th>\n",
       "      <td>43</td>\n",
       "    </tr>\n",
       "    <tr>\n",
       "      <th>Iran</th>\n",
       "      <td>85</td>\n",
       "    </tr>\n",
       "    <tr>\n",
       "      <th>Ireland</th>\n",
       "      <td>171</td>\n",
       "    </tr>\n",
       "    <tr>\n",
       "      <th>Italy</th>\n",
       "      <td>140</td>\n",
       "    </tr>\n",
       "    <tr>\n",
       "      <th>Russia</th>\n",
       "      <td>138</td>\n",
       "    </tr>\n",
       "    <tr>\n",
       "      <th>Spain</th>\n",
       "      <td>156</td>\n",
       "    </tr>\n",
       "    <tr>\n",
       "      <th>United Kingdom</th>\n",
       "      <td>383</td>\n",
       "    </tr>\n",
       "  </tbody>\n",
       "</table>\n",
       "</div>"
      ],
      "text/plain": [
       "                Grade\n",
       "Nationality          \n",
       "Belgium            44\n",
       "China            1778\n",
       "France            758\n",
       "Germany            93\n",
       "Hong Kong          95\n",
       "Hungary            43\n",
       "Iran               85\n",
       "Ireland           171\n",
       "Italy             140\n",
       "Russia            138\n",
       "Spain             156\n",
       "United Kingdom    383"
      ]
     },
     "execution_count": 72,
     "metadata": {},
     "output_type": "execute_result"
    }
   ],
   "source": [
    "df.groupby(['Nationality']).agg({'Grade': 'sum'})"
   ]
  },
  {
   "cell_type": "code",
   "execution_count": 73,
   "metadata": {},
   "outputs": [
    {
     "data": {
      "text/plain": [
       "Grade    3525\n",
       "dtype: int64"
      ]
     },
     "execution_count": 73,
     "metadata": {},
     "output_type": "execute_result"
    }
   ],
   "source": [
    "df.groupby(['Nationality', 'Gender']).agg({'Grade': 'sum'}).sum()"
   ]
  },
  {
   "cell_type": "markdown",
   "metadata": {},
   "source": [
    "**WHAT IS HAPPENING????**\n",
    "\n",
    "Because there are nulls in gender."
   ]
  },
  {
   "cell_type": "code",
   "execution_count": 74,
   "metadata": {},
   "outputs": [
    {
     "name": "stdout",
     "output_type": "stream",
     "text": [
      "<class 'pandas.core.frame.DataFrame'>\n",
      "RangeIndex: 55 entries, 0 to 54\n",
      "Data columns (total 5 columns):\n",
      " #   Column       Non-Null Count  Dtype \n",
      "---  ------       --------------  ----- \n",
      " 0   CID          55 non-null     int64 \n",
      " 1   Prefix       55 non-null     object\n",
      " 2   Gender       51 non-null     object\n",
      " 3   Nationality  55 non-null     object\n",
      " 4   Grade        55 non-null     int64 \n",
      "dtypes: int64(2), object(3)\n",
      "memory usage: 2.3+ KB\n"
     ]
    }
   ],
   "source": [
    "df.info()"
   ]
  },
  {
   "cell_type": "markdown",
   "metadata": {
    "zanadu": {}
   },
   "source": [
    "# Merge, join, concatenate data -- an example with the MTA database\n",
    "\n",
    "NYC map: https://www.google.com/maps/place/New+York,+NY,+USA/@40.6976684,-74.2605634,10z/data=!3m1!4b1!4m5!3m4!1s0x89c24fa5d33f083b:0xc80b8f06e177fe62!8m2!3d40.7127753!4d-74.0059728\n",
    "\n",
    "\n",
    "Data: http://web.mta.info/developers/turnstile.html\n",
    "\n"
   ]
  },
  {
   "cell_type": "markdown",
   "metadata": {},
   "source": [
    "### Importing and looking at the data"
   ]
  },
  {
   "cell_type": "code",
   "execution_count": 75,
   "metadata": {
    "zanadu": {
     "code_type": ""
    }
   },
   "outputs": [],
   "source": [
    "import datetime as dt\n",
    "import pandas as pd"
   ]
  },
  {
   "cell_type": "code",
   "execution_count": 76,
   "metadata": {
    "zanadu": {
     "code_type": ""
    }
   },
   "outputs": [],
   "source": [
    "url  = r'http://web.mta.info/developers/data/nyct/turnstile/turnstile_180825.txt'\n",
    "df = pd.read_csv(url)#, index_col=0, header=0, parse_dates=True)"
   ]
  },
  {
   "cell_type": "code",
   "execution_count": 77,
   "metadata": {},
   "outputs": [
    {
     "name": "stdout",
     "output_type": "stream",
     "text": [
      "<class 'pandas.core.frame.DataFrame'>\n",
      "RangeIndex: 197380 entries, 0 to 197379\n",
      "Data columns (total 11 columns):\n",
      " #   Column                                                                Non-Null Count   Dtype \n",
      "---  ------                                                                --------------   ----- \n",
      " 0   C/A                                                                   197380 non-null  object\n",
      " 1   UNIT                                                                  197380 non-null  object\n",
      " 2   SCP                                                                   197380 non-null  object\n",
      " 3   STATION                                                               197380 non-null  object\n",
      " 4   LINENAME                                                              197380 non-null  object\n",
      " 5   DIVISION                                                              197380 non-null  object\n",
      " 6   DATE                                                                  197380 non-null  object\n",
      " 7   TIME                                                                  197380 non-null  object\n",
      " 8   DESC                                                                  197380 non-null  object\n",
      " 9   ENTRIES                                                               197380 non-null  int64 \n",
      " 10  EXITS                                                                 197380 non-null  int64 \n",
      "dtypes: int64(2), object(9)\n",
      "memory usage: 16.6+ MB\n"
     ]
    }
   ],
   "source": [
    "df.info()"
   ]
  },
  {
   "cell_type": "code",
   "execution_count": 78,
   "metadata": {
    "zanadu": {
     "code_type": ""
    }
   },
   "outputs": [
    {
     "data": {
      "text/html": [
       "<div>\n",
       "<style scoped>\n",
       "    .dataframe tbody tr th:only-of-type {\n",
       "        vertical-align: middle;\n",
       "    }\n",
       "\n",
       "    .dataframe tbody tr th {\n",
       "        vertical-align: top;\n",
       "    }\n",
       "\n",
       "    .dataframe thead th {\n",
       "        text-align: right;\n",
       "    }\n",
       "</style>\n",
       "<table border=\"1\" class=\"dataframe\">\n",
       "  <thead>\n",
       "    <tr style=\"text-align: right;\">\n",
       "      <th></th>\n",
       "      <th>C/A</th>\n",
       "      <th>UNIT</th>\n",
       "      <th>SCP</th>\n",
       "      <th>STATION</th>\n",
       "      <th>LINENAME</th>\n",
       "      <th>DIVISION</th>\n",
       "      <th>DATE</th>\n",
       "      <th>TIME</th>\n",
       "      <th>DESC</th>\n",
       "      <th>ENTRIES</th>\n",
       "      <th>EXITS</th>\n",
       "    </tr>\n",
       "  </thead>\n",
       "  <tbody>\n",
       "    <tr>\n",
       "      <th>0</th>\n",
       "      <td>A002</td>\n",
       "      <td>R051</td>\n",
       "      <td>02-00-00</td>\n",
       "      <td>59 ST</td>\n",
       "      <td>NQR456W</td>\n",
       "      <td>BMT</td>\n",
       "      <td>08/18/2018</td>\n",
       "      <td>00:00:00</td>\n",
       "      <td>REGULAR</td>\n",
       "      <td>6728354</td>\n",
       "      <td>2280604</td>\n",
       "    </tr>\n",
       "    <tr>\n",
       "      <th>1</th>\n",
       "      <td>A002</td>\n",
       "      <td>R051</td>\n",
       "      <td>02-00-00</td>\n",
       "      <td>59 ST</td>\n",
       "      <td>NQR456W</td>\n",
       "      <td>BMT</td>\n",
       "      <td>08/18/2018</td>\n",
       "      <td>04:00:00</td>\n",
       "      <td>REGULAR</td>\n",
       "      <td>6728373</td>\n",
       "      <td>2280609</td>\n",
       "    </tr>\n",
       "    <tr>\n",
       "      <th>2</th>\n",
       "      <td>A002</td>\n",
       "      <td>R051</td>\n",
       "      <td>02-00-00</td>\n",
       "      <td>59 ST</td>\n",
       "      <td>NQR456W</td>\n",
       "      <td>BMT</td>\n",
       "      <td>08/18/2018</td>\n",
       "      <td>08:00:00</td>\n",
       "      <td>REGULAR</td>\n",
       "      <td>6728388</td>\n",
       "      <td>2280634</td>\n",
       "    </tr>\n",
       "    <tr>\n",
       "      <th>3</th>\n",
       "      <td>A002</td>\n",
       "      <td>R051</td>\n",
       "      <td>02-00-00</td>\n",
       "      <td>59 ST</td>\n",
       "      <td>NQR456W</td>\n",
       "      <td>BMT</td>\n",
       "      <td>08/18/2018</td>\n",
       "      <td>12:00:00</td>\n",
       "      <td>REGULAR</td>\n",
       "      <td>6728469</td>\n",
       "      <td>2280669</td>\n",
       "    </tr>\n",
       "    <tr>\n",
       "      <th>4</th>\n",
       "      <td>A002</td>\n",
       "      <td>R051</td>\n",
       "      <td>02-00-00</td>\n",
       "      <td>59 ST</td>\n",
       "      <td>NQR456W</td>\n",
       "      <td>BMT</td>\n",
       "      <td>08/18/2018</td>\n",
       "      <td>16:00:00</td>\n",
       "      <td>REGULAR</td>\n",
       "      <td>6728665</td>\n",
       "      <td>2280681</td>\n",
       "    </tr>\n",
       "  </tbody>\n",
       "</table>\n",
       "</div>"
      ],
      "text/plain": [
       "    C/A  UNIT       SCP STATION LINENAME DIVISION        DATE      TIME  \\\n",
       "0  A002  R051  02-00-00   59 ST  NQR456W      BMT  08/18/2018  00:00:00   \n",
       "1  A002  R051  02-00-00   59 ST  NQR456W      BMT  08/18/2018  04:00:00   \n",
       "2  A002  R051  02-00-00   59 ST  NQR456W      BMT  08/18/2018  08:00:00   \n",
       "3  A002  R051  02-00-00   59 ST  NQR456W      BMT  08/18/2018  12:00:00   \n",
       "4  A002  R051  02-00-00   59 ST  NQR456W      BMT  08/18/2018  16:00:00   \n",
       "\n",
       "      DESC  ENTRIES  \\\n",
       "0  REGULAR  6728354   \n",
       "1  REGULAR  6728373   \n",
       "2  REGULAR  6728388   \n",
       "3  REGULAR  6728469   \n",
       "4  REGULAR  6728665   \n",
       "\n",
       "   EXITS                                                                 \n",
       "0                                            2280604                     \n",
       "1                                            2280609                     \n",
       "2                                            2280634                     \n",
       "3                                            2280669                     \n",
       "4                                            2280681                     "
      ]
     },
     "execution_count": 78,
     "metadata": {},
     "output_type": "execute_result"
    }
   ],
   "source": [
    "df.head()"
   ]
  },
  {
   "cell_type": "code",
   "execution_count": 79,
   "metadata": {},
   "outputs": [
    {
     "name": "stdout",
     "output_type": "stream",
     "text": [
      "\u001b[33mDEPRECATION: Configuring installation scheme with distutils config files is deprecated and will no longer work in the near future. If you are using a Homebrew or Linuxbrew Python, please see discussion at https://github.com/Homebrew/homebrew-core/issues/76621\u001b[0m\u001b[33m\n",
      "\u001b[0mRequirement already satisfied: xlrd in /opt/homebrew/lib/python3.9/site-packages (2.0.1)\n",
      "\u001b[33mDEPRECATION: Configuring installation scheme with distutils config files is deprecated and will no longer work in the near future. If you are using a Homebrew or Linuxbrew Python, please see discussion at https://github.com/Homebrew/homebrew-core/issues/76621\u001b[0m\u001b[33m\n",
      "\u001b[0m"
     ]
    }
   ],
   "source": [
    "!pip install xlrd"
   ]
  },
  {
   "cell_type": "code",
   "execution_count": 80,
   "metadata": {
    "zanadu": {
     "code_type": ""
    }
   },
   "outputs": [
    {
     "data": {
      "text/html": [
       "<div>\n",
       "<style scoped>\n",
       "    .dataframe tbody tr th:only-of-type {\n",
       "        vertical-align: middle;\n",
       "    }\n",
       "\n",
       "    .dataframe tbody tr th {\n",
       "        vertical-align: top;\n",
       "    }\n",
       "\n",
       "    .dataframe thead th {\n",
       "        text-align: right;\n",
       "    }\n",
       "</style>\n",
       "<table border=\"1\" class=\"dataframe\">\n",
       "  <thead>\n",
       "    <tr style=\"text-align: right;\">\n",
       "      <th></th>\n",
       "      <th>Remote</th>\n",
       "      <th>Booth</th>\n",
       "      <th>Station</th>\n",
       "      <th>Line Name</th>\n",
       "      <th>Division</th>\n",
       "    </tr>\n",
       "  </thead>\n",
       "  <tbody>\n",
       "    <tr>\n",
       "      <th>0</th>\n",
       "      <td>R001</td>\n",
       "      <td>A060</td>\n",
       "      <td>WHITEHALL ST</td>\n",
       "      <td>R1</td>\n",
       "      <td>BMT</td>\n",
       "    </tr>\n",
       "    <tr>\n",
       "      <th>1</th>\n",
       "      <td>R001</td>\n",
       "      <td>A058</td>\n",
       "      <td>WHITEHALL ST</td>\n",
       "      <td>R1</td>\n",
       "      <td>BMT</td>\n",
       "    </tr>\n",
       "    <tr>\n",
       "      <th>2</th>\n",
       "      <td>R001</td>\n",
       "      <td>R101S</td>\n",
       "      <td>SOUTH FERRY</td>\n",
       "      <td>R1</td>\n",
       "      <td>IRT</td>\n",
       "    </tr>\n",
       "    <tr>\n",
       "      <th>3</th>\n",
       "      <td>R002</td>\n",
       "      <td>A077</td>\n",
       "      <td>FULTON ST</td>\n",
       "      <td>ACJZ2345</td>\n",
       "      <td>BMT</td>\n",
       "    </tr>\n",
       "    <tr>\n",
       "      <th>4</th>\n",
       "      <td>R002</td>\n",
       "      <td>A081</td>\n",
       "      <td>FULTON ST</td>\n",
       "      <td>ACJZ2345</td>\n",
       "      <td>BMT</td>\n",
       "    </tr>\n",
       "  </tbody>\n",
       "</table>\n",
       "</div>"
      ],
      "text/plain": [
       "  Remote  Booth       Station Line Name Division\n",
       "0   R001   A060  WHITEHALL ST        R1      BMT\n",
       "1   R001   A058  WHITEHALL ST        R1      BMT\n",
       "2   R001  R101S   SOUTH FERRY        R1      IRT\n",
       "3   R002   A077     FULTON ST  ACJZ2345      BMT\n",
       "4   R002   A081     FULTON ST  ACJZ2345      BMT"
      ]
     },
     "execution_count": 80,
     "metadata": {},
     "output_type": "execute_result"
    }
   ],
   "source": [
    "url  = r'http://web.mta.info/developers/resources/nyct/turnstile/Remote-Booth-Station.xls'\n",
    "infoStations = pd.read_excel(url)#, index_col=0, header=0, parse_dates=True)\n",
    "infoStations.head()"
   ]
  },
  {
   "cell_type": "markdown",
   "metadata": {
    "zanadu": {}
   },
   "source": [
    "### Cleaning the data"
   ]
  },
  {
   "cell_type": "code",
   "execution_count": 81,
   "metadata": {
    "zanadu": {
     "code_type": ""
    }
   },
   "outputs": [
    {
     "data": {
      "text/plain": [
       "2129780411"
      ]
     },
     "execution_count": 81,
     "metadata": {},
     "output_type": "execute_result"
    }
   ],
   "source": [
    "df['ENTRIES'].max()"
   ]
  },
  {
   "cell_type": "code",
   "execution_count": 82,
   "metadata": {
    "zanadu": {
     "code_type": ""
    }
   },
   "outputs": [
    {
     "ename": "KeyError",
     "evalue": "'EXITS'",
     "output_type": "error",
     "traceback": [
      "\u001b[0;31m---------------------------------------------------------------------------\u001b[0m",
      "\u001b[0;31mKeyError\u001b[0m                                  Traceback (most recent call last)",
      "File \u001b[0;32m/opt/homebrew/lib/python3.9/site-packages/pandas/core/indexes/base.py:3361\u001b[0m, in \u001b[0;36mIndex.get_loc\u001b[0;34m(self, key, method, tolerance)\u001b[0m\n\u001b[1;32m   3360\u001b[0m \u001b[39mtry\u001b[39;00m:\n\u001b[0;32m-> 3361\u001b[0m     \u001b[39mreturn\u001b[39;00m \u001b[39mself\u001b[39;49m\u001b[39m.\u001b[39;49m_engine\u001b[39m.\u001b[39;49mget_loc(casted_key)\n\u001b[1;32m   3362\u001b[0m \u001b[39mexcept\u001b[39;00m \u001b[39mKeyError\u001b[39;00m \u001b[39mas\u001b[39;00m err:\n",
      "File \u001b[0;32m/opt/homebrew/lib/python3.9/site-packages/pandas/_libs/index.pyx:76\u001b[0m, in \u001b[0;36mpandas._libs.index.IndexEngine.get_loc\u001b[0;34m()\u001b[0m\n",
      "File \u001b[0;32m/opt/homebrew/lib/python3.9/site-packages/pandas/_libs/index.pyx:108\u001b[0m, in \u001b[0;36mpandas._libs.index.IndexEngine.get_loc\u001b[0;34m()\u001b[0m\n",
      "File \u001b[0;32mpandas/_libs/hashtable_class_helper.pxi:5198\u001b[0m, in \u001b[0;36mpandas._libs.hashtable.PyObjectHashTable.get_item\u001b[0;34m()\u001b[0m\n",
      "File \u001b[0;32mpandas/_libs/hashtable_class_helper.pxi:5206\u001b[0m, in \u001b[0;36mpandas._libs.hashtable.PyObjectHashTable.get_item\u001b[0;34m()\u001b[0m\n",
      "\u001b[0;31mKeyError\u001b[0m: 'EXITS'",
      "\nThe above exception was the direct cause of the following exception:\n",
      "\u001b[0;31mKeyError\u001b[0m                                  Traceback (most recent call last)",
      "Cell \u001b[0;32mIn [82], line 1\u001b[0m\n\u001b[0;32m----> 1\u001b[0m df[\u001b[39m'\u001b[39m\u001b[39mEXITS\u001b[39m\u001b[39m'\u001b[39m]\u001b[39m.\u001b[39mmax()\n",
      "File \u001b[0;32m/opt/homebrew/lib/python3.9/site-packages/pandas/core/frame.py:3455\u001b[0m, in \u001b[0;36mDataFrame.__getitem__\u001b[0;34m(self, key)\u001b[0m\n\u001b[1;32m   3453\u001b[0m \u001b[39mif\u001b[39;00m \u001b[39mself\u001b[39m\u001b[39m.\u001b[39mcolumns\u001b[39m.\u001b[39mnlevels \u001b[39m>\u001b[39m \u001b[39m1\u001b[39m:\n\u001b[1;32m   3454\u001b[0m     \u001b[39mreturn\u001b[39;00m \u001b[39mself\u001b[39m\u001b[39m.\u001b[39m_getitem_multilevel(key)\n\u001b[0;32m-> 3455\u001b[0m indexer \u001b[39m=\u001b[39m \u001b[39mself\u001b[39;49m\u001b[39m.\u001b[39;49mcolumns\u001b[39m.\u001b[39;49mget_loc(key)\n\u001b[1;32m   3456\u001b[0m \u001b[39mif\u001b[39;00m is_integer(indexer):\n\u001b[1;32m   3457\u001b[0m     indexer \u001b[39m=\u001b[39m [indexer]\n",
      "File \u001b[0;32m/opt/homebrew/lib/python3.9/site-packages/pandas/core/indexes/base.py:3363\u001b[0m, in \u001b[0;36mIndex.get_loc\u001b[0;34m(self, key, method, tolerance)\u001b[0m\n\u001b[1;32m   3361\u001b[0m         \u001b[39mreturn\u001b[39;00m \u001b[39mself\u001b[39m\u001b[39m.\u001b[39m_engine\u001b[39m.\u001b[39mget_loc(casted_key)\n\u001b[1;32m   3362\u001b[0m     \u001b[39mexcept\u001b[39;00m \u001b[39mKeyError\u001b[39;00m \u001b[39mas\u001b[39;00m err:\n\u001b[0;32m-> 3363\u001b[0m         \u001b[39mraise\u001b[39;00m \u001b[39mKeyError\u001b[39;00m(key) \u001b[39mfrom\u001b[39;00m \u001b[39merr\u001b[39;00m\n\u001b[1;32m   3365\u001b[0m \u001b[39mif\u001b[39;00m is_scalar(key) \u001b[39mand\u001b[39;00m isna(key) \u001b[39mand\u001b[39;00m \u001b[39mnot\u001b[39;00m \u001b[39mself\u001b[39m\u001b[39m.\u001b[39mhasnans:\n\u001b[1;32m   3366\u001b[0m     \u001b[39mraise\u001b[39;00m \u001b[39mKeyError\u001b[39;00m(key)\n",
      "\u001b[0;31mKeyError\u001b[0m: 'EXITS'"
     ]
    }
   ],
   "source": [
    "df['EXITS'].max()"
   ]
  },
  {
   "cell_type": "code",
   "execution_count": 83,
   "metadata": {
    "zanadu": {
     "code_type": ""
    }
   },
   "outputs": [
    {
     "data": {
      "text/plain": [
       "Index(['C/A', 'UNIT', 'SCP', 'STATION', 'LINENAME', 'DIVISION', 'DATE', 'TIME',\n",
       "       'DESC', 'ENTRIES',\n",
       "       'EXITS                                                               '],\n",
       "      dtype='object')"
      ]
     },
     "execution_count": 83,
     "metadata": {},
     "output_type": "execute_result"
    }
   ],
   "source": [
    "df.keys()"
   ]
  },
  {
   "cell_type": "code",
   "execution_count": 84,
   "metadata": {
    "zanadu": {
     "code_type": ""
    }
   },
   "outputs": [],
   "source": [
    "df.columns = ['ca', 'unit', 'scp', 'station', 'linename', 'division', 'date','time', 'desc', 'entries','exits']"
   ]
  },
  {
   "cell_type": "code",
   "execution_count": 85,
   "metadata": {
    "zanadu": {
     "code_type": ""
    }
   },
   "outputs": [
    {
     "data": {
      "text/plain": [
       "2062568997"
      ]
     },
     "execution_count": 85,
     "metadata": {},
     "output_type": "execute_result"
    }
   ],
   "source": [
    "df['exits'].max()"
   ]
  },
  {
   "cell_type": "code",
   "execution_count": 86,
   "metadata": {},
   "outputs": [
    {
     "data": {
      "text/html": [
       "<div>\n",
       "<style scoped>\n",
       "    .dataframe tbody tr th:only-of-type {\n",
       "        vertical-align: middle;\n",
       "    }\n",
       "\n",
       "    .dataframe tbody tr th {\n",
       "        vertical-align: top;\n",
       "    }\n",
       "\n",
       "    .dataframe thead th {\n",
       "        text-align: right;\n",
       "    }\n",
       "</style>\n",
       "<table border=\"1\" class=\"dataframe\">\n",
       "  <thead>\n",
       "    <tr style=\"text-align: right;\">\n",
       "      <th></th>\n",
       "      <th>ca</th>\n",
       "      <th>unit</th>\n",
       "      <th>scp</th>\n",
       "      <th>station</th>\n",
       "      <th>linename</th>\n",
       "      <th>division</th>\n",
       "      <th>date</th>\n",
       "      <th>time</th>\n",
       "      <th>desc</th>\n",
       "      <th>entries</th>\n",
       "      <th>exits</th>\n",
       "    </tr>\n",
       "  </thead>\n",
       "  <tbody>\n",
       "    <tr>\n",
       "      <th>0</th>\n",
       "      <td>A002</td>\n",
       "      <td>R051</td>\n",
       "      <td>02-00-00</td>\n",
       "      <td>59 ST</td>\n",
       "      <td>NQR456W</td>\n",
       "      <td>BMT</td>\n",
       "      <td>2018-08-18</td>\n",
       "      <td>00:00:00</td>\n",
       "      <td>REGULAR</td>\n",
       "      <td>6728354</td>\n",
       "      <td>2280604</td>\n",
       "    </tr>\n",
       "    <tr>\n",
       "      <th>1</th>\n",
       "      <td>A002</td>\n",
       "      <td>R051</td>\n",
       "      <td>02-00-00</td>\n",
       "      <td>59 ST</td>\n",
       "      <td>NQR456W</td>\n",
       "      <td>BMT</td>\n",
       "      <td>2018-08-18</td>\n",
       "      <td>04:00:00</td>\n",
       "      <td>REGULAR</td>\n",
       "      <td>6728373</td>\n",
       "      <td>2280609</td>\n",
       "    </tr>\n",
       "    <tr>\n",
       "      <th>2</th>\n",
       "      <td>A002</td>\n",
       "      <td>R051</td>\n",
       "      <td>02-00-00</td>\n",
       "      <td>59 ST</td>\n",
       "      <td>NQR456W</td>\n",
       "      <td>BMT</td>\n",
       "      <td>2018-08-18</td>\n",
       "      <td>08:00:00</td>\n",
       "      <td>REGULAR</td>\n",
       "      <td>6728388</td>\n",
       "      <td>2280634</td>\n",
       "    </tr>\n",
       "    <tr>\n",
       "      <th>3</th>\n",
       "      <td>A002</td>\n",
       "      <td>R051</td>\n",
       "      <td>02-00-00</td>\n",
       "      <td>59 ST</td>\n",
       "      <td>NQR456W</td>\n",
       "      <td>BMT</td>\n",
       "      <td>2018-08-18</td>\n",
       "      <td>12:00:00</td>\n",
       "      <td>REGULAR</td>\n",
       "      <td>6728469</td>\n",
       "      <td>2280669</td>\n",
       "    </tr>\n",
       "    <tr>\n",
       "      <th>4</th>\n",
       "      <td>A002</td>\n",
       "      <td>R051</td>\n",
       "      <td>02-00-00</td>\n",
       "      <td>59 ST</td>\n",
       "      <td>NQR456W</td>\n",
       "      <td>BMT</td>\n",
       "      <td>2018-08-18</td>\n",
       "      <td>16:00:00</td>\n",
       "      <td>REGULAR</td>\n",
       "      <td>6728665</td>\n",
       "      <td>2280681</td>\n",
       "    </tr>\n",
       "  </tbody>\n",
       "</table>\n",
       "</div>"
      ],
      "text/plain": [
       "     ca  unit       scp station linename division       date      time  \\\n",
       "0  A002  R051  02-00-00   59 ST  NQR456W      BMT 2018-08-18  00:00:00   \n",
       "1  A002  R051  02-00-00   59 ST  NQR456W      BMT 2018-08-18  04:00:00   \n",
       "2  A002  R051  02-00-00   59 ST  NQR456W      BMT 2018-08-18  08:00:00   \n",
       "3  A002  R051  02-00-00   59 ST  NQR456W      BMT 2018-08-18  12:00:00   \n",
       "4  A002  R051  02-00-00   59 ST  NQR456W      BMT 2018-08-18  16:00:00   \n",
       "\n",
       "      desc  entries    exits  \n",
       "0  REGULAR  6728354  2280604  \n",
       "1  REGULAR  6728373  2280609  \n",
       "2  REGULAR  6728388  2280634  \n",
       "3  REGULAR  6728469  2280669  \n",
       "4  REGULAR  6728665  2280681  "
      ]
     },
     "execution_count": 86,
     "metadata": {},
     "output_type": "execute_result"
    }
   ],
   "source": [
    "#df[\"date\"] = pd.to_datetime(df[\"date\"] + \" \" + df[\"time\"])\n",
    "df[\"date\"] = pd.to_datetime(df[\"date\"])\n",
    "df.head()"
   ]
  },
  {
   "cell_type": "markdown",
   "metadata": {},
   "source": [
    "### Counting daily traffic using `groupby`"
   ]
  },
  {
   "cell_type": "code",
   "execution_count": 87,
   "metadata": {},
   "outputs": [
    {
     "name": "stdout",
     "output_type": "stream",
     "text": [
      "Types:  <class 'pandas.core.series.Series'> <class 'pandas.core.series.Series'>\n"
     ]
    }
   ],
   "source": [
    "df_entries = df.groupby(['station','ca','unit','scp','date']).entries.max() - df.groupby(['station','ca','unit','scp','date']).entries.min()\n",
    "df_exits = df.groupby(['station','ca','unit','scp','date']).exits.max() - df.groupby(['station','ca','unit','scp','date']).exits.min()\n",
    "print(\"Types: \", type(df_entries), type(df_exits))"
   ]
  },
  {
   "cell_type": "code",
   "execution_count": 88,
   "metadata": {},
   "outputs": [
    {
     "data": {
      "text/plain": [
       "station    ca    unit  scp       date      \n",
       "1 AV       H007  R248  00-00-00  2018-08-18    1759\n",
       "                                 2018-08-19    1461\n",
       "                                 2018-08-20    2704\n",
       "                                 2018-08-21    3002\n",
       "                                 2018-08-22    3033\n",
       "                                               ... \n",
       "ZEREGA AV  R419  R326  00-05-01  2018-08-20       0\n",
       "                                 2018-08-21       0\n",
       "                                 2018-08-22       0\n",
       "                                 2018-08-23       0\n",
       "                                 2018-08-24       0\n",
       "Name: entries, Length: 32559, dtype: int64"
      ]
     },
     "execution_count": 88,
     "metadata": {},
     "output_type": "execute_result"
    }
   ],
   "source": [
    "df_entries"
   ]
  },
  {
   "cell_type": "markdown",
   "metadata": {},
   "source": [
    "We are now going to merge `df_entries` and `df_exits`. However, they need to have the same index.\n",
    "https://pandas.pydata.org/docs/reference/api/pandas.DataFrame.merge.html"
   ]
  },
  {
   "cell_type": "code",
   "execution_count": 89,
   "metadata": {},
   "outputs": [],
   "source": [
    "df_entries_flat = df_entries.reset_index()\n",
    "df_exits_flat = df_exits.reset_index()\n",
    "\n",
    "df_traffic = pd.merge(df_entries_flat, df_exits_flat, how='outer')\n",
    "\n",
    "df_traffic['day'] = df_traffic['date'].dt.day_name()\n",
    "df_traffic['traffic'] = df_traffic['entries'] + df_traffic['exits']"
   ]
  },
  {
   "cell_type": "code",
   "execution_count": 90,
   "metadata": {},
   "outputs": [
    {
     "data": {
      "text/html": [
       "<div>\n",
       "<style scoped>\n",
       "    .dataframe tbody tr th:only-of-type {\n",
       "        vertical-align: middle;\n",
       "    }\n",
       "\n",
       "    .dataframe tbody tr th {\n",
       "        vertical-align: top;\n",
       "    }\n",
       "\n",
       "    .dataframe thead th {\n",
       "        text-align: right;\n",
       "    }\n",
       "</style>\n",
       "<table border=\"1\" class=\"dataframe\">\n",
       "  <thead>\n",
       "    <tr style=\"text-align: right;\">\n",
       "      <th></th>\n",
       "      <th>station</th>\n",
       "      <th>ca</th>\n",
       "      <th>unit</th>\n",
       "      <th>scp</th>\n",
       "      <th>date</th>\n",
       "      <th>entries</th>\n",
       "      <th>exits</th>\n",
       "      <th>day</th>\n",
       "      <th>traffic</th>\n",
       "    </tr>\n",
       "  </thead>\n",
       "  <tbody>\n",
       "    <tr>\n",
       "      <th>0</th>\n",
       "      <td>1 AV</td>\n",
       "      <td>H007</td>\n",
       "      <td>R248</td>\n",
       "      <td>00-00-00</td>\n",
       "      <td>2018-08-18</td>\n",
       "      <td>1759</td>\n",
       "      <td>2377</td>\n",
       "      <td>Saturday</td>\n",
       "      <td>4136</td>\n",
       "    </tr>\n",
       "    <tr>\n",
       "      <th>1</th>\n",
       "      <td>1 AV</td>\n",
       "      <td>H007</td>\n",
       "      <td>R248</td>\n",
       "      <td>00-00-00</td>\n",
       "      <td>2018-08-19</td>\n",
       "      <td>1461</td>\n",
       "      <td>2074</td>\n",
       "      <td>Sunday</td>\n",
       "      <td>3535</td>\n",
       "    </tr>\n",
       "    <tr>\n",
       "      <th>2</th>\n",
       "      <td>1 AV</td>\n",
       "      <td>H007</td>\n",
       "      <td>R248</td>\n",
       "      <td>00-00-00</td>\n",
       "      <td>2018-08-20</td>\n",
       "      <td>2704</td>\n",
       "      <td>3417</td>\n",
       "      <td>Monday</td>\n",
       "      <td>6121</td>\n",
       "    </tr>\n",
       "    <tr>\n",
       "      <th>3</th>\n",
       "      <td>1 AV</td>\n",
       "      <td>H007</td>\n",
       "      <td>R248</td>\n",
       "      <td>00-00-00</td>\n",
       "      <td>2018-08-21</td>\n",
       "      <td>3002</td>\n",
       "      <td>3488</td>\n",
       "      <td>Tuesday</td>\n",
       "      <td>6490</td>\n",
       "    </tr>\n",
       "    <tr>\n",
       "      <th>4</th>\n",
       "      <td>1 AV</td>\n",
       "      <td>H007</td>\n",
       "      <td>R248</td>\n",
       "      <td>00-00-00</td>\n",
       "      <td>2018-08-22</td>\n",
       "      <td>3033</td>\n",
       "      <td>3451</td>\n",
       "      <td>Wednesday</td>\n",
       "      <td>6484</td>\n",
       "    </tr>\n",
       "  </tbody>\n",
       "</table>\n",
       "</div>"
      ],
      "text/plain": [
       "  station    ca  unit       scp       date  entries  exits        day  traffic\n",
       "0    1 AV  H007  R248  00-00-00 2018-08-18     1759   2377   Saturday     4136\n",
       "1    1 AV  H007  R248  00-00-00 2018-08-19     1461   2074     Sunday     3535\n",
       "2    1 AV  H007  R248  00-00-00 2018-08-20     2704   3417     Monday     6121\n",
       "3    1 AV  H007  R248  00-00-00 2018-08-21     3002   3488    Tuesday     6490\n",
       "4    1 AV  H007  R248  00-00-00 2018-08-22     3033   3451  Wednesday     6484"
      ]
     },
     "execution_count": 90,
     "metadata": {},
     "output_type": "execute_result"
    }
   ],
   "source": [
    "df_traffic.head()"
   ]
  },
  {
   "cell_type": "code",
   "execution_count": 91,
   "metadata": {},
   "outputs": [
    {
     "data": {
      "text/html": [
       "<div>\n",
       "<style scoped>\n",
       "    .dataframe tbody tr th:only-of-type {\n",
       "        vertical-align: middle;\n",
       "    }\n",
       "\n",
       "    .dataframe tbody tr th {\n",
       "        vertical-align: top;\n",
       "    }\n",
       "\n",
       "    .dataframe thead th {\n",
       "        text-align: right;\n",
       "    }\n",
       "</style>\n",
       "<table border=\"1\" class=\"dataframe\">\n",
       "  <thead>\n",
       "    <tr style=\"text-align: right;\">\n",
       "      <th></th>\n",
       "      <th>entries</th>\n",
       "      <th>exits</th>\n",
       "      <th>traffic</th>\n",
       "    </tr>\n",
       "  </thead>\n",
       "  <tbody>\n",
       "    <tr>\n",
       "      <th>count</th>\n",
       "      <td>3.255900e+04</td>\n",
       "      <td>3.255900e+04</td>\n",
       "      <td>3.255900e+04</td>\n",
       "    </tr>\n",
       "    <tr>\n",
       "      <th>mean</th>\n",
       "      <td>5.585258e+04</td>\n",
       "      <td>6.098161e+04</td>\n",
       "      <td>1.168342e+05</td>\n",
       "    </tr>\n",
       "    <tr>\n",
       "      <th>std</th>\n",
       "      <td>8.218440e+06</td>\n",
       "      <td>1.011603e+07</td>\n",
       "      <td>1.828231e+07</td>\n",
       "    </tr>\n",
       "    <tr>\n",
       "      <th>min</th>\n",
       "      <td>0.000000e+00</td>\n",
       "      <td>0.000000e+00</td>\n",
       "      <td>0.000000e+00</td>\n",
       "    </tr>\n",
       "    <tr>\n",
       "      <th>25%</th>\n",
       "      <td>2.170000e+02</td>\n",
       "      <td>1.220000e+02</td>\n",
       "      <td>5.010000e+02</td>\n",
       "    </tr>\n",
       "    <tr>\n",
       "      <th>50%</th>\n",
       "      <td>6.680000e+02</td>\n",
       "      <td>4.150000e+02</td>\n",
       "      <td>1.251000e+03</td>\n",
       "    </tr>\n",
       "    <tr>\n",
       "      <th>75%</th>\n",
       "      <td>1.312000e+03</td>\n",
       "      <td>9.395000e+02</td>\n",
       "      <td>2.286000e+03</td>\n",
       "    </tr>\n",
       "    <tr>\n",
       "      <th>max</th>\n",
       "      <td>1.448534e+09</td>\n",
       "      <td>1.821581e+09</td>\n",
       "      <td>3.270114e+09</td>\n",
       "    </tr>\n",
       "  </tbody>\n",
       "</table>\n",
       "</div>"
      ],
      "text/plain": [
       "            entries         exits       traffic\n",
       "count  3.255900e+04  3.255900e+04  3.255900e+04\n",
       "mean   5.585258e+04  6.098161e+04  1.168342e+05\n",
       "std    8.218440e+06  1.011603e+07  1.828231e+07\n",
       "min    0.000000e+00  0.000000e+00  0.000000e+00\n",
       "25%    2.170000e+02  1.220000e+02  5.010000e+02\n",
       "50%    6.680000e+02  4.150000e+02  1.251000e+03\n",
       "75%    1.312000e+03  9.395000e+02  2.286000e+03\n",
       "max    1.448534e+09  1.821581e+09  3.270114e+09"
      ]
     },
     "execution_count": 91,
     "metadata": {},
     "output_type": "execute_result"
    }
   ],
   "source": [
    "df_traffic.describe()"
   ]
  },
  {
   "cell_type": "code",
   "execution_count": 92,
   "metadata": {},
   "outputs": [
    {
     "data": {
      "image/png": "[encoded data removed]",
      "text/plain": [
       "<Figure size 640x480 with 2 Axes>"
      ]
     },
     "metadata": {},
     "output_type": "display_data"
    }
   ],
   "source": [
    "df_traffic[[\"entries\", \"exits\"]].hist();"
   ]
  },
  {
   "cell_type": "code",
   "execution_count": 93,
   "metadata": {},
   "outputs": [],
   "source": [
    "thresholdMax = 25000\n",
    "df_traffic = df_traffic[df_traffic[\"traffic\"] < thresholdMax]"
   ]
  },
  {
   "cell_type": "code",
   "execution_count": 94,
   "metadata": {},
   "outputs": [
    {
     "data": {
      "image/png": "[encoded data removed]",
      "text/plain": [
       "<Figure size 640x480 with 4 Axes>"
      ]
     },
     "metadata": {},
     "output_type": "display_data"
    }
   ],
   "source": [
    "df_traffic[[\"entries\", \"exits\", \"traffic\"]].hist();"
   ]
  },
  {
   "cell_type": "markdown",
   "metadata": {},
   "source": [
    "Final steps"
   ]
  },
  {
   "cell_type": "code",
   "execution_count": 95,
   "metadata": {},
   "outputs": [
    {
     "data": {
      "text/html": [
       "<div>\n",
       "<style scoped>\n",
       "    .dataframe tbody tr th:only-of-type {\n",
       "        vertical-align: middle;\n",
       "    }\n",
       "\n",
       "    .dataframe tbody tr th {\n",
       "        vertical-align: top;\n",
       "    }\n",
       "\n",
       "    .dataframe thead th {\n",
       "        text-align: right;\n",
       "    }\n",
       "</style>\n",
       "<table border=\"1\" class=\"dataframe\">\n",
       "  <thead>\n",
       "    <tr style=\"text-align: right;\">\n",
       "      <th></th>\n",
       "      <th>station</th>\n",
       "      <th>date</th>\n",
       "      <th>day</th>\n",
       "      <th>entries</th>\n",
       "      <th>exits</th>\n",
       "      <th>traffic</th>\n",
       "    </tr>\n",
       "  </thead>\n",
       "  <tbody>\n",
       "    <tr>\n",
       "      <th>0</th>\n",
       "      <td>1 AV</td>\n",
       "      <td>2018-08-18</td>\n",
       "      <td>Saturday</td>\n",
       "      <td>10105</td>\n",
       "      <td>11904</td>\n",
       "      <td>22009</td>\n",
       "    </tr>\n",
       "    <tr>\n",
       "      <th>1</th>\n",
       "      <td>1 AV</td>\n",
       "      <td>2018-08-19</td>\n",
       "      <td>Sunday</td>\n",
       "      <td>8349</td>\n",
       "      <td>10070</td>\n",
       "      <td>18419</td>\n",
       "    </tr>\n",
       "    <tr>\n",
       "      <th>2</th>\n",
       "      <td>1 AV</td>\n",
       "      <td>2018-08-20</td>\n",
       "      <td>Monday</td>\n",
       "      <td>14392</td>\n",
       "      <td>16478</td>\n",
       "      <td>30870</td>\n",
       "    </tr>\n",
       "    <tr>\n",
       "      <th>3</th>\n",
       "      <td>1 AV</td>\n",
       "      <td>2018-08-21</td>\n",
       "      <td>Tuesday</td>\n",
       "      <td>15023</td>\n",
       "      <td>16567</td>\n",
       "      <td>31590</td>\n",
       "    </tr>\n",
       "    <tr>\n",
       "      <th>4</th>\n",
       "      <td>1 AV</td>\n",
       "      <td>2018-08-22</td>\n",
       "      <td>Wednesday</td>\n",
       "      <td>15377</td>\n",
       "      <td>17217</td>\n",
       "      <td>32594</td>\n",
       "    </tr>\n",
       "  </tbody>\n",
       "</table>\n",
       "</div>"
      ],
      "text/plain": [
       "  station       date        day  entries  exits  traffic\n",
       "0    1 AV 2018-08-18   Saturday    10105  11904    22009\n",
       "1    1 AV 2018-08-19     Sunday     8349  10070    18419\n",
       "2    1 AV 2018-08-20     Monday    14392  16478    30870\n",
       "3    1 AV 2018-08-21    Tuesday    15023  16567    31590\n",
       "4    1 AV 2018-08-22  Wednesday    15377  17217    32594"
      ]
     },
     "execution_count": 95,
     "metadata": {},
     "output_type": "execute_result"
    }
   ],
   "source": [
    "df_station = df_traffic.groupby(['station','date','day']).sum().reset_index()\n",
    "df_station.head()"
   ]
  },
  {
   "cell_type": "markdown",
   "metadata": {},
   "source": [
    "### What happens at Penn station?"
   ]
  },
  {
   "cell_type": "code",
   "execution_count": 96,
   "metadata": {},
   "outputs": [
    {
     "data": {
      "text/plain": [
       "array(['1 AV', '103 ST', '103 ST-CORONA', '104 ST', '110 ST', '111 ST',\n",
       "       '116 ST', '116 ST-COLUMBIA', '121 ST', '125 ST', '135 ST',\n",
       "       '137 ST CITY COL', '138/GRAND CONC', '14 ST', '14 ST-UNION SQ',\n",
       "       '145 ST', '149/GRAND CONC', '14TH STREET', '15 ST-PROSPECT',\n",
       "       '155 ST', '157 ST', '161/YANKEE STAD', '167 ST', '168 ST',\n",
       "       '169 ST', '170 ST', '174 ST', '175 ST', '176 ST', '18 AV', '18 ST',\n",
       "       '181 ST', '182-183 STS', '183 ST', '190 ST', '191 ST', '2 AV',\n",
       "       '20 AV', '207 ST', '21 ST', '21 ST-QNSBRIDGE', '215 ST', '219 ST',\n",
       "       '225 ST', '23 ST', '231 ST', '233 ST', '238 ST', '25 AV', '25 ST',\n",
       "       '28 ST', '3 AV', '3 AV 138 ST', '3 AV-149 ST', '30 AV', '33 ST',\n",
       "       '33 ST-RAWSON ST', '34 ST-HERALD SQ', '34 ST-HUDSON YD',\n",
       "       '34 ST-PENN STA', '36 AV', '36 ST', '4 AV-9 ST', '40 ST LOWERY ST',\n",
       "       '42 ST-BRYANT PK', '42 ST-PORT AUTH', '45 ST', '46 ST',\n",
       "       '46 ST BLISS ST', '47-50 STS ROCK', '49 ST', '4AV-9 ST',\n",
       "       '5 AV/53 ST', '5 AV/59 ST', '5 AVE', '50 ST', '51 ST', '52 ST',\n",
       "       '53 ST', '55 ST', '57 ST-7 AV', '59 ST', '59 ST COLUMBUS', '6 AV',\n",
       "       '61 ST WOODSIDE', '63 DR-REGO PARK', '65 ST', '66 ST-LINCOLN',\n",
       "       '67 AV', '68ST-HUNTER CO', '69 ST', '7 AV', '71 ST', '72 ST',\n",
       "       '72 ST-2 AVE', '74 ST-BROADWAY', '75 AV', '75 ST-ELDERTS', '77 ST',\n",
       "       '79 ST', '8 AV', '8 ST-NYU', '80 ST', '81 ST-MUSEUM',\n",
       "       '82 ST-JACKSON H', '85 ST-FOREST PK', '86 ST', '86 ST-2 AVE',\n",
       "       '88 ST', '9 AV', '90 ST-ELMHURST', '96 ST', '96 ST-2 AVE',\n",
       "       '9TH STREET', 'ALABAMA AV', 'ALLERTON AV', 'AQUEDUCT N.COND',\n",
       "       'AQUEDUCT RACETR', 'ASTOR PL', 'ASTORIA BLVD', 'ASTORIA DITMARS',\n",
       "       'ATL AV-BARCLAY', 'ATLANTIC AV', 'AVENUE H', 'AVENUE I',\n",
       "       'AVENUE J', 'AVENUE M', 'AVENUE N', 'AVENUE P', 'AVENUE U',\n",
       "       'AVENUE X', \"B'WAY-LAFAYETTE\", 'BAY 50 ST', 'BAY PKWY',\n",
       "       'BAY RIDGE AV', 'BAY RIDGE-95 ST', 'BAYCHESTER AV', 'BEACH 105 ST',\n",
       "       'BEACH 25 ST', 'BEACH 36 ST', 'BEACH 44 ST', 'BEACH 60 ST',\n",
       "       'BEACH 67 ST', 'BEACH 90 ST', 'BEACH 98 ST', 'BEDFORD AV',\n",
       "       'BEDFORD PK BLVD', 'BEDFORD-NOSTRAN', 'BERGEN ST', 'BEVERLEY ROAD',\n",
       "       'BEVERLY RD', 'BLEECKER ST', 'BOROUGH HALL', 'BOTANIC GARDEN',\n",
       "       'BOWERY', 'BOWLING GREEN', 'BRIARWOOD', 'BRIGHTON BEACH',\n",
       "       'BROAD CHANNEL', 'BROAD ST', 'BROADWAY', 'BROADWAY JCT',\n",
       "       'BRONX PARK EAST', 'BROOK AV', 'BROOKLYN BRIDGE', 'BUHRE AV',\n",
       "       'BURKE AV', 'BURNSIDE AV', 'BUSHWICK AV', 'CANAL ST',\n",
       "       'CANARSIE-ROCKAW', 'CARROLL ST', 'CASTLE HILL AV',\n",
       "       'CATHEDRAL PKWY', 'CENTRAL AV', 'CENTRAL PK N110', 'CHAMBERS ST',\n",
       "       'CHAUNCEY ST', 'CHRISTOPHER ST', 'CHURCH AV', 'CITY / BUS',\n",
       "       'CITY HALL', 'CLARK ST', 'CLASSON AV', 'CLEVELAND ST',\n",
       "       'CLINTON-WASH AV', 'CONEY IS-STILLW', 'CORTELYOU RD',\n",
       "       'CORTLANDT ST', 'COURT SQ', 'COURT SQ-23 ST', 'CRESCENT ST',\n",
       "       'CROWN HTS-UTICA', 'CYPRESS AV', 'CYPRESS HILLS', 'DEKALB AV',\n",
       "       'DELANCEY/ESSEX', 'DITMAS AV', 'DYCKMAN ST', \"E 143/ST MARY'S\",\n",
       "       'E 149 ST', 'E 180 ST', 'EAST 105 ST', 'EAST BROADWAY',\n",
       "       'EASTCHSTER/DYRE', 'EASTN PKWY-MUSM', 'ELDER AV', 'ELMHURST AV',\n",
       "       'EUCLID AV', 'EXCHANGE PLACE', 'FAR ROCKAWAY', 'FLATBUSH AV-B.C',\n",
       "       'FLUSHING AV', 'FLUSHING-MAIN', 'FORDHAM RD', 'FOREST AVE',\n",
       "       'FOREST HILLS 71', 'FRANKLIN AV', 'FRANKLIN ST', 'FREEMAN ST',\n",
       "       'FRESH POND RD', 'FT HAMILTON PKY', 'FULTON ST', 'GATES AV',\n",
       "       'GRAHAM AV', 'GRAND ARMY PLAZ', 'GRAND ST', 'GRAND-NEWTOWN',\n",
       "       'GRANT AV', 'GRD CNTRL-42 ST', 'GREENPOINT AV', 'GROVE STREET',\n",
       "       'GUN HILL RD', 'HALSEY ST', 'HARLEM 148 ST', 'HARRISON',\n",
       "       'HEWES ST', 'HIGH ST', 'HOUSTON ST', 'HOWARD BCH JFK', 'HOYT ST',\n",
       "       'HOYT-SCHER', 'HUNTERS PT AV', 'HUNTS POINT AV', 'INTERVALE AV',\n",
       "       'INWOOD-207 ST', 'JACKSON AV', 'JAMAICA 179 ST', 'JAMAICA CENTER',\n",
       "       'JAMAICA VAN WK', 'JAY ST-METROTEC', 'JEFFERSON ST',\n",
       "       'JFK JAMAICA CT1', 'JKSN HT-ROOSVLT', 'JOURNAL SQUARE',\n",
       "       'JUNCTION BLVD', 'JUNIUS ST', 'KEW GARDENS', 'KINGS HWY',\n",
       "       'KINGSBRIDGE RD', 'KINGSTON AV', 'KINGSTON-THROOP',\n",
       "       'KNICKERBOCKER', 'KOSCIUSZKO ST', 'LACKAWANNA', 'LAFAYETTE AV',\n",
       "       'LEXINGTON AV/53', 'LEXINGTON AV/63', 'LIBERTY AV', 'LIVONIA AV',\n",
       "       'LONGWOOD AV', 'LORIMER ST', 'MARBLE HILL-225', 'MARCY AV',\n",
       "       'METROPOLITAN AV', 'METS-WILLETS PT', 'MIDDLETOWN RD',\n",
       "       'MONTROSE AV', 'MORGAN AV', 'MORISN AV/SNDVW', 'MORRIS PARK',\n",
       "       'MOSHOLU PKWY', 'MT EDEN AV', 'MYRTLE AV', 'MYRTLE-WILLOUGH',\n",
       "       'MYRTLE-WYCKOFF', 'NASSAU AV', 'NECK RD', 'NEPTUNE AV',\n",
       "       'NEREID AV', 'NEVINS ST', 'NEW LOTS', 'NEW LOTS AV',\n",
       "       'NEW UTRECHT AV', 'NEWARK BM BW', 'NEWARK C', 'NEWARK HM HE',\n",
       "       'NEWARK HW BMEBE', 'NEWKIRK AV', 'NEWKIRK PLAZA', 'NORTHERN BLVD',\n",
       "       'NORWOOD 205 ST', 'NORWOOD AV', 'NOSTRAND AV', 'OCEAN PKWY',\n",
       "       'ORCHARD BEACH', 'OZONE PK LEFFRT', 'PARK PLACE', 'PARKCHESTER',\n",
       "       'PARKSIDE AV', 'PARSONS BLVD', 'PATH NEW WTC', 'PATH WTC 2',\n",
       "       'PAVONIA/NEWPORT', 'PELHAM BAY PARK', 'PELHAM PKWY',\n",
       "       'PENNSYLVANIA AV', 'PRESIDENT ST', 'PRINCE ST', 'PROSPECT AV',\n",
       "       'PROSPECT PARK', 'QUEENS PLAZA', 'QUEENSBORO PLZ', 'RALPH AV',\n",
       "       'RECTOR ST', 'RIT-ROOSEVELT', 'ROCKAWAY AV', 'ROCKAWAY BLVD',\n",
       "       'ROCKAWAY PARK B', 'ROOSEVELT ISLND', 'SARATOGA AV', 'SENECA AVE',\n",
       "       'SHEEPSHEAD BAY', 'SHEPHERD AV', 'SIMPSON ST', 'SMITH-9 ST',\n",
       "       'SOUTH FERRY', 'SPRING ST', 'ST LAWRENCE AV', 'ST. GEORGE',\n",
       "       'STEINWAY ST', 'STERLING ST', 'SUTPHIN BLVD', 'SUTPHIN-ARCHER',\n",
       "       'SUTTER AV', 'SUTTER AV-RUTLD', 'THIRTY ST', 'THIRTY THIRD ST',\n",
       "       'TIMES SQ-42 ST', 'TOMPKINSVILLE', 'TREMONT AV', 'TWENTY THIRD ST',\n",
       "       'UNION ST', 'UTICA AV', 'V.CORTLANDT PK', 'VAN SICLEN AV',\n",
       "       'VAN SICLEN AVE', 'VERNON-JACKSON', 'W 4 ST-WASH SQ',\n",
       "       'W 8 ST-AQUARIUM', 'WAKEFIELD/241', 'WALL ST', 'WEST FARMS SQ',\n",
       "       'WESTCHESTER SQ', 'WHITEHALL S-FRY', 'WHITLOCK AV', 'WILSON AV',\n",
       "       'WINTHROP ST', 'WOODHAVEN BLVD', 'WOODLAWN', 'WORLD TRADE CTR',\n",
       "       'YORK ST', 'ZEREGA AV'], dtype=object)"
      ]
     },
     "execution_count": 96,
     "metadata": {},
     "output_type": "execute_result"
    }
   ],
   "source": [
    "df_station[\"station\"].unique()"
   ]
  },
  {
   "cell_type": "code",
   "execution_count": 97,
   "metadata": {},
   "outputs": [
    {
     "data": {
      "text/plain": [
       "373"
      ]
     },
     "execution_count": 97,
     "metadata": {},
     "output_type": "execute_result"
    }
   ],
   "source": [
    "len(df_station[\"station\"].unique())"
   ]
  },
  {
   "cell_type": "code",
   "execution_count": 98,
   "metadata": {},
   "outputs": [
    {
     "data": {
      "image/png": "[encoded data removed]",
      "text/plain": [
       "<Figure size 640x480 with 1 Axes>"
      ]
     },
     "metadata": {},
     "output_type": "display_data"
    }
   ],
   "source": [
    "df_Penn = df_station[df_station[\"station\"] == \"42 ST-PORT AUTH\"]\n",
    "df_Penn\n",
    "df_Penn.plot.bar(x=\"day\", y=\"traffic\");"
   ]
  },
  {
   "cell_type": "markdown",
   "metadata": {},
   "source": [
    "### Exercise\n",
    "\n",
    "- What are the 3 busiest stations on average?\n",
    "- What is the traffic distribution over the week?\n",
    "- What are the busiest stations on weekends and on weekdays?"
   ]
  },
  {
   "cell_type": "code",
   "execution_count": 99,
   "metadata": {},
   "outputs": [
    {
     "data": {
      "text/plain": [
       "Index(['34 ST-PENN STA', 'GRD CNTRL-42 ST', '34 ST-HERALD SQ'], dtype='object', name='station')"
      ]
     },
     "execution_count": 99,
     "metadata": {},
     "output_type": "execute_result"
    }
   ],
   "source": [
    "volume = df_station.groupby(['station']).sum()\n",
    "volume = volume.sort_values(by='traffic',ascending=False)\n",
    "# volume\n",
    "volume.iloc[0:3,].index"
   ]
  },
  {
   "cell_type": "code",
   "execution_count": 100,
   "metadata": {},
   "outputs": [
    {
     "data": {
      "text/html": [
       "<div>\n",
       "<style scoped>\n",
       "    .dataframe tbody tr th:only-of-type {\n",
       "        vertical-align: middle;\n",
       "    }\n",
       "\n",
       "    .dataframe tbody tr th {\n",
       "        vertical-align: top;\n",
       "    }\n",
       "\n",
       "    .dataframe thead th {\n",
       "        text-align: right;\n",
       "    }\n",
       "</style>\n",
       "<table border=\"1\" class=\"dataframe\">\n",
       "  <thead>\n",
       "    <tr style=\"text-align: right;\">\n",
       "      <th></th>\n",
       "      <th>entries</th>\n",
       "      <th>exits</th>\n",
       "      <th>traffic</th>\n",
       "    </tr>\n",
       "    <tr>\n",
       "      <th>day</th>\n",
       "      <th></th>\n",
       "      <th></th>\n",
       "      <th></th>\n",
       "    </tr>\n",
       "  </thead>\n",
       "  <tbody>\n",
       "    <tr>\n",
       "      <th>Sunday</th>\n",
       "      <td>2019140</td>\n",
       "      <td>1661615</td>\n",
       "      <td>3680755</td>\n",
       "    </tr>\n",
       "    <tr>\n",
       "      <th>Saturday</th>\n",
       "      <td>2502485</td>\n",
       "      <td>2024880</td>\n",
       "      <td>4527365</td>\n",
       "    </tr>\n",
       "    <tr>\n",
       "      <th>Monday</th>\n",
       "      <td>4687745</td>\n",
       "      <td>3594252</td>\n",
       "      <td>8281997</td>\n",
       "    </tr>\n",
       "    <tr>\n",
       "      <th>Friday</th>\n",
       "      <td>4694064</td>\n",
       "      <td>3610537</td>\n",
       "      <td>8304601</td>\n",
       "    </tr>\n",
       "    <tr>\n",
       "      <th>Tuesday</th>\n",
       "      <td>4838750</td>\n",
       "      <td>3719747</td>\n",
       "      <td>8558497</td>\n",
       "    </tr>\n",
       "    <tr>\n",
       "      <th>Wednesday</th>\n",
       "      <td>4878547</td>\n",
       "      <td>3746054</td>\n",
       "      <td>8624601</td>\n",
       "    </tr>\n",
       "    <tr>\n",
       "      <th>Thursday</th>\n",
       "      <td>4917178</td>\n",
       "      <td>3771905</td>\n",
       "      <td>8689083</td>\n",
       "    </tr>\n",
       "  </tbody>\n",
       "</table>\n",
       "</div>"
      ],
      "text/plain": [
       "           entries    exits  traffic\n",
       "day                                 \n",
       "Sunday     2019140  1661615  3680755\n",
       "Saturday   2502485  2024880  4527365\n",
       "Monday     4687745  3594252  8281997\n",
       "Friday     4694064  3610537  8304601\n",
       "Tuesday    4838750  3719747  8558497\n",
       "Wednesday  4878547  3746054  8624601\n",
       "Thursday   4917178  3771905  8689083"
      ]
     },
     "execution_count": 100,
     "metadata": {},
     "output_type": "execute_result"
    }
   ],
   "source": [
    "vol_week = df_station.groupby(['day']).sum()\n",
    "vol_week = vol_week.sort_values(by='traffic')\n",
    "vol_week"
   ]
  },
  {
   "cell_type": "code",
   "execution_count": 101,
   "metadata": {},
   "outputs": [
    {
     "data": {
      "text/plain": [
       "<AxesSubplot:xlabel='day'>"
      ]
     },
     "execution_count": 101,
     "metadata": {},
     "output_type": "execute_result"
    },
    {
     "data": {
      "image/png": "[encoded data removed]",
      "text/plain": [
       "<Figure size 640x480 with 1 Axes>"
      ]
     },
     "metadata": {},
     "output_type": "display_data"
    }
   ],
   "source": [
    "vol_week['traffic'].plot.bar(x='day', y='traffic')"
   ]
  },
  {
   "cell_type": "code",
   "execution_count": 102,
   "metadata": {},
   "outputs": [
    {
     "data": {
      "text/html": [
       "<div>\n",
       "<style scoped>\n",
       "    .dataframe tbody tr th:only-of-type {\n",
       "        vertical-align: middle;\n",
       "    }\n",
       "\n",
       "    .dataframe tbody tr th {\n",
       "        vertical-align: top;\n",
       "    }\n",
       "\n",
       "    .dataframe thead th {\n",
       "        text-align: right;\n",
       "    }\n",
       "</style>\n",
       "<table border=\"1\" class=\"dataframe\">\n",
       "  <thead>\n",
       "    <tr style=\"text-align: right;\">\n",
       "      <th></th>\n",
       "      <th>entries</th>\n",
       "      <th>exits</th>\n",
       "      <th>traffic</th>\n",
       "    </tr>\n",
       "    <tr>\n",
       "      <th>station</th>\n",
       "      <th></th>\n",
       "      <th></th>\n",
       "      <th></th>\n",
       "    </tr>\n",
       "  </thead>\n",
       "  <tbody>\n",
       "    <tr>\n",
       "      <th>34 ST-PENN STA</th>\n",
       "      <td>127142</td>\n",
       "      <td>112970</td>\n",
       "      <td>240112</td>\n",
       "    </tr>\n",
       "    <tr>\n",
       "      <th>14 ST-UNION SQ</th>\n",
       "      <td>99669</td>\n",
       "      <td>98329</td>\n",
       "      <td>197998</td>\n",
       "    </tr>\n",
       "    <tr>\n",
       "      <th>42 ST-PORT AUTH</th>\n",
       "      <td>96998</td>\n",
       "      <td>87594</td>\n",
       "      <td>184592</td>\n",
       "    </tr>\n",
       "    <tr>\n",
       "      <th>TIMES SQ-42 ST</th>\n",
       "      <td>85116</td>\n",
       "      <td>96395</td>\n",
       "      <td>181511</td>\n",
       "    </tr>\n",
       "    <tr>\n",
       "      <th>34 ST-HERALD SQ</th>\n",
       "      <td>89946</td>\n",
       "      <td>90499</td>\n",
       "      <td>180445</td>\n",
       "    </tr>\n",
       "    <tr>\n",
       "      <th>...</th>\n",
       "      <td>...</td>\n",
       "      <td>...</td>\n",
       "      <td>...</td>\n",
       "    </tr>\n",
       "    <tr>\n",
       "      <th>NASSAU AV</th>\n",
       "      <td>1</td>\n",
       "      <td>11</td>\n",
       "      <td>12</td>\n",
       "    </tr>\n",
       "    <tr>\n",
       "      <th>INTERVALE AV</th>\n",
       "      <td>1</td>\n",
       "      <td>7</td>\n",
       "      <td>8</td>\n",
       "    </tr>\n",
       "    <tr>\n",
       "      <th>BROADWAY</th>\n",
       "      <td>2</td>\n",
       "      <td>3</td>\n",
       "      <td>5</td>\n",
       "    </tr>\n",
       "    <tr>\n",
       "      <th>21 ST</th>\n",
       "      <td>1</td>\n",
       "      <td>3</td>\n",
       "      <td>4</td>\n",
       "    </tr>\n",
       "    <tr>\n",
       "      <th>TWENTY THIRD ST</th>\n",
       "      <td>0</td>\n",
       "      <td>4</td>\n",
       "      <td>4</td>\n",
       "    </tr>\n",
       "  </tbody>\n",
       "</table>\n",
       "<p>373 rows × 3 columns</p>\n",
       "</div>"
      ],
      "text/plain": [
       "                 entries   exits  traffic\n",
       "station                                  \n",
       "34 ST-PENN STA    127142  112970   240112\n",
       "14 ST-UNION SQ     99669   98329   197998\n",
       "42 ST-PORT AUTH    96998   87594   184592\n",
       "TIMES SQ-42 ST     85116   96395   181511\n",
       "34 ST-HERALD SQ    89946   90499   180445\n",
       "...                  ...     ...      ...\n",
       "NASSAU AV              1      11       12\n",
       "INTERVALE AV           1       7        8\n",
       "BROADWAY               2       3        5\n",
       "21 ST                  1       3        4\n",
       "TWENTY THIRD ST        0       4        4\n",
       "\n",
       "[373 rows x 3 columns]"
      ]
     },
     "execution_count": 102,
     "metadata": {},
     "output_type": "execute_result"
    }
   ],
   "source": [
    "ind_weekend = pd.DataFrame([df_traffic['day']==\"Saturday\", df_traffic['day']==\"Sunday\"])\n",
    "# ind = pd.DataFrame([df_traffic['day']==\"Sunday\"])\n",
    "vol_weekends = df_traffic.loc[ind_weekend.any(),].groupby(['station']).sum().sort_values(by='traffic',ascending=False)\n",
    "vol_weekends"
   ]
  },
  {
   "cell_type": "code",
   "execution_count": 103,
   "metadata": {},
   "outputs": [
    {
     "data": {
      "text/html": [
       "<div>\n",
       "<style scoped>\n",
       "    .dataframe tbody tr th:only-of-type {\n",
       "        vertical-align: middle;\n",
       "    }\n",
       "\n",
       "    .dataframe tbody tr th {\n",
       "        vertical-align: top;\n",
       "    }\n",
       "\n",
       "    .dataframe thead th {\n",
       "        text-align: right;\n",
       "    }\n",
       "</style>\n",
       "<table border=\"1\" class=\"dataframe\">\n",
       "  <thead>\n",
       "    <tr style=\"text-align: right;\">\n",
       "      <th></th>\n",
       "      <th>entries</th>\n",
       "      <th>exits</th>\n",
       "      <th>traffic</th>\n",
       "    </tr>\n",
       "    <tr>\n",
       "      <th>station</th>\n",
       "      <th></th>\n",
       "      <th></th>\n",
       "      <th></th>\n",
       "    </tr>\n",
       "  </thead>\n",
       "  <tbody>\n",
       "    <tr>\n",
       "      <th>34 ST-PENN STA</th>\n",
       "      <td>711692</td>\n",
       "      <td>606018</td>\n",
       "      <td>1317710</td>\n",
       "    </tr>\n",
       "    <tr>\n",
       "      <th>GRD CNTRL-42 ST</th>\n",
       "      <td>654258</td>\n",
       "      <td>622922</td>\n",
       "      <td>1277180</td>\n",
       "    </tr>\n",
       "    <tr>\n",
       "      <th>34 ST-HERALD SQ</th>\n",
       "      <td>526653</td>\n",
       "      <td>515198</td>\n",
       "      <td>1041851</td>\n",
       "    </tr>\n",
       "    <tr>\n",
       "      <th>TIMES SQ-42 ST</th>\n",
       "      <td>407665</td>\n",
       "      <td>425955</td>\n",
       "      <td>833620</td>\n",
       "    </tr>\n",
       "    <tr>\n",
       "      <th>FULTON ST</th>\n",
       "      <td>441557</td>\n",
       "      <td>379778</td>\n",
       "      <td>821335</td>\n",
       "    </tr>\n",
       "    <tr>\n",
       "      <th>...</th>\n",
       "      <td>...</td>\n",
       "      <td>...</td>\n",
       "      <td>...</td>\n",
       "    </tr>\n",
       "    <tr>\n",
       "      <th>BEACH 44 ST</th>\n",
       "      <td>2682</td>\n",
       "      <td>2461</td>\n",
       "      <td>5143</td>\n",
       "    </tr>\n",
       "    <tr>\n",
       "      <th>BEACH 105 ST</th>\n",
       "      <td>1973</td>\n",
       "      <td>1905</td>\n",
       "      <td>3878</td>\n",
       "    </tr>\n",
       "    <tr>\n",
       "      <th>TOMPKINSVILLE</th>\n",
       "      <td>3400</td>\n",
       "      <td>0</td>\n",
       "      <td>3400</td>\n",
       "    </tr>\n",
       "    <tr>\n",
       "      <th>BROAD CHANNEL</th>\n",
       "      <td>1119</td>\n",
       "      <td>187</td>\n",
       "      <td>1306</td>\n",
       "    </tr>\n",
       "    <tr>\n",
       "      <th>ORCHARD BEACH</th>\n",
       "      <td>2</td>\n",
       "      <td>12</td>\n",
       "      <td>14</td>\n",
       "    </tr>\n",
       "  </tbody>\n",
       "</table>\n",
       "<p>373 rows × 3 columns</p>\n",
       "</div>"
      ],
      "text/plain": [
       "                 entries   exits  traffic\n",
       "station                                  \n",
       "34 ST-PENN STA    711692  606018  1317710\n",
       "GRD CNTRL-42 ST   654258  622922  1277180\n",
       "34 ST-HERALD SQ   526653  515198  1041851\n",
       "TIMES SQ-42 ST    407665  425955   833620\n",
       "FULTON ST         441557  379778   821335\n",
       "...                  ...     ...      ...\n",
       "BEACH 44 ST         2682    2461     5143\n",
       "BEACH 105 ST        1973    1905     3878\n",
       "TOMPKINSVILLE       3400       0     3400\n",
       "BROAD CHANNEL       1119     187     1306\n",
       "ORCHARD BEACH          2      12       14\n",
       "\n",
       "[373 rows x 3 columns]"
      ]
     },
     "execution_count": 103,
     "metadata": {},
     "output_type": "execute_result"
    }
   ],
   "source": [
    "ind_weekday = pd.DataFrame([df_traffic['day']!=\"Saturday\", df_traffic['day']!=\"Sunday\"])\n",
    "# ind = pd.DataFrame([df_traffic['day']==\"Sunday\"])\n",
    "vol_weekdays = df_traffic.loc[ind_weekday.all(),].groupby(['station']).sum().sort_values(by='traffic',ascending=False)\n",
    "vol_weekdays"
   ]
  },
  {
   "cell_type": "markdown",
   "metadata": {},
   "source": [
    "### Exercise\n",
    "\n",
    "Write a script that imports each weekly file http://web.mta.info/developers/turnstile.html and merges them."
   ]
  },
  {
   "cell_type": "markdown",
   "metadata": {},
   "source": [
    "# Common issues of Cleaning Data"
   ]
  },
  {
   "cell_type": "code",
   "execution_count": 104,
   "metadata": {},
   "outputs": [
    {
     "data": {
      "text/html": [
       "<div>\n",
       "<style scoped>\n",
       "    .dataframe tbody tr th:only-of-type {\n",
       "        vertical-align: middle;\n",
       "    }\n",
       "\n",
       "    .dataframe tbody tr th {\n",
       "        vertical-align: top;\n",
       "    }\n",
       "\n",
       "    .dataframe thead th {\n",
       "        text-align: right;\n",
       "    }\n",
       "</style>\n",
       "<table border=\"1\" class=\"dataframe\">\n",
       "  <thead>\n",
       "    <tr style=\"text-align: right;\">\n",
       "      <th></th>\n",
       "      <th>X</th>\n",
       "    </tr>\n",
       "  </thead>\n",
       "  <tbody>\n",
       "    <tr>\n",
       "      <th>0</th>\n",
       "      <td>2</td>\n",
       "    </tr>\n",
       "    <tr>\n",
       "      <th>1</th>\n",
       "      <td>4</td>\n",
       "    </tr>\n",
       "    <tr>\n",
       "      <th>2</th>\n",
       "      <td>6</td>\n",
       "    </tr>\n",
       "    <tr>\n",
       "      <th>3</th>\n",
       "      <td>8</td>\n",
       "    </tr>\n",
       "  </tbody>\n",
       "</table>\n",
       "</div>"
      ],
      "text/plain": [
       "   X\n",
       "0  2\n",
       "1  4\n",
       "2  6\n",
       "3  8"
      ]
     },
     "execution_count": 104,
     "metadata": {},
     "output_type": "execute_result"
    }
   ],
   "source": [
    "xx = [2, 4, 6, '8']\n",
    "df = pd.DataFrame(xx)\n",
    "df.columns = [\"X\"]\n",
    "df.head()"
   ]
  },
  {
   "cell_type": "code",
   "execution_count": 105,
   "metadata": {},
   "outputs": [
    {
     "ename": "TypeError",
     "evalue": "can't multiply sequence by non-int of type 'float'",
     "output_type": "error",
     "traceback": [
      "\u001b[0;31m---------------------------------------------------------------------------\u001b[0m",
      "\u001b[0;31mTypeError\u001b[0m                                 Traceback (most recent call last)",
      "File \u001b[0;32m/opt/homebrew/lib/python3.9/site-packages/pandas/core/ops/array_ops.py:166\u001b[0m, in \u001b[0;36m_na_arithmetic_op\u001b[0;34m(left, right, op, is_cmp)\u001b[0m\n\u001b[1;32m    165\u001b[0m \u001b[39mtry\u001b[39;00m:\n\u001b[0;32m--> 166\u001b[0m     result \u001b[39m=\u001b[39m func(left, right)\n\u001b[1;32m    167\u001b[0m \u001b[39mexcept\u001b[39;00m \u001b[39mTypeError\u001b[39;00m:\n",
      "File \u001b[0;32m/opt/homebrew/lib/python3.9/site-packages/pandas/core/computation/expressions.py:239\u001b[0m, in \u001b[0;36mevaluate\u001b[0;34m(op, a, b, use_numexpr)\u001b[0m\n\u001b[1;32m    237\u001b[0m     \u001b[39mif\u001b[39;00m use_numexpr:\n\u001b[1;32m    238\u001b[0m         \u001b[39m# error: \"None\" not callable\u001b[39;00m\n\u001b[0;32m--> 239\u001b[0m         \u001b[39mreturn\u001b[39;00m _evaluate(op, op_str, a, b)  \u001b[39m# type: ignore[misc]\u001b[39;00m\n\u001b[1;32m    240\u001b[0m \u001b[39mreturn\u001b[39;00m _evaluate_standard(op, op_str, a, b)\n",
      "File \u001b[0;32m/opt/homebrew/lib/python3.9/site-packages/pandas/core/computation/expressions.py:69\u001b[0m, in \u001b[0;36m_evaluate_standard\u001b[0;34m(op, op_str, a, b)\u001b[0m\n\u001b[1;32m     68\u001b[0m     _store_test_result(\u001b[39mFalse\u001b[39;00m)\n\u001b[0;32m---> 69\u001b[0m \u001b[39mreturn\u001b[39;00m op(a, b)\n",
      "File \u001b[0;32m/opt/homebrew/lib/python3.9/site-packages/pandas/core/roperator.py:17\u001b[0m, in \u001b[0;36mrmul\u001b[0;34m(left, right)\u001b[0m\n\u001b[1;32m     16\u001b[0m \u001b[39mdef\u001b[39;00m \u001b[39mrmul\u001b[39m(left, right):\n\u001b[0;32m---> 17\u001b[0m     \u001b[39mreturn\u001b[39;00m right \u001b[39m*\u001b[39;49m left\n",
      "\u001b[0;31mTypeError\u001b[0m: can't multiply sequence by non-int of type 'float'",
      "\nDuring handling of the above exception, another exception occurred:\n",
      "\u001b[0;31mTypeError\u001b[0m                                 Traceback (most recent call last)",
      "Cell \u001b[0;32mIn [105], line 1\u001b[0m\n\u001b[0;32m----> 1\u001b[0m df[\u001b[39m\"\u001b[39m\u001b[39mMult\u001b[39m\u001b[39m\"\u001b[39m] \u001b[39m=\u001b[39m \u001b[39m2.\u001b[39m\u001b[39m*\u001b[39mdf[\u001b[39m\"\u001b[39m\u001b[39mX\u001b[39m\u001b[39m\"\u001b[39m]\n",
      "File \u001b[0;32m/opt/homebrew/lib/python3.9/site-packages/pandas/core/ops/common.py:69\u001b[0m, in \u001b[0;36m_unpack_zerodim_and_defer.<locals>.new_method\u001b[0;34m(self, other)\u001b[0m\n\u001b[1;32m     65\u001b[0m             \u001b[39mreturn\u001b[39;00m \u001b[39mNotImplemented\u001b[39m\n\u001b[1;32m     67\u001b[0m other \u001b[39m=\u001b[39m item_from_zerodim(other)\n\u001b[0;32m---> 69\u001b[0m \u001b[39mreturn\u001b[39;00m method(\u001b[39mself\u001b[39;49m, other)\n",
      "File \u001b[0;32m/opt/homebrew/lib/python3.9/site-packages/pandas/core/arraylike.py:112\u001b[0m, in \u001b[0;36mOpsMixin.__rmul__\u001b[0;34m(self, other)\u001b[0m\n\u001b[1;32m    110\u001b[0m \u001b[39m@unpack_zerodim_and_defer\u001b[39m(\u001b[39m\"\u001b[39m\u001b[39m__rmul__\u001b[39m\u001b[39m\"\u001b[39m)\n\u001b[1;32m    111\u001b[0m \u001b[39mdef\u001b[39;00m \u001b[39m__rmul__\u001b[39m(\u001b[39mself\u001b[39m, other):\n\u001b[0;32m--> 112\u001b[0m     \u001b[39mreturn\u001b[39;00m \u001b[39mself\u001b[39;49m\u001b[39m.\u001b[39;49m_arith_method(other, roperator\u001b[39m.\u001b[39;49mrmul)\n",
      "File \u001b[0;32m/opt/homebrew/lib/python3.9/site-packages/pandas/core/series.py:5525\u001b[0m, in \u001b[0;36mSeries._arith_method\u001b[0;34m(self, other, op)\u001b[0m\n\u001b[1;32m   5522\u001b[0m rvalues \u001b[39m=\u001b[39m ensure_wrapped_if_datetimelike(rvalues)\n\u001b[1;32m   5524\u001b[0m \u001b[39mwith\u001b[39;00m np\u001b[39m.\u001b[39merrstate(\u001b[39mall\u001b[39m\u001b[39m=\u001b[39m\u001b[39m\"\u001b[39m\u001b[39mignore\u001b[39m\u001b[39m\"\u001b[39m):\n\u001b[0;32m-> 5525\u001b[0m     result \u001b[39m=\u001b[39m ops\u001b[39m.\u001b[39;49marithmetic_op(lvalues, rvalues, op)\n\u001b[1;32m   5527\u001b[0m \u001b[39mreturn\u001b[39;00m \u001b[39mself\u001b[39m\u001b[39m.\u001b[39m_construct_result(result, name\u001b[39m=\u001b[39mres_name)\n",
      "File \u001b[0;32m/opt/homebrew/lib/python3.9/site-packages/pandas/core/ops/array_ops.py:224\u001b[0m, in \u001b[0;36marithmetic_op\u001b[0;34m(left, right, op)\u001b[0m\n\u001b[1;32m    219\u001b[0m \u001b[39melse\u001b[39;00m:\n\u001b[1;32m    220\u001b[0m     \u001b[39m# TODO we should handle EAs consistently and move this check before the if/else\u001b[39;00m\n\u001b[1;32m    221\u001b[0m     \u001b[39m# (https://github.com/pandas-dev/pandas/issues/41165)\u001b[39;00m\n\u001b[1;32m    222\u001b[0m     _bool_arith_check(op, left, right)\n\u001b[0;32m--> 224\u001b[0m     res_values \u001b[39m=\u001b[39m _na_arithmetic_op(left, right, op)\n\u001b[1;32m    226\u001b[0m \u001b[39mreturn\u001b[39;00m res_values\n",
      "File \u001b[0;32m/opt/homebrew/lib/python3.9/site-packages/pandas/core/ops/array_ops.py:173\u001b[0m, in \u001b[0;36m_na_arithmetic_op\u001b[0;34m(left, right, op, is_cmp)\u001b[0m\n\u001b[1;32m    167\u001b[0m \u001b[39mexcept\u001b[39;00m \u001b[39mTypeError\u001b[39;00m:\n\u001b[1;32m    168\u001b[0m     \u001b[39mif\u001b[39;00m is_object_dtype(left) \u001b[39mor\u001b[39;00m is_object_dtype(right) \u001b[39mand\u001b[39;00m \u001b[39mnot\u001b[39;00m is_cmp:\n\u001b[1;32m    169\u001b[0m         \u001b[39m# For object dtype, fallback to a masked operation (only operating\u001b[39;00m\n\u001b[1;32m    170\u001b[0m         \u001b[39m#  on the non-missing values)\u001b[39;00m\n\u001b[1;32m    171\u001b[0m         \u001b[39m# Don't do this for comparisons, as that will handle complex numbers\u001b[39;00m\n\u001b[1;32m    172\u001b[0m         \u001b[39m#  incorrectly, see GH#32047\u001b[39;00m\n\u001b[0;32m--> 173\u001b[0m         result \u001b[39m=\u001b[39m _masked_arith_op(left, right, op)\n\u001b[1;32m    174\u001b[0m     \u001b[39melse\u001b[39;00m:\n\u001b[1;32m    175\u001b[0m         \u001b[39mraise\u001b[39;00m\n",
      "File \u001b[0;32m/opt/homebrew/lib/python3.9/site-packages/pandas/core/ops/array_ops.py:131\u001b[0m, in \u001b[0;36m_masked_arith_op\u001b[0;34m(x, y, op)\u001b[0m\n\u001b[1;32m    128\u001b[0m         mask \u001b[39m=\u001b[39m np\u001b[39m.\u001b[39mwhere(y \u001b[39m==\u001b[39m \u001b[39m1\u001b[39m, \u001b[39mFalse\u001b[39;00m, mask)\n\u001b[1;32m    130\u001b[0m     \u001b[39mif\u001b[39;00m mask\u001b[39m.\u001b[39many():\n\u001b[0;32m--> 131\u001b[0m         result[mask] \u001b[39m=\u001b[39m op(xrav[mask], y)\n\u001b[1;32m    133\u001b[0m np\u001b[39m.\u001b[39mputmask(result, \u001b[39m~\u001b[39mmask, np\u001b[39m.\u001b[39mnan)\n\u001b[1;32m    134\u001b[0m result \u001b[39m=\u001b[39m result\u001b[39m.\u001b[39mreshape(x\u001b[39m.\u001b[39mshape)  \u001b[39m# 2D compat\u001b[39;00m\n",
      "File \u001b[0;32m/opt/homebrew/lib/python3.9/site-packages/pandas/core/roperator.py:17\u001b[0m, in \u001b[0;36mrmul\u001b[0;34m(left, right)\u001b[0m\n\u001b[1;32m     16\u001b[0m \u001b[39mdef\u001b[39;00m \u001b[39mrmul\u001b[39m(left, right):\n\u001b[0;32m---> 17\u001b[0m     \u001b[39mreturn\u001b[39;00m right \u001b[39m*\u001b[39;49m left\n",
      "\u001b[0;31mTypeError\u001b[0m: can't multiply sequence by non-int of type 'float'"
     ]
    }
   ],
   "source": [
    "df[\"Mult\"] = 2.*df[\"X\"]"
   ]
  },
  {
   "cell_type": "code",
   "execution_count": 106,
   "metadata": {},
   "outputs": [
    {
     "name": "stdout",
     "output_type": "stream",
     "text": [
      "<class 'pandas.core.frame.DataFrame'>\n",
      "RangeIndex: 4 entries, 0 to 3\n",
      "Data columns (total 1 columns):\n",
      " #   Column  Non-Null Count  Dtype \n",
      "---  ------  --------------  ----- \n",
      " 0   X       4 non-null      object\n",
      "dtypes: object(1)\n",
      "memory usage: 160.0+ bytes\n"
     ]
    }
   ],
   "source": [
    "df.info()"
   ]
  },
  {
   "cell_type": "markdown",
   "metadata": {},
   "source": [
    "**Object type means there are more than 1 type..?**"
   ]
  },
  {
   "cell_type": "code",
   "execution_count": 107,
   "metadata": {},
   "outputs": [],
   "source": [
    "df['X'] = pd.to_numeric(df['X'])\n",
    "df[\"Mult\"] = 2.*df[\"X\"]"
   ]
  },
  {
   "cell_type": "code",
   "execution_count": 108,
   "metadata": {},
   "outputs": [
    {
     "name": "stdout",
     "output_type": "stream",
     "text": [
      "<class 'pandas.core.frame.DataFrame'>\n",
      "RangeIndex: 4 entries, 0 to 3\n",
      "Data columns (total 2 columns):\n",
      " #   Column  Non-Null Count  Dtype  \n",
      "---  ------  --------------  -----  \n",
      " 0   X       4 non-null      int64  \n",
      " 1   Mult    4 non-null      float64\n",
      "dtypes: float64(1), int64(1)\n",
      "memory usage: 192.0 bytes\n"
     ]
    }
   ],
   "source": [
    "df.info()"
   ]
  },
  {
   "cell_type": "code",
   "execution_count": 109,
   "metadata": {},
   "outputs": [
    {
     "data": {
      "text/html": [
       "<div>\n",
       "<style scoped>\n",
       "    .dataframe tbody tr th:only-of-type {\n",
       "        vertical-align: middle;\n",
       "    }\n",
       "\n",
       "    .dataframe tbody tr th {\n",
       "        vertical-align: top;\n",
       "    }\n",
       "\n",
       "    .dataframe thead th {\n",
       "        text-align: right;\n",
       "    }\n",
       "</style>\n",
       "<table border=\"1\" class=\"dataframe\">\n",
       "  <thead>\n",
       "    <tr style=\"text-align: right;\">\n",
       "      <th></th>\n",
       "      <th>X</th>\n",
       "      <th>Mult</th>\n",
       "    </tr>\n",
       "  </thead>\n",
       "  <tbody>\n",
       "    <tr>\n",
       "      <th>0</th>\n",
       "      <td>2</td>\n",
       "      <td>4.0</td>\n",
       "    </tr>\n",
       "    <tr>\n",
       "      <th>1</th>\n",
       "      <td>4</td>\n",
       "      <td>8.0</td>\n",
       "    </tr>\n",
       "    <tr>\n",
       "      <th>2</th>\n",
       "      <td>6</td>\n",
       "      <td>12.0</td>\n",
       "    </tr>\n",
       "    <tr>\n",
       "      <th>3</th>\n",
       "      <td>8</td>\n",
       "      <td>16.0</td>\n",
       "    </tr>\n",
       "  </tbody>\n",
       "</table>\n",
       "</div>"
      ],
      "text/plain": [
       "   X  Mult\n",
       "0  2   4.0\n",
       "1  4   8.0\n",
       "2  6  12.0\n",
       "3  8  16.0"
      ]
     },
     "execution_count": 109,
     "metadata": {},
     "output_type": "execute_result"
    }
   ],
   "source": [
    "df.head()"
   ]
  },
  {
   "cell_type": "markdown",
   "metadata": {},
   "source": [
    "### Working with copies"
   ]
  },
  {
   "cell_type": "code",
   "execution_count": 110,
   "metadata": {},
   "outputs": [],
   "source": [
    "N = 5\n",
    "xx = np.random.standard_normal((N, 5))\n",
    "df = pd.DataFrame(xx)\n",
    "df2 = df ### same as df.copy(deep=False)\n",
    "df3 = df.copy(deep=True)"
   ]
  },
  {
   "cell_type": "markdown",
   "metadata": {},
   "source": [
    "**The `deep` parameter in `copy()` is by default `True`.**"
   ]
  },
  {
   "cell_type": "code",
   "execution_count": 111,
   "metadata": {},
   "outputs": [
    {
     "name": "stdout",
     "output_type": "stream",
     "text": [
      "2.0 2.0\n"
     ]
    }
   ],
   "source": [
    "i,j = 0,1\n",
    "df.iat[i,j] = 2.\n",
    "print(df.iat[i,j], df2.iat[i,j])"
   ]
  },
  {
   "cell_type": "code",
   "execution_count": 112,
   "metadata": {},
   "outputs": [
    {
     "name": "stdout",
     "output_type": "stream",
     "text": [
      "2.0 5.0\n"
     ]
    }
   ],
   "source": [
    "i,j = 0,1\n",
    "df3.iat[i,j] = 5.\n",
    "print(df.iat[i,j], df3.iat[i,j])"
   ]
  },
  {
   "cell_type": "markdown",
   "metadata": {},
   "source": [
    "### Filling the void"
   ]
  },
  {
   "cell_type": "code",
   "execution_count": 118,
   "metadata": {},
   "outputs": [
    {
     "data": {
      "text/html": [
       "<div>\n",
       "<style scoped>\n",
       "    .dataframe tbody tr th:only-of-type {\n",
       "        vertical-align: middle;\n",
       "    }\n",
       "\n",
       "    .dataframe tbody tr th {\n",
       "        vertical-align: top;\n",
       "    }\n",
       "\n",
       "    .dataframe thead th {\n",
       "        text-align: right;\n",
       "    }\n",
       "</style>\n",
       "<table border=\"1\" class=\"dataframe\">\n",
       "  <thead>\n",
       "    <tr style=\"text-align: right;\">\n",
       "      <th></th>\n",
       "      <th>0</th>\n",
       "      <th>1</th>\n",
       "      <th>2</th>\n",
       "      <th>3</th>\n",
       "    </tr>\n",
       "  </thead>\n",
       "  <tbody>\n",
       "    <tr>\n",
       "      <th>0</th>\n",
       "      <td>EUR/GBP</td>\n",
       "      <td>20220102 22:06:10.134</td>\n",
       "      <td>0.83823</td>\n",
       "      <td>0.84273</td>\n",
       "    </tr>\n",
       "    <tr>\n",
       "      <th>1</th>\n",
       "      <td>EUR/GBP</td>\n",
       "      <td>20220102 22:06:51.626</td>\n",
       "      <td>0.83816</td>\n",
       "      <td>0.84274</td>\n",
       "    </tr>\n",
       "    <tr>\n",
       "      <th>2</th>\n",
       "      <td>EUR/GBP</td>\n",
       "      <td>20220102 22:06:51.627</td>\n",
       "      <td>0.83811</td>\n",
       "      <td>0.84275</td>\n",
       "    </tr>\n",
       "    <tr>\n",
       "      <th>3</th>\n",
       "      <td>EUR/GBP</td>\n",
       "      <td>20220102 22:06:52.627</td>\n",
       "      <td>0.83829</td>\n",
       "      <td>0.84189</td>\n",
       "    </tr>\n",
       "    <tr>\n",
       "      <th>4</th>\n",
       "      <td>EUR/GBP</td>\n",
       "      <td>20220102 22:06:52.839</td>\n",
       "      <td>0.83834</td>\n",
       "      <td>0.84183</td>\n",
       "    </tr>\n",
       "  </tbody>\n",
       "</table>\n",
       "</div>"
      ],
      "text/plain": [
       "         0                      1        2        3\n",
       "0  EUR/GBP  20220102 22:06:10.134  0.83823  0.84273\n",
       "1  EUR/GBP  20220102 22:06:51.626  0.83816  0.84274\n",
       "2  EUR/GBP  20220102 22:06:51.627  0.83811  0.84275\n",
       "3  EUR/GBP  20220102 22:06:52.627  0.83829  0.84189\n",
       "4  EUR/GBP  20220102 22:06:52.839  0.83834  0.84183"
      ]
     },
     "execution_count": 118,
     "metadata": {},
     "output_type": "execute_result"
    }
   ],
   "source": [
    "df = pd.read_csv(\"eurgbp-1m.csv\", sep=\";\")#,header = None)\n",
    "df.columns=[\"Date\", \"Time\", \"Bid\", \"Ask\", \"na\", \"na2\", \"na3\"]\n",
    "#df[\"DateTime\"] = df[\"Date\"] + df[\"Time\"]\n",
    "df = df.drop(columns=['na', 'na2', 'na3'])\n",
    "df.head()"
   ]
  },
  {
   "cell_type": "markdown",
   "metadata": {},
   "source": [
    "**Exercise:** Create a dataframe with one value for the bid and one value for the ask for each day.\n",
    "For example, using the maximum value of the day."
   ]
  },
  {
   "cell_type": "code",
   "execution_count": null,
   "metadata": {},
   "outputs": [],
   "source": [
    "import random\n",
    "chosenDay = df.iloc[random.choice(range(len(df))), 0]\n",
    "print(\"Chosen day: \", chosenDay)"
   ]
  },
  {
   "cell_type": "code",
   "execution_count": null,
   "metadata": {},
   "outputs": [],
   "source": [
    "oneDay = df[df[\"Date\"] == chosenDay]\n",
    "oneDay.set_index(\"Time\", inplace=True)\n",
    "del oneDay[\"Date\"]\n",
    "oneDay.plot(title=\"eurgbp on \" + chosenDay);\n",
    "oneDay.head()"
   ]
  },
  {
   "cell_type": "code",
   "execution_count": null,
   "metadata": {},
   "outputs": [],
   "source": [
    "nbMissingValues = len(oneDay)//3\n",
    "N = len(oneDay)\n",
    "listMissingValues = random.choices(range(N), k=nbMissingValues)\n",
    "for l in listMissingValues:\n",
    "    oneDay.iat[l, 0] = np.log(-1.)"
   ]
  },
  {
   "cell_type": "code",
   "execution_count": null,
   "metadata": {},
   "outputs": [],
   "source": [
    "oneDay.head()"
   ]
  },
  {
   "cell_type": "code",
   "execution_count": null,
   "metadata": {},
   "outputs": [],
   "source": [
    "oneDay[\"Bid\"].plot()"
   ]
  },
  {
   "cell_type": "markdown",
   "metadata": {},
   "source": [
    "How do we fill the gaps? \n",
    "- `dropna`?\n",
    "- interpolation? But which one?"
   ]
  },
  {
   "cell_type": "code",
   "execution_count": null,
   "metadata": {},
   "outputs": [],
   "source": [
    "oneDay[\"Bid\"].interpolate(method='linear', axis=0).plot();"
   ]
  },
  {
   "cell_type": "markdown",
   "metadata": {},
   "source": [
    "# Extra: Combining DataFrames and creating signals"
   ]
  },
  {
   "cell_type": "code",
   "execution_count": null,
   "metadata": {},
   "outputs": [],
   "source": [
    "aapl.tail()"
   ]
  },
  {
   "cell_type": "code",
   "execution_count": null,
   "metadata": {},
   "outputs": [],
   "source": [
    "coke.tail()"
   ]
  },
  {
   "cell_type": "code",
   "execution_count": null,
   "metadata": {},
   "outputs": [],
   "source": [
    "df = pd.merge(coke, aapl, on=\"Date\")\n",
    "df.tail()"
   ]
  },
  {
   "cell_type": "code",
   "execution_count": null,
   "metadata": {},
   "outputs": [],
   "source": [
    "df = pd.merge(coke[\"Close\"], aapl[\"Close\"], on=\"Date\")\n",
    "df.columns = [\"coke\", \"aapl\"]\n",
    "df.head()"
   ]
  },
  {
   "cell_type": "code",
   "execution_count": null,
   "metadata": {},
   "outputs": [],
   "source": [
    "df.plot();"
   ]
  },
  {
   "cell_type": "markdown",
   "metadata": {},
   "source": [
    "#### Normalised versions..."
   ]
  },
  {
   "cell_type": "code",
   "execution_count": null,
   "metadata": {},
   "outputs": [],
   "source": [
    "coke0 = coke.iloc[0,0]\n",
    "aapl0 = aapl.iloc[0,0]\n",
    "\n",
    "coke_norm = coke / coke0\n",
    "aapl_norm = aapl / aapl0\n",
    "df_norm = pd.merge(coke_norm[\"Close\"], aapl_norm[\"Close\"], on=\"Date\")\n",
    "df_norm.columns = [\"coke norm\", \"aapl norm\"]\n",
    "df_norm.plot();"
   ]
  },
  {
   "cell_type": "code",
   "execution_count": null,
   "metadata": {},
   "outputs": [],
   "source": [
    "coke = pdr.DataReader(\"COKE\", 'yahoo', '1980-01-01')"
   ]
  },
  {
   "cell_type": "code",
   "execution_count": null,
   "metadata": {},
   "outputs": [],
   "source": [
    "coke[\"Returns\"] = np.log(coke['Close'] / coke['Close'].shift(1))\n",
    "coke['MovingVol'] = coke['Returns'].rolling(window=252).std() * np.sqrt(252.)\n",
    "coke = coke[[\"Close\", \"Returns\", \"MovingVol\"]]\n",
    "coke = coke.dropna()\n",
    "coke[\"MovingVol\"].plot(title=\"Moving vol\");"
   ]
  },
  {
   "cell_type": "code",
   "execution_count": null,
   "metadata": {},
   "outputs": [],
   "source": [
    "maxVolAllowed = 0.4\n",
    "coke.loc[coke['MovingVol'] > maxVolAllowed, 'Signal'] = 0.6#coke[\"MovingVol\"].max()\n",
    "coke[[\"Signal\", \"MovingVol\"]].plot().legend(loc=3);"
   ]
  },
  {
   "cell_type": "markdown",
   "metadata": {},
   "source": [
    "# WARNINGS: Data inconsistencies\n",
    "\n",
    "- Missing data\n",
    "- NaN, -1, ...\n",
    "- Date format\n",
    "- Blank spaces\n",
    "- Formats: Int, float, ..."
   ]
  },
  {
   "cell_type": "markdown",
   "metadata": {},
   "source": [
    "Remark: `Pandas` is not very useful for big data. Use `Vaex`."
   ]
  }
 ],
 "metadata": {
  "kernelspec": {
   "display_name": "Python 3.9.6 64-bit",
   "language": "python",
   "name": "python3"
  },
  "language_info": {
   "codemirror_mode": {
    "name": "ipython",
    "version": 3
   },
   "file_extension": ".py",
   "mimetype": "text/x-python",
   "name": "python",
   "nbconvert_exporter": "python",
   "pygments_lexer": "ipython3",
   "version": "3.9.6"
  },
  "vscode": {
   "interpreter": {
    "hash": "b0fa6594d8f4cbf19f97940f81e996739fb7646882a419484c72d19e05852a7e"
   }
  },
  "zanadu": {
   "authors": [
    "Antoine Jacquier"
   ],
   "bibliography_data": {},
   "category": "1",
   "clearance": "Internal",
   "group_name": "ImperialMScMathFin",
   "md5": "eb94a4591792ac518e74718f24d3518b",
   "notebook_id": "447AA43B-C491-485B-A1CD-F530C9FFB8B8",
   "python_name": null,
   "reviewer_id": "B81D4EC4-269D-42B3-9975-85BC42EE5712",
   "status": "Approved"
  }
 },
 "nbformat": 4,
 "nbformat_minor": 4
}
