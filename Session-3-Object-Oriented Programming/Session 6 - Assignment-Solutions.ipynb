{
 "cells": [
  {
   "cell_type": "markdown",
   "metadata": {},
   "source": [
    "# Exercise 1\n",
    "\n",
    "## Create a deck of cards class. Internally, the deck of cards should use another class, a card class. Your requirements are:\n",
    "\n",
    "### 1. The Deck class should have a deal method to deal a single card from the deck\n",
    "### 2. After a card is dealt, it is removed from the deck.\n",
    "### 3. There should be a shuffle method which makes sure the deck of cards has all 52 cards and then rearranges them randomly.\n",
    "### 4. The Card class should have a suit (Hearts, Diamonds, Clubs, Spades) and a value (A,2,3,4,5,6,7,8,9,10,J,Q,K)"
   ]
  },
  {
   "cell_type": "markdown",
   "metadata": {},
   "source": [
    "### Hint: You may fund usefull the shuffle function in the random library"
   ]
  },
  {
   "cell_type": "code",
   "execution_count": 2,
   "metadata": {},
   "outputs": [],
   "source": [
    "from random import shuffle\n",
    "\n",
    "class Card:\n",
    "    def __init__(self, suit, value):\n",
    "        self.suit = suit\n",
    "        self.value = value\n",
    "\n",
    "    def __repr__(self):\n",
    "        return \"{} of {}\".format(self.value, self.suit)\n",
    "\n",
    "    class Deck:\n",
    "        def __init__(self):\n",
    "            suits = ['Hearts','Diamonds','Clubs','Spades'] \n",
    "            values = ['A','2','3','4','5','6','7','8','9','10','J','Q','K']\n",
    "            self.cards = [Card(suit, value) for suit in suits for value in values]\n",
    "\n",
    "        def __repr__(self):\n",
    "            return \"Cards remaining in deck: {}\".format(len(self.cards))\n",
    "\n",
    "        def shuffle(self):\n",
    "            if len(self.cards) < 52:\n",
    "                raise ValueError(\"Only full decks can be shuffled\")\n",
    "            shuffle(self.cards)\n",
    "            return self\n",
    "\n",
    "        def deal(self):\n",
    "            if len(self.cards) == 0:\n",
    "                raise ValueError(\"All cards have been dealt\")\n",
    "            return self.cards.pop()\n"
   ]
  },
  {
   "cell_type": "markdown",
   "metadata": {},
   "source": [
    "# Exercise 2:\n",
    "### Create a Python class called BankAccount which represents a bank account, having as attributes: accountNumber (numeric type), name (name of the account owner as string type), balance.\n",
    "### 1. Create a constructor with parameters: accountNumber, name, balance.\n",
    "### 2. Create a Deposit() method which manages the deposit actions.\n",
    "### 3. Create a Withdrawal() method  which manages withdrawals actions.\n",
    "### 4. Create an bankFees() method to apply a bank fee with a percentage of 5% of the balance account.\n",
    "### 5 .Create a display() method to display account details.\n",
    "\n"
   ]
  },
  {
   "cell_type": "code",
   "execution_count": 4,
   "metadata": {},
   "outputs": [],
   "source": [
    "class BankAccount:\n",
    "    # create the constuctor with parameters: accountNumber, name and balance \n",
    "    def __init__(self,accountNumber, name, balance):\n",
    "        self.accountNumber = accountNumber\n",
    "        self.name = name\n",
    "        self.balance = balance\n",
    "        \n",
    "    # create Deposit() method\n",
    "    def Deposit(self , d ):\n",
    "        self.balance = self.balance + d\n",
    "    \n",
    "    # create Withdrawal method\n",
    "    def Withdrawal(self , w):\n",
    "        if(self.balance < w):\n",
    "            print(\"impossible operation! Insufficient balance !\")\n",
    "        else:\n",
    "            self.balance = self.balance - w\n",
    "    # create bankFees() method\n",
    "    def bankFees(self):\n",
    "        self.balance = (95/100)*self.balance\n",
    "        \n",
    "    # create display() method\n",
    "    def display(self):\n",
    "        print(\"Account Number : \" , self.accountNumber)\n",
    "        print(\"Account Name : \" , self.name)\n",
    "        print(\"Account Balance : \" , self.balance , \" $\")"
   ]
  }
 ],
 "metadata": {
  "kernelspec": {
   "display_name": "Python 3",
   "language": "python",
   "name": "python3"
  },
  "language_info": {
   "codemirror_mode": {
    "name": "ipython",
    "version": 3
   },
   "file_extension": ".py",
   "mimetype": "text/x-python",
   "name": "python",
   "nbconvert_exporter": "python",
   "pygments_lexer": "ipython3",
   "version": "3.6.9"
  }
 },
 "nbformat": 4,
 "nbformat_minor": 4
}
