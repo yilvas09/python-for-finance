{
 "cells": [
  {
   "cell_type": "markdown",
   "id": "9d2dece1",
   "metadata": {},
   "source": [
    "## Launch rest API"
   ]
  },
  {
   "cell_type": "markdown",
   "id": "57baa9df",
   "metadata": {},
   "source": [
    "### You will need torun this on a command line terminal"
   ]
  },
  {
   "cell_type": "code",
   "execution_count": null,
   "id": "112d695e",
   "metadata": {},
   "outputs": [],
   "source": [
    "!python3 flask_rest_api.py ### for Mac/Linux without anaconda"
   ]
  },
  {
   "cell_type": "code",
   "execution_count": null,
   "id": "123a7798",
   "metadata": {},
   "outputs": [],
   "source": [
    "!python flask_rest_api.py ### for any OS with anaconda"
   ]
  },
  {
   "cell_type": "markdown",
   "id": "198093e4",
   "metadata": {},
   "source": [
    "## Create a request"
   ]
  },
  {
   "cell_type": "markdown",
   "id": "4f24eb1a",
   "metadata": {},
   "source": [
    "## 1) If you are running Linux or Mac you can make a request in the terminal by using curl"
   ]
  },
  {
   "cell_type": "code",
   "execution_count": null,
   "id": "343b4ac5",
   "metadata": {},
   "outputs": [],
   "source": [
    "!curl -i -H \"Content-Type:application/json\" -X POST -d '{\"numbers\":[1,2,3,25]}' http://127.0.0.1:5000/test"
   ]
  },
  {
   "cell_type": "markdown",
   "id": "f1bf391e",
   "metadata": {},
   "source": [
    "## 2) For an OS independent approach you can use python's requests library"
   ]
  },
  {
   "cell_type": "code",
   "execution_count": null,
   "id": "f3de21c4",
   "metadata": {},
   "outputs": [],
   "source": [
    "import requests\n",
    "\n",
    "url = 'http://127.0.0.1:5000/test'\n",
    "myobj = '{\"numbers\":[1,2,3,25]}'\n",
    "headers = {'Content-type': 'application/json', 'Accept': 'text/plain'}\n",
    "x = requests.post(url,data = myobj,headers=headers)\n",
    "\n",
    "print(x.text)\n",
    "print(x.content)\n",
    "print(x.headers)\n",
    "result_dictionary=x.json()\n",
    "result_dictionary['sum']"
   ]
  }
 ],
 "metadata": {
  "kernelspec": {
   "display_name": "Python 3 (ipykernel)",
   "language": "python",
   "name": "python3"
  },
  "language_info": {
   "codemirror_mode": {
    "name": "ipython",
    "version": 3
   },
   "file_extension": ".py",
   "mimetype": "text/x-python",
   "name": "python",
   "nbconvert_exporter": "python",
   "pygments_lexer": "ipython3",
   "version": "3.8.10"
  }
 },
 "nbformat": 4,
 "nbformat_minor": 5
}
