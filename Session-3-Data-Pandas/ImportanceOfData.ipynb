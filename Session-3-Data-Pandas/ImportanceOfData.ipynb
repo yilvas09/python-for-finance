{
 "cells": [
  {
   "cell_type": "markdown",
   "metadata": {},
   "source": [
    "# **THE IMPORTANCE OF DATA**\n",
    "---\n",
    "<img src=\"http://www.doc.ic.ac.uk/~afd/images/logo_imperial_college_london.png\" align = \"left\" width=200>\n",
    " <br><br><br><br>\n",
    " \n",
    "- Copyright (c) Antoine Jacquier, 2022. All rights reserved\n",
    "\n",
    "- Author: Jack Jacquier <a.jacquier@imperial.ac.uk>\n",
    "\n",
    "- Platform: Tested on Windows 10 with Python 3.9"
   ]
  },
  {
   "cell_type": "markdown",
   "metadata": {},
   "source": [
    "## Some topical data problems....."
   ]
  },
  {
   "cell_type": "markdown",
   "metadata": {},
   "source": [
    "### NHS COVID DATA October 2020\n",
    "https://www.bbc.co.uk/news/uk-54422505"
   ]
  },
  {
   "cell_type": "markdown",
   "metadata": {},
   "source": [
    "Run the following cell, first with N = 100, then with N = 1,100,000, and open the two csv files in Excel. What happens?"
   ]
  },
  {
   "cell_type": "code",
   "execution_count": null,
   "metadata": {},
   "outputs": [],
   "source": [
    "import numpy as np\n",
    "import csv"
   ]
  },
  {
   "cell_type": "code",
   "execution_count": null,
   "metadata": {},
   "outputs": [],
   "source": [
    "#N = 1000\n",
    "N = 1100000\n",
    "xx = np.random.normal(0.,1.,N)\n",
    "fileName = \"DataFile\" + str(N) + \".csv\"\n",
    "\n",
    "with open(fileName, 'w', newline='') as file:\n",
    "    writer = csv.writer(file)\n",
    "    writer.writerow([\"Index\", \"X\"])\n",
    "    for (i,x) in enumerate(xx):\n",
    "        writer.writerow([i, x])"
   ]
  },
  {
   "cell_type": "markdown",
   "metadata": {},
   "source": [
    "Is N = 2 million a large number?"
   ]
  },
  {
   "cell_type": "markdown",
   "metadata": {},
   "source": [
    "Let us look at FX data between GBP and EUR: https://www.truefx.com/truefx-historical-downloads/#66-67-january-1580847539"
   ]
  },
  {
   "cell_type": "code",
   "execution_count": null,
   "metadata": {},
   "outputs": [],
   "source": [
    "import pandas as pd\n",
    "## I imported the file locally. You may want to check the path to file above\n",
    "df = pd.read_csv(\"EURGBP-2020-01.csv\", header = None)\n",
    "df.info()"
   ]
  },
  {
   "cell_type": "markdown",
   "metadata": {},
   "source": [
    "Looking at the top five rows"
   ]
  },
  {
   "cell_type": "code",
   "execution_count": null,
   "metadata": {},
   "outputs": [],
   "source": [
    "df.head()"
   ]
  },
  {
   "cell_type": "markdown",
   "metadata": {},
   "source": [
    "Looking at the bottom five rows"
   ]
  },
  {
   "cell_type": "code",
   "execution_count": null,
   "metadata": {},
   "outputs": [],
   "source": [
    "df.tail()"
   ]
  },
  {
   "cell_type": "markdown",
   "metadata": {},
   "source": [
    "Cleaning and visualising (more on `pandas` and dataframe in another session)"
   ]
  },
  {
   "cell_type": "code",
   "execution_count": null,
   "metadata": {},
   "outputs": [],
   "source": [
    "df = df.drop([0], axis=1)\n",
    "df.columns = [\"Date\", \"Bid\", \"Ask\"]\n",
    "df[\"Date\"] = pd.to_datetime(df[\"Date\"])\n",
    "df = df.set_index(\"Date\")\n",
    "df[[\"Bid\", \"Ask\"]].plot()"
   ]
  },
  {
   "cell_type": "markdown",
   "metadata": {},
   "source": [
    "### Misleading Visualisation (often on purpose)\n",
    "\n",
    "https://venngage.com/blog/misleading-graphs/"
   ]
  },
  {
   "cell_type": "markdown",
   "metadata": {},
   "source": [
    "## Where to find data?"
   ]
  },
  {
   "cell_type": "markdown",
   "metadata": {},
   "source": [
    "Internet is a goldmine for data. Not all data are free, but a large amount, on every topic, is (subject to copyright). We indicate below a few such sources that might be of interest in the context of Economics / Finance, as well as a few others (to broaden your horizons beyond the lure of the financial industry):\n",
    "- <a href=\"https://docs.quandl.com/\"> Quandl</a>:  vast collection of economic, financial, and market data collected from a wide variety of sources.\n",
    "- <a href=\"https://trends.google.com/trends/?geo=UK\"> Google Trends</a>\n",
    "- Be careful with <a href=\"https://ico.org.uk/for-organisations/guide-to-data-protection/guide-to-the-general-data-protection-regulation-gdpr/key-definitions/what-is-personal-data/\">Personal data</a> and <a href=\"http://www.oecd.org/sti/intellectual-property-statistics-and-analysis.htm\">Intellectual property</a>. Legal issues may arise.... "
   ]
  },
  {
   "cell_type": "markdown",
   "metadata": {},
   "source": [
    "## `yahoo_fin`\n",
    "\n",
    "`yahoo_fin` is a package to download lots of financial data on companies and traded stocks, indices, ...\n",
    "https://pypi.org/project/yahoo-fin/\n",
    "\n",
    "The functions in `yahoo_fin` are grouped into two modules:\n",
    "- `stock_info`\n",
    "- `options`"
   ]
  },
  {
   "cell_type": "markdown",
   "metadata": {},
   "source": [
    "### The `stock_info` package"
   ]
  },
  {
   "cell_type": "code",
   "execution_count": null,
   "metadata": {},
   "outputs": [],
   "source": [
    "## %pip install yahoo_fin"
   ]
  },
  {
   "cell_type": "code",
   "execution_count": null,
   "metadata": {},
   "outputs": [],
   "source": [
    "import yahoo_fin.stock_info as si"
   ]
  },
  {
   "cell_type": "code",
   "execution_count": null,
   "metadata": {},
   "outputs": [],
   "source": [
    "aapl = si.get_data(\"aapl\") # gets Apple's data\n",
    "aapl.head()"
   ]
  },
  {
   "cell_type": "code",
   "execution_count": null,
   "metadata": {},
   "outputs": [],
   "source": [
    "aapl.tail()"
   ]
  },
  {
   "cell_type": "markdown",
   "metadata": {},
   "source": [
    "You can also pull data for a specific date range, as follows:"
   ]
  },
  {
   "cell_type": "code",
   "execution_count": null,
   "metadata": {},
   "outputs": [],
   "source": [
    "si.get_data(\"amzn\", start_date = \"01/01/2017\", end_date = \"01/31/2017\")"
   ]
  },
  {
   "cell_type": "markdown",
   "metadata": {},
   "source": [
    "**Question:** Why are 2017/01/01 and 2017/01/02 missing?"
   ]
  },
  {
   "cell_type": "markdown",
   "metadata": {},
   "source": [
    "You can also get the list of all the tickers in the S&P 500:"
   ]
  },
  {
   "cell_type": "code",
   "execution_count": null,
   "metadata": {},
   "outputs": [],
   "source": [
    "listTickers = si.tickers_sp500()"
   ]
  },
  {
   "cell_type": "code",
   "execution_count": null,
   "metadata": {},
   "outputs": [],
   "source": [
    "len(listTickers)"
   ]
  },
  {
   "cell_type": "markdown",
   "metadata": {},
   "source": [
    "You can get the live price"
   ]
  },
  {
   "cell_type": "code",
   "execution_count": null,
   "metadata": {},
   "outputs": [],
   "source": [
    "import numpy as np\n",
    "n = np.random.randint(0, len(listTickers))"
   ]
  },
  {
   "cell_type": "code",
   "execution_count": null,
   "metadata": {},
   "outputs": [],
   "source": [
    "ticker = listTickers[n]\n",
    "print(n, ticker)"
   ]
  },
  {
   "cell_type": "code",
   "execution_count": null,
   "metadata": {},
   "outputs": [],
   "source": [
    "si.get_live_price(ticker) "
   ]
  },
  {
   "cell_type": "markdown",
   "metadata": {},
   "source": [
    "You can also get a quote table"
   ]
  },
  {
   "cell_type": "code",
   "execution_count": null,
   "metadata": {},
   "outputs": [],
   "source": [
    "si.get_quote_table(ticker, dict_result = False)"
   ]
  },
  {
   "cell_type": "markdown",
   "metadata": {},
   "source": [
    "You can also look at Cryptocurrencies:"
   ]
  },
  {
   "cell_type": "code",
   "execution_count": null,
   "metadata": {},
   "outputs": [],
   "source": [
    "si.get_top_crypto()"
   ]
  },
  {
   "cell_type": "code",
   "execution_count": null,
   "metadata": {},
   "outputs": [],
   "source": [
    "# most active stocks on the day\n",
    "si.get_day_most_active()\n",
    " \n",
    "# best stocks\n",
    "#si.get_day_gainers()\n",
    " \n",
    "# worst stocks\n",
    "#si.get_day_losers()"
   ]
  },
  {
   "cell_type": "markdown",
   "metadata": {},
   "source": [
    "#### Scraping financial data"
   ]
  },
  {
   "cell_type": "markdown",
   "metadata": {},
   "source": [
    "Financials, such as income statements, balance sheets, and cash flows can be scraped using `yahoo_fin`."
   ]
  },
  {
   "cell_type": "code",
   "execution_count": null,
   "metadata": {},
   "outputs": [],
   "source": [
    "income_statement = si.get_income_statement(ticker)\n",
    "balance_sheet = si.get_balance_sheet(ticker)\n",
    "cash_flow = si.get_cash_flow(ticker)\n",
    "\n",
    "income_statement\n",
    "#print(balance_sheet)\n",
    "#print(cash_flow)"
   ]
  },
  {
   "cell_type": "markdown",
   "metadata": {},
   "source": [
    "#### Getting major stock holders"
   ]
  },
  {
   "cell_type": "markdown",
   "metadata": {},
   "source": [
    "Getting the major holders of a stock can be done with the get_holders function."
   ]
  },
  {
   "cell_type": "code",
   "execution_count": null,
   "metadata": {},
   "outputs": [],
   "source": [
    "holders = si.get_holders(ticker)"
   ]
  },
  {
   "cell_type": "markdown",
   "metadata": {},
   "source": [
    "This returns a dictionary. We can check the keys:"
   ]
  },
  {
   "cell_type": "code",
   "execution_count": null,
   "metadata": {},
   "outputs": [],
   "source": [
    "holders.keys()"
   ]
  },
  {
   "cell_type": "markdown",
   "metadata": {},
   "source": [
    "and the values are `pandas` dataframes (another session).\n",
    "We can return the top institutional holder:"
   ]
  },
  {
   "cell_type": "code",
   "execution_count": null,
   "metadata": {},
   "outputs": [],
   "source": [
    "info = holders[\"Top Institutional Holders\"]\n",
    "print(\"The top institutional hold is %s and owns %i dollars\" %(info.Holder[0],info.Value[0]))"
   ]
  },
  {
   "cell_type": "markdown",
   "metadata": {},
   "source": [
    "Examples on other indices:"
   ]
  },
  {
   "cell_type": "code",
   "execution_count": null,
   "metadata": {},
   "outputs": [],
   "source": [
    "# get list of Dow stocks\n",
    "dow_list = si.tickers_dow()\n",
    " \n",
    "# get list of NASDAQ stocks\n",
    "nasdaq_list = si.tickers_nasdaq()"
   ]
  },
  {
   "cell_type": "markdown",
   "metadata": {},
   "source": [
    "### The `options` package"
   ]
  },
  {
   "cell_type": "code",
   "execution_count": null,
   "metadata": {},
   "outputs": [],
   "source": [
    "from yahoo_fin import options"
   ]
  },
  {
   "cell_type": "code",
   "execution_count": null,
   "metadata": {},
   "outputs": [],
   "source": [
    "ticker = \"amzn\""
   ]
  },
  {
   "cell_type": "markdown",
   "metadata": {},
   "source": [
    "Get all the expirations date for the options on a given stock"
   ]
  },
  {
   "cell_type": "code",
   "execution_count": null,
   "metadata": {},
   "outputs": [],
   "source": [
    "maturities = options.get_expiration_dates(ticker)\n",
    "maturities"
   ]
  },
  {
   "cell_type": "markdown",
   "metadata": {},
   "source": [
    "Importing all the options on a given stock on a given maturity"
   ]
  },
  {
   "cell_type": "code",
   "execution_count": null,
   "metadata": {},
   "outputs": [],
   "source": [
    "chain = options.get_options_chain(ticker)\n",
    "calls = chain[\"calls\"]\n",
    "puts = chain[\"puts\"]\n",
    "calls.tail()"
   ]
  },
  {
   "cell_type": "code",
   "execution_count": null,
   "metadata": {},
   "outputs": [],
   "source": [
    "si.get_live_price(\"amzn\") "
   ]
  },
  {
   "cell_type": "markdown",
   "metadata": {},
   "source": [
    "To get the options for a specific maturity:"
   ]
  },
  {
   "cell_type": "code",
   "execution_count": null,
   "metadata": {},
   "outputs": [],
   "source": [
    "T = maturities[4]"
   ]
  },
  {
   "cell_type": "code",
   "execution_count": null,
   "metadata": {},
   "outputs": [],
   "source": [
    "allOptionsT = options.get_options_chain(ticker, T)\n",
    "allCallsT = options.get_calls(ticker, T)\n",
    "allPutsT = options.get_puts(ticker, T)"
   ]
  },
  {
   "cell_type": "markdown",
   "metadata": {},
   "source": [
    "Getting the options for each maturity (*takes some time*)"
   ]
  },
  {
   "cell_type": "code",
   "execution_count": null,
   "metadata": {},
   "outputs": [],
   "source": [
    "info = {}\n",
    "#for date in maturities:\n",
    "#    info[date] = options.get_options_chain(ticker, date)"
   ]
  },
  {
   "cell_type": "markdown",
   "metadata": {},
   "source": [
    "------"
   ]
  },
  {
   "cell_type": "markdown",
   "metadata": {},
   "source": [
    "## Quandl"
   ]
  },
  {
   "cell_type": "markdown",
   "metadata": {},
   "source": [
    "Quandl (https://www.quandl.com/) is self-described as *\"The premier source for financial, economic, and alternative datasets, serving investment professionals. Quandl's platform is used by over 400,000 people, including analysts from the world's top hedge funds, asset managers and investment banks.\"* Some of the data on Quandl is available to their institutional clients only, whereas other datasets are open to everyone."
   ]
  },
  {
   "cell_type": "markdown",
   "metadata": {},
   "source": [
    "Need to create an account (free) to get an api."
   ]
  },
  {
   "cell_type": "code",
   "execution_count": null,
   "metadata": {},
   "outputs": [],
   "source": [
    "myapi = \"\""
   ]
  },
  {
   "cell_type": "markdown",
   "metadata": {},
   "source": [
    "Data from quandl: for example, the Federal Reserve Economic Data (FRED):"
   ]
  },
  {
   "cell_type": "markdown",
   "metadata": {},
   "source": [
    "* Natural Rate of Unemployment (Short-Term) (FRED/NROUST)\n",
    "* Real Potential Gross Domestic Product (FRED/GDPPOT)\n",
    "* Nominal Potential Gross Domestic Product (FRED/NGDPPOT)\n",
    "* Natural Rate of Unemployment (Long-Term) (FRED/NROU)\n",
    "* FOMC Summary of Economic Projections for the Civilian Unemployment Rate, Median (FRED/UNRATEMD)\n",
    "* FOMC Summary of Economic Projections for the Growth Rate of Real Gross Domestic Product, Median (FRED/GDPC1MD)\n",
    "* FOMC Summary of Economic Projections for the Personal Consumption Expenditures Inflation Rate, Median (FRED/PCECTPIMD)\n",
    "* FOMC Summary of Economic Projections for the Personal Consumption Expenditures less Food and Energy Inflation Rate, Median (FRED/JCXFEMD)\n",
    "* FOMC Summary of Economic Projections for the Fed Funds Rate, Range, Low (FRED/FEDTARRL)\n",
    "* FOMC Summary of Economic Projections for the Fed Funds Rate, Range, Midpoint (FRED/FEDTARRM)\n",
    "* FOMC Summary of Economic Projections for the Fed Funds Rate, Range, High (FRED/FEDTARRH)\n",
    "* ...\n"
   ]
  },
  {
   "cell_type": "markdown",
   "metadata": {},
   "source": [
    "Consider the Civilian Unemployment Rate (FRED/UNRATE): https://www.quandl.com/data/FRED/UNRATE-Civilian-Unemployment-Rate"
   ]
  },
  {
   "cell_type": "code",
   "execution_count": null,
   "metadata": {},
   "outputs": [],
   "source": [
    "import quandl\n",
    "\n",
    "data_unrate = quandl.get('FRED/UNRATE', api_key=myapi)\n",
    "\n",
    "data_unrate.head()"
   ]
  },
  {
   "cell_type": "code",
   "execution_count": null,
   "metadata": {},
   "outputs": [],
   "source": [
    "data_unrate['Value'].plot();"
   ]
  },
  {
   "cell_type": "markdown",
   "metadata": {},
   "source": [
    "#### Question: is there a relationship between the unemployment rate and the value of the S&P 500?"
   ]
  },
  {
   "cell_type": "code",
   "execution_count": null,
   "metadata": {},
   "outputs": [],
   "source": [
    "import yahoo_fin.stock_info as si\n",
    "import datetime as dt\n",
    "import matplotlib.pylab as plt\n",
    "\n",
    "snp500 = si.get_data(\"^GSPC\")"
   ]
  },
  {
   "cell_type": "code",
   "execution_count": null,
   "metadata": {},
   "outputs": [],
   "source": [
    "snp500.head()"
   ]
  },
  {
   "cell_type": "code",
   "execution_count": null,
   "metadata": {},
   "outputs": [],
   "source": [
    "snp500 = snp500.loc[dt.date(1990, 1, 1):]\n",
    "data_unrate = data_unrate.loc[dt.date(1990, 1, 1):]"
   ]
  },
  {
   "cell_type": "code",
   "execution_count": null,
   "metadata": {},
   "outputs": [],
   "source": [
    "fig, ax1 = plt.subplots()\n",
    "ax1.plot(snp500.index, snp500['close'], color='green', label=\"S&P\")\n",
    "ax2 = ax1.twinx()\n",
    "ax2.plot(data_unrate.index, data_unrate['Value'], color='red', label=\"Unemployment\")\n",
    "fig.tight_layout()\n",
    "fig.subplots_adjust(bottom=0.2)\n",
    "fig.legend(loc=\"upper left\");"
   ]
  },
  {
   "cell_type": "markdown",
   "metadata": {},
   "source": [
    "----------"
   ]
  },
  {
   "cell_type": "markdown",
   "metadata": {},
   "source": [
    "## Alpha Vantage"
   ]
  },
  {
   "cell_type": "markdown",
   "metadata": {},
   "source": [
    "Free API for real-time and historical stock and FX data, digital/crypto currency data, and many technical indicators\n",
    "\n",
    "https://www.alphavantage.co/\n",
    "\n",
    "It offers higher frequency data than Yahoo! Finance."
   ]
  },
  {
   "cell_type": "code",
   "execution_count": null,
   "metadata": {},
   "outputs": [],
   "source": [
    "##!pip install alpha_vantage"
   ]
  },
  {
   "cell_type": "code",
   "execution_count": null,
   "metadata": {},
   "outputs": [],
   "source": [
    "myapi = \"\" ## you need to obtain (for free) an API on their website"
   ]
  },
  {
   "cell_type": "markdown",
   "metadata": {},
   "source": [
    "Then, to download minute AAPL data,"
   ]
  },
  {
   "cell_type": "code",
   "execution_count": null,
   "metadata": {},
   "outputs": [],
   "source": [
    "from alpha_vantage.timeseries import TimeSeries\n",
    "\n",
    "ts = TimeSeries(key=myapi, output_format='pandas')\n",
    "\n",
    "intraday_data, data_info = ts.get_intraday('AAPL', outputsize='full', interval='1min')"
   ]
  },
  {
   "cell_type": "code",
   "execution_count": null,
   "metadata": {},
   "outputs": [],
   "source": [
    "data_info"
   ]
  },
  {
   "cell_type": "code",
   "execution_count": null,
   "metadata": {},
   "outputs": [],
   "source": [
    "intraday_data.info()"
   ]
  },
  {
   "cell_type": "code",
   "execution_count": null,
   "metadata": {},
   "outputs": [],
   "source": [
    "intraday_data.head()"
   ]
  },
  {
   "cell_type": "code",
   "execution_count": null,
   "metadata": {},
   "outputs": [],
   "source": [
    "intraday_data['4. close'].plot(style=\".\")\n",
    "plt.xticks(rotation=45)"
   ]
  },
  {
   "cell_type": "markdown",
   "metadata": {},
   "source": [
    "## Webscraping"
   ]
  },
  {
   "cell_type": "code",
   "execution_count": null,
   "metadata": {},
   "outputs": [],
   "source": [
    "from bs4 import BeautifulSoup\n",
    "import pandas as pd\n",
    "import requests"
   ]
  },
  {
   "cell_type": "markdown",
   "metadata": {},
   "source": [
    "### Read data from webpage"
   ]
  },
  {
   "cell_type": "code",
   "execution_count": null,
   "metadata": {},
   "outputs": [],
   "source": [
    "url = \"https://en.wikipedia.org/wiki/BNP_Paribas\"\n",
    "content = requests.get(url).content\n",
    "soup = BeautifulSoup(content,'html.parser')"
   ]
  },
  {
   "cell_type": "code",
   "execution_count": null,
   "metadata": {},
   "outputs": [],
   "source": [
    "atags = soup.find_all(\"a\") ## Viewing all data embedded in a tag"
   ]
  },
  {
   "cell_type": "code",
   "execution_count": null,
   "metadata": {},
   "outputs": [],
   "source": [
    "## Extracts only the relevant table\n",
    "table = soup.find_all(class_=\"wikitable\")[0]\n",
    "print(\"The html version of the table from the Wikipedia page reads: \")\n",
    "print(\"**********************\")\n",
    "print(table.prettify()) ##  The prettify command adds indentation\n",
    "print(\"**********************\")"
   ]
  },
  {
   "cell_type": "code",
   "execution_count": null,
   "metadata": {},
   "outputs": [],
   "source": [
    "index = [[th.text.strip() for th in tr.findChildren('th')] for tr in table.findChildren('tr')][0][1:]\n",
    "data = [[td.text.strip() for td in tr.findChildren('td')] for tr in table.findChildren('tr')][1:]"
   ]
  },
  {
   "cell_type": "code",
   "execution_count": null,
   "metadata": {},
   "outputs": [],
   "source": [
    "cols = [d[0] for d in data]\n",
    "values = np.transpose([d[1:] for d in data])\n",
    "df = pd.DataFrame (data = values, index = index, columns = cols)\n",
    "df.head()"
   ]
  },
  {
   "cell_type": "markdown",
   "metadata": {},
   "source": [
    "### Scraping for dynamic web content\n",
    "\n",
    "Selenium\n",
    "\n",
    "See also https://www.scrapingdog.com/blog/web-scraping-with-python/"
   ]
  },
  {
   "cell_type": "markdown",
   "metadata": {},
   "source": [
    "## Data visualisation"
   ]
  },
  {
   "cell_type": "markdown",
   "metadata": {
    "zanadu": {}
   },
   "source": [
    "### Matplotlib"
   ]
  },
  {
   "cell_type": "markdown",
   "metadata": {
    "zanadu": {}
   },
   "source": [
    "Historically, the package of choice to visualise data in Python was matplotlib, introduced in 2003, and based on a MATLAB-like interface, and originally conceived to visualise Electrocorticography data of epilepsy patients.\n",
    "\n",
    "https://matplotlib.org/"
   ]
  },
  {
   "cell_type": "code",
   "execution_count": null,
   "metadata": {
    "zanadu": {
     "code_type": "",
     "is_hidden": false
    }
   },
   "outputs": [],
   "source": [
    "import matplotlib.pyplot as plt\n",
    "import numpy as np"
   ]
  },
  {
   "cell_type": "markdown",
   "metadata": {
    "zanadu": {}
   },
   "source": [
    "#### Simple plot"
   ]
  },
  {
   "cell_type": "code",
   "execution_count": null,
   "metadata": {},
   "outputs": [],
   "source": [
    "aa = np.linspace(0, 10, 100)\n",
    "bb = np.exp(-aa)\n",
    "plt.plot(aa, bb)\n",
    "plt.show()"
   ]
  },
  {
   "cell_type": "markdown",
   "metadata": {
    "zanadu": {}
   },
   "source": [
    "**Question: what is wrong with the graph?**"
   ]
  },
  {
   "cell_type": "code",
   "execution_count": null,
   "metadata": {
    "zanadu": {
     "code_type": "",
     "is_hidden": true
    }
   },
   "outputs": [],
   "source": [
    "def f(x): \n",
    "    return np.exp(-x)\n",
    "def g(x): \n",
    "    return np.exp(-x)+np.random.normal(0.,1)\n",
    "aa = np.linspace(0, 10, 100)\n",
    "bb = f(aa)\n",
    "cc = g(aa)\n",
    "dd = cc-bb\n",
    "plt.plot(aa, dd, 'b', linewidth=3)\n",
    "#plt.plot(aa, cc, 'r', linewidth=3)\n",
    "plt.title('Differences')\n",
    "#plt.title('Function $x \\mapsto e^{-x}$')\n",
    "plt.xlabel(\"x values\")\n",
    "plt.show()"
   ]
  },
  {
   "cell_type": "markdown",
   "metadata": {
    "zanadu": {}
   },
   "source": [
    "#### Empirical histogram"
   ]
  },
  {
   "cell_type": "code",
   "execution_count": null,
   "metadata": {
    "zanadu": {
     "code_type": "",
     "is_hidden": false
    }
   },
   "outputs": [],
   "source": [
    "xx = np.random.normal(size=20000)\n",
    "\n",
    "plt.hist(xx, bins=50)\n",
    "plt.title('Empirical histogram of a Gaussian sample')\n",
    "plt.show()"
   ]
  },
  {
   "cell_type": "markdown",
   "metadata": {
    "zanadu": {}
   },
   "source": [
    "#### Scatter plot"
   ]
  },
  {
   "cell_type": "code",
   "execution_count": null,
   "metadata": {
    "zanadu": {
     "code_type": "",
     "is_hidden": false
    }
   },
   "outputs": [],
   "source": [
    "n = 100000\n",
    "fig, ax = plt.subplots(nrows=1, ncols=2, figsize=(10, 4))\n",
    "plt.subplot(1, 2, 1)\n",
    "aa = np.random.normal(0., 3., n)\n",
    "bb = np.random.normal(0., 1., n)\n",
    "plt.scatter(aa, bb, color='r')\n",
    "plt.title('Scatter plot of a Gaussian sample')\n",
    "\n",
    "plt.subplot(1, 2, 2)\n",
    "aa = np.random.rand(n)\n",
    "bb = np.random.rand(n)\n",
    "plt.scatter(aa, bb, color='b')\n",
    "plt.title('Scatter plot of a Uniform sample')\n",
    "plt.show()"
   ]
  },
  {
   "cell_type": "markdown",
   "metadata": {
    "zanadu": {}
   },
   "source": [
    "#### 3D Plot"
   ]
  },
  {
   "cell_type": "code",
   "execution_count": null,
   "metadata": {
    "zanadu": {
     "code_type": "",
     "is_hidden": false
    }
   },
   "outputs": [],
   "source": [
    "from mpl_toolkits.mplot3d import Axes3D\n",
    "fig = plt.figure()\n",
    "ax = fig.add_subplot(projection='3d')\n",
    "XX = np.arange(-5, 5, 0.5)\n",
    "YY = np.arange(-5, 5, 0.5)\n",
    "XX, YY = np.meshgrid(XX, YY)\n",
    "ZZ = XX**2 - YY**2\n",
    "surf = ax.plot_surface(XX, YY, ZZ, rstride=1, cstride=1)\n",
    "plt.show()"
   ]
  },
  {
   "cell_type": "markdown",
   "metadata": {
    "zanadu": {}
   },
   "source": [
    "### Seaborn"
   ]
  },
  {
   "cell_type": "markdown",
   "metadata": {
    "zanadu": {}
   },
   "source": [
    "Seaborn, introduced in 2012, provides an application programming interface (API) on top of matplotlib, with similar tools, but that can be called directly from a pandas DataFrame.\n",
    "\n",
    "https://seaborn.pydata.org/"
   ]
  },
  {
   "cell_type": "markdown",
   "metadata": {
    "zanadu": {}
   },
   "source": [
    "#### Seaborn vs matplotlib"
   ]
  },
  {
   "cell_type": "code",
   "execution_count": null,
   "metadata": {
    "zanadu": {
     "code_type": ""
    }
   },
   "outputs": [],
   "source": [
    "import matplotlib.pyplot as plt\n",
    "plt.style.use('classic')\n",
    "%matplotlib inline"
   ]
  },
  {
   "cell_type": "code",
   "execution_count": null,
   "metadata": {
    "zanadu": {
     "code_type": ""
    }
   },
   "outputs": [],
   "source": [
    "n, p = 1000, 5\n",
    "xx = np.linspace(0., 1., n)\n",
    "yy = np.cumsum(np.random.randn(n, p), axis=0)\n",
    "plt.plot(xx, yy)\n",
    "plt.legend('ABCDEF', ncol=2, loc=\"best\")\n",
    "plt.title(\"matplotlib Plot\")\n",
    "plt.show()"
   ]
  },
  {
   "cell_type": "markdown",
   "metadata": {},
   "source": [
    "*Beware of legend location*"
   ]
  },
  {
   "cell_type": "code",
   "execution_count": null,
   "metadata": {
    "zanadu": {
     "code_type": ""
    }
   },
   "outputs": [],
   "source": [
    "import seaborn as sns\n",
    "sns.set()\n",
    "# same plotting code as above!\n",
    "plt.plot(xx, yy)\n",
    "plt.legend('ABCEF', ncol=2, loc='upper left')\n",
    "plt.title(\"seaborn Plot\")\n",
    "plt.show()"
   ]
  },
  {
   "cell_type": "markdown",
   "metadata": {
    "zanadu": {}
   },
   "source": [
    "#### Seaborn tools"
   ]
  },
  {
   "cell_type": "markdown",
   "metadata": {
    "zanadu": {}
   },
   "source": [
    "##### Histograms"
   ]
  },
  {
   "cell_type": "code",
   "execution_count": null,
   "metadata": {
    "zanadu": {
     "code_type": ""
    }
   },
   "outputs": [],
   "source": [
    "meanVector = [0., 0.]\n",
    "covMatrix = [[5., 2.], [2., 2.]]\n",
    "data = np.random.multivariate_normal(meanVector, covMatrix, size=10000)\n",
    "data = pd.DataFrame(data, columns=['x', 'y'])\n",
    "\n",
    "for col in 'xy':\n",
    "    plt.hist(data[col], density=False, alpha=0.3, label=col)\n",
    "plt.legend('loc=best')\n",
    "plt.title('Empirical marginal distributions')\n",
    "plt.show()"
   ]
  },
  {
   "cell_type": "code",
   "execution_count": null,
   "metadata": {
    "zanadu": {
     "code_type": ""
    }
   },
   "outputs": [],
   "source": [
    "for col in 'xy':\n",
    "    sns.kdeplot(data[col], shade=True).set_title(\"Empirical marginal distributions\")"
   ]
  },
  {
   "cell_type": "markdown",
   "metadata": {},
   "source": [
    "https://seaborn.pydata.org/generated/seaborn.histplot.html"
   ]
  },
  {
   "cell_type": "code",
   "execution_count": null,
   "metadata": {
    "zanadu": {
     "code_type": ""
    }
   },
   "outputs": [],
   "source": [
    "sns.histplot(data['x'], label='x', color=\"r\", alpha=0.5, stat=\"probability\")\n",
    "sns.histplot(data['y'], label='y', color=\"b\", alpha=0.5, stat=\"probability\")\n",
    "plt.legend(loc='best')\n",
    "plt.show()"
   ]
  },
  {
   "cell_type": "markdown",
   "metadata": {
    "zanadu": {}
   },
   "source": [
    "##### Visualising the data in 2D"
   ]
  },
  {
   "cell_type": "code",
   "execution_count": null,
   "metadata": {},
   "outputs": [],
   "source": [
    "data.head()"
   ]
  },
  {
   "cell_type": "code",
   "execution_count": null,
   "metadata": {
    "zanadu": {
     "code_type": ""
    }
   },
   "outputs": [],
   "source": [
    "sns.kdeplot(data=data,x='x',y='y')"
   ]
  },
  {
   "cell_type": "code",
   "execution_count": null,
   "metadata": {
    "zanadu": {
     "code_type": ""
    }
   },
   "outputs": [],
   "source": [
    "with sns.axes_style('white'):\n",
    "    sns.jointplot(x=\"x\", y=\"y\", data=data, kind='kde');"
   ]
  },
  {
   "cell_type": "code",
   "execution_count": null,
   "metadata": {
    "zanadu": {
     "code_type": ""
    }
   },
   "outputs": [],
   "source": [
    "with sns.axes_style('white'):\n",
    "    sns.jointplot(x=\"x\", y=\"y\", data=data, kind='hex')"
   ]
  },
  {
   "cell_type": "code",
   "execution_count": null,
   "metadata": {
    "zanadu": {
     "code_type": ""
    }
   },
   "outputs": [],
   "source": [
    "### With a linear regression added\n",
    "with sns.axes_style('white'):\n",
    "    sns.jointplot(x=\"x\", y=\"y\", data=data, kind='reg')"
   ]
  },
  {
   "cell_type": "markdown",
   "metadata": {},
   "source": [
    "### Plotly\n",
    "\n",
    "Plotly provides online graphing, analytics, and statistics tools, as well as scientific graphing libraries.\n",
    "https://plotly.com/"
   ]
  },
  {
   "cell_type": "code",
   "execution_count": null,
   "metadata": {},
   "outputs": [],
   "source": [
    "## %pip install plotly"
   ]
  },
  {
   "cell_type": "code",
   "execution_count": null,
   "metadata": {},
   "outputs": [],
   "source": [
    "import yahoo_fin.stock_info as si\n",
    "aapl = si.get_data(\"aapl\")\n",
    "aapl.head()"
   ]
  },
  {
   "cell_type": "code",
   "execution_count": null,
   "metadata": {},
   "outputs": [],
   "source": [
    "ax = aapl['close'].plot(legend=True)"
   ]
  },
  {
   "cell_type": "code",
   "execution_count": null,
   "metadata": {},
   "outputs": [],
   "source": [
    "fig = ax.get_figure()\n",
    "import plotly.offline as py\n",
    "import plotly.graph_objs as go\n",
    "py.init_notebook_mode()\n",
    "py.iplot_mpl(fig, strip_style=True)"
   ]
  },
  {
   "cell_type": "markdown",
   "metadata": {},
   "source": [
    "Another type of plot in `plotly`:"
   ]
  },
  {
   "cell_type": "code",
   "execution_count": null,
   "metadata": {},
   "outputs": [],
   "source": [
    "df = pd.read_excel('Class 2022-2023.xlsx')\n",
    "## Disclaimer: randomly generated data\n",
    "#df = df.set_index(\"ID\")\n",
    "df.head()"
   ]
  },
  {
   "cell_type": "code",
   "execution_count": null,
   "metadata": {},
   "outputs": [],
   "source": [
    "variable = \"Gender\"\n",
    "series = df.groupby(by=[variable]).count().mean(axis=1)\n",
    "print(series.index)\n",
    "print(series.values)"
   ]
  },
  {
   "cell_type": "code",
   "execution_count": null,
   "metadata": {},
   "outputs": [],
   "source": [
    "trace0 = go.Bar(\n",
    "        x=series.index,\n",
    "        y=series.values,\n",
    "        name='Last year')\n",
    "\n",
    "data = [trace0]\n",
    "\n",
    "layout = {\n",
    "        'title': 'MSc Math Finance 2022-2023',\n",
    "        'xaxis': {'title': variable},\n",
    "        'yaxis': {'title': 'Number'},\n",
    "        'barmode': 'stack'}\n",
    "\n",
    "py.iplot({'data': data, 'layout': layout})"
   ]
  },
  {
   "cell_type": "markdown",
   "metadata": {},
   "source": [
    "### Bokeh\n",
    "\n",
    "`bokeh` helps you create interactive visualisations for modern web browsers.\n",
    "\n",
    "https://docs.bokeh.org/\n",
    "\n",
    "(likely origin: https://en.wikipedia.org/wiki/Bokeh)"
   ]
  },
  {
   "cell_type": "code",
   "execution_count": null,
   "metadata": {},
   "outputs": [],
   "source": [
    "## %pip install bokeh"
   ]
  },
  {
   "cell_type": "code",
   "execution_count": null,
   "metadata": {},
   "outputs": [],
   "source": [
    "import bokeh.plotting\n",
    "import bokeh.io\n",
    "import numpy as np"
   ]
  },
  {
   "cell_type": "code",
   "execution_count": null,
   "metadata": {},
   "outputs": [],
   "source": [
    "bokeh.io.output_notebook()"
   ]
  },
  {
   "cell_type": "code",
   "execution_count": null,
   "metadata": {},
   "outputs": [],
   "source": [
    "N = 4000\n",
    "x = np.random.random(size=N) * 100\n",
    "y = np.random.random(size=N) * 100\n",
    "radii = np.random.random(size=N) * 1.5\n",
    "colors = ['#%02x%02x%02x' % (int(r), int(g), 150) for r, g in zip(np.floor(50+2*x), np.floor(30+2*y))]\n",
    "p = bokeh.plotting.figure()\n",
    "p.circle(x, y, radius=radii, fill_color=colors, fill_alpha=.5, line_color=None)\n",
    "bokeh.plotting.show(p)"
   ]
  },
  {
   "cell_type": "markdown",
   "metadata": {},
   "source": [
    "#### Slider's example"
   ]
  },
  {
   "cell_type": "code",
   "execution_count": null,
   "metadata": {},
   "outputs": [],
   "source": [
    "import bokeh.plotting.figure as bk_figure\n",
    "from bokeh.io import curdoc, show\n",
    "from bokeh.layouts import row, widgetbox\n",
    "from bokeh.models import ColumnDataSource\n",
    "from bokeh.models.widgets import Slider, TextInput\n",
    "from bokeh.io import output_notebook # enables plot interface in J notebook\n",
    "\n",
    "from bokeh.application import Application\n",
    "from bokeh.application.handlers import FunctionHandler\n",
    "\n",
    "# Set up data\n",
    "n = 2000\n",
    "xx = np.linspace(-2.*np.pi, 2.*np.pi, n)\n",
    "yy = np.cos(xx)\n",
    "source = ColumnDataSource(data=dict(x=xx, y=yy))\n",
    "\n",
    "# Set up plot\n",
    "plot = bk_figure(plot_height=400, plot_width=400, title=\"Jack's wave\",\n",
    "              tools=\"crosshair,pan,reset,save,wheel_zoom\",\n",
    "              x_range=[np.min(xx), np.max(xx)], y_range=[np.min(yy), np.max(yy)])\n",
    "\n",
    "plot.line('x', 'y', source=source, line_width=3, line_alpha=0.6)\n",
    "\n",
    "# Set up widgets\n",
    "text = TextInput(title=\"title\", value='Sin function')\n",
    "offset = Slider(title=\"offset\", value=0.0, start=-5.0, end=5.0, step=0.1)\n",
    "amplitude = Slider(title=\"amplitude\", value=1.0, start=-5.0, end=5.0, step=0.1)\n",
    "phase = Slider(title=\"phase\", value=0.0, start=0.0, end=2*np.pi)\n",
    "freq = Slider(title=\"frequency\", value=1.0, start=0.1, end=5.1, step=0.1)\n",
    "\n",
    "# Set up callbacks\n",
    "def update_title(attrname, old, new):\n",
    "    plot.title.text = text.value\n",
    "\n",
    "def update_data(attrname, old, new):\n",
    "    # Get the current slider values\n",
    "    a = amplitude.value\n",
    "    b = offset.value\n",
    "    w = phase.value\n",
    "    k = freq.value\n",
    "\n",
    "    # Generate the new curve\n",
    "    newyy = a*np.sin(k*xx + w) + b\n",
    "\n",
    "    source.data = dict(x=xx, y=newyy)\n",
    "\n",
    "for w in [offset, amplitude, phase, freq]:\n",
    "    w.on_change('value', update_data)\n",
    "\n",
    "# Set up layouts and add to document\n",
    "inputs = widgetbox(text, offset, amplitude, phase, freq)\n",
    "layout = row(plot, widgetbox(text, offset, amplitude, phase, freq))\n",
    "\n",
    "def modify_doc(doc):\n",
    "    doc.add_root(row(layout, width=800))\n",
    "    doc.title = \"Sliders\"\n",
    "    text.on_change('value', update_title)\n",
    "\n",
    "handler = FunctionHandler(modify_doc)\n",
    "show(Application(handler))"
   ]
  },
  {
   "cell_type": "markdown",
   "metadata": {},
   "source": [
    "### Sweetviz"
   ]
  },
  {
   "cell_type": "code",
   "execution_count": null,
   "metadata": {},
   "outputs": [],
   "source": [
    "##%pip install ipywidgets\n",
    "##%pip install sweetviz\n",
    "##%pip install IProgress"
   ]
  },
  {
   "cell_type": "code",
   "execution_count": null,
   "metadata": {},
   "outputs": [],
   "source": [
    "import sweetviz as sv\n",
    "analy = sv.analyze(aapl)\n",
    "analy.show_html('analy.html')"
   ]
  },
  {
   "cell_type": "markdown",
   "metadata": {},
   "source": [
    "There exist many visualisation tools, and we will only discuss a few, the most popular:\n",
    "- `matplotlib` is a `Python` plotting library similar to MATLAB.\n",
    "- `pyplot` is a shell-like interface to `matplotlib`\n",
    "- `pylab` imports the `numpy` library, but is discouraged."
   ]
  },
  {
   "cell_type": "markdown",
   "metadata": {},
   "source": [
    "### Visualising time series"
   ]
  },
  {
   "cell_type": "code",
   "execution_count": null,
   "metadata": {},
   "outputs": [],
   "source": [
    "ticker = \"aapl\"\n",
    "df = si.get_data(ticker)#['open']\n",
    "df=df.dropna()\n",
    "df.head()"
   ]
  },
  {
   "cell_type": "code",
   "execution_count": null,
   "metadata": {},
   "outputs": [],
   "source": [
    "df[\"open\"].plot();"
   ]
  },
  {
   "cell_type": "markdown",
   "metadata": {},
   "source": [
    "**Question**: What is wrong with the graph above?"
   ]
  },
  {
   "cell_type": "code",
   "execution_count": null,
   "metadata": {},
   "outputs": [],
   "source": [
    "ticker = \"aapl\"\n",
    "df = si.get_data(ticker, start_date = \"01/01/2017\")\n",
    "df=df.dropna()"
   ]
  },
  {
   "cell_type": "code",
   "execution_count": null,
   "metadata": {},
   "outputs": [],
   "source": [
    "import matplotlib.pyplot as plt\n",
    "plt.style.use('seaborn-deep')\n",
    "ax = df[\"open\"].plot(figsize=(12, 5),fontsize=12,linewidth=3,linestyle='--')\n",
    "ax.set_xlabel('Date', fontsize=16)\n",
    "ax.set_ylabel('Value of Apple', fontsize=16)\n",
    "ax.set_title(\"Evolution of Apple\", fontsize=16)\n",
    "ax.axvspan('2018-09-01', '2018-11-01', color='red', alpha=0.3)\n",
    "ax.axvspan('2020-01-01', '2020-02-01', color='red', alpha=0.3)\n",
    "ax.axvspan('2020-08-15', '2020-09-15', color='red', alpha=0.3)\n",
    "plt.show()"
   ]
  },
  {
   "cell_type": "markdown",
   "metadata": {},
   "source": [
    "***Clarity is key!!!***"
   ]
  },
  {
   "cell_type": "markdown",
   "metadata": {},
   "source": [
    "#### Visualising correlations"
   ]
  },
  {
   "cell_type": "markdown",
   "metadata": {},
   "source": [
    "Let's import all the daily data from the S&P500"
   ]
  },
  {
   "cell_type": "code",
   "execution_count": null,
   "metadata": {},
   "outputs": [],
   "source": [
    "sp = si.tickers_sp500()\n",
    "tickers = [\"aapl\", \"amzn\", \"ba\", \"BRK.A\", \"bac\", \"V\", \"baba\", \"pypl\", \"xom\", \"hal\", \"slb\", \"csco\", \"intc\", \"orcl\", \"ko\", \"cl\", \"pg\", \"wmt\"]\n",
    "goodtickers = []\n",
    "df = pd.DataFrame()\n",
    "\n",
    "for t in tickers:\n",
    "    try:\n",
    "        dfTicker = si.get_data(t)\n",
    "        dfTicker = dfTicker['open']\n",
    "        df = pd.concat([df, dfTicker], axis=1)\n",
    "        goodtickers.append(t)\n",
    "    except:\n",
    "        print(\"Ticker \", t, \" not available\")\n",
    "\n",
    "df=df.dropna()\n",
    "df.columns = goodtickers\n",
    "df.head()"
   ]
  },
  {
   "cell_type": "code",
   "execution_count": null,
   "metadata": {},
   "outputs": [],
   "source": [
    "import seaborn as sns\n",
    "\n",
    "corrmat = df.corr(method='pearson')\n",
    "np.round(corrmat, 2)"
   ]
  },
  {
   "cell_type": "code",
   "execution_count": null,
   "metadata": {},
   "outputs": [],
   "source": [
    "plt.plot(corrmat, 'o');"
   ]
  },
  {
   "cell_type": "code",
   "execution_count": null,
   "metadata": {},
   "outputs": [],
   "source": [
    "n = 10\n",
    "corrmat_subset = corrmat.iloc[:n, :n]\n",
    "corrmat_subset"
   ]
  },
  {
   "cell_type": "code",
   "execution_count": null,
   "metadata": {},
   "outputs": [],
   "source": [
    "plt.plot(corrmat_subset, 'o');"
   ]
  },
  {
   "cell_type": "code",
   "execution_count": null,
   "metadata": {},
   "outputs": [],
   "source": [
    "sns.heatmap(corrmat_subset);"
   ]
  },
  {
   "cell_type": "code",
   "execution_count": null,
   "metadata": {},
   "outputs": [],
   "source": [
    "sns.clustermap(corrmat_subset, figsize=(5,5));"
   ]
  },
  {
   "cell_type": "markdown",
   "metadata": {},
   "source": [
    "### Another example"
   ]
  },
  {
   "cell_type": "markdown",
   "metadata": {},
   "source": [
    "Source: \"https://www.udacity.com/api/nodes/4576183932/supplemental_media/chopstick-effectivenesscsv/download\"\n",
    "\n",
    "Article:\n",
    "S.-H. Hsu, S.-P. Wu: \"An investigation for determining the optimum length of chopsticks\"\n",
    " (Applied Ergonomics, Volume 22, Issue 6, December 1991, Pages 395-400)\n"
   ]
  },
  {
   "cell_type": "code",
   "execution_count": null,
   "metadata": {},
   "outputs": [],
   "source": [
    "import pandas as pd\n",
    "import matplotlib.pylab as plt\n",
    "df = pd.read_csv(\"chopstick.csv\")\n",
    "df.head()"
   ]
  },
  {
   "cell_type": "code",
   "execution_count": null,
   "metadata": {},
   "outputs": [],
   "source": [
    "df.plot(x=df.columns[2], y=df.columns[0], style='o');"
   ]
  },
  {
   "cell_type": "markdown",
   "metadata": {},
   "source": [
    "**Questions:**\n",
    "- How many chopsticks are used every year (mostly China and Japan)?\n",
    "- What is the environmental impact? https://en.wikipedia.org/wiki/Chopsticks#Global_impacts"
   ]
  },
  {
   "cell_type": "markdown",
   "metadata": {},
   "source": [
    "### Word Visualisation with WordCloud"
   ]
  },
  {
   "cell_type": "code",
   "execution_count": null,
   "metadata": {},
   "outputs": [],
   "source": [
    "#%pip install wordcloud"
   ]
  },
  {
   "cell_type": "code",
   "execution_count": null,
   "metadata": {},
   "outputs": [],
   "source": [
    "api = '878c5663b41f47dd95a62d2cb6e155cd'\n",
    "import requests\n",
    "import pprint\n",
    "url = 'https://newsapi.org/v2/everything?'\n",
    "parameters = {\n",
    "    'q': 'beer', # query phrase\n",
    "    'pageSize': 80,  # maximum is 100\n",
    "    'apiKey': api, # your own API key\n",
    "    'from': \"2022-10-23\" #\"2022-09-30\"\n",
    "}\n",
    "json = requests.get(url, params=parameters).json()\n",
    "pprint.pprint(json)\n",
    "\n",
    "for i in json['articles']:\n",
    "    print(i['title'])\n",
    "    \n",
    "from wordcloud import WordCloud\n",
    "import matplotlib.pyplot as plt\n",
    "\n",
    "allText = [str(i['title'] + ' ') for i in json['articles']][0]\n",
    "\n",
    "wordcloud = WordCloud(max_font_size=40).generate(allText)"
   ]
  },
  {
   "cell_type": "code",
   "execution_count": null,
   "metadata": {},
   "outputs": [],
   "source": [
    "plt.figure(figsize=(10, 8))\n",
    "plt.imshow(wordcloud, interpolation=\"bilinear\")\n",
    "plt.axis(\"off\")\n",
    "plt.show()"
   ]
  },
  {
   "cell_type": "markdown",
   "metadata": {},
   "source": [
    "# Big data visualisation"
   ]
  },
  {
   "cell_type": "markdown",
   "metadata": {},
   "source": [
    "- Extremely large (terabytes, petabytes, exabytes, zettabytes, ....)\n",
    "- Complex and unstructured\n",
    "\n",
    "Example of (free) large datasets: https://commoncrawl.org/"
   ]
  },
  {
   "cell_type": "markdown",
   "metadata": {},
   "source": [
    "Main obstacles to big data visualisation:\n",
    "- Speed\n",
    "- Image quality\n",
    "\n",
    "We will be using the following database: https://s3.amazonaws.com/datashader-data/nyc_taxi_wide.parq\n",
    "\n",
    "Full details here: https://examples.pyviz.org/nyc_taxi/nyc_taxi.html\n",
    "\n",
    "\n",
    "`python` tools for data science: \n",
    "- https://www.simplilearn.com/top-python-libraries-for-data-science-article\n",
    "- `pySPark` (https://spark.apache.org/docs/latest/api/python/)"
   ]
  },
  {
   "cell_type": "code",
   "execution_count": null,
   "metadata": {},
   "outputs": [],
   "source": [
    "#%pip install dask"
   ]
  },
  {
   "cell_type": "code",
   "execution_count": null,
   "metadata": {},
   "outputs": [],
   "source": [
    "import dask.dataframe as dd\n",
    "\n",
    "usecols = ['dropoff_x','dropoff_y','pickup_x','pickup_y','dropoff_hour','pickup_hour','passenger_count']\n",
    "df = dd.read_parquet('nyc_taxi_wide.parq')[usecols].persist()\n",
    "df.tail()"
   ]
  },
  {
   "cell_type": "code",
   "execution_count": null,
   "metadata": {},
   "outputs": [],
   "source": [
    "df.size"
   ]
  },
  {
   "cell_type": "markdown",
   "metadata": {},
   "source": [
    "## `holoviews`"
   ]
  },
  {
   "cell_type": "code",
   "execution_count": null,
   "metadata": {},
   "outputs": [],
   "source": [
    "## %pip install holoviews"
   ]
  },
  {
   "cell_type": "code",
   "execution_count": null,
   "metadata": {},
   "outputs": [],
   "source": [
    "import numpy as np\n",
    "import holoviews as hv\n",
    "from holoviews import opts\n",
    "from holoviews.element.tiles import StamenTerrain\n",
    "hv.extension('bokeh')"
   ]
  },
  {
   "cell_type": "code",
   "execution_count": null,
   "metadata": {},
   "outputs": [],
   "source": [
    "plot_width  = int(750)\n",
    "plot_height = int(plot_width//1.2)\n",
    "x_range, y_range =(-8242000,-8210000), (4965000,4990000)\n",
    "plot_options = hv.Options(width=plot_width, height=plot_height, xaxis=None, yaxis=None)\n",
    "opts.defaults(\n",
    "    opts.Points(width=plot_width, height=plot_height, size=5, color='blue'),\n",
    "    opts.Overlay(width=plot_width, height=plot_height, xaxis=None, yaxis=None),\n",
    "    opts.RGB(width=plot_width, height=plot_height))\n",
    "tiles = StamenTerrain().redim.range(x=x_range, y=y_range)"
   ]
  },
  {
   "cell_type": "code",
   "execution_count": null,
   "metadata": {},
   "outputs": [],
   "source": [
    "samples = df.sample(frac=1e-4)\n",
    "points_dropoff = hv.Points(samples, ['dropoff_x', 'dropoff_y'])\n",
    "plot_dropoff = (tiles * points_dropoff.opts(color='b'))\n",
    "print (\"Number of sample points: \", len(samples.index))"
   ]
  },
  {
   "cell_type": "code",
   "execution_count": null,
   "metadata": {},
   "outputs": [],
   "source": [
    "plot_dropoff"
   ]
  },
  {
   "cell_type": "markdown",
   "metadata": {},
   "source": [
    "### `datashader`"
   ]
  },
  {
   "cell_type": "code",
   "execution_count": null,
   "metadata": {},
   "outputs": [],
   "source": [
    "## %pip install datashader"
   ]
  },
  {
   "cell_type": "code",
   "execution_count": null,
   "metadata": {},
   "outputs": [],
   "source": [
    "import datashader as ds\n",
    "from datashader import transfer_functions as tf\n",
    "from datashader.colors import Greys9\n",
    "Greys9_r = list(reversed(Greys9))[:-2]\n",
    "cvs = ds.Canvas(plot_width=plot_width, plot_height=plot_height, x_range=x_range, y_range=y_range)\n",
    "agg = cvs.points(df, 'dropoff_x', 'dropoff_y',  ds.count('passenger_count'))\n",
    "img = tf.shade(agg, cmap=[\"white\", 'darkblue'], how='linear')"
   ]
  },
  {
   "cell_type": "code",
   "execution_count": null,
   "metadata": {},
   "outputs": [],
   "source": [
    "img"
   ]
  },
  {
   "cell_type": "code",
   "execution_count": null,
   "metadata": {},
   "outputs": [],
   "source": [
    "frequencies, edges = np.histogram(agg.values, bins=100)\n",
    "hv.Histogram((edges, frequencies)).opts(width=800).redim.range(Frequency=(0,80))"
   ]
  },
  {
   "cell_type": "code",
   "execution_count": null,
   "metadata": {},
   "outputs": [],
   "source": [
    "import holoviews.operation.datashader as hd\n",
    "from datashader.colors import Hot\n",
    "shaded = hd.datashade(hv.Points(df, ['dropoff_x', 'dropoff_y']), cmap=Hot, aggregator=ds.count('passenger_count'))\n",
    "hd.dynspread(shaded, threshold=0.5, max_px=4).opts(bgcolor='black', xaxis=None, yaxis=None, width=900, height=500)"
   ]
  },
  {
   "cell_type": "markdown",
   "metadata": {},
   "source": [
    "## Further Reading"
   ]
  },
  {
   "cell_type": "markdown",
   "metadata": {},
   "source": [
    "- Hans Rosling: <a href=\"https://www.ted.com/talks/hans_rosling_the_best_stats_you_ve_ever_seen\">\"The best stats you've ever seen\"</a> (2006).\n",
    "- J. Matejka, G.  Fitzmaurice: <a href=\"https://damassets.autodesk.net/content/dam/autodesk/www/autodesk-reasearch/Publications/pdf/same-stats-different-graphs.pdf\">Same Stats, Different Graphs: Generating Datasets with Varied Appearance and Identical Statistics through Simulated Annealing</a> (2017).\n",
    "- C. Nussbaumer Knaflic. Storytelling with data: a data visualization guide for business professionals (2015).\n",
    "- E.R. Tufte. The Visual Display of Quantitative Information, second edition (2001).\n",
    "- E.R. Tufte. Visual Explanations: Images and Quantities, Evidence and Narrative (1997).\n",
    "    "
   ]
  }
 ],
 "metadata": {
  "kernelspec": {
   "display_name": "Python 3 (ipykernel)",
   "language": "python",
   "name": "python3"
  },
  "language_info": {
   "codemirror_mode": {
    "name": "ipython",
    "version": 3
   },
   "file_extension": ".py",
   "mimetype": "text/x-python",
   "name": "python",
   "nbconvert_exporter": "python",
   "pygments_lexer": "ipython3",
   "version": "3.9.7"
  },
  "latex_envs": {
   "LaTeX_envs_menu_present": true,
   "autoclose": false,
   "autocomplete": true,
   "bibliofile": "biblio.bib",
   "cite_by": "apalike",
   "current_citInitial": 1,
   "eqLabelWithNumbers": true,
   "eqNumInitial": 1,
   "hotkeys": {
    "equation": "Ctrl-E",
    "itemize": "Ctrl-I"
   },
   "labels_anchors": false,
   "latex_user_defs": false,
   "report_style_numbering": false,
   "user_envs_cfg": false
  },
  "toc": {
   "base_numbering": 1,
   "nav_menu": {},
   "number_sections": true,
   "sideBar": true,
   "skip_h1_title": true,
   "title_cell": "Table of Contents",
   "title_sidebar": "Contents",
   "toc_cell": true,
   "toc_position": {
    "height": "calc(100% - 180px)",
    "left": "10px",
    "top": "150px",
    "width": "341.146px"
   },
   "toc_section_display": true,
   "toc_window_display": true
  }
 },
 "nbformat": 4,
 "nbformat_minor": 4
}
