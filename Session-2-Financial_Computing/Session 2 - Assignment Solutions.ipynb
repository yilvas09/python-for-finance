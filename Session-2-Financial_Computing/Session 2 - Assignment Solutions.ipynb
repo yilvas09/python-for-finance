{
 "cells": [
  {
   "cell_type": "markdown",
   "metadata": {},
   "source": [
    "# **Python for Finance, Session 2  - Solutions**\n",
    "---\n",
    "<img src=\"http://www.doc.ic.ac.uk/~afd/images/logo_imperial_college_london.png\" align = \"left\" width=200>\n",
    " <br><br><br><br>\n",
    " \n",
    "- Copyright (c) Antoine Jacquier, 2021. All rights reserved\n",
    "\n",
    "- Author: Antoine Jacquier <a.jacquier@imperial.ac.uk>\n",
    "\n",
    "- Platform: Tested on Windows 10 with Python 3.7"
   ]
  },
  {
   "cell_type": "markdown",
   "metadata": {},
   "source": [
    "## Discrete versus continuous compounding¶\n"
   ]
  },
  {
   "cell_type": "code",
   "execution_count": 1,
   "metadata": {},
   "outputs": [],
   "source": [
    "import numpy as np\n",
    "import matplotlib.pylab as plt"
   ]
  },
  {
   "cell_type": "code",
   "execution_count": 3,
   "metadata": {},
   "outputs": [],
   "source": [
    "def returns(P, r, T, n):\n",
    "    \"\"\"\n",
    "    P: nominal amount\n",
    "    r: risk-free rate per period\n",
    "    T: maturity\n",
    "    n: number of periods\n",
    "    \"\"\"\n",
    "    return P*(1.+r/n)**(n*T)"
   ]
  },
  {
   "cell_type": "code",
   "execution_count": 4,
   "metadata": {},
   "outputs": [
    {
     "data": {
      "image/png": "[encoded data removed]",
      "text/plain": [
       "<Figure size 432x288 with 1 Axes>"
      ]
     },
     "metadata": {
      "needs_background": "light"
     },
     "output_type": "display_data"
    }
   ],
   "source": [
    "P0, r, T = 1, .03, 10.\n",
    "nn = range(1, 5)\n",
    "\n",
    "for n in nn:\n",
    "    step = 1./float(n)\n",
    "    t = 0.\n",
    "    tt, pp = [], []\n",
    "    for i in range(1, 1+int(n*T)):\n",
    "        t = i*step\n",
    "        tminus = t-step\n",
    "        pminus = P0*(1.+r/n)**(n*(tminus))\n",
    "        P = returns(P0, r, t, n)\n",
    "        tt.extend((tminus, t, t))\n",
    "        pp.extend((pminus, pminus, P))\n",
    "    plt.plot(tt, pp, label='n= %d' %n)\n",
    "    \n",
    "plt.plot(tt, [P0*np.exp(r*t) for t in tt], label='exp(rt)')\n",
    "plt.xlabel(\"time\")\n",
    "plt.legend(loc=\"best\")\n",
    "plt.show()"
   ]
  },
  {
   "cell_type": "markdown",
   "metadata": {},
   "source": [
    "## Option Pricing"
   ]
  },
  {
   "cell_type": "code",
   "execution_count": 5,
   "metadata": {},
   "outputs": [],
   "source": [
    "from scipy.stats import norm\n",
    "import numpy as np\n",
    "import matplotlib.pylab as plt"
   ]
  },
  {
   "cell_type": "markdown",
   "metadata": {},
   "source": [
    "### Reference price (closed-form), see lectures"
   ]
  },
  {
   "cell_type": "code",
   "execution_count": 6,
   "metadata": {},
   "outputs": [],
   "source": [
    "def blackscholesCall(s0, K, sigma, T):\n",
    "    '''\n",
    "    #Inputs:\n",
    "    s0: initial stock price\n",
    "    K: strike\n",
    "    sigma: instantaneous volatility\n",
    "    T: time to maturity\n",
    "    #Output:\n",
    "    Black-Scholes Call price\n",
    "    '''\n",
    "    sigT = sigma*np.sqrt(T)\n",
    "    k = np.log(K/s0)\n",
    "    dp = -k / sigT + 0.5*sigT\n",
    "    dm = dp - sigT\n",
    "    return s0*(norm.cdf(dp) - np.exp(k)*norm.cdf(dm))"
   ]
  },
  {
   "cell_type": "markdown",
   "metadata": {},
   "source": [
    "### Reference Price"
   ]
  },
  {
   "cell_type": "code",
   "execution_count": 7,
   "metadata": {},
   "outputs": [],
   "source": [
    "s0, K, sigma, T = 100., 100., 0.1, 1."
   ]
  },
  {
   "cell_type": "code",
   "execution_count": 8,
   "metadata": {},
   "outputs": [
    {
     "name": "stdout",
     "output_type": "stream",
     "text": [
      "Reference Price:  3.9877611676744973\n"
     ]
    }
   ],
   "source": [
    "print(\"Reference Price: \", blackscholesCall(s0, K, sigma, T))"
   ]
  },
  {
   "cell_type": "markdown",
   "metadata": {},
   "source": [
    "### Pricing by integration"
   ]
  },
  {
   "cell_type": "code",
   "execution_count": 9,
   "metadata": {},
   "outputs": [],
   "source": [
    "from scipy.integrate import quad, simps"
   ]
  },
  {
   "cell_type": "code",
   "execution_count": 11,
   "metadata": {},
   "outputs": [],
   "source": [
    "def integrand(x, s0, K, sigma, T):\n",
    "    gaussianDensity = np.exp(-.5*x*x) / np.sqrt(2.*np.pi)\n",
    "    payoffFunction = np.maximum(s0*np.exp((-.5*sigma*sigma*T + sigma*np.sqrt(T)*x))-K, 0.)\n",
    "    return payoffFunction * gaussianDensity"
   ]
  },
  {
   "cell_type": "code",
   "execution_count": 13,
   "metadata": {},
   "outputs": [
    {
     "name": "stdout",
     "output_type": "stream",
     "text": [
      "Black-Scholes Call price by integration:\n",
      "Quadrature:  (3.987741914498178, 9.018305900789526e-09)\n",
      "Simpson:  3.987758544829223\n",
      "***************************\n"
     ]
    }
   ],
   "source": [
    "print('Black-Scholes Call price by integration:')\n",
    "xMin, xMax = -5., 5.\n",
    "\n",
    "qf = quad(integrand, xMin, xMax, args=(s0, K, sigma, T,))\n",
    "\n",
    "xx = np.linspace(xMin, xMax, 1000)\n",
    "qs = simps([integrand(x, s0, K, sigma, T) for x in xx], xx)\n",
    "\n",
    "print(\"Quadrature: \", qf)\n",
    "print(\"Simpson: \", qs)\n",
    "print(\"***************************\")"
   ]
  },
  {
   "cell_type": "markdown",
   "metadata": {},
   "source": [
    "### Pricing by simulation"
   ]
  },
  {
   "cell_type": "code",
   "execution_count": 26,
   "metadata": {},
   "outputs": [],
   "source": [
    "def blackscholes_simul(s0, K, T, sigma, n):\n",
    "    \"\"\"\n",
    "    Monte Carlo simulation for the Black-Scholes Call price function\n",
    "    Note that we only simulate the random variable S_T, \n",
    "    but not the paths of the process (S_t) over the interval [0,T]\n",
    "    This is justified since the Call price only depends on the distribution\n",
    "    of the stock price at time T.\n",
    "    \n",
    "    n: number of simulations\n",
    "    \"\"\"\n",
    "    nn = np.random.normal(0., 1., (n))\n",
    "    S = s0*np.exp((-.5*sigma*sigma*T + sigma*np.sqrt(T)*nn))\n",
    "    f = np.maximum(S-K, 0.)\n",
    "    return np.mean(f)"
   ]
  },
  {
   "cell_type": "code",
   "execution_count": 27,
   "metadata": {},
   "outputs": [],
   "source": [
    "nn = np.arange(1000, 100000, 100)"
   ]
  },
  {
   "cell_type": "code",
   "execution_count": 28,
   "metadata": {},
   "outputs": [
    {
     "data": {
      "image/png": "[encoded data removed]",
      "text/plain": [
       "<Figure size 720x360 with 1 Axes>"
      ]
     },
     "metadata": {
      "needs_background": "light"
     },
     "output_type": "display_data"
    }
   ],
   "source": [
    "bb = [blackscholes_simul(s0, K, T, sigma, n) for n in nn]\n",
    "trueBS = [blackscholesCall(s0, K, sigma, T)]*len(nn)\n",
    "\n",
    "plt.figure(figsize=(10,5))\n",
    "plt.plot(nn, bb, 'b', label=\"Price by simulation\")\n",
    "plt.plot(nn, trueBS, 'k', label=\"Closed-form formula\")\n",
    "plt.title(\"Convergence of the Black-Scholes Call price\")\n",
    "plt.xlabel(\"Number of paths\")\n",
    "plt.legend(loc=\"best\")\n",
    "plt.show()"
   ]
  },
  {
   "cell_type": "markdown",
   "metadata": {},
   "source": [
    "## Implied volatility"
   ]
  },
  {
   "cell_type": "code",
   "execution_count": 44,
   "metadata": {},
   "outputs": [
    {
     "name": "stdout",
     "output_type": "stream",
     "text": [
      "Implied volatility: 9.78 %\n",
      "Verifying that Black-Scholes(implied volatility) = optionPrice\n",
      "Verification error:  7.549516567451064e-15\n"
     ]
    }
   ],
   "source": [
    "from scipy.optimize import fsolve, root, minimize\n",
    "\n",
    "def f(sigma, *args):\n",
    "    s0, K, T, optionPrice = args ## optional arguments, where optionPrice is the Call option price to match\n",
    "    return (blackscholesCall(s0, K, sigma, T)-optionPrice) ## define the objective equation to solve \n",
    "\n",
    "optionPrice = 3.9\n",
    "\n",
    "impliedVol = fsolve(f, x0=0.3, args=((s0, K, T, optionPrice, )))[0]\n",
    "print(\"Implied volatility: %.2f\" %(100.*impliedVol), \"%\")\n",
    "\n",
    "print(\"Verifying that Black-Scholes(implied volatility) = optionPrice\")\n",
    "print(\"Verification error: \", optionPrice - blackscholesCall(s0, K, impliedVol, T))"
   ]
  }
 ],
 "metadata": {
  "kernelspec": {
   "display_name": "Python 3 (ipykernel)",
   "language": "python",
   "name": "python3"
  },
  "language_info": {
   "codemirror_mode": {
    "name": "ipython",
    "version": 3
   },
   "file_extension": ".py",
   "mimetype": "text/x-python",
   "name": "python",
   "nbconvert_exporter": "python",
   "pygments_lexer": "ipython3",
   "version": "3.9.7"
  },
  "latex_envs": {
   "LaTeX_envs_menu_present": true,
   "autoclose": false,
   "autocomplete": true,
   "bibliofile": "biblio.bib",
   "cite_by": "apalike",
   "current_citInitial": 1,
   "eqLabelWithNumbers": true,
   "eqNumInitial": 1,
   "hotkeys": {
    "equation": "Ctrl-E",
    "itemize": "Ctrl-I"
   },
   "labels_anchors": false,
   "latex_user_defs": false,
   "report_style_numbering": false,
   "user_envs_cfg": false
  },
  "toc": {
   "base_numbering": 1,
   "nav_menu": {},
   "number_sections": true,
   "sideBar": true,
   "skip_h1_title": true,
   "title_cell": "Table of Contents",
   "title_sidebar": "Contents",
   "toc_cell": false,
   "toc_position": {},
   "toc_section_display": true,
   "toc_window_display": true
  }
 },
 "nbformat": 4,
 "nbformat_minor": 4
}
