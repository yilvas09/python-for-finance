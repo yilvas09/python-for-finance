{
 "cells": [
  {
   "cell_type": "markdown",
   "metadata": {},
   "source": [
    "# **NUMERICAL TOOLS FOR QUANTITATIVE FINANCE**\n",
    "---\n",
    "<img src=\"http://www.doc.ic.ac.uk/~afd/images/logo_imperial_college_london.png\" align = \"left\" width=200>\n",
    " <br><br><br><br>\n",
    " \n",
    "- Copyright (c) Antoine Jacquier, 2021. All rights reserved\n",
    "\n",
    "- Author: Jack Jacquier <a.jacquier@imperial.ac.uk>\n",
    "\n",
    "- Platform: Tested on Windows 10 with Python 3.9"
   ]
  },
  {
   "cell_type": "code",
   "execution_count": 3,
   "metadata": {},
   "outputs": [],
   "source": [
    "import numpy as np\n",
    "import matplotlib.pylab as plt\n",
    "plt.style.use('dark_background')\n",
    "import time\n",
    "import pandas as pd"
   ]
  },
  {
   "cell_type": "markdown",
   "metadata": {
    "slideshow": {
     "slide_type": "slide"
    }
   },
   "source": [
    "# Session Overview"
   ]
  },
  {
   "cell_type": "markdown",
   "metadata": {},
   "source": [
    "- Vectorisation of functions\n",
    "- Convolutions of functions\n",
    "- Numerical integration\n",
    "- Optimisation and root finding\n",
    "- Application to option pricing"
   ]
  },
  {
   "cell_type": "markdown",
   "metadata": {
    "slideshow": {
     "slide_type": "slide"
    }
   },
   "source": [
    "# The importance of vectorisation"
   ]
  },
  {
   "cell_type": "markdown",
   "metadata": {},
   "source": [
    "## Reminder on variable types"
   ]
  },
  {
   "cell_type": "code",
   "execution_count": 4,
   "metadata": {},
   "outputs": [
    {
     "name": "stdout",
     "output_type": "stream",
     "text": [
      "range(0, 5) :  [0, 1, 2, 3, 4] <class 'range'>\n",
      "[0, 1, 2, 3, 4] <class 'list'>\n",
      "[0 1 2 3 4] <class 'numpy.ndarray'>\n"
     ]
    }
   ],
   "source": [
    "x_range = range(5)\n",
    "x_list = [0, 1, 2, 3, 4]\n",
    "x_array = np.arange(0, 5, 1)\n",
    "\n",
    "print(x_range, \": \", [x for x in x_range], type(x_range))\n",
    "print(x_list, type(x_list))\n",
    "print(x_array, type(x_array))"
   ]
  },
  {
   "cell_type": "code",
   "execution_count": 5,
   "metadata": {},
   "outputs": [
    {
     "name": "stdout",
     "output_type": "stream",
     "text": [
      "[0 1 2 3 4]  and  [0. 2. 4. 6. 8.]\n"
     ]
    }
   ],
   "source": [
    "print(x_array, \" and \",  2.*x_array)"
   ]
  },
  {
   "cell_type": "code",
   "execution_count": 6,
   "metadata": {},
   "outputs": [
    {
     "name": "stdout",
     "output_type": "stream",
     "text": [
      "[0, 1, 2, 3, 4]  and  [0, 1, 2, 3, 4, 0, 1, 2, 3, 4]\n"
     ]
    }
   ],
   "source": [
    "print(x_list, \" and \",  2*x_list) # make 2 copies of  x_list"
   ]
  },
  {
   "cell_type": "code",
   "execution_count": 7,
   "metadata": {},
   "outputs": [
    {
     "ename": "TypeError",
     "evalue": "can't multiply sequence by non-int of type 'float'",
     "output_type": "error",
     "traceback": [
      "\u001b[0;31m---------------------------------------------------------------------------\u001b[0m",
      "\u001b[0;31mTypeError\u001b[0m                                 Traceback (most recent call last)",
      "Cell \u001b[0;32mIn [7], line 1\u001b[0m\n\u001b[0;32m----> 1\u001b[0m \u001b[39mprint\u001b[39m(x_list, \u001b[39m\"\u001b[39m\u001b[39mand\u001b[39m\u001b[39m\"\u001b[39m, \u001b[39m2.\u001b[39m\u001b[39m*\u001b[39mx_list)\n",
      "\u001b[0;31mTypeError\u001b[0m: can't multiply sequence by non-int of type 'float'"
     ]
    }
   ],
   "source": [
    "print(x_list, \"and\", 2.*x_list) # number of copies cannot be float"
   ]
  },
  {
   "cell_type": "code",
   "execution_count": 8,
   "metadata": {},
   "outputs": [
    {
     "ename": "TypeError",
     "evalue": "unsupported operand type(s) for *: 'int' and 'range'",
     "output_type": "error",
     "traceback": [
      "\u001b[0;31m---------------------------------------------------------------------------\u001b[0m",
      "\u001b[0;31mTypeError\u001b[0m                                 Traceback (most recent call last)",
      "Cell \u001b[0;32mIn [8], line 1\u001b[0m\n\u001b[0;32m----> 1\u001b[0m \u001b[39mprint\u001b[39m(x_range, \u001b[39m\"\u001b[39m\u001b[39m and \u001b[39m\u001b[39m\"\u001b[39m,  \u001b[39m2\u001b[39m\u001b[39m*\u001b[39mx_range)\n",
      "\u001b[0;31mTypeError\u001b[0m: unsupported operand type(s) for *: 'int' and 'range'"
     ]
    }
   ],
   "source": [
    "print(x_range, \" and \",  2*x_range)"
   ]
  },
  {
   "cell_type": "markdown",
   "metadata": {},
   "source": [
    "TAKE-HOME MESSAGE: \n",
    "- Use np.array() for **computations**\n",
    "- Use lists and ranges for **listing or iterations**"
   ]
  },
  {
   "cell_type": "markdown",
   "metadata": {
    "slideshow": {
     "slide_type": "subslide"
    }
   },
   "source": [
    "## Unary functions\n",
    "\n",
    "Consider a simple function $g(x) = \\cos(x)$, that we wish to apply to a vector $(x_i)_{i=1,\\ldots, n}$, for $n$ large.\n",
    "We can either do so by looping over all values of x, or apply the function directly to the vector $x$.\n",
    "A unary function acts on a single argument, such as np.exp(), np.cos(), np.sqrt()....\n",
    "They can however be extended to `numpy` arrays directly, and map the function to the array."
   ]
  },
  {
   "cell_type": "code",
   "execution_count": 9,
   "metadata": {
    "slideshow": {
     "slide_type": "fragment"
    }
   },
   "outputs": [],
   "source": [
    "def g(x):\n",
    "    return np.cos(x)"
   ]
  },
  {
   "cell_type": "code",
   "execution_count": 10,
   "metadata": {},
   "outputs": [
    {
     "data": {
      "text/html": [
       "<div>\n",
       "<style scoped>\n",
       "    .dataframe tbody tr th:only-of-type {\n",
       "        vertical-align: middle;\n",
       "    }\n",
       "\n",
       "    .dataframe tbody tr th {\n",
       "        vertical-align: top;\n",
       "    }\n",
       "\n",
       "    .dataframe thead th {\n",
       "        text-align: right;\n",
       "    }\n",
       "</style>\n",
       "<table border=\"1\" class=\"dataframe\">\n",
       "  <thead>\n",
       "    <tr style=\"text-align: right;\">\n",
       "      <th></th>\n",
       "      <th>Time (seconds)</th>\n",
       "    </tr>\n",
       "  </thead>\n",
       "  <tbody>\n",
       "    <tr>\n",
       "      <th>Loop</th>\n",
       "      <td>0.058395</td>\n",
       "    </tr>\n",
       "    <tr>\n",
       "      <th>Loop2</th>\n",
       "      <td>0.059589</td>\n",
       "    </tr>\n",
       "    <tr>\n",
       "      <th>cos</th>\n",
       "      <td>0.000679</td>\n",
       "    </tr>\n",
       "    <tr>\n",
       "      <th>g</th>\n",
       "      <td>0.000722</td>\n",
       "    </tr>\n",
       "  </tbody>\n",
       "</table>\n",
       "</div>"
      ],
      "text/plain": [
       "       Time (seconds)\n",
       "Loop         0.058395\n",
       "Loop2        0.059589\n",
       "cos          0.000679\n",
       "g            0.000722"
      ]
     },
     "execution_count": 10,
     "metadata": {},
     "output_type": "execute_result"
    }
   ],
   "source": [
    "n = 100000\n",
    "xx = np.random.normal(0., 1., n) ## Generate n Gaussian samples\n",
    "\n",
    "## Apply the function g() to a list\n",
    "t0 = time.time()\n",
    "for x in xx:\n",
    "    g(x) ## Compute g(x)\n",
    "dtLoop = time.time() - t0\n",
    "\n",
    "## Apply the function cos() to a list\n",
    "t0 = time.time()\n",
    "yyLoop2 = [] ## Creates an empty list\n",
    "for x in xx:\n",
    "    yyLoop2.append(g(x)) ## Compute g(x) and add new element to the list\n",
    "dtLoop2 = time.time() - t0\n",
    "\n",
    "## Apply the vectorised version of the function cos() to a list\n",
    "t0 = time.time()\n",
    "yy1 = np.cos(xx)\n",
    "dt1 = time.time() - t0\n",
    "\n",
    "## Same, but directly to the function g()\n",
    "t0 = time.time()\n",
    "yy2 = g(xx)\n",
    "dt2 = time.time() - t0\n",
    "\n",
    "df = pd.DataFrame([dtLoop, dtLoop2, dt1, dt2], index=[\"Loop\", \"Loop2\", \"cos\", \"g\"], columns=[\"Time (seconds)\"])\n",
    "df.head()"
   ]
  },
  {
   "cell_type": "markdown",
   "metadata": {},
   "source": [
    "**Note**: these built-in `numpy` functions can be applied to arrays of any sizes:"
   ]
  },
  {
   "cell_type": "code",
   "execution_count": 11,
   "metadata": {},
   "outputs": [
    {
     "data": {
      "text/plain": [
       "array([[[1.89879488, 0.75611811, 0.70645483],\n",
       "        [1.40503978, 1.22272711, 0.76838928],\n",
       "        [1.37670609, 3.00286437, 1.26705939],\n",
       "        [2.28040747, 0.42175748, 2.11794269]],\n",
       "\n",
       "       [[0.37201537, 0.16749791, 1.19558863],\n",
       "        [1.38608201, 0.85879317, 0.91511538],\n",
       "        [0.48572734, 3.03043003, 1.09207183],\n",
       "        [2.00679378, 4.99272355, 2.56704508]]])"
      ]
     },
     "execution_count": 11,
     "metadata": {},
     "output_type": "execute_result"
    }
   ],
   "source": [
    "xxx = np.random.normal(0., 1.,  (2, 4, 3))\n",
    "yyy = np.exp(xxx)\n",
    "yyy"
   ]
  },
  {
   "cell_type": "markdown",
   "metadata": {},
   "source": [
    "#### Practical example\n",
    "*Computing returns of AAPL stock prices*"
   ]
  },
  {
   "cell_type": "markdown",
   "metadata": {},
   "source": [
    "## Binary functions\n",
    "\n",
    "A binary function acts on two arguments, such as np.maximum(), np.multiply(), np.power(). \n",
    "Again, they are naturally extended to functions on arrays by operating component-wise."
   ]
  },
  {
   "cell_type": "code",
   "execution_count": 12,
   "metadata": {},
   "outputs": [
    {
     "name": "stdout",
     "output_type": "stream",
     "text": [
      "xx =  [-1.60008154 -1.04209465]\n",
      "yy =  [ 0.98658752 -1.34525822]\n"
     ]
    },
    {
     "data": {
      "text/plain": [
       "array([-0.61349401, -2.38735287])"
      ]
     },
     "execution_count": 12,
     "metadata": {},
     "output_type": "execute_result"
    }
   ],
   "source": [
    "xx = np.random.normal(0., 1., 2)\n",
    "yy = np.random.normal(0., 1., 2)\n",
    "\n",
    "print(\"xx = \", xx)\n",
    "print(\"yy = \", yy)\n",
    "\n",
    "np.add(xx,yy)"
   ]
  },
  {
   "cell_type": "code",
   "execution_count": 13,
   "metadata": {},
   "outputs": [
    {
     "name": "stdout",
     "output_type": "stream",
     "text": [
      "xx:\n",
      "[[-0.13290009 -1.08330514]\n",
      " [-1.21313376  0.65771228]]\n",
      "yy:\n",
      "[[-0.24520255 -0.58581933]]\n",
      "maximum:\n",
      "[[-0.13290009 -0.58581933]\n",
      " [-0.24520255  0.65771228]]\n"
     ]
    }
   ],
   "source": [
    "xx = np.random.normal(0., 1., (2,2))\n",
    "yy = np.random.normal(0., 1., (1,2)) # broadcasting!\n",
    "\n",
    "print(\"xx:\")\n",
    "print(xx)\n",
    "print(\"yy:\")\n",
    "print(yy)\n",
    "\n",
    "\n",
    "print(\"maximum:\")\n",
    "print(np.maximum(xx, yy))"
   ]
  },
  {
   "cell_type": "markdown",
   "metadata": {},
   "source": [
    "## Sequential functions\n",
    "\n",
    "They apply to arrays directly, for example np.mean(), np.std(), np.sum(), np.max()."
   ]
  },
  {
   "cell_type": "code",
   "execution_count": null,
   "metadata": {},
   "outputs": [],
   "source": [
    "xx = np.random.normal(0., 1., 10)\n",
    "print(\"Sum over a one-dimensional array: \", np.sum(xx))\n",
    "\n",
    "xx = np.random.normal(0., 1., (4, 6))\n",
    "print(\"Sum over a multi-dimensional-dimensional array: \", np.sum(xx))"
   ]
  },
  {
   "cell_type": "markdown",
   "metadata": {},
   "source": [
    "*Exercise: Comparing np.sum(xx) vs sum(xx) vs loop*"
   ]
  },
  {
   "cell_type": "code",
   "execution_count": null,
   "metadata": {},
   "outputs": [],
   "source": [
    "def compare_run_times_sum(aa):\n",
    "    mm, tt = [], []\n",
    "\n",
    "    ######## LOOP ##########\n",
    "    t0 = time.time()\n",
    "    m = 0.\n",
    "    for a in aa:\n",
    "        m += a\n",
    "    dt = time.time() - t0\n",
    "    mm.append(m)\n",
    "    tt.append(dt)\n",
    "    #############################\n",
    "\n",
    "    ######## BUILT-IN ##########\n",
    "    t0 = time.time()\n",
    "    m = sum(aa)\n",
    "    dt = time.time() - t0\n",
    "    mm.append(m)\n",
    "    tt.append(dt)\n",
    "    #############################\n",
    "\n",
    "    ######## NUMPY ##########\n",
    "    t0 = time.time()\n",
    "    m = np.sum(aa)\n",
    "    dt = time.time() - t0\n",
    "    mm.append(m)\n",
    "    tt.append(dt)\n",
    "    #############################\n",
    "    \n",
    "    df = pd.DataFrame(list(zip(mm, tt)), index=[\"Loop\", \"Built-in\", \"numpy\"], columns = [\"Sum\", \"Time\"])\n",
    "    return df"
   ]
  },
  {
   "cell_type": "code",
   "execution_count": null,
   "metadata": {},
   "outputs": [],
   "source": [
    "N = 1000000"
   ]
  },
  {
   "cell_type": "code",
   "execution_count": null,
   "metadata": {},
   "outputs": [],
   "source": [
    "aa = np.random.rand(N) ## Creates a Numpy array of random numbers\n",
    "print(type(aa))\n",
    "df = compare_run_times_sum(aa)\n",
    "df.head()"
   ]
  },
  {
   "cell_type": "code",
   "execution_count": null,
   "metadata": {},
   "outputs": [],
   "source": [
    "aa = range(N) ## Creates a range\n",
    "print(type(aa))\n",
    "df = compare_run_times_sum(aa)\n",
    "df.head()"
   ]
  },
  {
   "cell_type": "code",
   "execution_count": null,
   "metadata": {},
   "outputs": [],
   "source": [
    "aa = list(range(N)) ## Creates a  list\n",
    "print(type(aa))\n",
    "df = compare_run_times_sum(aa)\n",
    "df.head()"
   ]
  },
  {
   "cell_type": "markdown",
   "metadata": {},
   "source": [
    "**Note:** the same holds for *sum*, *max*, *min*, *mean*..."
   ]
  },
  {
   "cell_type": "markdown",
   "metadata": {},
   "source": [
    "##  The axis keyword\n",
    "\n",
    "It allows to apply a function to a slice of a multi-dimensional array."
   ]
  },
  {
   "cell_type": "code",
   "execution_count": 14,
   "metadata": {},
   "outputs": [
    {
     "name": "stdout",
     "output_type": "stream",
     "text": [
      "Dimensions of xx:  (4, 1000000)\n",
      "Sum =  [-905.7624 1138.02    347.0081  239.4583] --- Computation time (seconds):  0.00192\n",
      "Sum =  [-905.7624 1138.02    347.0081  239.4583] --- Computation time (seconds):  0.0009\n"
     ]
    }
   ],
   "source": [
    "xx = np.random.normal(0., 1., (4, 1000000))\n",
    "print(\"Dimensions of xx: \", xx.shape)\n",
    "\n",
    "t0 = time.time()\n",
    "xSum = []\n",
    "for i in range(xx.shape[0]):\n",
    "    xSum.append(np.sum(xx[i,:])) # colon means from 1 to end\n",
    "dt = time.time() - t0\n",
    "print(\"Sum = \", np.round(xSum, 4), \"--- Computation time (seconds): \", np.round(dt, 5))\n",
    "\n",
    "t0 = time.time()\n",
    "xSum2 = np.sum(xx, axis=1) \n",
    "dt = time.time() - t0\n",
    "print(\"Sum = \", np.round(xSum2, 4), \"--- Computation time (seconds): \", np.round(dt, 5))"
   ]
  },
  {
   "cell_type": "markdown",
   "metadata": {},
   "source": [
    "Computation times are similar since we only loop over 4 elements. Suppose now the first dimension of xx is large:"
   ]
  },
  {
   "cell_type": "code",
   "execution_count": 15,
   "metadata": {},
   "outputs": [
    {
     "name": "stdout",
     "output_type": "stream",
     "text": [
      "Dimensions of xx:  (100000, 100)\n",
      "Loop Computation time (seconds):   0.16011\n",
      "Numpy Computation time (seconds):  0.00245\n"
     ]
    }
   ],
   "source": [
    "xx = np.random.normal(0., 1., (100000, 100))\n",
    "print(\"Dimensions of xx: \", xx.shape)\n",
    "\n",
    "t0 = time.time()\n",
    "xSum = []\n",
    "for i in range(xx.shape[0]):\n",
    "    #xSum.append(np.sum(xx[i,:]))\n",
    "    np.sum(xx[i,:])\n",
    "dt = time.time() - t0\n",
    "print(\"Loop Computation time (seconds):  \", np.round(dt, 5))\n",
    "\n",
    "t0 = time.time()\n",
    "xSum2 = np.sum(xx, axis=1) \n",
    "dt = time.time() - t0\n",
    "print(\"Numpy Computation time (seconds): \", np.round(dt, 5))\n"
   ]
  },
  {
   "cell_type": "markdown",
   "metadata": {},
   "source": [
    "## Example: Computing pairwise (Euclidean) distances\n",
    "\n",
    "Consider two two-dimensional arrays $X\\in\\mathbb{R}^{d_x, n}$ and $Y\\in\\mathbb{R}^{d_y, n}$. We wish to compute the Euclidean distance\n",
    "$$\n",
    "D(X, Y)_{j,k} := \\sqrt{\\sum_{i=0}^{n}(X_{j,i}-Y_{k,i})^2},\n",
    "$$\n",
    "considering the $j$-th row of $X$ and the $k$-th row of $Y$.\n",
    "\n",
    "The dimensions can be understood as follows for example:\n",
    "\n",
    "- dx: number of credit lines in Portfolio X\n",
    "- dy: number of credit lines in Portfolio Y\n",
    "- n: number of (daily) observations for each credit line"
   ]
  },
  {
   "cell_type": "code",
   "execution_count": null,
   "metadata": {},
   "outputs": [],
   "source": [
    "n, dx, dy = 100000, 50, 100\n",
    "X = np.random.normal(0., 1., (dx, n))\n",
    "Y = np.random.normal(0., 1., (dy, n))"
   ]
  },
  {
   "cell_type": "code",
   "execution_count": null,
   "metadata": {},
   "outputs": [],
   "source": [
    "j, k = 1, 1\n",
    "\n",
    "t0 = time.time()\n",
    "dist = np.sqrt(np.sum([(x-y)**2 for (x,y) in zip(X[j,:], Y[k,:])]))\n",
    " ## dist = np.sqrt(np.sum([(x-y)**2 for (x,y) in zip(X[j], Y[k])]))\n",
    "dt = time.time() - t0\n",
    "print(\"Distance: \", dist, \" --- Total computation time: \", dx*dy*dt)\n",
    "\n",
    "t0 = time.time()\n",
    "dist = np.sqrt(np.sum(((X[j]- Y[k])**2)))\n",
    "dt = time.time() - t0\n",
    "print(\"Distance: \", dist, \" --- Total computation time: \", dx*dy*dt)"
   ]
  },
  {
   "cell_type": "markdown",
   "metadata": {},
   "source": [
    "## Broadcasting\n",
    "\n",
    "Broadcasting allows you to perform operations on `numpy` arrays of different dimensions. \n",
    "The compatibility criteria for broadcasting two arrays are as follows:\n",
    "- align their shapes from right to left\n",
    "- check that each pair of aligned dimensions satisfy either of the following conditions:\n",
    "    - the aligned dimensions have the same size\n",
    "    - one of the dimensions has a size of 1"
   ]
  },
  {
   "cell_type": "markdown",
   "metadata": {},
   "source": [
    "Simple example:"
   ]
  },
  {
   "cell_type": "code",
   "execution_count": 16,
   "metadata": {},
   "outputs": [
    {
     "name": "stdout",
     "output_type": "stream",
     "text": [
      "X shape:  (2, 5)\n",
      "Z shape:  (2, 5)\n"
     ]
    }
   ],
   "source": [
    "xx = np.random.normal(0., 1., (2,5))\n",
    "zz = xx + 1.\n",
    "print(\"X shape: \", xx.shape)\n",
    "print(\"Z shape: \", xx.shape)"
   ]
  },
  {
   "cell_type": "code",
   "execution_count": 17,
   "metadata": {},
   "outputs": [],
   "source": [
    "def print_broadcasting(xx, yy):\n",
    "    zz = xx+yy\n",
    "\n",
    "    print(\"X shape: \", xx.shape)\n",
    "    #print(xx)\n",
    "    print(\"Y shape: \", yy.shape)\n",
    "    #print(yy)\n",
    "\n",
    "    print(\"Z shape: \", zz.shape)\n",
    "    #print(zz)"
   ]
  },
  {
   "cell_type": "code",
   "execution_count": 18,
   "metadata": {},
   "outputs": [
    {
     "name": "stdout",
     "output_type": "stream",
     "text": [
      "X shape:  (2, 5)\n",
      "Y shape:  (2, 5)\n",
      "Z shape:  (2, 5)\n"
     ]
    }
   ],
   "source": [
    "xx = np.random.normal(0., 1., (2,5))\n",
    "yy = np.random.normal(0., 1., (2,5))\n",
    "\n",
    "print_broadcasting(xx, yy)"
   ]
  },
  {
   "cell_type": "code",
   "execution_count": 19,
   "metadata": {},
   "outputs": [
    {
     "name": "stdout",
     "output_type": "stream",
     "text": [
      "X shape:  (2, 5, 3)\n",
      "Y shape:  (5, 3)\n",
      "Z shape:  (2, 5, 3)\n"
     ]
    }
   ],
   "source": [
    "xx = np.random.normal(0., 1., (2, 5, 3))\n",
    "yy = np.random.normal(0., 1., (5, 3))\n",
    "\n",
    "print_broadcasting(xx, yy)"
   ]
  },
  {
   "cell_type": "code",
   "execution_count": 23,
   "metadata": {},
   "outputs": [
    {
     "name": "stdout",
     "output_type": "stream",
     "text": [
      "X shape:  (2, 5, 3)\n",
      "Y shape:  (5, 3)\n",
      "Z shape:  (2, 5, 3)\n"
     ]
    }
   ],
   "source": [
    "xx = np.random.normal(0., 1., (2, 5, 3))\n",
    "yy = np.random.normal(0., 1., (5, 3)) # works for (5,3) but not (5,2)\n",
    "\n",
    "print_broadcasting(xx, yy)"
   ]
  },
  {
   "cell_type": "markdown",
   "metadata": {},
   "source": [
    "The point is that the loop computation is done in `C` and not in `python` anymore, and without making needless copies of the data."
   ]
  },
  {
   "cell_type": "markdown",
   "metadata": {},
   "source": [
    "####  Back to Euclidean distances..."
   ]
  },
  {
   "cell_type": "code",
   "execution_count": null,
   "metadata": {},
   "outputs": [],
   "source": [
    "t0 = time.time()\n",
    "X1 = X.reshape(dx, 1, n)\n",
    "Y1 = Y.reshape(1, dy, n)\n",
    "diffs = X1 - Y1\n",
    "dists = np.sqrt(np.sum(diffs**2, axis=2))\n",
    "dt = time.time() - t0\n",
    "print(\"Distance: \", dists.shape, np.round(dists[j,k], 4), \" --- Computation time: \", np.round(dt, 4))\n",
    "\n",
    "t0 = time.time()\n",
    "dists = np.sqrt(np.sum((X[:, np.newaxis] - Y[np.newaxis])**2, axis=2)) ## same as the reshaping above\n",
    "dt = time.time() - t0\n",
    "print(\"Distance: \",  dists.shape, np.round(dists[j,k], 4), \" --- Computation time: \", np.round(dt, 4))"
   ]
  },
  {
   "cell_type": "markdown",
   "metadata": {},
   "source": [
    "As soon as the dimension $n$ gets large, the computation time becomes too large.\n",
    "\n",
    "Optimised broadcasting:"
   ]
  },
  {
   "cell_type": "code",
   "execution_count": null,
   "metadata": {},
   "outputs": [],
   "source": [
    "t0 = time.time()\n",
    "dists = -2 * np.matmul(X, Y.T)\n",
    "dists +=  np.sum(X**2, axis=1)[:, np.newaxis]\n",
    "dists += np.sum(Y**2, axis=1)\n",
    "di = np.sqrt(dists[j,k])\n",
    "dt = time.time() - t0\n",
    "print(\"Distance: \", di, \" --- Computation time: \", dt)"
   ]
  },
  {
   "cell_type": "markdown",
   "metadata": {},
   "source": [
    "## More involved functions?"
   ]
  },
  {
   "cell_type": "code",
   "execution_count": 24,
   "metadata": {},
   "outputs": [],
   "source": [
    "def f(x):\n",
    "    if x < 0.:\n",
    "        return np.cos(x)\n",
    "    else:\n",
    "        return np.exp(-x)"
   ]
  },
  {
   "cell_type": "code",
   "execution_count": 25,
   "metadata": {},
   "outputs": [
    {
     "ename": "ValueError",
     "evalue": "The truth value of an array with more than one element is ambiguous. Use a.any() or a.all()",
     "output_type": "error",
     "traceback": [
      "\u001b[0;31m---------------------------------------------------------------------------\u001b[0m",
      "\u001b[0;31mValueError\u001b[0m                                Traceback (most recent call last)",
      "Cell \u001b[0;32mIn [25], line 2\u001b[0m\n\u001b[1;32m      1\u001b[0m xx \u001b[39m=\u001b[39m np\u001b[39m.\u001b[39mrandom\u001b[39m.\u001b[39mnormal(\u001b[39m0.\u001b[39m,\u001b[39m1.\u001b[39m, \u001b[39m5\u001b[39m)\n\u001b[0;32m----> 2\u001b[0m f(xx)\n",
      "Cell \u001b[0;32mIn [24], line 2\u001b[0m, in \u001b[0;36mf\u001b[0;34m(x)\u001b[0m\n\u001b[1;32m      1\u001b[0m \u001b[39mdef\u001b[39;00m \u001b[39mf\u001b[39m(x):\n\u001b[0;32m----> 2\u001b[0m     \u001b[39mif\u001b[39;00m x \u001b[39m<\u001b[39m \u001b[39m0.\u001b[39m:\n\u001b[1;32m      3\u001b[0m         \u001b[39mreturn\u001b[39;00m np\u001b[39m.\u001b[39mcos(x)\n\u001b[1;32m      4\u001b[0m     \u001b[39melse\u001b[39;00m:\n",
      "\u001b[0;31mValueError\u001b[0m: The truth value of an array with more than one element is ambiguous. Use a.any() or a.all()"
     ]
    }
   ],
   "source": [
    "xx = np.random.normal(0.,1., 5)\n",
    "f(xx)"
   ]
  },
  {
   "cell_type": "markdown",
   "metadata": {},
   "source": [
    "Recall this action cannot be done on MATLAB as well (when it comes to `if` and `else` for vectors)!"
   ]
  },
  {
   "cell_type": "code",
   "execution_count": 26,
   "metadata": {},
   "outputs": [
    {
     "data": {
      "text/html": [
       "<div>\n",
       "<style scoped>\n",
       "    .dataframe tbody tr th:only-of-type {\n",
       "        vertical-align: middle;\n",
       "    }\n",
       "\n",
       "    .dataframe tbody tr th {\n",
       "        vertical-align: top;\n",
       "    }\n",
       "\n",
       "    .dataframe thead th {\n",
       "        text-align: right;\n",
       "    }\n",
       "</style>\n",
       "<table border=\"1\" class=\"dataframe\">\n",
       "  <thead>\n",
       "    <tr style=\"text-align: right;\">\n",
       "      <th></th>\n",
       "      <th>Time (seconds)</th>\n",
       "    </tr>\n",
       "  </thead>\n",
       "  <tbody>\n",
       "    <tr>\n",
       "      <th>Loop</th>\n",
       "      <td>0.659608</td>\n",
       "    </tr>\n",
       "    <tr>\n",
       "      <th>Vec</th>\n",
       "      <td>0.407165</td>\n",
       "    </tr>\n",
       "    <tr>\n",
       "      <th>Iter</th>\n",
       "      <td>0.605428</td>\n",
       "    </tr>\n",
       "  </tbody>\n",
       "</table>\n",
       "</div>"
      ],
      "text/plain": [
       "      Time (seconds)\n",
       "Loop        0.659608\n",
       "Vec         0.407165\n",
       "Iter        0.605428"
      ]
     },
     "execution_count": 26,
     "metadata": {},
     "output_type": "execute_result"
    }
   ],
   "source": [
    "fVec = np.vectorize(f)\n",
    "N = 1000000\n",
    "xx = np.random.normal(0., 1., N)\n",
    "\n",
    "t0 = time.time()\n",
    "yyLoop = []\n",
    "for x in xx:\n",
    "    yyLoop.append(f(x))\n",
    "dtLoop = time.time() - t0\n",
    "\n",
    "t0 = time.time()\n",
    "yyv = fVec(xx)\n",
    "dtv = time.time() - t0\n",
    "\n",
    "t0 = time.time()\n",
    "yyv2 = [f(x) for x in xx]\n",
    "dtv2 = time.time() - t0\n",
    "\n",
    "df = pd.DataFrame([dtLoop, dtv, dtv2], index=[\"Loop\", \"Vec\", \"Iter\"], columns=[\"Time (seconds)\"])\n",
    "df.head()"
   ]
  },
  {
   "cell_type": "markdown",
   "metadata": {},
   "source": [
    "**Note:**\n",
    "\n",
    "The `vectorize` function is provided primarily for convenience, not for performance. The implementation is essentially a for loop.\n",
    "\n",
    "Performed **on the pure `python` level**, not `C`."
   ]
  },
  {
   "cell_type": "markdown",
   "metadata": {},
   "source": [
    "## Convolutions"
   ]
  },
  {
   "cell_type": "code",
   "execution_count": null,
   "metadata": {},
   "outputs": [],
   "source": [
    "def new_func(g, x):\n",
    "    return g(x) ** 2"
   ]
  },
  {
   "cell_type": "code",
   "execution_count": null,
   "metadata": {},
   "outputs": [],
   "source": [
    "print(\"Calling a numpy function: \", new_func(np.cos, -2.))\n",
    "print(\"Calling a function defined previously: \", new_func(f, -2.))"
   ]
  },
  {
   "cell_type": "markdown",
   "metadata": {},
   "source": [
    "# Going faster? Parallel processing and multiprocessing\n",
    "\n",
    "https://wiki.python.org/moin/ParallelProcessing\n"
   ]
  },
  {
   "cell_type": "markdown",
   "metadata": {},
   "source": [
    "# A quick note on `numba` and `jit`\n",
    "\n",
    "https://numba.pydata.org/"
   ]
  },
  {
   "cell_type": "code",
   "execution_count": null,
   "metadata": {},
   "outputs": [],
   "source": [
    "def monte_carlo_pi(nsimul):\n",
    "    temp = 0.\n",
    "    for i in range(nsimul):\n",
    "        x = np.random.rand()\n",
    "        y = np.random.rand()\n",
    "        if (x ** 2 + y ** 2) < 1.0:\n",
    "            temp += 1\n",
    "    return 4. * temp / nsimul"
   ]
  },
  {
   "cell_type": "code",
   "execution_count": null,
   "metadata": {},
   "outputs": [],
   "source": [
    "from numba import jit\n",
    "\n",
    "@jit(nopython=True) # a decorater\n",
    "def monte_carlo_pi_jit(nsimul):\n",
    "    temp = 0.\n",
    "    for i in range(nsimul):\n",
    "        x = np.random.rand()\n",
    "        y = np.random.rand()\n",
    "        if (x ** 2 + y ** 2) < 1.0:\n",
    "            temp += 1\n",
    "    return 4. * temp / nsimul"
   ]
  },
  {
   "cell_type": "code",
   "execution_count": null,
   "metadata": {},
   "outputs": [],
   "source": [
    "nsimul = 1000000\n",
    "\n",
    "t0 = time.time()\n",
    "pi_mc = monte_carlo_pi(nsimul)\n",
    "dt = time.time() - t0\n",
    "\n",
    "t0 = time.time()\n",
    "pi_jit = monte_carlo_pi_jit(nsimul)\n",
    "dt_jit = time.time() - t0\n",
    "\n",
    "\n",
    "print(\"Numpy:  \", pi_mc, dt)\n",
    "print(\"Numba:  \", pi_jit, dt_jit)"
   ]
  },
  {
   "cell_type": "markdown",
   "metadata": {},
   "source": [
    "*Isn't it supposed to work faster?*"
   ]
  },
  {
   "cell_type": "markdown",
   "metadata": {},
   "source": [
    "JIT will **compile** the function and turn it into a machine code first, and then run it; instead of running from line to line as in pure python.\n",
    "\n",
    "Compilation will **not** make the first time to run this code faster, but when you run it next time the machine code will be directly called and get a lot faster."
   ]
  },
  {
   "cell_type": "code",
   "execution_count": null,
   "metadata": {},
   "outputs": [],
   "source": [
    "t0 = time.time()\n",
    "pi_jit = monte_carlo_pi_jit(nsimul)\n",
    "dt_jit = time.time() - t0\n",
    "\n",
    "print(\"Numba:  \", pi_jit, dt_jit)"
   ]
  },
  {
   "cell_type": "code",
   "execution_count": null,
   "metadata": {},
   "outputs": [],
   "source": [
    "%timeit monte_carlo_pi_jit(nsimul)"
   ]
  },
  {
   "cell_type": "code",
   "execution_count": null,
   "metadata": {},
   "outputs": [],
   "source": [
    "@jit(nopython=True)\n",
    "def test_jit(lbound, ubound):\n",
    "    def f_to_integrate(x):\n",
    "        return x**2\n",
    "    output = quad(f_to_integrate, lbound, ubound)\n",
    "    return output"
   ]
  },
  {
   "cell_type": "code",
   "execution_count": null,
   "metadata": {},
   "outputs": [],
   "source": [
    "test_jit(-2., 2.)"
   ]
  },
  {
   "cell_type": "markdown",
   "metadata": {},
   "source": [
    "### `numba`-ing functions"
   ]
  },
  {
   "cell_type": "code",
   "execution_count": null,
   "metadata": {},
   "outputs": [],
   "source": [
    "import numba as nb\n",
    "\n",
    "def monte_carlo_vec(nsimul):\n",
    "    res = []\n",
    "    for i in range(nsimul):\n",
    "        x = np.random.rand()\n",
    "        res.append(np.cos(x))\n",
    "    return np.array(res)\n",
    "\n",
    "monte_carlo_vec_jit = nb.jit(monte_carlo_vec)\n",
    "\n",
    "nsimul = 10000\n",
    "\n",
    "t0 = time.time()\n",
    "res_mc = monte_carlo_vec(nsimul)\n",
    "dt = time.time() - t0\n",
    "\n",
    "t0 = time.time()\n",
    "res_mc_jit = monte_carlo_vec_jit(nsimul)\n",
    "dt_jit = time.time() - t0\n",
    "\n",
    "\n",
    "print(\"Numpy:  \", dt)\n",
    "print(\"Numba:  \", dt_jit)"
   ]
  },
  {
   "cell_type": "markdown",
   "metadata": {},
   "source": [
    "# Numerical integration"
   ]
  },
  {
   "cell_type": "code",
   "execution_count": 27,
   "metadata": {},
   "outputs": [],
   "source": [
    "from scipy.integrate import quad, simps\n",
    "import matplotlib.pylab as plt\n",
    "import numpy as np"
   ]
  },
  {
   "cell_type": "markdown",
   "metadata": {},
   "source": [
    "**GOAL:** Integrate the density of a centered Gaussian random variable with variance $\\sigma^2>0$.\n",
    "$$\n",
    "f_{\\sigma}(x) = \\frac{1}{\\sigma\\sqrt{2\\pi}}\\exp\\left\\{-\\frac{x^2}{2\\sigma^2}\\right\\}.\n",
    "$$"
   ]
  },
  {
   "cell_type": "code",
   "execution_count": 28,
   "metadata": {},
   "outputs": [],
   "source": [
    "def gauss_density(x, sig):\n",
    "    return np.exp(-x*x / (2.*sig*sig)) / (sig*np.sqrt(2.*np.pi))"
   ]
  },
  {
   "cell_type": "markdown",
   "metadata": {},
   "source": [
    "We wish to integrate the functions on the interval [-10, 10]. \n",
    "\n",
    "First Step: always **plot** the functions to be studied. This helps to determine the inteval for numerical integration."
   ]
  },
  {
   "cell_type": "code",
   "execution_count": 31,
   "metadata": {},
   "outputs": [
    {
     "data": {
      "image/png": "[encoded data removed]",
      "text/plain": [
       "<Figure size 1000x400 with 1 Axes>"
      ]
     },
     "metadata": {},
     "output_type": "display_data"
    }
   ],
   "source": [
    "xMin, xMax = -10., 10.\n",
    "sigmas = [1., 2., 3., 10.]\n",
    "xx = np.linspace(xMin, xMax, 10000)\n",
    "\n",
    "plt.figure(figsize=(10,4))\n",
    "gauss_densities = []\n",
    "for sig in sigmas:\n",
    "    \n",
    "    gauss_densities.append([gauss_density(x,sig) for x in xx])\n",
    "    plt.plot(xx, gauss_densities[-1], label='$\\sigma=$ %.1f' %sig)\n",
    "    \n",
    "plt.title(\"Gaussian densities\")\n",
    "plt.legend(loc='best')\n",
    "plt.show()"
   ]
  },
  {
   "cell_type": "markdown",
   "metadata": {},
   "source": [
    "Numerical integration documentation: \n",
    "- Simpson's rule: https://docs.scipy.org/doc/scipy/reference/generated/scipy.integrate.simps.html\n",
    "- Adaptive quadrature: https://docs.scipy.org/doc/scipy/reference/generated/scipy.integrate.quad.html"
   ]
  },
  {
   "cell_type": "code",
   "execution_count": 32,
   "metadata": {},
   "outputs": [
    {
     "name": "stdout",
     "output_type": "stream",
     "text": [
      "Numerical integration for f:\n",
      "***************************\n",
      "sigma= 1.0\n",
      "Quadrature:  (0.9999994266968564, 8.668320644611427e-10)\n",
      "Simpson:  0.9999994266968592\n",
      "***************************\n",
      "sigma= 2.0\n",
      "Quadrature:  (0.9875806693484477, 8.131326825877963e-09)\n",
      "Simpson:  0.9875806693494068\n",
      "***************************\n",
      "sigma= 3.0\n",
      "Quadrature:  (0.9044192954543706, 1.0752880637243533e-13)\n",
      "Simpson:  0.9044192954549165\n",
      "***************************\n",
      "sigma= 10.0\n",
      "Quadrature:  (0.3829249225480263, 4.251320657156236e-15)\n",
      "Simpson:  0.3829249225480042\n",
      "***************************\n"
     ]
    }
   ],
   "source": [
    "print('Numerical integration for f:')\n",
    "print(\"***************************\")\n",
    "for (i,sig) in enumerate(sigmas):\n",
    "    print('sigma=', sig)\n",
    "    qf = quad(gauss_density, xMin, xMax, args=(sig,))\n",
    "    qs = simps(gauss_densities[i], xx)\n",
    "    print(\"Quadrature: \", qf)\n",
    "    print(\"Simpson: \", qs)\n",
    "    print(\"***************************\")"
   ]
  },
  {
   "cell_type": "markdown",
   "metadata": {},
   "source": [
    "# Optimisation and root-finding"
   ]
  },
  {
   "cell_type": "markdown",
   "metadata": {},
   "source": [
    "We investigate some of the importants routines within the `scipy.optimize` package https://docs.scipy.org/doc/scipy/reference/optimize.html"
   ]
  },
  {
   "cell_type": "markdown",
   "metadata": {},
   "source": [
    "## Root finding"
   ]
  },
  {
   "cell_type": "markdown",
   "metadata": {},
   "source": [
    "We are interested in finding the (unique?) solution to the equation\n",
    "\\begin{equation*}\n",
    "f(x) = 0,\n",
    "\\end{equation*}\n",
    "over some given interval.\n"
   ]
  },
  {
   "cell_type": "code",
   "execution_count": 37,
   "metadata": {},
   "outputs": [
    {
     "data": {
      "text/plain": [
       "array([-1.])"
      ]
     },
     "execution_count": 37,
     "metadata": {},
     "output_type": "execute_result"
    }
   ],
   "source": [
    "from scipy.optimize import fsolve, root, minimize\n",
    "\n",
    "def f(x):\n",
    "    return x**2 - 1.\n",
    "    \n",
    "fsolve(f, x0=-3.) # try x0=-3., 0., 2."
   ]
  },
  {
   "cell_type": "markdown",
   "metadata": {},
   "source": [
    "Note that this is a local solver (fast, but only return 1 solution), that needs a starting estimate. It also works in the multidimensional setting:"
   ]
  },
  {
   "cell_type": "code",
   "execution_count": 38,
   "metadata": {},
   "outputs": [
    {
     "data": {
      "image/png": "[encoded data removed]",
      "text/plain": [
       "<Figure size 500x500 with 1 Axes>"
      ]
     },
     "metadata": {},
     "output_type": "display_data"
    }
   ],
   "source": [
    "def f(x):\n",
    "    return [x[0]**2+x[1]**2-1., x[0]-x[1]]\n",
    "\n",
    "x0 = [.2, .4]\n",
    "aa = np.linspace(-1.,1.,1000)\n",
    "cirP = np.sqrt(1.-aa**2)\n",
    "cirM = -np.sqrt(1.-aa**2)\n",
    "lin = [a for a in aa]\n",
    "\n",
    "plt.figure(figsize=(5,5))\n",
    "plt.plot(aa,cirP, 'b')\n",
    "plt.plot(aa,cirM, 'b')\n",
    "plt.plot(aa,lin,'r')\n",
    "plt.show()"
   ]
  },
  {
   "cell_type": "code",
   "execution_count": 39,
   "metadata": {},
   "outputs": [
    {
     "name": "stdout",
     "output_type": "stream",
     "text": [
      "[0.70710678 0.70710678]\n"
     ]
    }
   ],
   "source": [
    "print(fsolve(f, x0))"
   ]
  },
  {
   "cell_type": "code",
   "execution_count": 40,
   "metadata": {},
   "outputs": [
    {
     "name": "stdout",
     "output_type": "stream",
     "text": [
      "    fjac: array([[ 0.72956803,  0.68390825],\n",
      "       [-0.68390825,  0.72956803]])\n",
      "     fun: array([2.22044605e-16, 0.00000000e+00])\n",
      " message: 'The solution converged.'\n",
      "    nfev: 11\n",
      "     qtf: array([-3.95595807e-12,  3.70837570e-12])\n",
      "       r: array([ 1.46218444,  0.60134565, -1.93438472])\n",
      "  status: 1\n",
      " success: True\n",
      "       x: array([0.70710678, 0.70710678])\n"
     ]
    }
   ],
   "source": [
    "print(root(f, x0))"
   ]
  },
  {
   "cell_type": "markdown",
   "metadata": {},
   "source": [
    "## Optimisation"
   ]
  },
  {
   "cell_type": "markdown",
   "metadata": {},
   "source": [
    "**Remark:** Root-finding problems can be recast as minimisation problem. For example, solving $f(x) = c$ can be tackled as\n",
    "\\begin{equation*}\n",
    "\\min_{x} \\left[f(x)-c\\right]^2.\n",
    "\\end{equation*}"
   ]
  },
  {
   "cell_type": "markdown",
   "metadata": {},
   "source": [
    "When solving an optimisation problem of the form $\\min_{x}g(x)$, we first need to consider the following question:\n",
    "- Is the objective function $g$ convex?\n",
    "- Is the objective function $g$ smooth, i.e. is its gradient defined everywhere?\n",
    "- Are there constraints?"
   ]
  },
  {
   "cell_type": "markdown",
   "metadata": {},
   "source": [
    "### One-dimensional optimisation"
   ]
  },
  {
   "cell_type": "code",
   "execution_count": null,
   "metadata": {},
   "outputs": [],
   "source": [
    "from scipy.optimize import minimize_scalar\n",
    "def f(x):\n",
    "    return x*x-1.\n",
    "\n",
    "def f2(x):\n",
    "    return f(x)**2\n",
    "\n",
    "result = minimize_scalar(f2)\n",
    "print(result)\n",
    "print(\"*******************\")\n",
    "result2 = minimize_scalar(f2, bounds=(-4., 0.), method='bounded')\n",
    "print(result2)"
   ]
  },
  {
   "cell_type": "markdown",
   "metadata": {},
   "source": [
    "# Pricing Options in the Black-Scholes model"
   ]
  },
  {
   "cell_type": "markdown",
   "metadata": {},
   "source": [
    "## Option Pricing"
   ]
  },
  {
   "cell_type": "markdown",
   "metadata": {},
   "source": [
    "A European Call option on some stock $(S_t)_{t\\geq 0}$ gives the holder the right (but not the obligation) to exchange the stock at a future time $T$ for a given price $K$.\n",
    "The initial value of such an option is therefore (by no-arbitrage arguments):\n",
    "\\begin{equation*}\n",
    "C(S_0, K, T) = \\mathbb{E}\\left[\\max(S_T-K, 0)\\right] = \n",
    "\\mathbb{E}\\left[(S_{T}-K)\\mathbb{1}_{S_T\\geq K} + 0\\mathbb{1}_{S_T< K}\\right].\n",
    "\\end{equation*}\n",
    "*Note: We consider no interest rate nor dividends here*."
   ]
  },
  {
   "cell_type": "markdown",
   "metadata": {},
   "source": [
    "## A quick and dirty introduction to Black-Scholes"
   ]
  },
  {
   "cell_type": "markdown",
   "metadata": {},
   "source": [
    "The Black–Scholes model is one of the cornerstones of mathematical finance.\n",
    "It assumes that the underlying stock price has the following dynamics:\n",
    "$$\n",
    "S_t\n",
    " = S_0\\exp\\left\\{-\\frac{\\sigma^2 t}{2} + \\sigma W_t\\right\\}\n",
    " = S_0\\exp\\left\\{-\\frac{\\sigma^2 t}{2} + \\sigma\\widetilde{n}\\sqrt{t}\\right\\} \\text{ (in distribution)},\n",
    "$$\n",
    "for each $t\\geq 0$, for some constant $\\sigma>0$, and where $\\widetilde{n}$ is a standard Gaussian random variable.\n",
    "Here $(W_t)_{t\\geq 0}$ is a standard Brownian motion, and satisfies:\n",
    "- $W_0 = 0$ almost surely;\n",
    "- for any $0\\leq s \\leq t$, $W_t - W_s$ is a Gausssian random variable with mean zero and variance $t-s$;\n",
    "- non-overlapping increments are independent.\n",
    "\n",
    "The value of a European Call option on $(S_t)_{t\\geq 0}$ in the Black-Scholes model is given, at time $t\\in [0,T]$, by\n",
    "$$\n",
    "C^{\\mathrm{BS}}(S_0, 0, K, T;\\sigma) := \\mathbb{E}\\left[\\max(S_{T} - K, 0)\\right]\n",
    " = S_0\\left(\\mathcal{N}(d_{+})-\\mathrm{e}^{k}\\mathcal{N}(d_{-})\\right),\n",
    "$$\n",
    "where\n",
    "$$\n",
    "d_{\\pm} = \\frac{-k}{\\sigma\\sqrt{T}} \\pm\\frac{\\sigma\\sqrt{T}}{2}\n",
    "$$\n",
    "and\n",
    "- $k := \\log\\left(K / S_0\\right)$ is called the log **moneyness** (this reflects the strike!);\n",
    "- $\\mathcal{N}(\\cdot)$ is the cumulative distribution function of the standard normal distribution,\n",
    "- $T - t$ is the time to maturity;\n",
    "- $S_t$ is the spot price of the underlying asset;\n",
    "- $K$ is the strike price;\n",
    "- $\\sigma$ is the volatility  of returns of the underlying asset.\n"
   ]
  },
  {
   "cell_type": "markdown",
   "metadata": {},
   "source": [
    "## Pricing via the closed-form formula"
   ]
  },
  {
   "cell_type": "code",
   "execution_count": 41,
   "metadata": {},
   "outputs": [],
   "source": [
    "from scipy.stats import norm\n",
    "import numpy as np\n",
    "\n",
    "def blackscholes_call(S0, K, sigma, t, T):\n",
    "    '''\n",
    "    #Inputs:\n",
    "    S0: initial stock price\n",
    "    K: strike\n",
    "    sigma: instantaneous volatility\n",
    "    T: time to maturity\n",
    "    #Output:\n",
    "    Black-Scholes Call price\n",
    "    '''\n",
    "    tau = T - t\n",
    "    sigmtau = sigma*np.sqrt(tau)\n",
    "    k = np.log(K/S0)\n",
    "    dp = -k / sigmtau + 0.5*sigmtau\n",
    "    dm = dp - sigmtau\n",
    "    return S0*(norm.cdf(dp) - np.exp(k)*norm.cdf(dm))"
   ]
  },
  {
   "cell_type": "code",
   "execution_count": 42,
   "metadata": {},
   "outputs": [
    {
     "name": "stdout",
     "output_type": "stream",
     "text": [
      "Black-Scholes Call option price: 7.965567455405798\n"
     ]
    }
   ],
   "source": [
    "S0, K, sigma, t, T = 100., 100., 0.2, 0., 1.\n",
    "print(\"Black-Scholes Call option price:\", blackscholes_call(S0,K,sigma,t,T))"
   ]
  },
  {
   "cell_type": "code",
   "execution_count": 43,
   "metadata": {},
   "outputs": [
    {
     "data": {
      "image/png": "[encoded data removed]",
      "text/plain": [
       "<Figure size 1000x400 with 1 Axes>"
      ]
     },
     "metadata": {},
     "output_type": "display_data"
    }
   ],
   "source": [
    "TT = np.linspace(0.1,3.,5)\n",
    "strikes = np.linspace(70., 150, 50)\n",
    "plt.figure(figsize=(10, 4))\n",
    "\n",
    "for T in TT:\n",
    "    plt.plot(strikes, [blackscholes_call(S0,K,sigma,t,T) for K in strikes], label='T = %.2f' %T)\n",
    "\n",
    "plt.legend(loc='upper center', bbox_to_anchor=(1.1, 0.55),fancybox=True, shadow=True, ncol=1)\n",
    "plt.title('Black-Scholes Call Option prices for different maturities',y=1.05,fontsize=12)\n",
    "plt.xlabel('Strike')\n",
    "plt.ylabel('Price')\n",
    "plt.show()"
   ]
  },
  {
   "cell_type": "markdown",
   "metadata": {},
   "source": [
    "*Note:  one could also vectorise the Black-Scholes function first.*"
   ]
  },
  {
   "cell_type": "markdown",
   "metadata": {},
   "source": [
    "## Pricing by integration"
   ]
  },
  {
   "cell_type": "markdown",
   "metadata": {},
   "source": [
    "Recall that under the Black-Scholes model, the stock price satisfies at maturity $T$,\n",
    "\\begin{equation*}\n",
    "S_T\n",
    " = S_0\\exp\\left\\{-\\frac{\\sigma^2 T}{2} + \\sigma\\widetilde{n}\\sqrt{T}\\right\\},\n",
    "\\end{equation*}\n",
    "where $\\widetilde{n}$ is a Gaussian random variable. Therefore, for any function $f:\\mathbb{R}_+\\to\\mathbb{R}$, we can write\n",
    "\\begin{equation*}\n",
    "\\mathbb{E}\\left[f(S_T)\\right] = \n",
    "\\mathbb{E}\\left[f\\left(S_0\\exp\\left\\{-\\frac{\\sigma^2 T}{2} + \\sigma\\widetilde{n}\\sqrt{T}\\right\\}\\right)\\right] =\n",
    "\\int_{\\mathbb{R}}f\\left(S_0\\exp\\left\\{-\\frac{\\sigma^2 T}{2} + \\sigma x\\sqrt{T}\\right\\}\\right)\\phi(x) \\mathrm{d} x,\n",
    "\\end{equation*}\n",
    "where\n",
    "\\begin{equation*}\n",
    "\\phi(x) := \\frac{1}{\\sqrt{2\\pi}}\\exp\\left\\{-\\frac{x^2}{2}\\right\\}\n",
    "\\end{equation*}\n",
    "is the Gaussian density."
   ]
  },
  {
   "cell_type": "markdown",
   "metadata": {},
   "source": [
    "**Exercise:** Check the Black-Scholes price by integration. Hints / advice:\n",
    "- Plot the integrand as a function of $x$ to determine how to truncate the real line (integration domain);\n",
    "- Use different numerical integration packages."
   ]
  },
  {
   "cell_type": "markdown",
   "metadata": {},
   "source": [
    "## Pricing by simulation"
   ]
  },
  {
   "cell_type": "markdown",
   "metadata": {},
   "source": [
    "### Simulating Brownian motion with the Euler-Maruyama method"
   ]
  },
  {
   "cell_type": "markdown",
   "metadata": {},
   "source": [
    "A Brownian motion $(W_t)_{t\\geq 0}$ has the following properties:\n",
    "- $W_0 = 0$;\n",
    "- For any $t \\geq 0$, $\\delta \\in (0,t)$, $W_{t+\\delta} - W_{t}$ is distributed as a Gaussian with mean zero and variance $\\delta$;\n",
    "- For any $0\\leq s < t \\leq u < v$, \n",
    "the increments $(W_v - W_u)$ and $(W_t-W_s)$ are independent.\n",
    "\n",
    "Therefore, on the interval $[0,T]$, create a partition $0=t_0< \\cdots < t_i < t_{i+1}<\\cdots<t_n=T$, so that\n",
    "$$\n",
    "W_T = W_{t_n} = \\left(W_{t_n} - W_{t_{n-1}}\\right) + \\cdots + \\left(W_{t_1} - W_{t_{0}}\\right).\n",
    "$$\n",
    "Using Property (ii) above, this is equal in distribution to\n",
    "$$\n",
    "W_T = W_{t_n} = \\sqrt{t_n-t_{n-1}}\\ \\widetilde{N}_{n-1} + \\cdots +\\sqrt{t_{1}-t_{0}}\\ \\widetilde{N}_{0},\n",
    "$$\n",
    "where the sequence $(\\widetilde{N}_{i})_{i}$ is iid centered Gaussian with unit variance.\n"
   ]
  },
  {
   "cell_type": "code",
   "execution_count": null,
   "metadata": {},
   "outputs": [],
   "source": [
    "T, n, nbPaths = 1., 1000, 50\n",
    "tt = np.linspace(0., T, n) ## Equidistant discretisation grid\n",
    "dt = tt[1] - tt[0]"
   ]
  },
  {
   "cell_type": "code",
   "execution_count": null,
   "metadata": {},
   "outputs": [],
   "source": [
    "t0 = time.time()\n",
    "ww = np.zeros((n, nbPaths)) ## The Brownian motion starts at zero\n",
    "N = np.random.normal(0.,1., (nbPaths, n-1))\n",
    "for path in range(nbPaths):\n",
    "    for (i,t) in enumerate(tt[:-1]):\n",
    "        #ww[i+1,path] = ww[i,path] + np.sqrt(dt) * np.random.normal(0.,1.)\n",
    "        ww[i+1,path] = ww[i,path] + np.sqrt(dt) * N[path,i]\n",
    "t1 = time.time()-t0\n",
    "print(\"Computation time: \", t1, \" seconds\")\n",
    "\n",
    "plt.figure(figsize=(10,4))\n",
    "for path in range(nbPaths):\n",
    "    plt.plot(tt, ww[:, path])\n",
    "plt.title(\"Simulated paths of a Brownian motion\")\n",
    "plt.show()"
   ]
  },
  {
   "cell_type": "markdown",
   "metadata": {},
   "source": [
    "### Using `numpy` vectorisation"
   ]
  },
  {
   "cell_type": "code",
   "execution_count": null,
   "metadata": {},
   "outputs": [],
   "source": [
    "t0 = time.time()\n",
    "nn = np.random.normal(0., 1., (n-1, nbPaths)) * np.sqrt(dt)\n",
    "ww = np.zeros((n, nbPaths))\n",
    "ww[1:,:] = np.cumsum(nn, axis=0)\n",
    "t1 = time.time()-t0\n",
    "print(\"Computation time: \", t1, \" seconds\")\n",
    "plt.figure(figsize=(10,4))\n",
    "for path in range(nbPaths):\n",
    "    plt.plot(tt, ww[:, path])\n",
    "plt.title(\"Simulated paths of a Brownian motion\")\n",
    "plt.show()"
   ]
  },
  {
   "cell_type": "markdown",
   "metadata": {},
   "source": [
    "## Computing the implied volatility"
   ]
  },
  {
   "cell_type": "markdown",
   "metadata": {},
   "source": [
    "Given a strike $K$, a maturity $T$ and an underlying stock $S$, we can observe the European Call price $C^{\\mathrm{observed}}(S_0, K, T)$.\n",
    "The **implied volatility** is defined as the unique non-negative number $\\sigma$ solution to the equation **(root-finding problem!)**\n",
    "\\begin{equation*}\n",
    "C^{\\mathrm{observed}}(S_0, K, T) = C^{\\mathrm{BS}}(S_0, K, T; \\sigma).\n",
    "\\end{equation*}\n",
    "The implied volatility is a kew concept in trading, and options are usually quoted in terms of their implied volatilities rather than in option prices."
   ]
  },
  {
   "cell_type": "markdown",
   "metadata": {},
   "source": [
    "# Potentially useful packages"
   ]
  },
  {
   "cell_type": "markdown",
   "metadata": {},
   "source": [
    "List of useful (at least for reference) Python libraries for Finance:\n",
    "- `zipline`: ties the statistics, the data structures, and the data sources all together using quandl data.\n",
    "- `pyfolio`: generate tearsheets containing performance statistics for strategies developed in zipline.\n",
    "- `quantlib`: extensive library for quantitative finance (pricing, yield curves, market conventions....)\n",
    "- `scikit-learn`: machine learning package\n",
    "- Exhaustive list of Finance-related libraries (not all useful or efficient): https://github.com/wilsonfreitas/awesome-quant"
   ]
  },
  {
   "cell_type": "code",
   "execution_count": null,
   "metadata": {},
   "outputs": [],
   "source": []
  }
 ],
 "metadata": {
  "kernelspec": {
   "display_name": "Python 3.9.6 64-bit",
   "language": "python",
   "name": "python3"
  },
  "language_info": {
   "codemirror_mode": {
    "name": "ipython",
    "version": 3
   },
   "file_extension": ".py",
   "mimetype": "text/x-python",
   "name": "python",
   "nbconvert_exporter": "python",
   "pygments_lexer": "ipython3",
   "version": "3.9.6"
  },
  "latex_envs": {
   "LaTeX_envs_menu_present": true,
   "autoclose": false,
   "autocomplete": true,
   "bibliofile": "biblio.bib",
   "cite_by": "apalike",
   "current_citInitial": 1,
   "eqLabelWithNumbers": true,
   "eqNumInitial": 1,
   "hotkeys": {
    "equation": "Ctrl-E",
    "itemize": "Ctrl-I"
   },
   "labels_anchors": false,
   "latex_user_defs": false,
   "report_style_numbering": false,
   "user_envs_cfg": false
  },
  "toc": {
   "base_numbering": 1,
   "nav_menu": {},
   "number_sections": true,
   "sideBar": true,
   "skip_h1_title": true,
   "title_cell": "Table of Contents",
   "title_sidebar": "Contents",
   "toc_cell": false,
   "toc_position": {
    "height": "calc(100% - 180px)",
    "left": "10px",
    "top": "150px",
    "width": "164.988px"
   },
   "toc_section_display": true,
   "toc_window_display": true
  },
  "vscode": {
   "interpreter": {
    "hash": "b0fa6594d8f4cbf19f97940f81e996739fb7646882a419484c72d19e05852a7e"
   }
  }
 },
 "nbformat": 4,
 "nbformat_minor": 4
}
