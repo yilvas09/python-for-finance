{
 "cells": [
  {
   "cell_type": "markdown",
   "metadata": {},
   "source": [
    "# **NUMERICAL TOOLS FOR QUANTITATIVE FINANCE**\n",
    "---\n",
    "<img src=\"http://www.doc.ic.ac.uk/~afd/images/logo_imperial_college_london.png\" align = \"left\" width=200>\n",
    " <br><br><br><br>\n",
    " \n",
    "- Copyright (c) Antoine Jacquier, 2021. All rights reserved\n",
    "\n",
    "- Author: Jack Jacquier <a.jacquier@imperial.ac.uk>\n",
    "\n",
    "- Platform: Tested on Windows 10 with Python 3.9"
   ]
  },
  {
   "cell_type": "code",
   "execution_count": null,
   "metadata": {},
   "outputs": [],
   "source": [
    "import numpy as np\n",
    "import matplotlib.pylab as plt\n",
    "plt.style.use('dark_background')\n",
    "import time\n",
    "import pandas as pd"
   ]
  },
  {
   "cell_type": "markdown",
   "metadata": {
    "slideshow": {
     "slide_type": "slide"
    }
   },
   "source": [
    "# Session Overview"
   ]
  },
  {
   "cell_type": "markdown",
   "metadata": {},
   "source": [
    "- Vectorisation of functions\n",
    "- Convolutions of functions\n",
    "- Numerical integration\n",
    "- Optimisation and root finding\n",
    "- Application to option pricing"
   ]
  },
  {
   "cell_type": "markdown",
   "metadata": {
    "slideshow": {
     "slide_type": "slide"
    }
   },
   "source": [
    "# The importance of vectorisation"
   ]
  },
  {
   "cell_type": "markdown",
   "metadata": {},
   "source": [
    "## Reminder on variable types"
   ]
  },
  {
   "cell_type": "code",
   "execution_count": null,
   "metadata": {},
   "outputs": [],
   "source": [
    "x_range = range(5)\n",
    "x_list = [0, 1, 2, 3, 4]\n",
    "x_array = np.arange(0, 5, 1)\n",
    "\n",
    "print(x_range, \": \", [x for x in x_range], type(x_range))\n",
    "print(x_list, type(x_list))\n",
    "print(x_array, type(x_array))"
   ]
  },
  {
   "cell_type": "code",
   "execution_count": null,
   "metadata": {},
   "outputs": [],
   "source": [
    "print(x_array, \" and \",  2.*x_array)"
   ]
  },
  {
   "cell_type": "code",
   "execution_count": null,
   "metadata": {},
   "outputs": [],
   "source": [
    "print(x_list, \" and \",  2*x_list)"
   ]
  },
  {
   "cell_type": "code",
   "execution_count": null,
   "metadata": {},
   "outputs": [],
   "source": [
    "print(x_range, \" and \",  2*x_range)"
   ]
  },
  {
   "cell_type": "markdown",
   "metadata": {},
   "source": [
    "TAKE-HOME MESSAGE: \n",
    "- Use np.array() for computations\n",
    "- Use lists and ranges for listing or iterations"
   ]
  },
  {
   "cell_type": "markdown",
   "metadata": {
    "slideshow": {
     "slide_type": "subslide"
    }
   },
   "source": [
    "## Unary functions\n",
    "\n",
    "Consider a simple function $g(x) = \\cos(x)$, that we wish to apply to a vector $(x_i)_{i=1,\\ldots, n}$, for $n$ large.\n",
    "We can either do so by looping over all values of x, or apply the function directly to the vector $x$.\n",
    "A unary function acts on a single argument, such as np.exp(), np.cos(), np.sqrt()....\n",
    "They can however be extended to `numpy` arrays directly, and map the function to the array."
   ]
  },
  {
   "cell_type": "code",
   "execution_count": null,
   "metadata": {
    "slideshow": {
     "slide_type": "fragment"
    }
   },
   "outputs": [],
   "source": [
    "def g(x):\n",
    "    return np.cos(x)"
   ]
  },
  {
   "cell_type": "code",
   "execution_count": null,
   "metadata": {},
   "outputs": [],
   "source": [
    "n = 100000\n",
    "xx = np.random.normal(0., 1., n) ## Generate n Gaussian samples\n",
    "\n",
    "## Apply the function g() to a list\n",
    "t0 = time.time()\n",
    "for x in xx:\n",
    "    g(x) ## Compute g(x)\n",
    "dtLoop = time.time() - t0\n",
    "\n",
    "## Apply the function cos() to a list\n",
    "t0 = time.time()\n",
    "yyLoop2 = [] ## Creates an empty list\n",
    "for x in xx:\n",
    "    yyLoop2.append(g(x)) ## Compute g(x) and add new element to the list\n",
    "dtLoop2 = time.time() - t0\n",
    "\n",
    "## Apply the vectorised version of the function cos() to a list\n",
    "t0 = time.time()\n",
    "yy1 = np.cos(xx)\n",
    "dt1 = time.time() - t0\n",
    "\n",
    "## Same, but directly to the function g()\n",
    "t0 = time.time()\n",
    "yy2 = g(xx)\n",
    "dt2 = time.time() - t0\n",
    "\n",
    "df = pd.DataFrame([dtLoop, dtLoop2, dt1, dt2], index=[\"Loop\", \"Loop2\", \"cos\", \"g\"], columns=[\"Time (seconds)\"])\n",
    "df.head()"
   ]
  },
  {
   "cell_type": "markdown",
   "metadata": {},
   "source": [
    "**Note**: these built-in `numpy` functions can be applied to arrays of any sizes:"
   ]
  },
  {
   "cell_type": "code",
   "execution_count": null,
   "metadata": {},
   "outputs": [],
   "source": [
    "xxx = np.random.normal(0., 1.,  (4, 3))\n",
    "yyy = np.exp(xxx)\n",
    "yyy"
   ]
  },
  {
   "cell_type": "markdown",
   "metadata": {},
   "source": [
    "#### Practical example\n",
    "*Rescaling all the time series at once*"
   ]
  },
  {
   "cell_type": "markdown",
   "metadata": {},
   "source": [
    "## Binary functions\n",
    "\n",
    "A binary function acts on two arguments, such as np.maximum(), np.multiply(), np.power(). \n",
    "Again, they are naturally extended to functions on arrays by operating component-wise."
   ]
  },
  {
   "cell_type": "code",
   "execution_count": null,
   "metadata": {},
   "outputs": [],
   "source": [
    "xx = np.random.normal(0., 1., 2)\n",
    "yy = np.random.normal(0., 1., 2)\n",
    "\n",
    "print(\"xx = \", xx)\n",
    "print(\"yy = \", yy)\n",
    "\n",
    "np.add(xx,yy)"
   ]
  },
  {
   "cell_type": "code",
   "execution_count": null,
   "metadata": {},
   "outputs": [],
   "source": [
    "xx = np.random.normal(0., 1., (2,2))\n",
    "yy = np.random.normal(0., 1., (1,2))\n",
    "\n",
    "print(\"xx:\")\n",
    "print(xx)\n",
    "print(\"yy:\")\n",
    "print(yy)\n",
    "\n",
    "\n",
    "print(\"maximum:\")\n",
    "print(np.maximum(xx, yy))"
   ]
  },
  {
   "cell_type": "markdown",
   "metadata": {},
   "source": [
    "## Sequential functions\n",
    "\n",
    "They apply to arrays directly, for example np.mean(), np.std(), np.sum(), np.max()."
   ]
  },
  {
   "cell_type": "code",
   "execution_count": null,
   "metadata": {},
   "outputs": [],
   "source": [
    "xx = np.random.normal(0., 1., 10)\n",
    "print(\"Sum over a one-dimensional array: \", np.sum(xx))\n",
    "\n",
    "xx = np.random.normal(0., 1., (4, 6))\n",
    "print(\"Sum over a multi-dimensional-dimensional array: \", np.sum(xx))"
   ]
  },
  {
   "cell_type": "markdown",
   "metadata": {},
   "source": [
    "*Exercise: Comparing np.sum(xx) vs sum(xx) vs loop*"
   ]
  },
  {
   "cell_type": "code",
   "execution_count": null,
   "metadata": {},
   "outputs": [],
   "source": [
    "def compare_run_times_sum(aa):\n",
    "    mm, tt = [], []\n",
    "\n",
    "    ######## LOOP ##########\n",
    "    t0 = time.time()\n",
    "    m = 0.\n",
    "    for a in aa:\n",
    "        m += a\n",
    "    dt = time.time() - t0\n",
    "    mm.append(m)\n",
    "    tt.append(dt)\n",
    "    #############################\n",
    "\n",
    "    ######## BUILT-IN ##########\n",
    "    t0 = time.time()\n",
    "    m = sum(aa)\n",
    "    dt = time.time() - t0\n",
    "    mm.append(m)\n",
    "    tt.append(dt)\n",
    "    #############################\n",
    "\n",
    "    ######## NUMPY ##########\n",
    "    t0 = time.time()\n",
    "    m = np.sum(aa)\n",
    "    dt = time.time() - t0\n",
    "    mm.append(m)\n",
    "    tt.append(dt)\n",
    "    #############################\n",
    "    \n",
    "    df = pd.DataFrame(list(zip(mm, tt)), index=[\"Loop\", \"Built-in\", \"numpy\"], columns = [\"Sum\", \"Time\"])\n",
    "    return df"
   ]
  },
  {
   "cell_type": "code",
   "execution_count": null,
   "metadata": {},
   "outputs": [],
   "source": [
    "N = 1000000"
   ]
  },
  {
   "cell_type": "code",
   "execution_count": null,
   "metadata": {},
   "outputs": [],
   "source": [
    "aa = np.random.rand(N) ## Creates a Numpy array of random numbers\n",
    "print(type(aa))\n",
    "df = compare_run_times_sum(aa)\n",
    "df.head()"
   ]
  },
  {
   "cell_type": "code",
   "execution_count": null,
   "metadata": {},
   "outputs": [],
   "source": [
    "aa = range(N) ## Creates a range\n",
    "print(type(aa))\n",
    "df = compare_run_times_sum(aa)\n",
    "df.head()"
   ]
  },
  {
   "cell_type": "code",
   "execution_count": null,
   "metadata": {},
   "outputs": [],
   "source": [
    "aa = list(range(N)) ## Creates a  list\n",
    "print(type(aa))\n",
    "df = compare_run_times_sum(aa)\n",
    "df.head()"
   ]
  },
  {
   "cell_type": "markdown",
   "metadata": {},
   "source": [
    "**Note:** the same holds for *sum*, *max*, *min*, *mean*..."
   ]
  },
  {
   "cell_type": "markdown",
   "metadata": {},
   "source": [
    "##  The axis keyword\n",
    "\n",
    "It allows to apply a function to a slice of a multi-dimensional array."
   ]
  },
  {
   "cell_type": "code",
   "execution_count": null,
   "metadata": {},
   "outputs": [],
   "source": [
    "xx = np.random.normal(0., 1., (4, 1000000))\n",
    "print(\"Dimensions of xx: \", xx.shape)\n",
    "\n",
    "t0 = time.time()\n",
    "xSum = []\n",
    "for i in range(xx.shape[0]):\n",
    "    xSum.append(np.sum(xx[i,:]))\n",
    "dt = time.time() - t0\n",
    "print(\"Sum = \", np.round(xSum, 4), \"--- Computation time (seconds): \", np.round(dt, 5))\n",
    "\n",
    "t0 = time.time()\n",
    "xSum2 = np.sum(xx, axis=1) \n",
    "dt = time.time() - t0\n",
    "print(\"Sum = \", np.round(xSum2, 4), \"--- Computation time (seconds): \", np.round(dt, 5))"
   ]
  },
  {
   "cell_type": "markdown",
   "metadata": {},
   "source": [
    "Computation times are similar since we only loop over 4 elements. Suppose now the first dimension of xx is large:"
   ]
  },
  {
   "cell_type": "code",
   "execution_count": null,
   "metadata": {},
   "outputs": [],
   "source": [
    "xx = np.random.normal(0., 1., (100000, 100))\n",
    "print(\"Dimensions of xx: \", xx.shape)\n",
    "\n",
    "t0 = time.time()\n",
    "xSum = []\n",
    "for i in range(xx.shape[0]):\n",
    "    #xSum.append(np.sum(xx[i,:]))\n",
    "    np.sum(xx[i,:])\n",
    "dt = time.time() - t0\n",
    "print(\"Loop Computation time (seconds):  \", np.round(dt, 5))\n",
    "\n",
    "t0 = time.time()\n",
    "xSum2 = np.sum(xx, axis=1) \n",
    "dt = time.time() - t0\n",
    "print(\"Numpy Computation time (seconds): \", np.round(dt, 5))\n"
   ]
  },
  {
   "cell_type": "markdown",
   "metadata": {},
   "source": [
    "## Example: Computing pairwise (Euclidean) distances\n",
    "\n",
    "Consider two two-dimensional arrays $X\\in\\mathbb{R}^{d_x, n}$ and $Y\\in\\mathbb{R}^{d_y, n}$. We wish to compute the Euclidean distance\n",
    "$$\n",
    "D(X, Y)_{j,k} := \\sqrt{\\sum_{i=0}^{n}(X_{j,i}-Y_{k,i})^2},\n",
    "$$\n",
    "considering the $j$-th row of $X$ and the $k$-th row of $Y$.\n",
    "\n",
    "The dimensions can be understood as follows for example:\n",
    "\n",
    "- dx: number of credit lines in Portfolio X\n",
    "- dy: number of credit lines in Portfolio Y\n",
    "- n: number of (daily) observations for each credit line"
   ]
  },
  {
   "cell_type": "code",
   "execution_count": null,
   "metadata": {},
   "outputs": [],
   "source": [
    "n, dx, dy = 100000, 50, 100\n",
    "X = np.random.normal(0., 1., (dx, n))\n",
    "Y = np.random.normal(0., 1., (dy, n))"
   ]
  },
  {
   "cell_type": "code",
   "execution_count": null,
   "metadata": {},
   "outputs": [],
   "source": [
    "j, k = 1, 1\n",
    "\n",
    "t0 = time.time()\n",
    "dist = np.sqrt(np.sum([(x-y)**2 for (x,y) in zip(X[j,:], Y[k,:])]))\n",
    " ## dist = np.sqrt(np.sum([(x-y)**2 for (x,y) in zip(X[j], Y[k])]))\n",
    "dt = time.time() - t0\n",
    "print(\"Distance: \", dist, \" --- Total computation time: \", dx*dy*dt)\n",
    "\n",
    "t0 = time.time()\n",
    "dist = np.sqrt(np.sum(((X[j]- Y[k])**2)))\n",
    "dt = time.time() - t0\n",
    "print(\"Distance: \", dist, \" --- Total computation time: \", dx*dy*dt)"
   ]
  },
  {
   "cell_type": "markdown",
   "metadata": {},
   "source": [
    "## Broadcasting\n",
    "\n",
    "Broadcasting allows you to perform operations on `numpy` arrays of different dimensions. \n",
    "The compatibility criteria for broadcasting two arrays are as follows:\n",
    "- align their shapes from right to left\n",
    "- check that each pair of aligned dimensions satisfy either of the following conditions:\n",
    "    - the aligned dimensions have the same size\n",
    "    - one of the dimensions has a size of 1"
   ]
  },
  {
   "cell_type": "markdown",
   "metadata": {},
   "source": [
    "Simple example:"
   ]
  },
  {
   "cell_type": "code",
   "execution_count": null,
   "metadata": {},
   "outputs": [],
   "source": [
    "xx = np.random.normal(0., 1., (2,5))\n",
    "zz = xx + 1.\n",
    "print(\"X shape: \", xx.shape)\n",
    "print(\"Z shape: \", xx.shape)"
   ]
  },
  {
   "cell_type": "code",
   "execution_count": null,
   "metadata": {},
   "outputs": [],
   "source": [
    "def print_broadcasting(xx, yy):\n",
    "    zz = xx+yy\n",
    "\n",
    "    print(\"X shape: \", xx.shape)\n",
    "    #print(xx)\n",
    "    print(\"Y shape: \", yy.shape)\n",
    "    #print(yy)\n",
    "\n",
    "    print(\"Z shape: \", zz.shape)\n",
    "    #print(zz)"
   ]
  },
  {
   "cell_type": "code",
   "execution_count": null,
   "metadata": {},
   "outputs": [],
   "source": [
    "xx = np.random.normal(0., 1., (2,5))\n",
    "yy = np.random.normal(0., 1., (2,5))\n",
    "\n",
    "print_broadcasting(xx, yy)"
   ]
  },
  {
   "cell_type": "code",
   "execution_count": null,
   "metadata": {},
   "outputs": [],
   "source": [
    "xx = np.random.normal(0., 1., (2, 5, 3))\n",
    "yy = np.random.normal(0., 1., (5, 3))\n",
    "\n",
    "print_broadcasting(xx, yy)"
   ]
  },
  {
   "cell_type": "code",
   "execution_count": null,
   "metadata": {},
   "outputs": [],
   "source": [
    "xx = np.random.normal(0., 1., (2, 5, 3))\n",
    "yy = np.random.normal(0., 1., (5, 2))\n",
    "\n",
    "print_broadcasting(xx, yy)"
   ]
  },
  {
   "cell_type": "markdown",
   "metadata": {},
   "source": [
    "The point is that the loop computation is done in `C` and not in `python` anymore, and without making needless copies of the data."
   ]
  },
  {
   "cell_type": "markdown",
   "metadata": {},
   "source": [
    "####  Back to Euclidean distances..."
   ]
  },
  {
   "cell_type": "code",
   "execution_count": null,
   "metadata": {},
   "outputs": [],
   "source": [
    "t0 = time.time()\n",
    "X1 = X.reshape(dx, 1, n)\n",
    "Y1 = Y.reshape(1, dy, n)\n",
    "diffs = X1 - Y1\n",
    "dists = np.sqrt(np.sum(diffs**2, axis=2))\n",
    "dt = time.time() - t0\n",
    "print(\"Distance: \", dists.shape, np.round(dists[j,k], 4), \" --- Computation time: \", np.round(dt, 4))\n",
    "\n",
    "t0 = time.time()\n",
    "dists = np.sqrt(np.sum((X[:, np.newaxis] - Y[np.newaxis])**2, axis=2)) ## same as the reshaping above\n",
    "dt = time.time() - t0\n",
    "print(\"Distance: \",  dists.shape, np.round(dists[j,k], 4), \" --- Computation time: \", np.round(dt, 4))"
   ]
  },
  {
   "cell_type": "markdown",
   "metadata": {},
   "source": [
    "As soon as the dimension $n$ gets large, the computation time becomes too large.\n",
    "\n",
    "Optimised broadcasting:"
   ]
  },
  {
   "cell_type": "code",
   "execution_count": null,
   "metadata": {},
   "outputs": [],
   "source": [
    "t0 = time.time()\n",
    "dists = -2 * np.matmul(X, Y.T)\n",
    "dists +=  np.sum(X**2, axis=1)[:, np.newaxis]\n",
    "dists += np.sum(Y**2, axis=1)\n",
    "di = np.sqrt(dists[j,k])\n",
    "dt = time.time() - t0\n",
    "print(\"Distance: \", di, \" --- Computation time: \", dt)"
   ]
  },
  {
   "cell_type": "markdown",
   "metadata": {},
   "source": [
    "## More involved functions?"
   ]
  },
  {
   "cell_type": "code",
   "execution_count": null,
   "metadata": {},
   "outputs": [],
   "source": [
    "def f(x):\n",
    "    if x < 0.:\n",
    "        return np.cos(x)\n",
    "    else:\n",
    "        return np.exp(-x)"
   ]
  },
  {
   "cell_type": "code",
   "execution_count": null,
   "metadata": {},
   "outputs": [],
   "source": [
    "xx = np.random.normal(0.,1., 5)\n",
    "f(xx)"
   ]
  },
  {
   "cell_type": "code",
   "execution_count": null,
   "metadata": {},
   "outputs": [],
   "source": [
    "fVec = np.vectorize(f)\n",
    "N = 1000000\n",
    "xx = np.random.normal(0., 1., N)\n",
    "\n",
    "t0 = time.time()\n",
    "yyLoop = []\n",
    "for x in xx:\n",
    "    yyLoop.append(f(x))\n",
    "dtLoop = time.time() - t0\n",
    "\n",
    "t0 = time.time()\n",
    "yyv = fVec(xx)\n",
    "dtv = time.time() - t0\n",
    "\n",
    "t0 = time.time()\n",
    "yyv2 = [f(x) for x in xx]\n",
    "dtv2 = time.time() - t0\n",
    "\n",
    "df = pd.DataFrame([dtLoop, dtv, dtv2], index=[\"Loop\", \"Vec\", \"Iter\"], columns=[\"Time (seconds)\"])\n",
    "df.head()"
   ]
  },
  {
   "cell_type": "markdown",
   "metadata": {},
   "source": [
    "**Note:** The `vectorize` function is provided primarily for convenience, not for performance. The implementation is essentially a for loop."
   ]
  },
  {
   "cell_type": "markdown",
   "metadata": {},
   "source": [
    "## Convolutions"
   ]
  },
  {
   "cell_type": "code",
   "execution_count": null,
   "metadata": {},
   "outputs": [],
   "source": [
    "def new_func(g, x):\n",
    "    return g(x) ** 2"
   ]
  },
  {
   "cell_type": "code",
   "execution_count": null,
   "metadata": {},
   "outputs": [],
   "source": [
    "print(\"Calling a numpy function: \", new_func(np.cos, -2.))\n",
    "print(\"Calling a function defined previously: \", new_func(f, -2.))"
   ]
  },
  {
   "cell_type": "markdown",
   "metadata": {},
   "source": [
    "# Going faster? Parallel processing and multiprocessing\n",
    "\n",
    "https://wiki.python.org/moin/ParallelProcessing\n"
   ]
  },
  {
   "cell_type": "markdown",
   "metadata": {},
   "source": [
    "# A quick note on `numba` and `jit`\n",
    "\n",
    "https://numba.pydata.org/"
   ]
  },
  {
   "cell_type": "code",
   "execution_count": null,
   "metadata": {},
   "outputs": [],
   "source": [
    "def monte_carlo_pi(nsimul):\n",
    "    temp = 0.\n",
    "    for i in range(nsimul):\n",
    "        x = np.random.rand()\n",
    "        y = np.random.rand()\n",
    "        if (x ** 2 + y ** 2) < 1.0:\n",
    "            temp += 1\n",
    "    return 4. * temp / nsimul"
   ]
  },
  {
   "cell_type": "code",
   "execution_count": null,
   "metadata": {},
   "outputs": [],
   "source": [
    "from numba import jit\n",
    "\n",
    "@jit(nopython=True)\n",
    "def monte_carlo_pi_jit(nsimul):\n",
    "    temp = 0.\n",
    "    for i in range(nsimul):\n",
    "        x = np.random.rand()\n",
    "        y = np.random.rand()\n",
    "        if (x ** 2 + y ** 2) < 1.0:\n",
    "            temp += 1\n",
    "    return 4. * temp / nsimul"
   ]
  },
  {
   "cell_type": "code",
   "execution_count": null,
   "metadata": {},
   "outputs": [],
   "source": [
    "nsimul = 1000000\n",
    "\n",
    "t0 = time.time()\n",
    "pi_mc = monte_carlo_pi(nsimul)\n",
    "dt = time.time() - t0\n",
    "\n",
    "t0 = time.time()\n",
    "pi_jit = monte_carlo_pi_jit(nsimul)\n",
    "dt_jit = time.time() - t0\n",
    "\n",
    "\n",
    "print(\"Numpy:  \", pi_mc, dt)\n",
    "print(\"Numba:  \", pi_jit, dt_jit)"
   ]
  },
  {
   "cell_type": "markdown",
   "metadata": {},
   "source": [
    "*Isn't it supposed to work faster?*"
   ]
  },
  {
   "cell_type": "code",
   "execution_count": null,
   "metadata": {},
   "outputs": [],
   "source": [
    "t0 = time.time()\n",
    "pi_jit = monte_carlo_pi_jit(nsimul)\n",
    "dt_jit = time.time() - t0\n",
    "\n",
    "print(\"Numba:  \", pi_jit, dt_jit)"
   ]
  },
  {
   "cell_type": "code",
   "execution_count": null,
   "metadata": {},
   "outputs": [],
   "source": [
    "%timeit monte_carlo_pi_jit(nsimul)"
   ]
  },
  {
   "cell_type": "code",
   "execution_count": null,
   "metadata": {},
   "outputs": [],
   "source": [
    "@jit(nopython=True)\n",
    "def test_jit(lbound, ubound):\n",
    "    def f_to_integrate(x):\n",
    "        return x**2\n",
    "    output = quad(f_to_integrate, lbound, ubound)\n",
    "    return output"
   ]
  },
  {
   "cell_type": "code",
   "execution_count": null,
   "metadata": {},
   "outputs": [],
   "source": [
    "test_jit(-2., 2.)"
   ]
  },
  {
   "cell_type": "markdown",
   "metadata": {},
   "source": [
    "### `numba`-ing functions"
   ]
  },
  {
   "cell_type": "code",
   "execution_count": null,
   "metadata": {},
   "outputs": [],
   "source": [
    "import numba as nb\n",
    "\n",
    "def monte_carlo_vec(nsimul):\n",
    "    res = []\n",
    "    for i in range(nsimul):\n",
    "        x = np.random.rand()\n",
    "        res.append(np.cos(x))\n",
    "    return np.array(res)\n",
    "\n",
    "monte_carlo_vec_jit = nb.jit(monte_carlo_vec)\n",
    "\n",
    "nsimul = 10000\n",
    "\n",
    "t0 = time.time()\n",
    "res_mc = monte_carlo_vec(nsimul)\n",
    "dt = time.time() - t0\n",
    "\n",
    "t0 = time.time()\n",
    "res_mc_jit = monte_carlo_vec_jit(nsimul)\n",
    "dt_jit = time.time() - t0\n",
    "\n",
    "\n",
    "print(\"Numpy:  \", dt)\n",
    "print(\"Numba:  \", dt_jit)"
   ]
  },
  {
   "cell_type": "markdown",
   "metadata": {},
   "source": [
    "# Numerical integration"
   ]
  },
  {
   "cell_type": "code",
   "execution_count": null,
   "metadata": {},
   "outputs": [],
   "source": [
    "from scipy.integrate import quad, simps\n",
    "import matplotlib.pylab as plt\n",
    "import numpy as np"
   ]
  },
  {
   "cell_type": "markdown",
   "metadata": {},
   "source": [
    "**GOAL:** Integrate the density of a centered Gaussian random variable with variance $\\sigma^2>0$.\n",
    "$$\n",
    "f_{\\sigma}(x) = \\frac{1}{\\sigma\\sqrt{2\\pi}}\\exp\\left\\{-\\frac{x^2}{2\\sigma^2}\\right\\}.\n",
    "$$"
   ]
  },
  {
   "cell_type": "code",
   "execution_count": null,
   "metadata": {},
   "outputs": [],
   "source": [
    "def gauss_density(x, sig):\n",
    "    return np.exp(-x*x / (2.*sig*sig)) / (sig*np.sqrt(2.*np.pi))"
   ]
  },
  {
   "cell_type": "markdown",
   "metadata": {},
   "source": [
    "We wish to integrate the functions on the interval [-5, 5]. \n",
    "\n",
    "First Step: always plot the functions to be studied."
   ]
  },
  {
   "cell_type": "code",
   "execution_count": null,
   "metadata": {},
   "outputs": [],
   "source": [
    "xMin, xMax = -10., 10.\n",
    "sigmas = [1., 2., 3., 10.]\n",
    "xx = np.linspace(xMin, xMax, 10000)\n",
    "\n",
    "plt.figure(figsize=(10,4))\n",
    "gauss_densities = []\n",
    "for sig in sigmas:\n",
    "    \n",
    "    gauss_densities.append([gauss_density(x,sig) for x in xx])\n",
    "    plt.plot(xx, gauss_densities[-1], label='$\\sigma=$ %.1f' %sig)\n",
    "    \n",
    "plt.title(\"Gaussian densities\")\n",
    "plt.legend(loc='best')\n",
    "plt.show()"
   ]
  },
  {
   "cell_type": "markdown",
   "metadata": {},
   "source": [
    "Numerical integration documentation: \n",
    "- Simpson's rule: https://docs.scipy.org/doc/scipy/reference/generated/scipy.integrate.simps.html\n",
    "- Adaptive quadrature: https://docs.scipy.org/doc/scipy/reference/generated/scipy.integrate.quad.html"
   ]
  },
  {
   "cell_type": "code",
   "execution_count": null,
   "metadata": {},
   "outputs": [],
   "source": [
    "print('Numerical integration for f:')\n",
    "print(\"***************************\")\n",
    "for (i,sig) in enumerate(sigmas):\n",
    "    print('sigma=', sig)\n",
    "    qf = quad(gauss_density, xMin, xMax, args=(sig,))\n",
    "    qs = simps(gauss_densities[i], xx)\n",
    "    print(\"Quadrature: \", qf)\n",
    "    print(\"Simpson: \", qs)\n",
    "    print(\"***************************\")"
   ]
  },
  {
   "cell_type": "markdown",
   "metadata": {},
   "source": [
    "# Optimisation and root-finding"
   ]
  },
  {
   "cell_type": "markdown",
   "metadata": {},
   "source": [
    "We investigate some of the importants routines within the `scipy.optimize` package https://docs.scipy.org/doc/scipy/reference/optimize.html"
   ]
  },
  {
   "cell_type": "markdown",
   "metadata": {},
   "source": [
    "## Root finding"
   ]
  },
  {
   "cell_type": "markdown",
   "metadata": {},
   "source": [
    "We are interested in finding the (unique?) solution to the equation\n",
    "\\begin{equation*}\n",
    "f(x) = 0,\n",
    "\\end{equation*}\n",
    "over some given interval.\n"
   ]
  },
  {
   "cell_type": "code",
   "execution_count": null,
   "metadata": {},
   "outputs": [],
   "source": [
    "from scipy.optimize import fsolve, root, minimize\n",
    "\n",
    "def f(x):\n",
    "    return x**2 - 1.\n",
    "    \n",
    "fsolve(f, x0=0.)"
   ]
  },
  {
   "cell_type": "markdown",
   "metadata": {},
   "source": [
    "Note that this is a local solver, that needs a starting estimate. It also works in the multidimensional setting:"
   ]
  },
  {
   "cell_type": "code",
   "execution_count": null,
   "metadata": {},
   "outputs": [],
   "source": [
    "def f(x):\n",
    "    return [x[0]**2+x[1]**2-1., x[0]-x[1]]\n",
    "\n",
    "x0 = [.2, .4]\n",
    "aa = np.linspace(-1.,1.,1000)\n",
    "cirP = np.sqrt(1.-aa**2)\n",
    "cirM = -np.sqrt(1.-aa**2)\n",
    "lin = [a for a in aa]\n",
    "\n",
    "plt.figure(figsize=(5,5))\n",
    "plt.plot(aa,cirP, 'b')\n",
    "plt.plot(aa,cirM, 'b')\n",
    "plt.plot(aa,lin,'r')\n",
    "plt.show()"
   ]
  },
  {
   "cell_type": "code",
   "execution_count": null,
   "metadata": {},
   "outputs": [],
   "source": [
    "print(fsolve(f, x0))"
   ]
  },
  {
   "cell_type": "code",
   "execution_count": null,
   "metadata": {},
   "outputs": [],
   "source": [
    "print(root(f, x0))"
   ]
  },
  {
   "cell_type": "markdown",
   "metadata": {},
   "source": [
    "## Optimisation"
   ]
  },
  {
   "cell_type": "markdown",
   "metadata": {},
   "source": [
    "**Remark:** Root-finding problems can be recast as minimisation problem. For example, solving $f(x) = c$ can be tackled as\n",
    "\\begin{equation*}\n",
    "\\min_{x} \\left[f(x)-c\\right]^2.\n",
    "\\end{equation*}"
   ]
  },
  {
   "cell_type": "markdown",
   "metadata": {},
   "source": [
    "When solving an optimisation problem of the form $\\min_{x}g(x)$, we first need to consider the following question:\n",
    "- Is the objective function $g$ convex?\n",
    "- Is the objective function $g$ smooth, i.e. is its gradient defined everywhere?\n",
    "- Are there constraints?"
   ]
  },
  {
   "cell_type": "markdown",
   "metadata": {},
   "source": [
    "### One-dimensional optimisation"
   ]
  },
  {
   "cell_type": "code",
   "execution_count": null,
   "metadata": {},
   "outputs": [],
   "source": [
    "from scipy.optimize import minimize_scalar\n",
    "def f(x):\n",
    "    return x*x-1.\n",
    "\n",
    "def f2(x):\n",
    "    return f(x)**2\n",
    "\n",
    "result = minimize_scalar(f2)\n",
    "print(result)\n",
    "print(\"*******************\")\n",
    "result2 = minimize_scalar(f2, bounds=(-4., 0.), method='bounded')\n",
    "print(result2)"
   ]
  },
  {
   "cell_type": "markdown",
   "metadata": {},
   "source": [
    "# Pricing Options in the Black-Scholes model"
   ]
  },
  {
   "cell_type": "markdown",
   "metadata": {},
   "source": [
    "## Option Pricing"
   ]
  },
  {
   "cell_type": "markdown",
   "metadata": {},
   "source": [
    "A European Call option on some stock $(S_t)_{t\\geq 0}$ gives the holder the right (but not the obligation) to exchange the stock at a future time $T$ for a given price $K$.\n",
    "The initial value of such an option is therefore (by no-arbitrage arguments):\n",
    "\\begin{equation*}\n",
    "C(S_0, K, T) = \\mathbb{E}\\left[\\max(S_T-K, 0)\\right] = \n",
    "\\mathbb{E}\\left[(S_{T}-K)\\mathbb{1}_{S_T\\geq K} + 0\\mathbb{1}_{S_T< K}\\right].\n",
    "\\end{equation*}\n",
    "*Note: We consider no interest rate nor dividends here*."
   ]
  },
  {
   "cell_type": "markdown",
   "metadata": {},
   "source": [
    "## A quick and dirty introduction to Black-Scholes"
   ]
  },
  {
   "cell_type": "markdown",
   "metadata": {},
   "source": [
    "The Black–Scholes model is one of the cornerstones of mathematical finance.\n",
    "It assumes that the underlying stock price has the following dynamics:\n",
    "$$\n",
    "S_t\n",
    " = S_0\\exp\\left\\{-\\frac{\\sigma^2 t}{2} + \\sigma W_t\\right\\}\n",
    " = S_0\\exp\\left\\{-\\frac{\\sigma^2 t}{2} + \\sigma\\widetilde{n}\\sqrt{t}\\right\\} \\text{ (in distribution)},\n",
    "$$\n",
    "for each $t\\geq 0$, for some constant $\\sigma>0$, and where $\\widetilde{n}$ is a standard Gaussian random variable.\n",
    "Here $(W_t)_{t\\geq 0}$ is a standard Brownian motion, and satisfies:\n",
    "- $W_0 = 0$ almost surely;\n",
    "- for any $0\\leq s \\leq t$, $W_t - W_s$ is a Gausssian random variable with mean zero and variance $t-s$;\n",
    "- non-overlapping increments are independent.\n",
    "\n",
    "The value of a European Call option on $(S_t)_{t\\geq 0}$ in the Black-Scholes model is given, at time $t\\in [0,T]$, by\n",
    "$$\n",
    "C^{\\mathrm{BS}}(S_0, 0, K, T;\\sigma) := \\mathbb{E}\\left[\\max(S_{T} - K, 0)\\right]\n",
    " = S_0\\left(\\mathcal{N}(d_{+}) - \\mathrm{e}^{k}\\mathcal{N}(d_{-})\\right),\n",
    "$$\n",
    "where\n",
    "$$\n",
    "d_{\\pm} = \\frac{-k}{\\sigma\\sqrt{T}} \\pm\\frac{\\sigma\\sqrt{T}}{2}\n",
    "$$\n",
    "and\n",
    "- $k := \\log\\left(K / S_0\\right)$ is called the log moneyness;\n",
    "- $\\mathcal{N}(\\cdot)$ is the cumulative distribution function of the standard normal distribution,\n",
    "- $T - t$ is the time to maturity;\n",
    "- $S_t$ is the spot price of the underlying asset;\n",
    "- $K$ is the strike price;\n",
    "- $\\sigma$ is the volatility  of returns of the underlying asset.\n"
   ]
  },
  {
   "cell_type": "markdown",
   "metadata": {},
   "source": [
    "## Pricing via the closed-form formula"
   ]
  },
  {
   "cell_type": "code",
   "execution_count": null,
   "metadata": {},
   "outputs": [],
   "source": [
    "from scipy.stats import norm\n",
    "import numpy as np\n",
    "\n",
    "def blackscholes_call(S0, K, sigma, t, T):\n",
    "    '''\n",
    "    #Inputs:\n",
    "    S0: initial stock price\n",
    "    K: strike\n",
    "    sigma: instantaneous volatility\n",
    "    T: time to maturity\n",
    "    #Output:\n",
    "    Black-Scholes Call price\n",
    "    '''\n",
    "    tau = T - t\n",
    "    sigmtau = sigma*np.sqrt(tau)\n",
    "    k = np.log(K/S0)\n",
    "    dp = -k / sigmtau + 0.5*sigmtau\n",
    "    dm = dp - sigmtau\n",
    "    return S0*(norm.cdf(dp) - np.exp(k)*norm.cdf(dm))"
   ]
  },
  {
   "cell_type": "code",
   "execution_count": null,
   "metadata": {},
   "outputs": [],
   "source": [
    "S0, K, sigma, t, T = 100., 100., 0.2, 0., 1.\n",
    "print(\"Black-Scholes Call option price:\", blackscholes_call(S0,K,sigma,t,T))"
   ]
  },
  {
   "cell_type": "code",
   "execution_count": null,
   "metadata": {},
   "outputs": [],
   "source": [
    "TT = np.linspace(0.1,3.,5)\n",
    "strikes = np.linspace(70., 150, 50)\n",
    "plt.figure(figsize=(10, 4))\n",
    "\n",
    "for T in TT:\n",
    "    plt.plot(strikes, [blackscholes_call(S0,K,sigma,t,T) for K in strikes], label='T = %.2f' %T)\n",
    "\n",
    "plt.legend(loc='upper center', bbox_to_anchor=(1.1, 0.55),fancybox=True, shadow=True, ncol=1)\n",
    "plt.title('Black-Scholes Call Option prices for different maturities',y=1.05,fontsize=12)\n",
    "plt.xlabel('Strike')\n",
    "plt.ylabel('Price')\n",
    "plt.show()"
   ]
  },
  {
   "cell_type": "markdown",
   "metadata": {},
   "source": [
    "*Note:  one could also vectorise the Black-Scholes function first.*"
   ]
  },
  {
   "cell_type": "markdown",
   "metadata": {},
   "source": [
    "## Pricing by integration"
   ]
  },
  {
   "cell_type": "markdown",
   "metadata": {},
   "source": [
    "Recall that under the Black-Scholes model, the stock price satisfies at maturity $T$,\n",
    "\\begin{equation*}\n",
    "S_T\n",
    " = S_0\\exp\\left\\{-\\frac{\\sigma^2 T}{2} + \\sigma\\widetilde{n}\\sqrt{T}\\right\\},\n",
    "\\end{equation*}\n",
    "where $\\widetilde{n}$ is a Gaussian random variable. Therefore, for any function $f:\\mathbb{R}_+\\to\\mathbb{R}$, we can write\n",
    "\\begin{equation*}\n",
    "\\mathbb{E}\\left[f(S_T)\\right] = \n",
    "\\mathbb{E}\\left[f\\left(S_0\\exp\\left\\{-\\frac{\\sigma^2 T}{2} + \\sigma\\widetilde{n}\\sqrt{T}\\right\\}\\right)\\right] =\n",
    "\\int_{\\mathbb{R}}f\\left(S_0\\exp\\left\\{-\\frac{\\sigma^2 T}{2} + \\sigma x\\sqrt{T}\\right\\}\\right)\\phi(x) \\mathrm{d} x,\n",
    "\\end{equation*}\n",
    "where\n",
    "\\begin{equation*}\n",
    "\\phi(x) := \\frac{1}{\\sqrt{2\\pi}}\\exp\\left\\{-\\frac{x^2}{2}\\right\\}\n",
    "\\end{equation*}\n",
    "is the Gaussian density."
   ]
  },
  {
   "cell_type": "markdown",
   "metadata": {},
   "source": [
    "**Exercise:** Check the Black-Scholes price by integration. Hints / advice:\n",
    "- Plot the integrand as a function of $x$ to determine how to truncate the real line (integration domain);\n",
    "- Use different numerical integration packages."
   ]
  },
  {
   "cell_type": "markdown",
   "metadata": {},
   "source": [
    "## Pricing by simulation"
   ]
  },
  {
   "cell_type": "markdown",
   "metadata": {},
   "source": [
    "### Simulating Brownian motion with the Euler-Maruyama method"
   ]
  },
  {
   "cell_type": "markdown",
   "metadata": {},
   "source": [
    "A Brownian motion $(W_t)_{t\\geq 0}$ has the following properties:\n",
    "- $W_0 = 0$;\n",
    "- For any $t \\geq 0$, $\\delta \\in (0,t)$, $W_{t+\\delta} - W_{t}$ is distributed as a Gaussian with mean zero and variance $\\delta$;\n",
    "- For any $0\\leq s < t \\leq u < v$, \n",
    "the increments $(W_v - W_u)$ and $(W_t-W_s)$ are independent.\n",
    "\n",
    "Therefore, on the interval $[0,T]$, create a partition $0=t_0< \\cdots < t_i < t_{i+1}<\\cdots<t_n=T$, so that\n",
    "$$\n",
    "W_T = W_{t_n} = \\left(W_{t_n} - W_{t_{n-1}}\\right) + \\cdots + \\left(W_{t_1} - W_{t_{0}}\\right).\n",
    "$$\n",
    "Using Property (ii) above, this is equal in distribution to\n",
    "$$\n",
    "W_T = W_{t_n} = \\sqrt{t_n-t_{n-1}}\\ \\widetilde{N}_{n-1} + \\cdots +\\sqrt{t_{1}-t_{0}}\\ \\widetilde{N}_{0},\n",
    "$$\n",
    "where the sequence $(\\widetilde{N}_{i})_{i}$ is iid centered Gaussian with unit variance.\n"
   ]
  },
  {
   "cell_type": "code",
   "execution_count": null,
   "metadata": {},
   "outputs": [],
   "source": [
    "T, n, nbPaths = 1., 1000, 50\n",
    "tt = np.linspace(0., T, n) ## Equidistant discretisation grid\n",
    "dt = tt[1] - tt[0]"
   ]
  },
  {
   "cell_type": "code",
   "execution_count": null,
   "metadata": {},
   "outputs": [],
   "source": [
    "t0 = time.time()\n",
    "ww = np.zeros((n, nbPaths)) ## The Brownian motion starts at zero\n",
    "N = np.random.normal(0.,1., (nbPaths, n-1))\n",
    "for path in range(nbPaths):\n",
    "    for (i,t) in enumerate(tt[:-1]):\n",
    "        #ww[i+1,path] = ww[i,path] + np.sqrt(dt) * np.random.normal(0.,1.)\n",
    "        ww[i+1,path] = ww[i,path] + np.sqrt(dt) * N[path,i]\n",
    "t1 = time.time()-t0\n",
    "print(\"Computation time: \", t1, \" seconds\")\n",
    "\n",
    "plt.figure(figsize=(10,4))\n",
    "for path in range(nbPaths):\n",
    "    plt.plot(tt, ww[:, path])\n",
    "plt.title(\"Simulated paths of a Brownian motion\")\n",
    "plt.show()"
   ]
  },
  {
   "cell_type": "markdown",
   "metadata": {},
   "source": [
    "### Using `numpy` vectorisation"
   ]
  },
  {
   "cell_type": "code",
   "execution_count": null,
   "metadata": {},
   "outputs": [],
   "source": [
    "t0 = time.time()\n",
    "nn = np.random.normal(0., 1., (n-1, nbPaths)) * np.sqrt(dt)\n",
    "ww = np.zeros((n, nbPaths))\n",
    "ww[1:,:] = np.cumsum(nn, axis=0)\n",
    "t1 = time.time()-t0\n",
    "print(\"Computation time: \", t1, \" seconds\")\n",
    "plt.figure(figsize=(10,4))\n",
    "for path in range(nbPaths):\n",
    "    plt.plot(tt, ww[:, path])\n",
    "plt.title(\"Simulated paths of a Brownian motion\")\n",
    "plt.show()"
   ]
  },
  {
   "cell_type": "markdown",
   "metadata": {},
   "source": [
    "## Computing the implied volatility"
   ]
  },
  {
   "cell_type": "markdown",
   "metadata": {},
   "source": [
    "Given a strike $K$, a maturity $T$ and an underlying stock $S$, we can observe the European Call price $C^{\\mathrm{observed}}(S_0, K, T)$.\n",
    "The **implied volatility** is defined as the unique non-negative number $\\sigma$ solution to the equation\n",
    "\\begin{equation*}\n",
    "C^{\\mathrm{observed}}(S_0, K, T) = C^{\\mathrm{BS}}(S_0, K, T; \\sigma).\n",
    "\\end{equation*}\n",
    "The implied volatility is a kew concept in trading, and options are usually quoted in terms of their implied volatilities rather than in option prices."
   ]
  },
  {
   "cell_type": "markdown",
   "metadata": {},
   "source": [
    "# Potentially useful packages"
   ]
  },
  {
   "cell_type": "markdown",
   "metadata": {},
   "source": [
    "List of useful (at least for reference) Python libraries for Finance:\n",
    "- `zipline`: ties the statistics, the data structures, and the data sources all together using quandl data.\n",
    "- `pyfolio`: generate tearsheets containing performance statistics for strategies developed in zipline.\n",
    "- `quantlib`: extensive library for quantitative finance (pricing, yield curves, market conventions....)\n",
    "- `scikit-learn`: machine learning package\n",
    "- Exhaustive list of Finance-related libraries (not all useful or efficient): https://github.com/wilsonfreitas/awesome-quant"
   ]
  },
  {
   "cell_type": "code",
   "execution_count": null,
   "metadata": {},
   "outputs": [],
   "source": []
  }
 ],
 "metadata": {
  "kernelspec": {
   "display_name": "Python 3 (ipykernel)",
   "language": "python",
   "name": "python3"
  },
  "language_info": {
   "codemirror_mode": {
    "name": "ipython",
    "version": 3
   },
   "file_extension": ".py",
   "mimetype": "text/x-python",
   "name": "python",
   "nbconvert_exporter": "python",
   "pygments_lexer": "ipython3",
   "version": "3.9.7"
  },
  "latex_envs": {
   "LaTeX_envs_menu_present": true,
   "autoclose": false,
   "autocomplete": true,
   "bibliofile": "biblio.bib",
   "cite_by": "apalike",
   "current_citInitial": 1,
   "eqLabelWithNumbers": true,
   "eqNumInitial": 1,
   "hotkeys": {
    "equation": "Ctrl-E",
    "itemize": "Ctrl-I"
   },
   "labels_anchors": false,
   "latex_user_defs": false,
   "report_style_numbering": false,
   "user_envs_cfg": false
  },
  "toc": {
   "base_numbering": 1,
   "nav_menu": {},
   "number_sections": true,
   "sideBar": true,
   "skip_h1_title": true,
   "title_cell": "Table of Contents",
   "title_sidebar": "Contents",
   "toc_cell": false,
   "toc_position": {
    "height": "calc(100% - 180px)",
    "left": "10px",
    "top": "150px",
    "width": "164.988px"
   },
   "toc_section_display": true,
   "toc_window_display": true
  }
 },
 "nbformat": 4,
 "nbformat_minor": 4
}
