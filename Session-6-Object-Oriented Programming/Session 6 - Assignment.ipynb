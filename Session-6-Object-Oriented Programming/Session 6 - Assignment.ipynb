{
 "cells": [
  {
   "cell_type": "markdown",
   "metadata": {},
   "source": [
    "# Exercise 1\n",
    "\n",
    "## Create a deck of cards class. Internally, the deck of cards should use another class, a card class. Your requirements are:\n",
    "\n",
    "### 1. The Deck class should have a deal method to deal a single card from the deck\n",
    "### 2. After a card is dealt, it is removed from the deck.\n",
    "### 3. There should be a shuffle method which makes sure the deck of cards has all 52 cards and then rearranges them randomly.\n",
    "### 4. The Card class should have a suit (Hearts, Diamonds, Clubs, Spades) and a value (A,2,3,4,5,6,7,8,9,10,J,Q,K)"
   ]
  },
  {
   "cell_type": "markdown",
   "metadata": {},
   "source": [
    "### Hint: You may find usefull the shuffle function in the random library"
   ]
  },
  {
   "cell_type": "code",
   "execution_count": 20,
   "metadata": {},
   "outputs": [],
   "source": [
    "import numpy as np\n",
    "\n",
    "class Card():\n",
    "    def __init__(self, suit, value):\n",
    "        self.suit = suit\n",
    "        self.value = value\n",
    "\n",
    "class Deck():\n",
    "    def __init__(self):\n",
    "        suit_set = ['H', 'D', 'C', 'S']\n",
    "        value_set = ['A', '2', '3', '4', '5', '6', '7', '8', '9', '10', 'J', 'Q', 'K']\n",
    "        self.n = 52\n",
    "        self.card_list = list()\n",
    "        for s in suit_set:\n",
    "            for v in value_set:\n",
    "                self.card_list.append(Card(s,v))\n",
    "    \n",
    "    def shuffle(self):\n",
    "        new_ind = np.random.permutation(len(self.card_list))\n",
    "        self.card_list = [self.card_list[i] for i in new_ind]\n"
   ]
  },
  {
   "cell_type": "code",
   "execution_count": 21,
   "metadata": {},
   "outputs": [
    {
     "name": "stdout",
     "output_type": "stream",
     "text": [
      "H A\n",
      "H 2\n",
      "H 3\n",
      "H 4\n",
      "H 5\n",
      "H 6\n",
      "H 7\n",
      "H 8\n",
      "H 9\n",
      "H 10\n",
      "H J\n",
      "H Q\n",
      "H K\n",
      "D A\n",
      "D 2\n",
      "D 3\n",
      "D 4\n",
      "D 5\n",
      "D 6\n",
      "D 7\n",
      "D 8\n",
      "D 9\n",
      "D 10\n",
      "D J\n",
      "D Q\n",
      "D K\n",
      "C A\n",
      "C 2\n",
      "C 3\n",
      "C 4\n",
      "C 5\n",
      "C 6\n",
      "C 7\n",
      "C 8\n",
      "C 9\n",
      "C 10\n",
      "C J\n",
      "C Q\n",
      "C K\n",
      "S A\n",
      "S 2\n",
      "S 3\n",
      "S 4\n",
      "S 5\n",
      "S 6\n",
      "S 7\n",
      "S 8\n",
      "S 9\n",
      "S 10\n",
      "S J\n",
      "S Q\n",
      "S K\n",
      "C 10\n",
      "H 2\n",
      "D 5\n",
      "C K\n",
      "D 4\n",
      "H 7\n",
      "D 2\n",
      "C 5\n",
      "C 3\n",
      "S Q\n",
      "H Q\n",
      "D A\n",
      "S 9\n",
      "D K\n",
      "C 7\n",
      "H 3\n",
      "C Q\n",
      "C 4\n",
      "S 3\n",
      "S 8\n",
      "D Q\n",
      "H 5\n",
      "D 7\n",
      "D 10\n",
      "S 2\n",
      "D J\n",
      "D 9\n",
      "H J\n",
      "H 8\n",
      "H A\n",
      "S A\n",
      "D 8\n",
      "H 6\n",
      "C 6\n",
      "C 9\n",
      "S 7\n",
      "S 4\n",
      "H 10\n",
      "H 4\n",
      "C 2\n",
      "C 8\n",
      "C J\n",
      "S 5\n",
      "S J\n",
      "H K\n",
      "D 3\n",
      "C A\n",
      "H 9\n",
      "S 6\n",
      "S K\n",
      "S 10\n",
      "D 6\n"
     ]
    }
   ],
   "source": [
    "d1 = Deck()\n",
    "for c in d1.card_list:\n",
    "    print(c.suit, c.value)\n",
    "\n",
    "d1.shuffle()\n",
    "for c in d1.card_list:\n",
    "    print(c.suit, c.value)\n",
    "# print(np.random.permutation(3))"
   ]
  },
  {
   "cell_type": "markdown",
   "metadata": {},
   "source": [
    "# Exercise 2:\n",
    "### Create a Python class called BankAccount which represents a bank account, having as attributes: accountNumber (numeric type), name (name of the account owner as string type), balance.\n",
    "### 1. Create a constructor with parameters: accountNumber, name, balance.\n",
    "### 2. Create a Deposit() method which manages the deposit actions.\n",
    "### 3. Create a Withdrawal() method  which manages withdrawals actions.\n",
    "### 4. Create an bankFees() method to apply a bank fee with a percentage of 5% of the balance account.\n",
    "### 5 .Create a display() method to display account details.\n",
    "\n"
   ]
  },
  {
   "cell_type": "code",
   "execution_count": 1,
   "metadata": {},
   "outputs": [],
   "source": [
    "class BankAccount():\n",
    "    def __init__(self, accountNumber, name, balance):\n",
    "        self.accountNumber = accountNumber\n",
    "        self.name = name\n",
    "        self.balance = balance\n",
    "    \n",
    "    def Deposit(self, amount):\n",
    "        if(amount<0):\n",
    "            print(\"Please use withdrawal method!\")\n",
    "        else:\n",
    "            self.balance += amount\n",
    "        \n",
    "    def Withdrawal(self, amount):\n",
    "        if(amount<0):\n",
    "            print(\"Please use deposit method!\")\n",
    "        elif(amount>self.balance):\n",
    "            print(\"Insufficient balance!\")\n",
    "        else:\n",
    "            self.balance -= amount\n",
    "    \n",
    "    def bankFees(self):\n",
    "        return 0.05*self.balance\n",
    "    \n",
    "    def display(self):\n",
    "        print(\"-----------------------\")\n",
    "        print(\"Account Number: \", self.accountNumber)\n",
    "        print(\"Name of Owner: \", self.name)\n",
    "        print(\"Balance: \", self.balance)\n",
    "        print(\"-----------------------\")"
   ]
  },
  {
   "cell_type": "code",
   "execution_count": 2,
   "metadata": {},
   "outputs": [
    {
     "name": "stdout",
     "output_type": "stream",
     "text": [
      "-----------------------\n",
      "Account Number:  10001\n",
      "Name of Owner:  Yutong\n",
      "Balance:  100\n",
      "-----------------------\n"
     ]
    }
   ],
   "source": [
    "b1 = BankAccount(accountNumber=10001, name=\"Yutong\", balance=100)\n",
    "b1.display()"
   ]
  }
 ],
 "metadata": {
  "kernelspec": {
   "display_name": "Python 3.9.6 64-bit",
   "language": "python",
   "name": "python3"
  },
  "language_info": {
   "codemirror_mode": {
    "name": "ipython",
    "version": 3
   },
   "file_extension": ".py",
   "mimetype": "text/x-python",
   "name": "python",
   "nbconvert_exporter": "python",
   "pygments_lexer": "ipython3",
   "version": "3.9.6"
  },
  "vscode": {
   "interpreter": {
    "hash": "b0fa6594d8f4cbf19f97940f81e996739fb7646882a419484c72d19e05852a7e"
   }
  }
 },
 "nbformat": 4,
 "nbformat_minor": 4
}
