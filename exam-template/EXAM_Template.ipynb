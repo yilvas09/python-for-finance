{
 "cells": [
  {
   "cell_type": "markdown",
   "id": "57a92fec-5b12-4da6-833f-a02680858cdb",
   "metadata": {},
   "source": [
    "Python for Finance --- Exam template\n",
    "----\n",
    "***\n"
   ]
  },
  {
   "cell_type": "markdown",
   "id": "6e85bae0-d299-4fb8-9c9e-791ac67f378c",
   "metadata": {},
   "source": [
    "## GENERAL INSTRUCTIONS\n",
    "\n",
    "\n",
    "- For each question, you are asked to create a function with specific inputs and outputs.\n",
    "\n",
    "- You should copy / paste all your functions, one after the others, in a single file named `CID.py`\n",
    "\n",
    "- You may only use the following libraries (and none other)\n",
    "\n",
    "- Grading details:\n",
    "    + Clarity of the code (name of temporary variables, comments)\n",
    "    + Efficiency of the code (speed)"
   ]
  },
  {
   "cell_type": "markdown",
   "id": "dd41fd9d-d211-4f66-b127-9db377bb93a3",
   "metadata": {},
   "source": [
    "---"
   ]
  },
  {
   "cell_type": "code",
   "execution_count": 1,
   "id": "40f81878",
   "metadata": {},
   "outputs": [
    {
     "name": "stdout",
     "output_type": "stream",
     "text": [
      "3.8.10\n"
     ]
    }
   ],
   "source": [
    "import platform\n",
    "print(platform.python_version())"
   ]
  },
  {
   "cell_type": "code",
   "execution_count": 2,
   "id": "5c2dc786-84d8-477a-8b95-978b40156e1e",
   "metadata": {},
   "outputs": [],
   "source": [
    "import numpy as np\n",
    "import pandas as pd\n",
    "import time\n",
    "from scipy.stats import norm\n",
    "import matplotlib.pylab as plt\n",
    "from scipy import stats"
   ]
  },
  {
   "cell_type": "markdown",
   "id": "5261bf3a-4a68-4147-a3aa-b89b0a2acf7f",
   "metadata": {},
   "source": [
    "# Problem 1: Vectorising the Central Limit Theorem\n",
    "\n",
    "Consider an iid sequence of random variables $(X_i)_{i=1,\\ldots, n}$ with finite mean $\\mu$ and finite variance $\\sigma^2>0$, and consider\n",
    "$$\n",
    "S_n := \\frac{1}{n}\\sum_{i=1}^{n}X_i.\n",
    "$$\n",
    "The Central Limit Theorem asserts that the sequence $(S_n-\\mu)\\sqrt{n}/\\sigma$ converges in distribution to a centered Gaussian random variable with unit variance. The goal of the exercise is to verify this.\n",
    "\n",
    "We shall assume that, for any $i=1,\\ldots, n$, $X_i$ is uniformly distributed over $[0,1]$."
   ]
  },
  {
   "cell_type": "markdown",
   "id": "8a41e87c-e090-4f08-868f-6d8de2c99ad2",
   "metadata": {},
   "source": [
    "# Question 1:\n",
    "\n",
    "Write a function clt(n, m, a, b) with the following specifications:\n",
    "\n",
    "Input:\n",
    "- n: integer, representing the upper bound in the sum above\n",
    "- m: integer, representing the number of samples\n",
    "- a, b: interval over which the Uniform distribution is sampled\n",
    "\n",
    "Output:\n",
    "- a sample $(S_n^j)_{j=1,\\ldots, m}$, represented as a np.array() of dimension m.\n",
    "\n",
    "You may use `stats.uniform.rvs(size=(n,m))` to generate Uniform [0,1] samples of size (n,m).\n",
    "\n",
    "You may also use the following script to visualise your results:"
   ]
  },
  {
   "cell_type": "code",
   "execution_count": 3,
   "id": "4add5e3b-4c24-4d15-a399-77db93736b50",
   "metadata": {},
   "outputs": [],
   "source": [
    "def visualise_result(ss:np.array):\n",
    "    '''\n",
    "    ss = np.array of samples of S_n\n",
    "    '''\n",
    "    X = stats.norm(loc=np.mean(ss), scale=np.std(ss))\n",
    "    plt.hist(x=ss, bins='auto', alpha=0.7, rwidth=0.85, density=True);\n",
    "    xx = np.linspace(np.min(ss), np.max(ss), 100),\n",
    "    plt.plot(xx[0], X.pdf(xx)[0], linestyle='solid', c='red', label='True Gaussian pdf')\n",
    "    plt.show()"
   ]
  },
  {
   "cell_type": "markdown",
   "id": "07a494a0-8793-45eb-a813-39e3060d65c7",
   "metadata": {},
   "source": [
    "## Template SOLUTION"
   ]
  },
  {
   "cell_type": "code",
   "execution_count": 4,
   "id": "e69fa8bd",
   "metadata": {},
   "outputs": [],
   "source": [
    "def clt(n:int, m:int, a:float, b:float)->np.array:\n",
    "    '''\n",
    "    #Inputs:\n",
    "    n: integer, number of terms in the sum\n",
    "    m: integer, number of samples\n",
    "    [a, b]: support of the Uniform distribution\n",
    "    #Output: np.array with lenght n with samples for the arithmetic average\n",
    "    '''\n",
    "    assert(len(output)==m)\n",
    "    return output"
   ]
  },
  {
   "cell_type": "markdown",
   "id": "510963b4",
   "metadata": {},
   "source": [
    "## Full SOLUTION"
   ]
  },
  {
   "cell_type": "code",
   "execution_count": 5,
   "id": "835c7a20-fc87-48bb-94cd-244457b70e22",
   "metadata": {},
   "outputs": [],
   "source": [
    "def clt(n:int, m:int, a:float, b:float)->np.array:\n",
    "    '''\n",
    "    #Inputs:\n",
    "    n: integer, number of terms in the sum\n",
    "    m: integer, number of samples\n",
    "    [a, b]: support of the Uniform distribution\n",
    "    #Output:\n",
    "    #Output: np.array with lenght n with samples for the arithmetic average\n",
    "    '''\n",
    "    xx = a + (b-a)*stats.uniform.rvs(size=(n,m))\n",
    "    \n",
    "    ## Theoretical mean and variance of the Uniform\n",
    "    mu, sigma = (a+b)/2., np.sqrt((b-a)**2/12.)\n",
    "    \n",
    "    ss = np.sum(xx, axis=0) / n\n",
    "    ss = ss.reshape(len(ss))\n",
    "    output=(ss - mu)*np.sqrt(n) / sigma\n",
    "    assert(len(output)==m)\n",
    "    return output"
   ]
  },
  {
   "cell_type": "code",
   "execution_count": 6,
   "id": "04981e2d-2638-4dcc-a770-d79883ff2ea9",
   "metadata": {},
   "outputs": [
    {
     "data": {
      "image/png": "[encoded data removed]",
      "text/plain": [
       "<Figure size 432x288 with 1 Axes>"
      ]
     },
     "metadata": {
      "needs_background": "light"
     },
     "output_type": "display_data"
    }
   ],
   "source": [
    "n, m, a, b = 5000, 50000, 2, 5\n",
    "ss = clt(n, m, a, b)\n",
    "visualise_result(ss)"
   ]
  },
  {
   "cell_type": "markdown",
   "id": "3ed7d417-cfd8-4d89-afa8-4440e5b55d71",
   "metadata": {},
   "source": [
    "## Analysis of the results"
   ]
  },
  {
   "cell_type": "code",
   "execution_count": 7,
   "id": "7ee3da63-e588-4f6a-a772-fd7e5fde8247",
   "metadata": {},
   "outputs": [],
   "source": [
    "def problem_analysis(n:int, m:int, a:float=2, b:float=5)->list:\n",
    "    ## Compute the p-value and the computation time\n",
    "    t0 = time.time()\n",
    "    ss = clt(n, m, a, b)\n",
    "    dt = time.time() - t0\n",
    "    return stats.normaltest(ss)[1], dt"
   ]
  },
  {
   "cell_type": "code",
   "execution_count": 8,
   "id": "a008314a-fba3-4c12-9e79-5a3e1d26e80c",
   "metadata": {},
   "outputs": [
    {
     "name": "stdout",
     "output_type": "stream",
     "text": [
      "0.17241523340422948 10.9944908618927\n"
     ]
    }
   ],
   "source": [
    "n, m, a, b = 10000, 50000, 2, 5\n",
    "p, dt = problem_analysis(n,m,0,1)\n",
    "print(p, dt)"
   ]
  }
 ],
 "metadata": {
  "kernelspec": {
   "display_name": "Python 3 (ipykernel)",
   "language": "python",
   "name": "python3"
  },
  "language_info": {
   "codemirror_mode": {
    "name": "ipython",
    "version": 3
   },
   "file_extension": ".py",
   "mimetype": "text/x-python",
   "name": "python",
   "nbconvert_exporter": "python",
   "pygments_lexer": "ipython3",
   "version": "3.8.10"
  }
 },
 "nbformat": 4,
 "nbformat_minor": 5
}