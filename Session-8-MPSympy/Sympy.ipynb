{
 "cells": [
  {
   "cell_type": "markdown",
   "metadata": {},
   "source": [
    "# What is Sympy?\n",
    "\n",
    "### SymPy is a package for symbolic calculations in python, similar to Mathematica. It works with expressions containing symbols."
   ]
  },
  {
   "cell_type": "code",
   "execution_count": 1,
   "metadata": {},
   "outputs": [],
   "source": [
    "from sympy import *\n",
    "init_printing()"
   ]
  },
  {
   "cell_type": "markdown",
   "metadata": {},
   "source": [
    "Symbols are basic bricks used to construct expressions. Each symbol has a name used for printing expressions. Objects of the class Symbol should be created and assigned to python variables in order to be used in expressions. The symbol name and the name of the variable to which this symbol is assigned are two independent things, and one may write abc=Symbol('xyz'). But then one has to write abc in input expressions, while SymPy will write xyz in output ones, producing unnecessary confusion. The python variable name should better be the same as the symbol name.\n",
    "\n",
    "In languages specifically designed for symbolic calculations, such as Mathematica, if a variable to which nothing has been assigned is used, it automatically means a symbol with the same name. Python has not been designed for symbolic calculations. If you use a variable to which nothing has been assigned, you will get an error message. Symbol objects have to be created explicitly.\n"
   ]
  },
  {
   "cell_type": "code",
   "execution_count": 110,
   "metadata": {},
   "outputs": [
    {
     "data": {
      "image/png": "[encoded data removed]",
      "text/latex": [
       "$\\displaystyle x^{2} - 1$"
      ],
      "text/plain": [
       " 2    \n",
       "x  - 1"
      ]
     },
     "execution_count": 110,
     "metadata": {},
     "output_type": "execute_result"
    }
   ],
   "source": [
    "x=Symbol('x')\n",
    "a=x**2-1\n",
    "a"
   ]
  },
  {
   "cell_type": "markdown",
   "metadata": {},
   "source": [
    "## Elementary functions"
   ]
  },
  {
   "cell_type": "markdown",
   "metadata": {},
   "source": [
    "### SymPy automatically applies simplifications of elementary functions which are correct everywhere."
   ]
  },
  {
   "cell_type": "code",
   "execution_count": 13,
   "metadata": {},
   "outputs": [
    {
     "data": {
      "image/png": "[encoded data removed]",
      "text/latex": [
       "$\\displaystyle - \\sin{\\left(x \\right)}$"
      ],
      "text/plain": [
       "-sin(x)"
      ]
     },
     "execution_count": 13,
     "metadata": {},
     "output_type": "execute_result"
    }
   ],
   "source": [
    "sin(-x)"
   ]
  },
  {
   "cell_type": "code",
   "execution_count": 14,
   "metadata": {},
   "outputs": [
    {
     "data": {
      "image/png": "[encoded data removed]",
      "text/latex": [
       "$\\displaystyle \\left( \\frac{\\sqrt{2}}{2}, \\  - \\frac{\\sqrt{3}}{3}\\right)$"
      ],
      "text/plain": [
       "⎛√2  -√3 ⎞\n",
       "⎜──, ────⎟\n",
       "⎝2    3  ⎠"
      ]
     },
     "execution_count": 14,
     "metadata": {},
     "output_type": "execute_result"
    }
   ],
   "source": [
    "cos(pi/4),tan(5*pi/6)"
   ]
  },
  {
   "cell_type": "markdown",
   "metadata": {},
   "source": [
    "### SymPy can work with floating point numbers having arbitrarily high precision. Here is π with 100 significant digits."
   ]
  },
  {
   "cell_type": "code",
   "execution_count": 15,
   "metadata": {},
   "outputs": [
    {
     "data": {
      "image/png": "[encoded data removed]",
      "text/latex": [
       "$\\displaystyle 3.141592653589793238462643383279502884197169399375105820974944592307816406286208998628034825342117068$"
      ],
      "text/plain": [
       "3.1415926535897932384626433832795028841971693993751058209749445923078164062862\n",
       "08998628034825342117068"
      ]
     },
     "execution_count": 15,
     "metadata": {},
     "output_type": "execute_result"
    }
   ],
   "source": [
    "pi.n(100)"
   ]
  },
  {
   "cell_type": "code",
   "execution_count": 10,
   "metadata": {},
   "outputs": [
    {
     "data": {
      "image/png": "[encoded data removed]",
      "text/latex": [
       "$\\displaystyle \\left( 0, \\  1\\right)$"
      ],
      "text/plain": [
       "(0, 1)"
      ]
     },
     "execution_count": 10,
     "metadata": {},
     "output_type": "execute_result"
    }
   ],
   "source": [
    "log(1),log(E)"
   ]
  },
  {
   "cell_type": "code",
   "execution_count": 19,
   "metadata": {},
   "outputs": [
    {
     "data": {
      "image/png": "[encoded data removed]",
      "text/latex": [
       "$\\displaystyle \\left( x^{2}, \\  \\sqrt{x^{4}}\\right)$"
      ],
      "text/plain": [
       "⎛       ____⎞\n",
       "⎜ 2    ╱  4 ⎟\n",
       "⎝x , ╲╱  x  ⎠"
      ]
     },
     "execution_count": 19,
     "metadata": {},
     "output_type": "execute_result"
    }
   ],
   "source": [
    "sqrt(x)**4,sqrt(x**4)"
   ]
  },
  {
   "cell_type": "markdown",
   "metadata": {},
   "source": [
    "### Symbols can have certain properties. E.g., they can be positive. Then SymPy can simplify square roots better."
   ]
  },
  {
   "cell_type": "code",
   "execution_count": 27,
   "metadata": {},
   "outputs": [
    {
     "data": {
      "image/png": "[encoded data removed]",
      "text/latex": [
       "$\\displaystyle p$"
      ],
      "text/plain": [
       "p"
      ]
     },
     "execution_count": 27,
     "metadata": {},
     "output_type": "execute_result"
    }
   ],
   "source": [
    "p,q,y=symbols('p q y',positive=True)\n",
    "sqrt(p**2)"
   ]
  },
  {
   "cell_type": "code",
   "execution_count": 28,
   "metadata": {},
   "outputs": [
    {
     "data": {
      "image/png": "[encoded data removed]",
      "text/latex": [
       "$\\displaystyle \\left( 2 \\sqrt{3} \\sqrt{y} \\sqrt{x^{2}}, \\  2 \\sqrt{3} p \\sqrt{y}\\right)$"
      ],
      "text/plain": [
       "⎛           ____           ⎞\n",
       "⎜          ╱  2            ⎟\n",
       "⎝2⋅√3⋅√y⋅╲╱  x  , 2⋅√3⋅p⋅√y⎠"
      ]
     },
     "execution_count": 28,
     "metadata": {},
     "output_type": "execute_result"
    }
   ],
   "source": [
    "sqrt(12*x**2*y),sqrt(12*p**2*y)"
   ]
  },
  {
   "cell_type": "markdown",
   "metadata": {},
   "source": [
    "### Let the symbol n be integer (I is the imaginary unit)."
   ]
  },
  {
   "cell_type": "code",
   "execution_count": 30,
   "metadata": {},
   "outputs": [
    {
     "data": {
      "image/png": "[encoded data removed]",
      "text/latex": [
       "$\\displaystyle 1$"
      ],
      "text/plain": [
       "1"
      ]
     },
     "execution_count": 30,
     "metadata": {},
     "output_type": "execute_result"
    }
   ],
   "source": [
    "n=Symbol('n',integer=True)\n",
    "exp(2*pi*I*n)"
   ]
  },
  {
   "cell_type": "markdown",
   "metadata": {},
   "source": [
    "### The method rewrite tries to rewrite an expression in terms of a given function."
   ]
  },
  {
   "cell_type": "code",
   "execution_count": 32,
   "metadata": {},
   "outputs": [
    {
     "data": {
      "image/png": "[encoded data removed]",
      "text/latex": [
       "$\\displaystyle \\left( \\frac{e^{i x}}{2} + \\frac{e^{- i x}}{2}, \\  i \\sin{\\left(x \\right)} + \\cos{\\left(x \\right)}\\right)$"
      ],
      "text/plain": [
       "⎛ ⅈ⋅x    -ⅈ⋅x                   ⎞\n",
       "⎜ℯ      ℯ                       ⎟\n",
       "⎜──── + ─────, ⅈ⋅sin(x) + cos(x)⎟\n",
       "⎝ 2       2                     ⎠"
      ]
     },
     "execution_count": 32,
     "metadata": {},
     "output_type": "execute_result"
    }
   ],
   "source": [
    "cos(x).rewrite(exp),exp(I*x).rewrite(sin)"
   ]
  },
  {
   "cell_type": "code",
   "execution_count": 34,
   "metadata": {},
   "outputs": [
    {
     "data": {
      "image/png": "[encoded data removed]",
      "text/latex": [
       "$\\displaystyle - i \\log{\\left(i x + \\sqrt{1 - x^{2}} \\right)}$"
      ],
      "text/plain": [
       "      ⎛         ________⎞\n",
       "      ⎜        ╱      2 ⎟\n",
       "-ⅈ⋅log⎝ⅈ⋅x + ╲╱  1 - x  ⎠"
      ]
     },
     "execution_count": 34,
     "metadata": {},
     "output_type": "execute_result"
    }
   ],
   "source": [
    "asin(x).rewrite(log)"
   ]
  },
  {
   "cell_type": "code",
   "execution_count": 38,
   "metadata": {},
   "outputs": [
    {
     "data": {
      "image/png": "[encoded data removed]",
      "text/latex": [
       "$\\displaystyle a_{1} \\cos{\\left(x \\right)} + a_{2} \\cos{\\left(2 x \\right)} + b_{1} \\sin{\\left(x \\right)} + b_{2} \\sin{\\left(2 x \\right)}$"
      ],
      "text/plain": [
       "a₁⋅cos(x) + a₂⋅cos(2⋅x) + b₁⋅sin(x) + b₂⋅sin(2⋅x)"
      ]
     },
     "execution_count": 38,
     "metadata": {},
     "output_type": "execute_result"
    }
   ],
   "source": [
    "a1,a2,b1,b2=symbols('a1 a2 b1 b2')\n",
    "a=a1*cos(x)+a2*cos(2*x)+b1*sin(x)+b2*sin(2*x)\n",
    "a"
   ]
  },
  {
   "cell_type": "markdown",
   "metadata": {},
   "source": [
    "### We want to square it and get a truncated Fourier series again."
   ]
  },
  {
   "cell_type": "code",
   "execution_count": 39,
   "metadata": {},
   "outputs": [
    {
     "data": {
      "image/png": "[encoded data removed]",
      "text/latex": [
       "$\\displaystyle \\frac{a_{1}^{2} \\cos{\\left(2 x \\right)}}{2} + \\frac{a_{1}^{2}}{2} + a_{1} a_{2} \\cos{\\left(x \\right)} + a_{1} a_{2} \\cos{\\left(3 x \\right)} + a_{1} b_{1} \\sin{\\left(2 x \\right)} + a_{1} b_{2} \\sin{\\left(x \\right)} + a_{1} b_{2} \\sin{\\left(3 x \\right)} + \\frac{a_{2}^{2} \\cos{\\left(4 x \\right)}}{2} + \\frac{a_{2}^{2}}{2} - a_{2} b_{1} \\sin{\\left(x \\right)} + a_{2} b_{1} \\sin{\\left(3 x \\right)} + a_{2} b_{2} \\sin{\\left(4 x \\right)} - \\frac{b_{1}^{2} \\cos{\\left(2 x \\right)}}{2} + \\frac{b_{1}^{2}}{2} + b_{1} b_{2} \\cos{\\left(x \\right)} - b_{1} b_{2} \\cos{\\left(3 x \\right)} - \\frac{b_{2}^{2} \\cos{\\left(4 x \\right)}}{2} + \\frac{b_{2}^{2}}{2}$"
      ],
      "text/plain": [
       "  2              2                                                            \n",
       "a₁ ⋅cos(2⋅x)   a₁                                                             \n",
       "──────────── + ─── + a₁⋅a₂⋅cos(x) + a₁⋅a₂⋅cos(3⋅x) + a₁⋅b₁⋅sin(2⋅x) + a₁⋅b₂⋅si\n",
       "     2          2                                                             \n",
       "\n",
       "                          2              2                                    \n",
       "                        a₂ ⋅cos(4⋅x)   a₂                                     \n",
       "n(x) + a₁⋅b₂⋅sin(3⋅x) + ──────────── + ─── - a₂⋅b₁⋅sin(x) + a₂⋅b₁⋅sin(3⋅x) + a\n",
       "                             2          2                                     \n",
       "\n",
       "                  2              2                                     2      \n",
       "                b₁ ⋅cos(2⋅x)   b₁                                    b₂ ⋅cos(4\n",
       "₂⋅b₂⋅sin(4⋅x) - ──────────── + ─── + b₁⋅b₂⋅cos(x) - b₁⋅b₂⋅cos(3⋅x) - ─────────\n",
       "                     2          2                                         2   \n",
       "\n",
       "        2\n",
       "⋅x)   b₂ \n",
       "─── + ───\n",
       "       2 "
      ]
     },
     "execution_count": 39,
     "metadata": {},
     "output_type": "execute_result"
    }
   ],
   "source": [
    "a=(a**2).rewrite(exp).expand().rewrite(cos).expand()\n",
    "a"
   ]
  },
  {
   "cell_type": "code",
   "execution_count": 40,
   "metadata": {},
   "outputs": [],
   "source": [
    "a=expand_log(log(p*q**2))"
   ]
  },
  {
   "cell_type": "code",
   "execution_count": 41,
   "metadata": {},
   "outputs": [
    {
     "data": {
      "image/png": "[encoded data removed]",
      "text/latex": [
       "$\\displaystyle \\log{\\left(p \\right)} + 2 \\log{\\left(q \\right)}$"
      ],
      "text/plain": [
       "log(p) + 2⋅log(q)"
      ]
     },
     "execution_count": 41,
     "metadata": {},
     "output_type": "execute_result"
    }
   ],
   "source": [
    "a"
   ]
  },
  {
   "cell_type": "markdown",
   "metadata": {},
   "source": [
    "## New symbolic functions can be introduced. They may have an arbitrary numbers of arguments."
   ]
  },
  {
   "cell_type": "code",
   "execution_count": 42,
   "metadata": {},
   "outputs": [
    {
     "data": {
      "image/png": "[encoded data removed]",
      "text/latex": [
       "$\\displaystyle f{\\left(x \\right)} + f{\\left(x,y \\right)}$"
      ],
      "text/plain": [
       "f(x) + f(x, y)"
      ]
     },
     "execution_count": 42,
     "metadata": {},
     "output_type": "execute_result"
    }
   ],
   "source": [
    "f=Function('f')\n",
    "f(x)+f(x,y)"
   ]
  },
  {
   "cell_type": "markdown",
   "metadata": {},
   "source": [
    "## Solving equations"
   ]
  },
  {
   "cell_type": "code",
   "execution_count": 43,
   "metadata": {},
   "outputs": [],
   "source": [
    "a,b,c,d,e,f=symbols('a b c d e f')\n"
   ]
  },
  {
   "cell_type": "code",
   "execution_count": 44,
   "metadata": {},
   "outputs": [
    {
     "data": {
      "image/png": "[encoded data removed]",
      "text/latex": [
       "$\\displaystyle \\left[ \\frac{b}{a}\\right]$"
      ],
      "text/plain": [
       "⎡b⎤\n",
       "⎢─⎥\n",
       "⎣a⎦"
      ]
     },
     "execution_count": 44,
     "metadata": {},
     "output_type": "execute_result"
    }
   ],
   "source": [
    "solve(Eq(a*x,b),x)"
   ]
  },
  {
   "cell_type": "markdown",
   "metadata": {},
   "source": [
    "### Instead of equations, one may pass just expressions to solve; they mean equations <expression>=0."
   ]
  },
  {
   "cell_type": "code",
   "execution_count": 45,
   "metadata": {},
   "outputs": [
    {
     "data": {
      "image/png": "[encoded data removed]",
      "text/latex": [
       "$\\displaystyle \\left[ - \\frac{b}{a}\\right]$"
      ],
      "text/plain": [
       "⎡-b ⎤\n",
       "⎢───⎥\n",
       "⎣ a ⎦"
      ]
     },
     "execution_count": 45,
     "metadata": {},
     "output_type": "execute_result"
    }
   ],
   "source": [
    "solve(a*x+b,x)"
   ]
  },
  {
   "cell_type": "code",
   "execution_count": 46,
   "metadata": {},
   "outputs": [
    {
     "data": {
      "image/png": "[encoded data removed]",
      "text/latex": [
       "$\\displaystyle \\left[ \\frac{- b + \\sqrt{- 4 a c + b^{2}}}{2 a}, \\  - \\frac{b + \\sqrt{- 4 a c + b^{2}}}{2 a}\\right]$"
      ],
      "text/plain": [
       "⎡        _____________   ⎛       _____________⎞ ⎤\n",
       "⎢       ╱           2    ⎜      ╱           2 ⎟ ⎥\n",
       "⎢-b + ╲╱  -4⋅a⋅c + b    -⎝b + ╲╱  -4⋅a⋅c + b  ⎠ ⎥\n",
       "⎢─────────────────────, ────────────────────────⎥\n",
       "⎣         2⋅a                     2⋅a           ⎦"
      ]
     },
     "execution_count": 46,
     "metadata": {},
     "output_type": "execute_result"
    }
   ],
   "source": [
    "## A square equation has 2 solutions:\n",
    "solve(a*x**2+b*x+c,x)\n"
   ]
  },
  {
   "cell_type": "code",
   "execution_count": 47,
   "metadata": {},
   "outputs": [
    {
     "data": {
      "image/png": "[encoded data removed]",
      "text/latex": [
       "$\\displaystyle \\left\\{ x : \\frac{- b f + d e}{a d - b c}, \\  y : \\frac{a f - c e}{a d - b c}\\right\\}$"
      ],
      "text/plain": [
       "⎧   -b⋅f + d⋅e     a⋅f - c⋅e⎫\n",
       "⎨x: ──────────, y: ─────────⎬\n",
       "⎩   a⋅d - b⋅c      a⋅d - b⋅c⎭"
      ]
     },
     "execution_count": 47,
     "metadata": {},
     "output_type": "execute_result"
    }
   ],
   "source": [
    "## A system of linear equations.\n",
    "solve([a*x+b*y-e,c*x+d*y-f],[x,y])\n"
   ]
  },
  {
   "cell_type": "code",
   "execution_count": 118,
   "metadata": {},
   "outputs": [
    {
     "data": {
      "image/png": "[encoded data removed]",
      "text/latex": [
       "$\\displaystyle \\left\\{ -2.0 : 1, \\  1.0 : 2\\right\\}$"
      ],
      "text/plain": [
       "{-2.0: 1, 1.0: 2}"
      ]
     },
     "execution_count": 118,
     "metadata": {},
     "output_type": "execute_result"
    }
   ],
   "source": [
    "## The function roots returns roots of a polynomial together with their multiplicities.\n",
    "roots((x**3-3*x+2),x)"
   ]
  },
  {
   "cell_type": "markdown",
   "metadata": {},
   "source": [
    "## Series"
   ]
  },
  {
   "cell_type": "code",
   "execution_count": 111,
   "metadata": {},
   "outputs": [
    {
     "data": {
      "image/png": "[encoded data removed]",
      "text/latex": [
       "$\\displaystyle 1 + x + \\frac{x^{2}}{2} + \\frac{x^{3}}{6} + \\frac{x^{4}}{24} + \\frac{x^{5}}{120} + \\frac{x^{6}}{720} + \\frac{x^{7}}{5040} + \\frac{x^{8}}{40320} + \\frac{x^{9}}{362880} + O\\left(x^{10}\\right)$"
      ],
      "text/plain": [
       "         2    3    4     5     6     7       8       9           \n",
       "        x    x    x     x     x     x       x       x       ⎛ 10⎞\n",
       "1 + x + ── + ── + ── + ─── + ─── + ──── + ───── + ────── + O⎝x  ⎠\n",
       "        2    6    24   120   720   5040   40320   362880         "
      ]
     },
     "execution_count": 111,
     "metadata": {},
     "output_type": "execute_result"
    }
   ],
   "source": [
    "exp(x).series(x,0,10)\n"
   ]
  },
  {
   "cell_type": "markdown",
   "metadata": {},
   "source": [
    "### If we don't specify around which point default is around 0"
   ]
  },
  {
   "cell_type": "code",
   "execution_count": 54,
   "metadata": {},
   "outputs": [
    {
     "data": {
      "image/png": "[encoded data removed]",
      "text/latex": [
       "$\\displaystyle \\frac{1}{x} - \\frac{x}{3} - \\frac{x^{3}}{45} + O\\left(x^{5}\\right)$"
      ],
      "text/plain": [
       "         3        \n",
       "1   x   x     ⎛ 5⎞\n",
       "─ - ─ - ── + O⎝x ⎠\n",
       "x   3   45        "
      ]
     },
     "execution_count": 54,
     "metadata": {},
     "output_type": "execute_result"
    }
   ],
   "source": [
    "cot(x).series(x,n=5)"
   ]
  },
  {
   "cell_type": "code",
   "execution_count": 55,
   "metadata": {},
   "outputs": [
    {
     "data": {
      "image/png": "[encoded data removed]",
      "text/latex": [
       "$\\displaystyle \\sqrt{x} - \\frac{x^{\\frac{3}{2}}}{2} - \\frac{x^{\\frac{5}{2}}}{8} - \\frac{x^{\\frac{7}{2}}}{16} - \\frac{5 x^{\\frac{9}{2}}}{128} + O\\left(x^{5}\\right)$"
      ],
      "text/plain": [
       "      3/2    5/2    7/2      9/2        \n",
       "     x      x      x      5⋅x       ⎛ 5⎞\n",
       "√x - ──── - ──── - ──── - ────── + O⎝x ⎠\n",
       "      2      8      16     128          "
      ]
     },
     "execution_count": 55,
     "metadata": {},
     "output_type": "execute_result"
    }
   ],
   "source": [
    "## A series can have negative powers or non-integer powers.\n",
    "sqrt(x*(1-x)).series(x,n=5)\n"
   ]
  },
  {
   "cell_type": "markdown",
   "metadata": {},
   "source": [
    "### Operations on series"
   ]
  },
  {
   "cell_type": "code",
   "execution_count": 57,
   "metadata": {},
   "outputs": [],
   "source": [
    "sinx=series(sin(x),x,0,8)\n",
    "cosx=series(cos(x),x,n=8)\n",
    "tanx=series(tan(x),x,n=8)"
   ]
  },
  {
   "cell_type": "code",
   "execution_count": 62,
   "metadata": {},
   "outputs": [
    {
     "data": {
      "image/png": "[encoded data removed]",
      "text/latex": [
       "$\\displaystyle x - \\frac{x^{3}}{6} + \\frac{x^{5}}{120} - \\frac{x^{7}}{5040} + O\\left(x^{8}\\right)$"
      ],
      "text/plain": [
       "     3     5     7         \n",
       "    x     x     x      ⎛ 8⎞\n",
       "x - ── + ─── - ──── + O⎝x ⎠\n",
       "    6    120   5040        "
      ]
     },
     "execution_count": 62,
     "metadata": {},
     "output_type": "execute_result"
    }
   ],
   "source": [
    "series(tanx*cosx,n=8)"
   ]
  },
  {
   "cell_type": "code",
   "execution_count": 63,
   "metadata": {},
   "outputs": [
    {
     "data": {
      "image/png": "[encoded data removed]",
      "text/latex": [
       "$\\displaystyle x + \\frac{x^{3}}{3} + \\frac{2 x^{5}}{15} + \\frac{17 x^{7}}{315} + O\\left(x^{8}\\right)$"
      ],
      "text/plain": [
       "     3      5       7        \n",
       "    x    2⋅x    17⋅x     ⎛ 8⎞\n",
       "x + ── + ──── + ───── + O⎝x ⎠\n",
       "    3     15     315         "
      ]
     },
     "execution_count": 63,
     "metadata": {},
     "output_type": "execute_result"
    }
   ],
   "source": [
    "series(sinx/cosx,n=8)"
   ]
  },
  {
   "cell_type": "code",
   "execution_count": 64,
   "metadata": {},
   "outputs": [
    {
     "data": {
      "image/png": "[encoded data removed]",
      "text/latex": [
       "$\\displaystyle 1 - \\frac{x^{2}}{2} + \\frac{x^{4}}{24} - \\frac{x^{6}}{720} + O\\left(x^{8}\\right)$"
      ],
      "text/plain": [
       "     2    4     6        \n",
       "    x    x     x     ⎛ 8⎞\n",
       "1 - ── + ── - ─── + O⎝x ⎠\n",
       "    2    24   720        "
      ]
     },
     "execution_count": 64,
     "metadata": {},
     "output_type": "execute_result"
    }
   ],
   "source": [
    "cosx"
   ]
  },
  {
   "cell_type": "code",
   "execution_count": 65,
   "metadata": {},
   "outputs": [
    {
     "data": {
      "image/png": "[encoded data removed]",
      "text/latex": [
       "$\\displaystyle x - \\frac{x^{3}}{6} + \\frac{x^{5}}{120} - \\frac{x^{7}}{5040} + O\\left(x^{9}\\right)$"
      ],
      "text/plain": [
       "     3     5     7         \n",
       "    x     x     x      ⎛ 9⎞\n",
       "x - ── + ─── - ──── + O⎝x ⎠\n",
       "    6    120   5040        "
      ]
     },
     "execution_count": 65,
     "metadata": {},
     "output_type": "execute_result"
    }
   ],
   "source": [
    "integrate(cosx,x)"
   ]
  },
  {
   "cell_type": "markdown",
   "metadata": {},
   "source": [
    "# Derivatives"
   ]
  },
  {
   "cell_type": "code",
   "execution_count": 66,
   "metadata": {},
   "outputs": [
    {
     "data": {
      "image/png": "[encoded data removed]",
      "text/latex": [
       "$\\displaystyle x \\sin{\\left(x + y \\right)}$"
      ],
      "text/plain": [
       "x⋅sin(x + y)"
      ]
     },
     "execution_count": 66,
     "metadata": {},
     "output_type": "execute_result"
    }
   ],
   "source": [
    "a=x*sin(x+y)\n",
    "a"
   ]
  },
  {
   "cell_type": "code",
   "execution_count": 67,
   "metadata": {},
   "outputs": [
    {
     "data": {
      "image/png": "[encoded data removed]",
      "text/latex": [
       "$\\displaystyle x \\cos{\\left(x + y \\right)} + \\sin{\\left(x + y \\right)}$"
      ],
      "text/plain": [
       "x⋅cos(x + y) + sin(x + y)"
      ]
     },
     "execution_count": 67,
     "metadata": {},
     "output_type": "execute_result"
    }
   ],
   "source": [
    "diff(a,x)"
   ]
  },
  {
   "cell_type": "code",
   "execution_count": 68,
   "metadata": {},
   "outputs": [
    {
     "data": {
      "image/png": "[encoded data removed]",
      "text/latex": [
       "$\\displaystyle x \\cos{\\left(x + y \\right)}$"
      ],
      "text/plain": [
       "x⋅cos(x + y)"
      ]
     },
     "execution_count": 68,
     "metadata": {},
     "output_type": "execute_result"
    }
   ],
   "source": [
    "diff(a,y)"
   ]
  },
  {
   "cell_type": "markdown",
   "metadata": {},
   "source": [
    "### Higer order derivatives"
   ]
  },
  {
   "cell_type": "code",
   "execution_count": 69,
   "metadata": {},
   "outputs": [
    {
     "data": {
      "image/png": "[encoded data removed]",
      "text/latex": [
       "$\\displaystyle - x \\sin{\\left(x + y \\right)} + 2 \\cos{\\left(x + y \\right)}$"
      ],
      "text/plain": [
       "-x⋅sin(x + y) + 2⋅cos(x + y)"
      ]
     },
     "execution_count": 69,
     "metadata": {},
     "output_type": "execute_result"
    }
   ],
   "source": [
    "diff(a,x,2)"
   ]
  },
  {
   "cell_type": "code",
   "execution_count": 70,
   "metadata": {},
   "outputs": [
    {
     "data": {
      "image/png": "[encoded data removed]",
      "text/latex": [
       "$\\displaystyle - (x \\cos{\\left(x + y \\right)} + 2 \\sin{\\left(x + y \\right)})$"
      ],
      "text/plain": [
       "-(x⋅cos(x + y) + 2⋅sin(x + y))"
      ]
     },
     "execution_count": 70,
     "metadata": {},
     "output_type": "execute_result"
    }
   ],
   "source": [
    "diff(a,x,2,y,1)"
   ]
  },
  {
   "cell_type": "markdown",
   "metadata": {},
   "source": [
    "# Integrals"
   ]
  },
  {
   "cell_type": "markdown",
   "metadata": {},
   "source": [
    "### Indefinite integrals"
   ]
  },
  {
   "cell_type": "code",
   "execution_count": 71,
   "metadata": {},
   "outputs": [
    {
     "data": {
      "image/png": "[encoded data removed]",
      "text/latex": [
       "$\\displaystyle \\frac{\\log{\\left(x \\right)}}{4} - \\frac{\\log{\\left(x^{2} - 2 \\right)}}{8} - \\frac{1}{4 x^{2} - 8}$"
      ],
      "text/plain": [
       "            ⎛ 2    ⎞           \n",
       "log(x)   log⎝x  - 2⎠      1    \n",
       "────── - ─────────── - ────────\n",
       "  4           8           2    \n",
       "                       4⋅x  - 8"
      ]
     },
     "execution_count": 71,
     "metadata": {},
     "output_type": "execute_result"
    }
   ],
   "source": [
    "integrate(1/(x*(x**2-2)**2),x)"
   ]
  },
  {
   "cell_type": "code",
   "execution_count": 72,
   "metadata": {},
   "outputs": [
    {
     "data": {
      "image/png": "[encoded data removed]",
      "text/latex": [
       "$\\displaystyle x - \\log{\\left(e^{x} + 1 \\right)}$"
      ],
      "text/plain": [
       "       ⎛ x    ⎞\n",
       "x - log⎝ℯ  + 1⎠"
      ]
     },
     "execution_count": 72,
     "metadata": {},
     "output_type": "execute_result"
    }
   ],
   "source": [
    "integrate(1/(exp(x)+1),x)"
   ]
  },
  {
   "cell_type": "markdown",
   "metadata": {},
   "source": [
    "### Definite integrals"
   ]
  },
  {
   "cell_type": "code",
   "execution_count": 73,
   "metadata": {},
   "outputs": [
    {
     "data": {
      "image/png": "[encoded data removed]",
      "text/latex": [
       "$\\displaystyle 2$"
      ],
      "text/plain": [
       "2"
      ]
     },
     "execution_count": 73,
     "metadata": {},
     "output_type": "execute_result"
    }
   ],
   "source": [
    "integrate(sin(x),(x,0,pi))"
   ]
  },
  {
   "cell_type": "code",
   "execution_count": 74,
   "metadata": {},
   "outputs": [
    {
     "data": {
      "image/png": "[encoded data removed]",
      "text/latex": [
       "$\\displaystyle \\frac{\\sqrt{\\pi}}{2}$"
      ],
      "text/plain": [
       "√π\n",
       "──\n",
       "2 "
      ]
     },
     "execution_count": 74,
     "metadata": {},
     "output_type": "execute_result"
    }
   ],
   "source": [
    "integrate(exp(-x**2),(x,0,oo))"
   ]
  },
  {
   "cell_type": "markdown",
   "metadata": {},
   "source": [
    "# Sums and sequences"
   ]
  },
  {
   "cell_type": "code",
   "execution_count": 75,
   "metadata": {},
   "outputs": [
    {
     "data": {
      "image/png": "[encoded data removed]",
      "text/latex": [
       "$\\displaystyle \\sum_{n=0}^{\\infty} \\frac{x^{n}}{n!}$"
      ],
      "text/plain": [
       "  ∞     \n",
       " ____   \n",
       " ╲      \n",
       "  ╲    n\n",
       "   ╲  x \n",
       "   ╱  ──\n",
       "  ╱   n!\n",
       " ╱      \n",
       " ‾‾‾‾   \n",
       "n = 0   "
      ]
     },
     "execution_count": 75,
     "metadata": {},
     "output_type": "execute_result"
    }
   ],
   "source": [
    "a=Sum(x**n/factorial(n),(n,0,oo))\n",
    "a"
   ]
  },
  {
   "cell_type": "code",
   "execution_count": 76,
   "metadata": {},
   "outputs": [
    {
     "data": {
      "image/png": "[encoded data removed]",
      "text/latex": [
       "$\\displaystyle e^{x}$"
      ],
      "text/plain": [
       " x\n",
       "ℯ "
      ]
     },
     "execution_count": 76,
     "metadata": {},
     "output_type": "execute_result"
    }
   ],
   "source": [
    "a.doit()"
   ]
  },
  {
   "cell_type": "code",
   "execution_count": 77,
   "metadata": {},
   "outputs": [
    {
     "data": {
      "image/png": "[encoded data removed]",
      "text/latex": [
       "$\\displaystyle \\sum_{n=0}^{\\infty} \\frac{x^{n}}{n!} = e^{x}$"
      ],
      "text/plain": [
       "  ∞          \n",
       " ____        \n",
       " ╲           \n",
       "  ╲    n     \n",
       "   ╲  x     x\n",
       "   ╱  ── = ℯ \n",
       "  ╱   n!     \n",
       " ╱           \n",
       " ‾‾‾‾        \n",
       "n = 0        "
      ]
     },
     "execution_count": 77,
     "metadata": {},
     "output_type": "execute_result"
    }
   ],
   "source": [
    "Eq(a,a.doit())"
   ]
  },
  {
   "cell_type": "code",
   "execution_count": 78,
   "metadata": {},
   "outputs": [
    {
     "data": {
      "image/png": "[encoded data removed]",
      "text/latex": [
       "$\\displaystyle \\sum_{n=0}^{\\infty} x^{n}$"
      ],
      "text/plain": [
       "  ∞     \n",
       " ___    \n",
       " ╲      \n",
       "  ╲    n\n",
       "  ╱   x \n",
       " ╱      \n",
       " ‾‾‾    \n",
       "n = 0   "
      ]
     },
     "execution_count": 78,
     "metadata": {},
     "output_type": "execute_result"
    }
   ],
   "source": [
    "a=Sum(x**n,(n,0,oo))\n",
    "a"
   ]
  },
  {
   "cell_type": "code",
   "execution_count": 79,
   "metadata": {},
   "outputs": [
    {
     "data": {
      "image/png": "[encoded data removed]",
      "text/latex": [
       "$\\displaystyle \\sum_{n=0}^{\\infty} x^{n} = \\begin{cases} \\frac{1}{1 - x} & \\text{for}\\: \\left|{x}\\right| < 1 \\\\\\sum_{n=0}^{\\infty} x^{n} & \\text{otherwise} \\end{cases}$"
      ],
      "text/plain": [
       "           ⎧   1                 \n",
       "           ⎪ ─────    for │x│ < 1\n",
       "  ∞        ⎪ 1 - x               \n",
       " ___       ⎪                     \n",
       " ╲         ⎪  ∞                  \n",
       "  ╲    n   ⎪ ___                 \n",
       "  ╱   x  = ⎨ ╲                   \n",
       " ╱         ⎪  ╲    n             \n",
       " ‾‾‾       ⎪  ╱   x    otherwise \n",
       "n = 0      ⎪ ╱                   \n",
       "           ⎪ ‾‾‾                 \n",
       "           ⎪n = 0                \n",
       "           ⎩                     "
      ]
     },
     "execution_count": 79,
     "metadata": {},
     "output_type": "execute_result"
    }
   ],
   "source": [
    "Eq(a,a.doit())"
   ]
  },
  {
   "cell_type": "markdown",
   "metadata": {},
   "source": [
    "# Limits"
   ]
  },
  {
   "cell_type": "code",
   "execution_count": 81,
   "metadata": {},
   "outputs": [
    {
     "data": {
      "image/png": "[encoded data removed]",
      "text/latex": [
       "$\\displaystyle \\frac{1}{30}$"
      ],
      "text/plain": [
       "1/30"
      ]
     },
     "execution_count": 81,
     "metadata": {},
     "output_type": "execute_result"
    }
   ],
   "source": [
    "limit((tan(sin(x))-sin(tan(x)))/x**7,x,0)"
   ]
  },
  {
   "cell_type": "markdown",
   "metadata": {},
   "source": [
    "# ODE's and systems of ODE's"
   ]
  },
  {
   "cell_type": "code",
   "execution_count": 83,
   "metadata": {},
   "outputs": [],
   "source": [
    "t=Symbol('t')\n",
    "x=Function('x')\n",
    "p=Function('p')"
   ]
  },
  {
   "cell_type": "markdown",
   "metadata": {},
   "source": [
    "### 1)  $\\displaystyle\\frac{d x(t)}{\\partial t}+x(t)=0$"
   ]
  },
  {
   "cell_type": "code",
   "execution_count": 85,
   "metadata": {},
   "outputs": [
    {
     "data": {
      "image/png": "[encoded data removed]",
      "text/latex": [
       "$\\displaystyle x{\\left(t \\right)} = C_{1} e^{- t}$"
      ],
      "text/plain": [
       "           -t\n",
       "x(t) = C₁⋅ℯ  "
      ]
     },
     "execution_count": 85,
     "metadata": {},
     "output_type": "execute_result"
    }
   ],
   "source": [
    "dsolve(diff(x(t),t)+x(t),x(t))"
   ]
  },
  {
   "cell_type": "markdown",
   "metadata": {},
   "source": [
    "### 2)  $\\displaystyle\\frac{d^2 x(t)}{\\partial t^2}+x(t)=0$"
   ]
  },
  {
   "cell_type": "code",
   "execution_count": 86,
   "metadata": {},
   "outputs": [
    {
     "data": {
      "image/png": "[encoded data removed]",
      "text/latex": [
       "$\\displaystyle x{\\left(t \\right)} = C_{1} \\sin{\\left(t \\right)} + C_{2} \\cos{\\left(t \\right)}$"
      ],
      "text/plain": [
       "x(t) = C₁⋅sin(t) + C₂⋅cos(t)"
      ]
     },
     "execution_count": 86,
     "metadata": {},
     "output_type": "execute_result"
    }
   ],
   "source": [
    "dsolve(diff(x(t),t,2)+x(t),x(t))"
   ]
  },
  {
   "cell_type": "markdown",
   "metadata": {},
   "source": [
    "### 3) $\\begin{cases} \\displaystyle\\frac{d x(t)}{\\partial t}-p(t)=0\\\\ \\displaystyle\\frac{d p(t)}{\\partial t}+x(t)=0 \\end{cases}$"
   ]
  },
  {
   "cell_type": "code",
   "execution_count": 91,
   "metadata": {},
   "outputs": [
    {
     "data": {
      "image/png": "[encoded data removed]",
      "text/latex": [
       "$\\displaystyle \\left[ x{\\left(t \\right)} = C_{1} \\sin{\\left(t \\right)} + C_{2} \\cos{\\left(t \\right)}, \\  p{\\left(t \\right)} = C_{1} \\cos{\\left(t \\right)} - C_{2} \\sin{\\left(t \\right)}\\right]$"
      ],
      "text/plain": [
       "[x(t) = C₁⋅sin(t) + C₂⋅cos(t), p(t) = C₁⋅cos(t) - C₂⋅sin(t)]"
      ]
     },
     "execution_count": 91,
     "metadata": {},
     "output_type": "execute_result"
    }
   ],
   "source": [
    "dsolve((diff(x(t),t)-p(t),diff(p(t),t)+x(t)),[x(t),p(t)])"
   ]
  },
  {
   "cell_type": "markdown",
   "metadata": {},
   "source": [
    "# Linear Algebra"
   ]
  },
  {
   "cell_type": "code",
   "execution_count": 99,
   "metadata": {},
   "outputs": [],
   "source": [
    "a,b,c,d,e,f,g,h,i=symbols('a b c d e f g h i',real=True)"
   ]
  },
  {
   "cell_type": "markdown",
   "metadata": {},
   "source": [
    "### A matrix can be constructed from a list of lists.\n"
   ]
  },
  {
   "cell_type": "code",
   "execution_count": 100,
   "metadata": {},
   "outputs": [
    {
     "data": {
      "image/png": "[encoded data removed]",
      "text/latex": [
       "$\\displaystyle \\left[\\begin{matrix}a & b & c\\\\d & e & f\\\\g & h & i\\end{matrix}\\right]$"
      ],
      "text/plain": [
       "⎡a  b  c⎤\n",
       "⎢       ⎥\n",
       "⎢d  e  f⎥\n",
       "⎢       ⎥\n",
       "⎣g  h  i⎦"
      ]
     },
     "execution_count": 100,
     "metadata": {},
     "output_type": "execute_result"
    }
   ],
   "source": [
    "\n",
    "M=Matrix([[a,b,c],[d,e,f],[g,h,i]])\n",
    "M"
   ]
  },
  {
   "cell_type": "markdown",
   "metadata": {},
   "source": [
    "### We can compute the determinant"
   ]
  },
  {
   "cell_type": "code",
   "execution_count": 101,
   "metadata": {},
   "outputs": [
    {
     "data": {
      "image/png": "[encoded data removed]",
      "text/latex": [
       "$\\displaystyle a e i - a f h - b d i + b f g + c d h - c e g$"
      ],
      "text/plain": [
       "a⋅e⋅i - a⋅f⋅h - b⋅d⋅i + b⋅f⋅g + c⋅d⋅h - c⋅e⋅g"
      ]
     },
     "execution_count": 101,
     "metadata": {},
     "output_type": "execute_result"
    }
   ],
   "source": [
    "M.det()"
   ]
  },
  {
   "cell_type": "markdown",
   "metadata": {},
   "source": [
    "### And the inverse"
   ]
  },
  {
   "cell_type": "code",
   "execution_count": 95,
   "metadata": {},
   "outputs": [
    {
     "data": {
      "image/png": "[encoded data removed]",
      "text/latex": [
       "$\\displaystyle \\left[\\begin{matrix}\\frac{e i - f h}{a e i - a f h - b d i + b f g + c d h - c e g} & \\frac{- b i + c h}{a e i - a f h - b d i + b f g + c d h - c e g} & \\frac{b f - c e}{a e i - a f h - b d i + b f g + c d h - c e g}\\\\\\frac{- d i + f g}{a e i - a f h - b d i + b f g + c d h - c e g} & \\frac{a i - c g}{a e i - a f h - b d i + b f g + c d h - c e g} & \\frac{- a f + c d}{a e i - a f h - b d i + b f g + c d h - c e g}\\\\\\frac{d h - e g}{a e i - a f h - b d i + b f g + c d h - c e g} & \\frac{- a h + b g}{a e i - a f h - b d i + b f g + c d h - c e g} & \\frac{a e - b d}{a e i - a f h - b d i + b f g + c d h - c e g}\\end{matrix}\\right]$"
      ],
      "text/plain": [
       "⎡                  e⋅i - f⋅h                                      -b⋅i + c⋅h  \n",
       "⎢─────────────────────────────────────────────  ──────────────────────────────\n",
       "⎢a⋅e⋅i - a⋅f⋅h - b⋅d⋅i + b⋅f⋅g + c⋅d⋅h - c⋅e⋅g  a⋅e⋅i - a⋅f⋅h - b⋅d⋅i + b⋅f⋅g \n",
       "⎢                                                                             \n",
       "⎢                  -d⋅i + f⋅g                                     a⋅i - c⋅g   \n",
       "⎢─────────────────────────────────────────────  ──────────────────────────────\n",
       "⎢a⋅e⋅i - a⋅f⋅h - b⋅d⋅i + b⋅f⋅g + c⋅d⋅h - c⋅e⋅g  a⋅e⋅i - a⋅f⋅h - b⋅d⋅i + b⋅f⋅g \n",
       "⎢                                                                             \n",
       "⎢                  d⋅h - e⋅g                                      -a⋅h + b⋅g  \n",
       "⎢─────────────────────────────────────────────  ──────────────────────────────\n",
       "⎣a⋅e⋅i - a⋅f⋅h - b⋅d⋅i + b⋅f⋅g + c⋅d⋅h - c⋅e⋅g  a⋅e⋅i - a⋅f⋅h - b⋅d⋅i + b⋅f⋅g \n",
       "\n",
       "                                   b⋅f - c⋅e                  ⎤\n",
       "───────────────  ─────────────────────────────────────────────⎥\n",
       "+ c⋅d⋅h - c⋅e⋅g  a⋅e⋅i - a⋅f⋅h - b⋅d⋅i + b⋅f⋅g + c⋅d⋅h - c⋅e⋅g⎥\n",
       "                                                              ⎥\n",
       "                                   -a⋅f + c⋅d                 ⎥\n",
       "───────────────  ─────────────────────────────────────────────⎥\n",
       "+ c⋅d⋅h - c⋅e⋅g  a⋅e⋅i - a⋅f⋅h - b⋅d⋅i + b⋅f⋅g + c⋅d⋅h - c⋅e⋅g⎥\n",
       "                                                              ⎥\n",
       "                                   a⋅e - b⋅d                  ⎥\n",
       "───────────────  ─────────────────────────────────────────────⎥\n",
       "+ c⋅d⋅h - c⋅e⋅g  a⋅e⋅i - a⋅f⋅h - b⋅d⋅i + b⋅f⋅g + c⋅d⋅h - c⋅e⋅g⎦"
      ]
     },
     "execution_count": 95,
     "metadata": {},
     "output_type": "execute_result"
    }
   ],
   "source": [
    "M.inv()"
   ]
  },
  {
   "cell_type": "code",
   "execution_count": 96,
   "metadata": {},
   "outputs": [
    {
     "name": "stdout",
     "output_type": "stream",
     "text": [
      "Matrix([[(e*i - f*h)/(a*e*i - a*f*h - b*d*i + b*f*g + c*d*h - c*e*g), (-b*i + c*h)/(a*e*i - a*f*h - b*d*i + b*f*g + c*d*h - c*e*g), (b*f - c*e)/(a*e*i - a*f*h - b*d*i + b*f*g + c*d*h - c*e*g)], [(-d*i + f*g)/(a*e*i - a*f*h - b*d*i + b*f*g + c*d*h - c*e*g), (a*i - c*g)/(a*e*i - a*f*h - b*d*i + b*f*g + c*d*h - c*e*g), (-a*f + c*d)/(a*e*i - a*f*h - b*d*i + b*f*g + c*d*h - c*e*g)], [(d*h - e*g)/(a*e*i - a*f*h - b*d*i + b*f*g + c*d*h - c*e*g), (-a*h + b*g)/(a*e*i - a*f*h - b*d*i + b*f*g + c*d*h - c*e*g), (a*e - b*d)/(a*e*i - a*f*h - b*d*i + b*f*g + c*d*h - c*e*g)]])\n"
     ]
    }
   ],
   "source": [
    "print(M.inv())"
   ]
  },
  {
   "cell_type": "markdown",
   "metadata": {},
   "source": [
    "### Which becomes very easy to copy paste into code"
   ]
  },
  {
   "cell_type": "markdown",
   "metadata": {},
   "source": [
    "### We can also do cholesky decomposition"
   ]
  },
  {
   "cell_type": "code",
   "execution_count": 102,
   "metadata": {},
   "outputs": [
    {
     "data": {
      "image/png": "[encoded data removed]",
      "text/latex": [
       "$\\displaystyle \\left[\\begin{matrix}1 & a & b\\\\a & 1 & c\\\\b & c & 1\\end{matrix}\\right]$"
      ],
      "text/plain": [
       "⎡1  a  b⎤\n",
       "⎢       ⎥\n",
       "⎢a  1  c⎥\n",
       "⎢       ⎥\n",
       "⎣b  c  1⎦"
      ]
     },
     "execution_count": 102,
     "metadata": {},
     "output_type": "execute_result"
    }
   ],
   "source": [
    "M=Matrix([[1,a,b],[a,1,c],[b,c,1]])\n",
    "M"
   ]
  },
  {
   "cell_type": "code",
   "execution_count": 103,
   "metadata": {},
   "outputs": [
    {
     "data": {
      "image/png": "[encoded data removed]",
      "text/latex": [
       "$\\displaystyle \\left[\\begin{matrix}1 & 0 & 0\\\\a & \\sqrt{1 - a^{2}} & 0\\\\b & \\frac{- a b + c}{\\sqrt{1 - a^{2}}} & \\sqrt{- b^{2} + 1 - \\frac{\\left(- a b + c\\right)^{2}}{1 - a^{2}}}\\end{matrix}\\right]$"
      ],
      "text/plain": [
       "⎡1       0                     0               ⎤\n",
       "⎢                                              ⎥\n",
       "⎢      ________                                ⎥\n",
       "⎢     ╱      2                                 ⎥\n",
       "⎢a  ╲╱  1 - a                  0               ⎥\n",
       "⎢                                              ⎥\n",
       "⎢                      ________________________⎥\n",
       "⎢                     ╱                      2 ⎥\n",
       "⎢     -a⋅b + c       ╱     2       (-a⋅b + c)  ⎥\n",
       "⎢b  ───────────     ╱   - b  + 1 - ─────────── ⎥\n",
       "⎢      ________    ╱                       2   ⎥\n",
       "⎢     ╱      2   ╲╱                   1 - a    ⎥\n",
       "⎣   ╲╱  1 - a                                  ⎦"
      ]
     },
     "execution_count": 103,
     "metadata": {},
     "output_type": "execute_result"
    }
   ],
   "source": [
    "M.cholesky(hermitian=False)"
   ]
  },
  {
   "cell_type": "markdown",
   "metadata": {},
   "source": [
    "### Singular values"
   ]
  },
  {
   "cell_type": "code",
   "execution_count": 104,
   "metadata": {},
   "outputs": [
    {
     "name": "stdout",
     "output_type": "stream",
     "text": [
      "[sqrt(2*a**2/3 + 2*b**2/3 + 2*c**2/3 - (-3*a**4 - 6*a**2*b**2 - 6*a**2*c**2 + 36*a*b*c - 3*b**4 - 6*b**2*c**2 - 3*c**4 + (-2*a**2 - 2*b**2 - 2*c**2 - 3)**2 - 9)/(3*(-1/2 + sqrt(3)*I/2)*(-27*a**4/2 + 54*a**3*b*c - 54*a**2*b**2*c**2 - 27*a**2*b**2 - 27*a**2*c**2 + 27*a**2 + 54*a*b**3*c + 54*a*b*c**3 - 54*a*b*c - 27*b**4/2 - 27*b**2*c**2 + 27*b**2 - 27*c**4/2 + 27*c**2 + sqrt(-4*(-3*a**4 - 6*a**2*b**2 - 6*a**2*c**2 + 36*a*b*c - 3*b**4 - 6*b**2*c**2 - 3*c**4 + (-2*a**2 - 2*b**2 - 2*c**2 - 3)**2 - 9)**3 + (-27*a**4 + 108*a**3*b*c - 108*a**2*b**2*c**2 - 54*a**2*b**2 - 54*a**2*c**2 + 54*a**2 + 108*a*b**3*c + 108*a*b*c**3 - 108*a*b*c - 27*b**4 - 54*b**2*c**2 + 54*b**2 - 27*c**4 + 54*c**2 - (-18*a**2 - 18*b**2 - 18*c**2 - 27)*(a**4 + 2*a**2*b**2 + 2*a**2*c**2 - 12*a*b*c + b**4 + 2*b**2*c**2 + c**4 + 3) + 2*(-2*a**2 - 2*b**2 - 2*c**2 - 3)**3 - 27)**2)/2 - (-18*a**2 - 18*b**2 - 18*c**2 - 27)*(a**4 + 2*a**2*b**2 + 2*a**2*c**2 - 12*a*b*c + b**4 + 2*b**2*c**2 + c**4 + 3)/2 + (-2*a**2 - 2*b**2 - 2*c**2 - 3)**3 - 27/2)**(1/3)) - (-1/2 + sqrt(3)*I/2)*(-27*a**4/2 + 54*a**3*b*c - 54*a**2*b**2*c**2 - 27*a**2*b**2 - 27*a**2*c**2 + 27*a**2 + 54*a*b**3*c + 54*a*b*c**3 - 54*a*b*c - 27*b**4/2 - 27*b**2*c**2 + 27*b**2 - 27*c**4/2 + 27*c**2 + sqrt(-4*(-3*a**4 - 6*a**2*b**2 - 6*a**2*c**2 + 36*a*b*c - 3*b**4 - 6*b**2*c**2 - 3*c**4 + (-2*a**2 - 2*b**2 - 2*c**2 - 3)**2 - 9)**3 + (-27*a**4 + 108*a**3*b*c - 108*a**2*b**2*c**2 - 54*a**2*b**2 - 54*a**2*c**2 + 54*a**2 + 108*a*b**3*c + 108*a*b*c**3 - 108*a*b*c - 27*b**4 - 54*b**2*c**2 + 54*b**2 - 27*c**4 + 54*c**2 - (-18*a**2 - 18*b**2 - 18*c**2 - 27)*(a**4 + 2*a**2*b**2 + 2*a**2*c**2 - 12*a*b*c + b**4 + 2*b**2*c**2 + c**4 + 3) + 2*(-2*a**2 - 2*b**2 - 2*c**2 - 3)**3 - 27)**2)/2 - (-18*a**2 - 18*b**2 - 18*c**2 - 27)*(a**4 + 2*a**2*b**2 + 2*a**2*c**2 - 12*a*b*c + b**4 + 2*b**2*c**2 + c**4 + 3)/2 + (-2*a**2 - 2*b**2 - 2*c**2 - 3)**3 - 27/2)**(1/3)/3 + 1), sqrt(2*a**2/3 + 2*b**2/3 + 2*c**2/3 - (-3*a**4 - 6*a**2*b**2 - 6*a**2*c**2 + 36*a*b*c - 3*b**4 - 6*b**2*c**2 - 3*c**4 + (-2*a**2 - 2*b**2 - 2*c**2 - 3)**2 - 9)/(3*(-1/2 - sqrt(3)*I/2)*(-27*a**4/2 + 54*a**3*b*c - 54*a**2*b**2*c**2 - 27*a**2*b**2 - 27*a**2*c**2 + 27*a**2 + 54*a*b**3*c + 54*a*b*c**3 - 54*a*b*c - 27*b**4/2 - 27*b**2*c**2 + 27*b**2 - 27*c**4/2 + 27*c**2 + sqrt(-4*(-3*a**4 - 6*a**2*b**2 - 6*a**2*c**2 + 36*a*b*c - 3*b**4 - 6*b**2*c**2 - 3*c**4 + (-2*a**2 - 2*b**2 - 2*c**2 - 3)**2 - 9)**3 + (-27*a**4 + 108*a**3*b*c - 108*a**2*b**2*c**2 - 54*a**2*b**2 - 54*a**2*c**2 + 54*a**2 + 108*a*b**3*c + 108*a*b*c**3 - 108*a*b*c - 27*b**4 - 54*b**2*c**2 + 54*b**2 - 27*c**4 + 54*c**2 - (-18*a**2 - 18*b**2 - 18*c**2 - 27)*(a**4 + 2*a**2*b**2 + 2*a**2*c**2 - 12*a*b*c + b**4 + 2*b**2*c**2 + c**4 + 3) + 2*(-2*a**2 - 2*b**2 - 2*c**2 - 3)**3 - 27)**2)/2 - (-18*a**2 - 18*b**2 - 18*c**2 - 27)*(a**4 + 2*a**2*b**2 + 2*a**2*c**2 - 12*a*b*c + b**4 + 2*b**2*c**2 + c**4 + 3)/2 + (-2*a**2 - 2*b**2 - 2*c**2 - 3)**3 - 27/2)**(1/3)) - (-1/2 - sqrt(3)*I/2)*(-27*a**4/2 + 54*a**3*b*c - 54*a**2*b**2*c**2 - 27*a**2*b**2 - 27*a**2*c**2 + 27*a**2 + 54*a*b**3*c + 54*a*b*c**3 - 54*a*b*c - 27*b**4/2 - 27*b**2*c**2 + 27*b**2 - 27*c**4/2 + 27*c**2 + sqrt(-4*(-3*a**4 - 6*a**2*b**2 - 6*a**2*c**2 + 36*a*b*c - 3*b**4 - 6*b**2*c**2 - 3*c**4 + (-2*a**2 - 2*b**2 - 2*c**2 - 3)**2 - 9)**3 + (-27*a**4 + 108*a**3*b*c - 108*a**2*b**2*c**2 - 54*a**2*b**2 - 54*a**2*c**2 + 54*a**2 + 108*a*b**3*c + 108*a*b*c**3 - 108*a*b*c - 27*b**4 - 54*b**2*c**2 + 54*b**2 - 27*c**4 + 54*c**2 - (-18*a**2 - 18*b**2 - 18*c**2 - 27)*(a**4 + 2*a**2*b**2 + 2*a**2*c**2 - 12*a*b*c + b**4 + 2*b**2*c**2 + c**4 + 3) + 2*(-2*a**2 - 2*b**2 - 2*c**2 - 3)**3 - 27)**2)/2 - (-18*a**2 - 18*b**2 - 18*c**2 - 27)*(a**4 + 2*a**2*b**2 + 2*a**2*c**2 - 12*a*b*c + b**4 + 2*b**2*c**2 + c**4 + 3)/2 + (-2*a**2 - 2*b**2 - 2*c**2 - 3)**3 - 27/2)**(1/3)/3 + 1), sqrt(2*a**2/3 + 2*b**2/3 + 2*c**2/3 - (-3*a**4 - 6*a**2*b**2 - 6*a**2*c**2 + 36*a*b*c - 3*b**4 - 6*b**2*c**2 - 3*c**4 + (-2*a**2 - 2*b**2 - 2*c**2 - 3)**2 - 9)/(3*(-27*a**4/2 + 54*a**3*b*c - 54*a**2*b**2*c**2 - 27*a**2*b**2 - 27*a**2*c**2 + 27*a**2 + 54*a*b**3*c + 54*a*b*c**3 - 54*a*b*c - 27*b**4/2 - 27*b**2*c**2 + 27*b**2 - 27*c**4/2 + 27*c**2 + sqrt(-4*(-3*a**4 - 6*a**2*b**2 - 6*a**2*c**2 + 36*a*b*c - 3*b**4 - 6*b**2*c**2 - 3*c**4 + (-2*a**2 - 2*b**2 - 2*c**2 - 3)**2 - 9)**3 + (-27*a**4 + 108*a**3*b*c - 108*a**2*b**2*c**2 - 54*a**2*b**2 - 54*a**2*c**2 + 54*a**2 + 108*a*b**3*c + 108*a*b*c**3 - 108*a*b*c - 27*b**4 - 54*b**2*c**2 + 54*b**2 - 27*c**4 + 54*c**2 - (-18*a**2 - 18*b**2 - 18*c**2 - 27)*(a**4 + 2*a**2*b**2 + 2*a**2*c**2 - 12*a*b*c + b**4 + 2*b**2*c**2 + c**4 + 3) + 2*(-2*a**2 - 2*b**2 - 2*c**2 - 3)**3 - 27)**2)/2 - (-18*a**2 - 18*b**2 - 18*c**2 - 27)*(a**4 + 2*a**2*b**2 + 2*a**2*c**2 - 12*a*b*c + b**4 + 2*b**2*c**2 + c**4 + 3)/2 + (-2*a**2 - 2*b**2 - 2*c**2 - 3)**3 - 27/2)**(1/3)) - (-27*a**4/2 + 54*a**3*b*c - 54*a**2*b**2*c**2 - 27*a**2*b**2 - 27*a**2*c**2 + 27*a**2 + 54*a*b**3*c + 54*a*b*c**3 - 54*a*b*c - 27*b**4/2 - 27*b**2*c**2 + 27*b**2 - 27*c**4/2 + 27*c**2 + sqrt(-4*(-3*a**4 - 6*a**2*b**2 - 6*a**2*c**2 + 36*a*b*c - 3*b**4 - 6*b**2*c**2 - 3*c**4 + (-2*a**2 - 2*b**2 - 2*c**2 - 3)**2 - 9)**3 + (-27*a**4 + 108*a**3*b*c - 108*a**2*b**2*c**2 - 54*a**2*b**2 - 54*a**2*c**2 + 54*a**2 + 108*a*b**3*c + 108*a*b*c**3 - 108*a*b*c - 27*b**4 - 54*b**2*c**2 + 54*b**2 - 27*c**4 + 54*c**2 - (-18*a**2 - 18*b**2 - 18*c**2 - 27)*(a**4 + 2*a**2*b**2 + 2*a**2*c**2 - 12*a*b*c + b**4 + 2*b**2*c**2 + c**4 + 3) + 2*(-2*a**2 - 2*b**2 - 2*c**2 - 3)**3 - 27)**2)/2 - (-18*a**2 - 18*b**2 - 18*c**2 - 27)*(a**4 + 2*a**2*b**2 + 2*a**2*c**2 - 12*a*b*c + b**4 + 2*b**2*c**2 + c**4 + 3)/2 + (-2*a**2 - 2*b**2 - 2*c**2 - 3)**3 - 27/2)**(1/3)/3 + 1)]\n"
     ]
    }
   ],
   "source": [
    "print(M.singular_values())"
   ]
  },
  {
   "cell_type": "markdown",
   "metadata": {},
   "source": [
    "### Not fun at all to do this one by hand!"
   ]
  },
  {
   "cell_type": "markdown",
   "metadata": {},
   "source": [
    "### LU decomposition"
   ]
  },
  {
   "cell_type": "code",
   "execution_count": 105,
   "metadata": {},
   "outputs": [
    {
     "data": {
      "image/png": "[encoded data removed]",
      "text/latex": [
       "$\\displaystyle \\left( \\left[\\begin{matrix}1 & 0 & 0\\\\a & 1 & 0\\\\b & \\frac{- a b + c}{1 - a^{2}} & 1\\end{matrix}\\right], \\  \\left[\\begin{matrix}1 & a & b\\\\0 & 1 - a^{2} & - a b + c\\\\0 & 0 & - b^{2} + 1 - \\frac{\\left(- a b + c\\right)^{2}}{1 - a^{2}}\\end{matrix}\\right], \\  \\left[ \\right]\\right)$"
      ],
      "text/plain": [
       "⎛                  ⎡1    a               b           ⎤    ⎞\n",
       "⎜⎡1     0      0⎤  ⎢                                 ⎥    ⎟\n",
       "⎜⎢              ⎥  ⎢        2                        ⎥    ⎟\n",
       "⎜⎢a     1      0⎥  ⎢0  1 - a          -a⋅b + c       ⎥    ⎟\n",
       "⎜⎢              ⎥  ⎢                                 ⎥    ⎟\n",
       "⎜⎢   -a⋅b + c   ⎥, ⎢                                2⎥, []⎟\n",
       "⎜⎢b  ────────  1⎥  ⎢              2       (-a⋅b + c) ⎥    ⎟\n",
       "⎜⎢         2    ⎥  ⎢0    0     - b  + 1 - ───────────⎥    ⎟\n",
       "⎜⎣    1 - a     ⎦  ⎢                              2  ⎥    ⎟\n",
       "⎝                  ⎣                         1 - a   ⎦    ⎠"
      ]
     },
     "execution_count": 105,
     "metadata": {},
     "output_type": "execute_result"
    }
   ],
   "source": [
    "M.LUdecomposition()"
   ]
  },
  {
   "cell_type": "markdown",
   "metadata": {},
   "source": [
    "# We can compute eigenvalues"
   ]
  },
  {
   "cell_type": "code",
   "execution_count": 106,
   "metadata": {},
   "outputs": [
    {
     "data": {
      "image/png": "[encoded data removed]",
      "text/latex": [
       "$\\displaystyle \\left[\\begin{matrix}a & b\\\\c & d\\end{matrix}\\right]$"
      ],
      "text/plain": [
       "⎡a  b⎤\n",
       "⎢    ⎥\n",
       "⎣c  d⎦"
      ]
     },
     "execution_count": 106,
     "metadata": {},
     "output_type": "execute_result"
    }
   ],
   "source": [
    "M=Matrix([[a,b],[c,d]])\n",
    "M"
   ]
  },
  {
   "cell_type": "code",
   "execution_count": 107,
   "metadata": {},
   "outputs": [
    {
     "data": {
      "image/png": "[encoded data removed]",
      "text/latex": [
       "$\\displaystyle \\left\\{ \\frac{a}{2} + \\frac{d}{2} - \\frac{\\sqrt{a^{2} - 2 a d + 4 b c + d^{2}}}{2} : 1, \\  \\frac{a}{2} + \\frac{d}{2} + \\frac{\\sqrt{a^{2} - 2 a d + 4 b c + d^{2}}}{2} : 1\\right\\}$"
      ],
      "text/plain": [
       "⎧           _________________________                _________________________\n",
       "⎪          ╱  2                    2                ╱  2                    2 \n",
       "⎨a   d   ╲╱  a  - 2⋅a⋅d + 4⋅b⋅c + d       a   d   ╲╱  a  - 2⋅a⋅d + 4⋅b⋅c + d  \n",
       "⎪─ + ─ - ────────────────────────────: 1, ─ + ─ + ────────────────────────────\n",
       "⎩2   2                2                   2   2                2              \n",
       "\n",
       "   ⎫\n",
       "   ⎪\n",
       "   ⎬\n",
       ": 1⎪\n",
       "   ⎭"
      ]
     },
     "execution_count": 107,
     "metadata": {},
     "output_type": "execute_result"
    }
   ],
   "source": [
    "M.eigenvals()\n"
   ]
  },
  {
   "cell_type": "code",
   "execution_count": 108,
   "metadata": {},
   "outputs": [
    {
     "data": {
      "image/png": "[encoded data removed]",
      "text/latex": [
       "$\\displaystyle \\left[ \\left( \\frac{a}{2} + \\frac{d}{2} - \\frac{\\sqrt{a^{2} - 2 a d + 4 b c + d^{2}}}{2}, \\  1, \\  \\left[ \\left[\\begin{matrix}- \\frac{2 b}{a - d + \\sqrt{a^{2} - 2 a d + 4 b c + d^{2}}}\\\\1\\end{matrix}\\right]\\right]\\right), \\  \\left( \\frac{a}{2} + \\frac{d}{2} + \\frac{\\sqrt{a^{2} - 2 a d + 4 b c + d^{2}}}{2}, \\  1, \\  \\left[ \\left[\\begin{matrix}- \\frac{2 b}{a - d - \\sqrt{a^{2} - 2 a d + 4 b c + d^{2}}}\\\\1\\end{matrix}\\right]\\right]\\right)\\right]$"
      ],
      "text/plain": [
       "⎡⎛           _________________________     ⎡⎡               -2⋅b              \n",
       "⎢⎜          ╱  2                    2      ⎢⎢─────────────────────────────────\n",
       "⎢⎜a   d   ╲╱  a  - 2⋅a⋅d + 4⋅b⋅c + d       ⎢⎢           ______________________\n",
       "⎢⎜─ + ─ - ────────────────────────────, 1, ⎢⎢          ╱  2                   \n",
       "⎢⎜2   2                2                   ⎢⎢a - d + ╲╱  a  - 2⋅a⋅d + 4⋅b⋅c + \n",
       "⎢⎜                                         ⎢⎢                                 \n",
       "⎣⎝                                         ⎣⎣                 1               \n",
       "\n",
       "   ⎤⎤⎞  ⎛           _________________________     ⎡⎡               -2⋅b       \n",
       "───⎥⎥⎟  ⎜          ╱  2                    2      ⎢⎢──────────────────────────\n",
       "___⎥⎥⎟  ⎜a   d   ╲╱  a  - 2⋅a⋅d + 4⋅b⋅c + d       ⎢⎢           _______________\n",
       " 2 ⎥⎥⎟, ⎜─ + ─ + ────────────────────────────, 1, ⎢⎢          ╱  2            \n",
       "d  ⎥⎥⎟  ⎜2   2                2                   ⎢⎢a - d - ╲╱  a  - 2⋅a⋅d + 4\n",
       "   ⎥⎥⎟  ⎜                                         ⎢⎢                          \n",
       "   ⎦⎦⎠  ⎝                                         ⎣⎣                 1        \n",
       "\n",
       "          ⎤⎤⎞⎤\n",
       "──────────⎥⎥⎟⎥\n",
       "__________⎥⎥⎟⎥\n",
       "        2 ⎥⎥⎟⎥\n",
       "⋅b⋅c + d  ⎥⎥⎟⎥\n",
       "          ⎥⎥⎟⎥\n",
       "          ⎦⎦⎠⎦"
      ]
     },
     "execution_count": 108,
     "metadata": {},
     "output_type": "execute_result"
    }
   ],
   "source": [
    "M.eigenvects()"
   ]
  },
  {
   "cell_type": "markdown",
   "metadata": {},
   "source": [
    "### And much more out there!! I do recommend that you use sympy to check your computations when working out new formulas"
   ]
  }
 ],
 "metadata": {
  "kernelspec": {
   "display_name": "Python 3",
   "language": "python",
   "name": "python3"
  },
  "language_info": {
   "codemirror_mode": {
    "name": "ipython",
    "version": 3
   },
   "file_extension": ".py",
   "mimetype": "text/x-python",
   "name": "python",
   "nbconvert_exporter": "python",
   "pygments_lexer": "ipython3",
   "version": "3.6.9"
  }
 },
 "nbformat": 4,
 "nbformat_minor": 4
}
