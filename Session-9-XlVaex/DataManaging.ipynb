{
 "cells": [
  {
   "cell_type": "markdown",
   "metadata": {},
   "source": [
    "\n",
    "# **Vaex vs Pandas**\n",
    "---\n",
    "<img src=\"http://www.doc.ic.ac.uk/~afd/images/logo_imperial_college_london.png\" align = \"left\" width=200>\n",
    " <br><br><br><br>\n",
    " \n",
    "- Copyright (c) Antoine Jacquier, 2020. All rights reserved\n",
    "\n",
    "- Author: Antoine Jacquier <a.jacquier@imperial.ac.uk>\n",
    "\n",
    "- Platform: Tested on Windows 10 with Python 3.7"
   ]
  },
  {
   "cell_type": "code",
   "execution_count": 1,
   "metadata": {},
   "outputs": [],
   "source": [
    "import pandas as pd\n",
    "import numpy as np\n",
    "import vaex\n",
    "import time\n",
    "import os"
   ]
  },
  {
   "cell_type": "markdown",
   "metadata": {},
   "source": [
    "*Big data is a field that treats ways to analyze, systematically extract information from, or otherwise, deal with data sets that are too large or complex to be dealt with by traditional data-processing application software.* (Wikipedia)"
   ]
  },
  {
   "cell_type": "markdown",
   "metadata": {},
   "source": [
    "## Vaex"
   ]
  },
  {
   "cell_type": "code",
   "execution_count": 6,
   "metadata": {},
   "outputs": [
    {
     "data": {
      "text/html": [
       "<div>\n",
       "<style scoped>\n",
       "    .dataframe tbody tr th:only-of-type {\n",
       "        vertical-align: middle;\n",
       "    }\n",
       "\n",
       "    .dataframe tbody tr th {\n",
       "        vertical-align: top;\n",
       "    }\n",
       "\n",
       "    .dataframe thead th {\n",
       "        text-align: right;\n",
       "    }\n",
       "</style>\n",
       "<table border=\"1\" class=\"dataframe\">\n",
       "  <thead>\n",
       "    <tr style=\"text-align: right;\">\n",
       "      <th></th>\n",
       "      <th>col0</th>\n",
       "      <th>col1</th>\n",
       "      <th>col2</th>\n",
       "      <th>col3</th>\n",
       "      <th>col4</th>\n",
       "      <th>col5</th>\n",
       "      <th>col6</th>\n",
       "      <th>col7</th>\n",
       "      <th>col8</th>\n",
       "      <th>col9</th>\n",
       "      <th>col10</th>\n",
       "      <th>col11</th>\n",
       "      <th>col12</th>\n",
       "      <th>col13</th>\n",
       "      <th>col14</th>\n",
       "      <th>col15</th>\n",
       "      <th>col16</th>\n",
       "      <th>col17</th>\n",
       "      <th>col18</th>\n",
       "      <th>col19</th>\n",
       "    </tr>\n",
       "  </thead>\n",
       "  <tbody>\n",
       "    <tr>\n",
       "      <th>0</th>\n",
       "      <td>0</td>\n",
       "      <td>76</td>\n",
       "      <td>98</td>\n",
       "      <td>6</td>\n",
       "      <td>27</td>\n",
       "      <td>56</td>\n",
       "      <td>26</td>\n",
       "      <td>12</td>\n",
       "      <td>90</td>\n",
       "      <td>58</td>\n",
       "      <td>45</td>\n",
       "      <td>62</td>\n",
       "      <td>56</td>\n",
       "      <td>8</td>\n",
       "      <td>86</td>\n",
       "      <td>84</td>\n",
       "      <td>24</td>\n",
       "      <td>99</td>\n",
       "      <td>65</td>\n",
       "      <td>3</td>\n",
       "    </tr>\n",
       "    <tr>\n",
       "      <th>1</th>\n",
       "      <td>43</td>\n",
       "      <td>68</td>\n",
       "      <td>90</td>\n",
       "      <td>39</td>\n",
       "      <td>43</td>\n",
       "      <td>38</td>\n",
       "      <td>44</td>\n",
       "      <td>30</td>\n",
       "      <td>45</td>\n",
       "      <td>97</td>\n",
       "      <td>49</td>\n",
       "      <td>83</td>\n",
       "      <td>60</td>\n",
       "      <td>64</td>\n",
       "      <td>90</td>\n",
       "      <td>62</td>\n",
       "      <td>12</td>\n",
       "      <td>46</td>\n",
       "      <td>64</td>\n",
       "      <td>99</td>\n",
       "    </tr>\n",
       "    <tr>\n",
       "      <th>2</th>\n",
       "      <td>80</td>\n",
       "      <td>28</td>\n",
       "      <td>88</td>\n",
       "      <td>76</td>\n",
       "      <td>37</td>\n",
       "      <td>22</td>\n",
       "      <td>71</td>\n",
       "      <td>47</td>\n",
       "      <td>50</td>\n",
       "      <td>88</td>\n",
       "      <td>67</td>\n",
       "      <td>86</td>\n",
       "      <td>87</td>\n",
       "      <td>84</td>\n",
       "      <td>50</td>\n",
       "      <td>42</td>\n",
       "      <td>16</td>\n",
       "      <td>99</td>\n",
       "      <td>15</td>\n",
       "      <td>71</td>\n",
       "    </tr>\n",
       "    <tr>\n",
       "      <th>3</th>\n",
       "      <td>18</td>\n",
       "      <td>42</td>\n",
       "      <td>46</td>\n",
       "      <td>22</td>\n",
       "      <td>99</td>\n",
       "      <td>12</td>\n",
       "      <td>14</td>\n",
       "      <td>93</td>\n",
       "      <td>28</td>\n",
       "      <td>24</td>\n",
       "      <td>20</td>\n",
       "      <td>43</td>\n",
       "      <td>65</td>\n",
       "      <td>83</td>\n",
       "      <td>83</td>\n",
       "      <td>16</td>\n",
       "      <td>82</td>\n",
       "      <td>48</td>\n",
       "      <td>91</td>\n",
       "      <td>98</td>\n",
       "    </tr>\n",
       "    <tr>\n",
       "      <th>4</th>\n",
       "      <td>38</td>\n",
       "      <td>34</td>\n",
       "      <td>86</td>\n",
       "      <td>54</td>\n",
       "      <td>70</td>\n",
       "      <td>42</td>\n",
       "      <td>93</td>\n",
       "      <td>53</td>\n",
       "      <td>49</td>\n",
       "      <td>22</td>\n",
       "      <td>82</td>\n",
       "      <td>81</td>\n",
       "      <td>1</td>\n",
       "      <td>93</td>\n",
       "      <td>33</td>\n",
       "      <td>90</td>\n",
       "      <td>45</td>\n",
       "      <td>73</td>\n",
       "      <td>77</td>\n",
       "      <td>85</td>\n",
       "    </tr>\n",
       "  </tbody>\n",
       "</table>\n",
       "</div>"
      ],
      "text/plain": [
       "   col0  col1  col2  col3  col4  col5  col6  col7  col8  col9  col10  col11  \\\n",
       "0     0    76    98     6    27    56    26    12    90    58     45     62   \n",
       "1    43    68    90    39    43    38    44    30    45    97     49     83   \n",
       "2    80    28    88    76    37    22    71    47    50    88     67     86   \n",
       "3    18    42    46    22    99    12    14    93    28    24     20     43   \n",
       "4    38    34    86    54    70    42    93    53    49    22     82     81   \n",
       "\n",
       "   col12  col13  col14  col15  col16  col17  col18  col19  \n",
       "0     56      8     86     84     24     99     65      3  \n",
       "1     60     64     90     62     12     46     64     99  \n",
       "2     87     84     50     42     16     99     15     71  \n",
       "3     65     83     83     16     82     48     91     98  \n",
       "4      1     93     33     90     45     73     77     85  "
      ]
     },
     "execution_count": 6,
     "metadata": {},
     "output_type": "execute_result"
    }
   ],
   "source": [
    "import vaex\n",
    "n_rows, n_cols = 10000000, 20\n",
    "### Note: this will create a csv file with size 0.5 GB.\n",
    "df = pd.DataFrame(np.random.randint(0, 100, size=(n_rows, n_cols)), columns=['col%d' % i for i in range(n_cols)])\n",
    "df.head()"
   ]
  },
  {
   "cell_type": "code",
   "execution_count": 7,
   "metadata": {},
   "outputs": [
    {
     "name": "stdout",
     "output_type": "stream",
     "text": [
      "<class 'pandas.core.frame.DataFrame'>\n",
      "RangeIndex: 10000000 entries, 0 to 9999999\n",
      "Data columns (total 20 columns):\n",
      " #   Column  Dtype\n",
      "---  ------  -----\n",
      " 0   col0    int32\n",
      " 1   col1    int32\n",
      " 2   col2    int32\n",
      " 3   col3    int32\n",
      " 4   col4    int32\n",
      " 5   col5    int32\n",
      " 6   col6    int32\n",
      " 7   col7    int32\n",
      " 8   col8    int32\n",
      " 9   col9    int32\n",
      " 10  col10   int32\n",
      " 11  col11   int32\n",
      " 12  col12   int32\n",
      " 13  col13   int32\n",
      " 14  col14   int32\n",
      " 15  col15   int32\n",
      " 16  col16   int32\n",
      " 17  col17   int32\n",
      " 18  col18   int32\n",
      " 19  col19   int32\n",
      "dtypes: int32(20)\n",
      "memory usage: 762.9 MB\n"
     ]
    }
   ],
   "source": [
    "df.info(memory_usage='deep')"
   ]
  },
  {
   "cell_type": "code",
   "execution_count": 8,
   "metadata": {},
   "outputs": [],
   "source": [
    "file_name = \"jackLargeFile\"\n",
    "file_name_csv = file_name + '.csv'\n",
    "df.to_csv(file_name_csv, index=False)"
   ]
  },
  {
   "cell_type": "code",
   "execution_count": 9,
   "metadata": {},
   "outputs": [],
   "source": [
    "dv = vaex.from_csv(file_name_csv, convert=True, chunk_size=5_000_000)\n",
    "## This is the vaex conversion function. It works for very large files, by splitting the latter into small chunks."
   ]
  },
  {
   "cell_type": "code",
   "execution_count": 10,
   "metadata": {},
   "outputs": [
    {
     "name": "stdout",
     "output_type": "stream",
     "text": [
      "<class 'vaex.hdf5.dataset.Hdf5MemoryMapped'>\n",
      "Size of the csv file:  590002091\n",
      "Size of the hdf5 file:  1600035456\n"
     ]
    }
   ],
   "source": [
    "print(type(dv))\n",
    "print(\"Size of the csv file: \", os.stat(file_name_csv).st_size)\n",
    "print(\"Size of the hdf5 file: \", os.stat(file_name_csv + '.hdf5').st_size)"
   ]
  },
  {
   "cell_type": "code",
   "execution_count": 11,
   "metadata": {},
   "outputs": [],
   "source": [
    "dv = vaex.open(file_name_csv + '.hdf5')"
   ]
  },
  {
   "cell_type": "code",
   "execution_count": 12,
   "metadata": {},
   "outputs": [
    {
     "name": "stdout",
     "output_type": "stream",
     "text": [
      "Sum:  495114190\n",
      "Computation time:  0.035  seconds\n"
     ]
    }
   ],
   "source": [
    "## Compute the sum over the first column using vaex\n",
    "t = time.time()\n",
    "suma = dv.col1.sum()\n",
    "t = time.time() - t\n",
    "print(\"Sum: \", suma)\n",
    "print(\"Computation time: \", np.round(t, 3), \" seconds\")"
   ]
  },
  {
   "cell_type": "code",
   "execution_count": 13,
   "metadata": {},
   "outputs": [
    {
     "name": "stdout",
     "output_type": "stream",
     "text": [
      "Sum:  495114190\n",
      "Computation time:  0.194  seconds\n"
     ]
    }
   ],
   "source": [
    "## Compute the sum over the first column using pandas\n",
    "t = time.time()\n",
    "suma = df.col1.sum()\n",
    "t = time.time() - t\n",
    "print(\"Sum: \", suma)\n",
    "print(\"Computation time: \", np.round(t, 3), \" seconds\")"
   ]
  },
  {
   "cell_type": "markdown",
   "metadata": {},
   "source": [
    "### Plotting with Vaex"
   ]
  },
  {
   "cell_type": "code",
   "execution_count": 14,
   "metadata": {},
   "outputs": [
    {
     "data": {
      "image/png": "[encoded data removed]",
      "text/plain": [
       "<Figure size 1120x560 with 1 Axes>"
      ]
     },
     "metadata": {},
     "output_type": "display_data"
    }
   ],
   "source": [
    "dv.plot1d(dv.col2, figsize=(14, 7));"
   ]
  },
  {
   "cell_type": "markdown",
   "metadata": {},
   "source": [
    "Creating new columns"
   ]
  },
  {
   "cell_type": "code",
   "execution_count": 15,
   "metadata": {},
   "outputs": [
    {
     "data": {
      "text/plain": [
       "Expression = col1_plus_col2\n",
       "Length: 10,000,000 dtype: int64 (column)\n",
       "----------------------------------------\n",
       "      0  174\n",
       "      1  158\n",
       "      2  116\n",
       "      3   88\n",
       "      4  120\n",
       "    ...     \n",
       "9999995   78\n",
       "9999996  103\n",
       "9999997  138\n",
       "9999998  107\n",
       "9999999   30"
      ]
     },
     "execution_count": 15,
     "metadata": {},
     "output_type": "execute_result"
    }
   ],
   "source": [
    "dv['col1_plus_col2'] = dv.col1 + dv.col2\n",
    "dv['col1_plus_col2']"
   ]
  },
  {
   "cell_type": "markdown",
   "metadata": {},
   "source": [
    "Filtering: Vaex does not create copy of the DataFrame when filtering the data"
   ]
  },
  {
   "cell_type": "code",
   "execution_count": 16,
   "metadata": {},
   "outputs": [
    {
     "data": {
      "text/html": [
       "<table>\n",
       "<thead>\n",
       "<tr><th>#                            </th><th style=\"text-align: right;\">  col0</th><th style=\"text-align: right;\">  col1</th><th style=\"text-align: right;\">  col2</th><th style=\"text-align: right;\">  col3</th><th style=\"text-align: right;\">  col4</th><th style=\"text-align: right;\">  col5</th><th style=\"text-align: right;\">  col6</th><th style=\"text-align: right;\">  col7</th><th style=\"text-align: right;\">  col8</th><th style=\"text-align: right;\">  col9</th><th style=\"text-align: right;\">  col10</th><th style=\"text-align: right;\">  col11</th><th style=\"text-align: right;\">  col12</th><th style=\"text-align: right;\">  col13</th><th style=\"text-align: right;\">  col14</th><th style=\"text-align: right;\">  col15</th><th style=\"text-align: right;\">  col16</th><th style=\"text-align: right;\">  col17</th><th style=\"text-align: right;\">  col18</th><th style=\"text-align: right;\">  col19</th><th style=\"text-align: right;\">  col1_plus_col2</th></tr>\n",
       "</thead>\n",
       "<tbody>\n",
       "<tr><td><i style='opacity: 0.6'>0</i></td><td style=\"text-align: right;\">    12</td><td style=\"text-align: right;\">    93</td><td style=\"text-align: right;\">    41</td><td style=\"text-align: right;\">    88</td><td style=\"text-align: right;\">    22</td><td style=\"text-align: right;\">     3</td><td style=\"text-align: right;\">    20</td><td style=\"text-align: right;\">    76</td><td style=\"text-align: right;\">    73</td><td style=\"text-align: right;\">    62</td><td style=\"text-align: right;\">     95</td><td style=\"text-align: right;\">     47</td><td style=\"text-align: right;\">     71</td><td style=\"text-align: right;\">      1</td><td style=\"text-align: right;\">     54</td><td style=\"text-align: right;\">      3</td><td style=\"text-align: right;\">      3</td><td style=\"text-align: right;\">     10</td><td style=\"text-align: right;\">     40</td><td style=\"text-align: right;\">     69</td><td style=\"text-align: right;\">             134</td></tr>\n",
       "<tr><td><i style='opacity: 0.6'>1</i></td><td style=\"text-align: right;\">    41</td><td style=\"text-align: right;\">    95</td><td style=\"text-align: right;\">    38</td><td style=\"text-align: right;\">    86</td><td style=\"text-align: right;\">    85</td><td style=\"text-align: right;\">    57</td><td style=\"text-align: right;\">    88</td><td style=\"text-align: right;\">     9</td><td style=\"text-align: right;\">    57</td><td style=\"text-align: right;\">     6</td><td style=\"text-align: right;\">     60</td><td style=\"text-align: right;\">     20</td><td style=\"text-align: right;\">     61</td><td style=\"text-align: right;\">     28</td><td style=\"text-align: right;\">     15</td><td style=\"text-align: right;\">     49</td><td style=\"text-align: right;\">     11</td><td style=\"text-align: right;\">     89</td><td style=\"text-align: right;\">     17</td><td style=\"text-align: right;\">      7</td><td style=\"text-align: right;\">             133</td></tr>\n",
       "<tr><td><i style='opacity: 0.6'>2</i></td><td style=\"text-align: right;\">     5</td><td style=\"text-align: right;\">    98</td><td style=\"text-align: right;\">    55</td><td style=\"text-align: right;\">    25</td><td style=\"text-align: right;\">    98</td><td style=\"text-align: right;\">    30</td><td style=\"text-align: right;\">    12</td><td style=\"text-align: right;\">    47</td><td style=\"text-align: right;\">    94</td><td style=\"text-align: right;\">     0</td><td style=\"text-align: right;\">     47</td><td style=\"text-align: right;\">     93</td><td style=\"text-align: right;\">      4</td><td style=\"text-align: right;\">      6</td><td style=\"text-align: right;\">     22</td><td style=\"text-align: right;\">     74</td><td style=\"text-align: right;\">     52</td><td style=\"text-align: right;\">     89</td><td style=\"text-align: right;\">      3</td><td style=\"text-align: right;\">     43</td><td style=\"text-align: right;\">             153</td></tr>\n",
       "<tr><td><i style='opacity: 0.6'>3</i></td><td style=\"text-align: right;\">    57</td><td style=\"text-align: right;\">    96</td><td style=\"text-align: right;\">    10</td><td style=\"text-align: right;\">    46</td><td style=\"text-align: right;\">    95</td><td style=\"text-align: right;\">    68</td><td style=\"text-align: right;\">    49</td><td style=\"text-align: right;\">    29</td><td style=\"text-align: right;\">     1</td><td style=\"text-align: right;\">     3</td><td style=\"text-align: right;\">      0</td><td style=\"text-align: right;\">     88</td><td style=\"text-align: right;\">     52</td><td style=\"text-align: right;\">     13</td><td style=\"text-align: right;\">     89</td><td style=\"text-align: right;\">     90</td><td style=\"text-align: right;\">     62</td><td style=\"text-align: right;\">     50</td><td style=\"text-align: right;\">     40</td><td style=\"text-align: right;\">     24</td><td style=\"text-align: right;\">             106</td></tr>\n",
       "<tr><td><i style='opacity: 0.6'>4</i></td><td style=\"text-align: right;\">    38</td><td style=\"text-align: right;\">    96</td><td style=\"text-align: right;\">    80</td><td style=\"text-align: right;\">    33</td><td style=\"text-align: right;\">    16</td><td style=\"text-align: right;\">    14</td><td style=\"text-align: right;\">    86</td><td style=\"text-align: right;\">    89</td><td style=\"text-align: right;\">    73</td><td style=\"text-align: right;\">    62</td><td style=\"text-align: right;\">      6</td><td style=\"text-align: right;\">     56</td><td style=\"text-align: right;\">     25</td><td style=\"text-align: right;\">     49</td><td style=\"text-align: right;\">     83</td><td style=\"text-align: right;\">     80</td><td style=\"text-align: right;\">     87</td><td style=\"text-align: right;\">     97</td><td style=\"text-align: right;\">     81</td><td style=\"text-align: right;\">     14</td><td style=\"text-align: right;\">             176</td></tr>\n",
       "<tr><td><i style='opacity: 0.6'>5</i></td><td style=\"text-align: right;\">    60</td><td style=\"text-align: right;\">    92</td><td style=\"text-align: right;\">    85</td><td style=\"text-align: right;\">    78</td><td style=\"text-align: right;\">    21</td><td style=\"text-align: right;\">    71</td><td style=\"text-align: right;\">    30</td><td style=\"text-align: right;\">    52</td><td style=\"text-align: right;\">    93</td><td style=\"text-align: right;\">    81</td><td style=\"text-align: right;\">     19</td><td style=\"text-align: right;\">     61</td><td style=\"text-align: right;\">     45</td><td style=\"text-align: right;\">     97</td><td style=\"text-align: right;\">     27</td><td style=\"text-align: right;\">     20</td><td style=\"text-align: right;\">     77</td><td style=\"text-align: right;\">     58</td><td style=\"text-align: right;\">     82</td><td style=\"text-align: right;\">     28</td><td style=\"text-align: right;\">             177</td></tr>\n",
       "<tr><td><i style='opacity: 0.6'>6</i></td><td style=\"text-align: right;\">    73</td><td style=\"text-align: right;\">    96</td><td style=\"text-align: right;\">    28</td><td style=\"text-align: right;\">    28</td><td style=\"text-align: right;\">    97</td><td style=\"text-align: right;\">    15</td><td style=\"text-align: right;\">    60</td><td style=\"text-align: right;\">     8</td><td style=\"text-align: right;\">    57</td><td style=\"text-align: right;\">     3</td><td style=\"text-align: right;\">     43</td><td style=\"text-align: right;\">     20</td><td style=\"text-align: right;\">     15</td><td style=\"text-align: right;\">     13</td><td style=\"text-align: right;\">     88</td><td style=\"text-align: right;\">     45</td><td style=\"text-align: right;\">     56</td><td style=\"text-align: right;\">     18</td><td style=\"text-align: right;\">     67</td><td style=\"text-align: right;\">     18</td><td style=\"text-align: right;\">             124</td></tr>\n",
       "<tr><td><i style='opacity: 0.6'>7</i></td><td style=\"text-align: right;\">    49</td><td style=\"text-align: right;\">    97</td><td style=\"text-align: right;\">     6</td><td style=\"text-align: right;\">     5</td><td style=\"text-align: right;\">    33</td><td style=\"text-align: right;\">    98</td><td style=\"text-align: right;\">    43</td><td style=\"text-align: right;\">    49</td><td style=\"text-align: right;\">    53</td><td style=\"text-align: right;\">    15</td><td style=\"text-align: right;\">     55</td><td style=\"text-align: right;\">     68</td><td style=\"text-align: right;\">     77</td><td style=\"text-align: right;\">     95</td><td style=\"text-align: right;\">     51</td><td style=\"text-align: right;\">     46</td><td style=\"text-align: right;\">     13</td><td style=\"text-align: right;\">     76</td><td style=\"text-align: right;\">      2</td><td style=\"text-align: right;\">     39</td><td style=\"text-align: right;\">             103</td></tr>\n",
       "<tr><td><i style='opacity: 0.6'>8</i></td><td style=\"text-align: right;\">    80</td><td style=\"text-align: right;\">    99</td><td style=\"text-align: right;\">    32</td><td style=\"text-align: right;\">    27</td><td style=\"text-align: right;\">    58</td><td style=\"text-align: right;\">    28</td><td style=\"text-align: right;\">    25</td><td style=\"text-align: right;\">    82</td><td style=\"text-align: right;\">    94</td><td style=\"text-align: right;\">    36</td><td style=\"text-align: right;\">      1</td><td style=\"text-align: right;\">     61</td><td style=\"text-align: right;\">     45</td><td style=\"text-align: right;\">     41</td><td style=\"text-align: right;\">     92</td><td style=\"text-align: right;\">     54</td><td style=\"text-align: right;\">     94</td><td style=\"text-align: right;\">     46</td><td style=\"text-align: right;\">     61</td><td style=\"text-align: right;\">     71</td><td style=\"text-align: right;\">             131</td></tr>\n",
       "<tr><td><i style='opacity: 0.6'>9</i></td><td style=\"text-align: right;\">    73</td><td style=\"text-align: right;\">    98</td><td style=\"text-align: right;\">    30</td><td style=\"text-align: right;\">    85</td><td style=\"text-align: right;\">    68</td><td style=\"text-align: right;\">    92</td><td style=\"text-align: right;\">    94</td><td style=\"text-align: right;\">    52</td><td style=\"text-align: right;\">    26</td><td style=\"text-align: right;\">    58</td><td style=\"text-align: right;\">     30</td><td style=\"text-align: right;\">     65</td><td style=\"text-align: right;\">     14</td><td style=\"text-align: right;\">     93</td><td style=\"text-align: right;\">      1</td><td style=\"text-align: right;\">     48</td><td style=\"text-align: right;\">     78</td><td style=\"text-align: right;\">     64</td><td style=\"text-align: right;\">     25</td><td style=\"text-align: right;\">     54</td><td style=\"text-align: right;\">             128</td></tr>\n",
       "</tbody>\n",
       "</table>"
      ],
      "text/plain": [
       "  #    col0    col1    col2    col3    col4    col5    col6    col7    col8    col9    col10    col11    col12    col13    col14    col15    col16    col17    col18    col19    col1_plus_col2\n",
       "  0      12      93      41      88      22       3      20      76      73      62       95       47       71        1       54        3        3       10       40       69               134\n",
       "  1      41      95      38      86      85      57      88       9      57       6       60       20       61       28       15       49       11       89       17        7               133\n",
       "  2       5      98      55      25      98      30      12      47      94       0       47       93        4        6       22       74       52       89        3       43               153\n",
       "  3      57      96      10      46      95      68      49      29       1       3        0       88       52       13       89       90       62       50       40       24               106\n",
       "  4      38      96      80      33      16      14      86      89      73      62        6       56       25       49       83       80       87       97       81       14               176\n",
       "  5      60      92      85      78      21      71      30      52      93      81       19       61       45       97       27       20       77       58       82       28               177\n",
       "  6      73      96      28      28      97      15      60       8      57       3       43       20       15       13       88       45       56       18       67       18               124\n",
       "  7      49      97       6       5      33      98      43      49      53      15       55       68       77       95       51       46       13       76        2       39               103\n",
       "  8      80      99      32      27      58      28      25      82      94      36        1       61       45       41       92       54       94       46       61       71               131\n",
       "  9      73      98      30      85      68      92      94      52      26      58       30       65       14       93        1       48       78       64       25       54               128"
      ]
     },
     "execution_count": 16,
     "metadata": {},
     "output_type": "execute_result"
    }
   ],
   "source": [
    "dvv = dv[dv.col1 > 90]\n",
    "dvv.head()"
   ]
  },
  {
   "cell_type": "markdown",
   "metadata": {},
   "source": [
    "### Aggregation"
   ]
  },
  {
   "cell_type": "code",
   "execution_count": 17,
   "metadata": {},
   "outputs": [],
   "source": [
    "dv['col1_50'] = dv.col1 >= 50\n",
    "## Binary columns"
   ]
  },
  {
   "cell_type": "code",
   "execution_count": 18,
   "metadata": {},
   "outputs": [
    {
     "data": {
      "text/html": [
       "<table>\n",
       "<thead>\n",
       "<tr><th>#                            </th><th>col1_50  </th><th style=\"text-align: right;\">   col3_sum</th></tr>\n",
       "</thead>\n",
       "<tbody>\n",
       "<tr><td><i style='opacity: 0.6'>0</i></td><td>True     </td><td style=\"text-align: right;\">2.47653e+08</td></tr>\n",
       "<tr><td><i style='opacity: 0.6'>1</i></td><td>False    </td><td style=\"text-align: right;\">2.47257e+08</td></tr>\n",
       "</tbody>\n",
       "</table>"
      ],
      "text/plain": [
       "  #  col1_50       col3_sum\n",
       "  0  True       2.47653e+08\n",
       "  1  False      2.47257e+08"
      ]
     },
     "execution_count": 18,
     "metadata": {},
     "output_type": "execute_result"
    }
   ],
   "source": [
    "dv_group = dv.groupby(dv['col1_50'], agg=vaex.agg.sum(dv['col3']))\n",
    "## groups data by col1_50 and calculates the sum of the col3 column.\n",
    "dv_group"
   ]
  },
  {
   "cell_type": "markdown",
   "metadata": {},
   "source": [
    "### Joining data"
   ]
  },
  {
   "cell_type": "code",
   "execution_count": 19,
   "metadata": {},
   "outputs": [],
   "source": [
    "dv_join = dv.join(dv_group, on='col1_50')"
   ]
  },
  {
   "cell_type": "code",
   "execution_count": 20,
   "metadata": {},
   "outputs": [
    {
     "data": {
      "text/html": [
       "<table>\n",
       "<thead>\n",
       "<tr><th>#                                    </th><th>col0  </th><th>col1  </th><th>col2  </th><th>col3  </th><th>col4  </th><th>col5  </th><th>col6  </th><th>col7  </th><th>col8  </th><th>col9  </th><th>col10  </th><th>col11  </th><th>col12  </th><th>col13  </th><th>col14  </th><th>col15  </th><th>col16  </th><th>col17  </th><th>col18  </th><th>col19  </th><th>col1_plus_col2  </th><th>col1_50  </th><th>col3_sum  </th></tr>\n",
       "</thead>\n",
       "<tbody>\n",
       "<tr><td><i style='opacity: 0.6'>0</i>        </td><td>0     </td><td>76    </td><td>98    </td><td>6     </td><td>27    </td><td>56    </td><td>26    </td><td>12    </td><td>90    </td><td>58    </td><td>45     </td><td>62     </td><td>56     </td><td>8      </td><td>86     </td><td>84     </td><td>24     </td><td>99     </td><td>65     </td><td>3      </td><td>174             </td><td>True     </td><td>247652984 </td></tr>\n",
       "<tr><td><i style='opacity: 0.6'>1</i>        </td><td>43    </td><td>68    </td><td>90    </td><td>39    </td><td>43    </td><td>38    </td><td>44    </td><td>30    </td><td>45    </td><td>97    </td><td>49     </td><td>83     </td><td>60     </td><td>64     </td><td>90     </td><td>62     </td><td>12     </td><td>46     </td><td>64     </td><td>99     </td><td>158             </td><td>True     </td><td>247652984 </td></tr>\n",
       "<tr><td><i style='opacity: 0.6'>2</i>        </td><td>80    </td><td>28    </td><td>88    </td><td>76    </td><td>37    </td><td>22    </td><td>71    </td><td>47    </td><td>50    </td><td>88    </td><td>67     </td><td>86     </td><td>87     </td><td>84     </td><td>50     </td><td>42     </td><td>16     </td><td>99     </td><td>15     </td><td>71     </td><td>116             </td><td>False    </td><td>247257089 </td></tr>\n",
       "<tr><td><i style='opacity: 0.6'>3</i>        </td><td>18    </td><td>42    </td><td>46    </td><td>22    </td><td>99    </td><td>12    </td><td>14    </td><td>93    </td><td>28    </td><td>24    </td><td>20     </td><td>43     </td><td>65     </td><td>83     </td><td>83     </td><td>16     </td><td>82     </td><td>48     </td><td>91     </td><td>98     </td><td>88              </td><td>False    </td><td>247257089 </td></tr>\n",
       "<tr><td><i style='opacity: 0.6'>4</i>        </td><td>38    </td><td>34    </td><td>86    </td><td>54    </td><td>70    </td><td>42    </td><td>93    </td><td>53    </td><td>49    </td><td>22    </td><td>82     </td><td>81     </td><td>1      </td><td>93     </td><td>33     </td><td>90     </td><td>45     </td><td>73     </td><td>77     </td><td>85     </td><td>120             </td><td>False    </td><td>247257089 </td></tr>\n",
       "<tr><td>...                                  </td><td>...   </td><td>...   </td><td>...   </td><td>...   </td><td>...   </td><td>...   </td><td>...   </td><td>...   </td><td>...   </td><td>...   </td><td>...    </td><td>...    </td><td>...    </td><td>...    </td><td>...    </td><td>...    </td><td>...    </td><td>...    </td><td>...    </td><td>...    </td><td>...             </td><td>...      </td><td>...       </td></tr>\n",
       "<tr><td><i style='opacity: 0.6'>9,999,995</i></td><td>58    </td><td>29    </td><td>49    </td><td>41    </td><td>72    </td><td>22    </td><td>26    </td><td>48    </td><td>41    </td><td>74    </td><td>14     </td><td>43     </td><td>95     </td><td>36     </td><td>11     </td><td>53     </td><td>43     </td><td>17     </td><td>38     </td><td>18     </td><td>78              </td><td>False    </td><td>247257089 </td></tr>\n",
       "<tr><td><i style='opacity: 0.6'>9,999,996</i></td><td>59    </td><td>33    </td><td>70    </td><td>72    </td><td>5     </td><td>67    </td><td>48    </td><td>65    </td><td>88    </td><td>49    </td><td>91     </td><td>47     </td><td>11     </td><td>27     </td><td>37     </td><td>11     </td><td>24     </td><td>20     </td><td>48     </td><td>85     </td><td>103             </td><td>False    </td><td>247257089 </td></tr>\n",
       "<tr><td><i style='opacity: 0.6'>9,999,997</i></td><td>72    </td><td>84    </td><td>54    </td><td>17    </td><td>64    </td><td>16    </td><td>87    </td><td>34    </td><td>29    </td><td>47    </td><td>75     </td><td>90     </td><td>39     </td><td>62     </td><td>97     </td><td>49     </td><td>43     </td><td>48     </td><td>85     </td><td>43     </td><td>138             </td><td>True     </td><td>247652984 </td></tr>\n",
       "<tr><td><i style='opacity: 0.6'>9,999,998</i></td><td>33    </td><td>94    </td><td>13    </td><td>28    </td><td>57    </td><td>51    </td><td>81    </td><td>15    </td><td>78    </td><td>10    </td><td>54     </td><td>49     </td><td>44     </td><td>85     </td><td>28     </td><td>17     </td><td>62     </td><td>79     </td><td>40     </td><td>91     </td><td>107             </td><td>True     </td><td>247652984 </td></tr>\n",
       "<tr><td><i style='opacity: 0.6'>9,999,999</i></td><td>54    </td><td>15    </td><td>15    </td><td>91    </td><td>41    </td><td>86    </td><td>12    </td><td>65    </td><td>83    </td><td>9     </td><td>94     </td><td>51     </td><td>29     </td><td>86     </td><td>90     </td><td>49     </td><td>83     </td><td>80     </td><td>8      </td><td>77     </td><td>30              </td><td>False    </td><td>247257089 </td></tr>\n",
       "</tbody>\n",
       "</table>"
      ],
      "text/plain": [
       "#          col0    col1    col2    col3    col4    col5    col6    col7    col8    col9    col10    col11    col12    col13    col14    col15    col16    col17    col18    col19    col1_plus_col2    col1_50    col3_sum\n",
       "0          0       76      98      6       27      56      26      12      90      58      45       62       56       8        86       84       24       99       65       3        174               True       247652984\n",
       "1          43      68      90      39      43      38      44      30      45      97      49       83       60       64       90       62       12       46       64       99       158               True       247652984\n",
       "2          80      28      88      76      37      22      71      47      50      88      67       86       87       84       50       42       16       99       15       71       116               False      247257089\n",
       "3          18      42      46      22      99      12      14      93      28      24      20       43       65       83       83       16       82       48       91       98       88                False      247257089\n",
       "4          38      34      86      54      70      42      93      53      49      22      82       81       1        93       33       90       45       73       77       85       120               False      247257089\n",
       "...        ...     ...     ...     ...     ...     ...     ...     ...     ...     ...     ...      ...      ...      ...      ...      ...      ...      ...      ...      ...      ...               ...        ...\n",
       "9,999,995  58      29      49      41      72      22      26      48      41      74      14       43       95       36       11       53       43       17       38       18       78                False      247257089\n",
       "9,999,996  59      33      70      72      5       67      48      65      88      49      91       47       11       27       37       11       24       20       48       85       103               False      247257089\n",
       "9,999,997  72      84      54      17      64      16      87      34      29      47      75       90       39       62       97       49       43       48       85       43       138               True       247652984\n",
       "9,999,998  33      94      13      28      57      51      81      15      78      10      54       49       44       85       28       17       62       79       40       91       107               True       247652984\n",
       "9,999,999  54      15      15      91      41      86      12      65      83      9       94       51       29       86       90       49       83       80       8        77       30                False      247257089"
      ]
     },
     "execution_count": 20,
     "metadata": {},
     "output_type": "execute_result"
    }
   ],
   "source": [
    "dv_join"
   ]
  },
  {
   "cell_type": "markdown",
   "metadata": {},
   "source": [
    "## Beyond Pandas: Spark, Dask, Vaex and other big data technologies"
   ]
  },
  {
   "cell_type": "markdown",
   "metadata": {},
   "source": [
    "https://towardsdatascience.com/beyond-pandas-spark-dask-vaex-and-other-big-data-technologies-battling-head-to-head-a453a1f8cc13"
   ]
  },
  {
   "cell_type": "code",
   "execution_count": null,
   "metadata": {},
   "outputs": [],
   "source": []
  }
 ],
 "metadata": {
  "kernelspec": {
   "display_name": "Python 3",
   "language": "python",
   "name": "python3"
  },
  "language_info": {
   "codemirror_mode": {
    "name": "ipython",
    "version": 3
   },
   "file_extension": ".py",
   "mimetype": "text/x-python",
   "name": "python",
   "nbconvert_exporter": "python",
   "pygments_lexer": "ipython3",
   "version": "3.7.6"
  },
  "latex_envs": {
   "LaTeX_envs_menu_present": true,
   "autoclose": false,
   "autocomplete": true,
   "bibliofile": "biblio.bib",
   "cite_by": "apalike",
   "current_citInitial": 1,
   "eqLabelWithNumbers": true,
   "eqNumInitial": 1,
   "hotkeys": {
    "equation": "Ctrl-E",
    "itemize": "Ctrl-I"
   },
   "labels_anchors": false,
   "latex_user_defs": false,
   "report_style_numbering": false,
   "user_envs_cfg": false
  },
  "toc": {
   "base_numbering": 1,
   "nav_menu": {},
   "number_sections": true,
   "sideBar": true,
   "skip_h1_title": true,
   "title_cell": "Table of Contents",
   "title_sidebar": "Contents",
   "toc_cell": false,
   "toc_position": {
    "height": "calc(100% - 180px)",
    "left": "10px",
    "top": "150px",
    "width": "199.865px"
   },
   "toc_section_display": true,
   "toc_window_display": true
  }
 },
 "nbformat": 4,
 "nbformat_minor": 4
}
