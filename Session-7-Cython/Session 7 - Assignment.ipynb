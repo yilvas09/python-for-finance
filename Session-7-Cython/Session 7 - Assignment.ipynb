{
 "cells": [
  {
   "cell_type": "markdown",
   "metadata": {},
   "source": [
    "# Exercise 1: Monte Carlo calculation of Pi\n",
    "### As you might now a trick to compute $\\Pi$ using monte carlo methods it draw $(x,y)\\sim \\mathcal{U}[-1,1]$ uniformly distributed and count the number of $(x,y)$ coordinates that satisfy $x^2+y^2\\leq 1$ divided by the total number of draws. This gives $4\\Pi$, see below a sample code that computed this\n"
   ]
  },
  {
   "cell_type": "code",
   "execution_count": 1,
   "metadata": {},
   "outputs": [],
   "source": [
    "import numpy as np\n",
    "\n",
    "def compute_pi_python(num_sim):\n",
    "    np.random.seed(0)\n",
    "    x=2.0*(np.random.random(size=num_sim)-0.5)# np.random.random returns U[0,1] so we reescale it to U[-1,1]\n",
    "    y=2.0*(np.random.random(size=num_sim)-0.5)\n",
    "\n",
    "    inside=np.sum(x*x+y*y<=1)\n",
    "    \n",
    "    \n",
    "    pi=inside/num_sim*4\n",
    "\n",
    "    return pi"
   ]
  },
  {
   "cell_type": "code",
   "execution_count": 2,
   "metadata": {},
   "outputs": [
    {
     "name": "stdout",
     "output_type": "stream",
     "text": [
      "3.2\n",
      "3.076\n",
      "3.1068\n",
      "3.13088\n",
      "3.141688\n",
      "3.14129\n"
     ]
    }
   ],
   "source": [
    "print(compute_pi_python(100))\n",
    "print(compute_pi_python(1000))\n",
    "print(compute_pi_python(10000))\n",
    "print(compute_pi_python(100000))\n",
    "print(compute_pi_python(1000000))\n",
    "print(compute_pi_python(10000000))"
   ]
  },
  {
   "cell_type": "code",
   "execution_count": 3,
   "metadata": {},
   "outputs": [
    {
     "name": "stdout",
     "output_type": "stream",
     "text": [
      "181 ms ± 1.68 ms per loop (mean ± std. dev. of 7 runs, 1 loop each)\n"
     ]
    }
   ],
   "source": [
    "%timeit compute_pi_python(10000000)"
   ]
  },
  {
   "cell_type": "markdown",
   "metadata": {},
   "source": [
    "### Write a Cython and Numba code to perform the same task and compare timing of results"
   ]
  },
  {
   "cell_type": "markdown",
   "metadata": {},
   "source": [
    "### Hint: you can use the code below to generate a Uniform [0,1] random variable in Cython"
   ]
  },
  {
   "cell_type": "raw",
   "metadata": {},
   "source": [
    "from libc.stdlib cimport rand, RAND_MAX\n",
    "\n",
    "random = rand() / (RAND_MAX + 1.0)"
   ]
  },
  {
   "cell_type": "markdown",
   "metadata": {},
   "source": [
    "# Exercise 2"
   ]
  },
  {
   "cell_type": "markdown",
   "metadata": {},
   "source": [
    "### Use the IV code we have created in the lecture notebook to recompute the IV's the we considered in assignement 4 \n",
    "### a) Using Pandas apply\n",
    "### b) writting a cython function that vectorises the IV function to take memoryviews or cnp.ndarrays as input\n",
    "### c) compare the performance"
   ]
  }
 ],
 "metadata": {
  "kernelspec": {
   "display_name": "Python 3",
   "language": "python",
   "name": "python3"
  },
  "language_info": {
   "codemirror_mode": {
    "name": "ipython",
    "version": 3
   },
   "file_extension": ".py",
   "mimetype": "text/x-python",
   "name": "python",
   "nbconvert_exporter": "python",
   "pygments_lexer": "ipython3",
   "version": "3.6.9"
  },
  "latex_envs": {
   "LaTeX_envs_menu_present": true,
   "autoclose": false,
   "autocomplete": true,
   "bibliofile": "biblio.bib",
   "cite_by": "apalike",
   "current_citInitial": 1,
   "eqLabelWithNumbers": true,
   "eqNumInitial": 1,
   "hotkeys": {
    "equation": "Ctrl-E",
    "itemize": "Ctrl-I"
   },
   "labels_anchors": false,
   "latex_user_defs": false,
   "report_style_numbering": false,
   "user_envs_cfg": false
  },
  "toc": {
   "base_numbering": 1,
   "nav_menu": {},
   "number_sections": true,
   "sideBar": true,
   "skip_h1_title": true,
   "title_cell": "Table of Contents",
   "title_sidebar": "Contents",
   "toc_cell": false,
   "toc_position": {},
   "toc_section_display": true,
   "toc_window_display": true
  }
 },
 "nbformat": 4,
 "nbformat_minor": 4
}
