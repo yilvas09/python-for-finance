{
 "cells": [
  {
   "cell_type": "markdown",
   "metadata": {},
   "source": [
    "# What is Cython?\n",
    "### Cython is a programming language that aims to be a superset of the Python programming language, designed to give C-like performance with code that is written mostly in Python with optional additional C-inspired syntax.\n",
    "\n",
    "### Cython is a compiled language that is typically used to generate CPython extension modules. Annotated Python-like code is compiled to C or C++ then automatically wrapped in interface code, producing extension modules that can be loaded and used by regular Python code using the import statement, but with significantly less computational overhead at run time. Cython also facilitates wrapping independent C or C++ code into python-importable modules."
   ]
  },
  {
   "cell_type": "markdown",
   "metadata": {},
   "source": [
    "### First of all we need to install cython using ```pip install cython ``` and once installed we can load cython session using ```%load_ext cython```"
   ]
  },
  {
   "cell_type": "code",
   "execution_count": null,
   "metadata": {},
   "outputs": [],
   "source": [
    "!pip3 install cython"
   ]
  },
  {
   "cell_type": "code",
   "execution_count": null,
   "metadata": {},
   "outputs": [],
   "source": [
    "%load_ext cython"
   ]
  },
  {
   "cell_type": "markdown",
   "metadata": {},
   "source": [
    "### Let's define here our benchmark function"
   ]
  },
  {
   "cell_type": "code",
   "execution_count": null,
   "metadata": {},
   "outputs": [],
   "source": [
    "from scipy.stats import norm\n",
    "import numpy as np\n",
    "def python_price_european_option(sigma,S0, K, CP , T,t=0): #CP=1 for call CP=-1 for put\n",
    "    tau = T - t\n",
    "    sigmtau = sigma*np.sqrt(tau)\n",
    "    k = np.log(K/S0)\n",
    "    dp = -k / sigmtau + 0.5*sigmtau\n",
    "    dm = dp - sigmtau\n",
    "    return S0*(CP*norm.cdf(CP*dp) - CP*np.exp(k)*norm.cdf(CP*dm))\n",
    "%timeit python_price_european_option(sigma=0.2,S0=100,K=90,CP=-1,T=0.25)"
   ]
  },
  {
   "cell_type": "markdown",
   "metadata": {},
   "source": [
    "### To define a cython function or functions we need to add  ```%%cython``` in the beginning of the cell to let the compiler know we will be using cython. Also we use the syntax ```cpdef``` instead of  ```def```  to tell the compiler that this is both a python and c function. Cython allows to use ```cdef``` for a pure c function (which means input and outputs must be c accepted types)"
   ]
  },
  {
   "cell_type": "code",
   "execution_count": null,
   "metadata": {},
   "outputs": [],
   "source": [
    "%%cython\n",
    "from scipy.stats import norm\n",
    "import numpy as np\n",
    "cpdef c_naive_price_european_option(sigma,S0, K, CP, T,t=0):\n",
    "    tau = T - t\n",
    "    sigmtau = sigma*np.sqrt(tau)\n",
    "    k = np.log(K/S0)\n",
    "    dp = -k / sigmtau + 0.5*sigmtau\n",
    "    dm = dp - sigmtau\n",
    "    return S0*(CP*norm.cdf(CP*dp) - CP*np.exp(k)*norm.cdf(CP*dm))\n",
    "\n"
   ]
  },
  {
   "cell_type": "code",
   "execution_count": null,
   "metadata": {},
   "outputs": [],
   "source": [
    "%timeit c_naive_price_european_option(sigma=0.2,S0=100,K=90,CP=-1,T=0.25)"
   ]
  },
  {
   "cell_type": "markdown",
   "metadata": {},
   "source": [
    "###  Well not very spectacular right? To help us detect the parts where we can improve we can use the flag ```%% cython -a```"
   ]
  },
  {
   "cell_type": "code",
   "execution_count": null,
   "metadata": {},
   "outputs": [],
   "source": [
    "%%cython -a \n",
    "from scipy.stats import norm\n",
    "import numpy as np\n",
    "cpdef c_naive_price_european_option(sigma,S0, K, CP, T,t=0):\n",
    "    tau = T - t\n",
    "    sigmtau = sigma*np.sqrt(tau)\n",
    "    k = np.log(K/S0)\n",
    "    dp = -k / sigmtau + 0.5*sigmtau\n",
    "    dm = dp - sigmtau\n",
    "    return S0*(CP*norm.cdf(CP*dp) - CP*np.exp(k)*norm.cdf(CP*dm))\n"
   ]
  },
  {
   "cell_type": "markdown",
   "metadata": {},
   "source": [
    "### Yellow line essentially tell us which part of the code are being run in pure python, as you can see is all of it so we are of course not making any improvement yet. The first thing to do to improve our code is to define the types of our variables, as you would do in a compiled language"
   ]
  },
  {
   "cell_type": "code",
   "execution_count": null,
   "metadata": {},
   "outputs": [],
   "source": [
    "%%cython -a\n",
    "from scipy.stats import norm\n",
    "import numpy as np\n",
    "cpdef double c_with_types_price_european_option(double sigma, double S0, double K, double CP, double T,double t=0):\n",
    "    cdef double tau = T - t\n",
    "    cdef double sigmtau = sigma*np.sqrt(tau)\n",
    "    cdef double k = np.log(K/S0)\n",
    "    cdef double dp = -k / sigmtau + 0.5*sigmtau\n",
    "    cdef double dm = dp - sigmtau\n",
    "    return S0*(CP*norm.cdf(CP*dp) - CP*np.exp(k)*norm.cdf(CP*dm))"
   ]
  },
  {
   "cell_type": "code",
   "execution_count": null,
   "metadata": {},
   "outputs": [],
   "source": [
    "%timeit c_with_types_price_european_option(sigma=0.2,S0=100,K=90,CP=-1,T=0.25)"
   ]
  },
  {
   "cell_type": "markdown",
   "metadata": {},
   "source": [
    "###  Still quite a few lines to go. As you can see, we are still using ```np.sqrt``` , ```np.log``` and ```np.exp```. Is is preferred to change this to c native functions"
   ]
  },
  {
   "cell_type": "code",
   "execution_count": null,
   "metadata": {},
   "outputs": [],
   "source": [
    "%%cython -a\n",
    "from scipy.stats import norm\n",
    "from libc.math cimport  sqrt,log,exp\n",
    "cpdef double c_v1_price_european_option(double sigma, double S0, double K, double CP, double T,double t=0):\n",
    "    cdef double tau = T - t\n",
    "    cdef double sigmtau = sigma*sqrt(tau)\n",
    "    cdef double k = log(K/S0)\n",
    "    cdef double dp = -k / sigmtau + 0.5*sigmtau\n",
    "    cdef double dm = dp - sigmtau\n",
    "    return S0*(CP*norm.cdf(CP*dp) - CP*exp(k)*norm.cdf(CP*dm))"
   ]
  },
  {
   "cell_type": "code",
   "execution_count": null,
   "metadata": {},
   "outputs": [],
   "source": [
    "%timeit c_v1_price_european_option(sigma=0.2,S0=100,K=90,CP=-1,T=0.25)"
   ]
  },
  {
   "cell_type": "markdown",
   "metadata": {},
   "source": [
    "### we see that we still have some ligh yellow lines, this is because python checks for zero divisions we can improve this by using the decorator  ```@cython.cdivision(True)```"
   ]
  },
  {
   "cell_type": "code",
   "execution_count": null,
   "metadata": {},
   "outputs": [],
   "source": [
    "%%cython -a\n",
    "cimport cython\n",
    "from scipy.stats import norm\n",
    "from libc.math cimport  sqrt,log,exp\n",
    "@cython.cdivision(True)\n",
    "cpdef double c_v2_price_european_option(double sigma, double S0, double K, double CP, double T,double t=0):\n",
    "    cdef double tau = T - t\n",
    "    cdef double sigmtau = sigma*sqrt(tau)\n",
    "    cdef double k = log(K/S0)\n",
    "    cdef double dp = -k / sigmtau + 0.5*sigmtau\n",
    "    cdef double dm = dp - sigmtau\n",
    "    return S0*(CP*norm.cdf(CP*dp) - CP*exp(k)*norm.cdf(CP*dm))"
   ]
  },
  {
   "cell_type": "code",
   "execution_count": null,
   "metadata": {},
   "outputs": [],
   "source": [
    "%timeit c_v2_price_european_option(sigma=0.2,S0=100,K=90,CP=-1,T=0.25)"
   ]
  },
  {
   "cell_type": "markdown",
   "metadata": {},
   "source": [
    "### As you may have already guessed the main bottlenec here is the gaussian cdf \n",
    "$$\\Phi(x) =\\frac{1}{\\sqrt{2\\pi}}\\int_{-\\infty}^x e^\\tfrac{-t^2}{2}\\,dt = \\frac{1}{2} \\left[1+\\operatorname{erf}\\left(\\frac{x}{\\sqrt{2}}\\right)\\right]$$\n",
    "lucky for us, the error function ```erf()``` is build in in the standard c library"
   ]
  },
  {
   "cell_type": "code",
   "execution_count": null,
   "metadata": {},
   "outputs": [],
   "source": [
    "%%cython -a\n",
    "cimport cython\n",
    "from libc.math cimport  sqrt,log,exp,erf\n",
    "\n",
    "@cython.cdivision(True)\n",
    "cdef double gaussian_cdf(double x):\n",
    "    return 0.5*(1+erf(x/sqrt(2)))\n",
    "\n",
    "@cython.cdivision(True)\n",
    "cpdef double c_v3_price_european_option(double sigma, double S0, double K, double CP, double T,double t=0):\n",
    "    cdef double tau = T - t\n",
    "    cdef double sigmtau = sigma*sqrt(tau)\n",
    "    cdef double k = log(K/S0)\n",
    "    cdef double dp = -k / sigmtau + 0.5*sigmtau\n",
    "    cdef double dm = dp - sigmtau\n",
    "    return S0*(CP*gaussian_cdf(CP*dp) - CP*exp(k)*gaussian_cdf(CP*dm))"
   ]
  },
  {
   "cell_type": "code",
   "execution_count": null,
   "metadata": {},
   "outputs": [],
   "source": [
    "%timeit c_v3_price_european_option(sigma=0.2,S0=100,K=90,CP=-1,T=0.25)"
   ]
  },
  {
   "cell_type": "markdown",
   "metadata": {},
   "source": [
    "### Well that is certainly some speed improvement!  Now we can further improve some stuff like constants. We have th value $\\frac{1}{\\sqrt{2}}$ being computed numerically but we can set it as a global constant. Furthermore, we can add a bunch of decorators:\n",
    "\n",
    "1. ```@cython.boundscheck(False)``` : Boundscheck is a security check that you are accessing indices inside the bounds of the vectors.\n",
    "\n",
    "2. ```@cython.wraparound(False)``` :  Deactivate negative indexing on arrays\n",
    "\n",
    "3. ```@cython.nonecheck(False)``` :  Deactivate checking for none\n",
    "\n",
    "## And we can define our python function as a pure c function as there is no dependency on python"
   ]
  },
  {
   "cell_type": "code",
   "execution_count": null,
   "metadata": {},
   "outputs": [],
   "source": [
    "%%cython -a \n",
    "cimport cython\n",
    "from libc.math cimport  sqrt,log,exp,erf\n",
    "cdef double ONE_OVER_SQRT_TWO=0.7071067811865476\n",
    "\n",
    "@cython.cdivision(True)\n",
    "@cython.boundscheck(False)\n",
    "@cython.wraparound(False)\n",
    "@cython.nonecheck(False)\n",
    "cdef double gaussian_cdf(double x):\n",
    "    return 0.5*(1+erf(x*ONE_OVER_SQRT_TWO))\n",
    "\n",
    "@cython.cdivision(True)\n",
    "@cython.boundscheck(False)\n",
    "@cython.wraparound(False)\n",
    "@cython.nonecheck(False)\n",
    "cpdef double c_v4_price_european_option(double sigma, double S0, double K, double CP, double T,double t=0):\n",
    "    cdef double tau = T - t\n",
    "    cdef double sigmtau = sigma*sqrt(tau)\n",
    "    cdef double k = log(K/S0)\n",
    "    cdef double dp = -k / sigmtau + 0.5*sigmtau\n",
    "    cdef double dm = dp - sigmtau\n",
    "    return S0*(CP*gaussian_cdf(CP*dp) - CP*exp(k)*gaussian_cdf(CP*dm))"
   ]
  },
  {
   "cell_type": "code",
   "execution_count": null,
   "metadata": {},
   "outputs": [],
   "source": [
    "%timeit c_v4_price_european_option(sigma=0.2,S0=100,K=90,CP=-1,T=0.25)"
   ]
  },
  {
   "cell_type": "markdown",
   "metadata": {},
   "source": [
    "### As you can see not much improvement as we are not using vectors. The last thing left to do is to deactivate the GIL (Global Interpreter Lock) to do this we can use the syntax ```nogil``` after defining the function. Furthermore we can add compiler arguments like ```%%cython -a --compile-args=-O3``` to improve perfomance, but we should have achieved maximum or close tomaximum performance"
   ]
  },
  {
   "cell_type": "code",
   "execution_count": null,
   "metadata": {},
   "outputs": [],
   "source": [
    "%%cython -a --compile-args=-O3\n",
    "cimport cython\n",
    "from libc.math cimport  sqrt,log,exp,erf\n",
    "cdef double ONE_OVER_SQRT_TWO=0.7071067811865476\n",
    "\n",
    "@cython.cdivision(True)\n",
    "@cython.boundscheck(False)\n",
    "@cython.wraparound(False)\n",
    "@cython.nonecheck(False)\n",
    "cdef double gaussian_cdf(double x) nogil:\n",
    "    return 0.5*(1+erf(x*ONE_OVER_SQRT_TWO))\n",
    "\n",
    "@cython.cdivision(True)\n",
    "@cython.boundscheck(False)\n",
    "@cython.wraparound(False)\n",
    "@cython.nonecheck(False)\n",
    "cpdef double c_v5_price_european_option(double sigma, double S0, double K, double CP, double T,double t=0) nogil:\n",
    "    cdef double tau = T - t\n",
    "    cdef double sigmtau = sigma*sqrt(tau)\n",
    "    cdef double k = log(K/S0)\n",
    "    cdef double dp = -k / sigmtau + 0.5*sigmtau\n",
    "    cdef double dm = dp - sigmtau\n",
    "    return S0*(CP*gaussian_cdf(CP*dp) - CP*exp(k)*gaussian_cdf(CP*dm))"
   ]
  },
  {
   "cell_type": "code",
   "execution_count": null,
   "metadata": {},
   "outputs": [],
   "source": [
    "%timeit c_v5_price_european_option(sigma=0.2,S0=100,K=90,CP=-1,T=0.25)"
   ]
  },
  {
   "cell_type": "markdown",
   "metadata": {},
   "source": [
    "# Arrays and cython\n",
    "### So far we have seen how to construct a function whose arguments are 1 dimensional. How about performing operations on an array? Let's imagine we want to compute the Black-Scholes price for a bunc of strikes"
   ]
  },
  {
   "cell_type": "code",
   "execution_count": null,
   "metadata": {},
   "outputs": [],
   "source": [
    "import numpy as np\n",
    "strikes=np.linspace(25,300,1000000)\n",
    "print(strikes)"
   ]
  },
  {
   "cell_type": "code",
   "execution_count": null,
   "metadata": {},
   "outputs": [],
   "source": [
    "c_v5_price_european_option(sigma=0.2,S0=100,K=strikes,CP=-1,T=0.25)"
   ]
  },
  {
   "cell_type": "markdown",
   "metadata": {},
   "source": [
    "### The function obviously does not accept the array as input and we are left with no choice but to use some sort of list comprehension"
   ]
  },
  {
   "cell_type": "code",
   "execution_count": null,
   "metadata": {},
   "outputs": [],
   "source": [
    "%timeit [c_v5_price_european_option(sigma=0.2,S0=100,K=strike,CP=-1,T=0.25) for strike in strikes]"
   ]
  },
  {
   "cell_type": "markdown",
   "metadata": {},
   "source": [
    "# Cython ndarrays"
   ]
  },
  {
   "cell_type": "markdown",
   "metadata": {},
   "source": [
    "### cython ndarrays allow to take numpy arrays as input. To do so we need to ```cimport numpy as cnp``` and define ```cnp.ndarray[cnp.data_type, ndim=number_dimensions]```. However the GIL is necessary to allocate necessary buffers. Luckily Cython allows to switch off the GIL on a block of code so long as all variables in this block are well defined C types, to do so we use the syntax ```with nogil:``` see below "
   ]
  },
  {
   "cell_type": "code",
   "execution_count": null,
   "metadata": {},
   "outputs": [],
   "source": [
    "%%cython --compile-args=-O3\n",
    "cimport cython\n",
    "from libc.math cimport  sqrt,log,exp,erf\n",
    "cdef double ONE_OVER_SQRT_TWO=0.7071067811865476\n",
    "import numpy as np\n",
    "cimport numpy as cnp\n",
    "\n",
    "@cython.cdivision(True)\n",
    "@cython.boundscheck(False)\n",
    "@cython.wraparound(False)\n",
    "@cython.nonecheck(False)\n",
    "cdef double gaussian_cdf(double x) nogil:\n",
    "    return 0.5*(1+erf(x*ONE_OVER_SQRT_TWO))\n",
    "\n",
    "@cython.cdivision(True)\n",
    "@cython.boundscheck(False)\n",
    "@cython.wraparound(False)\n",
    "@cython.nonecheck(False)\n",
    "cpdef cnp.ndarray[cnp.double_t, ndim=1] c_v6_price_european_option(double sigma, double S0, cnp.ndarray[cnp.double_t, ndim=1] K, double CP, double T,double t=0):\n",
    "    cdef double tau = T - t\n",
    "    cdef int size=len(K)\n",
    "    cdef double sigmtau = sigma*sqrt(tau)\n",
    "    cdef double k,dp,dm\n",
    "    cdef cnp.ndarray[cnp.double_t, ndim=1] result=np.zeros(size)\n",
    "        \n",
    "    with nogil:\n",
    "        for i in range(size):\n",
    "            k = log(K[i]/S0)\n",
    "            dp = -k / sigmtau + 0.5*sigmtau\n",
    "            dm = dp - sigmtau\n",
    "            result[i]=S0*(CP*gaussian_cdf(CP*dp) - CP*exp(k)*gaussian_cdf(CP*dm))\n",
    "        \n",
    "    return result"
   ]
  },
  {
   "cell_type": "code",
   "execution_count": null,
   "metadata": {},
   "outputs": [],
   "source": [
    "%timeit c_v6_price_european_option(sigma=0.2,S0=100,K=strikes,CP=-1,T=0.25)"
   ]
  },
  {
   "cell_type": "code",
   "execution_count": null,
   "metadata": {},
   "outputs": [],
   "source": [
    "c_v6_price_european_option(sigma=0.2,S0=100,K=strikes,CP=-1,T=0.25)"
   ]
  },
  {
   "cell_type": "markdown",
   "metadata": {},
   "source": [
    "# Cython memoryviews"
   ]
  },
  {
   "cell_type": "markdown",
   "metadata": {},
   "source": [
    "### Cython also allows to remove completely the use of python to handle numpy arrays using memoryviews which are similar to C arrays. The syntax to define a memoryview is ```double[:] my_array``` and we can access their size without the GIL using ```.shape```. Note however, that if a new memoriview object needs to be created for an output, then the GIL will be called to make the object available"
   ]
  },
  {
   "cell_type": "code",
   "execution_count": null,
   "metadata": {
    "scrolled": true
   },
   "outputs": [],
   "source": [
    "%%cython -a --compile-args=-O3\n",
    "cimport cython\n",
    "from libc.math cimport  sqrt,log,exp,erf\n",
    "cdef double ONE_OVER_SQRT_TWO=0.7071067811865476\n",
    "from libc.stdlib cimport malloc, free\n",
    "\n",
    "@cython.cdivision(True)\n",
    "@cython.boundscheck(False)\n",
    "@cython.wraparound(False)\n",
    "@cython.nonecheck(False)\n",
    "cdef double gaussian_cdf(double x) nogil:\n",
    "    return 0.5*(1+erf(x*ONE_OVER_SQRT_TWO))\n",
    "\n",
    "@cython.cdivision(True)\n",
    "@cython.boundscheck(False)\n",
    "@cython.wraparound(False)\n",
    "@cython.nonecheck(False)\n",
    "cpdef double[:] c_v7_price_european_option(double sigma, double S0, double[:] K, double CP, double T,double t=0):\n",
    "    cdef double tau = T - t\n",
    "    cdef double sigmtau = sigma*sqrt(tau)\n",
    "    cdef double k,dp,dm\n",
    "    cdef int i\n",
    "    cdef int N=K.shape[0]\n",
    "    cdef double *res = <double *> malloc(N * sizeof(double))\n",
    "    cdef double[:] result = <double[:N]>res\n",
    "    \n",
    "\n",
    "    for i in range(N):\n",
    "        k = log(K[i]/S0)\n",
    "        dp = -k / sigmtau + 0.5*sigmtau\n",
    "        dm = dp - sigmtau\n",
    "        result[i]=S0*(CP*gaussian_cdf(CP*dp) - CP*exp(k)*gaussian_cdf(CP*dm))\n",
    "        \n",
    "    return result"
   ]
  },
  {
   "cell_type": "code",
   "execution_count": null,
   "metadata": {},
   "outputs": [],
   "source": [
    "%timeit c_v7_price_european_option(sigma=0.2,S0=100,K=strikes,CP=-1,T=0.25)"
   ]
  },
  {
   "cell_type": "markdown",
   "metadata": {},
   "source": [
    "### Note that the return type is a memoriview, which can be accessed element by element"
   ]
  },
  {
   "cell_type": "code",
   "execution_count": null,
   "metadata": {},
   "outputs": [],
   "source": [
    "memoryview_array=c_v7_price_european_option(sigma=0.2,S0=100,K=strikes,CP=-1,T=0.25)"
   ]
  },
  {
   "cell_type": "code",
   "execution_count": null,
   "metadata": {},
   "outputs": [],
   "source": [
    "memoryview_array"
   ]
  },
  {
   "cell_type": "code",
   "execution_count": null,
   "metadata": {},
   "outputs": [],
   "source": [
    "print(\"5000th element\",memoryview_array[5000])\n",
    "print(\"length is :\",len(memoryview_array))"
   ]
  },
  {
   "cell_type": "markdown",
   "metadata": {},
   "source": [
    "### or casted into a numpy array"
   ]
  },
  {
   "cell_type": "code",
   "execution_count": null,
   "metadata": {},
   "outputs": [],
   "source": [
    "np.asarray(memoryview_array)"
   ]
  },
  {
   "cell_type": "markdown",
   "metadata": {},
   "source": [
    "# Note:\n",
    "## Using ```malloc``` allocates memory in the RAM memory of your computer. To free the memory one needs to use ```free```. In this case, since the python object has been created with malloc, the memory will be allocated as long as the object lives e.g. until the kernel is shutdown"
   ]
  },
  {
   "cell_type": "code",
   "execution_count": null,
   "metadata": {
    "scrolled": true
   },
   "outputs": [],
   "source": [
    "%%cython -a --compile-args=-O3\n",
    "cimport cython\n",
    "from libc.math cimport  sqrt,log,exp,erf\n",
    "cdef double ONE_OVER_SQRT_TWO=0.7071067811865476\n",
    "from libc.stdlib cimport malloc, free\n",
    "from cpython.mem cimport PyMem_Malloc, PyMem_Realloc, PyMem_Free\n",
    "\n",
    "@cython.cdivision(True)\n",
    "@cython.boundscheck(False)\n",
    "@cython.wraparound(False)\n",
    "@cython.nonecheck(False)\n",
    "cpdef free_memory(double[:] data):\n",
    "    PyMem_Free(&data[0])"
   ]
  },
  {
   "cell_type": "code",
   "execution_count": null,
   "metadata": {},
   "outputs": [],
   "source": [
    "%timeit free_memory(c_v7_price_european_option(sigma=0.2,S0=100,K=strikes,CP=-1,T=0.25))"
   ]
  },
  {
   "cell_type": "markdown",
   "metadata": {},
   "source": [
    "## If you check your memory you will see that it remains stable here"
   ]
  },
  {
   "cell_type": "markdown",
   "metadata": {},
   "source": [
    "## This gives similar peformance, however if we want to obtain maximum performance we can pass the result array directly to the function so that no gil will be required, or we could transform K variable into our solution"
   ]
  },
  {
   "cell_type": "code",
   "execution_count": null,
   "metadata": {},
   "outputs": [],
   "source": [
    "%%cython -a --compile-args=-O3\n",
    "cimport cython\n",
    "from libc.math cimport  sqrt,log,exp,erf\n",
    "cdef double ONE_OVER_SQRT_TWO=0.7071067811865476\n",
    "from libc.stdlib cimport malloc, free\n",
    "\n",
    "@cython.cdivision(True)\n",
    "@cython.boundscheck(False)\n",
    "@cython.wraparound(False)\n",
    "@cython.nonecheck(False)\n",
    "cdef double gaussian_cdf(double x) nogil:\n",
    "    return 0.5*(1+erf(x*ONE_OVER_SQRT_TWO))\n",
    "\n",
    "@cython.cdivision(True)\n",
    "@cython.boundscheck(False)\n",
    "@cython.wraparound(False)\n",
    "@cython.nonecheck(False)\n",
    "cpdef void c_v8_price_european_option(double sigma, double S0, double[::1] K, double CP, double T,double t=0)nogil:\n",
    "    cdef double tau = T - t\n",
    "    cdef double sigmtau = sigma*sqrt(tau)\n",
    "    cdef double k,dp,dm\n",
    "    cdef int i\n",
    "    cdef int N=K.shape[0]   \n",
    "\n",
    "    for i in range(N):\n",
    "        k = log(K[i]/S0)\n",
    "        dp = -k / sigmtau + 0.5*sigmtau\n",
    "        dm = dp - sigmtau\n",
    "        K[i]=S0*(CP*gaussian_cdf(CP*dp) - CP*exp(k)*gaussian_cdf(CP*dm))\n",
    "        "
   ]
  },
  {
   "cell_type": "code",
   "execution_count": null,
   "metadata": {},
   "outputs": [],
   "source": [
    "%timeit c_v8_price_european_option(sigma=0.2,S0=100,K=strikes,CP=-1,T=0.25)"
   ]
  },
  {
   "cell_type": "markdown",
   "metadata": {},
   "source": [
    "### Note that memoryviews are passed by reference, hence any change we make to the inputs will be permanent!"
   ]
  },
  {
   "cell_type": "code",
   "execution_count": null,
   "metadata": {},
   "outputs": [],
   "source": [
    "strikes=np.linspace(50,150,100)\n",
    "c_v8_price_european_option(sigma=0.2,S0=100,K=strikes,CP=-1,T=0.25)\n",
    "print(strikes)"
   ]
  },
  {
   "cell_type": "markdown",
   "metadata": {},
   "source": [
    "## A last performance remark! \n",
    "### Cython allows to do parallel for loops e.g. use all your computer cores to perform the loop. The syntax is very easy using ```for i in prange()```  and one needs to ```from cython.parallel import prange``` and also add the compiler flags for ```openmp``` which is a multiprocessing library\n"
   ]
  },
  {
   "cell_type": "code",
   "execution_count": null,
   "metadata": {},
   "outputs": [],
   "source": [
    "%%cython -c=-fopenmp --link-args=-fopenmp\n",
    "cimport cython\n",
    "from libc.math cimport  sqrt,log,exp,erf\n",
    "cdef double ONE_OVER_SQRT_TWO=0.7071067811865476\n",
    "from libc.stdlib cimport malloc, free\n",
    "from cython.parallel import prange\n",
    "\n",
    "@cython.cdivision(True)\n",
    "@cython.boundscheck(False)\n",
    "@cython.wraparound(False)\n",
    "@cython.nonecheck(False)\n",
    "cdef double gaussian_cdf(double x) nogil:\n",
    "    return 0.5*(1+erf(x*ONE_OVER_SQRT_TWO))\n",
    "\n",
    "@cython.cdivision(True)\n",
    "@cython.boundscheck(False)\n",
    "@cython.wraparound(False)\n",
    "@cython.nonecheck(False)\n",
    "cpdef void c_parallel_price_european_option(double sigma, double S0, double[:] K, double CP, double T,double t=0)nogil:\n",
    "    cdef double tau = T - t\n",
    "    cdef double sigmtau = sigma*sqrt(tau)\n",
    "    cdef double k,dp,dm\n",
    "    cdef int i\n",
    "    cdef int N=K.shape[0]   \n",
    "\n",
    "    for i in prange(N,nogil=True,num_threads=4):\n",
    "        k = log(K[i]/S0)\n",
    "        dp = -k / sigmtau + 0.5*sigmtau\n",
    "        dm = dp - sigmtau\n",
    "        K[i]=S0*(CP*gaussian_cdf(CP*dp) - CP*exp(k)*gaussian_cdf(CP*dm))\n",
    "        "
   ]
  },
  {
   "cell_type": "code",
   "execution_count": null,
   "metadata": {},
   "outputs": [],
   "source": [
    "strikes=np.linspace(25,300,1000000)\n",
    "%timeit c_parallel_price_european_option(sigma=0.2,S0=100,K=strikes,CP=-1,T=0.25)"
   ]
  },
  {
   "cell_type": "markdown",
   "metadata": {},
   "source": [
    "### With 4 threads we see roughly 4x speed improvement"
   ]
  },
  {
   "cell_type": "markdown",
   "metadata": {},
   "source": [
    "# A word in contiguous arrays:\n",
    "\n",
    "### NUMPY arrays are NOT necessarilly contiguous!!! This means that if we use a C algorithm that requires contiguous arrays it will return unexpected values. There are two ways around this:\n",
    "\n",
    "### 1. Use  ```np.ascontiguousarray ``` to cast a numpy array into a contguous version\n",
    "### 2. In cython use ```[::1]``` intead of ```[:]``` to let cython know that a contiguous arrray is required"
   ]
  },
  {
   "cell_type": "markdown",
   "metadata": {},
   "source": [
    "# Let's take an example on when things can go wrong. BLAS (Basic Linear Algebra Subprogram) is a highly efficient native library (C/Fortran) to perform basic linear algebra operations.\n",
    "\n",
    "# As such it heavily uses the property of input arrayis being contiguois to leverage execution. We will look at the case of the dot product"
   ]
  },
  {
   "cell_type": "code",
   "execution_count": null,
   "metadata": {},
   "outputs": [],
   "source": [
    "%reload_ext cython"
   ]
  },
  {
   "cell_type": "code",
   "execution_count": null,
   "metadata": {},
   "outputs": [],
   "source": [
    "%%cython -a --compile-args=-O3 -l=blas\n",
    "cimport cython \n",
    "from libc.math cimport  sqrt,log,exp,erf\n",
    "cdef double ONE_OVER_SQRT_TWO=0.7071067811865476\n",
    "from libc.stdlib cimport malloc, free\n",
    "cdef extern from '/usr/include/x86_64-linux-gnu/cblas.h' nogil:\n",
    "    double cblas_ddot(int N,double* X, int incX,double* Y, int incY)\n",
    "@cython.cdivision(True)\n",
    "@cython.boundscheck(False)\n",
    "@cython.wraparound(False)\n",
    "@cython.nonecheck(False) \n",
    "cpdef double  dot_product(double[:] x,double[:] y)nogil :\n",
    "    return cblas_ddot(x.shape[0],&x[0],1,&y[0],1)\n",
    "    "
   ]
  },
  {
   "cell_type": "code",
   "execution_count": null,
   "metadata": {},
   "outputs": [],
   "source": [
    "import numpy as np\n",
    "x=np.arange(100000,dtype=np.double)\n",
    "y=np.arange(100000,dtype=np.double)\n",
    "dot_product(x,y)"
   ]
  },
  {
   "cell_type": "code",
   "execution_count": null,
   "metadata": {},
   "outputs": [],
   "source": [
    "%timeit dot_product(x,y)"
   ]
  },
  {
   "cell_type": "code",
   "execution_count": null,
   "metadata": {},
   "outputs": [],
   "source": [
    "np.dot(x,y)"
   ]
  },
  {
   "cell_type": "code",
   "execution_count": null,
   "metadata": {},
   "outputs": [],
   "source": [
    "%timeit np.dot(x,y)"
   ]
  },
  {
   "cell_type": "markdown",
   "metadata": {},
   "source": [
    "### Curious note: We see that numpy's dot product has a fantastic performance, due to the fact thatit uses highly efficient Fortran/C subroutines in the backend. However, the benefit of using BLAS in this case is that it does not require the GIL"
   ]
  },
  {
   "cell_type": "markdown",
   "metadata": {},
   "source": [
    "## Now let's consider the same dot product, using only even elements"
   ]
  },
  {
   "cell_type": "code",
   "execution_count": null,
   "metadata": {},
   "outputs": [],
   "source": [
    "dot_product(x[::2],y[::2])"
   ]
  },
  {
   "cell_type": "code",
   "execution_count": null,
   "metadata": {},
   "outputs": [],
   "source": [
    "np.dot(x[::2],y[::2])"
   ]
  },
  {
   "cell_type": "markdown",
   "metadata": {},
   "source": [
    "## As you can see the results don't agree anymore. A solution is to cast to a contiguous array"
   ]
  },
  {
   "cell_type": "code",
   "execution_count": null,
   "metadata": {},
   "outputs": [],
   "source": [
    "dot_product(np.ascontiguousarray(x[::2]),np.ascontiguousarray(y[::2]))"
   ]
  },
  {
   "cell_type": "markdown",
   "metadata": {},
   "source": [
    "## We can also add the ```[::1]``` syntax to prevent us from making that mistake "
   ]
  },
  {
   "cell_type": "code",
   "execution_count": null,
   "metadata": {},
   "outputs": [],
   "source": [
    "%%cython -a --compile-args=-O3 -l=blas\n",
    "cimport cython \n",
    "from libc.math cimport  sqrt,log,exp,erf\n",
    "cdef double ONE_OVER_SQRT_TWO=0.7071067811865476\n",
    "from libc.stdlib cimport malloc, free\n",
    "cdef extern from '/usr/include/x86_64-linux-gnu/cblas.h' nogil:\n",
    "    double cblas_ddot(int N,double* X, int incX,double* Y, int incY)\n",
    "@cython.cdivision(True)\n",
    "@cython.boundscheck(False)\n",
    "@cython.wraparound(False)\n",
    "@cython.nonecheck(False) \n",
    "cpdef double  dot_product(double[::1] x,double[::1] y)nogil :\n",
    "    return cblas_ddot(x.shape[0],&x[0],1,&y[0],1)\n",
    "    "
   ]
  },
  {
   "cell_type": "code",
   "execution_count": null,
   "metadata": {},
   "outputs": [],
   "source": [
    "dot_product(x[::2],y[::2])"
   ]
  },
  {
   "cell_type": "markdown",
   "metadata": {},
   "source": [
    "### No longer alows us to input non-contiguous arrays"
   ]
  },
  {
   "cell_type": "markdown",
   "metadata": {},
   "source": [
    "# Cython classes\n",
    "### Cython also allows to create classes. The syntax is similar to what we saw last session, but cython does allow to handle private attributes, in fact all attributes are private by default and not accesible by Python\n",
    "\n"
   ]
  },
  {
   "cell_type": "code",
   "execution_count": null,
   "metadata": {},
   "outputs": [],
   "source": [
    "%%cython -a --compile-args=-O3\n",
    "cimport cython\n",
    "from libc.math cimport  sqrt,log,exp,erf\n",
    "cdef double ONE_OVER_SQRT_TWO=0.7071067811865476\n",
    "from libc.stdlib cimport malloc, free\n",
    "\n",
    "@cython.cdivision(True)\n",
    "@cython.boundscheck(False)\n",
    "@cython.wraparound(False)\n",
    "@cython.nonecheck(False)\n",
    "cdef double gaussian_cdf(double x) nogil:\n",
    "    return 0.5*(1+erf(x*ONE_OVER_SQRT_TWO))\n",
    "\n",
    "cdef class Black_Scholes:\n",
    "    cdef double sigma\n",
    "    def __init__(self, sigma):\n",
    "        self.sigma=sigma\n",
    "        \n",
    "    cpdef double get_sigma(self):\n",
    "        return self.sigma\n",
    "    @cython.cdivision(True)\n",
    "    @cython.boundscheck(False)\n",
    "    @cython.wraparound(False)\n",
    "    @cython.nonecheck(False)\n",
    "    cpdef double european_option(self, double S0, double K, double CP, double T,double t=0):\n",
    "        cdef double tau = T - t\n",
    "        cdef double sigmtau = self.sigma*sqrt(tau)\n",
    "        cdef double k = log(K/S0)\n",
    "        cdef double dp = -k / sigmtau + 0.5*sigmtau\n",
    "        cdef double dm = dp - sigmtau\n",
    "        return S0*(CP*gaussian_cdf(CP*dp) - CP*exp(k)*gaussian_cdf(CP*dm))\n",
    "    "
   ]
  },
  {
   "cell_type": "code",
   "execution_count": null,
   "metadata": {},
   "outputs": [],
   "source": [
    "BS=Black_Scholes(0.2)\n",
    "%timeit BS.european_option(S0=100,K=90,CP=-1,T=0.25)"
   ]
  },
  {
   "cell_type": "code",
   "execution_count": null,
   "metadata": {},
   "outputs": [],
   "source": [
    "BS.sigma"
   ]
  },
  {
   "cell_type": "code",
   "execution_count": null,
   "metadata": {},
   "outputs": [],
   "source": [
    "BS.get_sigma()"
   ]
  },
  {
   "cell_type": "markdown",
   "metadata": {},
   "source": [
    "# Creating Modules\n",
    "### So far all we have created run on the notebook but is nowhere created. We can create a module using the syntax ```cython_pyximport modulename``` , which will create a ```modulename.pyx``` file. The ```.pyx``` makes reference to the fact that this is a cython script rather than a python one"
   ]
  },
  {
   "cell_type": "code",
   "execution_count": null,
   "metadata": {},
   "outputs": [],
   "source": [
    "%%cython_pyximport BS_module\n",
    "\n",
    "cimport cython\n",
    "from libc.math cimport  sqrt,log,exp,erf\n",
    "cdef double ONE_OVER_SQRT_TWO=0.7071067811865476\n",
    "\n",
    "@cython.cdivision(True)\n",
    "@cython.boundscheck(False)\n",
    "@cython.wraparound(False)\n",
    "@cython.nonecheck(False)\n",
    "cdef double gaussian_cdf(double x) nogil:\n",
    "    return 0.5*(1+erf(x*ONE_OVER_SQRT_TWO))\n",
    "\n",
    "@cython.cdivision(True)\n",
    "@cython.boundscheck(False)\n",
    "@cython.wraparound(False)\n",
    "@cython.nonecheck(False)\n",
    "cpdef double module_price_european_option(double sigma, double S0, double K, double CP, double T,double t=0) nogil:\n",
    "    cdef double tau = T - t\n",
    "    cdef double sigmtau = sigma*sqrt(tau)\n",
    "    cdef double k = log(K/S0)\n",
    "    cdef double dp = -k / sigmtau + 0.5*sigmtau\n",
    "    cdef double dm = dp - sigmtau\n",
    "    return S0*(CP*gaussian_cdf(CP*dp) - CP*exp(k)*gaussian_cdf(CP*dm))"
   ]
  },
  {
   "cell_type": "markdown",
   "metadata": {},
   "source": [
    "### We can then import our module using ```import pyximport; pyximport.install()``` which will know that the module we are trying to import is a Cython one"
   ]
  },
  {
   "cell_type": "code",
   "execution_count": null,
   "metadata": {},
   "outputs": [],
   "source": [
    "import pyximport; pyximport.install()\n",
    "import BS_module # name of .pyx file"
   ]
  },
  {
   "cell_type": "code",
   "execution_count": null,
   "metadata": {},
   "outputs": [],
   "source": [
    "BS_module.module_price_european_option(sigma=0.2,S0=100,K=90,CP=-1,T=0.25)"
   ]
  },
  {
   "cell_type": "markdown",
   "metadata": {},
   "source": [
    "# Importing c/c++ source code: A financial example with Implied Volatility\n",
    "### The full power of cython comes to life when we are able to wrap c libraries or functions. We will present a example here. Let's be rational https://jaeckel.000webhostapp.com/LetsBeRational.pdf by Peter Jackel is one of the most influencial papers in the efficient computation of Implied Volatility and is a industry standard. Albeit efficient, the code is somewhat involved but Jackel was kind enough to release the code for the implementation in cpp (you can find it in http://jaeckel.org/). What we will do here is to create a wrapper of this library with cython so that we can use it in Python.\n",
    "\n",
    "### SO far we have hidden how Cython manages code. What happens in reality is that the .pyx script is compiled into a .c/cpp code and the further compiled to be available to python. The examples we have discussed before work just fine as these are self-contained and do not involve external libraries. However, in general the way to go with Cython is to first create .pyx script and then compile it"
   ]
  },
  {
   "cell_type": "markdown",
   "metadata": {},
   "source": [
    "### The function we want to import is located in  ```./LetsBeRational/erf_cody.h``` header file.  Cython allows to import external functions using the syntax \n",
    "\n",
    "```cdef extern from \"path_to_file nogil:\n",
    "    double function_to_import(args)```\n",
    "\n",
    "### see and example below"
   ]
  },
  {
   "cell_type": "raw",
   "metadata": {},
   "source": [
    "### IV_module.pyx\n",
    "cimport cython\n",
    "\n",
    "\n",
    "cdef extern from \"./LetsBeRational/lets_be_rational.h\" nogil:\n",
    "    double implied_volatility_from_a_transformed_rational_guess(double price, double F, double K, double T, double q)\n",
    "    \n",
    "@cython.cdivision(True)\n",
    "@cython.boundscheck(False)\n",
    "@cython.wraparound(False)\n",
    "@cython.nonecheck(False)\n",
    "cpdef double implied_volatility(double price, double F, double K, double T, double q):\n",
    "    return implied_volatility_from_a_transformed_rational_guess(price, F, K, T, q)"
   ]
  },
  {
   "cell_type": "markdown",
   "metadata": {},
   "source": [
    "### Note that this won't work in jupyter notebook so we need to copy paste it into a .pyx file"
   ]
  },
  {
   "cell_type": "markdown",
   "metadata": {},
   "source": [
    "### Next we will create a ```setup.py``` file to create a installation/compilation script with the right directives to be able to use the modules. The contentents of this script should be the following"
   ]
  },
  {
   "cell_type": "raw",
   "metadata": {},
   "source": [
    "### setup.py\n",
    "from distutils.core import setup                                        \n",
    "from distutils.extension import Extension                               \n",
    "from Cython.Build import cythonize\n",
    "import numpy as np\n",
    "\n",
    "ext_modules=[]\n",
    "\n",
    "# We need to specify the path to all the scripts involved in this module\n",
    "ext_modules+=[\n",
    "    Extension(\"IV_module\",\n",
    "    sources=[\"IV_module.pyx\",\n",
    "    \"./LetsBeRational/lets_be_rational.cpp\",\n",
    "    \"./LetsBeRational/erf_cody.cpp\",\n",
    "    \"./LetsBeRational/rationalcubic.cpp\",\n",
    "    \"./LetsBeRational/normaldistribution.cpp\"],\n",
    "             )]\n",
    "\n",
    "\n",
    "setup(name='IV_module',\n",
    "    description='Implied Volatility Library',\n",
    "    author='Aitor Muguruza',\n",
    "    ext_modules = cythonize(ext_modules),\n",
    "    script_args=[\"build_ext\"],\n",
    "    options={'build_ext':{'inplace':True}},\n",
    "    include_dirs=[np.get_include()]\n",
    "     )\n"
   ]
  },
  {
   "cell_type": "code",
   "execution_count": null,
   "metadata": {},
   "outputs": [],
   "source": [
    "!python3 setup.py build_ext --inplace"
   ]
  },
  {
   "cell_type": "code",
   "execution_count": null,
   "metadata": {},
   "outputs": [],
   "source": [
    "import IV_module"
   ]
  },
  {
   "cell_type": "code",
   "execution_count": null,
   "metadata": {},
   "outputs": [],
   "source": [
    "price=BS_module.module_price_european_option(sigma=0.45,S0=100,K=90,CP=-1,T=0.25)"
   ]
  },
  {
   "cell_type": "code",
   "execution_count": null,
   "metadata": {},
   "outputs": [],
   "source": [
    "IV_module.implied_volatility(price=price, F=100, K=90, T=0.25, q=-1)"
   ]
  },
  {
   "cell_type": "code",
   "execution_count": null,
   "metadata": {},
   "outputs": [],
   "source": [
    "%timeit IV_module.implied_volatility(price=price, F=100, K=90, T=0.25, q=-1)"
   ]
  },
  {
   "cell_type": "markdown",
   "metadata": {},
   "source": [
    "## Voilà!! we have just created a state of the art IV calculation for your Python projects"
   ]
  },
  {
   "cell_type": "markdown",
   "metadata": {},
   "source": [
    "# Very short note on Numba\n",
    "\n",
    "### Numba translates Python functions to optimized machine code at runtime using the industry-standard LLVM compiler library. Numba-compiled numerical algorithms in Python can approach the speeds of C or FORTRAN.\n",
    "\n",
    "### You don't need to replace the Python interpreter, run a separate compilation step, or even have a C/C++ compiler installed. Just apply one of the Numba decorators to your Python function, and Numba does the rest.\n",
    "\n",
    "### Note that numba usually only interacts with Python and Numpy, so libraries like Scipy cannot be used in conjuction with Numba"
   ]
  },
  {
   "cell_type": "code",
   "execution_count": null,
   "metadata": {},
   "outputs": [],
   "source": [
    "import math\n",
    "import numpy as np\n",
    "from numba import jit\n",
    "\n",
    "@jit\n",
    "def normcdf(d):\n",
    "    A1 = 0.31938153\n",
    "    A2 = -0.356563782\n",
    "    A3 = 1.781477937\n",
    "    A4 = -1.821255978\n",
    "    A5 = 1.330274429\n",
    "    RSQRT2PI = 0.39894228040143267793994605993438\n",
    "    K = 1.0 / (1.0 + 0.2316419 * math.fabs(d))\n",
    "    ret_val = (RSQRT2PI * math.exp(-0.5 * d * d) *\n",
    "               (K * (A1 + K * (A2 + K * (A3 + K * (A4 + K * A5))))))\n",
    "    if d > 0:\n",
    "        ret_val = 1.0 - ret_val\n",
    "    return ret_val\n",
    "\n",
    "@jit\n",
    "def numba_price_european_option(sigma,S0, K, CP, T,t=0):\n",
    "    tau = T - t\n",
    "    sigmtau = sigma*np.sqrt(tau)\n",
    "    k = np.log(K/S0)\n",
    "    dp = -k / sigmtau + 0.5*sigmtau\n",
    "    dm = dp - sigmtau\n",
    "    return S0*(CP*normcdf(CP*dp) - CP*np.exp(k)*normcdf(CP*dm))"
   ]
  },
  {
   "cell_type": "code",
   "execution_count": null,
   "metadata": {},
   "outputs": [],
   "source": [
    "%timeit numba_price_european_option(sigma=0.2,S0=100,K=90,CP=-1,T=0.25)"
   ]
  },
  {
   "cell_type": "code",
   "execution_count": null,
   "metadata": {},
   "outputs": [],
   "source": []
  }
 ],
 "metadata": {
  "kernelspec": {
   "display_name": "Python 3 (ipykernel)",
   "language": "python",
   "name": "python3"
  },
  "language_info": {
   "codemirror_mode": {
    "name": "ipython",
    "version": 3
   },
   "file_extension": ".py",
   "mimetype": "text/x-python",
   "name": "python",
   "nbconvert_exporter": "python",
   "pygments_lexer": "ipython3",
   "version": "3.8.10"
  }
 },
 "nbformat": 4,
 "nbformat_minor": 4
}
