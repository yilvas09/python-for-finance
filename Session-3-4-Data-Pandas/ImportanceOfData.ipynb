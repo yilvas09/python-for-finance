{
 "cells": [
  {
   "cell_type": "markdown",
   "metadata": {},
   "source": [
    "# **THE IMPORTANCE OF DATA**\n",
    "---\n",
    "<img src=\"http://www.doc.ic.ac.uk/~afd/images/logo_imperial_college_london.png\" align = \"left\" width=200>\n",
    " <br><br><br><br>\n",
    " \n",
    "- Copyright (c) Antoine Jacquier, 2022. All rights reserved\n",
    "\n",
    "- Author: Jack Jacquier <a.jacquier@imperial.ac.uk>\n",
    "\n",
    "- Platform: Tested on Windows 10 with Python 3.9"
   ]
  },
  {
   "cell_type": "markdown",
   "metadata": {},
   "source": [
    "## Some topical data problems....."
   ]
  },
  {
   "cell_type": "markdown",
   "metadata": {},
   "source": [
    "### NHS COVID DATA October 2020\n",
    "https://www.bbc.co.uk/news/uk-54422505"
   ]
  },
  {
   "cell_type": "markdown",
   "metadata": {},
   "source": [
    "Run the following cell, first with N = 100, then with N = 1,100,000, and open the two csv files in Excel. What happens?\n",
    "\n",
    "**1 million sample points are too large for Excel!**"
   ]
  },
  {
   "cell_type": "code",
   "execution_count": 1,
   "metadata": {},
   "outputs": [],
   "source": [
    "import numpy as np\n",
    "import csv"
   ]
  },
  {
   "cell_type": "code",
   "execution_count": 2,
   "metadata": {},
   "outputs": [],
   "source": [
    "#N = 1000\n",
    "N = 1100000\n",
    "xx = np.random.normal(0.,1.,N)\n",
    "fileName = \"DataFile\" + str(N) + \".csv\"\n",
    "\n",
    "with open(fileName, 'w', newline='') as file:\n",
    "    writer = csv.writer(file)\n",
    "    writer.writerow([\"Index\", \"X\"])\n",
    "    for (i,x) in enumerate(xx):\n",
    "        writer.writerow([i, x])"
   ]
  },
  {
   "cell_type": "markdown",
   "metadata": {},
   "source": [
    "Is N = 2 million a large number?"
   ]
  },
  {
   "cell_type": "markdown",
   "metadata": {},
   "source": [
    "Let us look at FX data between GBP and EUR: https://www.truefx.com/truefx-historical-downloads/#66-67-january-1580847539"
   ]
  },
  {
   "cell_type": "code",
   "execution_count": 5,
   "metadata": {},
   "outputs": [
    {
     "name": "stdout",
     "output_type": "stream",
     "text": [
      "<class 'pandas.core.frame.DataFrame'>\n",
      "RangeIndex: 1530534 entries, 0 to 1530533\n",
      "Data columns (total 4 columns):\n",
      " #   Column  Non-Null Count    Dtype  \n",
      "---  ------  --------------    -----  \n",
      " 0   0       1530534 non-null  object \n",
      " 1   1       1530534 non-null  object \n",
      " 2   2       1530534 non-null  float64\n",
      " 3   3       1530534 non-null  float64\n",
      "dtypes: float64(2), object(2)\n",
      "memory usage: 46.7+ MB\n"
     ]
    }
   ],
   "source": [
    "import pandas as pd\n",
    "## I imported the file locally. You may want to check the path to file above\n",
    "df = pd.read_csv(\"EURGBP-2022-01.csv\", header = None)\n",
    "df.info()"
   ]
  },
  {
   "cell_type": "markdown",
   "metadata": {},
   "source": [
    "Looking at the top five rows"
   ]
  },
  {
   "cell_type": "code",
   "execution_count": 6,
   "metadata": {},
   "outputs": [
    {
     "data": {
      "text/html": [
       "<div>\n",
       "<style scoped>\n",
       "    .dataframe tbody tr th:only-of-type {\n",
       "        vertical-align: middle;\n",
       "    }\n",
       "\n",
       "    .dataframe tbody tr th {\n",
       "        vertical-align: top;\n",
       "    }\n",
       "\n",
       "    .dataframe thead th {\n",
       "        text-align: right;\n",
       "    }\n",
       "</style>\n",
       "<table border=\"1\" class=\"dataframe\">\n",
       "  <thead>\n",
       "    <tr style=\"text-align: right;\">\n",
       "      <th></th>\n",
       "      <th>0</th>\n",
       "      <th>1</th>\n",
       "      <th>2</th>\n",
       "      <th>3</th>\n",
       "    </tr>\n",
       "  </thead>\n",
       "  <tbody>\n",
       "    <tr>\n",
       "      <th>0</th>\n",
       "      <td>EUR/GBP</td>\n",
       "      <td>20220102 22:06:10.134</td>\n",
       "      <td>0.83823</td>\n",
       "      <td>0.84273</td>\n",
       "    </tr>\n",
       "    <tr>\n",
       "      <th>1</th>\n",
       "      <td>EUR/GBP</td>\n",
       "      <td>20220102 22:06:51.626</td>\n",
       "      <td>0.83816</td>\n",
       "      <td>0.84274</td>\n",
       "    </tr>\n",
       "    <tr>\n",
       "      <th>2</th>\n",
       "      <td>EUR/GBP</td>\n",
       "      <td>20220102 22:06:51.627</td>\n",
       "      <td>0.83811</td>\n",
       "      <td>0.84275</td>\n",
       "    </tr>\n",
       "    <tr>\n",
       "      <th>3</th>\n",
       "      <td>EUR/GBP</td>\n",
       "      <td>20220102 22:06:52.627</td>\n",
       "      <td>0.83829</td>\n",
       "      <td>0.84189</td>\n",
       "    </tr>\n",
       "    <tr>\n",
       "      <th>4</th>\n",
       "      <td>EUR/GBP</td>\n",
       "      <td>20220102 22:06:52.839</td>\n",
       "      <td>0.83834</td>\n",
       "      <td>0.84183</td>\n",
       "    </tr>\n",
       "  </tbody>\n",
       "</table>\n",
       "</div>"
      ],
      "text/plain": [
       "         0                      1        2        3\n",
       "0  EUR/GBP  20220102 22:06:10.134  0.83823  0.84273\n",
       "1  EUR/GBP  20220102 22:06:51.626  0.83816  0.84274\n",
       "2  EUR/GBP  20220102 22:06:51.627  0.83811  0.84275\n",
       "3  EUR/GBP  20220102 22:06:52.627  0.83829  0.84189\n",
       "4  EUR/GBP  20220102 22:06:52.839  0.83834  0.84183"
      ]
     },
     "execution_count": 6,
     "metadata": {},
     "output_type": "execute_result"
    }
   ],
   "source": [
    "df.head()"
   ]
  },
  {
   "cell_type": "markdown",
   "metadata": {},
   "source": [
    "Looking at the bottom five rows"
   ]
  },
  {
   "cell_type": "code",
   "execution_count": 7,
   "metadata": {},
   "outputs": [
    {
     "data": {
      "text/html": [
       "<div>\n",
       "<style scoped>\n",
       "    .dataframe tbody tr th:only-of-type {\n",
       "        vertical-align: middle;\n",
       "    }\n",
       "\n",
       "    .dataframe tbody tr th {\n",
       "        vertical-align: top;\n",
       "    }\n",
       "\n",
       "    .dataframe thead th {\n",
       "        text-align: right;\n",
       "    }\n",
       "</style>\n",
       "<table border=\"1\" class=\"dataframe\">\n",
       "  <thead>\n",
       "    <tr style=\"text-align: right;\">\n",
       "      <th></th>\n",
       "      <th>0</th>\n",
       "      <th>1</th>\n",
       "      <th>2</th>\n",
       "      <th>3</th>\n",
       "    </tr>\n",
       "  </thead>\n",
       "  <tbody>\n",
       "    <tr>\n",
       "      <th>1530529</th>\n",
       "      <td>EUR/GBP</td>\n",
       "      <td>20220131 23:59:47.694</td>\n",
       "      <td>0.83514</td>\n",
       "      <td>0.83522</td>\n",
       "    </tr>\n",
       "    <tr>\n",
       "      <th>1530530</th>\n",
       "      <td>EUR/GBP</td>\n",
       "      <td>20220131 23:59:55.511</td>\n",
       "      <td>0.83510</td>\n",
       "      <td>0.83521</td>\n",
       "    </tr>\n",
       "    <tr>\n",
       "      <th>1530531</th>\n",
       "      <td>EUR/GBP</td>\n",
       "      <td>20220131 23:59:55.565</td>\n",
       "      <td>0.83510</td>\n",
       "      <td>0.83522</td>\n",
       "    </tr>\n",
       "    <tr>\n",
       "      <th>1530532</th>\n",
       "      <td>EUR/GBP</td>\n",
       "      <td>20220131 23:59:55.621</td>\n",
       "      <td>0.83515</td>\n",
       "      <td>0.83522</td>\n",
       "    </tr>\n",
       "    <tr>\n",
       "      <th>1530533</th>\n",
       "      <td>EUR/GBP</td>\n",
       "      <td>20220131 23:59:58.908</td>\n",
       "      <td>0.83517</td>\n",
       "      <td>0.83523</td>\n",
       "    </tr>\n",
       "  </tbody>\n",
       "</table>\n",
       "</div>"
      ],
      "text/plain": [
       "               0                      1        2        3\n",
       "1530529  EUR/GBP  20220131 23:59:47.694  0.83514  0.83522\n",
       "1530530  EUR/GBP  20220131 23:59:55.511  0.83510  0.83521\n",
       "1530531  EUR/GBP  20220131 23:59:55.565  0.83510  0.83522\n",
       "1530532  EUR/GBP  20220131 23:59:55.621  0.83515  0.83522\n",
       "1530533  EUR/GBP  20220131 23:59:58.908  0.83517  0.83523"
      ]
     },
     "execution_count": 7,
     "metadata": {},
     "output_type": "execute_result"
    }
   ],
   "source": [
    "df.tail()"
   ]
  },
  {
   "cell_type": "markdown",
   "metadata": {},
   "source": [
    "Cleaning and visualising (more on `pandas` and dataframe in another session)"
   ]
  },
  {
   "cell_type": "code",
   "execution_count": 8,
   "metadata": {},
   "outputs": [
    {
     "data": {
      "text/plain": [
       "<AxesSubplot:xlabel='Date'>"
      ]
     },
     "execution_count": 8,
     "metadata": {},
     "output_type": "execute_result"
    },
    {
     "data": {
      "image/png": "[encoded data removed]",
      "text/plain": [
       "<Figure size 640x480 with 1 Axes>"
      ]
     },
     "metadata": {},
     "output_type": "display_data"
    }
   ],
   "source": [
    "df = df.drop([0], axis=1)\n",
    "df.columns = [\"Date\", \"Bid\", \"Ask\"]\n",
    "df[\"Date\"] = pd.to_datetime(df[\"Date\"])\n",
    "df = df.set_index(\"Date\")\n",
    "df[[\"Bid\", \"Ask\"]].plot()"
   ]
  },
  {
   "cell_type": "markdown",
   "metadata": {},
   "source": [
    "**Missing data during weekends leads to misleading linear trend!**"
   ]
  },
  {
   "cell_type": "markdown",
   "metadata": {},
   "source": [
    "### Misleading Visualisation (often on purpose)\n",
    "\n",
    "https://venngage.com/blog/misleading-graphs/"
   ]
  },
  {
   "cell_type": "markdown",
   "metadata": {},
   "source": [
    "## Where to find data?"
   ]
  },
  {
   "cell_type": "markdown",
   "metadata": {},
   "source": [
    "Internet is a goldmine for data. Not all data are free, but a large amount, on every topic, is (subject to copyright). We indicate below a few such sources that might be of interest in the context of Economics / Finance, as well as a few others (to broaden your horizons beyond the lure of the financial industry):\n",
    "- <a href=\"https://docs.quandl.com/\"> Quandl</a>:  vast collection of economic, financial, and market data collected from a wide variety of sources.\n",
    "- <a href=\"https://trends.google.com/trends/?geo=UK\"> Google Trends</a>\n",
    "- Be careful with <a href=\"https://ico.org.uk/for-organisations/guide-to-data-protection/guide-to-the-general-data-protection-regulation-gdpr/key-definitions/what-is-personal-data/\">Personal data</a> and <a href=\"http://www.oecd.org/sti/intellectual-property-statistics-and-analysis.htm\">Intellectual property</a>. Legal issues may arise.... "
   ]
  },
  {
   "cell_type": "markdown",
   "metadata": {},
   "source": [
    "## `yahoo_fin`\n",
    "\n",
    "`yahoo_fin` is a package to download lots of financial data on companies and traded stocks, indices, ...\n",
    "https://pypi.org/project/yahoo-fin/\n",
    "\n",
    "The functions in `yahoo_fin` are grouped into two modules:\n",
    "- `stock_info`\n",
    "- `options`"
   ]
  },
  {
   "cell_type": "markdown",
   "metadata": {},
   "source": [
    "### The `stock_info` package"
   ]
  },
  {
   "cell_type": "code",
   "execution_count": 9,
   "metadata": {},
   "outputs": [],
   "source": [
    "## %pip install yahoo_fin"
   ]
  },
  {
   "cell_type": "code",
   "execution_count": 10,
   "metadata": {},
   "outputs": [],
   "source": [
    "import yahoo_fin.stock_info as si"
   ]
  },
  {
   "cell_type": "code",
   "execution_count": 11,
   "metadata": {},
   "outputs": [
    {
     "data": {
      "text/html": [
       "<div>\n",
       "<style scoped>\n",
       "    .dataframe tbody tr th:only-of-type {\n",
       "        vertical-align: middle;\n",
       "    }\n",
       "\n",
       "    .dataframe tbody tr th {\n",
       "        vertical-align: top;\n",
       "    }\n",
       "\n",
       "    .dataframe thead th {\n",
       "        text-align: right;\n",
       "    }\n",
       "</style>\n",
       "<table border=\"1\" class=\"dataframe\">\n",
       "  <thead>\n",
       "    <tr style=\"text-align: right;\">\n",
       "      <th></th>\n",
       "      <th>open</th>\n",
       "      <th>high</th>\n",
       "      <th>low</th>\n",
       "      <th>close</th>\n",
       "      <th>adjclose</th>\n",
       "      <th>volume</th>\n",
       "      <th>ticker</th>\n",
       "    </tr>\n",
       "  </thead>\n",
       "  <tbody>\n",
       "    <tr>\n",
       "      <th>1980-12-12</th>\n",
       "      <td>0.128348</td>\n",
       "      <td>0.128906</td>\n",
       "      <td>0.128348</td>\n",
       "      <td>0.128348</td>\n",
       "      <td>0.099874</td>\n",
       "      <td>469033600</td>\n",
       "      <td>AAPL</td>\n",
       "    </tr>\n",
       "    <tr>\n",
       "      <th>1980-12-15</th>\n",
       "      <td>0.122210</td>\n",
       "      <td>0.122210</td>\n",
       "      <td>0.121652</td>\n",
       "      <td>0.121652</td>\n",
       "      <td>0.094663</td>\n",
       "      <td>175884800</td>\n",
       "      <td>AAPL</td>\n",
       "    </tr>\n",
       "    <tr>\n",
       "      <th>1980-12-16</th>\n",
       "      <td>0.113281</td>\n",
       "      <td>0.113281</td>\n",
       "      <td>0.112723</td>\n",
       "      <td>0.112723</td>\n",
       "      <td>0.087715</td>\n",
       "      <td>105728000</td>\n",
       "      <td>AAPL</td>\n",
       "    </tr>\n",
       "    <tr>\n",
       "      <th>1980-12-17</th>\n",
       "      <td>0.115513</td>\n",
       "      <td>0.116071</td>\n",
       "      <td>0.115513</td>\n",
       "      <td>0.115513</td>\n",
       "      <td>0.089886</td>\n",
       "      <td>86441600</td>\n",
       "      <td>AAPL</td>\n",
       "    </tr>\n",
       "    <tr>\n",
       "      <th>1980-12-18</th>\n",
       "      <td>0.118862</td>\n",
       "      <td>0.119420</td>\n",
       "      <td>0.118862</td>\n",
       "      <td>0.118862</td>\n",
       "      <td>0.092492</td>\n",
       "      <td>73449600</td>\n",
       "      <td>AAPL</td>\n",
       "    </tr>\n",
       "  </tbody>\n",
       "</table>\n",
       "</div>"
      ],
      "text/plain": [
       "                open      high       low     close  adjclose     volume ticker\n",
       "1980-12-12  0.128348  0.128906  0.128348  0.128348  0.099874  469033600   AAPL\n",
       "1980-12-15  0.122210  0.122210  0.121652  0.121652  0.094663  175884800   AAPL\n",
       "1980-12-16  0.113281  0.113281  0.112723  0.112723  0.087715  105728000   AAPL\n",
       "1980-12-17  0.115513  0.116071  0.115513  0.115513  0.089886   86441600   AAPL\n",
       "1980-12-18  0.118862  0.119420  0.118862  0.118862  0.092492   73449600   AAPL"
      ]
     },
     "execution_count": 11,
     "metadata": {},
     "output_type": "execute_result"
    }
   ],
   "source": [
    "aapl = si.get_data(\"aapl\") # gets Apple's data\n",
    "aapl.head()"
   ]
  },
  {
   "cell_type": "code",
   "execution_count": 12,
   "metadata": {},
   "outputs": [
    {
     "data": {
      "text/html": [
       "<div>\n",
       "<style scoped>\n",
       "    .dataframe tbody tr th:only-of-type {\n",
       "        vertical-align: middle;\n",
       "    }\n",
       "\n",
       "    .dataframe tbody tr th {\n",
       "        vertical-align: top;\n",
       "    }\n",
       "\n",
       "    .dataframe thead th {\n",
       "        text-align: right;\n",
       "    }\n",
       "</style>\n",
       "<table border=\"1\" class=\"dataframe\">\n",
       "  <thead>\n",
       "    <tr style=\"text-align: right;\">\n",
       "      <th></th>\n",
       "      <th>open</th>\n",
       "      <th>high</th>\n",
       "      <th>low</th>\n",
       "      <th>close</th>\n",
       "      <th>adjclose</th>\n",
       "      <th>volume</th>\n",
       "      <th>ticker</th>\n",
       "    </tr>\n",
       "  </thead>\n",
       "  <tbody>\n",
       "    <tr>\n",
       "      <th>2022-11-17</th>\n",
       "      <td>146.429993</td>\n",
       "      <td>151.479996</td>\n",
       "      <td>146.149994</td>\n",
       "      <td>150.720001</td>\n",
       "      <td>150.720001</td>\n",
       "      <td>80389400</td>\n",
       "      <td>AAPL</td>\n",
       "    </tr>\n",
       "    <tr>\n",
       "      <th>2022-11-18</th>\n",
       "      <td>152.309998</td>\n",
       "      <td>152.699997</td>\n",
       "      <td>149.970001</td>\n",
       "      <td>151.289993</td>\n",
       "      <td>151.289993</td>\n",
       "      <td>74794600</td>\n",
       "      <td>AAPL</td>\n",
       "    </tr>\n",
       "    <tr>\n",
       "      <th>2022-11-21</th>\n",
       "      <td>150.160004</td>\n",
       "      <td>150.369995</td>\n",
       "      <td>147.720001</td>\n",
       "      <td>148.009995</td>\n",
       "      <td>148.009995</td>\n",
       "      <td>58724100</td>\n",
       "      <td>AAPL</td>\n",
       "    </tr>\n",
       "    <tr>\n",
       "      <th>2022-11-22</th>\n",
       "      <td>148.130005</td>\n",
       "      <td>150.419998</td>\n",
       "      <td>146.929993</td>\n",
       "      <td>150.179993</td>\n",
       "      <td>150.179993</td>\n",
       "      <td>51804100</td>\n",
       "      <td>AAPL</td>\n",
       "    </tr>\n",
       "    <tr>\n",
       "      <th>2022-11-23</th>\n",
       "      <td>149.449997</td>\n",
       "      <td>151.830002</td>\n",
       "      <td>149.339996</td>\n",
       "      <td>151.070007</td>\n",
       "      <td>151.070007</td>\n",
       "      <td>58237000</td>\n",
       "      <td>AAPL</td>\n",
       "    </tr>\n",
       "  </tbody>\n",
       "</table>\n",
       "</div>"
      ],
      "text/plain": [
       "                  open        high         low       close    adjclose  \\\n",
       "2022-11-17  146.429993  151.479996  146.149994  150.720001  150.720001   \n",
       "2022-11-18  152.309998  152.699997  149.970001  151.289993  151.289993   \n",
       "2022-11-21  150.160004  150.369995  147.720001  148.009995  148.009995   \n",
       "2022-11-22  148.130005  150.419998  146.929993  150.179993  150.179993   \n",
       "2022-11-23  149.449997  151.830002  149.339996  151.070007  151.070007   \n",
       "\n",
       "              volume ticker  \n",
       "2022-11-17  80389400   AAPL  \n",
       "2022-11-18  74794600   AAPL  \n",
       "2022-11-21  58724100   AAPL  \n",
       "2022-11-22  51804100   AAPL  \n",
       "2022-11-23  58237000   AAPL  "
      ]
     },
     "execution_count": 12,
     "metadata": {},
     "output_type": "execute_result"
    }
   ],
   "source": [
    "aapl.tail()"
   ]
  },
  {
   "cell_type": "markdown",
   "metadata": {},
   "source": [
    "You can also pull data for a specific date range, as follows:"
   ]
  },
  {
   "cell_type": "code",
   "execution_count": 14,
   "metadata": {},
   "outputs": [
    {
     "data": {
      "text/html": [
       "<div>\n",
       "<style scoped>\n",
       "    .dataframe tbody tr th:only-of-type {\n",
       "        vertical-align: middle;\n",
       "    }\n",
       "\n",
       "    .dataframe tbody tr th {\n",
       "        vertical-align: top;\n",
       "    }\n",
       "\n",
       "    .dataframe thead th {\n",
       "        text-align: right;\n",
       "    }\n",
       "</style>\n",
       "<table border=\"1\" class=\"dataframe\">\n",
       "  <thead>\n",
       "    <tr style=\"text-align: right;\">\n",
       "      <th></th>\n",
       "      <th>open</th>\n",
       "      <th>high</th>\n",
       "      <th>low</th>\n",
       "      <th>close</th>\n",
       "      <th>adjclose</th>\n",
       "      <th>volume</th>\n",
       "      <th>ticker</th>\n",
       "    </tr>\n",
       "  </thead>\n",
       "  <tbody>\n",
       "    <tr>\n",
       "      <th>2017-01-03</th>\n",
       "      <td>37.896000</td>\n",
       "      <td>37.938000</td>\n",
       "      <td>37.384998</td>\n",
       "      <td>37.683498</td>\n",
       "      <td>37.683498</td>\n",
       "      <td>70422000</td>\n",
       "      <td>AMZN</td>\n",
       "    </tr>\n",
       "    <tr>\n",
       "      <th>2017-01-04</th>\n",
       "      <td>37.919498</td>\n",
       "      <td>37.984001</td>\n",
       "      <td>37.709999</td>\n",
       "      <td>37.859001</td>\n",
       "      <td>37.859001</td>\n",
       "      <td>50210000</td>\n",
       "      <td>AMZN</td>\n",
       "    </tr>\n",
       "    <tr>\n",
       "      <th>2017-01-05</th>\n",
       "      <td>38.077499</td>\n",
       "      <td>39.119999</td>\n",
       "      <td>38.013000</td>\n",
       "      <td>39.022499</td>\n",
       "      <td>39.022499</td>\n",
       "      <td>116602000</td>\n",
       "      <td>AMZN</td>\n",
       "    </tr>\n",
       "    <tr>\n",
       "      <th>2017-01-06</th>\n",
       "      <td>39.118000</td>\n",
       "      <td>39.972000</td>\n",
       "      <td>38.924000</td>\n",
       "      <td>39.799500</td>\n",
       "      <td>39.799500</td>\n",
       "      <td>119724000</td>\n",
       "      <td>AMZN</td>\n",
       "    </tr>\n",
       "    <tr>\n",
       "      <th>2017-01-09</th>\n",
       "      <td>39.900002</td>\n",
       "      <td>40.088501</td>\n",
       "      <td>39.588501</td>\n",
       "      <td>39.846001</td>\n",
       "      <td>39.846001</td>\n",
       "      <td>68922000</td>\n",
       "      <td>AMZN</td>\n",
       "    </tr>\n",
       "    <tr>\n",
       "      <th>2017-01-10</th>\n",
       "      <td>39.830002</td>\n",
       "      <td>39.900002</td>\n",
       "      <td>39.477001</td>\n",
       "      <td>39.794998</td>\n",
       "      <td>39.794998</td>\n",
       "      <td>51168000</td>\n",
       "      <td>AMZN</td>\n",
       "    </tr>\n",
       "    <tr>\n",
       "      <th>2017-01-11</th>\n",
       "      <td>39.682999</td>\n",
       "      <td>39.974998</td>\n",
       "      <td>39.475498</td>\n",
       "      <td>39.951000</td>\n",
       "      <td>39.951000</td>\n",
       "      <td>59856000</td>\n",
       "      <td>AMZN</td>\n",
       "    </tr>\n",
       "    <tr>\n",
       "      <th>2017-01-12</th>\n",
       "      <td>40.015499</td>\n",
       "      <td>40.706501</td>\n",
       "      <td>39.974998</td>\n",
       "      <td>40.681999</td>\n",
       "      <td>40.681999</td>\n",
       "      <td>97478000</td>\n",
       "      <td>AMZN</td>\n",
       "    </tr>\n",
       "    <tr>\n",
       "      <th>2017-01-13</th>\n",
       "      <td>40.716000</td>\n",
       "      <td>41.082500</td>\n",
       "      <td>40.570000</td>\n",
       "      <td>40.856998</td>\n",
       "      <td>40.856998</td>\n",
       "      <td>75838000</td>\n",
       "      <td>AMZN</td>\n",
       "    </tr>\n",
       "    <tr>\n",
       "      <th>2017-01-17</th>\n",
       "      <td>40.785000</td>\n",
       "      <td>40.799999</td>\n",
       "      <td>40.172001</td>\n",
       "      <td>40.486000</td>\n",
       "      <td>40.486000</td>\n",
       "      <td>73410000</td>\n",
       "      <td>AMZN</td>\n",
       "    </tr>\n",
       "    <tr>\n",
       "      <th>2017-01-18</th>\n",
       "      <td>40.474998</td>\n",
       "      <td>40.586498</td>\n",
       "      <td>40.213501</td>\n",
       "      <td>40.374001</td>\n",
       "      <td>40.374001</td>\n",
       "      <td>47084000</td>\n",
       "      <td>AMZN</td>\n",
       "    </tr>\n",
       "    <tr>\n",
       "      <th>2017-01-19</th>\n",
       "      <td>40.500000</td>\n",
       "      <td>40.675499</td>\n",
       "      <td>40.366001</td>\n",
       "      <td>40.452000</td>\n",
       "      <td>40.452000</td>\n",
       "      <td>50816000</td>\n",
       "      <td>AMZN</td>\n",
       "    </tr>\n",
       "    <tr>\n",
       "      <th>2017-01-20</th>\n",
       "      <td>40.764000</td>\n",
       "      <td>40.800999</td>\n",
       "      <td>40.313000</td>\n",
       "      <td>40.416500</td>\n",
       "      <td>40.416500</td>\n",
       "      <td>67524000</td>\n",
       "      <td>AMZN</td>\n",
       "    </tr>\n",
       "    <tr>\n",
       "      <th>2017-01-23</th>\n",
       "      <td>40.340000</td>\n",
       "      <td>40.924999</td>\n",
       "      <td>40.254002</td>\n",
       "      <td>40.894001</td>\n",
       "      <td>40.894001</td>\n",
       "      <td>55950000</td>\n",
       "      <td>AMZN</td>\n",
       "    </tr>\n",
       "    <tr>\n",
       "      <th>2017-01-24</th>\n",
       "      <td>41.099998</td>\n",
       "      <td>41.199501</td>\n",
       "      <td>40.724998</td>\n",
       "      <td>41.122002</td>\n",
       "      <td>41.122002</td>\n",
       "      <td>59434000</td>\n",
       "      <td>AMZN</td>\n",
       "    </tr>\n",
       "    <tr>\n",
       "      <th>2017-01-25</th>\n",
       "      <td>41.289501</td>\n",
       "      <td>41.870998</td>\n",
       "      <td>41.264500</td>\n",
       "      <td>41.826000</td>\n",
       "      <td>41.826000</td>\n",
       "      <td>78452000</td>\n",
       "      <td>AMZN</td>\n",
       "    </tr>\n",
       "    <tr>\n",
       "      <th>2017-01-26</th>\n",
       "      <td>41.776501</td>\n",
       "      <td>42.192001</td>\n",
       "      <td>41.650002</td>\n",
       "      <td>41.957500</td>\n",
       "      <td>41.957500</td>\n",
       "      <td>71726000</td>\n",
       "      <td>AMZN</td>\n",
       "    </tr>\n",
       "    <tr>\n",
       "      <th>2017-01-27</th>\n",
       "      <td>41.950001</td>\n",
       "      <td>41.985001</td>\n",
       "      <td>41.472000</td>\n",
       "      <td>41.788502</td>\n",
       "      <td>41.788502</td>\n",
       "      <td>59974000</td>\n",
       "      <td>AMZN</td>\n",
       "    </tr>\n",
       "    <tr>\n",
       "      <th>2017-01-30</th>\n",
       "      <td>41.650002</td>\n",
       "      <td>41.674999</td>\n",
       "      <td>40.819000</td>\n",
       "      <td>41.519001</td>\n",
       "      <td>41.519001</td>\n",
       "      <td>74946000</td>\n",
       "      <td>AMZN</td>\n",
       "    </tr>\n",
       "  </tbody>\n",
       "</table>\n",
       "</div>"
      ],
      "text/plain": [
       "                 open       high        low      close   adjclose     volume  \\\n",
       "2017-01-03  37.896000  37.938000  37.384998  37.683498  37.683498   70422000   \n",
       "2017-01-04  37.919498  37.984001  37.709999  37.859001  37.859001   50210000   \n",
       "2017-01-05  38.077499  39.119999  38.013000  39.022499  39.022499  116602000   \n",
       "2017-01-06  39.118000  39.972000  38.924000  39.799500  39.799500  119724000   \n",
       "2017-01-09  39.900002  40.088501  39.588501  39.846001  39.846001   68922000   \n",
       "2017-01-10  39.830002  39.900002  39.477001  39.794998  39.794998   51168000   \n",
       "2017-01-11  39.682999  39.974998  39.475498  39.951000  39.951000   59856000   \n",
       "2017-01-12  40.015499  40.706501  39.974998  40.681999  40.681999   97478000   \n",
       "2017-01-13  40.716000  41.082500  40.570000  40.856998  40.856998   75838000   \n",
       "2017-01-17  40.785000  40.799999  40.172001  40.486000  40.486000   73410000   \n",
       "2017-01-18  40.474998  40.586498  40.213501  40.374001  40.374001   47084000   \n",
       "2017-01-19  40.500000  40.675499  40.366001  40.452000  40.452000   50816000   \n",
       "2017-01-20  40.764000  40.800999  40.313000  40.416500  40.416500   67524000   \n",
       "2017-01-23  40.340000  40.924999  40.254002  40.894001  40.894001   55950000   \n",
       "2017-01-24  41.099998  41.199501  40.724998  41.122002  41.122002   59434000   \n",
       "2017-01-25  41.289501  41.870998  41.264500  41.826000  41.826000   78452000   \n",
       "2017-01-26  41.776501  42.192001  41.650002  41.957500  41.957500   71726000   \n",
       "2017-01-27  41.950001  41.985001  41.472000  41.788502  41.788502   59974000   \n",
       "2017-01-30  41.650002  41.674999  40.819000  41.519001  41.519001   74946000   \n",
       "\n",
       "           ticker  \n",
       "2017-01-03   AMZN  \n",
       "2017-01-04   AMZN  \n",
       "2017-01-05   AMZN  \n",
       "2017-01-06   AMZN  \n",
       "2017-01-09   AMZN  \n",
       "2017-01-10   AMZN  \n",
       "2017-01-11   AMZN  \n",
       "2017-01-12   AMZN  \n",
       "2017-01-13   AMZN  \n",
       "2017-01-17   AMZN  \n",
       "2017-01-18   AMZN  \n",
       "2017-01-19   AMZN  \n",
       "2017-01-20   AMZN  \n",
       "2017-01-23   AMZN  \n",
       "2017-01-24   AMZN  \n",
       "2017-01-25   AMZN  \n",
       "2017-01-26   AMZN  \n",
       "2017-01-27   AMZN  \n",
       "2017-01-30   AMZN  "
      ]
     },
     "execution_count": 14,
     "metadata": {},
     "output_type": "execute_result"
    }
   ],
   "source": [
    "si.get_data(\"amzn\", start_date = \"01/01/2017\", end_date = \"01/31/2017\")"
   ]
  },
  {
   "cell_type": "markdown",
   "metadata": {},
   "source": [
    "**Question:** Why are 2017/01/01 and 2017/01/02 missing?"
   ]
  },
  {
   "cell_type": "markdown",
   "metadata": {},
   "source": [
    "You can also get the list of all the tickers in the S&P 500:"
   ]
  },
  {
   "cell_type": "code",
   "execution_count": 15,
   "metadata": {},
   "outputs": [],
   "source": [
    "listTickers = si.tickers_sp500()"
   ]
  },
  {
   "cell_type": "code",
   "execution_count": 16,
   "metadata": {},
   "outputs": [
    {
     "data": {
      "text/plain": [
       "503"
      ]
     },
     "execution_count": 16,
     "metadata": {},
     "output_type": "execute_result"
    }
   ],
   "source": [
    "len(listTickers)"
   ]
  },
  {
   "cell_type": "markdown",
   "metadata": {},
   "source": [
    "You can get the live price"
   ]
  },
  {
   "cell_type": "code",
   "execution_count": 17,
   "metadata": {},
   "outputs": [],
   "source": [
    "import numpy as np\n",
    "n = np.random.randint(0, len(listTickers))"
   ]
  },
  {
   "cell_type": "code",
   "execution_count": 18,
   "metadata": {},
   "outputs": [
    {
     "name": "stdout",
     "output_type": "stream",
     "text": [
      "43 APTV\n"
     ]
    }
   ],
   "source": [
    "ticker = listTickers[n]\n",
    "print(n, ticker)"
   ]
  },
  {
   "cell_type": "code",
   "execution_count": 19,
   "metadata": {},
   "outputs": [
    {
     "data": {
      "text/plain": [
       "106.91000366210938"
      ]
     },
     "execution_count": 19,
     "metadata": {},
     "output_type": "execute_result"
    }
   ],
   "source": [
    "si.get_live_price(ticker) "
   ]
  },
  {
   "cell_type": "markdown",
   "metadata": {},
   "source": [
    "You can also get a quote table"
   ]
  },
  {
   "cell_type": "code",
   "execution_count": 20,
   "metadata": {},
   "outputs": [
    {
     "data": {
      "text/html": [
       "<div>\n",
       "<style scoped>\n",
       "    .dataframe tbody tr th:only-of-type {\n",
       "        vertical-align: middle;\n",
       "    }\n",
       "\n",
       "    .dataframe tbody tr th {\n",
       "        vertical-align: top;\n",
       "    }\n",
       "\n",
       "    .dataframe thead th {\n",
       "        text-align: right;\n",
       "    }\n",
       "</style>\n",
       "<table border=\"1\" class=\"dataframe\">\n",
       "  <thead>\n",
       "    <tr style=\"text-align: right;\">\n",
       "      <th></th>\n",
       "      <th>attribute</th>\n",
       "      <th>value</th>\n",
       "    </tr>\n",
       "  </thead>\n",
       "  <tbody>\n",
       "    <tr>\n",
       "      <th>0</th>\n",
       "      <td>1y Target Est</td>\n",
       "      <td>119.45</td>\n",
       "    </tr>\n",
       "    <tr>\n",
       "      <th>1</th>\n",
       "      <td>52 Week Range</td>\n",
       "      <td>77.96 - 175.91</td>\n",
       "    </tr>\n",
       "    <tr>\n",
       "      <th>2</th>\n",
       "      <td>Ask</td>\n",
       "      <td>0.00 x 900</td>\n",
       "    </tr>\n",
       "    <tr>\n",
       "      <th>3</th>\n",
       "      <td>Avg. Volume</td>\n",
       "      <td>1878212.0</td>\n",
       "    </tr>\n",
       "    <tr>\n",
       "      <th>4</th>\n",
       "      <td>Beta (5Y Monthly)</td>\n",
       "      <td>2.0</td>\n",
       "    </tr>\n",
       "    <tr>\n",
       "      <th>5</th>\n",
       "      <td>Bid</td>\n",
       "      <td>0.00 x 800</td>\n",
       "    </tr>\n",
       "    <tr>\n",
       "      <th>6</th>\n",
       "      <td>Day's Range</td>\n",
       "      <td>106.10 - 108.05</td>\n",
       "    </tr>\n",
       "    <tr>\n",
       "      <th>7</th>\n",
       "      <td>EPS (TTM)</td>\n",
       "      <td>1.13</td>\n",
       "    </tr>\n",
       "    <tr>\n",
       "      <th>8</th>\n",
       "      <td>Earnings Date</td>\n",
       "      <td>Nov 03, 2022</td>\n",
       "    </tr>\n",
       "    <tr>\n",
       "      <th>9</th>\n",
       "      <td>Ex-Dividend Date</td>\n",
       "      <td>Feb 04, 2020</td>\n",
       "    </tr>\n",
       "    <tr>\n",
       "      <th>10</th>\n",
       "      <td>Forward Dividend &amp; Yield</td>\n",
       "      <td>N/A (N/A)</td>\n",
       "    </tr>\n",
       "    <tr>\n",
       "      <th>11</th>\n",
       "      <td>Market Cap</td>\n",
       "      <td>28.967B</td>\n",
       "    </tr>\n",
       "    <tr>\n",
       "      <th>12</th>\n",
       "      <td>Open</td>\n",
       "      <td>106.74</td>\n",
       "    </tr>\n",
       "    <tr>\n",
       "      <th>13</th>\n",
       "      <td>PE Ratio (TTM)</td>\n",
       "      <td>94.61</td>\n",
       "    </tr>\n",
       "    <tr>\n",
       "      <th>14</th>\n",
       "      <td>Previous Close</td>\n",
       "      <td>107.07</td>\n",
       "    </tr>\n",
       "    <tr>\n",
       "      <th>15</th>\n",
       "      <td>Quote Price</td>\n",
       "      <td>106.910004</td>\n",
       "    </tr>\n",
       "    <tr>\n",
       "      <th>16</th>\n",
       "      <td>Volume</td>\n",
       "      <td>737439.0</td>\n",
       "    </tr>\n",
       "  </tbody>\n",
       "</table>\n",
       "</div>"
      ],
      "text/plain": [
       "                   attribute            value\n",
       "0              1y Target Est           119.45\n",
       "1              52 Week Range   77.96 - 175.91\n",
       "2                        Ask       0.00 x 900\n",
       "3                Avg. Volume        1878212.0\n",
       "4          Beta (5Y Monthly)              2.0\n",
       "5                        Bid       0.00 x 800\n",
       "6                Day's Range  106.10 - 108.05\n",
       "7                  EPS (TTM)             1.13\n",
       "8              Earnings Date     Nov 03, 2022\n",
       "9           Ex-Dividend Date     Feb 04, 2020\n",
       "10  Forward Dividend & Yield        N/A (N/A)\n",
       "11                Market Cap          28.967B\n",
       "12                      Open           106.74\n",
       "13            PE Ratio (TTM)            94.61\n",
       "14            Previous Close           107.07\n",
       "15               Quote Price       106.910004\n",
       "16                    Volume         737439.0"
      ]
     },
     "execution_count": 20,
     "metadata": {},
     "output_type": "execute_result"
    }
   ],
   "source": [
    "si.get_quote_table(ticker, dict_result = False)"
   ]
  },
  {
   "cell_type": "markdown",
   "metadata": {},
   "source": [
    "You can also look at Cryptocurrencies:"
   ]
  },
  {
   "cell_type": "code",
   "execution_count": null,
   "metadata": {},
   "outputs": [],
   "source": [
    "si.get_top_crypto()"
   ]
  },
  {
   "cell_type": "code",
   "execution_count": 25,
   "metadata": {},
   "outputs": [
    {
     "data": {
      "text/html": [
       "<div>\n",
       "<style scoped>\n",
       "    .dataframe tbody tr th:only-of-type {\n",
       "        vertical-align: middle;\n",
       "    }\n",
       "\n",
       "    .dataframe tbody tr th {\n",
       "        vertical-align: top;\n",
       "    }\n",
       "\n",
       "    .dataframe thead th {\n",
       "        text-align: right;\n",
       "    }\n",
       "</style>\n",
       "<table border=\"1\" class=\"dataframe\">\n",
       "  <thead>\n",
       "    <tr style=\"text-align: right;\">\n",
       "      <th></th>\n",
       "      <th>Symbol</th>\n",
       "      <th>Name</th>\n",
       "      <th>Price (Intraday)</th>\n",
       "      <th>Change</th>\n",
       "      <th>% Change</th>\n",
       "      <th>Volume</th>\n",
       "      <th>Avg Vol (3 month)</th>\n",
       "      <th>Market Cap</th>\n",
       "      <th>PE Ratio (TTM)</th>\n",
       "    </tr>\n",
       "  </thead>\n",
       "  <tbody>\n",
       "    <tr>\n",
       "      <th>0</th>\n",
       "      <td>PAGS</td>\n",
       "      <td>PagSeguro Digital Ltd.</td>\n",
       "      <td>10.2600</td>\n",
       "      <td>-1.7500</td>\n",
       "      <td>-14.57</td>\n",
       "      <td>15179000.0</td>\n",
       "      <td>3240000.0</td>\n",
       "      <td>3.382000e+09</td>\n",
       "      <td>13.86</td>\n",
       "    </tr>\n",
       "    <tr>\n",
       "      <th>1</th>\n",
       "      <td>FNMAI</td>\n",
       "      <td>Federal National Mortgage Association</td>\n",
       "      <td>1.9900</td>\n",
       "      <td>-0.3000</td>\n",
       "      <td>-13.10</td>\n",
       "      <td>41700.0</td>\n",
       "      <td>355.0</td>\n",
       "      <td>2.744000e+09</td>\n",
       "      <td>284.29</td>\n",
       "    </tr>\n",
       "    <tr>\n",
       "      <th>2</th>\n",
       "      <td>FNMAT</td>\n",
       "      <td>Federal National Mortgage Association</td>\n",
       "      <td>2.0500</td>\n",
       "      <td>-0.2300</td>\n",
       "      <td>-10.09</td>\n",
       "      <td>408277.0</td>\n",
       "      <td>54753.0</td>\n",
       "      <td>2.713000e+09</td>\n",
       "      <td>292.86</td>\n",
       "    </tr>\n",
       "    <tr>\n",
       "      <th>3</th>\n",
       "      <td>FNMAS</td>\n",
       "      <td>Federal National Mortgage Association</td>\n",
       "      <td>2.3600</td>\n",
       "      <td>-0.2400</td>\n",
       "      <td>-9.23</td>\n",
       "      <td>1248000.0</td>\n",
       "      <td>322585.0</td>\n",
       "      <td>2.987000e+09</td>\n",
       "      <td>337.14</td>\n",
       "    </tr>\n",
       "    <tr>\n",
       "      <th>4</th>\n",
       "      <td>OLK</td>\n",
       "      <td>Olink Holding AB (publ)</td>\n",
       "      <td>22.0800</td>\n",
       "      <td>-1.9100</td>\n",
       "      <td>-7.96</td>\n",
       "      <td>160039.0</td>\n",
       "      <td>124041.0</td>\n",
       "      <td>2.630000e+09</td>\n",
       "      <td>NaN</td>\n",
       "    </tr>\n",
       "    <tr>\n",
       "      <th>5</th>\n",
       "      <td>SAPMD</td>\n",
       "      <td>Saipem SpA</td>\n",
       "      <td>0.2400</td>\n",
       "      <td>-0.0200</td>\n",
       "      <td>-7.69</td>\n",
       "      <td>28950.0</td>\n",
       "      <td>3667.0</td>\n",
       "      <td>2.394000e+09</td>\n",
       "      <td>NaN</td>\n",
       "    </tr>\n",
       "    <tr>\n",
       "      <th>6</th>\n",
       "      <td>STNE</td>\n",
       "      <td>StoneCo Ltd.</td>\n",
       "      <td>10.4400</td>\n",
       "      <td>-0.8000</td>\n",
       "      <td>-7.12</td>\n",
       "      <td>10243000.0</td>\n",
       "      <td>6139000.0</td>\n",
       "      <td>3.514000e+09</td>\n",
       "      <td>NaN</td>\n",
       "    </tr>\n",
       "    <tr>\n",
       "      <th>7</th>\n",
       "      <td>INSW</td>\n",
       "      <td>International Seaways, Inc.</td>\n",
       "      <td>43.0500</td>\n",
       "      <td>-3.1800</td>\n",
       "      <td>-6.88</td>\n",
       "      <td>675411.0</td>\n",
       "      <td>662133.0</td>\n",
       "      <td>2.113000e+09</td>\n",
       "      <td>15.27</td>\n",
       "    </tr>\n",
       "    <tr>\n",
       "      <th>8</th>\n",
       "      <td>CS</td>\n",
       "      <td>Credit Suisse Group AG</td>\n",
       "      <td>3.8300</td>\n",
       "      <td>-0.2600</td>\n",
       "      <td>-6.36</td>\n",
       "      <td>21423000.0</td>\n",
       "      <td>18540000.0</td>\n",
       "      <td>1.002200e+10</td>\n",
       "      <td>NaN</td>\n",
       "    </tr>\n",
       "    <tr>\n",
       "      <th>9</th>\n",
       "      <td>DEN</td>\n",
       "      <td>Denbury Inc.</td>\n",
       "      <td>88.8400</td>\n",
       "      <td>-5.8600</td>\n",
       "      <td>-6.19</td>\n",
       "      <td>938294.0</td>\n",
       "      <td>804423.0</td>\n",
       "      <td>4.424000e+09</td>\n",
       "      <td>8.66</td>\n",
       "    </tr>\n",
       "    <tr>\n",
       "      <th>10</th>\n",
       "      <td>FNMA</td>\n",
       "      <td>Federal National Mortgage Association</td>\n",
       "      <td>0.4333</td>\n",
       "      <td>-0.0272</td>\n",
       "      <td>-5.92</td>\n",
       "      <td>4722000.0</td>\n",
       "      <td>1458000.0</td>\n",
       "      <td>5.017420e+08</td>\n",
       "      <td>NaN</td>\n",
       "    </tr>\n",
       "    <tr>\n",
       "      <th>11</th>\n",
       "      <td>KREVF</td>\n",
       "      <td>Keppel REIT</td>\n",
       "      <td>0.5810</td>\n",
       "      <td>-0.0358</td>\n",
       "      <td>-5.80</td>\n",
       "      <td>48080.0</td>\n",
       "      <td>22368.0</td>\n",
       "      <td>2.257000e+09</td>\n",
       "      <td>9.68</td>\n",
       "    </tr>\n",
       "    <tr>\n",
       "      <th>12</th>\n",
       "      <td>XPNGF</td>\n",
       "      <td>XPeng Inc.</td>\n",
       "      <td>3.6500</td>\n",
       "      <td>-0.2200</td>\n",
       "      <td>-5.68</td>\n",
       "      <td>447100.0</td>\n",
       "      <td>19807.0</td>\n",
       "      <td>6.161000e+09</td>\n",
       "      <td>NaN</td>\n",
       "    </tr>\n",
       "    <tr>\n",
       "      <th>13</th>\n",
       "      <td>ADSK</td>\n",
       "      <td>Autodesk, Inc.</td>\n",
       "      <td>197.0700</td>\n",
       "      <td>-11.8300</td>\n",
       "      <td>-5.66</td>\n",
       "      <td>6275000.0</td>\n",
       "      <td>1617000.0</td>\n",
       "      <td>4.253900e+10</td>\n",
       "      <td>79.14</td>\n",
       "    </tr>\n",
       "    <tr>\n",
       "      <th>14</th>\n",
       "      <td>TRMD</td>\n",
       "      <td>TORM plc</td>\n",
       "      <td>26.9600</td>\n",
       "      <td>-1.5800</td>\n",
       "      <td>-5.54</td>\n",
       "      <td>248493.0</td>\n",
       "      <td>274953.0</td>\n",
       "      <td>2.259000e+09</td>\n",
       "      <td>6.93</td>\n",
       "    </tr>\n",
       "    <tr>\n",
       "      <th>15</th>\n",
       "      <td>NTCO</td>\n",
       "      <td>Natura &amp;Co Holding S.A.</td>\n",
       "      <td>4.4000</td>\n",
       "      <td>-0.2300</td>\n",
       "      <td>-4.97</td>\n",
       "      <td>2566000.0</td>\n",
       "      <td>640253.0</td>\n",
       "      <td>3.063000e+09</td>\n",
       "      <td>24.44</td>\n",
       "    </tr>\n",
       "    <tr>\n",
       "      <th>16</th>\n",
       "      <td>CSGKF</td>\n",
       "      <td>Credit Suisse Group AG</td>\n",
       "      <td>3.8201</td>\n",
       "      <td>-0.1799</td>\n",
       "      <td>-4.50</td>\n",
       "      <td>32313.0</td>\n",
       "      <td>166684.0</td>\n",
       "      <td>1.005300e+10</td>\n",
       "      <td>NaN</td>\n",
       "    </tr>\n",
       "    <tr>\n",
       "      <th>17</th>\n",
       "      <td>HYSNY</td>\n",
       "      <td>Hysan Development Company Limited</td>\n",
       "      <td>5.0900</td>\n",
       "      <td>-0.2300</td>\n",
       "      <td>-4.31</td>\n",
       "      <td>46607.0</td>\n",
       "      <td>6838.0</td>\n",
       "      <td>2.614000e+09</td>\n",
       "      <td>22.13</td>\n",
       "    </tr>\n",
       "    <tr>\n",
       "      <th>18</th>\n",
       "      <td>JWN</td>\n",
       "      <td>Nordstrom, Inc.</td>\n",
       "      <td>21.6900</td>\n",
       "      <td>-0.9600</td>\n",
       "      <td>-4.24</td>\n",
       "      <td>19594000.0</td>\n",
       "      <td>6378000.0</td>\n",
       "      <td>3.452000e+09</td>\n",
       "      <td>8.54</td>\n",
       "    </tr>\n",
       "    <tr>\n",
       "      <th>19</th>\n",
       "      <td>SLB</td>\n",
       "      <td>Schlumberger Limited</td>\n",
       "      <td>51.4200</td>\n",
       "      <td>-2.2200</td>\n",
       "      <td>-4.14</td>\n",
       "      <td>10037000.0</td>\n",
       "      <td>13932000.0</td>\n",
       "      <td>7.291300e+10</td>\n",
       "      <td>24.84</td>\n",
       "    </tr>\n",
       "    <tr>\n",
       "      <th>20</th>\n",
       "      <td>CICOY</td>\n",
       "      <td>COSCO SHIPPING Holdings Co., Ltd.</td>\n",
       "      <td>5.0500</td>\n",
       "      <td>-0.2100</td>\n",
       "      <td>-4.04</td>\n",
       "      <td>40364.0</td>\n",
       "      <td>6339.0</td>\n",
       "      <td>2.041500e+10</td>\n",
       "      <td>0.98</td>\n",
       "    </tr>\n",
       "    <tr>\n",
       "      <th>21</th>\n",
       "      <td>HEP</td>\n",
       "      <td>Holly Energy Partners, L.P.</td>\n",
       "      <td>18.8300</td>\n",
       "      <td>-0.7800</td>\n",
       "      <td>-3.98</td>\n",
       "      <td>195858.0</td>\n",
       "      <td>171704.0</td>\n",
       "      <td>2.381000e+09</td>\n",
       "      <td>11.41</td>\n",
       "    </tr>\n",
       "    <tr>\n",
       "      <th>22</th>\n",
       "      <td>APE</td>\n",
       "      <td>AMC Entertainment Holdings, Inc.</td>\n",
       "      <td>1.2100</td>\n",
       "      <td>-0.0500</td>\n",
       "      <td>-3.97</td>\n",
       "      <td>42241000.0</td>\n",
       "      <td>15853000.0</td>\n",
       "      <td>4.422000e+09</td>\n",
       "      <td>NaN</td>\n",
       "    </tr>\n",
       "    <tr>\n",
       "      <th>23</th>\n",
       "      <td>HP</td>\n",
       "      <td>Helmerich &amp; Payne, Inc.</td>\n",
       "      <td>51.7800</td>\n",
       "      <td>-2.1100</td>\n",
       "      <td>-3.92</td>\n",
       "      <td>823849.0</td>\n",
       "      <td>950243.0</td>\n",
       "      <td>5.457000e+09</td>\n",
       "      <td>1035.60</td>\n",
       "    </tr>\n",
       "    <tr>\n",
       "      <th>24</th>\n",
       "      <td>VCTR</td>\n",
       "      <td>Victory Capital Holdings, Inc.</td>\n",
       "      <td>30.6300</td>\n",
       "      <td>-1.1900</td>\n",
       "      <td>-3.74</td>\n",
       "      <td>183842.0</td>\n",
       "      <td>216296.0</td>\n",
       "      <td>2.179000e+09</td>\n",
       "      <td>7.94</td>\n",
       "    </tr>\n",
       "    <tr>\n",
       "      <th>25</th>\n",
       "      <td>UGI</td>\n",
       "      <td>UGI Corporation</td>\n",
       "      <td>38.9400</td>\n",
       "      <td>-1.4900</td>\n",
       "      <td>-3.69</td>\n",
       "      <td>1736000.0</td>\n",
       "      <td>1256000.0</td>\n",
       "      <td>8.153000e+09</td>\n",
       "      <td>6.20</td>\n",
       "    </tr>\n",
       "    <tr>\n",
       "      <th>26</th>\n",
       "      <td>CIBEY</td>\n",
       "      <td>Commercial International Bank (Egypt) S.A.E</td>\n",
       "      <td>1.3100</td>\n",
       "      <td>-0.0500</td>\n",
       "      <td>-3.68</td>\n",
       "      <td>160885.0</td>\n",
       "      <td>123570.0</td>\n",
       "      <td>4.564000e+09</td>\n",
       "      <td>7.28</td>\n",
       "    </tr>\n",
       "    <tr>\n",
       "      <th>27</th>\n",
       "      <td>WFG</td>\n",
       "      <td>West Fraser Timber Co. Ltd.</td>\n",
       "      <td>81.5900</td>\n",
       "      <td>-3.1000</td>\n",
       "      <td>-3.66</td>\n",
       "      <td>77914.0</td>\n",
       "      <td>180101.0</td>\n",
       "      <td>6.813000e+09</td>\n",
       "      <td>3.35</td>\n",
       "    </tr>\n",
       "    <tr>\n",
       "      <th>28</th>\n",
       "      <td>WES</td>\n",
       "      <td>Western Midstream Partners, LP</td>\n",
       "      <td>26.5100</td>\n",
       "      <td>-0.9600</td>\n",
       "      <td>-3.49</td>\n",
       "      <td>1038000.0</td>\n",
       "      <td>926407.0</td>\n",
       "      <td>1.020800e+10</td>\n",
       "      <td>9.68</td>\n",
       "    </tr>\n",
       "    <tr>\n",
       "      <th>29</th>\n",
       "      <td>CRC</td>\n",
       "      <td>California Resources Corporation</td>\n",
       "      <td>44.5800</td>\n",
       "      <td>-1.5700</td>\n",
       "      <td>-3.40</td>\n",
       "      <td>600566.0</td>\n",
       "      <td>694992.0</td>\n",
       "      <td>3.391000e+09</td>\n",
       "      <td>3.14</td>\n",
       "    </tr>\n",
       "    <tr>\n",
       "      <th>30</th>\n",
       "      <td>GPRE</td>\n",
       "      <td>Green Plains Inc.</td>\n",
       "      <td>34.0500</td>\n",
       "      <td>-1.1900</td>\n",
       "      <td>-3.38</td>\n",
       "      <td>588833.0</td>\n",
       "      <td>1006000.0</td>\n",
       "      <td>2.019000e+09</td>\n",
       "      <td>NaN</td>\n",
       "    </tr>\n",
       "    <tr>\n",
       "      <th>31</th>\n",
       "      <td>HQY</td>\n",
       "      <td>HealthEquity, Inc.</td>\n",
       "      <td>61.7200</td>\n",
       "      <td>-2.1000</td>\n",
       "      <td>-3.29</td>\n",
       "      <td>608132.0</td>\n",
       "      <td>858492.0</td>\n",
       "      <td>5.217000e+09</td>\n",
       "      <td>NaN</td>\n",
       "    </tr>\n",
       "    <tr>\n",
       "      <th>32</th>\n",
       "      <td>ITCI</td>\n",
       "      <td>Intra-Cellular Therapies, Inc.</td>\n",
       "      <td>51.1900</td>\n",
       "      <td>-1.6800</td>\n",
       "      <td>-3.18</td>\n",
       "      <td>481751.0</td>\n",
       "      <td>706247.0</td>\n",
       "      <td>4.848000e+09</td>\n",
       "      <td>NaN</td>\n",
       "    </tr>\n",
       "    <tr>\n",
       "      <th>33</th>\n",
       "      <td>MTDR</td>\n",
       "      <td>Matador Resources Company</td>\n",
       "      <td>66.7400</td>\n",
       "      <td>-2.1900</td>\n",
       "      <td>-3.18</td>\n",
       "      <td>535776.0</td>\n",
       "      <td>1247000.0</td>\n",
       "      <td>7.886000e+09</td>\n",
       "      <td>6.81</td>\n",
       "    </tr>\n",
       "    <tr>\n",
       "      <th>34</th>\n",
       "      <td>HASI</td>\n",
       "      <td>Hannon Armstrong Sustainable Infrastructure Ca...</td>\n",
       "      <td>30.9600</td>\n",
       "      <td>-1.0100</td>\n",
       "      <td>-3.16</td>\n",
       "      <td>551490.0</td>\n",
       "      <td>839455.0</td>\n",
       "      <td>2.755000e+09</td>\n",
       "      <td>21.96</td>\n",
       "    </tr>\n",
       "    <tr>\n",
       "      <th>35</th>\n",
       "      <td>BOWL</td>\n",
       "      <td>Bowlero Corp.</td>\n",
       "      <td>12.8500</td>\n",
       "      <td>-0.4100</td>\n",
       "      <td>-3.09</td>\n",
       "      <td>677704.0</td>\n",
       "      <td>832720.0</td>\n",
       "      <td>2.129000e+09</td>\n",
       "      <td>NaN</td>\n",
       "    </tr>\n",
       "    <tr>\n",
       "      <th>36</th>\n",
       "      <td>CF</td>\n",
       "      <td>CF Industries Holdings, Inc.</td>\n",
       "      <td>106.3100</td>\n",
       "      <td>-3.3700</td>\n",
       "      <td>-3.07</td>\n",
       "      <td>1679000.0</td>\n",
       "      <td>2717000.0</td>\n",
       "      <td>2.085700e+10</td>\n",
       "      <td>6.95</td>\n",
       "    </tr>\n",
       "    <tr>\n",
       "      <th>37</th>\n",
       "      <td>LZRFY</td>\n",
       "      <td>Localiza Rent a Car S.A.</td>\n",
       "      <td>11.0700</td>\n",
       "      <td>-0.3500</td>\n",
       "      <td>-3.06</td>\n",
       "      <td>721670.0</td>\n",
       "      <td>32636.0</td>\n",
       "      <td>1.082700e+10</td>\n",
       "      <td>29.13</td>\n",
       "    </tr>\n",
       "    <tr>\n",
       "      <th>38</th>\n",
       "      <td>CHX</td>\n",
       "      <td>ChampionX Corporation</td>\n",
       "      <td>30.8700</td>\n",
       "      <td>-0.9700</td>\n",
       "      <td>-3.05</td>\n",
       "      <td>898396.0</td>\n",
       "      <td>2110000.0</td>\n",
       "      <td>6.154000e+09</td>\n",
       "      <td>49.79</td>\n",
       "    </tr>\n",
       "    <tr>\n",
       "      <th>39</th>\n",
       "      <td>MGY</td>\n",
       "      <td>Magnolia Oil &amp; Gas Corporation</td>\n",
       "      <td>25.9000</td>\n",
       "      <td>-0.8100</td>\n",
       "      <td>-3.03</td>\n",
       "      <td>1173000.0</td>\n",
       "      <td>1810000.0</td>\n",
       "      <td>7.030000e+09</td>\n",
       "      <td>5.72</td>\n",
       "    </tr>\n",
       "    <tr>\n",
       "      <th>40</th>\n",
       "      <td>TBVPF</td>\n",
       "      <td>Thai Beverage Public Company Limited</td>\n",
       "      <td>0.4280</td>\n",
       "      <td>-0.0127</td>\n",
       "      <td>-2.88</td>\n",
       "      <td>79650.0</td>\n",
       "      <td>37610.0</td>\n",
       "      <td>1.076600e+10</td>\n",
       "      <td>14.27</td>\n",
       "    </tr>\n",
       "    <tr>\n",
       "      <th>41</th>\n",
       "      <td>PETRY</td>\n",
       "      <td>Vibra Energia S.A.</td>\n",
       "      <td>6.0900</td>\n",
       "      <td>-0.1800</td>\n",
       "      <td>-2.87</td>\n",
       "      <td>20502.0</td>\n",
       "      <td>37496.0</td>\n",
       "      <td>3.473000e+09</td>\n",
       "      <td>7.25</td>\n",
       "    </tr>\n",
       "    <tr>\n",
       "      <th>42</th>\n",
       "      <td>EE</td>\n",
       "      <td>Excelerate Energy, Inc.</td>\n",
       "      <td>29.1400</td>\n",
       "      <td>-0.8600</td>\n",
       "      <td>-2.87</td>\n",
       "      <td>592725.0</td>\n",
       "      <td>472398.0</td>\n",
       "      <td>3.155000e+09</td>\n",
       "      <td>15.92</td>\n",
       "    </tr>\n",
       "    <tr>\n",
       "      <th>43</th>\n",
       "      <td>RLLCF</td>\n",
       "      <td>Rolls-Royce Holdings plc</td>\n",
       "      <td>0.0068</td>\n",
       "      <td>-0.0002</td>\n",
       "      <td>-2.86</td>\n",
       "      <td>433150.0</td>\n",
       "      <td>817776.0</td>\n",
       "      <td>1.482450e+11</td>\n",
       "      <td>0.38</td>\n",
       "    </tr>\n",
       "    <tr>\n",
       "      <th>44</th>\n",
       "      <td>ARVN</td>\n",
       "      <td>Arvinas, Inc.</td>\n",
       "      <td>39.5600</td>\n",
       "      <td>-1.1400</td>\n",
       "      <td>-2.80</td>\n",
       "      <td>709781.0</td>\n",
       "      <td>428209.0</td>\n",
       "      <td>2.166000e+09</td>\n",
       "      <td>NaN</td>\n",
       "    </tr>\n",
       "    <tr>\n",
       "      <th>45</th>\n",
       "      <td>WHD</td>\n",
       "      <td>Cactus, Inc.</td>\n",
       "      <td>53.6800</td>\n",
       "      <td>-1.5200</td>\n",
       "      <td>-2.75</td>\n",
       "      <td>357526.0</td>\n",
       "      <td>452057.0</td>\n",
       "      <td>3.352000e+09</td>\n",
       "      <td>35.55</td>\n",
       "    </tr>\n",
       "    <tr>\n",
       "      <th>46</th>\n",
       "      <td>BHC</td>\n",
       "      <td>Bausch Health Companies Inc.</td>\n",
       "      <td>6.7500</td>\n",
       "      <td>-0.1900</td>\n",
       "      <td>-2.74</td>\n",
       "      <td>6112000.0</td>\n",
       "      <td>6839000.0</td>\n",
       "      <td>2.462000e+09</td>\n",
       "      <td>10.38</td>\n",
       "    </tr>\n",
       "    <tr>\n",
       "      <th>47</th>\n",
       "      <td>RHP</td>\n",
       "      <td>Ryman Hospitality Properties, Inc.</td>\n",
       "      <td>89.0000</td>\n",
       "      <td>-2.5000</td>\n",
       "      <td>-2.73</td>\n",
       "      <td>253432.0</td>\n",
       "      <td>333157.0</td>\n",
       "      <td>4.910000e+09</td>\n",
       "      <td>74.79</td>\n",
       "    </tr>\n",
       "    <tr>\n",
       "      <th>48</th>\n",
       "      <td>KOS</td>\n",
       "      <td>Kosmos Energy Ltd.</td>\n",
       "      <td>6.4100</td>\n",
       "      <td>-0.1800</td>\n",
       "      <td>-2.73</td>\n",
       "      <td>4430000.0</td>\n",
       "      <td>6387000.0</td>\n",
       "      <td>2.922000e+09</td>\n",
       "      <td>6.54</td>\n",
       "    </tr>\n",
       "    <tr>\n",
       "      <th>49</th>\n",
       "      <td>DK</td>\n",
       "      <td>Delek US Holdings, Inc.</td>\n",
       "      <td>33.8300</td>\n",
       "      <td>-0.9400</td>\n",
       "      <td>-2.70</td>\n",
       "      <td>852850.0</td>\n",
       "      <td>1360000.0</td>\n",
       "      <td>2.358000e+09</td>\n",
       "      <td>8.23</td>\n",
       "    </tr>\n",
       "    <tr>\n",
       "      <th>50</th>\n",
       "      <td>RES</td>\n",
       "      <td>RPC, Inc.</td>\n",
       "      <td>9.2800</td>\n",
       "      <td>-0.2500</td>\n",
       "      <td>-2.62</td>\n",
       "      <td>654269.0</td>\n",
       "      <td>1183000.0</td>\n",
       "      <td>2.010000e+09</td>\n",
       "      <td>13.85</td>\n",
       "    </tr>\n",
       "    <tr>\n",
       "      <th>51</th>\n",
       "      <td>TV</td>\n",
       "      <td>Grupo Televisa, S.A.B.</td>\n",
       "      <td>5.3400</td>\n",
       "      <td>-0.1400</td>\n",
       "      <td>-2.55</td>\n",
       "      <td>3787000.0</td>\n",
       "      <td>2275000.0</td>\n",
       "      <td>3.017000e+09</td>\n",
       "      <td>5.87</td>\n",
       "    </tr>\n",
       "    <tr>\n",
       "      <th>52</th>\n",
       "      <td>RJF</td>\n",
       "      <td>Raymond James Financial, Inc.</td>\n",
       "      <td>120.3700</td>\n",
       "      <td>-3.1500</td>\n",
       "      <td>-2.55</td>\n",
       "      <td>1708000.0</td>\n",
       "      <td>1251000.0</td>\n",
       "      <td>2.589200e+10</td>\n",
       "      <td>17.24</td>\n",
       "    </tr>\n",
       "    <tr>\n",
       "      <th>53</th>\n",
       "      <td>PACB</td>\n",
       "      <td>Pacific Biosciences of California, Inc.</td>\n",
       "      <td>10.3500</td>\n",
       "      <td>-0.2700</td>\n",
       "      <td>-2.54</td>\n",
       "      <td>3124000.0</td>\n",
       "      <td>6051000.0</td>\n",
       "      <td>2.340000e+09</td>\n",
       "      <td>NaN</td>\n",
       "    </tr>\n",
       "    <tr>\n",
       "      <th>54</th>\n",
       "      <td>PTEN</td>\n",
       "      <td>Patterson-UTI Energy, Inc.</td>\n",
       "      <td>18.0500</td>\n",
       "      <td>-0.4700</td>\n",
       "      <td>-2.54</td>\n",
       "      <td>1097000.0</td>\n",
       "      <td>2691000.0</td>\n",
       "      <td>3.914000e+09</td>\n",
       "      <td>NaN</td>\n",
       "    </tr>\n",
       "  </tbody>\n",
       "</table>\n",
       "</div>"
      ],
      "text/plain": [
       "   Symbol                                               Name  \\\n",
       "0    PAGS                             PagSeguro Digital Ltd.   \n",
       "1   FNMAI              Federal National Mortgage Association   \n",
       "2   FNMAT              Federal National Mortgage Association   \n",
       "3   FNMAS              Federal National Mortgage Association   \n",
       "4     OLK                            Olink Holding AB (publ)   \n",
       "5   SAPMD                                         Saipem SpA   \n",
       "6    STNE                                       StoneCo Ltd.   \n",
       "7    INSW                        International Seaways, Inc.   \n",
       "8      CS                             Credit Suisse Group AG   \n",
       "9     DEN                                       Denbury Inc.   \n",
       "10   FNMA              Federal National Mortgage Association   \n",
       "11  KREVF                                        Keppel REIT   \n",
       "12  XPNGF                                         XPeng Inc.   \n",
       "13   ADSK                                     Autodesk, Inc.   \n",
       "14   TRMD                                           TORM plc   \n",
       "15   NTCO                            Natura &Co Holding S.A.   \n",
       "16  CSGKF                             Credit Suisse Group AG   \n",
       "17  HYSNY                  Hysan Development Company Limited   \n",
       "18    JWN                                    Nordstrom, Inc.   \n",
       "19    SLB                               Schlumberger Limited   \n",
       "20  CICOY                  COSCO SHIPPING Holdings Co., Ltd.   \n",
       "21    HEP                        Holly Energy Partners, L.P.   \n",
       "22    APE                   AMC Entertainment Holdings, Inc.   \n",
       "23     HP                            Helmerich & Payne, Inc.   \n",
       "24   VCTR                     Victory Capital Holdings, Inc.   \n",
       "25    UGI                                    UGI Corporation   \n",
       "26  CIBEY        Commercial International Bank (Egypt) S.A.E   \n",
       "27    WFG                        West Fraser Timber Co. Ltd.   \n",
       "28    WES                     Western Midstream Partners, LP   \n",
       "29    CRC                   California Resources Corporation   \n",
       "30   GPRE                                  Green Plains Inc.   \n",
       "31    HQY                                 HealthEquity, Inc.   \n",
       "32   ITCI                     Intra-Cellular Therapies, Inc.   \n",
       "33   MTDR                          Matador Resources Company   \n",
       "34   HASI  Hannon Armstrong Sustainable Infrastructure Ca...   \n",
       "35   BOWL                                      Bowlero Corp.   \n",
       "36     CF                       CF Industries Holdings, Inc.   \n",
       "37  LZRFY                           Localiza Rent a Car S.A.   \n",
       "38    CHX                              ChampionX Corporation   \n",
       "39    MGY                     Magnolia Oil & Gas Corporation   \n",
       "40  TBVPF               Thai Beverage Public Company Limited   \n",
       "41  PETRY                                 Vibra Energia S.A.   \n",
       "42     EE                            Excelerate Energy, Inc.   \n",
       "43  RLLCF                           Rolls-Royce Holdings plc   \n",
       "44   ARVN                                      Arvinas, Inc.   \n",
       "45    WHD                                       Cactus, Inc.   \n",
       "46    BHC                       Bausch Health Companies Inc.   \n",
       "47    RHP                 Ryman Hospitality Properties, Inc.   \n",
       "48    KOS                                 Kosmos Energy Ltd.   \n",
       "49     DK                            Delek US Holdings, Inc.   \n",
       "50    RES                                          RPC, Inc.   \n",
       "51     TV                             Grupo Televisa, S.A.B.   \n",
       "52    RJF                      Raymond James Financial, Inc.   \n",
       "53   PACB            Pacific Biosciences of California, Inc.   \n",
       "54   PTEN                         Patterson-UTI Energy, Inc.   \n",
       "\n",
       "    Price (Intraday)   Change  % Change      Volume  Avg Vol (3 month)  \\\n",
       "0            10.2600  -1.7500    -14.57  15179000.0          3240000.0   \n",
       "1             1.9900  -0.3000    -13.10     41700.0              355.0   \n",
       "2             2.0500  -0.2300    -10.09    408277.0            54753.0   \n",
       "3             2.3600  -0.2400     -9.23   1248000.0           322585.0   \n",
       "4            22.0800  -1.9100     -7.96    160039.0           124041.0   \n",
       "5             0.2400  -0.0200     -7.69     28950.0             3667.0   \n",
       "6            10.4400  -0.8000     -7.12  10243000.0          6139000.0   \n",
       "7            43.0500  -3.1800     -6.88    675411.0           662133.0   \n",
       "8             3.8300  -0.2600     -6.36  21423000.0         18540000.0   \n",
       "9            88.8400  -5.8600     -6.19    938294.0           804423.0   \n",
       "10            0.4333  -0.0272     -5.92   4722000.0          1458000.0   \n",
       "11            0.5810  -0.0358     -5.80     48080.0            22368.0   \n",
       "12            3.6500  -0.2200     -5.68    447100.0            19807.0   \n",
       "13          197.0700 -11.8300     -5.66   6275000.0          1617000.0   \n",
       "14           26.9600  -1.5800     -5.54    248493.0           274953.0   \n",
       "15            4.4000  -0.2300     -4.97   2566000.0           640253.0   \n",
       "16            3.8201  -0.1799     -4.50     32313.0           166684.0   \n",
       "17            5.0900  -0.2300     -4.31     46607.0             6838.0   \n",
       "18           21.6900  -0.9600     -4.24  19594000.0          6378000.0   \n",
       "19           51.4200  -2.2200     -4.14  10037000.0         13932000.0   \n",
       "20            5.0500  -0.2100     -4.04     40364.0             6339.0   \n",
       "21           18.8300  -0.7800     -3.98    195858.0           171704.0   \n",
       "22            1.2100  -0.0500     -3.97  42241000.0         15853000.0   \n",
       "23           51.7800  -2.1100     -3.92    823849.0           950243.0   \n",
       "24           30.6300  -1.1900     -3.74    183842.0           216296.0   \n",
       "25           38.9400  -1.4900     -3.69   1736000.0          1256000.0   \n",
       "26            1.3100  -0.0500     -3.68    160885.0           123570.0   \n",
       "27           81.5900  -3.1000     -3.66     77914.0           180101.0   \n",
       "28           26.5100  -0.9600     -3.49   1038000.0           926407.0   \n",
       "29           44.5800  -1.5700     -3.40    600566.0           694992.0   \n",
       "30           34.0500  -1.1900     -3.38    588833.0          1006000.0   \n",
       "31           61.7200  -2.1000     -3.29    608132.0           858492.0   \n",
       "32           51.1900  -1.6800     -3.18    481751.0           706247.0   \n",
       "33           66.7400  -2.1900     -3.18    535776.0          1247000.0   \n",
       "34           30.9600  -1.0100     -3.16    551490.0           839455.0   \n",
       "35           12.8500  -0.4100     -3.09    677704.0           832720.0   \n",
       "36          106.3100  -3.3700     -3.07   1679000.0          2717000.0   \n",
       "37           11.0700  -0.3500     -3.06    721670.0            32636.0   \n",
       "38           30.8700  -0.9700     -3.05    898396.0          2110000.0   \n",
       "39           25.9000  -0.8100     -3.03   1173000.0          1810000.0   \n",
       "40            0.4280  -0.0127     -2.88     79650.0            37610.0   \n",
       "41            6.0900  -0.1800     -2.87     20502.0            37496.0   \n",
       "42           29.1400  -0.8600     -2.87    592725.0           472398.0   \n",
       "43            0.0068  -0.0002     -2.86    433150.0           817776.0   \n",
       "44           39.5600  -1.1400     -2.80    709781.0           428209.0   \n",
       "45           53.6800  -1.5200     -2.75    357526.0           452057.0   \n",
       "46            6.7500  -0.1900     -2.74   6112000.0          6839000.0   \n",
       "47           89.0000  -2.5000     -2.73    253432.0           333157.0   \n",
       "48            6.4100  -0.1800     -2.73   4430000.0          6387000.0   \n",
       "49           33.8300  -0.9400     -2.70    852850.0          1360000.0   \n",
       "50            9.2800  -0.2500     -2.62    654269.0          1183000.0   \n",
       "51            5.3400  -0.1400     -2.55   3787000.0          2275000.0   \n",
       "52          120.3700  -3.1500     -2.55   1708000.0          1251000.0   \n",
       "53           10.3500  -0.2700     -2.54   3124000.0          6051000.0   \n",
       "54           18.0500  -0.4700     -2.54   1097000.0          2691000.0   \n",
       "\n",
       "      Market Cap  PE Ratio (TTM)  \n",
       "0   3.382000e+09           13.86  \n",
       "1   2.744000e+09          284.29  \n",
       "2   2.713000e+09          292.86  \n",
       "3   2.987000e+09          337.14  \n",
       "4   2.630000e+09             NaN  \n",
       "5   2.394000e+09             NaN  \n",
       "6   3.514000e+09             NaN  \n",
       "7   2.113000e+09           15.27  \n",
       "8   1.002200e+10             NaN  \n",
       "9   4.424000e+09            8.66  \n",
       "10  5.017420e+08             NaN  \n",
       "11  2.257000e+09            9.68  \n",
       "12  6.161000e+09             NaN  \n",
       "13  4.253900e+10           79.14  \n",
       "14  2.259000e+09            6.93  \n",
       "15  3.063000e+09           24.44  \n",
       "16  1.005300e+10             NaN  \n",
       "17  2.614000e+09           22.13  \n",
       "18  3.452000e+09            8.54  \n",
       "19  7.291300e+10           24.84  \n",
       "20  2.041500e+10            0.98  \n",
       "21  2.381000e+09           11.41  \n",
       "22  4.422000e+09             NaN  \n",
       "23  5.457000e+09         1035.60  \n",
       "24  2.179000e+09            7.94  \n",
       "25  8.153000e+09            6.20  \n",
       "26  4.564000e+09            7.28  \n",
       "27  6.813000e+09            3.35  \n",
       "28  1.020800e+10            9.68  \n",
       "29  3.391000e+09            3.14  \n",
       "30  2.019000e+09             NaN  \n",
       "31  5.217000e+09             NaN  \n",
       "32  4.848000e+09             NaN  \n",
       "33  7.886000e+09            6.81  \n",
       "34  2.755000e+09           21.96  \n",
       "35  2.129000e+09             NaN  \n",
       "36  2.085700e+10            6.95  \n",
       "37  1.082700e+10           29.13  \n",
       "38  6.154000e+09           49.79  \n",
       "39  7.030000e+09            5.72  \n",
       "40  1.076600e+10           14.27  \n",
       "41  3.473000e+09            7.25  \n",
       "42  3.155000e+09           15.92  \n",
       "43  1.482450e+11            0.38  \n",
       "44  2.166000e+09             NaN  \n",
       "45  3.352000e+09           35.55  \n",
       "46  2.462000e+09           10.38  \n",
       "47  4.910000e+09           74.79  \n",
       "48  2.922000e+09            6.54  \n",
       "49  2.358000e+09            8.23  \n",
       "50  2.010000e+09           13.85  \n",
       "51  3.017000e+09            5.87  \n",
       "52  2.589200e+10           17.24  \n",
       "53  2.340000e+09             NaN  \n",
       "54  3.914000e+09             NaN  "
      ]
     },
     "execution_count": 25,
     "metadata": {},
     "output_type": "execute_result"
    }
   ],
   "source": [
    "# most active stocks on the day\n",
    "# si.get_day_most_active()\n",
    " \n",
    "# best stocks\n",
    "# si.get_day_gainers()\n",
    " \n",
    "# worst stocks\n",
    "si.get_day_losers()"
   ]
  },
  {
   "cell_type": "markdown",
   "metadata": {},
   "source": [
    "#### Scraping financial data"
   ]
  },
  {
   "cell_type": "markdown",
   "metadata": {},
   "source": [
    "Financials, such as income statements, balance sheets, and cash flows can be scraped using `yahoo_fin`."
   ]
  },
  {
   "cell_type": "code",
   "execution_count": 26,
   "metadata": {},
   "outputs": [
    {
     "data": {
      "text/html": [
       "<div>\n",
       "<style scoped>\n",
       "    .dataframe tbody tr th:only-of-type {\n",
       "        vertical-align: middle;\n",
       "    }\n",
       "\n",
       "    .dataframe tbody tr th {\n",
       "        vertical-align: top;\n",
       "    }\n",
       "\n",
       "    .dataframe thead th {\n",
       "        text-align: right;\n",
       "    }\n",
       "</style>\n",
       "<table border=\"1\" class=\"dataframe\">\n",
       "  <thead>\n",
       "    <tr style=\"text-align: right;\">\n",
       "      <th>endDate</th>\n",
       "      <th>2021-12-31</th>\n",
       "      <th>2020-12-31</th>\n",
       "      <th>2019-12-31</th>\n",
       "      <th>2018-12-31</th>\n",
       "    </tr>\n",
       "    <tr>\n",
       "      <th>Breakdown</th>\n",
       "      <th></th>\n",
       "      <th></th>\n",
       "      <th></th>\n",
       "      <th></th>\n",
       "    </tr>\n",
       "  </thead>\n",
       "  <tbody>\n",
       "    <tr>\n",
       "      <th>researchDevelopment</th>\n",
       "      <td>None</td>\n",
       "      <td>None</td>\n",
       "      <td>None</td>\n",
       "      <td>None</td>\n",
       "    </tr>\n",
       "    <tr>\n",
       "      <th>effectOfAccountingCharges</th>\n",
       "      <td>None</td>\n",
       "      <td>None</td>\n",
       "      <td>None</td>\n",
       "      <td>None</td>\n",
       "    </tr>\n",
       "    <tr>\n",
       "      <th>incomeBeforeTax</th>\n",
       "      <td>710000000</td>\n",
       "      <td>1871000000</td>\n",
       "      <td>1141000000</td>\n",
       "      <td>1357000000</td>\n",
       "    </tr>\n",
       "    <tr>\n",
       "      <th>minorityInterest</th>\n",
       "      <td>214000000</td>\n",
       "      <td>195000000</td>\n",
       "      <td>192000000</td>\n",
       "      <td>211000000</td>\n",
       "    </tr>\n",
       "    <tr>\n",
       "      <th>netIncome</th>\n",
       "      <td>590000000</td>\n",
       "      <td>1804000000</td>\n",
       "      <td>990000000</td>\n",
       "      <td>1067000000</td>\n",
       "    </tr>\n",
       "    <tr>\n",
       "      <th>sellingGeneralAdministrative</th>\n",
       "      <td>1081000000</td>\n",
       "      <td>996000000</td>\n",
       "      <td>1103000000</td>\n",
       "      <td>1011000000</td>\n",
       "    </tr>\n",
       "    <tr>\n",
       "      <th>grossProfit</th>\n",
       "      <td>2438000000</td>\n",
       "      <td>1950000000</td>\n",
       "      <td>2649000000</td>\n",
       "      <td>2733000000</td>\n",
       "    </tr>\n",
       "    <tr>\n",
       "      <th>ebit</th>\n",
       "      <td>1209000000</td>\n",
       "      <td>810000000</td>\n",
       "      <td>1408000000</td>\n",
       "      <td>1598000000</td>\n",
       "    </tr>\n",
       "    <tr>\n",
       "      <th>operatingIncome</th>\n",
       "      <td>1209000000</td>\n",
       "      <td>810000000</td>\n",
       "      <td>1408000000</td>\n",
       "      <td>1598000000</td>\n",
       "    </tr>\n",
       "    <tr>\n",
       "      <th>otherOperatingExpenses</th>\n",
       "      <td>None</td>\n",
       "      <td>None</td>\n",
       "      <td>None</td>\n",
       "      <td>None</td>\n",
       "    </tr>\n",
       "    <tr>\n",
       "      <th>interestExpense</th>\n",
       "      <td>-150000000</td>\n",
       "      <td>-164000000</td>\n",
       "      <td>-164000000</td>\n",
       "      <td>-141000000</td>\n",
       "    </tr>\n",
       "    <tr>\n",
       "      <th>extraordinaryItems</th>\n",
       "      <td>None</td>\n",
       "      <td>None</td>\n",
       "      <td>None</td>\n",
       "      <td>None</td>\n",
       "    </tr>\n",
       "    <tr>\n",
       "      <th>nonRecurring</th>\n",
       "      <td>None</td>\n",
       "      <td>None</td>\n",
       "      <td>None</td>\n",
       "      <td>None</td>\n",
       "    </tr>\n",
       "    <tr>\n",
       "      <th>otherItems</th>\n",
       "      <td>None</td>\n",
       "      <td>None</td>\n",
       "      <td>None</td>\n",
       "      <td>None</td>\n",
       "    </tr>\n",
       "    <tr>\n",
       "      <th>incomeTaxExpense</th>\n",
       "      <td>101000000</td>\n",
       "      <td>49000000</td>\n",
       "      <td>132000000</td>\n",
       "      <td>250000000</td>\n",
       "    </tr>\n",
       "    <tr>\n",
       "      <th>totalRevenue</th>\n",
       "      <td>15618000000</td>\n",
       "      <td>13066000000</td>\n",
       "      <td>14357000000</td>\n",
       "      <td>14435000000</td>\n",
       "    </tr>\n",
       "    <tr>\n",
       "      <th>totalOperatingExpenses</th>\n",
       "      <td>14409000000</td>\n",
       "      <td>12256000000</td>\n",
       "      <td>12949000000</td>\n",
       "      <td>12837000000</td>\n",
       "    </tr>\n",
       "    <tr>\n",
       "      <th>costOfRevenue</th>\n",
       "      <td>13180000000</td>\n",
       "      <td>11116000000</td>\n",
       "      <td>11708000000</td>\n",
       "      <td>11702000000</td>\n",
       "    </tr>\n",
       "    <tr>\n",
       "      <th>totalOtherIncomeExpenseNet</th>\n",
       "      <td>-499000000</td>\n",
       "      <td>1061000000</td>\n",
       "      <td>-267000000</td>\n",
       "      <td>-241000000</td>\n",
       "    </tr>\n",
       "    <tr>\n",
       "      <th>discontinuedOperations</th>\n",
       "      <td>None</td>\n",
       "      <td>None</td>\n",
       "      <td>None</td>\n",
       "      <td>None</td>\n",
       "    </tr>\n",
       "    <tr>\n",
       "      <th>netIncomeFromContinuingOps</th>\n",
       "      <td>609000000</td>\n",
       "      <td>1822000000</td>\n",
       "      <td>1009000000</td>\n",
       "      <td>1107000000</td>\n",
       "    </tr>\n",
       "    <tr>\n",
       "      <th>netIncomeApplicableToCommonShares</th>\n",
       "      <td>527000000</td>\n",
       "      <td>1769000000</td>\n",
       "      <td>990000000</td>\n",
       "      <td>1067000000</td>\n",
       "    </tr>\n",
       "  </tbody>\n",
       "</table>\n",
       "</div>"
      ],
      "text/plain": [
       "endDate                             2021-12-31   2020-12-31   2019-12-31  \\\n",
       "Breakdown                                                                  \n",
       "researchDevelopment                       None         None         None   \n",
       "effectOfAccountingCharges                 None         None         None   \n",
       "incomeBeforeTax                      710000000   1871000000   1141000000   \n",
       "minorityInterest                     214000000    195000000    192000000   \n",
       "netIncome                            590000000   1804000000    990000000   \n",
       "sellingGeneralAdministrative        1081000000    996000000   1103000000   \n",
       "grossProfit                         2438000000   1950000000   2649000000   \n",
       "ebit                                1209000000    810000000   1408000000   \n",
       "operatingIncome                     1209000000    810000000   1408000000   \n",
       "otherOperatingExpenses                    None         None         None   \n",
       "interestExpense                     -150000000   -164000000   -164000000   \n",
       "extraordinaryItems                        None         None         None   \n",
       "nonRecurring                              None         None         None   \n",
       "otherItems                                None         None         None   \n",
       "incomeTaxExpense                     101000000     49000000    132000000   \n",
       "totalRevenue                       15618000000  13066000000  14357000000   \n",
       "totalOperatingExpenses             14409000000  12256000000  12949000000   \n",
       "costOfRevenue                      13180000000  11116000000  11708000000   \n",
       "totalOtherIncomeExpenseNet          -499000000   1061000000   -267000000   \n",
       "discontinuedOperations                    None         None         None   \n",
       "netIncomeFromContinuingOps           609000000   1822000000   1009000000   \n",
       "netIncomeApplicableToCommonShares    527000000   1769000000    990000000   \n",
       "\n",
       "endDate                             2018-12-31  \n",
       "Breakdown                                       \n",
       "researchDevelopment                       None  \n",
       "effectOfAccountingCharges                 None  \n",
       "incomeBeforeTax                     1357000000  \n",
       "minorityInterest                     211000000  \n",
       "netIncome                           1067000000  \n",
       "sellingGeneralAdministrative        1011000000  \n",
       "grossProfit                         2733000000  \n",
       "ebit                                1598000000  \n",
       "operatingIncome                     1598000000  \n",
       "otherOperatingExpenses                    None  \n",
       "interestExpense                     -141000000  \n",
       "extraordinaryItems                        None  \n",
       "nonRecurring                              None  \n",
       "otherItems                                None  \n",
       "incomeTaxExpense                     250000000  \n",
       "totalRevenue                       14435000000  \n",
       "totalOperatingExpenses             12837000000  \n",
       "costOfRevenue                      11702000000  \n",
       "totalOtherIncomeExpenseNet          -241000000  \n",
       "discontinuedOperations                    None  \n",
       "netIncomeFromContinuingOps          1107000000  \n",
       "netIncomeApplicableToCommonShares   1067000000  "
      ]
     },
     "execution_count": 26,
     "metadata": {},
     "output_type": "execute_result"
    }
   ],
   "source": [
    "income_statement = si.get_income_statement(ticker)\n",
    "balance_sheet = si.get_balance_sheet(ticker)\n",
    "cash_flow = si.get_cash_flow(ticker)\n",
    "\n",
    "income_statement\n",
    "#print(balance_sheet)\n",
    "#print(cash_flow)"
   ]
  },
  {
   "cell_type": "markdown",
   "metadata": {},
   "source": [
    "#### Getting major stock holders"
   ]
  },
  {
   "cell_type": "markdown",
   "metadata": {},
   "source": [
    "Getting the major holders of a stock can be done with the get_holders function."
   ]
  },
  {
   "cell_type": "code",
   "execution_count": 27,
   "metadata": {},
   "outputs": [],
   "source": [
    "holders = si.get_holders(ticker)"
   ]
  },
  {
   "cell_type": "markdown",
   "metadata": {},
   "source": [
    "This returns a dictionary. We can check the keys:"
   ]
  },
  {
   "cell_type": "code",
   "execution_count": 28,
   "metadata": {},
   "outputs": [
    {
     "data": {
      "text/plain": [
       "dict_keys(['Major Holders', 'Direct Holders (Forms 3 and 4)', 'Top Institutional Holders'])"
      ]
     },
     "execution_count": 28,
     "metadata": {},
     "output_type": "execute_result"
    }
   ],
   "source": [
    "holders.keys()"
   ]
  },
  {
   "cell_type": "markdown",
   "metadata": {},
   "source": [
    "and the values are `pandas` dataframes (another session).\n",
    "We can return the top institutional holder:"
   ]
  },
  {
   "cell_type": "code",
   "execution_count": 29,
   "metadata": {},
   "outputs": [
    {
     "name": "stdout",
     "output_type": "stream",
     "text": [
      "The top institutional hold is Vanguard Total Stock Market Index Fund and owns 853080462 dollars\n"
     ]
    }
   ],
   "source": [
    "info = holders[\"Top Institutional Holders\"]\n",
    "print(\"The top institutional hold is %s and owns %i dollars\" %(info.Holder[0],info.Value[0]))"
   ]
  },
  {
   "cell_type": "markdown",
   "metadata": {},
   "source": [
    "Examples on other indices:"
   ]
  },
  {
   "cell_type": "code",
   "execution_count": 30,
   "metadata": {},
   "outputs": [],
   "source": [
    "# get list of Dow stocks\n",
    "dow_list = si.tickers_dow()\n",
    " \n",
    "# get list of NASDAQ stocks\n",
    "nasdaq_list = si.tickers_nasdaq()"
   ]
  },
  {
   "cell_type": "markdown",
   "metadata": {},
   "source": [
    "### The `options` package\n",
    "\n",
    "**FACT:** (most) options for indices are European, while (most) for single stocks are American."
   ]
  },
  {
   "cell_type": "code",
   "execution_count": 31,
   "metadata": {},
   "outputs": [],
   "source": [
    "from yahoo_fin import options"
   ]
  },
  {
   "cell_type": "code",
   "execution_count": 32,
   "metadata": {},
   "outputs": [],
   "source": [
    "ticker = \"amzn\""
   ]
  },
  {
   "cell_type": "markdown",
   "metadata": {},
   "source": [
    "Get all the expirations date for the options on a given stock"
   ]
  },
  {
   "cell_type": "code",
   "execution_count": 33,
   "metadata": {},
   "outputs": [
    {
     "data": {
      "text/plain": [
       "['November 25, 2022',\n",
       " 'December 2, 2022',\n",
       " 'December 9, 2022',\n",
       " 'December 16, 2022',\n",
       " 'December 23, 2022',\n",
       " 'December 30, 2022',\n",
       " 'January 20, 2023',\n",
       " 'February 17, 2023',\n",
       " 'March 17, 2023',\n",
       " 'April 21, 2023',\n",
       " 'June 16, 2023',\n",
       " 'July 21, 2023',\n",
       " 'September 15, 2023',\n",
       " 'October 20, 2023',\n",
       " 'January 19, 2024',\n",
       " 'June 21, 2024',\n",
       " 'January 17, 2025']"
      ]
     },
     "execution_count": 33,
     "metadata": {},
     "output_type": "execute_result"
    }
   ],
   "source": [
    "maturities = options.get_expiration_dates(ticker)\n",
    "maturities"
   ]
  },
  {
   "cell_type": "markdown",
   "metadata": {},
   "source": [
    "Importing all the options on a given stock on a given maturity"
   ]
  },
  {
   "cell_type": "code",
   "execution_count": 34,
   "metadata": {},
   "outputs": [
    {
     "data": {
      "text/html": [
       "<div>\n",
       "<style scoped>\n",
       "    .dataframe tbody tr th:only-of-type {\n",
       "        vertical-align: middle;\n",
       "    }\n",
       "\n",
       "    .dataframe tbody tr th {\n",
       "        vertical-align: top;\n",
       "    }\n",
       "\n",
       "    .dataframe thead th {\n",
       "        text-align: right;\n",
       "    }\n",
       "</style>\n",
       "<table border=\"1\" class=\"dataframe\">\n",
       "  <thead>\n",
       "    <tr style=\"text-align: right;\">\n",
       "      <th></th>\n",
       "      <th>Contract Name</th>\n",
       "      <th>Last Trade Date</th>\n",
       "      <th>Strike</th>\n",
       "      <th>Last Price</th>\n",
       "      <th>Bid</th>\n",
       "      <th>Ask</th>\n",
       "      <th>Change</th>\n",
       "      <th>% Change</th>\n",
       "      <th>Volume</th>\n",
       "      <th>Open Interest</th>\n",
       "      <th>Implied Volatility</th>\n",
       "    </tr>\n",
       "  </thead>\n",
       "  <tbody>\n",
       "    <tr>\n",
       "      <th>83</th>\n",
       "      <td>AMZN221125C00155000</td>\n",
       "      <td>2022-11-11 10:25AM EST</td>\n",
       "      <td>155.0</td>\n",
       "      <td>0.01</td>\n",
       "      <td>0.0</td>\n",
       "      <td>0.01</td>\n",
       "      <td>0.0</td>\n",
       "      <td>-</td>\n",
       "      <td>3</td>\n",
       "      <td>330</td>\n",
       "      <td>218.75%</td>\n",
       "    </tr>\n",
       "    <tr>\n",
       "      <th>84</th>\n",
       "      <td>AMZN221125C00160000</td>\n",
       "      <td>2022-11-10 9:55AM EST</td>\n",
       "      <td>160.0</td>\n",
       "      <td>0.01</td>\n",
       "      <td>0.0</td>\n",
       "      <td>0.01</td>\n",
       "      <td>0.0</td>\n",
       "      <td>-</td>\n",
       "      <td>21</td>\n",
       "      <td>378</td>\n",
       "      <td>231.25%</td>\n",
       "    </tr>\n",
       "    <tr>\n",
       "      <th>85</th>\n",
       "      <td>AMZN221125C00165000</td>\n",
       "      <td>2022-11-10 3:43PM EST</td>\n",
       "      <td>165.0</td>\n",
       "      <td>0.01</td>\n",
       "      <td>0.0</td>\n",
       "      <td>0.01</td>\n",
       "      <td>0.0</td>\n",
       "      <td>-</td>\n",
       "      <td>1000</td>\n",
       "      <td>890</td>\n",
       "      <td>237.50%</td>\n",
       "    </tr>\n",
       "    <tr>\n",
       "      <th>86</th>\n",
       "      <td>AMZN221125C00170000</td>\n",
       "      <td>2022-11-03 10:29AM EST</td>\n",
       "      <td>170.0</td>\n",
       "      <td>0.01</td>\n",
       "      <td>0.0</td>\n",
       "      <td>0.01</td>\n",
       "      <td>0.0</td>\n",
       "      <td>-</td>\n",
       "      <td>1</td>\n",
       "      <td>345</td>\n",
       "      <td>250.00%</td>\n",
       "    </tr>\n",
       "    <tr>\n",
       "      <th>87</th>\n",
       "      <td>AMZN221125C00175000</td>\n",
       "      <td>2022-11-21 3:24PM EST</td>\n",
       "      <td>175.0</td>\n",
       "      <td>0.01</td>\n",
       "      <td>0.0</td>\n",
       "      <td>0.01</td>\n",
       "      <td>0.0</td>\n",
       "      <td>-</td>\n",
       "      <td>95</td>\n",
       "      <td>631</td>\n",
       "      <td>262.50%</td>\n",
       "    </tr>\n",
       "  </tbody>\n",
       "</table>\n",
       "</div>"
      ],
      "text/plain": [
       "          Contract Name         Last Trade Date  Strike  Last Price  Bid  \\\n",
       "83  AMZN221125C00155000  2022-11-11 10:25AM EST   155.0        0.01  0.0   \n",
       "84  AMZN221125C00160000   2022-11-10 9:55AM EST   160.0        0.01  0.0   \n",
       "85  AMZN221125C00165000   2022-11-10 3:43PM EST   165.0        0.01  0.0   \n",
       "86  AMZN221125C00170000  2022-11-03 10:29AM EST   170.0        0.01  0.0   \n",
       "87  AMZN221125C00175000   2022-11-21 3:24PM EST   175.0        0.01  0.0   \n",
       "\n",
       "     Ask  Change % Change  Volume  Open Interest Implied Volatility  \n",
       "83  0.01     0.0        -       3            330            218.75%  \n",
       "84  0.01     0.0        -      21            378            231.25%  \n",
       "85  0.01     0.0        -    1000            890            237.50%  \n",
       "86  0.01     0.0        -       1            345            250.00%  \n",
       "87  0.01     0.0        -      95            631            262.50%  "
      ]
     },
     "execution_count": 34,
     "metadata": {},
     "output_type": "execute_result"
    }
   ],
   "source": [
    "chain = options.get_options_chain(ticker)\n",
    "calls = chain[\"calls\"]\n",
    "puts = chain[\"puts\"]\n",
    "calls.tail()"
   ]
  },
  {
   "cell_type": "code",
   "execution_count": 35,
   "metadata": {},
   "outputs": [
    {
     "data": {
      "text/plain": [
       "94.12999725341797"
      ]
     },
     "execution_count": 35,
     "metadata": {},
     "output_type": "execute_result"
    }
   ],
   "source": [
    "si.get_live_price(\"amzn\") "
   ]
  },
  {
   "cell_type": "markdown",
   "metadata": {},
   "source": [
    "To get the options for a specific maturity:"
   ]
  },
  {
   "cell_type": "code",
   "execution_count": 36,
   "metadata": {},
   "outputs": [],
   "source": [
    "T = maturities[4]"
   ]
  },
  {
   "cell_type": "code",
   "execution_count": 37,
   "metadata": {},
   "outputs": [],
   "source": [
    "allOptionsT = options.get_options_chain(ticker, T)\n",
    "allCallsT = options.get_calls(ticker, T)\n",
    "allPutsT = options.get_puts(ticker, T)"
   ]
  },
  {
   "cell_type": "markdown",
   "metadata": {},
   "source": [
    "Getting the options for each maturity (*takes some time*)"
   ]
  },
  {
   "cell_type": "code",
   "execution_count": null,
   "metadata": {},
   "outputs": [],
   "source": [
    "info = {}\n",
    "#for date in maturities:\n",
    "#    info[date] = options.get_options_chain(ticker, date)"
   ]
  },
  {
   "cell_type": "markdown",
   "metadata": {},
   "source": [
    "------"
   ]
  },
  {
   "cell_type": "markdown",
   "metadata": {},
   "source": [
    "**Alternative sources:**\n",
    "\n",
    "Wharton Research for Data Services (WRDS), Option Metrics for options"
   ]
  },
  {
   "cell_type": "markdown",
   "metadata": {},
   "source": [
    "## Quandl"
   ]
  },
  {
   "cell_type": "markdown",
   "metadata": {},
   "source": [
    "Quandl (https://www.quandl.com/) is self-described as *\"The premier source for financial, economic, and alternative datasets, serving investment professionals. Quandl's platform is used by over 400,000 people, including analysts from the world's top hedge funds, asset managers and investment banks.\"* Some of the data on Quandl is available to their institutional clients only, whereas other datasets are open to everyone."
   ]
  },
  {
   "cell_type": "markdown",
   "metadata": {},
   "source": [
    "Need to create an account (free) to get an api."
   ]
  },
  {
   "cell_type": "code",
   "execution_count": 38,
   "metadata": {},
   "outputs": [],
   "source": [
    "myapi = \"nJnGN6QC8jt7ZMfJtkSV\""
   ]
  },
  {
   "cell_type": "markdown",
   "metadata": {},
   "source": [
    "Data from quandl: for example, the Federal Reserve Economic Data (FRED):"
   ]
  },
  {
   "cell_type": "markdown",
   "metadata": {},
   "source": [
    "* Natural Rate of Unemployment (Short-Term) (FRED/NROUST)\n",
    "* Real Potential Gross Domestic Product (FRED/GDPPOT)\n",
    "* Nominal Potential Gross Domestic Product (FRED/NGDPPOT)\n",
    "* Natural Rate of Unemployment (Long-Term) (FRED/NROU)\n",
    "* FOMC Summary of Economic Projections for the Civilian Unemployment Rate, Median (FRED/UNRATEMD)\n",
    "* FOMC Summary of Economic Projections for the Growth Rate of Real Gross Domestic Product, Median (FRED/GDPC1MD)\n",
    "* FOMC Summary of Economic Projections for the Personal Consumption Expenditures Inflation Rate, Median (FRED/PCECTPIMD)\n",
    "* FOMC Summary of Economic Projections for the Personal Consumption Expenditures less Food and Energy Inflation Rate, Median (FRED/JCXFEMD)\n",
    "* FOMC Summary of Economic Projections for the Fed Funds Rate, Range, Low (FRED/FEDTARRL)\n",
    "* FOMC Summary of Economic Projections for the Fed Funds Rate, Range, Midpoint (FRED/FEDTARRM)\n",
    "* FOMC Summary of Economic Projections for the Fed Funds Rate, Range, High (FRED/FEDTARRH)\n",
    "* ...\n"
   ]
  },
  {
   "cell_type": "markdown",
   "metadata": {},
   "source": [
    "Consider the Civilian Unemployment Rate (FRED/UNRATE): https://www.quandl.com/data/FRED/UNRATE-Civilian-Unemployment-Rate"
   ]
  },
  {
   "cell_type": "code",
   "execution_count": null,
   "metadata": {},
   "outputs": [],
   "source": [
    "import quandl\n",
    "\n",
    "data_unrate = quandl.get('FRED/UNRATE', api_key=myapi)\n",
    "\n",
    "data_unrate.head()"
   ]
  },
  {
   "cell_type": "code",
   "execution_count": null,
   "metadata": {},
   "outputs": [],
   "source": [
    "data_unrate['Value'].plot();"
   ]
  },
  {
   "cell_type": "markdown",
   "metadata": {},
   "source": [
    "#### Question: is there a relationship between the unemployment rate and the value of the S&P 500?"
   ]
  },
  {
   "cell_type": "code",
   "execution_count": 40,
   "metadata": {},
   "outputs": [],
   "source": [
    "import yahoo_fin.stock_info as si\n",
    "import datetime as dt\n",
    "import matplotlib.pylab as plt\n",
    "\n",
    "snp500 = si.get_data(\"^GSPC\")"
   ]
  },
  {
   "cell_type": "code",
   "execution_count": 41,
   "metadata": {},
   "outputs": [
    {
     "data": {
      "text/html": [
       "<div>\n",
       "<style scoped>\n",
       "    .dataframe tbody tr th:only-of-type {\n",
       "        vertical-align: middle;\n",
       "    }\n",
       "\n",
       "    .dataframe tbody tr th {\n",
       "        vertical-align: top;\n",
       "    }\n",
       "\n",
       "    .dataframe thead th {\n",
       "        text-align: right;\n",
       "    }\n",
       "</style>\n",
       "<table border=\"1\" class=\"dataframe\">\n",
       "  <thead>\n",
       "    <tr style=\"text-align: right;\">\n",
       "      <th></th>\n",
       "      <th>open</th>\n",
       "      <th>high</th>\n",
       "      <th>low</th>\n",
       "      <th>close</th>\n",
       "      <th>adjclose</th>\n",
       "      <th>volume</th>\n",
       "      <th>ticker</th>\n",
       "    </tr>\n",
       "  </thead>\n",
       "  <tbody>\n",
       "    <tr>\n",
       "      <th>1970-03-25</th>\n",
       "      <td>0.0</td>\n",
       "      <td>91.070000</td>\n",
       "      <td>88.110001</td>\n",
       "      <td>89.769997</td>\n",
       "      <td>89.769997</td>\n",
       "      <td>17500000</td>\n",
       "      <td>^GSPC</td>\n",
       "    </tr>\n",
       "    <tr>\n",
       "      <th>1970-03-26</th>\n",
       "      <td>0.0</td>\n",
       "      <td>90.650002</td>\n",
       "      <td>89.180000</td>\n",
       "      <td>89.919998</td>\n",
       "      <td>89.919998</td>\n",
       "      <td>11350000</td>\n",
       "      <td>^GSPC</td>\n",
       "    </tr>\n",
       "    <tr>\n",
       "      <th>1970-03-30</th>\n",
       "      <td>0.0</td>\n",
       "      <td>90.410004</td>\n",
       "      <td>88.910004</td>\n",
       "      <td>89.629997</td>\n",
       "      <td>89.629997</td>\n",
       "      <td>9600000</td>\n",
       "      <td>^GSPC</td>\n",
       "    </tr>\n",
       "    <tr>\n",
       "      <th>1970-03-31</th>\n",
       "      <td>0.0</td>\n",
       "      <td>90.169998</td>\n",
       "      <td>88.849998</td>\n",
       "      <td>89.629997</td>\n",
       "      <td>89.629997</td>\n",
       "      <td>8370000</td>\n",
       "      <td>^GSPC</td>\n",
       "    </tr>\n",
       "    <tr>\n",
       "      <th>1970-04-01</th>\n",
       "      <td>0.0</td>\n",
       "      <td>90.620003</td>\n",
       "      <td>89.300003</td>\n",
       "      <td>90.070000</td>\n",
       "      <td>90.070000</td>\n",
       "      <td>9810000</td>\n",
       "      <td>^GSPC</td>\n",
       "    </tr>\n",
       "  </tbody>\n",
       "</table>\n",
       "</div>"
      ],
      "text/plain": [
       "            open       high        low      close   adjclose    volume ticker\n",
       "1970-03-25   0.0  91.070000  88.110001  89.769997  89.769997  17500000  ^GSPC\n",
       "1970-03-26   0.0  90.650002  89.180000  89.919998  89.919998  11350000  ^GSPC\n",
       "1970-03-30   0.0  90.410004  88.910004  89.629997  89.629997   9600000  ^GSPC\n",
       "1970-03-31   0.0  90.169998  88.849998  89.629997  89.629997   8370000  ^GSPC\n",
       "1970-04-01   0.0  90.620003  89.300003  90.070000  90.070000   9810000  ^GSPC"
      ]
     },
     "execution_count": 41,
     "metadata": {},
     "output_type": "execute_result"
    }
   ],
   "source": [
    "snp500.head()"
   ]
  },
  {
   "cell_type": "code",
   "execution_count": null,
   "metadata": {},
   "outputs": [],
   "source": [
    "snp500 = snp500.loc[dt.date(1990, 1, 1):]\n",
    "data_unrate = data_unrate.loc[dt.date(1990, 1, 1):]"
   ]
  },
  {
   "cell_type": "code",
   "execution_count": null,
   "metadata": {},
   "outputs": [],
   "source": [
    "fig, ax1 = plt.subplots()\n",
    "ax1.plot(snp500.index, snp500['close'], color='green', label=\"S&P\")\n",
    "ax2 = ax1.twinx()\n",
    "ax2.plot(data_unrate.index, data_unrate['Value'], color='red', label=\"Unemployment\")\n",
    "fig.tight_layout()\n",
    "fig.subplots_adjust(bottom=0.2)\n",
    "fig.legend(loc=\"upper left\");"
   ]
  },
  {
   "cell_type": "markdown",
   "metadata": {},
   "source": [
    "----------"
   ]
  },
  {
   "cell_type": "markdown",
   "metadata": {},
   "source": [
    "## Alpha Vantage"
   ]
  },
  {
   "cell_type": "markdown",
   "metadata": {},
   "source": [
    "Free API for real-time and historical stock and FX data, digital/crypto currency data, and many technical indicators\n",
    "\n",
    "https://www.alphavantage.co/\n",
    "\n",
    "It offers higher frequency data than Yahoo! Finance."
   ]
  },
  {
   "cell_type": "code",
   "execution_count": null,
   "metadata": {},
   "outputs": [],
   "source": [
    "##!pip install alpha_vantage"
   ]
  },
  {
   "cell_type": "code",
   "execution_count": null,
   "metadata": {},
   "outputs": [],
   "source": [
    "myapi = \"\" ## you need to obtain (for free) an API on their website"
   ]
  },
  {
   "cell_type": "markdown",
   "metadata": {},
   "source": [
    "Then, to download minute AAPL data,"
   ]
  },
  {
   "cell_type": "code",
   "execution_count": null,
   "metadata": {},
   "outputs": [],
   "source": [
    "from alpha_vantage.timeseries import TimeSeries\n",
    "\n",
    "ts = TimeSeries(key=myapi, output_format='pandas')\n",
    "\n",
    "intraday_data, data_info = ts.get_intraday('AAPL', outputsize='full', interval='1min')"
   ]
  },
  {
   "cell_type": "code",
   "execution_count": null,
   "metadata": {},
   "outputs": [],
   "source": [
    "data_info"
   ]
  },
  {
   "cell_type": "code",
   "execution_count": null,
   "metadata": {},
   "outputs": [],
   "source": [
    "intraday_data.info()"
   ]
  },
  {
   "cell_type": "code",
   "execution_count": null,
   "metadata": {},
   "outputs": [],
   "source": [
    "intraday_data.head()"
   ]
  },
  {
   "cell_type": "code",
   "execution_count": null,
   "metadata": {},
   "outputs": [],
   "source": [
    "intraday_data['4. close'].plot(style=\".\")\n",
    "plt.xticks(rotation=45)"
   ]
  },
  {
   "cell_type": "markdown",
   "metadata": {},
   "source": [
    "## Webscraping"
   ]
  },
  {
   "cell_type": "code",
   "execution_count": null,
   "metadata": {},
   "outputs": [],
   "source": [
    "from bs4 import BeautifulSoup\n",
    "import pandas as pd\n",
    "import requests"
   ]
  },
  {
   "cell_type": "markdown",
   "metadata": {},
   "source": [
    "### Read data from webpage"
   ]
  },
  {
   "cell_type": "code",
   "execution_count": null,
   "metadata": {},
   "outputs": [],
   "source": [
    "url = \"https://en.wikipedia.org/wiki/BNP_Paribas\"\n",
    "content = requests.get(url).content\n",
    "soup = BeautifulSoup(content,'html.parser')"
   ]
  },
  {
   "cell_type": "code",
   "execution_count": null,
   "metadata": {},
   "outputs": [],
   "source": [
    "atags = soup.find_all(\"a\") ## Viewing all data embedded in a tag"
   ]
  },
  {
   "cell_type": "code",
   "execution_count": null,
   "metadata": {},
   "outputs": [],
   "source": [
    "## Extracts only the relevant table\n",
    "table = soup.find_all(class_=\"wikitable\")[0]\n",
    "print(\"The html version of the table from the Wikipedia page reads: \")\n",
    "print(\"**********************\")\n",
    "print(table.prettify()) ##  The prettify command adds indentation\n",
    "print(\"**********************\")"
   ]
  },
  {
   "cell_type": "code",
   "execution_count": null,
   "metadata": {},
   "outputs": [],
   "source": [
    "index = [[th.text.strip() for th in tr.findChildren('th')] for tr in table.findChildren('tr')][0][1:]\n",
    "data = [[td.text.strip() for td in tr.findChildren('td')] for tr in table.findChildren('tr')][1:]"
   ]
  },
  {
   "cell_type": "code",
   "execution_count": null,
   "metadata": {},
   "outputs": [],
   "source": [
    "cols = [d[0] for d in data]\n",
    "values = np.transpose([d[1:] for d in data])\n",
    "df = pd.DataFrame (data = values, index = index, columns = cols)\n",
    "df.head()"
   ]
  },
  {
   "cell_type": "markdown",
   "metadata": {},
   "source": [
    "### Scraping for dynamic web content\n",
    "\n",
    "Selenium\n",
    "\n",
    "See also https://www.scrapingdog.com/blog/web-scraping-with-python/"
   ]
  },
  {
   "cell_type": "markdown",
   "metadata": {},
   "source": [
    "## Data visualisation"
   ]
  },
  {
   "cell_type": "markdown",
   "metadata": {
    "zanadu": {}
   },
   "source": [
    "### Matplotlib"
   ]
  },
  {
   "cell_type": "markdown",
   "metadata": {
    "zanadu": {}
   },
   "source": [
    "Historically, the package of choice to visualise data in Python was matplotlib, introduced in 2003, and based on a MATLAB-like interface, and originally conceived to visualise Electrocorticography data of epilepsy patients.\n",
    "\n",
    "https://matplotlib.org/"
   ]
  },
  {
   "cell_type": "code",
   "execution_count": 43,
   "metadata": {
    "zanadu": {
     "code_type": "",
     "is_hidden": false
    }
   },
   "outputs": [],
   "source": [
    "import matplotlib.pyplot as plt\n",
    "import numpy as np"
   ]
  },
  {
   "cell_type": "markdown",
   "metadata": {
    "zanadu": {}
   },
   "source": [
    "#### Simple plot"
   ]
  },
  {
   "cell_type": "code",
   "execution_count": 44,
   "metadata": {},
   "outputs": [
    {
     "data": {
      "image/png": "[encoded data removed]",
      "text/plain": [
       "<Figure size 640x480 with 1 Axes>"
      ]
     },
     "metadata": {},
     "output_type": "display_data"
    }
   ],
   "source": [
    "aa = np.linspace(0, 10, 100)\n",
    "bb = np.exp(-aa)\n",
    "plt.plot(aa, bb)\n",
    "plt.show()"
   ]
  },
  {
   "cell_type": "markdown",
   "metadata": {
    "zanadu": {}
   },
   "source": [
    "**Question: what is wrong with the graph?**\n",
    "\n",
    "**No labels or titles!**"
   ]
  },
  {
   "cell_type": "code",
   "execution_count": 45,
   "metadata": {
    "zanadu": {
     "code_type": "",
     "is_hidden": true
    }
   },
   "outputs": [
    {
     "data": {
      "image/png": "[encoded data removed]",
      "text/plain": [
       "<Figure size 640x480 with 1 Axes>"
      ]
     },
     "metadata": {},
     "output_type": "display_data"
    }
   ],
   "source": [
    "def f(x): \n",
    "    return np.exp(-x)\n",
    "def g(x): \n",
    "    return np.exp(-x)+np.random.normal(0.,1)\n",
    "aa = np.linspace(0, 10, 100)\n",
    "bb = f(aa)\n",
    "cc = g(aa)\n",
    "dd = cc-bb\n",
    "plt.plot(aa, dd, 'b', linewidth=3)\n",
    "#plt.plot(aa, cc, 'r', linewidth=3)\n",
    "plt.title('Differences')\n",
    "#plt.title('Function $x \\mapsto e^{-x}$')\n",
    "plt.xlabel(\"x values\")\n",
    "plt.show()"
   ]
  },
  {
   "cell_type": "markdown",
   "metadata": {},
   "source": [
    "**Bad scaling!** \n",
    "\n",
    "If you want to compare 2 graphs, not only plot the differences, but also what they originally look like."
   ]
  },
  {
   "cell_type": "markdown",
   "metadata": {
    "zanadu": {}
   },
   "source": [
    "#### Empirical histogram"
   ]
  },
  {
   "cell_type": "code",
   "execution_count": 46,
   "metadata": {
    "zanadu": {
     "code_type": "",
     "is_hidden": false
    }
   },
   "outputs": [
    {
     "data": {
      "image/png": "[encoded data removed]",
      "text/plain": [
       "<Figure size 640x480 with 1 Axes>"
      ]
     },
     "metadata": {},
     "output_type": "display_data"
    }
   ],
   "source": [
    "xx = np.random.normal(size=20000)\n",
    "\n",
    "plt.hist(xx, bins=50)\n",
    "plt.title('Empirical histogram of a Gaussian sample')\n",
    "plt.show()"
   ]
  },
  {
   "cell_type": "markdown",
   "metadata": {
    "zanadu": {}
   },
   "source": [
    "#### Scatter plot"
   ]
  },
  {
   "cell_type": "code",
   "execution_count": 47,
   "metadata": {
    "zanadu": {
     "code_type": "",
     "is_hidden": false
    }
   },
   "outputs": [
    {
     "data": {
      "image/png": "[encoded data removed]",
      "text/plain": [
       "<Figure size 1000x400 with 2 Axes>"
      ]
     },
     "metadata": {},
     "output_type": "display_data"
    }
   ],
   "source": [
    "n = 100000\n",
    "fig, ax = plt.subplots(nrows=1, ncols=2, figsize=(10, 4))\n",
    "plt.subplot(1, 2, 1)\n",
    "aa = np.random.normal(0., 3., n)\n",
    "bb = np.random.normal(0., 1., n)\n",
    "plt.scatter(aa, bb, color='r')\n",
    "plt.title('Scatter plot of a Gaussian sample')\n",
    "\n",
    "plt.subplot(1, 2, 2)\n",
    "aa = np.random.rand(n)\n",
    "bb = np.random.rand(n)\n",
    "plt.scatter(aa, bb, color='b')\n",
    "plt.title('Scatter plot of a Uniform sample')\n",
    "plt.show()"
   ]
  },
  {
   "cell_type": "markdown",
   "metadata": {
    "zanadu": {}
   },
   "source": [
    "#### 3D Plot"
   ]
  },
  {
   "cell_type": "code",
   "execution_count": 48,
   "metadata": {
    "zanadu": {
     "code_type": "",
     "is_hidden": false
    }
   },
   "outputs": [
    {
     "data": {
      "image/png": "[encoded data removed]",
      "text/plain": [
       "<Figure size 640x480 with 1 Axes>"
      ]
     },
     "metadata": {},
     "output_type": "display_data"
    }
   ],
   "source": [
    "from mpl_toolkits.mplot3d import Axes3D\n",
    "fig = plt.figure()\n",
    "ax = fig.add_subplot(projection='3d')\n",
    "XX = np.arange(-5, 5, 0.5)\n",
    "YY = np.arange(-5, 5, 0.5)\n",
    "XX, YY = np.meshgrid(XX, YY)\n",
    "ZZ = XX**2 - YY**2\n",
    "surf = ax.plot_surface(XX, YY, ZZ, rstride=1, cstride=1)\n",
    "plt.show()"
   ]
  },
  {
   "cell_type": "markdown",
   "metadata": {
    "zanadu": {}
   },
   "source": [
    "### Seaborn"
   ]
  },
  {
   "cell_type": "markdown",
   "metadata": {
    "zanadu": {}
   },
   "source": [
    "Seaborn, introduced in 2012, provides an application programming interface (API) on top of matplotlib, with similar tools, but that can be called directly from a pandas DataFrame.\n",
    "\n",
    "https://seaborn.pydata.org/"
   ]
  },
  {
   "cell_type": "markdown",
   "metadata": {
    "zanadu": {}
   },
   "source": [
    "#### Seaborn vs matplotlib"
   ]
  },
  {
   "cell_type": "code",
   "execution_count": 49,
   "metadata": {
    "zanadu": {
     "code_type": ""
    }
   },
   "outputs": [],
   "source": [
    "import matplotlib.pyplot as plt\n",
    "plt.style.use('classic')\n",
    "%matplotlib inline"
   ]
  },
  {
   "cell_type": "code",
   "execution_count": 50,
   "metadata": {
    "zanadu": {
     "code_type": ""
    }
   },
   "outputs": [
    {
     "data": {
      "image/png": "[encoded data removed]",
      "text/plain": [
       "<Figure size 640x480 with 1 Axes>"
      ]
     },
     "metadata": {},
     "output_type": "display_data"
    }
   ],
   "source": [
    "n, p = 1000, 5\n",
    "xx = np.linspace(0., 1., n)\n",
    "yy = np.cumsum(np.random.randn(n, p), axis=0)\n",
    "plt.plot(xx, yy)\n",
    "plt.legend('ABCDEF', ncol=2, loc=\"best\")\n",
    "plt.title(\"matplotlib Plot\")\n",
    "plt.show()"
   ]
  },
  {
   "cell_type": "markdown",
   "metadata": {},
   "source": [
    "*Beware of legend location*"
   ]
  },
  {
   "cell_type": "code",
   "execution_count": 51,
   "metadata": {
    "zanadu": {
     "code_type": ""
    }
   },
   "outputs": [
    {
     "data": {
      "image/png": "[encoded data removed]",
      "text/plain": [
       "<Figure size 640x480 with 1 Axes>"
      ]
     },
     "metadata": {},
     "output_type": "display_data"
    }
   ],
   "source": [
    "import seaborn as sns\n",
    "sns.set()\n",
    "# same plotting code as above!\n",
    "plt.plot(xx, yy)\n",
    "plt.legend('ABCEF', ncol=2, loc='upper left')\n",
    "plt.title(\"seaborn Plot\")\n",
    "plt.show()"
   ]
  },
  {
   "cell_type": "markdown",
   "metadata": {
    "zanadu": {}
   },
   "source": [
    "#### Seaborn tools"
   ]
  },
  {
   "cell_type": "markdown",
   "metadata": {
    "zanadu": {}
   },
   "source": [
    "##### Histograms"
   ]
  },
  {
   "cell_type": "code",
   "execution_count": 52,
   "metadata": {
    "zanadu": {
     "code_type": ""
    }
   },
   "outputs": [
    {
     "data": {
      "image/png": "[encoded data removed]",
      "text/plain": [
       "<Figure size 640x480 with 1 Axes>"
      ]
     },
     "metadata": {},
     "output_type": "display_data"
    }
   ],
   "source": [
    "meanVector = [0., 0.]\n",
    "covMatrix = [[5., 2.], [2., 2.]]\n",
    "data = np.random.multivariate_normal(meanVector, covMatrix, size=10000)\n",
    "data = pd.DataFrame(data, columns=['x', 'y'])\n",
    "\n",
    "for col in 'xy':\n",
    "    plt.hist(data[col], density=False, alpha=0.3, label=col)\n",
    "plt.legend('loc=best')\n",
    "plt.title('Empirical marginal distributions')\n",
    "plt.show()"
   ]
  },
  {
   "cell_type": "code",
   "execution_count": 53,
   "metadata": {
    "zanadu": {
     "code_type": ""
    }
   },
   "outputs": [
    {
     "name": "stderr",
     "output_type": "stream",
     "text": [
      "/var/folders/zr/fgntnd8166vbjcz3v3pjw4cm0000gn/T/ipykernel_25997/1975029645.py:2: FutureWarning: \n",
      "\n",
      "`shade` is now deprecated in favor of `fill`; setting `fill=True`.\n",
      "This will become an error in seaborn v0.14.0; please update your code.\n",
      "\n",
      "  sns.kdeplot(data[col], shade=True).set_title(\"Empirical marginal distributions\")\n",
      "/var/folders/zr/fgntnd8166vbjcz3v3pjw4cm0000gn/T/ipykernel_25997/1975029645.py:2: FutureWarning: \n",
      "\n",
      "`shade` is now deprecated in favor of `fill`; setting `fill=True`.\n",
      "This will become an error in seaborn v0.14.0; please update your code.\n",
      "\n",
      "  sns.kdeplot(data[col], shade=True).set_title(\"Empirical marginal distributions\")\n"
     ]
    },
    {
     "data": {
      "image/png": "[encoded data removed]",
      "text/plain": [
       "<Figure size 640x480 with 1 Axes>"
      ]
     },
     "metadata": {},
     "output_type": "display_data"
    }
   ],
   "source": [
    "for col in 'xy':\n",
    "    sns.kdeplot(data[col], shade=True).set_title(\"Empirical marginal distributions\")"
   ]
  },
  {
   "cell_type": "markdown",
   "metadata": {},
   "source": [
    "https://seaborn.pydata.org/generated/seaborn.histplot.html"
   ]
  },
  {
   "cell_type": "code",
   "execution_count": 54,
   "metadata": {
    "zanadu": {
     "code_type": ""
    }
   },
   "outputs": [
    {
     "data": {
      "image/png": "[encoded data removed]",
      "text/plain": [
       "<Figure size 640x480 with 1 Axes>"
      ]
     },
     "metadata": {},
     "output_type": "display_data"
    }
   ],
   "source": [
    "sns.histplot(data['x'], label='x', color=\"r\", alpha=0.5, stat=\"probability\")\n",
    "sns.histplot(data['y'], label='y', color=\"b\", alpha=0.5, stat=\"probability\")\n",
    "plt.legend(loc='best')\n",
    "plt.show()"
   ]
  },
  {
   "cell_type": "markdown",
   "metadata": {
    "zanadu": {}
   },
   "source": [
    "##### Visualising the data in 2D"
   ]
  },
  {
   "cell_type": "code",
   "execution_count": null,
   "metadata": {},
   "outputs": [],
   "source": [
    "data.head()"
   ]
  },
  {
   "cell_type": "code",
   "execution_count": null,
   "metadata": {
    "zanadu": {
     "code_type": ""
    }
   },
   "outputs": [],
   "source": [
    "sns.kdeplot(data=data,x='x',y='y')"
   ]
  },
  {
   "cell_type": "code",
   "execution_count": null,
   "metadata": {
    "zanadu": {
     "code_type": ""
    }
   },
   "outputs": [],
   "source": [
    "with sns.axes_style('white'):\n",
    "    sns.jointplot(x=\"x\", y=\"y\", data=data, kind='kde');"
   ]
  },
  {
   "cell_type": "code",
   "execution_count": null,
   "metadata": {
    "zanadu": {
     "code_type": ""
    }
   },
   "outputs": [],
   "source": [
    "with sns.axes_style('white'):\n",
    "    sns.jointplot(x=\"x\", y=\"y\", data=data, kind='hex')"
   ]
  },
  {
   "cell_type": "code",
   "execution_count": null,
   "metadata": {
    "zanadu": {
     "code_type": ""
    }
   },
   "outputs": [],
   "source": [
    "### With a linear regression added\n",
    "with sns.axes_style('white'):\n",
    "    sns.jointplot(x=\"x\", y=\"y\", data=data, kind='reg')"
   ]
  },
  {
   "cell_type": "markdown",
   "metadata": {},
   "source": [
    "### Plotly\n",
    "\n",
    "Plotly provides online graphing, analytics, and statistics tools, as well as scientific graphing libraries.\n",
    "https://plotly.com/"
   ]
  },
  {
   "cell_type": "code",
   "execution_count": null,
   "metadata": {},
   "outputs": [],
   "source": [
    "## %pip install plotly"
   ]
  },
  {
   "cell_type": "code",
   "execution_count": null,
   "metadata": {},
   "outputs": [],
   "source": [
    "import yahoo_fin.stock_info as si\n",
    "aapl = si.get_data(\"aapl\")\n",
    "aapl.head()"
   ]
  },
  {
   "cell_type": "code",
   "execution_count": null,
   "metadata": {},
   "outputs": [],
   "source": [
    "ax = aapl['close'].plot(legend=True)"
   ]
  },
  {
   "cell_type": "code",
   "execution_count": null,
   "metadata": {},
   "outputs": [],
   "source": [
    "fig = ax.get_figure()\n",
    "import plotly.offline as py\n",
    "import plotly.graph_objs as go\n",
    "py.init_notebook_mode()\n",
    "py.iplot_mpl(fig, strip_style=True)"
   ]
  },
  {
   "cell_type": "markdown",
   "metadata": {},
   "source": [
    "Another type of plot in `plotly`:"
   ]
  },
  {
   "cell_type": "code",
   "execution_count": null,
   "metadata": {},
   "outputs": [],
   "source": [
    "df = pd.read_excel('Class 2022-2023.xlsx')\n",
    "## Disclaimer: randomly generated data\n",
    "#df = df.set_index(\"ID\")\n",
    "df.head()"
   ]
  },
  {
   "cell_type": "code",
   "execution_count": null,
   "metadata": {},
   "outputs": [],
   "source": [
    "variable = \"Gender\"\n",
    "series = df.groupby(by=[variable]).count().mean(axis=1)\n",
    "print(series.index)\n",
    "print(series.values)"
   ]
  },
  {
   "cell_type": "code",
   "execution_count": null,
   "metadata": {},
   "outputs": [],
   "source": [
    "trace0 = go.Bar(\n",
    "        x=series.index,\n",
    "        y=series.values,\n",
    "        name='Last year')\n",
    "\n",
    "data = [trace0]\n",
    "\n",
    "layout = {\n",
    "        'title': 'MSc Math Finance 2022-2023',\n",
    "        'xaxis': {'title': variable},\n",
    "        'yaxis': {'title': 'Number'},\n",
    "        'barmode': 'stack'}\n",
    "\n",
    "py.iplot({'data': data, 'layout': layout})"
   ]
  },
  {
   "cell_type": "markdown",
   "metadata": {},
   "source": [
    "### Bokeh\n",
    "\n",
    "`bokeh` helps you create interactive visualisations for modern web browsers.\n",
    "\n",
    "https://docs.bokeh.org/\n",
    "\n",
    "(likely origin: https://en.wikipedia.org/wiki/Bokeh)"
   ]
  },
  {
   "cell_type": "code",
   "execution_count": null,
   "metadata": {},
   "outputs": [],
   "source": [
    "## %pip install bokeh"
   ]
  },
  {
   "cell_type": "code",
   "execution_count": null,
   "metadata": {},
   "outputs": [],
   "source": [
    "import bokeh.plotting\n",
    "import bokeh.io\n",
    "import numpy as np"
   ]
  },
  {
   "cell_type": "code",
   "execution_count": null,
   "metadata": {},
   "outputs": [],
   "source": [
    "bokeh.io.output_notebook()"
   ]
  },
  {
   "cell_type": "code",
   "execution_count": null,
   "metadata": {},
   "outputs": [],
   "source": [
    "N = 4000\n",
    "x = np.random.random(size=N) * 100\n",
    "y = np.random.random(size=N) * 100\n",
    "radii = np.random.random(size=N) * 1.5\n",
    "colors = ['#%02x%02x%02x' % (int(r), int(g), 150) for r, g in zip(np.floor(50+2*x), np.floor(30+2*y))]\n",
    "p = bokeh.plotting.figure()\n",
    "p.circle(x, y, radius=radii, fill_color=colors, fill_alpha=.5, line_color=None)\n",
    "bokeh.plotting.show(p)"
   ]
  },
  {
   "cell_type": "markdown",
   "metadata": {},
   "source": [
    "#### Slider's example"
   ]
  },
  {
   "cell_type": "code",
   "execution_count": 2,
   "metadata": {},
   "outputs": [
    {
     "ename": "ImportError",
     "evalue": "cannot import name 'widgetbox' from 'bokeh.layouts' (/opt/homebrew/lib/python3.9/site-packages/bokeh/layouts.py)",
     "output_type": "error",
     "traceback": [
      "\u001b[0;31m---------------------------------------------------------------------------\u001b[0m",
      "\u001b[0;31mImportError\u001b[0m                               Traceback (most recent call last)",
      "Cell \u001b[0;32mIn [2], line 3\u001b[0m\n\u001b[1;32m      1\u001b[0m \u001b[39m# import bokeh.plotting.figure as bk_figure\u001b[39;00m\n\u001b[1;32m      2\u001b[0m \u001b[39mfrom\u001b[39;00m \u001b[39mbokeh\u001b[39;00m\u001b[39m.\u001b[39;00m\u001b[39mio\u001b[39;00m \u001b[39mimport\u001b[39;00m curdoc, show\n\u001b[0;32m----> 3\u001b[0m \u001b[39mfrom\u001b[39;00m \u001b[39mbokeh\u001b[39;00m\u001b[39m.\u001b[39;00m\u001b[39mlayouts\u001b[39;00m \u001b[39mimport\u001b[39;00m row, widgetbox\n\u001b[1;32m      4\u001b[0m \u001b[39mfrom\u001b[39;00m \u001b[39mbokeh\u001b[39;00m\u001b[39m.\u001b[39;00m\u001b[39mmodels\u001b[39;00m \u001b[39mimport\u001b[39;00m ColumnDataSource\n\u001b[1;32m      5\u001b[0m \u001b[39mfrom\u001b[39;00m \u001b[39mbokeh\u001b[39;00m\u001b[39m.\u001b[39;00m\u001b[39mmodels\u001b[39;00m\u001b[39m.\u001b[39;00m\u001b[39mwidgets\u001b[39;00m \u001b[39mimport\u001b[39;00m Slider, TextInput\n",
      "\u001b[0;31mImportError\u001b[0m: cannot import name 'widgetbox' from 'bokeh.layouts' (/opt/homebrew/lib/python3.9/site-packages/bokeh/layouts.py)"
     ]
    }
   ],
   "source": [
    "# import bokeh.plotting.figure as bk_figure\n",
    "from bokeh.io import curdoc, show\n",
    "from bokeh.layouts import row, widgetbox\n",
    "from bokeh.models import ColumnDataSource\n",
    "from bokeh.models.widgets import Slider, TextInput\n",
    "from bokeh.io import output_notebook # enables plot interface in J notebook\n",
    "\n",
    "from bokeh.application import Application\n",
    "from bokeh.application.handlers import FunctionHandler\n",
    "\n",
    "# Set up data\n",
    "n = 2000\n",
    "xx = np.linspace(-2.*np.pi, 2.*np.pi, n)\n",
    "yy = np.cos(xx)\n",
    "source = ColumnDataSource(data=dict(x=xx, y=yy))\n",
    "\n",
    "# Set up plot\n",
    "plot = bk_figure(plot_height=400, plot_width=400, title=\"Jack's wave\",\n",
    "              tools=\"crosshair,pan,reset,save,wheel_zoom\",\n",
    "              x_range=[np.min(xx), np.max(xx)], y_range=[np.min(yy), np.max(yy)])\n",
    "\n",
    "plot.line('x', 'y', source=source, line_width=3, line_alpha=0.6)\n",
    "\n",
    "# Set up widgets\n",
    "text = TextInput(title=\"title\", value='Sin function')\n",
    "offset = Slider(title=\"offset\", value=0.0, start=-5.0, end=5.0, step=0.1)\n",
    "amplitude = Slider(title=\"amplitude\", value=1.0, start=-5.0, end=5.0, step=0.1)\n",
    "phase = Slider(title=\"phase\", value=0.0, start=0.0, end=2*np.pi)\n",
    "freq = Slider(title=\"frequency\", value=1.0, start=0.1, end=5.1, step=0.1)\n",
    "\n",
    "# Set up callbacks\n",
    "def update_title(attrname, old, new):\n",
    "    plot.title.text = text.value\n",
    "\n",
    "def update_data(attrname, old, new):\n",
    "    # Get the current slider values\n",
    "    a = amplitude.value\n",
    "    b = offset.value\n",
    "    w = phase.value\n",
    "    k = freq.value\n",
    "\n",
    "    # Generate the new curve\n",
    "    newyy = a*np.sin(k*xx + w) + b\n",
    "\n",
    "    source.data = dict(x=xx, y=newyy)\n",
    "\n",
    "for w in [offset, amplitude, phase, freq]:\n",
    "    w.on_change('value', update_data)\n",
    "\n",
    "# Set up layouts and add to document\n",
    "inputs = widgetbox(text, offset, amplitude, phase, freq)\n",
    "layout = row(plot, widgetbox(text, offset, amplitude, phase, freq))\n",
    "\n",
    "def modify_doc(doc):\n",
    "    doc.add_root(row(layout, width=800))\n",
    "    doc.title = \"Sliders\"\n",
    "    text.on_change('value', update_title)\n",
    "\n",
    "handler = FunctionHandler(modify_doc)\n",
    "show(Application(handler))"
   ]
  },
  {
   "cell_type": "markdown",
   "metadata": {},
   "source": [
    "**Useful for analysing how BS option price changes with T, K, $\\sigma$, etc.**"
   ]
  },
  {
   "cell_type": "markdown",
   "metadata": {},
   "source": [
    "### Sweetviz"
   ]
  },
  {
   "cell_type": "code",
   "execution_count": null,
   "metadata": {},
   "outputs": [],
   "source": [
    "##%pip install ipywidgets\n",
    "##%pip install sweetviz\n",
    "##%pip install IProgress"
   ]
  },
  {
   "cell_type": "code",
   "execution_count": null,
   "metadata": {},
   "outputs": [],
   "source": [
    "import sweetviz as sv\n",
    "analy = sv.analyze(aapl)\n",
    "analy.show_html('analy.html')"
   ]
  },
  {
   "cell_type": "markdown",
   "metadata": {},
   "source": [
    "There exist many visualisation tools, and we will only discuss a few, the most popular:\n",
    "- `matplotlib` is a `Python` plotting library similar to MATLAB.\n",
    "- `pyplot` is a shell-like interface to `matplotlib`\n",
    "- `pylab` imports the `numpy` library, but is discouraged."
   ]
  },
  {
   "cell_type": "markdown",
   "metadata": {},
   "source": [
    "### Visualising time series"
   ]
  },
  {
   "cell_type": "code",
   "execution_count": null,
   "metadata": {},
   "outputs": [],
   "source": [
    "ticker = \"aapl\"\n",
    "df = si.get_data(ticker)#['open']\n",
    "df=df.dropna()\n",
    "df.head()"
   ]
  },
  {
   "cell_type": "code",
   "execution_count": null,
   "metadata": {},
   "outputs": [],
   "source": [
    "df[\"open\"].plot();"
   ]
  },
  {
   "cell_type": "markdown",
   "metadata": {},
   "source": [
    "**Question**: What is wrong with the graph above?"
   ]
  },
  {
   "cell_type": "code",
   "execution_count": null,
   "metadata": {},
   "outputs": [],
   "source": [
    "ticker = \"aapl\"\n",
    "df = si.get_data(ticker, start_date = \"01/01/2017\")\n",
    "df=df.dropna()"
   ]
  },
  {
   "cell_type": "code",
   "execution_count": null,
   "metadata": {},
   "outputs": [],
   "source": [
    "import matplotlib.pyplot as plt\n",
    "plt.style.use('seaborn-deep')\n",
    "ax = df[\"open\"].plot(figsize=(12, 5),fontsize=12,linewidth=3,linestyle='--')\n",
    "ax.set_xlabel('Date', fontsize=16)\n",
    "ax.set_ylabel('Value of Apple', fontsize=16)\n",
    "ax.set_title(\"Evolution of Apple\", fontsize=16)\n",
    "ax.axvspan('2018-09-01', '2018-11-01', color='red', alpha=0.3)\n",
    "ax.axvspan('2020-01-01', '2020-02-01', color='red', alpha=0.3)\n",
    "ax.axvspan('2020-08-15', '2020-09-15', color='red', alpha=0.3)\n",
    "plt.show()"
   ]
  },
  {
   "cell_type": "markdown",
   "metadata": {},
   "source": [
    "***Clarity is key!!!***"
   ]
  },
  {
   "cell_type": "markdown",
   "metadata": {},
   "source": [
    "#### Visualising correlations"
   ]
  },
  {
   "cell_type": "markdown",
   "metadata": {},
   "source": [
    "Let's import all the daily data from the S&P500"
   ]
  },
  {
   "cell_type": "code",
   "execution_count": null,
   "metadata": {},
   "outputs": [],
   "source": [
    "sp = si.tickers_sp500()\n",
    "tickers = [\"aapl\", \"amzn\", \"ba\", \"BRK.A\", \"bac\", \"V\", \"baba\", \"pypl\", \"xom\", \"hal\", \"slb\", \"csco\", \"intc\", \"orcl\", \"ko\", \"cl\", \"pg\", \"wmt\"]\n",
    "goodtickers = []\n",
    "df = pd.DataFrame()\n",
    "\n",
    "for t in tickers:\n",
    "    try:\n",
    "        dfTicker = si.get_data(t)\n",
    "        dfTicker = dfTicker['open']\n",
    "        df = pd.concat([df, dfTicker], axis=1)\n",
    "        goodtickers.append(t)\n",
    "    except:\n",
    "        print(\"Ticker \", t, \" not available\")\n",
    "\n",
    "df=df.dropna()\n",
    "df.columns = goodtickers\n",
    "df.head()"
   ]
  },
  {
   "cell_type": "code",
   "execution_count": null,
   "metadata": {},
   "outputs": [],
   "source": [
    "import seaborn as sns\n",
    "\n",
    "corrmat = df.corr(method='pearson')\n",
    "np.round(corrmat, 2)"
   ]
  },
  {
   "cell_type": "code",
   "execution_count": null,
   "metadata": {},
   "outputs": [],
   "source": [
    "plt.plot(corrmat, 'o');"
   ]
  },
  {
   "cell_type": "code",
   "execution_count": null,
   "metadata": {},
   "outputs": [],
   "source": [
    "n = 10\n",
    "corrmat_subset = corrmat.iloc[:n, :n]\n",
    "corrmat_subset"
   ]
  },
  {
   "cell_type": "code",
   "execution_count": null,
   "metadata": {},
   "outputs": [],
   "source": [
    "plt.plot(corrmat_subset, 'o');"
   ]
  },
  {
   "cell_type": "code",
   "execution_count": null,
   "metadata": {},
   "outputs": [],
   "source": [
    "sns.heatmap(corrmat_subset);"
   ]
  },
  {
   "cell_type": "code",
   "execution_count": null,
   "metadata": {},
   "outputs": [],
   "source": [
    "sns.clustermap(corrmat_subset, figsize=(5,5));"
   ]
  },
  {
   "cell_type": "markdown",
   "metadata": {},
   "source": [
    "### Another example"
   ]
  },
  {
   "cell_type": "markdown",
   "metadata": {},
   "source": [
    "Source: \"https://www.udacity.com/api/nodes/4576183932/supplemental_media/chopstick-effectivenesscsv/download\"\n",
    "\n",
    "Article:\n",
    "S.-H. Hsu, S.-P. Wu: \"An investigation for determining the optimum length of chopsticks\"\n",
    " (Applied Ergonomics, Volume 22, Issue 6, December 1991, Pages 395-400)\n"
   ]
  },
  {
   "cell_type": "code",
   "execution_count": null,
   "metadata": {},
   "outputs": [],
   "source": [
    "import pandas as pd\n",
    "import matplotlib.pylab as plt\n",
    "df = pd.read_csv(\"chopstick.csv\")\n",
    "df.head()"
   ]
  },
  {
   "cell_type": "code",
   "execution_count": null,
   "metadata": {},
   "outputs": [],
   "source": [
    "df.plot(x=df.columns[2], y=df.columns[0], style='o');"
   ]
  },
  {
   "cell_type": "markdown",
   "metadata": {},
   "source": [
    "**Questions:**\n",
    "- How many chopsticks are used every year (mostly China and Japan)?\n",
    "- What is the environmental impact? https://en.wikipedia.org/wiki/Chopsticks#Global_impacts"
   ]
  },
  {
   "cell_type": "markdown",
   "metadata": {},
   "source": [
    "### Word Visualisation with WordCloud"
   ]
  },
  {
   "cell_type": "code",
   "execution_count": null,
   "metadata": {},
   "outputs": [],
   "source": [
    "#%pip install wordcloud"
   ]
  },
  {
   "cell_type": "code",
   "execution_count": null,
   "metadata": {},
   "outputs": [],
   "source": [
    "api = '878c5663b41f47dd95a62d2cb6e155cd'\n",
    "import requests\n",
    "import pprint\n",
    "url = 'https://newsapi.org/v2/everything?'\n",
    "parameters = {\n",
    "    'q': 'beer', # query phrase\n",
    "    'pageSize': 80,  # maximum is 100\n",
    "    'apiKey': api, # your own API key\n",
    "    'from': \"2022-10-23\" #\"2022-09-30\"\n",
    "}\n",
    "json = requests.get(url, params=parameters).json()\n",
    "pprint.pprint(json)\n",
    "\n",
    "for i in json['articles']:\n",
    "    print(i['title'])\n",
    "    \n",
    "from wordcloud import WordCloud\n",
    "import matplotlib.pyplot as plt\n",
    "\n",
    "allText = [str(i['title'] + ' ') for i in json['articles']][0]\n",
    "\n",
    "wordcloud = WordCloud(max_font_size=40).generate(allText)"
   ]
  },
  {
   "cell_type": "code",
   "execution_count": null,
   "metadata": {},
   "outputs": [],
   "source": [
    "plt.figure(figsize=(10, 8))\n",
    "plt.imshow(wordcloud, interpolation=\"bilinear\")\n",
    "plt.axis(\"off\")\n",
    "plt.show()"
   ]
  },
  {
   "cell_type": "markdown",
   "metadata": {},
   "source": [
    "# Big data visualisation"
   ]
  },
  {
   "cell_type": "markdown",
   "metadata": {},
   "source": [
    "- Extremely large (terabytes, petabytes, exabytes, zettabytes, ....)\n",
    "- Complex and unstructured\n",
    "\n",
    "Example of (free) large datasets: https://commoncrawl.org/"
   ]
  },
  {
   "cell_type": "markdown",
   "metadata": {},
   "source": [
    "Main obstacles to big data visualisation:\n",
    "- Speed\n",
    "- Image quality\n",
    "\n",
    "We will be using the following database: https://s3.amazonaws.com/datashader-data/nyc_taxi_wide.parq\n",
    "\n",
    "Full details here: https://examples.pyviz.org/nyc_taxi/nyc_taxi.html\n",
    "\n",
    "\n",
    "`python` tools for data science: \n",
    "- https://www.simplilearn.com/top-python-libraries-for-data-science-article\n",
    "- `pySPark` (https://spark.apache.org/docs/latest/api/python/)"
   ]
  },
  {
   "cell_type": "code",
   "execution_count": null,
   "metadata": {},
   "outputs": [],
   "source": [
    "#%pip install dask"
   ]
  },
  {
   "cell_type": "code",
   "execution_count": null,
   "metadata": {},
   "outputs": [],
   "source": [
    "import dask.dataframe as dd\n",
    "\n",
    "usecols = ['dropoff_x','dropoff_y','pickup_x','pickup_y','dropoff_hour','pickup_hour','passenger_count']\n",
    "df = dd.read_parquet('nyc_taxi_wide.parq')[usecols].persist()\n",
    "df.tail()"
   ]
  },
  {
   "cell_type": "code",
   "execution_count": null,
   "metadata": {},
   "outputs": [],
   "source": [
    "df.size"
   ]
  },
  {
   "cell_type": "markdown",
   "metadata": {},
   "source": [
    "## `holoviews`"
   ]
  },
  {
   "cell_type": "code",
   "execution_count": null,
   "metadata": {},
   "outputs": [],
   "source": [
    "## %pip install holoviews"
   ]
  },
  {
   "cell_type": "code",
   "execution_count": null,
   "metadata": {},
   "outputs": [],
   "source": [
    "import numpy as np\n",
    "import holoviews as hv\n",
    "from holoviews import opts\n",
    "from holoviews.element.tiles import StamenTerrain\n",
    "hv.extension('bokeh')"
   ]
  },
  {
   "cell_type": "code",
   "execution_count": null,
   "metadata": {},
   "outputs": [],
   "source": [
    "plot_width  = int(750)\n",
    "plot_height = int(plot_width//1.2)\n",
    "x_range, y_range =(-8242000,-8210000), (4965000,4990000)\n",
    "plot_options = hv.Options(width=plot_width, height=plot_height, xaxis=None, yaxis=None)\n",
    "opts.defaults(\n",
    "    opts.Points(width=plot_width, height=plot_height, size=5, color='blue'),\n",
    "    opts.Overlay(width=plot_width, height=plot_height, xaxis=None, yaxis=None),\n",
    "    opts.RGB(width=plot_width, height=plot_height))\n",
    "tiles = StamenTerrain().redim.range(x=x_range, y=y_range)"
   ]
  },
  {
   "cell_type": "code",
   "execution_count": null,
   "metadata": {},
   "outputs": [],
   "source": [
    "samples = df.sample(frac=1e-4)\n",
    "points_dropoff = hv.Points(samples, ['dropoff_x', 'dropoff_y'])\n",
    "plot_dropoff = (tiles * points_dropoff.opts(color='b'))\n",
    "print (\"Number of sample points: \", len(samples.index))"
   ]
  },
  {
   "cell_type": "code",
   "execution_count": null,
   "metadata": {},
   "outputs": [],
   "source": [
    "plot_dropoff"
   ]
  },
  {
   "cell_type": "markdown",
   "metadata": {},
   "source": [
    "### `datashader`"
   ]
  },
  {
   "cell_type": "code",
   "execution_count": null,
   "metadata": {},
   "outputs": [],
   "source": [
    "## %pip install datashader"
   ]
  },
  {
   "cell_type": "code",
   "execution_count": null,
   "metadata": {},
   "outputs": [],
   "source": [
    "import datashader as ds\n",
    "from datashader import transfer_functions as tf\n",
    "from datashader.colors import Greys9\n",
    "Greys9_r = list(reversed(Greys9))[:-2]\n",
    "cvs = ds.Canvas(plot_width=plot_width, plot_height=plot_height, x_range=x_range, y_range=y_range)\n",
    "agg = cvs.points(df, 'dropoff_x', 'dropoff_y',  ds.count('passenger_count'))\n",
    "img = tf.shade(agg, cmap=[\"white\", 'darkblue'], how='linear')"
   ]
  },
  {
   "cell_type": "code",
   "execution_count": null,
   "metadata": {},
   "outputs": [],
   "source": [
    "img"
   ]
  },
  {
   "cell_type": "code",
   "execution_count": null,
   "metadata": {},
   "outputs": [],
   "source": [
    "frequencies, edges = np.histogram(agg.values, bins=100)\n",
    "hv.Histogram((edges, frequencies)).opts(width=800).redim.range(Frequency=(0,80))"
   ]
  },
  {
   "cell_type": "code",
   "execution_count": null,
   "metadata": {},
   "outputs": [],
   "source": [
    "import holoviews.operation.datashader as hd\n",
    "from datashader.colors import Hot\n",
    "shaded = hd.datashade(hv.Points(df, ['dropoff_x', 'dropoff_y']), cmap=Hot, aggregator=ds.count('passenger_count'))\n",
    "hd.dynspread(shaded, threshold=0.5, max_px=4).opts(bgcolor='black', xaxis=None, yaxis=None, width=900, height=500)"
   ]
  },
  {
   "cell_type": "markdown",
   "metadata": {},
   "source": [
    "## Further Reading"
   ]
  },
  {
   "cell_type": "markdown",
   "metadata": {},
   "source": [
    "- Hans Rosling: <a href=\"https://www.ted.com/talks/hans_rosling_the_best_stats_you_ve_ever_seen\">\"The best stats you've ever seen\"</a> (2006).\n",
    "- J. Matejka, G.  Fitzmaurice: <a href=\"https://damassets.autodesk.net/content/dam/autodesk/www/autodesk-reasearch/Publications/pdf/same-stats-different-graphs.pdf\">Same Stats, Different Graphs: Generating Datasets with Varied Appearance and Identical Statistics through Simulated Annealing</a> (2017).\n",
    "- C. Nussbaumer Knaflic. Storytelling with data: a data visualization guide for business professionals (2015).\n",
    "- E.R. Tufte. The Visual Display of Quantitative Information, second edition (2001).\n",
    "- E.R. Tufte. Visual Explanations: Images and Quantities, Evidence and Narrative (1997).\n",
    "    "
   ]
  }
 ],
 "metadata": {
  "kernelspec": {
   "display_name": "Python 3.9.6 64-bit",
   "language": "python",
   "name": "python3"
  },
  "language_info": {
   "codemirror_mode": {
    "name": "ipython",
    "version": 3
   },
   "file_extension": ".py",
   "mimetype": "text/x-python",
   "name": "python",
   "nbconvert_exporter": "python",
   "pygments_lexer": "ipython3",
   "version": "3.9.6"
  },
  "latex_envs": {
   "LaTeX_envs_menu_present": true,
   "autoclose": false,
   "autocomplete": true,
   "bibliofile": "biblio.bib",
   "cite_by": "apalike",
   "current_citInitial": 1,
   "eqLabelWithNumbers": true,
   "eqNumInitial": 1,
   "hotkeys": {
    "equation": "Ctrl-E",
    "itemize": "Ctrl-I"
   },
   "labels_anchors": false,
   "latex_user_defs": false,
   "report_style_numbering": false,
   "user_envs_cfg": false
  },
  "toc": {
   "base_numbering": 1,
   "nav_menu": {},
   "number_sections": true,
   "sideBar": true,
   "skip_h1_title": true,
   "title_cell": "Table of Contents",
   "title_sidebar": "Contents",
   "toc_cell": true,
   "toc_position": {
    "height": "calc(100% - 180px)",
    "left": "10px",
    "top": "150px",
    "width": "341.146px"
   },
   "toc_section_display": true,
   "toc_window_display": true
  },
  "vscode": {
   "interpreter": {
    "hash": "b0fa6594d8f4cbf19f97940f81e996739fb7646882a419484c72d19e05852a7e"
   }
  }
 },
 "nbformat": 4,
 "nbformat_minor": 4
}
